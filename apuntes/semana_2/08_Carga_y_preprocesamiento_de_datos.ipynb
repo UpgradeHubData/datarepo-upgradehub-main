{
  "cells": [
    {
      "cell_type": "markdown",
      "metadata": {
        "id": "6wbnG5XrcZ7q"
      },
      "source": [
        "# 8 - Carga y preprocesamiento de datos\n",
        "\n",
        "Una parte esencial de los procesos de *machine learning*, y que las distingue de forma esencial del aprendizaje profundo, es el preprocesamiento de datos. En este último, es la propia arquitectura del modelo la que, con una conveniente preparación de hiperparámetros y ajuste de capas, se encarga de abstraer, priorizar y manipular la información subyacente de los datos introducidos.\n",
        "\n",
        "Sin embargo, en los modelos de *machine learning*, debe existir un amplio proceso de preprocesado de datos, del cual depende en gran parte el rendimiento de nuestro modelo. A lo largo de este *notebook*, descubriremos algunas de las técnicas más importantes que cualquier científico de datos debe conocer, para que los datos puedan ser empleados en modelos predictivos."
      ]
    },
    {
      "cell_type": "markdown",
      "metadata": {
        "id": "hZwT5pfdebdv"
      },
      "source": [
        "## 8.1 - Apertura, lectura y escritura de datos\n",
        "\n",
        "Nos limitaremos a estudiar la ingesta de datos tabulares o de texto plano, que son los que se emplean en los modelos predictivos que estudiaremos."
      ]
    },
    {
      "cell_type": "markdown",
      "metadata": {
        "id": "vStlWbZ_fc2u"
      },
      "source": [
        "### Ficheros `txt`\n",
        "\n",
        "Un Texto plano (*plain text*), son aquellos archivos formados exclusivamente por texto (sólo caracteres), sin ningún formato; es decir, no requieren ser interpretados para leerse (aunque pueden ser procesados en algunos casos). También son llamados archivos de texto llano, simple o sin formato.\n",
        "\n",
        "Comenzaremos por aprender a descargar ficheros desde cualquier URL, una actividad muy útil para no tener que tener previamente cargados ficheros en memoria y que toda la actividad discurra durante la ejecución del código en el directorio activo:"
      ]
    },
    {
      "cell_type": "code",
      "execution_count": null,
      "metadata": {
        "id": "Ml-tCUxEcWw-"
      },
      "outputs": [],
      "source": [
        "# Librerías\n",
        "import os # Para obtener el directorio activo\n",
        "import requests # Para descargar ficheros\n",
        "\n",
        "# Preparamos una URL\n",
        "URL = 'https://raw.githubusercontent.com/brunoklein99/deep-learning-notes/master/shakespeare.txt'\n",
        "\n",
        "# Descargamos el fichero\n",
        "with requests.get(URL) as response:\n",
        "    open(os.path.join(os.getcwd(), 'shakespeare_sonnet.txt'), \"wb\").write(response.content)"
      ]
    },
    {
      "cell_type": "markdown",
      "metadata": {
        "id": "460cOpmMhUns"
      },
      "source": [
        "Pasamos a continuación a estudiar cómo abrir, leer y escribir dichos ficheros:\n",
        "* Apertura:\n",
        "  * Abrir fichero de lectura: `f = open(\"fichero.txt\", \"r\")`\n",
        "  * Abrir fichero de lectura en binario: `f = open(\"fichero.txt\", \"rb\")`\n",
        "  * Abrir fichero para escribir desde cero: `f = open (\"fichero.txt\", \"w\")`\n",
        "* Lectura:\n",
        "  * Lectura de todo el fichero de golpe: `text = f.read()`\n",
        "  * Lectura de 100 bytes: `text = f.read(100)`\n",
        "  * Lectura de una línea completa: `text = f.readline()`\n",
        "  * Lectura de líneas completas: `text = f.readlines()`\n",
        "* Escritura:\n",
        "  * Escritura del fichero: `f.write('sample_file.txt')`\n",
        "\n",
        "Es habitual, como hicimos con anterioridad para la descarga de ficheros, usar el *statement* `with` para no tener que realizar asignaciones de variables para la apertura de ficheros, ni tener que explícitamente declarar su cierre:"
      ]
    },
    {
      "cell_type": "code",
      "execution_count": null,
      "metadata": {
        "id": "N2c73Ra8g2NO"
      },
      "outputs": [],
      "source": [
        "# Apertura y lectura de fichero\n",
        "with open(os.path.join(os.getcwd(), 'shakespeare_sonnet.txt'),'r') as f:\n",
        "    text = f.read()"
      ]
    },
    {
      "cell_type": "markdown",
      "metadata": {
        "id": "-Ud2RsgxjL-6"
      },
      "source": [
        "Si realizamos una impresión por pantalla de la variable `text`, encontraremos algo como lo siguiente:\n",
        "\n",
        "```txt\n",
        "THE SONNETS\\n\\nby William Shakespeare\\n\\nFrom fairest creatures we desire increase,\\nThat thereby beauty's rose might never die,\\nBut as the riper should by time decease,\\nHis tender heir might bear his memory:\\nBut thou contracted to thine own bright eyes,\\nFeed'st thy light's flame with self-substantial fuel,...\n",
        "```\n",
        "\n",
        "Te proponemos como ejercicio averiguar de qué forma se puede conseguir que este texto luzca sin los saltos de línea impresos, y en su lugar resulte en una lista cuyos elementos sean las líneas del texto.\n",
        "<details>\n",
        "<summary>\n",
        "Pincha aquí para ver la solución\n",
        "</summary>\n",
        "text = f.read().splitlines()"
      ]
    },
    {
      "cell_type": "markdown",
      "metadata": {
        "id": "QVvh0DE6lLs3"
      },
      "source": [
        "Veamos finalmente cómo guardarlos:"
      ]
    },
    {
      "cell_type": "code",
      "execution_count": null,
      "metadata": {
        "id": "gV4ZZw_ylsHm"
      },
      "outputs": [],
      "source": [
        "with open(os.path.join(os.getcwd(), 'nuevo_fichero.txt'), 'w') as f:\n",
        "    f.write('Has perdido')"
      ]
    },
    {
      "cell_type": "markdown",
      "metadata": {
        "id": "-nbWgJaDktvY"
      },
      "source": [
        "### Ficheros `csv`\n",
        "\n",
        "En este caso, con la ayuda de la librería `csv`, seremos capaces de mimetizar la lectura de ficheros `txt` ya conocida:"
      ]
    },
    {
      "cell_type": "code",
      "execution_count": null,
      "metadata": {
        "id": "u-JFxQBSipig"
      },
      "outputs": [],
      "source": [
        "# Librería\n",
        "import csv\n",
        "\n",
        "# Descargamos el fichero\n",
        "URL = 'https://raw.githubusercontent.com/codeforamerica/ohana-api/master/data/sample-csv/addresses.csv'\n",
        "with requests.get(URL) as response:\n",
        "    open(os.path.join(os.getcwd(), 'sample_file.csv'), \"wb\").write(response.content)\n",
        " \n",
        "# Abrimos y leemos el fichero\n",
        "csv_filas = [] # Iremos acumulando las filas del fichero en una lista\n",
        "with open(os.path.join(os.getcwd(), 'sample_file.csv'), newline='') as File:  \n",
        "    reader = csv.reader(File)\n",
        "    for row in reader:\n",
        "        csv_filas.append(row)\n",
        "\n",
        "# Escribimos el fichero, que automáticamente interpreta que la primera lista\n",
        "# de nuestra cadena serán los títulos de las columnas, y las sucesivas sus valores\n",
        "with open('nuevo_fichero.csv', 'w') as myFile:\n",
        "    writer = csv.writer(myFile)\n",
        "    writer.writerows(csv_filas)"
      ]
    },
    {
      "cell_type": "markdown",
      "metadata": {
        "id": "bIediRd25dtl"
      },
      "source": [
        "Por otra parte, la librería `pandas` proporciona un método bastante conocido para importar este tipo de ficheros, que exploraremos en detalle en la próxia sección:"
      ]
    },
    {
      "cell_type": "code",
      "execution_count": null,
      "metadata": {
        "id": "42vFxCI-5mjm"
      },
      "outputs": [],
      "source": [
        "# Librería\n",
        "import pandas as pd\n",
        "# Método para importar\n",
        "data = pd.read_csv(os.path.join(os.getcwd(), 'sample_file.csv'))"
      ]
    },
    {
      "cell_type": "markdown",
      "metadata": {
        "id": "K_zCbkGcnfJl"
      },
      "source": [
        "### Ficheros `json`\n",
        "\n",
        "De una forma similar, la librería `json` nos permite adaptar la manipulación de ficheros sin formato a ficheros de tipo serializado, que se identifican en nuestro lenguaje con los diccionarios:"
      ]
    },
    {
      "cell_type": "code",
      "execution_count": null,
      "metadata": {
        "colab": {
          "base_uri": "https://localhost:8080/"
        },
        "id": "BIrtlAZhnp5f",
        "outputId": "0e424d9c-f81c-4312-ed30-166b21dba9ae"
      },
      "outputs": [
        {
          "name": "stdout",
          "output_type": "stream",
          "text": [
            "{'pets': [{'name': 'Purrsloud', 'species': 'Cat', 'favFoods': ['wet food', 'dry food', '<strong>any</strong> food'], 'birthYear': 2016, 'photo': 'https://learnwebcode.github.io/json-example/images/cat-2.jpg'}, {'name': 'Barksalot', 'species': 'Dog', 'birthYear': 2008, 'photo': 'https://learnwebcode.github.io/json-example/images/dog-1.jpg'}, {'name': 'Meowsalot', 'species': 'Cat', 'favFoods': ['tuna', 'catnip', 'celery'], 'birthYear': 2012, 'photo': 'https://learnwebcode.github.io/json-example/images/cat-1.jpg'}]}\n"
          ]
        }
      ],
      "source": [
        "# Librería\n",
        "import json\n",
        "\n",
        "# Descargamos el fichero\n",
        "URL = 'https://raw.githubusercontent.com/LearnWebCode/json-example/master/pets-data.json'\n",
        "with requests.get(URL) as response:\n",
        "    open(os.path.join(os.getcwd(), 'sample_file.json'), \"wb\").write(response.content)\n",
        " \n",
        "# Abrimos y leemos el fichero\n",
        "with open(os.path.join(os.getcwd(), 'sample_file.json')) as f:  \n",
        "    dictionary = json.load(f)\n",
        "\n",
        "# Visualizamos el diccionario subyacente\n",
        "print(dictionary)\n",
        "\n",
        "# Escribimos el fichero sin modificaciones, con un nuevo nombre\n",
        "with open(\"nuevo_fichero.json\", \"w\") as outfile:\n",
        "    json.dump(dictionary, outfile)"
      ]
    },
    {
      "cell_type": "markdown",
      "metadata": {
        "id": "d2x5SQA6CjgJ"
      },
      "source": [
        "### (Avanzado) Ficheros `data`\n",
        "\n",
        "Es muy habitual que, debido al tamaño de determinados conjuntos de datos, posean una codificación particular que haga su gestión más eficiente. Es el caso de numerosos bancos de datos, como el que forma el [gran repositorio](https://archive.ics.uci.edu/ml/datasets.php) de la Universidad de California, Irvine (*UCI*).\n",
        "\n",
        "Seleccionando cualquiera de los *datasets*, apreciamos que nos aparecen dos tipos de ficheros: el `.data` y el `.names`. El primero de ellos contiene el cuerpo de los datos, y el segundo los metadatos asociados, en particular los nombres de las columnas.\n",
        "\n",
        "A continuación, vamos a descargarlos de una forma más *natural*, que es por comandos de Linux por consola."
      ]
    },
    {
      "cell_type": "code",
      "execution_count": null,
      "metadata": {
        "colab": {
          "base_uri": "https://localhost:8080/"
        },
        "id": "s91y7SOzCp24",
        "outputId": "54ba408d-faa3-4075-e886-561820f1d526"
      },
      "outputs": [
        {
          "name": "stdout",
          "output_type": "stream",
          "text": [
            "/content/flag_dataset\n",
            "--2022-06-09 18:50:10--  https://archive.ics.uci.edu/ml/machine-learning-databases/flags/flag.data\n",
            "Resolving archive.ics.uci.edu (archive.ics.uci.edu)... 128.195.10.252\n",
            "Connecting to archive.ics.uci.edu (archive.ics.uci.edu)|128.195.10.252|:443... connected.\n",
            "HTTP request sent, awaiting response... 200 OK\n",
            "Length: 15240 (15K) [application/x-httpd-php]\n",
            "Saving to: ‘flag.data’\n",
            "\n",
            "flag.data           100%[===================>]  14.88K  --.-KB/s    in 0.06s   \n",
            "\n",
            "2022-06-09 18:50:11 (237 KB/s) - ‘flag.data’ saved [15240/15240]\n",
            "\n",
            "--2022-06-09 18:50:11--  https://archive.ics.uci.edu/ml/machine-learning-databases/flags/flag.names\n",
            "Resolving archive.ics.uci.edu (archive.ics.uci.edu)... 128.195.10.252\n",
            "Connecting to archive.ics.uci.edu (archive.ics.uci.edu)|128.195.10.252|:443... connected.\n",
            "HTTP request sent, awaiting response... 200 OK\n",
            "Length: 3005 (2.9K) [application/x-httpd-php]\n",
            "Saving to: ‘flag.names’\n",
            "\n",
            "flag.names          100%[===================>]   2.93K  --.-KB/s    in 0s      \n",
            "\n",
            "2022-06-09 18:50:11 (123 MB/s) - ‘flag.names’ saved [3005/3005]\n",
            "\n"
          ]
        }
      ],
      "source": [
        "# Creamos una carpeta para que contenga a nuestro dataset\n",
        "!mkdir /content/flag_dataset\n",
        "# Movemos el directorio activo a esa localización\n",
        "%cd /content/flag_dataset\n",
        "# Descargamos el fichero que contiene los datos a nuestro directorio activo\n",
        "!wget https://archive.ics.uci.edu/ml/machine-learning-databases/flags/flag.data\n",
        "# Descargamos la metadata asociada al conjunto de datos\n",
        "!wget https://archive.ics.uci.edu/ml/machine-learning-databases/flags/flag.names"
      ]
    },
    {
      "cell_type": "markdown",
      "metadata": {
        "id": "DjZ8QfsmS6_y"
      },
      "source": [
        "¿Te has dado cuenta de que hemos usado dos símbolos distintos. `!` y `%`, para invocar instrucciones de Linux? La razón de ello es que, cuando usamos el primero, todas las acciones que se lleven acabo tendrán validez mientras dure esa línea de ejecución, pero los cambios que se hagan con el segundo serán **permanentes**. Es por eso que, como queremos que el directorio activo se cambie de forma prolongada, lo usamos en tal caso.\n",
        "\n",
        "Vamos ahora a leer ambos ficheros, prestando particular atención a la metadata, que es de donde debemos saber cómo extraer los nomrbes de las columnas:"
      ]
    },
    {
      "cell_type": "code",
      "execution_count": null,
      "metadata": {
        "id": "ZRN0TPM9C1j5"
      },
      "outputs": [],
      "source": [
        "# Leemos datos\n",
        "with open('flag.data','r') as f:\n",
        "    data = f.read().splitlines() # Dividimos el texto por saltos de línea\n",
        "    data = [elem.split(',') for elem in data] # Dividimos cada línea por las comas y removemos líneas vacías\n",
        "# Leemos metadata\n",
        "with open('flag.names','r') as f:\n",
        "    metadata = f.read().splitlines()"
      ]
    },
    {
      "cell_type": "code",
      "execution_count": null,
      "metadata": {
        "colab": {
          "base_uri": "https://localhost:8080/"
        },
        "id": "Q45QODDcSRG1",
        "outputId": "42523e00-acac-4552-e6bb-1fdb885e3cdc"
      },
      "outputs": [
        {
          "data": {
            "text/plain": [
              "['1. TItle: Flag database',\n",
              " '',\n",
              " '2. Source Information',\n",
              " '   -- Creators: Collected primarily from the \"Collins Gem Guide to Flags\":',\n",
              " '      Collins Publishers (1986).',\n",
              " '   -- Donor: Richard S. Forsyth ',\n",
              " '             8 Grosvenor Avenue',\n",
              " '             Mapperley Park',\n",
              " '             Nottingham NG3 5DX',\n",
              " '             0602-621676',\n",
              " '   -- Date: 5/15/1990',\n",
              " '',\n",
              " '3. Past Usage:',\n",
              " \"   -- None known other than what is shown in Forsyth's PC/BEAGLE User's Guide.\",\n",
              " '',\n",
              " '4. Relevant Information:',\n",
              " '   -- This data file contains details of various nations and their flags.',\n",
              " '      In this file the fields are separated by spaces (not commas).  With',\n",
              " '      this data you can try things like predicting the religion of a country',\n",
              " '      from its size and the colours in its flag.  ',\n",
              " '   -- 10 attributes are numeric-valued.  The remainder are either Boolean-',\n",
              " '      or nominal-valued.',\n",
              " '',\n",
              " '5. Number of Instances: 194',\n",
              " '',\n",
              " '6. Number of attributes: 30 (overall)',\n",
              " '',\n",
              " '7. Attribute Information:',\n",
              " '   1. name\\tName of the country concerned',\n",
              " '   2. landmass\\t1=N.America, 2=S.America, 3=Europe, 4=Africa, 4=Asia, 6=Oceania',\n",
              " '   3. zone\\tGeographic quadrant, based on Greenwich and the Equator',\n",
              " '                1=NE, 2=SE, 3=SW, 4=NW',\n",
              " '   4. area\\tin thousands of square km',\n",
              " '   5. population\\tin round millions',\n",
              " '   6. language 1=English, 2=Spanish, 3=French, 4=German, 5=Slavic, 6=Other ',\n",
              " '               Indo-European, 7=Chinese, 8=Arabic, ',\n",
              " '               9=Japanese/Turkish/Finnish/Magyar, 10=Others',\n",
              " '   7. religion 0=Catholic, 1=Other Christian, 2=Muslim, 3=Buddhist, 4=Hindu,',\n",
              " '               5=Ethnic, 6=Marxist, 7=Others',\n",
              " '   8. bars     Number of vertical bars in the flag',\n",
              " '   9. stripes  Number of horizontal stripes in the flag',\n",
              " '  10. colours  Number of different colours in the flag',\n",
              " '  11. red      0 if red absent, 1 if red present in the flag',\n",
              " '  12. green    same for green',\n",
              " '  13. blue     same for blue',\n",
              " '  14. gold     same for gold (also yellow)',\n",
              " '  15. white    same for white',\n",
              " '  16. black    same for black',\n",
              " '  17. orange   same for orange (also brown)',\n",
              " '  18. mainhue  predominant colour in the flag (tie-breaks decided by taking',\n",
              " '               the topmost hue, if that fails then the most central hue,',\n",
              " '               and if that fails the leftmost hue)',\n",
              " '  19. circles  Number of circles in the flag',\n",
              " '  20. crosses  Number of (upright) crosses',\n",
              " '  21. saltires Number of diagonal crosses',\n",
              " '  22. quarters Number of quartered sections',\n",
              " '  23. sunstars Number of sun or star symbols',\n",
              " '  24. crescent 1 if a crescent moon symbol present, else 0',\n",
              " '  25. triangle 1 if any triangles present, 0 otherwise',\n",
              " '  26. icon     1 if an inanimate image present (e.g., a boat), otherwise 0',\n",
              " '  27. animate  1 if an animate image (e.g., an eagle, a tree, a human hand)',\n",
              " '               present, 0 otherwise',\n",
              " '  28. text     1 if any letters or writing on the flag (e.g., a motto or',\n",
              " '               slogan), 0 otherwise',\n",
              " '  29. topleft  colour in the top-left corner (moving right to decide ',\n",
              " '               tie-breaks)',\n",
              " '  30. botright Colour in the bottom-left corner (moving left to decide ',\n",
              " '               tie-breaks)',\n",
              " '',\n",
              " '8. Missing values: None']"
            ]
          },
          "execution_count": 9,
          "metadata": {},
          "output_type": "execute_result"
        }
      ],
      "source": [
        "metadata"
      ]
    },
    {
      "cell_type": "markdown",
      "metadata": {
        "id": "iPnoyJz_TCDh"
      },
      "source": [
        "Como podemos apreciar, tanto el nombre como la descripción de las columnas se caracterizan por:\n",
        "\n",
        "* Vienen especificadas en la sección `7. Attribute Information`.\n",
        "* Llevan un espacio introductorio, proseguido por:\n",
        "  * Unos dígitos.\n",
        "  * Un punto.\n",
        "  * Nombre de la columna.\n",
        "  * Espacio en blanco.\n",
        "  * Descripción.\n",
        "\n",
        "Esta descripción, aunque evidente, forma parte del análisis preciso para extraer información a partir de lo que se conoce como **espresiones regulares** (`regex`), en las cuales se localizan cadenas de texto a partir de determinados patrones preestablecidos.\n",
        "\n",
        "Procederemos ahora mediante su uso a extraer de forma elegante todos los nombre de las columnas del conjunto de datos:"
      ]
    },
    {
      "cell_type": "code",
      "execution_count": null,
      "metadata": {
        "id": "97TedhX_UdtI"
      },
      "outputs": [],
      "source": [
        "# Librería para el uso de expresiones regulares\n",
        "import re\n",
        "\n",
        "# Expresión regular que cumple todos los requisitos anteriores\n",
        "## '\\s{1}' sirve para detectar exactamente un espacio\n",
        "## '\\s+' sirve para detectar uno o más espacios\n",
        "## '\\d+' sirve para detectar uno o más dígitos\n",
        "## [.] sirve para localizar exactamente un punto\n",
        "## '[a-zA-Z]+' sirve para detectar cadenas de texto no vacías con letras del alfabeto\n",
        "regex_fn = lambda text: re.findall('^\\s+\\d+[.]\\s{1}[a-zA-Z]+', text)\n",
        "\n",
        "# Aplicamos la expresión regular en forma de lambda a al metadata\n",
        "# Téngase en cuenta que el método findall devuelve una lista vacía\n",
        "# si ninguna expresión coincide con el patrón introducido\n",
        "metadata = [regex_fn(elem)[0] for elem in metadata if regex_fn(elem)]"
      ]
    },
    {
      "cell_type": "markdown",
      "metadata": {
        "id": "nFk2hfqSYZ4N"
      },
      "source": [
        "Observemos cómo, en efecto, hemos obtenido todos los nombres de las columnas:"
      ]
    },
    {
      "cell_type": "code",
      "execution_count": null,
      "metadata": {
        "colab": {
          "base_uri": "https://localhost:8080/"
        },
        "id": "o7I8jY40XurM",
        "outputId": "fce80036-453f-49fd-fb26-87f28ab1678f"
      },
      "outputs": [
        {
          "data": {
            "text/plain": [
              "['   1. name',\n",
              " '   2. landmass',\n",
              " '   3. zone',\n",
              " '   4. area',\n",
              " '   5. population',\n",
              " '   6. language',\n",
              " '   7. religion',\n",
              " '   8. bars',\n",
              " '   9. stripes',\n",
              " '  10. colours',\n",
              " '  11. red',\n",
              " '  12. green',\n",
              " '  13. blue',\n",
              " '  14. gold',\n",
              " '  15. white',\n",
              " '  16. black',\n",
              " '  17. orange',\n",
              " '  18. mainhue',\n",
              " '  19. circles',\n",
              " '  20. crosses',\n",
              " '  21. saltires',\n",
              " '  22. quarters',\n",
              " '  23. sunstars',\n",
              " '  24. crescent',\n",
              " '  25. triangle',\n",
              " '  26. icon',\n",
              " '  27. animate',\n",
              " '  28. text',\n",
              " '  29. topleft',\n",
              " '  30. botright']"
            ]
          },
          "execution_count": 11,
          "metadata": {},
          "output_type": "execute_result"
        }
      ],
      "source": [
        "metadata"
      ]
    },
    {
      "cell_type": "markdown",
      "metadata": {
        "id": "bjmh0vATYisE"
      },
      "source": [
        "Ahora simplemente nos queda extraer la cadena de texto que queremos, y construir un objeto `pd.DataFrame` para su manipulación:"
      ]
    },
    {
      "cell_type": "code",
      "execution_count": null,
      "metadata": {
        "colab": {
          "base_uri": "https://localhost:8080/",
          "height": 236
        },
        "id": "iDLuPilcYpIb",
        "outputId": "5af2fed8-6b88-4907-8cd8-94690068bcc9"
      },
      "outputs": [
        {
          "data": {
            "text/html": [
              "\n",
              "  <div id=\"df-c5585f76-d8c3-4b40-86e8-37d6d9db04ba\">\n",
              "    <div class=\"colab-df-container\">\n",
              "      <div>\n",
              "<style scoped>\n",
              "    .dataframe tbody tr th:only-of-type {\n",
              "        vertical-align: middle;\n",
              "    }\n",
              "\n",
              "    .dataframe tbody tr th {\n",
              "        vertical-align: top;\n",
              "    }\n",
              "\n",
              "    .dataframe thead th {\n",
              "        text-align: right;\n",
              "    }\n",
              "</style>\n",
              "<table border=\"1\" class=\"dataframe\">\n",
              "  <thead>\n",
              "    <tr style=\"text-align: right;\">\n",
              "      <th></th>\n",
              "      <th>name</th>\n",
              "      <th>landmass</th>\n",
              "      <th>zone</th>\n",
              "      <th>area</th>\n",
              "      <th>population</th>\n",
              "      <th>language</th>\n",
              "      <th>religion</th>\n",
              "      <th>bars</th>\n",
              "      <th>stripes</th>\n",
              "      <th>colours</th>\n",
              "      <th>...</th>\n",
              "      <th>saltires</th>\n",
              "      <th>quarters</th>\n",
              "      <th>sunstars</th>\n",
              "      <th>crescent</th>\n",
              "      <th>triangle</th>\n",
              "      <th>icon</th>\n",
              "      <th>animate</th>\n",
              "      <th>text</th>\n",
              "      <th>topleft</th>\n",
              "      <th>botright</th>\n",
              "    </tr>\n",
              "  </thead>\n",
              "  <tbody>\n",
              "    <tr>\n",
              "      <th>0</th>\n",
              "      <td>Afghanistan</td>\n",
              "      <td>5</td>\n",
              "      <td>1</td>\n",
              "      <td>648</td>\n",
              "      <td>16</td>\n",
              "      <td>10</td>\n",
              "      <td>2</td>\n",
              "      <td>0</td>\n",
              "      <td>3</td>\n",
              "      <td>5</td>\n",
              "      <td>...</td>\n",
              "      <td>0</td>\n",
              "      <td>0</td>\n",
              "      <td>1</td>\n",
              "      <td>0</td>\n",
              "      <td>0</td>\n",
              "      <td>1</td>\n",
              "      <td>0</td>\n",
              "      <td>0</td>\n",
              "      <td>black</td>\n",
              "      <td>green</td>\n",
              "    </tr>\n",
              "    <tr>\n",
              "      <th>1</th>\n",
              "      <td>Albania</td>\n",
              "      <td>3</td>\n",
              "      <td>1</td>\n",
              "      <td>29</td>\n",
              "      <td>3</td>\n",
              "      <td>6</td>\n",
              "      <td>6</td>\n",
              "      <td>0</td>\n",
              "      <td>0</td>\n",
              "      <td>3</td>\n",
              "      <td>...</td>\n",
              "      <td>0</td>\n",
              "      <td>0</td>\n",
              "      <td>1</td>\n",
              "      <td>0</td>\n",
              "      <td>0</td>\n",
              "      <td>0</td>\n",
              "      <td>1</td>\n",
              "      <td>0</td>\n",
              "      <td>red</td>\n",
              "      <td>red</td>\n",
              "    </tr>\n",
              "    <tr>\n",
              "      <th>2</th>\n",
              "      <td>Algeria</td>\n",
              "      <td>4</td>\n",
              "      <td>1</td>\n",
              "      <td>2388</td>\n",
              "      <td>20</td>\n",
              "      <td>8</td>\n",
              "      <td>2</td>\n",
              "      <td>2</td>\n",
              "      <td>0</td>\n",
              "      <td>3</td>\n",
              "      <td>...</td>\n",
              "      <td>0</td>\n",
              "      <td>0</td>\n",
              "      <td>1</td>\n",
              "      <td>1</td>\n",
              "      <td>0</td>\n",
              "      <td>0</td>\n",
              "      <td>0</td>\n",
              "      <td>0</td>\n",
              "      <td>green</td>\n",
              "      <td>white</td>\n",
              "    </tr>\n",
              "    <tr>\n",
              "      <th>3</th>\n",
              "      <td>American-Samoa</td>\n",
              "      <td>6</td>\n",
              "      <td>3</td>\n",
              "      <td>0</td>\n",
              "      <td>0</td>\n",
              "      <td>1</td>\n",
              "      <td>1</td>\n",
              "      <td>0</td>\n",
              "      <td>0</td>\n",
              "      <td>5</td>\n",
              "      <td>...</td>\n",
              "      <td>0</td>\n",
              "      <td>0</td>\n",
              "      <td>0</td>\n",
              "      <td>0</td>\n",
              "      <td>1</td>\n",
              "      <td>1</td>\n",
              "      <td>1</td>\n",
              "      <td>0</td>\n",
              "      <td>blue</td>\n",
              "      <td>red</td>\n",
              "    </tr>\n",
              "    <tr>\n",
              "      <th>4</th>\n",
              "      <td>Andorra</td>\n",
              "      <td>3</td>\n",
              "      <td>1</td>\n",
              "      <td>0</td>\n",
              "      <td>0</td>\n",
              "      <td>6</td>\n",
              "      <td>0</td>\n",
              "      <td>3</td>\n",
              "      <td>0</td>\n",
              "      <td>3</td>\n",
              "      <td>...</td>\n",
              "      <td>0</td>\n",
              "      <td>0</td>\n",
              "      <td>0</td>\n",
              "      <td>0</td>\n",
              "      <td>0</td>\n",
              "      <td>0</td>\n",
              "      <td>0</td>\n",
              "      <td>0</td>\n",
              "      <td>blue</td>\n",
              "      <td>red</td>\n",
              "    </tr>\n",
              "  </tbody>\n",
              "</table>\n",
              "<p>5 rows × 30 columns</p>\n",
              "</div>\n",
              "      <button class=\"colab-df-convert\" onclick=\"convertToInteractive('df-c5585f76-d8c3-4b40-86e8-37d6d9db04ba')\"\n",
              "              title=\"Convert this dataframe to an interactive table.\"\n",
              "              style=\"display:none;\">\n",
              "        \n",
              "  <svg xmlns=\"http://www.w3.org/2000/svg\" height=\"24px\"viewBox=\"0 0 24 24\"\n",
              "       width=\"24px\">\n",
              "    <path d=\"M0 0h24v24H0V0z\" fill=\"none\"/>\n",
              "    <path d=\"M18.56 5.44l.94 2.06.94-2.06 2.06-.94-2.06-.94-.94-2.06-.94 2.06-2.06.94zm-11 1L8.5 8.5l.94-2.06 2.06-.94-2.06-.94L8.5 2.5l-.94 2.06-2.06.94zm10 10l.94 2.06.94-2.06 2.06-.94-2.06-.94-.94-2.06-.94 2.06-2.06.94z\"/><path d=\"M17.41 7.96l-1.37-1.37c-.4-.4-.92-.59-1.43-.59-.52 0-1.04.2-1.43.59L10.3 9.45l-7.72 7.72c-.78.78-.78 2.05 0 2.83L4 21.41c.39.39.9.59 1.41.59.51 0 1.02-.2 1.41-.59l7.78-7.78 2.81-2.81c.8-.78.8-2.07 0-2.86zM5.41 20L4 18.59l7.72-7.72 1.47 1.35L5.41 20z\"/>\n",
              "  </svg>\n",
              "      </button>\n",
              "      \n",
              "  <style>\n",
              "    .colab-df-container {\n",
              "      display:flex;\n",
              "      flex-wrap:wrap;\n",
              "      gap: 12px;\n",
              "    }\n",
              "\n",
              "    .colab-df-convert {\n",
              "      background-color: #E8F0FE;\n",
              "      border: none;\n",
              "      border-radius: 50%;\n",
              "      cursor: pointer;\n",
              "      display: none;\n",
              "      fill: #1967D2;\n",
              "      height: 32px;\n",
              "      padding: 0 0 0 0;\n",
              "      width: 32px;\n",
              "    }\n",
              "\n",
              "    .colab-df-convert:hover {\n",
              "      background-color: #E2EBFA;\n",
              "      box-shadow: 0px 1px 2px rgba(60, 64, 67, 0.3), 0px 1px 3px 1px rgba(60, 64, 67, 0.15);\n",
              "      fill: #174EA6;\n",
              "    }\n",
              "\n",
              "    [theme=dark] .colab-df-convert {\n",
              "      background-color: #3B4455;\n",
              "      fill: #D2E3FC;\n",
              "    }\n",
              "\n",
              "    [theme=dark] .colab-df-convert:hover {\n",
              "      background-color: #434B5C;\n",
              "      box-shadow: 0px 1px 3px 1px rgba(0, 0, 0, 0.15);\n",
              "      filter: drop-shadow(0px 1px 2px rgba(0, 0, 0, 0.3));\n",
              "      fill: #FFFFFF;\n",
              "    }\n",
              "  </style>\n",
              "\n",
              "      <script>\n",
              "        const buttonEl =\n",
              "          document.querySelector('#df-c5585f76-d8c3-4b40-86e8-37d6d9db04ba button.colab-df-convert');\n",
              "        buttonEl.style.display =\n",
              "          google.colab.kernel.accessAllowed ? 'block' : 'none';\n",
              "\n",
              "        async function convertToInteractive(key) {\n",
              "          const element = document.querySelector('#df-c5585f76-d8c3-4b40-86e8-37d6d9db04ba');\n",
              "          const dataTable =\n",
              "            await google.colab.kernel.invokeFunction('convertToInteractive',\n",
              "                                                     [key], {});\n",
              "          if (!dataTable) return;\n",
              "\n",
              "          const docLinkHtml = 'Like what you see? Visit the ' +\n",
              "            '<a target=\"_blank\" href=https://colab.research.google.com/notebooks/data_table.ipynb>data table notebook</a>'\n",
              "            + ' to learn more about interactive tables.';\n",
              "          element.innerHTML = '';\n",
              "          dataTable['output_type'] = 'display_data';\n",
              "          await google.colab.output.renderOutput(dataTable, element);\n",
              "          const docLink = document.createElement('div');\n",
              "          docLink.innerHTML = docLinkHtml;\n",
              "          element.appendChild(docLink);\n",
              "        }\n",
              "      </script>\n",
              "    </div>\n",
              "  </div>\n",
              "  "
            ],
            "text/plain": [
              "             name landmass zone  area population language religion bars  \\\n",
              "0     Afghanistan        5    1   648         16       10        2    0   \n",
              "1         Albania        3    1    29          3        6        6    0   \n",
              "2         Algeria        4    1  2388         20        8        2    2   \n",
              "3  American-Samoa        6    3     0          0        1        1    0   \n",
              "4         Andorra        3    1     0          0        6        0    3   \n",
              "\n",
              "  stripes colours  ... saltires quarters sunstars crescent triangle icon  \\\n",
              "0       3       5  ...        0        0        1        0        0    1   \n",
              "1       0       3  ...        0        0        1        0        0    0   \n",
              "2       0       3  ...        0        0        1        1        0    0   \n",
              "3       0       5  ...        0        0        0        0        1    1   \n",
              "4       0       3  ...        0        0        0        0        0    0   \n",
              "\n",
              "  animate text topleft botright  \n",
              "0       0    0   black    green  \n",
              "1       1    0     red      red  \n",
              "2       0    0   green    white  \n",
              "3       1    0    blue      red  \n",
              "4       0    0    blue      red  \n",
              "\n",
              "[5 rows x 30 columns]"
            ]
          },
          "execution_count": 12,
          "metadata": {},
          "output_type": "execute_result"
        }
      ],
      "source": [
        "# Expresión regular para filtrar el texto concreto\n",
        "reg_text_fn = lambda text : re.findall('[a-zA-Z]+', text)\n",
        "col_names = [reg_text_fn(elem)[0] for elem in metadata if regex_fn(elem)]\n",
        "# Construimos el objeto pd.DataFrame\n",
        "df = pd.DataFrame(data=data, columns=col_names)\n",
        "df.head()"
      ]
    },
    {
      "cell_type": "markdown",
      "metadata": {
        "id": "xnafY-VQVsm_"
      },
      "source": [
        "Ya estaríamos pues en condiciones de procesar cualquier conjunto de datos de UCI, a falta de retocar algunos detalles menores dependiendo de cada conjunto de datos como veremos en la última sección. Para un conocimiento más exhaustivo de las expresiones regulares, el siguiente [recurso](https://www.w3schools.com/python/python_regex.asp) proporciona una gran cantidad de información al respecto."
      ]
    },
    {
      "cell_type": "markdown",
      "metadata": {
        "id": "U7SEL5s22Tah"
      },
      "source": [
        "## 8.2 - Procesamiento de datos\n",
        "\n",
        "Una vez hemos conseguido adquirir datos, es hora de manipularlos. Para ello, es importante entender que existen esencialmente dos grandes tipos de variables:\n",
        "\n",
        "* Continuas: Son aquellas que pueden tomar una cantidad indefinida de valores. \n",
        "* Discretas: Son aquellas que toman una cantidad **finita** de valores.\n",
        "\n",
        "Es muy frecuente establecer la asociación entre variables continuas y numéricas, y variables discretas y categóricas. Pero, nada más lejos de la realidad, podemos tener variables numéricas tales como la edad que son discretas, o una cadena de texto arbitraria, que puede tomar una cantidad indefinida de valores."
      ]
    },
    {
      "cell_type": "markdown",
      "metadata": {
        "id": "y4MneY1NlShF"
      },
      "source": [
        "### Lectura y manipulación del *dataset*\n",
        "\n",
        "Tomaremos como primera instancia de cómo manipular este tipo de datos uno de los proporcionados por la librería `sklearn`, que será muchas veces usada a lo largo del curso:"
      ]
    },
    {
      "cell_type": "code",
      "execution_count": null,
      "metadata": {
        "id": "xHRpAkzx2V2_"
      },
      "outputs": [],
      "source": [
        "# Cargamos la utilidad necesaria de la librería\n",
        "from sklearn.datasets import fetch_california_housing\n",
        "# Cargamos los datos\n",
        "## El parámetro 'return_X_y' hace que no devuelva los metadatos asociados\n",
        "## y simplemente retorne las variables.\n",
        "## El parámetro 'as_frame' hace que nos devuelva un objeto pd.DataFrame\n",
        "X, y = fetch_california_housing(return_X_y = True, as_frame=True)"
      ]
    },
    {
      "cell_type": "markdown",
      "metadata": {
        "id": "m1ykbqbSkflm"
      },
      "source": [
        "Echemos un vistazo a las variables que contiene este conjunto de datos con el método `info()`:"
      ]
    },
    {
      "cell_type": "code",
      "execution_count": null,
      "metadata": {
        "colab": {
          "base_uri": "https://localhost:8080/"
        },
        "id": "t3fJWA1Fg3tC",
        "outputId": "eed93a82-da4e-474b-d076-f2637414b9c6"
      },
      "outputs": [
        {
          "name": "stdout",
          "output_type": "stream",
          "text": [
            "<class 'pandas.core.frame.DataFrame'>\n",
            "RangeIndex: 20640 entries, 0 to 20639\n",
            "Data columns (total 8 columns):\n",
            " #   Column      Non-Null Count  Dtype  \n",
            "---  ------      --------------  -----  \n",
            " 0   MedInc      20640 non-null  float64\n",
            " 1   HouseAge    20640 non-null  float64\n",
            " 2   AveRooms    20640 non-null  float64\n",
            " 3   AveBedrms   20640 non-null  float64\n",
            " 4   Population  20640 non-null  float64\n",
            " 5   AveOccup    20640 non-null  float64\n",
            " 6   Latitude    20640 non-null  float64\n",
            " 7   Longitude   20640 non-null  float64\n",
            "dtypes: float64(8)\n",
            "memory usage: 1.3 MB\n"
          ]
        }
      ],
      "source": [
        "X.info()"
      ]
    },
    {
      "cell_type": "markdown",
      "metadata": {
        "id": "gP5O4PGClasc"
      },
      "source": [
        "Veamos qué aspecto tienen las primeras filas del mismo:"
      ]
    },
    {
      "cell_type": "code",
      "execution_count": null,
      "metadata": {
        "colab": {
          "base_uri": "https://localhost:8080/",
          "height": 206
        },
        "id": "VDkJ6WZxlAsV",
        "outputId": "4e12f180-c3f5-4dbf-9d61-678e84a9d66c"
      },
      "outputs": [
        {
          "data": {
            "text/html": [
              "\n",
              "  <div id=\"df-3c9015d7-90eb-4d34-bc37-45c773923f37\">\n",
              "    <div class=\"colab-df-container\">\n",
              "      <div>\n",
              "<style scoped>\n",
              "    .dataframe tbody tr th:only-of-type {\n",
              "        vertical-align: middle;\n",
              "    }\n",
              "\n",
              "    .dataframe tbody tr th {\n",
              "        vertical-align: top;\n",
              "    }\n",
              "\n",
              "    .dataframe thead th {\n",
              "        text-align: right;\n",
              "    }\n",
              "</style>\n",
              "<table border=\"1\" class=\"dataframe\">\n",
              "  <thead>\n",
              "    <tr style=\"text-align: right;\">\n",
              "      <th></th>\n",
              "      <th>MedInc</th>\n",
              "      <th>HouseAge</th>\n",
              "      <th>AveRooms</th>\n",
              "      <th>AveBedrms</th>\n",
              "      <th>Population</th>\n",
              "      <th>AveOccup</th>\n",
              "      <th>Latitude</th>\n",
              "      <th>Longitude</th>\n",
              "    </tr>\n",
              "  </thead>\n",
              "  <tbody>\n",
              "    <tr>\n",
              "      <th>0</th>\n",
              "      <td>8.3252</td>\n",
              "      <td>41.0</td>\n",
              "      <td>6.984127</td>\n",
              "      <td>1.023810</td>\n",
              "      <td>322.0</td>\n",
              "      <td>2.555556</td>\n",
              "      <td>37.88</td>\n",
              "      <td>-122.23</td>\n",
              "    </tr>\n",
              "    <tr>\n",
              "      <th>1</th>\n",
              "      <td>8.3014</td>\n",
              "      <td>21.0</td>\n",
              "      <td>6.238137</td>\n",
              "      <td>0.971880</td>\n",
              "      <td>2401.0</td>\n",
              "      <td>2.109842</td>\n",
              "      <td>37.86</td>\n",
              "      <td>-122.22</td>\n",
              "    </tr>\n",
              "    <tr>\n",
              "      <th>2</th>\n",
              "      <td>7.2574</td>\n",
              "      <td>52.0</td>\n",
              "      <td>8.288136</td>\n",
              "      <td>1.073446</td>\n",
              "      <td>496.0</td>\n",
              "      <td>2.802260</td>\n",
              "      <td>37.85</td>\n",
              "      <td>-122.24</td>\n",
              "    </tr>\n",
              "    <tr>\n",
              "      <th>3</th>\n",
              "      <td>5.6431</td>\n",
              "      <td>52.0</td>\n",
              "      <td>5.817352</td>\n",
              "      <td>1.073059</td>\n",
              "      <td>558.0</td>\n",
              "      <td>2.547945</td>\n",
              "      <td>37.85</td>\n",
              "      <td>-122.25</td>\n",
              "    </tr>\n",
              "    <tr>\n",
              "      <th>4</th>\n",
              "      <td>3.8462</td>\n",
              "      <td>52.0</td>\n",
              "      <td>6.281853</td>\n",
              "      <td>1.081081</td>\n",
              "      <td>565.0</td>\n",
              "      <td>2.181467</td>\n",
              "      <td>37.85</td>\n",
              "      <td>-122.25</td>\n",
              "    </tr>\n",
              "  </tbody>\n",
              "</table>\n",
              "</div>\n",
              "      <button class=\"colab-df-convert\" onclick=\"convertToInteractive('df-3c9015d7-90eb-4d34-bc37-45c773923f37')\"\n",
              "              title=\"Convert this dataframe to an interactive table.\"\n",
              "              style=\"display:none;\">\n",
              "        \n",
              "  <svg xmlns=\"http://www.w3.org/2000/svg\" height=\"24px\"viewBox=\"0 0 24 24\"\n",
              "       width=\"24px\">\n",
              "    <path d=\"M0 0h24v24H0V0z\" fill=\"none\"/>\n",
              "    <path d=\"M18.56 5.44l.94 2.06.94-2.06 2.06-.94-2.06-.94-.94-2.06-.94 2.06-2.06.94zm-11 1L8.5 8.5l.94-2.06 2.06-.94-2.06-.94L8.5 2.5l-.94 2.06-2.06.94zm10 10l.94 2.06.94-2.06 2.06-.94-2.06-.94-.94-2.06-.94 2.06-2.06.94z\"/><path d=\"M17.41 7.96l-1.37-1.37c-.4-.4-.92-.59-1.43-.59-.52 0-1.04.2-1.43.59L10.3 9.45l-7.72 7.72c-.78.78-.78 2.05 0 2.83L4 21.41c.39.39.9.59 1.41.59.51 0 1.02-.2 1.41-.59l7.78-7.78 2.81-2.81c.8-.78.8-2.07 0-2.86zM5.41 20L4 18.59l7.72-7.72 1.47 1.35L5.41 20z\"/>\n",
              "  </svg>\n",
              "      </button>\n",
              "      \n",
              "  <style>\n",
              "    .colab-df-container {\n",
              "      display:flex;\n",
              "      flex-wrap:wrap;\n",
              "      gap: 12px;\n",
              "    }\n",
              "\n",
              "    .colab-df-convert {\n",
              "      background-color: #E8F0FE;\n",
              "      border: none;\n",
              "      border-radius: 50%;\n",
              "      cursor: pointer;\n",
              "      display: none;\n",
              "      fill: #1967D2;\n",
              "      height: 32px;\n",
              "      padding: 0 0 0 0;\n",
              "      width: 32px;\n",
              "    }\n",
              "\n",
              "    .colab-df-convert:hover {\n",
              "      background-color: #E2EBFA;\n",
              "      box-shadow: 0px 1px 2px rgba(60, 64, 67, 0.3), 0px 1px 3px 1px rgba(60, 64, 67, 0.15);\n",
              "      fill: #174EA6;\n",
              "    }\n",
              "\n",
              "    [theme=dark] .colab-df-convert {\n",
              "      background-color: #3B4455;\n",
              "      fill: #D2E3FC;\n",
              "    }\n",
              "\n",
              "    [theme=dark] .colab-df-convert:hover {\n",
              "      background-color: #434B5C;\n",
              "      box-shadow: 0px 1px 3px 1px rgba(0, 0, 0, 0.15);\n",
              "      filter: drop-shadow(0px 1px 2px rgba(0, 0, 0, 0.3));\n",
              "      fill: #FFFFFF;\n",
              "    }\n",
              "  </style>\n",
              "\n",
              "      <script>\n",
              "        const buttonEl =\n",
              "          document.querySelector('#df-3c9015d7-90eb-4d34-bc37-45c773923f37 button.colab-df-convert');\n",
              "        buttonEl.style.display =\n",
              "          google.colab.kernel.accessAllowed ? 'block' : 'none';\n",
              "\n",
              "        async function convertToInteractive(key) {\n",
              "          const element = document.querySelector('#df-3c9015d7-90eb-4d34-bc37-45c773923f37');\n",
              "          const dataTable =\n",
              "            await google.colab.kernel.invokeFunction('convertToInteractive',\n",
              "                                                     [key], {});\n",
              "          if (!dataTable) return;\n",
              "\n",
              "          const docLinkHtml = 'Like what you see? Visit the ' +\n",
              "            '<a target=\"_blank\" href=https://colab.research.google.com/notebooks/data_table.ipynb>data table notebook</a>'\n",
              "            + ' to learn more about interactive tables.';\n",
              "          element.innerHTML = '';\n",
              "          dataTable['output_type'] = 'display_data';\n",
              "          await google.colab.output.renderOutput(dataTable, element);\n",
              "          const docLink = document.createElement('div');\n",
              "          docLink.innerHTML = docLinkHtml;\n",
              "          element.appendChild(docLink);\n",
              "        }\n",
              "      </script>\n",
              "    </div>\n",
              "  </div>\n",
              "  "
            ],
            "text/plain": [
              "   MedInc  HouseAge  AveRooms  AveBedrms  Population  AveOccup  Latitude  \\\n",
              "0  8.3252      41.0  6.984127   1.023810       322.0  2.555556     37.88   \n",
              "1  8.3014      21.0  6.238137   0.971880      2401.0  2.109842     37.86   \n",
              "2  7.2574      52.0  8.288136   1.073446       496.0  2.802260     37.85   \n",
              "3  5.6431      52.0  5.817352   1.073059       558.0  2.547945     37.85   \n",
              "4  3.8462      52.0  6.281853   1.081081       565.0  2.181467     37.85   \n",
              "\n",
              "   Longitude  \n",
              "0    -122.23  \n",
              "1    -122.22  \n",
              "2    -122.24  \n",
              "3    -122.25  \n",
              "4    -122.25  "
            ]
          },
          "execution_count": 15,
          "metadata": {},
          "output_type": "execute_result"
        }
      ],
      "source": [
        "X.head()"
      ]
    },
    {
      "cell_type": "markdown",
      "metadata": {
        "id": "z34uJVRSkuul"
      },
      "source": [
        "Haciendo uso de la documentación, vemos que se corresponden con lo siguiente:\n",
        "\n",
        "```txt\n",
        "    :Attribute Information:\n",
        "        - MedInc        median income in block group\n",
        "        - HouseAge      median house age in block group\n",
        "        - AveRooms      average number of rooms per household\n",
        "        - AveBedrms     average number of bedrooms per household\n",
        "        - Population    block group population\n",
        "        - AveOccup      average number of household members\n",
        "        - Latitude      block group latitude\n",
        "        - Longitude     block group longitude\n",
        "\n",
        "```\n",
        "\n",
        "Observamos cómo variables como la **mediana** de la edad de las casas del bloque, así como la población de cada bloque, se pueden considerar discretas ya que se corresponden con números naturales (con muchos posibles valores, sí, pero **finitos**). Comenzaremos pues por convertir los valores de esas columnas a números enteros (es decir, variables de tipo `int`):"
      ]
    },
    {
      "cell_type": "code",
      "execution_count": null,
      "metadata": {
        "id": "OrRsS2Dfls_l"
      },
      "outputs": [],
      "source": [
        "# Variable HouseAge\n",
        "X['HouseAge'] = X['HouseAge'].astype('int')\n",
        "# Variable Population\n",
        "X['Population'] = X['Population'].astype('int')"
      ]
    },
    {
      "cell_type": "markdown",
      "metadata": {
        "id": "8GH3yx2Qm5w9"
      },
      "source": [
        "### Estudio de variables continuas\n",
        "\n",
        "Por una parte, las variables continuas poseen unos tipos de preprocesamiento más *elementales*:\n",
        "\n",
        "* Estandarización de sus valores a un intervalo $[a,b]$ (que normalmente es el $[0,1]$).\n",
        "* Estandarización de sus valores para tener media cero y varianza uno (*normalización*).\n",
        "\n",
        "Por cuestiones que trascenden a las competencias de este curso, generalmente se suele elegir el segundo frente al primero, aunque existen excepciones. Fijemos nuestra atención en una columna concreta del conjunto de datos y veamos cómo realizar ambas:"
      ]
    },
    {
      "cell_type": "code",
      "execution_count": null,
      "metadata": {
        "colab": {
          "base_uri": "https://localhost:8080/",
          "height": 282
        },
        "id": "fLLTPRVpl61h",
        "outputId": "62db41d6-9c02-47fa-e981-18a118b1d3d3"
      },
      "outputs": [
        {
          "data": {
            "text/plain": [
              "<matplotlib.axes._subplots.AxesSubplot at 0x7f6f5ca45dd0>"
            ]
          },
          "execution_count": 17,
          "metadata": {},
          "output_type": "execute_result"
        },
        {
          "data": {
            "image/png": "[encoded data removed]",
            "text/plain": [
              "<Figure size 432x288 with 1 Axes>"
            ]
          },
          "metadata": {
            "needs_background": "light"
          },
          "output_type": "display_data"
        }
      ],
      "source": [
        "# Tomamos como muestra la columna MedInc y esbozamos su distribución\n",
        "# con el método `plot` de los objetos DataFrame y Series de pandas\n",
        "X['MedInc'].hist(bins=50)"
      ]
    },
    {
      "cell_type": "markdown",
      "metadata": {
        "id": "piBJ621mpaDw"
      },
      "source": [
        "Comenzaremos por implementar la que nos lleva los valores de la muestra a un intervalo fijo $[0,1]$. Para ello, tendremos que realizar una transformación lineal que nos lleve el mínimo valor de la distribución al valor $0$, y el máximo a $1$, que será:"
      ]
    },
    {
      "cell_type": "code",
      "execution_count": null,
      "metadata": {
        "id": "6s13E7_fpAhn"
      },
      "outputs": [],
      "source": [
        "# Implementamos dicha función en términos de una lambda\n",
        "# por cuestione de optimización, aprovechando la vecto-\n",
        "# rización de operaciones disponible con numPy\n",
        "int_fn = lambda col: (col-min(col))/(max(col)-min(col))"
      ]
    },
    {
      "cell_type": "markdown",
      "metadata": {
        "id": "1AYKvbJqqMuI"
      },
      "source": [
        "Veamos ahora que, efectivamente, nuestros valores se encuentran en dicho intervalo:"
      ]
    },
    {
      "cell_type": "code",
      "execution_count": null,
      "metadata": {
        "colab": {
          "base_uri": "https://localhost:8080/",
          "height": 282
        },
        "id": "x-yIlY-1p-zH",
        "outputId": "1bc1ba49-de2d-48f3-e927-45e21fb263c9"
      },
      "outputs": [
        {
          "data": {
            "text/plain": [
              "<matplotlib.axes._subplots.AxesSubplot at 0x7f6f5d274d10>"
            ]
          },
          "execution_count": 19,
          "metadata": {},
          "output_type": "execute_result"
        },
        {
          "data": {
            "image/png": "[encoded data removed]",
            "text/plain": [
              "<Figure size 432x288 with 1 Axes>"
            ]
          },
          "metadata": {
            "needs_background": "light"
          },
          "output_type": "display_data"
        }
      ],
      "source": [
        "int_fn(X['MedInc']).hist(bins=50)"
      ]
    },
    {
      "cell_type": "markdown",
      "metadata": {
        "id": "OTBSUKaAtUOk"
      },
      "source": [
        "Esta misma operación puede realizarse utilizando métodos ya implementados en `sklearn`. Es importante tener en cuenta que, en este caso, va a esperar que introduzcamos datos bidimensionales, dado que permite procesar varias columnas a la vez de forma independiente), por lo que si queremos introducir una sola, debemos tenerlo en cuenta. Además, este método no nos devuelve un objeto `pd.Series` respetando la tipología de nuestro método anterior, si no que nos devuelve un array de `numpy`:"
      ]
    },
    {
      "cell_type": "code",
      "execution_count": null,
      "metadata": {
        "colab": {
          "base_uri": "https://localhost:8080/"
        },
        "id": "vgdd0U_1tbMN",
        "outputId": "e8db6437-81cb-41b9-d481-9a835651a60d"
      },
      "outputs": [
        {
          "data": {
            "text/plain": [
              "array([[0.53966842],\n",
              "       [0.53802706],\n",
              "       [0.46602805],\n",
              "       ...,\n",
              "       [0.08276438],\n",
              "       [0.09429525],\n",
              "       [0.13025338]])"
            ]
          },
          "execution_count": 20,
          "metadata": {},
          "output_type": "execute_result"
        }
      ],
      "source": [
        "from sklearn.preprocessing import MinMaxScaler\n",
        "scaler = MinMaxScaler()\n",
        "scaler.fit_transform(X[['MedInc']])"
      ]
    },
    {
      "cell_type": "markdown",
      "metadata": {
        "id": "XFD4JrDwqy6-"
      },
      "source": [
        "Seguidamente, procedamos a realizar un cálculo similar con la normalización, teniendo en cuenta que para ello necesitaremos obtener la media y la varianza de nuestros datos en lugar del máximo y el mínimo:"
      ]
    },
    {
      "cell_type": "code",
      "execution_count": null,
      "metadata": {
        "id": "slXiwFpxq7pD"
      },
      "outputs": [],
      "source": [
        "# Implementamos dicha función en términos de una lambda\n",
        "# por cuestione de optimización, aprovechando la vecto-\n",
        "# rización de operaciones disponible con numPy\n",
        "import numpy as np\n",
        "norm_fn = lambda col: (col-np.mean(col))/(np.sqrt(col))"
      ]
    },
    {
      "cell_type": "code",
      "execution_count": null,
      "metadata": {
        "colab": {
          "base_uri": "https://localhost:8080/",
          "height": 282
        },
        "id": "A8TqnRpUrKqX",
        "outputId": "aff968cf-2a94-4be8-f7b3-cd8aa22429ff"
      },
      "outputs": [
        {
          "data": {
            "text/plain": [
              "<matplotlib.axes._subplots.AxesSubplot at 0x7f6f5cd10850>"
            ]
          },
          "execution_count": 22,
          "metadata": {},
          "output_type": "execute_result"
        },
        {
          "data": {
            "image/png": "[encoded data removed]",
            "text/plain": [
              "<Figure size 432x288 with 1 Axes>"
            ]
          },
          "metadata": {
            "needs_background": "light"
          },
          "output_type": "display_data"
        }
      ],
      "source": [
        "norm_fn(X['MedInc']).hist(bins=50)"
      ]
    },
    {
      "cell_type": "markdown",
      "metadata": {
        "id": "kYhlnonlsHOG"
      },
      "source": [
        "De nuevo, podemos realizar los cálculos con `sklearn`:"
      ]
    },
    {
      "cell_type": "code",
      "execution_count": null,
      "metadata": {
        "colab": {
          "base_uri": "https://localhost:8080/"
        },
        "id": "fP3-Ooy8uN_w",
        "outputId": "3a5f8162-aac2-4528-dea6-698e5fab022b"
      },
      "outputs": [
        {
          "data": {
            "text/plain": [
              "array([[ 2.34476576],\n",
              "       [ 2.33223796],\n",
              "       [ 1.7826994 ],\n",
              "       ...,\n",
              "       [-1.14259331],\n",
              "       [-1.05458292],\n",
              "       [-0.78012947]])"
            ]
          },
          "execution_count": 23,
          "metadata": {},
          "output_type": "execute_result"
        }
      ],
      "source": [
        "from sklearn.preprocessing import StandardScaler\n",
        "scaler = StandardScaler()\n",
        "scaler.fit_transform(X[['MedInc']])"
      ]
    },
    {
      "cell_type": "markdown",
      "metadata": {
        "id": "WcwCM4bJ9veG"
      },
      "source": [
        "Como ya hemos mencionado antes, los modelos predictivos suelen mostrar un mejor comportamiento cuando las variables continuas muestran un cierto comportamiento *normal*; esto es, su distribución se ajusta en cierto modo a la conocida campana de Gauss.\n",
        "\n",
        "Uno de los principales componentes clave de tal distribución es, precisamente, la simetría, que es lo que vamos a proceder a comprobar a continuación mediante el coeficiente de Fisher-Pearson:"
      ]
    },
    {
      "cell_type": "code",
      "execution_count": null,
      "metadata": {
        "colab": {
          "base_uri": "https://localhost:8080/"
        },
        "id": "fyMBj7W89-51",
        "outputId": "b8d82042-961a-473a-ba4e-75a630a7bcfe"
      },
      "outputs": [
        {
          "name": "stdout",
          "output_type": "stream",
          "text": [
            "Valor del coeficiente de Fisher-Pearson sobre la distribución original: 1.64653702990008\n",
            "Valor del coeficiente de Fisher-Pearson sobre la distribución normalizada: -0.22953110451334377\n"
          ]
        }
      ],
      "source": [
        "# Importamos funcionalidad de la librería\n",
        "from scipy.stats import skew\n",
        "print(f\"Valor del coeficiente de Fisher-Pearson sobre la distribución original: {skew(X['MedInc'])}\")\n",
        "print(f\"Valor del coeficiente de Fisher-Pearson sobre la distribución normalizada: {skew(norm_fn(X['MedInc']))}\")"
      ]
    },
    {
      "cell_type": "markdown",
      "metadata": {
        "id": "t5KN7BVC-9tE"
      },
      "source": [
        "En la práctica, tomaremos el siguiente criterio:\n",
        "\n",
        "* Si el coeficiente está por debajo de $-1$ o por encima de $1$, diremos que la distribución es altamente asimétrica.\n",
        "* Si está entre $-1$ y $-\\frac{1}{2}$, o bien entre $\\frac{1}{2}$ y $1$, diremos que la distribución es moderadamente asimétrica.\n",
        "* Si se encuentra en el intervalo $(-\\frac{1}{2},\\frac{1}{2})$, podremos considerar que es aproximadamente simétrica.\n",
        "\n",
        "Como no era complicado de imaginar, la normalización de la variable ha ayudado significativamente a que sea simétrica. Pero exiten casos en los que esta técnica no es suficiente, debido al alto número de valores atípicos de la distribución, u otras circunstancias. En tales casos, se suele aplicar la transformación de Box-Cox (vamos simplemente a mencionarla, ya que formará parte de un estudio más profundo en el siguiente módulo):"
      ]
    },
    {
      "cell_type": "code",
      "execution_count": null,
      "metadata": {
        "colab": {
          "base_uri": "https://localhost:8080/",
          "height": 300
        },
        "id": "r_QKDgAy_Y4Y",
        "outputId": "0461ea77-e00f-49b3-9a08-c674371be6fc"
      },
      "outputs": [
        {
          "name": "stdout",
          "output_type": "stream",
          "text": [
            "Valor del coeficiente de Fisher-Pearson sobre la distribución transformada: 0.00487593781853855\n"
          ]
        },
        {
          "data": {
            "text/plain": [
              "<matplotlib.axes._subplots.AxesSubplot at 0x7f6f5d2cc8d0>"
            ]
          },
          "execution_count": 25,
          "metadata": {},
          "output_type": "execute_result"
        },
        {
          "data": {
            "image/png": "[encoded data removed]",
            "text/plain": [
              "<Figure size 432x288 with 1 Axes>"
            ]
          },
          "metadata": {
            "needs_background": "light"
          },
          "output_type": "display_data"
        }
      ],
      "source": [
        "# Importamos funcionalidad de la librería\n",
        "from scipy.stats import boxcox\n",
        "# Aplicamos transformación\n",
        "x_transformed, lambda_boxcox = boxcox(X['MedInc'])\n",
        "# Vemos cuánto varía el coeficiente de Fisher-Pearson\n",
        "print(f\"Valor del coeficiente de Fisher-Pearson sobre la distribución transformada: {skew(x_transformed)}\")\n",
        "# Dibujamos el resultado\n",
        "pd.Series(x_transformed).hist(bins=50)"
      ]
    },
    {
      "cell_type": "markdown",
      "metadata": {
        "id": "oesW5TYYDOxn"
      },
      "source": [
        "Para finalizar la sección, resaltar que es importante guardar el valor de `lambda_boxcox` para poder revertir las operaciones de esta transformación."
      ]
    },
    {
      "cell_type": "markdown",
      "metadata": {
        "id": "BpZzlIdBDEZQ"
      },
      "source": [
        "### Estudio de variables discretas\n",
        "\n",
        "Debido a que la correspondencia entre los valores de este tipo de variables y su correspondencia numérica puede ser realizada de múltiples formas, el análisis de las mismas no suele ser tan inmediato como el aso de las continuas. Naturalmente, cuando la variable es discreta pero ya es numérica (como la edad), no precisa del empleo de estas técnicas, pues como veremos posteriormente se corresponde al caso de binarización.\n",
        "\n",
        "Nos pondremos por tanto en la situación en la que dispongamos de una variable discreta en forma de `string`, el que requiere mayor atención."
      ]
    },
    {
      "cell_type": "markdown",
      "metadata": {
        "id": "mQtqxLtMFTs-"
      },
      "source": [
        "#### *One-hot encoding*\n",
        "\n",
        "Es el tipo de codificado más elemental, y consiste en descomponer en tantas columnas como valores posibles tome esa variable menos uno la información binarizada. Veámoslo sobre el ejemplo del banco de datos de UCI:"
      ]
    },
    {
      "cell_type": "code",
      "execution_count": null,
      "metadata": {
        "colab": {
          "base_uri": "https://localhost:8080/"
        },
        "id": "rZBvQ0fPCBrY",
        "outputId": "c1149504-09d5-4e5a-9b40-4cb143a394b2"
      },
      "outputs": [
        {
          "name": "stdout",
          "output_type": "stream",
          "text": [
            "En el dataset hay 194 países distintos.\n"
          ]
        }
      ],
      "source": [
        "# Tomamos la columna correspondiente al nombre de los países\n",
        "# y vemos qué valores distintos toma\n",
        "print(f\"En el dataset hay {df['name'].nunique()} países distintos.\")"
      ]
    },
    {
      "cell_type": "code",
      "execution_count": null,
      "metadata": {
        "colab": {
          "base_uri": "https://localhost:8080/",
          "height": 317
        },
        "id": "Rd0Ev89xaoAO",
        "outputId": "f63f7c7a-0688-4f8a-8770-fb34cc0cfd38"
      },
      "outputs": [
        {
          "data": {
            "text/html": [
              "\n",
              "  <div id=\"df-25fb2a6c-e566-4698-afac-b1fcb24a6b65\">\n",
              "    <div class=\"colab-df-container\">\n",
              "      <div>\n",
              "<style scoped>\n",
              "    .dataframe tbody tr th:only-of-type {\n",
              "        vertical-align: middle;\n",
              "    }\n",
              "\n",
              "    .dataframe tbody tr th {\n",
              "        vertical-align: top;\n",
              "    }\n",
              "\n",
              "    .dataframe thead th {\n",
              "        text-align: right;\n",
              "    }\n",
              "</style>\n",
              "<table border=\"1\" class=\"dataframe\">\n",
              "  <thead>\n",
              "    <tr style=\"text-align: right;\">\n",
              "      <th></th>\n",
              "      <th>name_Afghanistan</th>\n",
              "      <th>name_Albania</th>\n",
              "      <th>name_Algeria</th>\n",
              "      <th>name_American-Samoa</th>\n",
              "      <th>name_Andorra</th>\n",
              "      <th>name_Angola</th>\n",
              "      <th>name_Anguilla</th>\n",
              "      <th>name_Antigua-Barbuda</th>\n",
              "      <th>name_Argentina</th>\n",
              "      <th>name_Argentine</th>\n",
              "      <th>...</th>\n",
              "      <th>name_Uruguay</th>\n",
              "      <th>name_Vanuatu</th>\n",
              "      <th>name_Vatican-City</th>\n",
              "      <th>name_Venezuela</th>\n",
              "      <th>name_Vietnam</th>\n",
              "      <th>name_Western-Samoa</th>\n",
              "      <th>name_Yugoslavia</th>\n",
              "      <th>name_Zaire</th>\n",
              "      <th>name_Zambia</th>\n",
              "      <th>name_Zimbabwe</th>\n",
              "    </tr>\n",
              "  </thead>\n",
              "  <tbody>\n",
              "    <tr>\n",
              "      <th>0</th>\n",
              "      <td>1.0</td>\n",
              "      <td>0.0</td>\n",
              "      <td>0.0</td>\n",
              "      <td>0.0</td>\n",
              "      <td>0.0</td>\n",
              "      <td>0.0</td>\n",
              "      <td>0.0</td>\n",
              "      <td>0.0</td>\n",
              "      <td>0.0</td>\n",
              "      <td>0.0</td>\n",
              "      <td>...</td>\n",
              "      <td>0.0</td>\n",
              "      <td>0.0</td>\n",
              "      <td>0.0</td>\n",
              "      <td>0.0</td>\n",
              "      <td>0.0</td>\n",
              "      <td>0.0</td>\n",
              "      <td>0.0</td>\n",
              "      <td>0.0</td>\n",
              "      <td>0.0</td>\n",
              "      <td>0.0</td>\n",
              "    </tr>\n",
              "    <tr>\n",
              "      <th>1</th>\n",
              "      <td>0.0</td>\n",
              "      <td>1.0</td>\n",
              "      <td>0.0</td>\n",
              "      <td>0.0</td>\n",
              "      <td>0.0</td>\n",
              "      <td>0.0</td>\n",
              "      <td>0.0</td>\n",
              "      <td>0.0</td>\n",
              "      <td>0.0</td>\n",
              "      <td>0.0</td>\n",
              "      <td>...</td>\n",
              "      <td>0.0</td>\n",
              "      <td>0.0</td>\n",
              "      <td>0.0</td>\n",
              "      <td>0.0</td>\n",
              "      <td>0.0</td>\n",
              "      <td>0.0</td>\n",
              "      <td>0.0</td>\n",
              "      <td>0.0</td>\n",
              "      <td>0.0</td>\n",
              "      <td>0.0</td>\n",
              "    </tr>\n",
              "    <tr>\n",
              "      <th>2</th>\n",
              "      <td>0.0</td>\n",
              "      <td>0.0</td>\n",
              "      <td>1.0</td>\n",
              "      <td>0.0</td>\n",
              "      <td>0.0</td>\n",
              "      <td>0.0</td>\n",
              "      <td>0.0</td>\n",
              "      <td>0.0</td>\n",
              "      <td>0.0</td>\n",
              "      <td>0.0</td>\n",
              "      <td>...</td>\n",
              "      <td>0.0</td>\n",
              "      <td>0.0</td>\n",
              "      <td>0.0</td>\n",
              "      <td>0.0</td>\n",
              "      <td>0.0</td>\n",
              "      <td>0.0</td>\n",
              "      <td>0.0</td>\n",
              "      <td>0.0</td>\n",
              "      <td>0.0</td>\n",
              "      <td>0.0</td>\n",
              "    </tr>\n",
              "    <tr>\n",
              "      <th>3</th>\n",
              "      <td>0.0</td>\n",
              "      <td>0.0</td>\n",
              "      <td>0.0</td>\n",
              "      <td>1.0</td>\n",
              "      <td>0.0</td>\n",
              "      <td>0.0</td>\n",
              "      <td>0.0</td>\n",
              "      <td>0.0</td>\n",
              "      <td>0.0</td>\n",
              "      <td>0.0</td>\n",
              "      <td>...</td>\n",
              "      <td>0.0</td>\n",
              "      <td>0.0</td>\n",
              "      <td>0.0</td>\n",
              "      <td>0.0</td>\n",
              "      <td>0.0</td>\n",
              "      <td>0.0</td>\n",
              "      <td>0.0</td>\n",
              "      <td>0.0</td>\n",
              "      <td>0.0</td>\n",
              "      <td>0.0</td>\n",
              "    </tr>\n",
              "    <tr>\n",
              "      <th>4</th>\n",
              "      <td>0.0</td>\n",
              "      <td>0.0</td>\n",
              "      <td>0.0</td>\n",
              "      <td>0.0</td>\n",
              "      <td>1.0</td>\n",
              "      <td>0.0</td>\n",
              "      <td>0.0</td>\n",
              "      <td>0.0</td>\n",
              "      <td>0.0</td>\n",
              "      <td>0.0</td>\n",
              "      <td>...</td>\n",
              "      <td>0.0</td>\n",
              "      <td>0.0</td>\n",
              "      <td>0.0</td>\n",
              "      <td>0.0</td>\n",
              "      <td>0.0</td>\n",
              "      <td>0.0</td>\n",
              "      <td>0.0</td>\n",
              "      <td>0.0</td>\n",
              "      <td>0.0</td>\n",
              "      <td>0.0</td>\n",
              "    </tr>\n",
              "  </tbody>\n",
              "</table>\n",
              "<p>5 rows × 194 columns</p>\n",
              "</div>\n",
              "      <button class=\"colab-df-convert\" onclick=\"convertToInteractive('df-25fb2a6c-e566-4698-afac-b1fcb24a6b65')\"\n",
              "              title=\"Convert this dataframe to an interactive table.\"\n",
              "              style=\"display:none;\">\n",
              "        \n",
              "  <svg xmlns=\"http://www.w3.org/2000/svg\" height=\"24px\"viewBox=\"0 0 24 24\"\n",
              "       width=\"24px\">\n",
              "    <path d=\"M0 0h24v24H0V0z\" fill=\"none\"/>\n",
              "    <path d=\"M18.56 5.44l.94 2.06.94-2.06 2.06-.94-2.06-.94-.94-2.06-.94 2.06-2.06.94zm-11 1L8.5 8.5l.94-2.06 2.06-.94-2.06-.94L8.5 2.5l-.94 2.06-2.06.94zm10 10l.94 2.06.94-2.06 2.06-.94-2.06-.94-.94-2.06-.94 2.06-2.06.94z\"/><path d=\"M17.41 7.96l-1.37-1.37c-.4-.4-.92-.59-1.43-.59-.52 0-1.04.2-1.43.59L10.3 9.45l-7.72 7.72c-.78.78-.78 2.05 0 2.83L4 21.41c.39.39.9.59 1.41.59.51 0 1.02-.2 1.41-.59l7.78-7.78 2.81-2.81c.8-.78.8-2.07 0-2.86zM5.41 20L4 18.59l7.72-7.72 1.47 1.35L5.41 20z\"/>\n",
              "  </svg>\n",
              "      </button>\n",
              "      \n",
              "  <style>\n",
              "    .colab-df-container {\n",
              "      display:flex;\n",
              "      flex-wrap:wrap;\n",
              "      gap: 12px;\n",
              "    }\n",
              "\n",
              "    .colab-df-convert {\n",
              "      background-color: #E8F0FE;\n",
              "      border: none;\n",
              "      border-radius: 50%;\n",
              "      cursor: pointer;\n",
              "      display: none;\n",
              "      fill: #1967D2;\n",
              "      height: 32px;\n",
              "      padding: 0 0 0 0;\n",
              "      width: 32px;\n",
              "    }\n",
              "\n",
              "    .colab-df-convert:hover {\n",
              "      background-color: #E2EBFA;\n",
              "      box-shadow: 0px 1px 2px rgba(60, 64, 67, 0.3), 0px 1px 3px 1px rgba(60, 64, 67, 0.15);\n",
              "      fill: #174EA6;\n",
              "    }\n",
              "\n",
              "    [theme=dark] .colab-df-convert {\n",
              "      background-color: #3B4455;\n",
              "      fill: #D2E3FC;\n",
              "    }\n",
              "\n",
              "    [theme=dark] .colab-df-convert:hover {\n",
              "      background-color: #434B5C;\n",
              "      box-shadow: 0px 1px 3px 1px rgba(0, 0, 0, 0.15);\n",
              "      filter: drop-shadow(0px 1px 2px rgba(0, 0, 0, 0.3));\n",
              "      fill: #FFFFFF;\n",
              "    }\n",
              "  </style>\n",
              "\n",
              "      <script>\n",
              "        const buttonEl =\n",
              "          document.querySelector('#df-25fb2a6c-e566-4698-afac-b1fcb24a6b65 button.colab-df-convert');\n",
              "        buttonEl.style.display =\n",
              "          google.colab.kernel.accessAllowed ? 'block' : 'none';\n",
              "\n",
              "        async function convertToInteractive(key) {\n",
              "          const element = document.querySelector('#df-25fb2a6c-e566-4698-afac-b1fcb24a6b65');\n",
              "          const dataTable =\n",
              "            await google.colab.kernel.invokeFunction('convertToInteractive',\n",
              "                                                     [key], {});\n",
              "          if (!dataTable) return;\n",
              "\n",
              "          const docLinkHtml = 'Like what you see? Visit the ' +\n",
              "            '<a target=\"_blank\" href=https://colab.research.google.com/notebooks/data_table.ipynb>data table notebook</a>'\n",
              "            + ' to learn more about interactive tables.';\n",
              "          element.innerHTML = '';\n",
              "          dataTable['output_type'] = 'display_data';\n",
              "          await google.colab.output.renderOutput(dataTable, element);\n",
              "          const docLink = document.createElement('div');\n",
              "          docLink.innerHTML = docLinkHtml;\n",
              "          element.appendChild(docLink);\n",
              "        }\n",
              "      </script>\n",
              "    </div>\n",
              "  </div>\n",
              "  "
            ],
            "text/plain": [
              "   name_Afghanistan  name_Albania  name_Algeria  name_American-Samoa  \\\n",
              "0               1.0           0.0           0.0                  0.0   \n",
              "1               0.0           1.0           0.0                  0.0   \n",
              "2               0.0           0.0           1.0                  0.0   \n",
              "3               0.0           0.0           0.0                  1.0   \n",
              "4               0.0           0.0           0.0                  0.0   \n",
              "\n",
              "   name_Andorra  name_Angola  name_Anguilla  name_Antigua-Barbuda  \\\n",
              "0           0.0          0.0            0.0                   0.0   \n",
              "1           0.0          0.0            0.0                   0.0   \n",
              "2           0.0          0.0            0.0                   0.0   \n",
              "3           0.0          0.0            0.0                   0.0   \n",
              "4           1.0          0.0            0.0                   0.0   \n",
              "\n",
              "   name_Argentina  name_Argentine  ...  name_Uruguay  name_Vanuatu  \\\n",
              "0             0.0             0.0  ...           0.0           0.0   \n",
              "1             0.0             0.0  ...           0.0           0.0   \n",
              "2             0.0             0.0  ...           0.0           0.0   \n",
              "3             0.0             0.0  ...           0.0           0.0   \n",
              "4             0.0             0.0  ...           0.0           0.0   \n",
              "\n",
              "   name_Vatican-City  name_Venezuela  name_Vietnam  name_Western-Samoa  \\\n",
              "0                0.0             0.0           0.0                 0.0   \n",
              "1                0.0             0.0           0.0                 0.0   \n",
              "2                0.0             0.0           0.0                 0.0   \n",
              "3                0.0             0.0           0.0                 0.0   \n",
              "4                0.0             0.0           0.0                 0.0   \n",
              "\n",
              "   name_Yugoslavia  name_Zaire  name_Zambia  name_Zimbabwe  \n",
              "0              0.0         0.0          0.0            0.0  \n",
              "1              0.0         0.0          0.0            0.0  \n",
              "2              0.0         0.0          0.0            0.0  \n",
              "3              0.0         0.0          0.0            0.0  \n",
              "4              0.0         0.0          0.0            0.0  \n",
              "\n",
              "[5 rows x 194 columns]"
            ]
          },
          "execution_count": 27,
          "metadata": {},
          "output_type": "execute_result"
        }
      ],
      "source": [
        "# Importamos la funcionalidad concreta de sklearn\n",
        "from sklearn.preprocessing import OneHotEncoder\n",
        "# Transformamos esta columna. Usamos el método `to_array()`\n",
        "# porque originalmente el encoder devuelve una matriz\n",
        "# sparse (dispersa), cuya explicación se sale del contenido\n",
        "# del curso.\n",
        "encoder = OneHotEncoder()\n",
        "encoded_data = encoder.fit_transform(df[['name']]).toarray()\n",
        "column_names = encoder.get_feature_names_out()\n",
        "# Unimos la información\n",
        "onehot_name_df = pd.DataFrame(data=encoded_data, columns=column_names)\n",
        "# Mostramos por pantalla\n",
        "onehot_name_df.head()"
      ]
    },
    {
      "cell_type": "markdown",
      "metadata": {
        "id": "ZY-Lw20XdZmn"
      },
      "source": [
        "Como vemos, esta estrategia es útil para distinguir todos los casos posibles por columnas, pero en casos como este en los que hay muchos valores posibles, este codificado no es útil y necesitamos otras estrategias como las siguientes."
      ]
    },
    {
      "cell_type": "markdown",
      "metadata": {
        "id": "Z4FJ5tS3djje"
      },
      "source": [
        "#### Label encoding\n",
        "\n",
        "Es el método más utilizado cuando no existe una periodicidad en la información, como el caso de los nombres de los países *(¿o quizás si existe una cierta periodicidad? Piensa en cómo podrías usar la latitud y longitud de cada país)*. En él, simplemente se asignan sucesivos números naturales a cada elemento:"
      ]
    },
    {
      "cell_type": "code",
      "execution_count": null,
      "metadata": {
        "colab": {
          "base_uri": "https://localhost:8080/",
          "height": 261
        },
        "id": "LpNlrNL-djLw",
        "outputId": "e92f7398-e898-4d9a-9c24-7b705176c5fb"
      },
      "outputs": [
        {
          "name": "stderr",
          "output_type": "stream",
          "text": [
            "/usr/local/lib/python3.7/dist-packages/sklearn/preprocessing/_label.py:115: DataConversionWarning: A column-vector y was passed when a 1d array was expected. Please change the shape of y to (n_samples, ), for example using ravel().\n",
            "  y = column_or_1d(y, warn=True)\n"
          ]
        },
        {
          "data": {
            "text/html": [
              "\n",
              "  <div id=\"df-437dfa0d-87cb-4a81-bb31-cc1b4fc733ca\">\n",
              "    <div class=\"colab-df-container\">\n",
              "      <div>\n",
              "<style scoped>\n",
              "    .dataframe tbody tr th:only-of-type {\n",
              "        vertical-align: middle;\n",
              "    }\n",
              "\n",
              "    .dataframe tbody tr th {\n",
              "        vertical-align: top;\n",
              "    }\n",
              "\n",
              "    .dataframe thead th {\n",
              "        text-align: right;\n",
              "    }\n",
              "</style>\n",
              "<table border=\"1\" class=\"dataframe\">\n",
              "  <thead>\n",
              "    <tr style=\"text-align: right;\">\n",
              "      <th></th>\n",
              "      <th>name</th>\n",
              "    </tr>\n",
              "  </thead>\n",
              "  <tbody>\n",
              "    <tr>\n",
              "      <th>0</th>\n",
              "      <td>0</td>\n",
              "    </tr>\n",
              "    <tr>\n",
              "      <th>1</th>\n",
              "      <td>1</td>\n",
              "    </tr>\n",
              "    <tr>\n",
              "      <th>2</th>\n",
              "      <td>2</td>\n",
              "    </tr>\n",
              "    <tr>\n",
              "      <th>3</th>\n",
              "      <td>3</td>\n",
              "    </tr>\n",
              "    <tr>\n",
              "      <th>4</th>\n",
              "      <td>4</td>\n",
              "    </tr>\n",
              "  </tbody>\n",
              "</table>\n",
              "</div>\n",
              "      <button class=\"colab-df-convert\" onclick=\"convertToInteractive('df-437dfa0d-87cb-4a81-bb31-cc1b4fc733ca')\"\n",
              "              title=\"Convert this dataframe to an interactive table.\"\n",
              "              style=\"display:none;\">\n",
              "        \n",
              "  <svg xmlns=\"http://www.w3.org/2000/svg\" height=\"24px\"viewBox=\"0 0 24 24\"\n",
              "       width=\"24px\">\n",
              "    <path d=\"M0 0h24v24H0V0z\" fill=\"none\"/>\n",
              "    <path d=\"M18.56 5.44l.94 2.06.94-2.06 2.06-.94-2.06-.94-.94-2.06-.94 2.06-2.06.94zm-11 1L8.5 8.5l.94-2.06 2.06-.94-2.06-.94L8.5 2.5l-.94 2.06-2.06.94zm10 10l.94 2.06.94-2.06 2.06-.94-2.06-.94-.94-2.06-.94 2.06-2.06.94z\"/><path d=\"M17.41 7.96l-1.37-1.37c-.4-.4-.92-.59-1.43-.59-.52 0-1.04.2-1.43.59L10.3 9.45l-7.72 7.72c-.78.78-.78 2.05 0 2.83L4 21.41c.39.39.9.59 1.41.59.51 0 1.02-.2 1.41-.59l7.78-7.78 2.81-2.81c.8-.78.8-2.07 0-2.86zM5.41 20L4 18.59l7.72-7.72 1.47 1.35L5.41 20z\"/>\n",
              "  </svg>\n",
              "      </button>\n",
              "      \n",
              "  <style>\n",
              "    .colab-df-container {\n",
              "      display:flex;\n",
              "      flex-wrap:wrap;\n",
              "      gap: 12px;\n",
              "    }\n",
              "\n",
              "    .colab-df-convert {\n",
              "      background-color: #E8F0FE;\n",
              "      border: none;\n",
              "      border-radius: 50%;\n",
              "      cursor: pointer;\n",
              "      display: none;\n",
              "      fill: #1967D2;\n",
              "      height: 32px;\n",
              "      padding: 0 0 0 0;\n",
              "      width: 32px;\n",
              "    }\n",
              "\n",
              "    .colab-df-convert:hover {\n",
              "      background-color: #E2EBFA;\n",
              "      box-shadow: 0px 1px 2px rgba(60, 64, 67, 0.3), 0px 1px 3px 1px rgba(60, 64, 67, 0.15);\n",
              "      fill: #174EA6;\n",
              "    }\n",
              "\n",
              "    [theme=dark] .colab-df-convert {\n",
              "      background-color: #3B4455;\n",
              "      fill: #D2E3FC;\n",
              "    }\n",
              "\n",
              "    [theme=dark] .colab-df-convert:hover {\n",
              "      background-color: #434B5C;\n",
              "      box-shadow: 0px 1px 3px 1px rgba(0, 0, 0, 0.15);\n",
              "      filter: drop-shadow(0px 1px 2px rgba(0, 0, 0, 0.3));\n",
              "      fill: #FFFFFF;\n",
              "    }\n",
              "  </style>\n",
              "\n",
              "      <script>\n",
              "        const buttonEl =\n",
              "          document.querySelector('#df-437dfa0d-87cb-4a81-bb31-cc1b4fc733ca button.colab-df-convert');\n",
              "        buttonEl.style.display =\n",
              "          google.colab.kernel.accessAllowed ? 'block' : 'none';\n",
              "\n",
              "        async function convertToInteractive(key) {\n",
              "          const element = document.querySelector('#df-437dfa0d-87cb-4a81-bb31-cc1b4fc733ca');\n",
              "          const dataTable =\n",
              "            await google.colab.kernel.invokeFunction('convertToInteractive',\n",
              "                                                     [key], {});\n",
              "          if (!dataTable) return;\n",
              "\n",
              "          const docLinkHtml = 'Like what you see? Visit the ' +\n",
              "            '<a target=\"_blank\" href=https://colab.research.google.com/notebooks/data_table.ipynb>data table notebook</a>'\n",
              "            + ' to learn more about interactive tables.';\n",
              "          element.innerHTML = '';\n",
              "          dataTable['output_type'] = 'display_data';\n",
              "          await google.colab.output.renderOutput(dataTable, element);\n",
              "          const docLink = document.createElement('div');\n",
              "          docLink.innerHTML = docLinkHtml;\n",
              "          element.appendChild(docLink);\n",
              "        }\n",
              "      </script>\n",
              "    </div>\n",
              "  </div>\n",
              "  "
            ],
            "text/plain": [
              "   name\n",
              "0     0\n",
              "1     1\n",
              "2     2\n",
              "3     3\n",
              "4     4"
            ]
          },
          "execution_count": 28,
          "metadata": {},
          "output_type": "execute_result"
        }
      ],
      "source": [
        "# Importamos la funcionalidad concreta de sklearn\n",
        "from sklearn.preprocessing import LabelEncoder\n",
        "# Transformamos esta columna\n",
        "encoder = LabelEncoder()\n",
        "encoded_data = encoder.fit_transform(df[['name']])\n",
        "# Unimos la información\n",
        "onehot_name_df = pd.DataFrame(data=encoded_data, columns=['name'])\n",
        "# Mostramos por pantalla\n",
        "onehot_name_df.head()"
      ]
    },
    {
      "cell_type": "markdown",
      "metadata": {
        "id": "EqinIZLkeTzO"
      },
      "source": [
        "Una forma más elegante, rápida y efectiva de hacer este tipo de codificado, y sin recurrir a librerías externas, es creando nosotros un propio diccionario de mapeo entre categorías y números naturales como sigue:"
      ]
    },
    {
      "cell_type": "code",
      "execution_count": null,
      "metadata": {
        "colab": {
          "base_uri": "https://localhost:8080/",
          "height": 236
        },
        "id": "7xXBUFeCedDa",
        "outputId": "98b290f4-3042-4cde-8c4f-67b26f1ef4de"
      },
      "outputs": [
        {
          "data": {
            "text/html": [
              "\n",
              "  <div id=\"df-ffec700e-e97b-4926-898d-d78d94d62935\">\n",
              "    <div class=\"colab-df-container\">\n",
              "      <div>\n",
              "<style scoped>\n",
              "    .dataframe tbody tr th:only-of-type {\n",
              "        vertical-align: middle;\n",
              "    }\n",
              "\n",
              "    .dataframe tbody tr th {\n",
              "        vertical-align: top;\n",
              "    }\n",
              "\n",
              "    .dataframe thead th {\n",
              "        text-align: right;\n",
              "    }\n",
              "</style>\n",
              "<table border=\"1\" class=\"dataframe\">\n",
              "  <thead>\n",
              "    <tr style=\"text-align: right;\">\n",
              "      <th></th>\n",
              "      <th>name</th>\n",
              "      <th>landmass</th>\n",
              "      <th>zone</th>\n",
              "      <th>area</th>\n",
              "      <th>population</th>\n",
              "      <th>language</th>\n",
              "      <th>religion</th>\n",
              "      <th>bars</th>\n",
              "      <th>stripes</th>\n",
              "      <th>colours</th>\n",
              "      <th>...</th>\n",
              "      <th>saltires</th>\n",
              "      <th>quarters</th>\n",
              "      <th>sunstars</th>\n",
              "      <th>crescent</th>\n",
              "      <th>triangle</th>\n",
              "      <th>icon</th>\n",
              "      <th>animate</th>\n",
              "      <th>text</th>\n",
              "      <th>topleft</th>\n",
              "      <th>botright</th>\n",
              "    </tr>\n",
              "  </thead>\n",
              "  <tbody>\n",
              "    <tr>\n",
              "      <th>0</th>\n",
              "      <td>0</td>\n",
              "      <td>5</td>\n",
              "      <td>1</td>\n",
              "      <td>648</td>\n",
              "      <td>16</td>\n",
              "      <td>10</td>\n",
              "      <td>2</td>\n",
              "      <td>0</td>\n",
              "      <td>3</td>\n",
              "      <td>5</td>\n",
              "      <td>...</td>\n",
              "      <td>0</td>\n",
              "      <td>0</td>\n",
              "      <td>1</td>\n",
              "      <td>0</td>\n",
              "      <td>0</td>\n",
              "      <td>1</td>\n",
              "      <td>0</td>\n",
              "      <td>0</td>\n",
              "      <td>black</td>\n",
              "      <td>green</td>\n",
              "    </tr>\n",
              "    <tr>\n",
              "      <th>1</th>\n",
              "      <td>1</td>\n",
              "      <td>3</td>\n",
              "      <td>1</td>\n",
              "      <td>29</td>\n",
              "      <td>3</td>\n",
              "      <td>6</td>\n",
              "      <td>6</td>\n",
              "      <td>0</td>\n",
              "      <td>0</td>\n",
              "      <td>3</td>\n",
              "      <td>...</td>\n",
              "      <td>0</td>\n",
              "      <td>0</td>\n",
              "      <td>1</td>\n",
              "      <td>0</td>\n",
              "      <td>0</td>\n",
              "      <td>0</td>\n",
              "      <td>1</td>\n",
              "      <td>0</td>\n",
              "      <td>red</td>\n",
              "      <td>red</td>\n",
              "    </tr>\n",
              "    <tr>\n",
              "      <th>2</th>\n",
              "      <td>2</td>\n",
              "      <td>4</td>\n",
              "      <td>1</td>\n",
              "      <td>2388</td>\n",
              "      <td>20</td>\n",
              "      <td>8</td>\n",
              "      <td>2</td>\n",
              "      <td>2</td>\n",
              "      <td>0</td>\n",
              "      <td>3</td>\n",
              "      <td>...</td>\n",
              "      <td>0</td>\n",
              "      <td>0</td>\n",
              "      <td>1</td>\n",
              "      <td>1</td>\n",
              "      <td>0</td>\n",
              "      <td>0</td>\n",
              "      <td>0</td>\n",
              "      <td>0</td>\n",
              "      <td>green</td>\n",
              "      <td>white</td>\n",
              "    </tr>\n",
              "    <tr>\n",
              "      <th>3</th>\n",
              "      <td>3</td>\n",
              "      <td>6</td>\n",
              "      <td>3</td>\n",
              "      <td>0</td>\n",
              "      <td>0</td>\n",
              "      <td>1</td>\n",
              "      <td>1</td>\n",
              "      <td>0</td>\n",
              "      <td>0</td>\n",
              "      <td>5</td>\n",
              "      <td>...</td>\n",
              "      <td>0</td>\n",
              "      <td>0</td>\n",
              "      <td>0</td>\n",
              "      <td>0</td>\n",
              "      <td>1</td>\n",
              "      <td>1</td>\n",
              "      <td>1</td>\n",
              "      <td>0</td>\n",
              "      <td>blue</td>\n",
              "      <td>red</td>\n",
              "    </tr>\n",
              "    <tr>\n",
              "      <th>4</th>\n",
              "      <td>4</td>\n",
              "      <td>3</td>\n",
              "      <td>1</td>\n",
              "      <td>0</td>\n",
              "      <td>0</td>\n",
              "      <td>6</td>\n",
              "      <td>0</td>\n",
              "      <td>3</td>\n",
              "      <td>0</td>\n",
              "      <td>3</td>\n",
              "      <td>...</td>\n",
              "      <td>0</td>\n",
              "      <td>0</td>\n",
              "      <td>0</td>\n",
              "      <td>0</td>\n",
              "      <td>0</td>\n",
              "      <td>0</td>\n",
              "      <td>0</td>\n",
              "      <td>0</td>\n",
              "      <td>blue</td>\n",
              "      <td>red</td>\n",
              "    </tr>\n",
              "  </tbody>\n",
              "</table>\n",
              "<p>5 rows × 30 columns</p>\n",
              "</div>\n",
              "      <button class=\"colab-df-convert\" onclick=\"convertToInteractive('df-ffec700e-e97b-4926-898d-d78d94d62935')\"\n",
              "              title=\"Convert this dataframe to an interactive table.\"\n",
              "              style=\"display:none;\">\n",
              "        \n",
              "  <svg xmlns=\"http://www.w3.org/2000/svg\" height=\"24px\"viewBox=\"0 0 24 24\"\n",
              "       width=\"24px\">\n",
              "    <path d=\"M0 0h24v24H0V0z\" fill=\"none\"/>\n",
              "    <path d=\"M18.56 5.44l.94 2.06.94-2.06 2.06-.94-2.06-.94-.94-2.06-.94 2.06-2.06.94zm-11 1L8.5 8.5l.94-2.06 2.06-.94-2.06-.94L8.5 2.5l-.94 2.06-2.06.94zm10 10l.94 2.06.94-2.06 2.06-.94-2.06-.94-.94-2.06-.94 2.06-2.06.94z\"/><path d=\"M17.41 7.96l-1.37-1.37c-.4-.4-.92-.59-1.43-.59-.52 0-1.04.2-1.43.59L10.3 9.45l-7.72 7.72c-.78.78-.78 2.05 0 2.83L4 21.41c.39.39.9.59 1.41.59.51 0 1.02-.2 1.41-.59l7.78-7.78 2.81-2.81c.8-.78.8-2.07 0-2.86zM5.41 20L4 18.59l7.72-7.72 1.47 1.35L5.41 20z\"/>\n",
              "  </svg>\n",
              "      </button>\n",
              "      \n",
              "  <style>\n",
              "    .colab-df-container {\n",
              "      display:flex;\n",
              "      flex-wrap:wrap;\n",
              "      gap: 12px;\n",
              "    }\n",
              "\n",
              "    .colab-df-convert {\n",
              "      background-color: #E8F0FE;\n",
              "      border: none;\n",
              "      border-radius: 50%;\n",
              "      cursor: pointer;\n",
              "      display: none;\n",
              "      fill: #1967D2;\n",
              "      height: 32px;\n",
              "      padding: 0 0 0 0;\n",
              "      width: 32px;\n",
              "    }\n",
              "\n",
              "    .colab-df-convert:hover {\n",
              "      background-color: #E2EBFA;\n",
              "      box-shadow: 0px 1px 2px rgba(60, 64, 67, 0.3), 0px 1px 3px 1px rgba(60, 64, 67, 0.15);\n",
              "      fill: #174EA6;\n",
              "    }\n",
              "\n",
              "    [theme=dark] .colab-df-convert {\n",
              "      background-color: #3B4455;\n",
              "      fill: #D2E3FC;\n",
              "    }\n",
              "\n",
              "    [theme=dark] .colab-df-convert:hover {\n",
              "      background-color: #434B5C;\n",
              "      box-shadow: 0px 1px 3px 1px rgba(0, 0, 0, 0.15);\n",
              "      filter: drop-shadow(0px 1px 2px rgba(0, 0, 0, 0.3));\n",
              "      fill: #FFFFFF;\n",
              "    }\n",
              "  </style>\n",
              "\n",
              "      <script>\n",
              "        const buttonEl =\n",
              "          document.querySelector('#df-ffec700e-e97b-4926-898d-d78d94d62935 button.colab-df-convert');\n",
              "        buttonEl.style.display =\n",
              "          google.colab.kernel.accessAllowed ? 'block' : 'none';\n",
              "\n",
              "        async function convertToInteractive(key) {\n",
              "          const element = document.querySelector('#df-ffec700e-e97b-4926-898d-d78d94d62935');\n",
              "          const dataTable =\n",
              "            await google.colab.kernel.invokeFunction('convertToInteractive',\n",
              "                                                     [key], {});\n",
              "          if (!dataTable) return;\n",
              "\n",
              "          const docLinkHtml = 'Like what you see? Visit the ' +\n",
              "            '<a target=\"_blank\" href=https://colab.research.google.com/notebooks/data_table.ipynb>data table notebook</a>'\n",
              "            + ' to learn more about interactive tables.';\n",
              "          element.innerHTML = '';\n",
              "          dataTable['output_type'] = 'display_data';\n",
              "          await google.colab.output.renderOutput(dataTable, element);\n",
              "          const docLink = document.createElement('div');\n",
              "          docLink.innerHTML = docLinkHtml;\n",
              "          element.appendChild(docLink);\n",
              "        }\n",
              "      </script>\n",
              "    </div>\n",
              "  </div>\n",
              "  "
            ],
            "text/plain": [
              "   name landmass zone  area population language religion bars stripes colours  \\\n",
              "0     0        5    1   648         16       10        2    0       3       5   \n",
              "1     1        3    1    29          3        6        6    0       0       3   \n",
              "2     2        4    1  2388         20        8        2    2       0       3   \n",
              "3     3        6    3     0          0        1        1    0       0       5   \n",
              "4     4        3    1     0          0        6        0    3       0       3   \n",
              "\n",
              "   ... saltires quarters sunstars crescent triangle icon animate text topleft  \\\n",
              "0  ...        0        0        1        0        0    1       0    0   black   \n",
              "1  ...        0        0        1        0        0    0       1    0     red   \n",
              "2  ...        0        0        1        1        0    0       0    0   green   \n",
              "3  ...        0        0        0        0        1    1       1    0    blue   \n",
              "4  ...        0        0        0        0        0    0       0    0    blue   \n",
              "\n",
              "  botright  \n",
              "0    green  \n",
              "1      red  \n",
              "2    white  \n",
              "3      red  \n",
              "4      red  \n",
              "\n",
              "[5 rows x 30 columns]"
            ]
          },
          "execution_count": 29,
          "metadata": {},
          "output_type": "execute_result"
        }
      ],
      "source": [
        "# Creamos el diccionario de mapeo\n",
        "label2idx = {k:v for k,v in zip(df['name'].unique(), range(df['name'].nunique()))}\n",
        "# Mapeamos el diccionario a la columna en cuestión\n",
        "df['name'] = df['name'].map(label2idx)\n",
        "# Mostramos resultados\n",
        "df.head()"
      ]
    },
    {
      "cell_type": "markdown",
      "metadata": {
        "id": "OJGEo1PsfKV8"
      },
      "source": [
        "### Datos faltantes\n",
        "\n",
        "Todo lo visto anteriormente es válido cuando la información de la que disponemos es completa. Sin embargo, en la mayoría de escenarios nos encontraremos con información faltante, escenario que hay que saber manejar con cuidado.\n",
        "\n",
        "Comencemos por obtener del repositorio UCI un conjunto de datos con información faltante, como hemos visto anteriormente, con la salvedad de que ahora los nombres de las columnas pueden contener guiones, de ahí que el término regex de términos alfabéticos `[a-zA-Z]` haya sido actualizado para contener dichos símbolos como `[a-zA-Z-]`, así como contemplando los dobles puntos finales como `:{1}`:"
      ]
    },
    {
      "cell_type": "code",
      "execution_count": null,
      "metadata": {
        "colab": {
          "base_uri": "https://localhost:8080/"
        },
        "id": "ZIEuSpQBfMbF",
        "outputId": "aca95170-06de-4661-96c0-97d56373d72b"
      },
      "outputs": [
        {
          "name": "stdout",
          "output_type": "stream",
          "text": [
            "/content\n",
            "/content/imports_dataset\n",
            "--2022-06-09 18:50:16--  https://archive.ics.uci.edu/ml/machine-learning-databases/autos/imports-85.data\n",
            "Resolving archive.ics.uci.edu (archive.ics.uci.edu)... 128.195.10.252\n",
            "Connecting to archive.ics.uci.edu (archive.ics.uci.edu)|128.195.10.252|:443... connected.\n",
            "HTTP request sent, awaiting response... 200 OK\n",
            "Length: 25936 (25K) [application/x-httpd-php]\n",
            "Saving to: ‘imports-85.data’\n",
            "\n",
            "imports-85.data     100%[===================>]  25.33K  --.-KB/s    in 0.06s   \n",
            "\n",
            "2022-06-09 18:50:16 (390 KB/s) - ‘imports-85.data’ saved [25936/25936]\n",
            "\n",
            "--2022-06-09 18:50:17--  https://archive.ics.uci.edu/ml/machine-learning-databases/autos/imports-85.names\n",
            "Resolving archive.ics.uci.edu (archive.ics.uci.edu)... 128.195.10.252\n",
            "Connecting to archive.ics.uci.edu (archive.ics.uci.edu)|128.195.10.252|:443... connected.\n",
            "HTTP request sent, awaiting response... 200 OK\n",
            "Length: 4747 (4.6K) [application/x-httpd-php]\n",
            "Saving to: ‘imports-85.names’\n",
            "\n",
            "imports-85.names    100%[===================>]   4.64K  --.-KB/s    in 0s      \n",
            "\n",
            "2022-06-09 18:50:17 (107 MB/s) - ‘imports-85.names’ saved [4747/4747]\n",
            "\n"
          ]
        }
      ],
      "source": [
        "# Creamos una carpeta para que contenga a nuestro dataset\n",
        "!mkdir /content/imports_dataset\n",
        "# Movemos el directorio activo a esa localización\n",
        "## Volvemos atrás un directorio\n",
        "%cd ..\n",
        "## Ahora localizamos la nueva ruta\n",
        "%cd /content/imports_dataset\n",
        "# Descargamos el fichero que contiene los datos a nuestro directorio activo\n",
        "!wget https://archive.ics.uci.edu/ml/machine-learning-databases/autos/imports-85.data\n",
        "# Descargamos la metadata asociada al conjunto de datos\n",
        "!wget https://archive.ics.uci.edu/ml/machine-learning-databases/autos/imports-85.names\n",
        "# Leemos datos\n",
        "with open('imports-85.data','r') as f:\n",
        "    data = f.read().splitlines() # Dividimos el texto por saltos de línea\n",
        "    data = [elem.split(',') for elem in data] # Dividimos cada línea por las comas y removemos líneas vacías\n",
        "# Leemos metadata\n",
        "with open('imports-85.names','r') as f:\n",
        "    metadata = f.read().splitlines()\n",
        "# Regex\n",
        "regex_fn = lambda text: re.findall('^\\s+\\d+[.]\\s{1}[a-zA-Z-]+:{1}', text)\n",
        "reg_text_fn = lambda text : re.findall('[a-zA-Z-]+', text)\n",
        "metadata_list = [regex_fn(elem)[0] for elem in metadata if regex_fn(elem)]\n",
        "col_names = [reg_text_fn(elem)[0] for elem in metadata_list if regex_fn(elem)]\n",
        "# Construimos el objeto pd.DataFrame\n",
        "df = pd.DataFrame(data=data, columns=col_names)"
      ]
    },
    {
      "cell_type": "markdown",
      "metadata": {
        "id": "mlXsPZFah4sI"
      },
      "source": [
        "Si probamos directamente a analizar cuántos datos faltan en nuestro *dataset*, nos adremos cuenta de algo sorprendente:"
      ]
    },
    {
      "cell_type": "code",
      "execution_count": null,
      "metadata": {
        "colab": {
          "base_uri": "https://localhost:8080/"
        },
        "id": "zEDzpLhZhAIT",
        "outputId": "e45e5d0f-9ec0-437b-a0e1-137141f774ed"
      },
      "outputs": [
        {
          "name": "stdout",
          "output_type": "stream",
          "text": [
            "<class 'pandas.core.frame.DataFrame'>\n",
            "RangeIndex: 205 entries, 0 to 204\n",
            "Data columns (total 26 columns):\n",
            " #   Column             Non-Null Count  Dtype \n",
            "---  ------             --------------  ----- \n",
            " 0   symboling          205 non-null    object\n",
            " 1   normalized-losses  205 non-null    object\n",
            " 2   make               205 non-null    object\n",
            " 3   fuel-type          205 non-null    object\n",
            " 4   aspiration         205 non-null    object\n",
            " 5   num-of-doors       205 non-null    object\n",
            " 6   body-style         205 non-null    object\n",
            " 7   drive-wheels       205 non-null    object\n",
            " 8   engine-location    205 non-null    object\n",
            " 9   wheel-base         205 non-null    object\n",
            " 10  length             205 non-null    object\n",
            " 11  width              205 non-null    object\n",
            " 12  height             205 non-null    object\n",
            " 13  curb-weight        205 non-null    object\n",
            " 14  engine-type        205 non-null    object\n",
            " 15  num-of-cylinders   205 non-null    object\n",
            " 16  engine-size        205 non-null    object\n",
            " 17  fuel-system        205 non-null    object\n",
            " 18  bore               205 non-null    object\n",
            " 19  stroke             205 non-null    object\n",
            " 20  compression-ratio  205 non-null    object\n",
            " 21  horsepower         205 non-null    object\n",
            " 22  peak-rpm           205 non-null    object\n",
            " 23  city-mpg           205 non-null    object\n",
            " 24  highway-mpg        205 non-null    object\n",
            " 25  price              205 non-null    object\n",
            "dtypes: object(26)\n",
            "memory usage: 41.8+ KB\n"
          ]
        }
      ],
      "source": [
        "df.info()"
      ]
    },
    {
      "cell_type": "markdown",
      "metadata": {
        "id": "AioX5Q5aiDG4"
      },
      "source": [
        "*¿Pero no decíamos que faltaban datos?* Echemos un vistazo al *dataset*:"
      ]
    },
    {
      "cell_type": "code",
      "execution_count": null,
      "metadata": {
        "colab": {
          "base_uri": "https://localhost:8080/",
          "height": 366
        },
        "id": "r-Fab1LxiAz_",
        "outputId": "fa7273a5-1da3-463f-8b6b-8f2212bd5394"
      },
      "outputs": [
        {
          "data": {
            "text/html": [
              "\n",
              "  <div id=\"df-cadd708b-6b86-4d6f-b17a-69f4c133304a\">\n",
              "    <div class=\"colab-df-container\">\n",
              "      <div>\n",
              "<style scoped>\n",
              "    .dataframe tbody tr th:only-of-type {\n",
              "        vertical-align: middle;\n",
              "    }\n",
              "\n",
              "    .dataframe tbody tr th {\n",
              "        vertical-align: top;\n",
              "    }\n",
              "\n",
              "    .dataframe thead th {\n",
              "        text-align: right;\n",
              "    }\n",
              "</style>\n",
              "<table border=\"1\" class=\"dataframe\">\n",
              "  <thead>\n",
              "    <tr style=\"text-align: right;\">\n",
              "      <th></th>\n",
              "      <th>symboling</th>\n",
              "      <th>normalized-losses</th>\n",
              "      <th>make</th>\n",
              "      <th>fuel-type</th>\n",
              "      <th>aspiration</th>\n",
              "      <th>num-of-doors</th>\n",
              "      <th>body-style</th>\n",
              "      <th>drive-wheels</th>\n",
              "      <th>engine-location</th>\n",
              "      <th>wheel-base</th>\n",
              "      <th>...</th>\n",
              "      <th>engine-size</th>\n",
              "      <th>fuel-system</th>\n",
              "      <th>bore</th>\n",
              "      <th>stroke</th>\n",
              "      <th>compression-ratio</th>\n",
              "      <th>horsepower</th>\n",
              "      <th>peak-rpm</th>\n",
              "      <th>city-mpg</th>\n",
              "      <th>highway-mpg</th>\n",
              "      <th>price</th>\n",
              "    </tr>\n",
              "  </thead>\n",
              "  <tbody>\n",
              "    <tr>\n",
              "      <th>0</th>\n",
              "      <td>3</td>\n",
              "      <td>?</td>\n",
              "      <td>alfa-romero</td>\n",
              "      <td>gas</td>\n",
              "      <td>std</td>\n",
              "      <td>two</td>\n",
              "      <td>convertible</td>\n",
              "      <td>rwd</td>\n",
              "      <td>front</td>\n",
              "      <td>88.60</td>\n",
              "      <td>...</td>\n",
              "      <td>130</td>\n",
              "      <td>mpfi</td>\n",
              "      <td>3.47</td>\n",
              "      <td>2.68</td>\n",
              "      <td>9.00</td>\n",
              "      <td>111</td>\n",
              "      <td>5000</td>\n",
              "      <td>21</td>\n",
              "      <td>27</td>\n",
              "      <td>13495</td>\n",
              "    </tr>\n",
              "    <tr>\n",
              "      <th>1</th>\n",
              "      <td>3</td>\n",
              "      <td>?</td>\n",
              "      <td>alfa-romero</td>\n",
              "      <td>gas</td>\n",
              "      <td>std</td>\n",
              "      <td>two</td>\n",
              "      <td>convertible</td>\n",
              "      <td>rwd</td>\n",
              "      <td>front</td>\n",
              "      <td>88.60</td>\n",
              "      <td>...</td>\n",
              "      <td>130</td>\n",
              "      <td>mpfi</td>\n",
              "      <td>3.47</td>\n",
              "      <td>2.68</td>\n",
              "      <td>9.00</td>\n",
              "      <td>111</td>\n",
              "      <td>5000</td>\n",
              "      <td>21</td>\n",
              "      <td>27</td>\n",
              "      <td>16500</td>\n",
              "    </tr>\n",
              "    <tr>\n",
              "      <th>2</th>\n",
              "      <td>1</td>\n",
              "      <td>?</td>\n",
              "      <td>alfa-romero</td>\n",
              "      <td>gas</td>\n",
              "      <td>std</td>\n",
              "      <td>two</td>\n",
              "      <td>hatchback</td>\n",
              "      <td>rwd</td>\n",
              "      <td>front</td>\n",
              "      <td>94.50</td>\n",
              "      <td>...</td>\n",
              "      <td>152</td>\n",
              "      <td>mpfi</td>\n",
              "      <td>2.68</td>\n",
              "      <td>3.47</td>\n",
              "      <td>9.00</td>\n",
              "      <td>154</td>\n",
              "      <td>5000</td>\n",
              "      <td>19</td>\n",
              "      <td>26</td>\n",
              "      <td>16500</td>\n",
              "    </tr>\n",
              "    <tr>\n",
              "      <th>3</th>\n",
              "      <td>2</td>\n",
              "      <td>164</td>\n",
              "      <td>audi</td>\n",
              "      <td>gas</td>\n",
              "      <td>std</td>\n",
              "      <td>four</td>\n",
              "      <td>sedan</td>\n",
              "      <td>fwd</td>\n",
              "      <td>front</td>\n",
              "      <td>99.80</td>\n",
              "      <td>...</td>\n",
              "      <td>109</td>\n",
              "      <td>mpfi</td>\n",
              "      <td>3.19</td>\n",
              "      <td>3.40</td>\n",
              "      <td>10.00</td>\n",
              "      <td>102</td>\n",
              "      <td>5500</td>\n",
              "      <td>24</td>\n",
              "      <td>30</td>\n",
              "      <td>13950</td>\n",
              "    </tr>\n",
              "    <tr>\n",
              "      <th>4</th>\n",
              "      <td>2</td>\n",
              "      <td>164</td>\n",
              "      <td>audi</td>\n",
              "      <td>gas</td>\n",
              "      <td>std</td>\n",
              "      <td>four</td>\n",
              "      <td>sedan</td>\n",
              "      <td>4wd</td>\n",
              "      <td>front</td>\n",
              "      <td>99.40</td>\n",
              "      <td>...</td>\n",
              "      <td>136</td>\n",
              "      <td>mpfi</td>\n",
              "      <td>3.19</td>\n",
              "      <td>3.40</td>\n",
              "      <td>8.00</td>\n",
              "      <td>115</td>\n",
              "      <td>5500</td>\n",
              "      <td>18</td>\n",
              "      <td>22</td>\n",
              "      <td>17450</td>\n",
              "    </tr>\n",
              "  </tbody>\n",
              "</table>\n",
              "<p>5 rows × 26 columns</p>\n",
              "</div>\n",
              "      <button class=\"colab-df-convert\" onclick=\"convertToInteractive('df-cadd708b-6b86-4d6f-b17a-69f4c133304a')\"\n",
              "              title=\"Convert this dataframe to an interactive table.\"\n",
              "              style=\"display:none;\">\n",
              "        \n",
              "  <svg xmlns=\"http://www.w3.org/2000/svg\" height=\"24px\"viewBox=\"0 0 24 24\"\n",
              "       width=\"24px\">\n",
              "    <path d=\"M0 0h24v24H0V0z\" fill=\"none\"/>\n",
              "    <path d=\"M18.56 5.44l.94 2.06.94-2.06 2.06-.94-2.06-.94-.94-2.06-.94 2.06-2.06.94zm-11 1L8.5 8.5l.94-2.06 2.06-.94-2.06-.94L8.5 2.5l-.94 2.06-2.06.94zm10 10l.94 2.06.94-2.06 2.06-.94-2.06-.94-.94-2.06-.94 2.06-2.06.94z\"/><path d=\"M17.41 7.96l-1.37-1.37c-.4-.4-.92-.59-1.43-.59-.52 0-1.04.2-1.43.59L10.3 9.45l-7.72 7.72c-.78.78-.78 2.05 0 2.83L4 21.41c.39.39.9.59 1.41.59.51 0 1.02-.2 1.41-.59l7.78-7.78 2.81-2.81c.8-.78.8-2.07 0-2.86zM5.41 20L4 18.59l7.72-7.72 1.47 1.35L5.41 20z\"/>\n",
              "  </svg>\n",
              "      </button>\n",
              "      \n",
              "  <style>\n",
              "    .colab-df-container {\n",
              "      display:flex;\n",
              "      flex-wrap:wrap;\n",
              "      gap: 12px;\n",
              "    }\n",
              "\n",
              "    .colab-df-convert {\n",
              "      background-color: #E8F0FE;\n",
              "      border: none;\n",
              "      border-radius: 50%;\n",
              "      cursor: pointer;\n",
              "      display: none;\n",
              "      fill: #1967D2;\n",
              "      height: 32px;\n",
              "      padding: 0 0 0 0;\n",
              "      width: 32px;\n",
              "    }\n",
              "\n",
              "    .colab-df-convert:hover {\n",
              "      background-color: #E2EBFA;\n",
              "      box-shadow: 0px 1px 2px rgba(60, 64, 67, 0.3), 0px 1px 3px 1px rgba(60, 64, 67, 0.15);\n",
              "      fill: #174EA6;\n",
              "    }\n",
              "\n",
              "    [theme=dark] .colab-df-convert {\n",
              "      background-color: #3B4455;\n",
              "      fill: #D2E3FC;\n",
              "    }\n",
              "\n",
              "    [theme=dark] .colab-df-convert:hover {\n",
              "      background-color: #434B5C;\n",
              "      box-shadow: 0px 1px 3px 1px rgba(0, 0, 0, 0.15);\n",
              "      filter: drop-shadow(0px 1px 2px rgba(0, 0, 0, 0.3));\n",
              "      fill: #FFFFFF;\n",
              "    }\n",
              "  </style>\n",
              "\n",
              "      <script>\n",
              "        const buttonEl =\n",
              "          document.querySelector('#df-cadd708b-6b86-4d6f-b17a-69f4c133304a button.colab-df-convert');\n",
              "        buttonEl.style.display =\n",
              "          google.colab.kernel.accessAllowed ? 'block' : 'none';\n",
              "\n",
              "        async function convertToInteractive(key) {\n",
              "          const element = document.querySelector('#df-cadd708b-6b86-4d6f-b17a-69f4c133304a');\n",
              "          const dataTable =\n",
              "            await google.colab.kernel.invokeFunction('convertToInteractive',\n",
              "                                                     [key], {});\n",
              "          if (!dataTable) return;\n",
              "\n",
              "          const docLinkHtml = 'Like what you see? Visit the ' +\n",
              "            '<a target=\"_blank\" href=https://colab.research.google.com/notebooks/data_table.ipynb>data table notebook</a>'\n",
              "            + ' to learn more about interactive tables.';\n",
              "          element.innerHTML = '';\n",
              "          dataTable['output_type'] = 'display_data';\n",
              "          await google.colab.output.renderOutput(dataTable, element);\n",
              "          const docLink = document.createElement('div');\n",
              "          docLink.innerHTML = docLinkHtml;\n",
              "          element.appendChild(docLink);\n",
              "        }\n",
              "      </script>\n",
              "    </div>\n",
              "  </div>\n",
              "  "
            ],
            "text/plain": [
              "  symboling normalized-losses         make fuel-type aspiration num-of-doors  \\\n",
              "0         3                 ?  alfa-romero       gas        std          two   \n",
              "1         3                 ?  alfa-romero       gas        std          two   \n",
              "2         1                 ?  alfa-romero       gas        std          two   \n",
              "3         2               164         audi       gas        std         four   \n",
              "4         2               164         audi       gas        std         four   \n",
              "\n",
              "    body-style drive-wheels engine-location wheel-base  ... engine-size  \\\n",
              "0  convertible          rwd           front      88.60  ...         130   \n",
              "1  convertible          rwd           front      88.60  ...         130   \n",
              "2    hatchback          rwd           front      94.50  ...         152   \n",
              "3        sedan          fwd           front      99.80  ...         109   \n",
              "4        sedan          4wd           front      99.40  ...         136   \n",
              "\n",
              "  fuel-system  bore stroke compression-ratio horsepower peak-rpm city-mpg  \\\n",
              "0        mpfi  3.47   2.68              9.00        111     5000       21   \n",
              "1        mpfi  3.47   2.68              9.00        111     5000       21   \n",
              "2        mpfi  2.68   3.47              9.00        154     5000       19   \n",
              "3        mpfi  3.19   3.40             10.00        102     5500       24   \n",
              "4        mpfi  3.19   3.40              8.00        115     5500       18   \n",
              "\n",
              "  highway-mpg  price  \n",
              "0          27  13495  \n",
              "1          27  16500  \n",
              "2          26  16500  \n",
              "3          30  13950  \n",
              "4          22  17450  \n",
              "\n",
              "[5 rows x 26 columns]"
            ]
          },
          "execution_count": 61,
          "metadata": {},
          "output_type": "execute_result"
        }
      ],
      "source": [
        "df.head()"
      ]
    },
    {
      "cell_type": "markdown",
      "metadata": {
        "id": "BvsxvIjTiKvx"
      },
      "source": [
        "El problema está en que, en este conjunto de datos concreto, la información nula no viene como un elemento nulo de `numpy` o `pandas`, si no que viene en forma de interrogación. Por ello, primero tendremos que reemplazar dicho símbolo por un valor nulo, y luego buscarlos: "
      ]
    },
    {
      "cell_type": "code",
      "execution_count": null,
      "metadata": {
        "colab": {
          "base_uri": "https://localhost:8080/",
          "height": 1000
        },
        "id": "X7J0LwtNiHgW",
        "outputId": "544d3710-4811-43ed-bf9d-6e667c0afc46"
      },
      "outputs": [
        {
          "data": {
            "text/html": [
              "\n",
              "  <div id=\"df-aa8d8182-895f-4b9d-9c11-051fdb545c9a\">\n",
              "    <div class=\"colab-df-container\">\n",
              "      <div>\n",
              "<style scoped>\n",
              "    .dataframe tbody tr th:only-of-type {\n",
              "        vertical-align: middle;\n",
              "    }\n",
              "\n",
              "    .dataframe tbody tr th {\n",
              "        vertical-align: top;\n",
              "    }\n",
              "\n",
              "    .dataframe thead th {\n",
              "        text-align: right;\n",
              "    }\n",
              "</style>\n",
              "<table border=\"1\" class=\"dataframe\">\n",
              "  <thead>\n",
              "    <tr style=\"text-align: right;\">\n",
              "      <th></th>\n",
              "      <th>normalized-losses</th>\n",
              "      <th>num-of-doors</th>\n",
              "      <th>bore</th>\n",
              "      <th>stroke</th>\n",
              "      <th>horsepower</th>\n",
              "      <th>peak-rpm</th>\n",
              "      <th>price</th>\n",
              "    </tr>\n",
              "  </thead>\n",
              "  <tbody>\n",
              "    <tr>\n",
              "      <th>0</th>\n",
              "      <td>NaN</td>\n",
              "      <td>two</td>\n",
              "      <td>3.47</td>\n",
              "      <td>2.68</td>\n",
              "      <td>111</td>\n",
              "      <td>5000</td>\n",
              "      <td>13495</td>\n",
              "    </tr>\n",
              "    <tr>\n",
              "      <th>1</th>\n",
              "      <td>NaN</td>\n",
              "      <td>two</td>\n",
              "      <td>3.47</td>\n",
              "      <td>2.68</td>\n",
              "      <td>111</td>\n",
              "      <td>5000</td>\n",
              "      <td>16500</td>\n",
              "    </tr>\n",
              "    <tr>\n",
              "      <th>2</th>\n",
              "      <td>NaN</td>\n",
              "      <td>two</td>\n",
              "      <td>2.68</td>\n",
              "      <td>3.47</td>\n",
              "      <td>154</td>\n",
              "      <td>5000</td>\n",
              "      <td>16500</td>\n",
              "    </tr>\n",
              "    <tr>\n",
              "      <th>5</th>\n",
              "      <td>NaN</td>\n",
              "      <td>two</td>\n",
              "      <td>3.19</td>\n",
              "      <td>3.40</td>\n",
              "      <td>110</td>\n",
              "      <td>5500</td>\n",
              "      <td>15250</td>\n",
              "    </tr>\n",
              "    <tr>\n",
              "      <th>7</th>\n",
              "      <td>NaN</td>\n",
              "      <td>four</td>\n",
              "      <td>3.19</td>\n",
              "      <td>3.40</td>\n",
              "      <td>110</td>\n",
              "      <td>5500</td>\n",
              "      <td>18920</td>\n",
              "    </tr>\n",
              "    <tr>\n",
              "      <th>9</th>\n",
              "      <td>NaN</td>\n",
              "      <td>two</td>\n",
              "      <td>3.13</td>\n",
              "      <td>3.40</td>\n",
              "      <td>160</td>\n",
              "      <td>5500</td>\n",
              "      <td>NaN</td>\n",
              "    </tr>\n",
              "    <tr>\n",
              "      <th>14</th>\n",
              "      <td>NaN</td>\n",
              "      <td>four</td>\n",
              "      <td>3.31</td>\n",
              "      <td>3.19</td>\n",
              "      <td>121</td>\n",
              "      <td>4250</td>\n",
              "      <td>24565</td>\n",
              "    </tr>\n",
              "    <tr>\n",
              "      <th>15</th>\n",
              "      <td>NaN</td>\n",
              "      <td>four</td>\n",
              "      <td>3.62</td>\n",
              "      <td>3.39</td>\n",
              "      <td>182</td>\n",
              "      <td>5400</td>\n",
              "      <td>30760</td>\n",
              "    </tr>\n",
              "    <tr>\n",
              "      <th>16</th>\n",
              "      <td>NaN</td>\n",
              "      <td>two</td>\n",
              "      <td>3.62</td>\n",
              "      <td>3.39</td>\n",
              "      <td>182</td>\n",
              "      <td>5400</td>\n",
              "      <td>41315</td>\n",
              "    </tr>\n",
              "    <tr>\n",
              "      <th>17</th>\n",
              "      <td>NaN</td>\n",
              "      <td>four</td>\n",
              "      <td>3.62</td>\n",
              "      <td>3.39</td>\n",
              "      <td>182</td>\n",
              "      <td>5400</td>\n",
              "      <td>36880</td>\n",
              "    </tr>\n",
              "    <tr>\n",
              "      <th>27</th>\n",
              "      <td>148</td>\n",
              "      <td>NaN</td>\n",
              "      <td>3.03</td>\n",
              "      <td>3.39</td>\n",
              "      <td>102</td>\n",
              "      <td>5500</td>\n",
              "      <td>8558</td>\n",
              "    </tr>\n",
              "    <tr>\n",
              "      <th>43</th>\n",
              "      <td>NaN</td>\n",
              "      <td>four</td>\n",
              "      <td>3.31</td>\n",
              "      <td>3.23</td>\n",
              "      <td>78</td>\n",
              "      <td>4800</td>\n",
              "      <td>6785</td>\n",
              "    </tr>\n",
              "    <tr>\n",
              "      <th>44</th>\n",
              "      <td>NaN</td>\n",
              "      <td>two</td>\n",
              "      <td>3.03</td>\n",
              "      <td>3.11</td>\n",
              "      <td>70</td>\n",
              "      <td>5400</td>\n",
              "      <td>NaN</td>\n",
              "    </tr>\n",
              "    <tr>\n",
              "      <th>45</th>\n",
              "      <td>NaN</td>\n",
              "      <td>four</td>\n",
              "      <td>3.03</td>\n",
              "      <td>3.11</td>\n",
              "      <td>70</td>\n",
              "      <td>5400</td>\n",
              "      <td>NaN</td>\n",
              "    </tr>\n",
              "    <tr>\n",
              "      <th>46</th>\n",
              "      <td>NaN</td>\n",
              "      <td>two</td>\n",
              "      <td>3.43</td>\n",
              "      <td>3.23</td>\n",
              "      <td>90</td>\n",
              "      <td>5000</td>\n",
              "      <td>11048</td>\n",
              "    </tr>\n",
              "    <tr>\n",
              "      <th>48</th>\n",
              "      <td>NaN</td>\n",
              "      <td>four</td>\n",
              "      <td>3.63</td>\n",
              "      <td>4.17</td>\n",
              "      <td>176</td>\n",
              "      <td>4750</td>\n",
              "      <td>35550</td>\n",
              "    </tr>\n",
              "    <tr>\n",
              "      <th>49</th>\n",
              "      <td>NaN</td>\n",
              "      <td>two</td>\n",
              "      <td>3.54</td>\n",
              "      <td>2.76</td>\n",
              "      <td>262</td>\n",
              "      <td>5000</td>\n",
              "      <td>36000</td>\n",
              "    </tr>\n",
              "    <tr>\n",
              "      <th>55</th>\n",
              "      <td>150</td>\n",
              "      <td>two</td>\n",
              "      <td>NaN</td>\n",
              "      <td>NaN</td>\n",
              "      <td>101</td>\n",
              "      <td>6000</td>\n",
              "      <td>10945</td>\n",
              "    </tr>\n",
              "    <tr>\n",
              "      <th>56</th>\n",
              "      <td>150</td>\n",
              "      <td>two</td>\n",
              "      <td>NaN</td>\n",
              "      <td>NaN</td>\n",
              "      <td>101</td>\n",
              "      <td>6000</td>\n",
              "      <td>11845</td>\n",
              "    </tr>\n",
              "    <tr>\n",
              "      <th>57</th>\n",
              "      <td>150</td>\n",
              "      <td>two</td>\n",
              "      <td>NaN</td>\n",
              "      <td>NaN</td>\n",
              "      <td>101</td>\n",
              "      <td>6000</td>\n",
              "      <td>13645</td>\n",
              "    </tr>\n",
              "    <tr>\n",
              "      <th>58</th>\n",
              "      <td>150</td>\n",
              "      <td>two</td>\n",
              "      <td>NaN</td>\n",
              "      <td>NaN</td>\n",
              "      <td>135</td>\n",
              "      <td>6000</td>\n",
              "      <td>15645</td>\n",
              "    </tr>\n",
              "    <tr>\n",
              "      <th>63</th>\n",
              "      <td>NaN</td>\n",
              "      <td>NaN</td>\n",
              "      <td>3.39</td>\n",
              "      <td>3.39</td>\n",
              "      <td>64</td>\n",
              "      <td>4650</td>\n",
              "      <td>10795</td>\n",
              "    </tr>\n",
              "    <tr>\n",
              "      <th>66</th>\n",
              "      <td>NaN</td>\n",
              "      <td>four</td>\n",
              "      <td>3.43</td>\n",
              "      <td>3.64</td>\n",
              "      <td>72</td>\n",
              "      <td>4200</td>\n",
              "      <td>18344</td>\n",
              "    </tr>\n",
              "    <tr>\n",
              "      <th>71</th>\n",
              "      <td>NaN</td>\n",
              "      <td>four</td>\n",
              "      <td>3.46</td>\n",
              "      <td>3.10</td>\n",
              "      <td>155</td>\n",
              "      <td>4750</td>\n",
              "      <td>34184</td>\n",
              "    </tr>\n",
              "    <tr>\n",
              "      <th>73</th>\n",
              "      <td>NaN</td>\n",
              "      <td>four</td>\n",
              "      <td>3.80</td>\n",
              "      <td>3.35</td>\n",
              "      <td>184</td>\n",
              "      <td>4500</td>\n",
              "      <td>40960</td>\n",
              "    </tr>\n",
              "    <tr>\n",
              "      <th>74</th>\n",
              "      <td>NaN</td>\n",
              "      <td>two</td>\n",
              "      <td>3.80</td>\n",
              "      <td>3.35</td>\n",
              "      <td>184</td>\n",
              "      <td>4500</td>\n",
              "      <td>45400</td>\n",
              "    </tr>\n",
              "    <tr>\n",
              "      <th>75</th>\n",
              "      <td>NaN</td>\n",
              "      <td>two</td>\n",
              "      <td>3.78</td>\n",
              "      <td>3.12</td>\n",
              "      <td>175</td>\n",
              "      <td>5000</td>\n",
              "      <td>16503</td>\n",
              "    </tr>\n",
              "    <tr>\n",
              "      <th>82</th>\n",
              "      <td>NaN</td>\n",
              "      <td>two</td>\n",
              "      <td>3.58</td>\n",
              "      <td>3.86</td>\n",
              "      <td>145</td>\n",
              "      <td>5000</td>\n",
              "      <td>12629</td>\n",
              "    </tr>\n",
              "    <tr>\n",
              "      <th>83</th>\n",
              "      <td>NaN</td>\n",
              "      <td>two</td>\n",
              "      <td>3.59</td>\n",
              "      <td>3.86</td>\n",
              "      <td>145</td>\n",
              "      <td>5000</td>\n",
              "      <td>14869</td>\n",
              "    </tr>\n",
              "    <tr>\n",
              "      <th>84</th>\n",
              "      <td>NaN</td>\n",
              "      <td>two</td>\n",
              "      <td>3.59</td>\n",
              "      <td>3.86</td>\n",
              "      <td>145</td>\n",
              "      <td>5000</td>\n",
              "      <td>14489</td>\n",
              "    </tr>\n",
              "    <tr>\n",
              "      <th>109</th>\n",
              "      <td>NaN</td>\n",
              "      <td>four</td>\n",
              "      <td>3.46</td>\n",
              "      <td>3.19</td>\n",
              "      <td>97</td>\n",
              "      <td>5000</td>\n",
              "      <td>12440</td>\n",
              "    </tr>\n",
              "    <tr>\n",
              "      <th>110</th>\n",
              "      <td>NaN</td>\n",
              "      <td>four</td>\n",
              "      <td>3.70</td>\n",
              "      <td>3.52</td>\n",
              "      <td>95</td>\n",
              "      <td>4150</td>\n",
              "      <td>13860</td>\n",
              "    </tr>\n",
              "    <tr>\n",
              "      <th>113</th>\n",
              "      <td>NaN</td>\n",
              "      <td>four</td>\n",
              "      <td>3.46</td>\n",
              "      <td>2.19</td>\n",
              "      <td>95</td>\n",
              "      <td>5000</td>\n",
              "      <td>16695</td>\n",
              "    </tr>\n",
              "    <tr>\n",
              "      <th>114</th>\n",
              "      <td>NaN</td>\n",
              "      <td>four</td>\n",
              "      <td>3.70</td>\n",
              "      <td>3.52</td>\n",
              "      <td>95</td>\n",
              "      <td>4150</td>\n",
              "      <td>17075</td>\n",
              "    </tr>\n",
              "    <tr>\n",
              "      <th>124</th>\n",
              "      <td>NaN</td>\n",
              "      <td>two</td>\n",
              "      <td>3.59</td>\n",
              "      <td>3.86</td>\n",
              "      <td>145</td>\n",
              "      <td>5000</td>\n",
              "      <td>12764</td>\n",
              "    </tr>\n",
              "    <tr>\n",
              "      <th>126</th>\n",
              "      <td>NaN</td>\n",
              "      <td>two</td>\n",
              "      <td>3.74</td>\n",
              "      <td>2.90</td>\n",
              "      <td>207</td>\n",
              "      <td>5900</td>\n",
              "      <td>32528</td>\n",
              "    </tr>\n",
              "    <tr>\n",
              "      <th>127</th>\n",
              "      <td>NaN</td>\n",
              "      <td>two</td>\n",
              "      <td>3.74</td>\n",
              "      <td>2.90</td>\n",
              "      <td>207</td>\n",
              "      <td>5900</td>\n",
              "      <td>34028</td>\n",
              "    </tr>\n",
              "    <tr>\n",
              "      <th>128</th>\n",
              "      <td>NaN</td>\n",
              "      <td>two</td>\n",
              "      <td>3.74</td>\n",
              "      <td>2.90</td>\n",
              "      <td>207</td>\n",
              "      <td>5900</td>\n",
              "      <td>37028</td>\n",
              "    </tr>\n",
              "    <tr>\n",
              "      <th>129</th>\n",
              "      <td>NaN</td>\n",
              "      <td>two</td>\n",
              "      <td>3.94</td>\n",
              "      <td>3.11</td>\n",
              "      <td>288</td>\n",
              "      <td>5750</td>\n",
              "      <td>NaN</td>\n",
              "    </tr>\n",
              "    <tr>\n",
              "      <th>130</th>\n",
              "      <td>NaN</td>\n",
              "      <td>four</td>\n",
              "      <td>3.46</td>\n",
              "      <td>3.90</td>\n",
              "      <td>NaN</td>\n",
              "      <td>NaN</td>\n",
              "      <td>9295</td>\n",
              "    </tr>\n",
              "    <tr>\n",
              "      <th>131</th>\n",
              "      <td>NaN</td>\n",
              "      <td>two</td>\n",
              "      <td>3.46</td>\n",
              "      <td>3.90</td>\n",
              "      <td>NaN</td>\n",
              "      <td>NaN</td>\n",
              "      <td>9895</td>\n",
              "    </tr>\n",
              "    <tr>\n",
              "      <th>181</th>\n",
              "      <td>NaN</td>\n",
              "      <td>four</td>\n",
              "      <td>3.27</td>\n",
              "      <td>3.35</td>\n",
              "      <td>156</td>\n",
              "      <td>5200</td>\n",
              "      <td>15750</td>\n",
              "    </tr>\n",
              "    <tr>\n",
              "      <th>189</th>\n",
              "      <td>NaN</td>\n",
              "      <td>two</td>\n",
              "      <td>3.19</td>\n",
              "      <td>3.40</td>\n",
              "      <td>90</td>\n",
              "      <td>5500</td>\n",
              "      <td>11595</td>\n",
              "    </tr>\n",
              "    <tr>\n",
              "      <th>191</th>\n",
              "      <td>NaN</td>\n",
              "      <td>four</td>\n",
              "      <td>3.19</td>\n",
              "      <td>3.40</td>\n",
              "      <td>110</td>\n",
              "      <td>5500</td>\n",
              "      <td>13295</td>\n",
              "    </tr>\n",
              "    <tr>\n",
              "      <th>192</th>\n",
              "      <td>NaN</td>\n",
              "      <td>four</td>\n",
              "      <td>3.01</td>\n",
              "      <td>3.40</td>\n",
              "      <td>68</td>\n",
              "      <td>4500</td>\n",
              "      <td>13845</td>\n",
              "    </tr>\n",
              "    <tr>\n",
              "      <th>193</th>\n",
              "      <td>NaN</td>\n",
              "      <td>four</td>\n",
              "      <td>3.19</td>\n",
              "      <td>3.40</td>\n",
              "      <td>88</td>\n",
              "      <td>5500</td>\n",
              "      <td>12290</td>\n",
              "    </tr>\n",
              "  </tbody>\n",
              "</table>\n",
              "</div>\n",
              "      <button class=\"colab-df-convert\" onclick=\"convertToInteractive('df-aa8d8182-895f-4b9d-9c11-051fdb545c9a')\"\n",
              "              title=\"Convert this dataframe to an interactive table.\"\n",
              "              style=\"display:none;\">\n",
              "        \n",
              "  <svg xmlns=\"http://www.w3.org/2000/svg\" height=\"24px\"viewBox=\"0 0 24 24\"\n",
              "       width=\"24px\">\n",
              "    <path d=\"M0 0h24v24H0V0z\" fill=\"none\"/>\n",
              "    <path d=\"M18.56 5.44l.94 2.06.94-2.06 2.06-.94-2.06-.94-.94-2.06-.94 2.06-2.06.94zm-11 1L8.5 8.5l.94-2.06 2.06-.94-2.06-.94L8.5 2.5l-.94 2.06-2.06.94zm10 10l.94 2.06.94-2.06 2.06-.94-2.06-.94-.94-2.06-.94 2.06-2.06.94z\"/><path d=\"M17.41 7.96l-1.37-1.37c-.4-.4-.92-.59-1.43-.59-.52 0-1.04.2-1.43.59L10.3 9.45l-7.72 7.72c-.78.78-.78 2.05 0 2.83L4 21.41c.39.39.9.59 1.41.59.51 0 1.02-.2 1.41-.59l7.78-7.78 2.81-2.81c.8-.78.8-2.07 0-2.86zM5.41 20L4 18.59l7.72-7.72 1.47 1.35L5.41 20z\"/>\n",
              "  </svg>\n",
              "      </button>\n",
              "      \n",
              "  <style>\n",
              "    .colab-df-container {\n",
              "      display:flex;\n",
              "      flex-wrap:wrap;\n",
              "      gap: 12px;\n",
              "    }\n",
              "\n",
              "    .colab-df-convert {\n",
              "      background-color: #E8F0FE;\n",
              "      border: none;\n",
              "      border-radius: 50%;\n",
              "      cursor: pointer;\n",
              "      display: none;\n",
              "      fill: #1967D2;\n",
              "      height: 32px;\n",
              "      padding: 0 0 0 0;\n",
              "      width: 32px;\n",
              "    }\n",
              "\n",
              "    .colab-df-convert:hover {\n",
              "      background-color: #E2EBFA;\n",
              "      box-shadow: 0px 1px 2px rgba(60, 64, 67, 0.3), 0px 1px 3px 1px rgba(60, 64, 67, 0.15);\n",
              "      fill: #174EA6;\n",
              "    }\n",
              "\n",
              "    [theme=dark] .colab-df-convert {\n",
              "      background-color: #3B4455;\n",
              "      fill: #D2E3FC;\n",
              "    }\n",
              "\n",
              "    [theme=dark] .colab-df-convert:hover {\n",
              "      background-color: #434B5C;\n",
              "      box-shadow: 0px 1px 3px 1px rgba(0, 0, 0, 0.15);\n",
              "      filter: drop-shadow(0px 1px 2px rgba(0, 0, 0, 0.3));\n",
              "      fill: #FFFFFF;\n",
              "    }\n",
              "  </style>\n",
              "\n",
              "      <script>\n",
              "        const buttonEl =\n",
              "          document.querySelector('#df-aa8d8182-895f-4b9d-9c11-051fdb545c9a button.colab-df-convert');\n",
              "        buttonEl.style.display =\n",
              "          google.colab.kernel.accessAllowed ? 'block' : 'none';\n",
              "\n",
              "        async function convertToInteractive(key) {\n",
              "          const element = document.querySelector('#df-aa8d8182-895f-4b9d-9c11-051fdb545c9a');\n",
              "          const dataTable =\n",
              "            await google.colab.kernel.invokeFunction('convertToInteractive',\n",
              "                                                     [key], {});\n",
              "          if (!dataTable) return;\n",
              "\n",
              "          const docLinkHtml = 'Like what you see? Visit the ' +\n",
              "            '<a target=\"_blank\" href=https://colab.research.google.com/notebooks/data_table.ipynb>data table notebook</a>'\n",
              "            + ' to learn more about interactive tables.';\n",
              "          element.innerHTML = '';\n",
              "          dataTable['output_type'] = 'display_data';\n",
              "          await google.colab.output.renderOutput(dataTable, element);\n",
              "          const docLink = document.createElement('div');\n",
              "          docLink.innerHTML = docLinkHtml;\n",
              "          element.appendChild(docLink);\n",
              "        }\n",
              "      </script>\n",
              "    </div>\n",
              "  </div>\n",
              "  "
            ],
            "text/plain": [
              "    normalized-losses num-of-doors  bore stroke horsepower peak-rpm  price\n",
              "0                 NaN          two  3.47   2.68        111     5000  13495\n",
              "1                 NaN          two  3.47   2.68        111     5000  16500\n",
              "2                 NaN          two  2.68   3.47        154     5000  16500\n",
              "5                 NaN          two  3.19   3.40        110     5500  15250\n",
              "7                 NaN         four  3.19   3.40        110     5500  18920\n",
              "9                 NaN          two  3.13   3.40        160     5500    NaN\n",
              "14                NaN         four  3.31   3.19        121     4250  24565\n",
              "15                NaN         four  3.62   3.39        182     5400  30760\n",
              "16                NaN          two  3.62   3.39        182     5400  41315\n",
              "17                NaN         four  3.62   3.39        182     5400  36880\n",
              "27                148          NaN  3.03   3.39        102     5500   8558\n",
              "43                NaN         four  3.31   3.23         78     4800   6785\n",
              "44                NaN          two  3.03   3.11         70     5400    NaN\n",
              "45                NaN         four  3.03   3.11         70     5400    NaN\n",
              "46                NaN          two  3.43   3.23         90     5000  11048\n",
              "48                NaN         four  3.63   4.17        176     4750  35550\n",
              "49                NaN          two  3.54   2.76        262     5000  36000\n",
              "55                150          two   NaN    NaN        101     6000  10945\n",
              "56                150          two   NaN    NaN        101     6000  11845\n",
              "57                150          two   NaN    NaN        101     6000  13645\n",
              "58                150          two   NaN    NaN        135     6000  15645\n",
              "63                NaN          NaN  3.39   3.39         64     4650  10795\n",
              "66                NaN         four  3.43   3.64         72     4200  18344\n",
              "71                NaN         four  3.46   3.10        155     4750  34184\n",
              "73                NaN         four  3.80   3.35        184     4500  40960\n",
              "74                NaN          two  3.80   3.35        184     4500  45400\n",
              "75                NaN          two  3.78   3.12        175     5000  16503\n",
              "82                NaN          two  3.58   3.86        145     5000  12629\n",
              "83                NaN          two  3.59   3.86        145     5000  14869\n",
              "84                NaN          two  3.59   3.86        145     5000  14489\n",
              "109               NaN         four  3.46   3.19         97     5000  12440\n",
              "110               NaN         four  3.70   3.52         95     4150  13860\n",
              "113               NaN         four  3.46   2.19         95     5000  16695\n",
              "114               NaN         four  3.70   3.52         95     4150  17075\n",
              "124               NaN          two  3.59   3.86        145     5000  12764\n",
              "126               NaN          two  3.74   2.90        207     5900  32528\n",
              "127               NaN          two  3.74   2.90        207     5900  34028\n",
              "128               NaN          two  3.74   2.90        207     5900  37028\n",
              "129               NaN          two  3.94   3.11        288     5750    NaN\n",
              "130               NaN         four  3.46   3.90        NaN      NaN   9295\n",
              "131               NaN          two  3.46   3.90        NaN      NaN   9895\n",
              "181               NaN         four  3.27   3.35        156     5200  15750\n",
              "189               NaN          two  3.19   3.40         90     5500  11595\n",
              "191               NaN         four  3.19   3.40        110     5500  13295\n",
              "192               NaN         four  3.01   3.40         68     4500  13845\n",
              "193               NaN         four  3.19   3.40         88     5500  12290"
            ]
          },
          "execution_count": 97,
          "metadata": {},
          "output_type": "execute_result"
        }
      ],
      "source": [
        "# Reemplazamos '?' por nulo\n",
        "df = df.replace('?',np.NaN)\n",
        "# Vemos qué columnas tienen datos faltantes\n",
        "missing_cols = list(df.isnull().sum(axis=0)[df.isnull().sum(axis=0)>0].index)\n",
        "# Filtramos las filas donde hay algún dato nulo, y las columnas donde están\n",
        "df.loc[df.isnull().sum(axis=1)>0, missing_cols]"
      ]
    },
    {
      "cell_type": "markdown",
      "metadata": {
        "id": "7tqu8SGAmsjk"
      },
      "source": [
        "Ahora sí que podemos estudiar los datos faltantes. Un detalle que hemos dejado pasar por alto hasta este momento es que todas las columnas han sido interpretadas como `object`, aunque muchas de ellas no lo son. Vamos a convertir a numérico aquellas que lo permitan ahora que hemos corregido esa anomalía de las interrogaciones:"
      ]
    },
    {
      "cell_type": "code",
      "execution_count": null,
      "metadata": {
        "colab": {
          "base_uri": "https://localhost:8080/"
        },
        "id": "0ZPe2cVrq8KB",
        "outputId": "281d6a33-762e-4655-ef35-b3001cc5e0ec"
      },
      "outputs": [
        {
          "name": "stdout",
          "output_type": "stream",
          "text": [
            "<class 'pandas.core.frame.DataFrame'>\n",
            "RangeIndex: 205 entries, 0 to 204\n",
            "Data columns (total 26 columns):\n",
            " #   Column             Non-Null Count  Dtype  \n",
            "---  ------             --------------  -----  \n",
            " 0   symboling          205 non-null    int64  \n",
            " 1   normalized-losses  164 non-null    float64\n",
            " 2   make               205 non-null    object \n",
            " 3   fuel-type          205 non-null    object \n",
            " 4   aspiration         205 non-null    object \n",
            " 5   num-of-doors       203 non-null    object \n",
            " 6   body-style         205 non-null    object \n",
            " 7   drive-wheels       205 non-null    object \n",
            " 8   engine-location    205 non-null    object \n",
            " 9   wheel-base         205 non-null    float64\n",
            " 10  length             205 non-null    float64\n",
            " 11  width              205 non-null    float64\n",
            " 12  height             205 non-null    float64\n",
            " 13  curb-weight        205 non-null    int64  \n",
            " 14  engine-type        205 non-null    object \n",
            " 15  num-of-cylinders   205 non-null    object \n",
            " 16  engine-size        205 non-null    int64  \n",
            " 17  fuel-system        205 non-null    object \n",
            " 18  bore               201 non-null    float64\n",
            " 19  stroke             201 non-null    float64\n",
            " 20  compression-ratio  205 non-null    float64\n",
            " 21  horsepower         203 non-null    float64\n",
            " 22  peak-rpm           203 non-null    float64\n",
            " 23  city-mpg           205 non-null    int64  \n",
            " 24  highway-mpg        205 non-null    int64  \n",
            " 25  price              201 non-null    float64\n",
            "dtypes: float64(11), int64(5), object(10)\n",
            "memory usage: 41.8+ KB\n"
          ]
        }
      ],
      "source": [
        "# Iteramos sobre las columnas del dataset\n",
        "for col in df.columns:\n",
        "    df[col] = pd.to_numeric(df[col], errors='ignore')\n",
        "# Comprobamos que se han convertido con éxito\n",
        "df.info()"
      ]
    },
    {
      "cell_type": "markdown",
      "metadata": {
        "id": "ILp1pDBrq8nX"
      },
      "source": [
        "Como podemos ver, existen tanto variables continuas como discretas. El procedimiento habitual suele ser el siguiente:\n",
        "\n",
        "* Encontrar dentro del conjunto de datos una serie de variables que permitan estratificar la muestra con cierta lógica. Para ello, suele ser conveniente atender a la correlación de nuestra información con la variable respuesta (*la librería de visualizción seaborn, así como el concepto de correlación, forman parte de los contenidos del módulo II, pero es preciso introducirlo brevemente aquí para dar una explicación completa de los contenidos*):"
      ]
    },
    {
      "cell_type": "code",
      "execution_count": null,
      "metadata": {
        "colab": {
          "base_uri": "https://localhost:8080/",
          "height": 634
        },
        "id": "wvgsgo4D097m",
        "outputId": "361bf14e-36f0-48c1-aa56-075469d678bc"
      },
      "outputs": [
        {
          "data": {
            "text/plain": [
              "<matplotlib.axes._subplots.AxesSubplot at 0x7f6f57d33ed0>"
            ]
          },
          "execution_count": 99,
          "metadata": {},
          "output_type": "execute_result"
        },
        {
          "data": {
            "image/png": "[encoded data removed]",
            "text/plain": [
              "<Figure size 792x648 with 2 Axes>"
            ]
          },
          "metadata": {
            "needs_background": "light"
          },
          "output_type": "display_data"
        }
      ],
      "source": [
        "import matplotlib.pyplot as plt\n",
        "import seaborn as sns\n",
        "\n",
        "# Generate a large random dataset\n",
        "df_plot = df.dropna().select_dtypes(include=['int', 'float'])\n",
        "d = pd.DataFrame(data=df_plot,\n",
        "                 columns=df_plot.columns)\n",
        "\n",
        "# Compute the correlation matrix\n",
        "corr = d.corr()\n",
        "\n",
        "# Generate a mask for the upper triangle\n",
        "mask = np.triu(np.ones_like(corr, dtype=bool))\n",
        "\n",
        "# Set up the matplotlib figure\n",
        "f, ax = plt.subplots(figsize=(11, 9))\n",
        "\n",
        "# Generate a custom diverging colormap\n",
        "cmap = sns.diverging_palette(230, 20, as_cmap=True)\n",
        "\n",
        "# Draw the heatmap with the mask and correct aspect ratio\n",
        "sns.heatmap(corr, mask=mask, cmap=cmap, vmax=.3, center=0,\n",
        "            square=True, linewidths=.5, cbar_kws={\"shrink\": .5})"
      ]
    },
    {
      "cell_type": "markdown",
      "metadata": {
        "id": "4AIhrimE08m-"
      },
      "source": [
        "* Si alguna de las variables anteriormente elegidas es continua, como es el caso de `city-mpg` y `highway-mpg`, se discretiza en *cajas* de igual tamaño para identificar vehículos de cilindrada parecida. Esto lo haremos creando una nueva columna en los datos (que luego eliminaremos) mediante:\n",
        "\n",
        "  ```python\n",
        "  def discretise_variable(df, col_name, num_boxes=4):\n",
        "      # Tomamos el mínimo y máximo de los datos\n",
        "      min_col, max_col = df[col_name].min(), df[col_name].max()\n",
        "      # Creamos los valores que segmentarán las cajas\n",
        "      bins = np.linspace(min_col, max_col, num_boxes+1)\n",
        "      # Creamos la columna discretizada\n",
        "      df[col_name+'_disc'] = np.digitize(df[col_name], bins)\n",
        "      return df\n",
        "  ```\n",
        "\n",
        "* Agrupamos los datos por dichas variables y reemplazamos los nulos por la media (para variables continuas) o la moda (para variables discretas). Para ello, nos ayudaremos de este método auxiliar *casero*:\n",
        "\n",
        "```python\n",
        "def replace_missing_data(df):\n",
        "    # Vemos qué columnas tienen valores nulos\n",
        "    mis_cols = list(df.isnull().sum(axis=0)[df.isnull().sum(axis=0)>0].index)\n",
        "    # Iteramos sobre ellas\n",
        "    for col in mis_cols:\n",
        "        # Si la variable es discreta,...\n",
        "        if df[col].dtype in ['object']:\n",
        "            mode_col = df[col].mode().values[0]\n",
        "            df[col] = df[col].fillna(mode_col)\n",
        "        # Si son números enteros\n",
        "        elif df[col].dtype in ['int']:\n",
        "            df[col] = df[col].fillna(df['col'].median())\n",
        "        # Si son números reales\n",
        "        elif df[col].dtype in ['float']:\n",
        "            df[col] = df[col].fillna(df['col'].mean())\n",
        "    # Devolvemos el DataFrame\n",
        "    return df\n",
        "```"
      ]
    },
    {
      "cell_type": "code",
      "execution_count": null,
      "metadata": {
        "id": "jUD-knv3uqlL"
      },
      "outputs": [],
      "source": [
        "# Método auxiliar\n",
        "def discretise_variable(df, col_names, num_boxes=4):\n",
        "    df_clone = df.copy()\n",
        "    for col_name in col_names:\n",
        "        # Tomamos el mínimo y máximo de los datos\n",
        "        min_col, max_col = df_clone[col_name].min(), df_clone[col_name].max()\n",
        "        # Creamos los valores que segmentarán las cajas\n",
        "        bins = np.linspace(min_col, max_col, num_boxes+1)\n",
        "        # Creamos la columna discretizada\n",
        "        df_clone[col_name+'_disc'] = np.digitize(df_clone[col_name], bins)\n",
        "    return df_clone\n",
        "\n",
        "# Método auxiliar\n",
        "def replace_missing_data(g):\n",
        "    # Vemos qué columnas tienen valores nulos\n",
        "    mis_cols = list(g.isnull().sum(axis=0)[g.isnull().sum(axis=0)>0].index)\n",
        "    # Iteramos sobre ellas\n",
        "    for col in mis_cols:\n",
        "        # Si la variable es discreta,...\n",
        "        if g[col].dtype in ['object']:\n",
        "            mode_col = g[col].mode().values[0]\n",
        "            g[col] = g[col].fillna(mode_col)\n",
        "        # Si son números enteros\n",
        "        elif g[col].dtype in ['int']:\n",
        "            g[col] = g[col].fillna(g[col].median())\n",
        "        # Si son números reales\n",
        "        elif df[col].dtype in ['float']:\n",
        "            g[col] = g[col].fillna(g[col].mean())\n",
        "    # Devolvemos el DataFrame\n",
        "    return g\n",
        "\n",
        "# Rellenamos valores por grupos\n",
        "group_cols = ['city-mpg', 'highway-mpg']\n",
        "df_disc = discretise_variable(df, group_cols, 4)\n",
        "df_disc = df_disc.groupby([elem+'_disc' for elem in group_cols]).apply(lambda g: replace_missing_data(g))\n",
        "# Eliminamos columna añadida\n",
        "df = df_disc.drop([elem+'_disc' for elem in group_cols], axis=1, inplace=False)"
      ]
    },
    {
      "cell_type": "markdown",
      "metadata": {
        "id": "FZsMYX4fvbZy"
      },
      "source": [
        "Ya tenemos nuestros datos sin valores nulos y listos para ser procesados:"
      ]
    },
    {
      "cell_type": "code",
      "execution_count": null,
      "metadata": {
        "colab": {
          "base_uri": "https://localhost:8080/"
        },
        "id": "fz5GLLEU0TGk",
        "outputId": "ab2f5889-bdd7-419e-9314-e6a3a9bd2f2f"
      },
      "outputs": [],
      "source": [
        "# Vemos qué columnas tienen datos faltantes\n",
        "missing_cols = list(df.isnull().sum(axis=0)[df.isnull().sum(axis=0)>0].index)\n",
        "# Filtramos las filas donde hay algún dato nulo, y las columnas donde están\n",
        "df.loc[df.isnull().sum(axis=1)>0, missing_cols]"
      ]
    }
  ],
  "metadata": {
    "colab": {
      "collapsed_sections": [
        "vStlWbZ_fc2u",
        "-nbWgJaDktvY",
        "K_zCbkGcnfJl"
      ],
      "name": "07 - Carga y preprocesamiento de datos.ipynb",
      "provenance": [],
      "toc_visible": true
    },
    "kernelspec": {
      "display_name": "Python 3",
      "name": "python3"
    },
    "language_info": {
      "name": "python"
    }
  },
  "nbformat": 4,
  "nbformat_minor": 0
}
