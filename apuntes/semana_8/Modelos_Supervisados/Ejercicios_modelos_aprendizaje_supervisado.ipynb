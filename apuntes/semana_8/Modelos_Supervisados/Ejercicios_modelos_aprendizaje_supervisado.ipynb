{
  "nbformat": 4,
  "nbformat_minor": 0,
  "metadata": {
    "colab": {
      "name": "Ejercicios modelos aprendizaje supervisado.ipynb",
      "provenance": [],
      "collapsed_sections": []
    },
    "kernelspec": {
      "name": "python3",
      "display_name": "Python 3"
    },
    "language_info": {
      "name": "python"
    }
  },
  "cells": [
    {
      "cell_type": "markdown",
      "source": [
        "\n",
        "En este notebook vamos a proponer algunos ejercicios sobre modelos de aprendizaje supervisado utilizando uno de los datasets que ya has visto a lo largo del bootcamp."
      ],
      "metadata": {
        "id": "3G7H0UKVhim_"
      }
    },
    {
      "cell_type": "markdown",
      "source": [
        "# *Adult* [dataset](https://archive.ics.uci.edu/ml/datasets/Adult)\n"
      ],
      "metadata": {
        "id": "1W8TUgALhwFj"
      }
    },
    {
      "cell_type": "markdown",
      "source": [
        "El primer paso es descargarnos los datos y cargarlos en un dataframe de Pandas."
      ],
      "metadata": {
        "id": "wu0jjrzAhzHM"
      }
    },
    {
      "cell_type": "code",
      "execution_count": 45,
      "metadata": {
        "id": "N4btJ3Uug-k9"
      },
      "outputs": [],
      "source": [
        "import os\n",
        "import re\n",
        "import pandas as pd\n",
        "import numpy as np\n",
        "from sklearn.pipeline import Pipeline\n",
        "from sklearn.compose import ColumnTransformer\n",
        "from sklearn.preprocessing import OneHotEncoder\n",
        "from sklearn.model_selection import train_test_split\n",
        "\n",
        "from sklearn.ensemble import RandomForestClassifier\n",
        "from sklearn.metrics import roc_curve,auc, confusion_matrix, classification_report\n",
        "\n",
        "import matplotlib.pyplot as plt\n",
        "\n",
        "import warnings\n",
        "warnings.filterwarnings(\"ignore\")"
      ]
    },
    {
      "cell_type": "code",
      "source": [
        "# Creamos una carpeta para que contenga a nuestro dataset\n",
        "!mkdir /content/adult_dataset\n",
        "# Movemos el directorio activo a esa localización\n",
        "%cd /content/adult_dataset\n",
        "# Descargamos el fichero que contiene los datos a nuestro directorio activo\n",
        "!wget https://archive.ics.uci.edu/ml/machine-learning-databases/adult/adult.data\n",
        "# Descargamos la metadata asociada al conjunto de datos\n",
        "!wget https://archive.ics.uci.edu/ml/machine-learning-databases/adult/adult.names\n",
        "# Leemos datos\n",
        "with open(os.path.join(os.getcwd(),'adult.data'),'r') as f:\n",
        "    data = f.read().splitlines() # Dividimos el texto por saltos de línea\n",
        "    data = [elem.split(',') for elem in data] # Dividimos cada línea por las comas y removemos líneas vacías\n",
        "# Leemos metadata\n",
        "with open(os.path.join(os.getcwd(),'adult.names'),'r') as f:\n",
        "    metadata = f.read().splitlines()\n",
        "# Regex\n",
        "regex_fn = lambda text: re.findall('^[a-zA-Z-]+:{1}', text)\n",
        "reg_text_fn = lambda text : re.findall('[a-zA-Z- ]+', text)\n",
        "metadata_list = [regex_fn(elem)[0] for elem in metadata if regex_fn(elem)]\n",
        "col_names = [reg_text_fn(elem)[0] for elem in metadata_list if reg_text_fn(elem)] + ['label']\n",
        "# Construimos el objeto pd.DataFrame\n",
        "df = pd.DataFrame(data=data, columns=col_names)"
      ],
      "metadata": {
        "colab": {
          "base_uri": "https://localhost:8080/"
        },
        "id": "epmKoMWIh8pM",
        "outputId": "5b7d9f21-61ad-4aed-9f8b-40fba7020d9b"
      },
      "execution_count": 18,
      "outputs": [
        {
          "output_type": "stream",
          "name": "stdout",
          "text": [
            "mkdir: cannot create directory ‘/content/adult_dataset’: File exists\n",
            "/content/adult_dataset\n",
            "--2022-07-11 10:14:32--  https://archive.ics.uci.edu/ml/machine-learning-databases/adult/adult.data\n",
            "Resolving archive.ics.uci.edu (archive.ics.uci.edu)... 128.195.10.252\n",
            "Connecting to archive.ics.uci.edu (archive.ics.uci.edu)|128.195.10.252|:443... connected.\n",
            "HTTP request sent, awaiting response... 200 OK\n",
            "Length: 3974305 (3.8M) [application/x-httpd-php]\n",
            "Saving to: ‘adult.data.2’\n",
            "\n",
            "adult.data.2        100%[===================>]   3.79M  7.40MB/s    in 0.5s    \n",
            "\n",
            "2022-07-11 10:14:33 (7.40 MB/s) - ‘adult.data.2’ saved [3974305/3974305]\n",
            "\n",
            "--2022-07-11 10:14:33--  https://archive.ics.uci.edu/ml/machine-learning-databases/adult/adult.names\n",
            "Resolving archive.ics.uci.edu (archive.ics.uci.edu)... 128.195.10.252\n",
            "Connecting to archive.ics.uci.edu (archive.ics.uci.edu)|128.195.10.252|:443... connected.\n",
            "HTTP request sent, awaiting response... 200 OK\n",
            "Length: 5229 (5.1K) [application/x-httpd-php]\n",
            "Saving to: ‘adult.names.2’\n",
            "\n",
            "adult.names.2       100%[===================>]   5.11K  --.-KB/s    in 0s      \n",
            "\n",
            "2022-07-11 10:14:33 (116 MB/s) - ‘adult.names.2’ saved [5229/5229]\n",
            "\n"
          ]
        }
      ]
    },
    {
      "cell_type": "code",
      "source": [
        "# vamos a hacer un poco de exploración de los datos que tenemos, empezando por ver las primeras filas de datos\n",
        "# que tenemos para hacernos una idea de los datos con los que contamos\n",
        "df.head()"
      ],
      "metadata": {
        "colab": {
          "base_uri": "https://localhost:8080/",
          "height": 337
        },
        "id": "bH_lRYK7h_Gn",
        "outputId": "a83e7600-b49a-4c39-d2e1-2a0f74109374"
      },
      "execution_count": 19,
      "outputs": [
        {
          "output_type": "execute_result",
          "data": {
            "text/plain": [
              "  age          workclass   fnlwgt   education education-num  \\\n",
              "0  39          State-gov    77516   Bachelors            13   \n",
              "1  50   Self-emp-not-inc    83311   Bachelors            13   \n",
              "2  38            Private   215646     HS-grad             9   \n",
              "3  53            Private   234721        11th             7   \n",
              "4  28            Private   338409   Bachelors            13   \n",
              "\n",
              "        marital-status          occupation    relationship    race      sex  \\\n",
              "0        Never-married        Adm-clerical   Not-in-family   White     Male   \n",
              "1   Married-civ-spouse     Exec-managerial         Husband   White     Male   \n",
              "2             Divorced   Handlers-cleaners   Not-in-family   White     Male   \n",
              "3   Married-civ-spouse   Handlers-cleaners         Husband   Black     Male   \n",
              "4   Married-civ-spouse      Prof-specialty            Wife   Black   Female   \n",
              "\n",
              "  capital-gain capital-loss hours-per-week  native-country   label  \n",
              "0         2174            0             40   United-States   <=50K  \n",
              "1            0            0             13   United-States   <=50K  \n",
              "2            0            0             40   United-States   <=50K  \n",
              "3            0            0             40   United-States   <=50K  \n",
              "4            0            0             40            Cuba   <=50K  "
            ],
            "text/html": [
              "\n",
              "  <div id=\"df-89a93884-93ad-4d66-9868-a2bde4b2491e\">\n",
              "    <div class=\"colab-df-container\">\n",
              "      <div>\n",
              "<style scoped>\n",
              "    .dataframe tbody tr th:only-of-type {\n",
              "        vertical-align: middle;\n",
              "    }\n",
              "\n",
              "    .dataframe tbody tr th {\n",
              "        vertical-align: top;\n",
              "    }\n",
              "\n",
              "    .dataframe thead th {\n",
              "        text-align: right;\n",
              "    }\n",
              "</style>\n",
              "<table border=\"1\" class=\"dataframe\">\n",
              "  <thead>\n",
              "    <tr style=\"text-align: right;\">\n",
              "      <th></th>\n",
              "      <th>age</th>\n",
              "      <th>workclass</th>\n",
              "      <th>fnlwgt</th>\n",
              "      <th>education</th>\n",
              "      <th>education-num</th>\n",
              "      <th>marital-status</th>\n",
              "      <th>occupation</th>\n",
              "      <th>relationship</th>\n",
              "      <th>race</th>\n",
              "      <th>sex</th>\n",
              "      <th>capital-gain</th>\n",
              "      <th>capital-loss</th>\n",
              "      <th>hours-per-week</th>\n",
              "      <th>native-country</th>\n",
              "      <th>label</th>\n",
              "    </tr>\n",
              "  </thead>\n",
              "  <tbody>\n",
              "    <tr>\n",
              "      <th>0</th>\n",
              "      <td>39</td>\n",
              "      <td>State-gov</td>\n",
              "      <td>77516</td>\n",
              "      <td>Bachelors</td>\n",
              "      <td>13</td>\n",
              "      <td>Never-married</td>\n",
              "      <td>Adm-clerical</td>\n",
              "      <td>Not-in-family</td>\n",
              "      <td>White</td>\n",
              "      <td>Male</td>\n",
              "      <td>2174</td>\n",
              "      <td>0</td>\n",
              "      <td>40</td>\n",
              "      <td>United-States</td>\n",
              "      <td>&lt;=50K</td>\n",
              "    </tr>\n",
              "    <tr>\n",
              "      <th>1</th>\n",
              "      <td>50</td>\n",
              "      <td>Self-emp-not-inc</td>\n",
              "      <td>83311</td>\n",
              "      <td>Bachelors</td>\n",
              "      <td>13</td>\n",
              "      <td>Married-civ-spouse</td>\n",
              "      <td>Exec-managerial</td>\n",
              "      <td>Husband</td>\n",
              "      <td>White</td>\n",
              "      <td>Male</td>\n",
              "      <td>0</td>\n",
              "      <td>0</td>\n",
              "      <td>13</td>\n",
              "      <td>United-States</td>\n",
              "      <td>&lt;=50K</td>\n",
              "    </tr>\n",
              "    <tr>\n",
              "      <th>2</th>\n",
              "      <td>38</td>\n",
              "      <td>Private</td>\n",
              "      <td>215646</td>\n",
              "      <td>HS-grad</td>\n",
              "      <td>9</td>\n",
              "      <td>Divorced</td>\n",
              "      <td>Handlers-cleaners</td>\n",
              "      <td>Not-in-family</td>\n",
              "      <td>White</td>\n",
              "      <td>Male</td>\n",
              "      <td>0</td>\n",
              "      <td>0</td>\n",
              "      <td>40</td>\n",
              "      <td>United-States</td>\n",
              "      <td>&lt;=50K</td>\n",
              "    </tr>\n",
              "    <tr>\n",
              "      <th>3</th>\n",
              "      <td>53</td>\n",
              "      <td>Private</td>\n",
              "      <td>234721</td>\n",
              "      <td>11th</td>\n",
              "      <td>7</td>\n",
              "      <td>Married-civ-spouse</td>\n",
              "      <td>Handlers-cleaners</td>\n",
              "      <td>Husband</td>\n",
              "      <td>Black</td>\n",
              "      <td>Male</td>\n",
              "      <td>0</td>\n",
              "      <td>0</td>\n",
              "      <td>40</td>\n",
              "      <td>United-States</td>\n",
              "      <td>&lt;=50K</td>\n",
              "    </tr>\n",
              "    <tr>\n",
              "      <th>4</th>\n",
              "      <td>28</td>\n",
              "      <td>Private</td>\n",
              "      <td>338409</td>\n",
              "      <td>Bachelors</td>\n",
              "      <td>13</td>\n",
              "      <td>Married-civ-spouse</td>\n",
              "      <td>Prof-specialty</td>\n",
              "      <td>Wife</td>\n",
              "      <td>Black</td>\n",
              "      <td>Female</td>\n",
              "      <td>0</td>\n",
              "      <td>0</td>\n",
              "      <td>40</td>\n",
              "      <td>Cuba</td>\n",
              "      <td>&lt;=50K</td>\n",
              "    </tr>\n",
              "  </tbody>\n",
              "</table>\n",
              "</div>\n",
              "      <button class=\"colab-df-convert\" onclick=\"convertToInteractive('df-89a93884-93ad-4d66-9868-a2bde4b2491e')\"\n",
              "              title=\"Convert this dataframe to an interactive table.\"\n",
              "              style=\"display:none;\">\n",
              "        \n",
              "  <svg xmlns=\"http://www.w3.org/2000/svg\" height=\"24px\"viewBox=\"0 0 24 24\"\n",
              "       width=\"24px\">\n",
              "    <path d=\"M0 0h24v24H0V0z\" fill=\"none\"/>\n",
              "    <path d=\"M18.56 5.44l.94 2.06.94-2.06 2.06-.94-2.06-.94-.94-2.06-.94 2.06-2.06.94zm-11 1L8.5 8.5l.94-2.06 2.06-.94-2.06-.94L8.5 2.5l-.94 2.06-2.06.94zm10 10l.94 2.06.94-2.06 2.06-.94-2.06-.94-.94-2.06-.94 2.06-2.06.94z\"/><path d=\"M17.41 7.96l-1.37-1.37c-.4-.4-.92-.59-1.43-.59-.52 0-1.04.2-1.43.59L10.3 9.45l-7.72 7.72c-.78.78-.78 2.05 0 2.83L4 21.41c.39.39.9.59 1.41.59.51 0 1.02-.2 1.41-.59l7.78-7.78 2.81-2.81c.8-.78.8-2.07 0-2.86zM5.41 20L4 18.59l7.72-7.72 1.47 1.35L5.41 20z\"/>\n",
              "  </svg>\n",
              "      </button>\n",
              "      \n",
              "  <style>\n",
              "    .colab-df-container {\n",
              "      display:flex;\n",
              "      flex-wrap:wrap;\n",
              "      gap: 12px;\n",
              "    }\n",
              "\n",
              "    .colab-df-convert {\n",
              "      background-color: #E8F0FE;\n",
              "      border: none;\n",
              "      border-radius: 50%;\n",
              "      cursor: pointer;\n",
              "      display: none;\n",
              "      fill: #1967D2;\n",
              "      height: 32px;\n",
              "      padding: 0 0 0 0;\n",
              "      width: 32px;\n",
              "    }\n",
              "\n",
              "    .colab-df-convert:hover {\n",
              "      background-color: #E2EBFA;\n",
              "      box-shadow: 0px 1px 2px rgba(60, 64, 67, 0.3), 0px 1px 3px 1px rgba(60, 64, 67, 0.15);\n",
              "      fill: #174EA6;\n",
              "    }\n",
              "\n",
              "    [theme=dark] .colab-df-convert {\n",
              "      background-color: #3B4455;\n",
              "      fill: #D2E3FC;\n",
              "    }\n",
              "\n",
              "    [theme=dark] .colab-df-convert:hover {\n",
              "      background-color: #434B5C;\n",
              "      box-shadow: 0px 1px 3px 1px rgba(0, 0, 0, 0.15);\n",
              "      filter: drop-shadow(0px 1px 2px rgba(0, 0, 0, 0.3));\n",
              "      fill: #FFFFFF;\n",
              "    }\n",
              "  </style>\n",
              "\n",
              "      <script>\n",
              "        const buttonEl =\n",
              "          document.querySelector('#df-89a93884-93ad-4d66-9868-a2bde4b2491e button.colab-df-convert');\n",
              "        buttonEl.style.display =\n",
              "          google.colab.kernel.accessAllowed ? 'block' : 'none';\n",
              "\n",
              "        async function convertToInteractive(key) {\n",
              "          const element = document.querySelector('#df-89a93884-93ad-4d66-9868-a2bde4b2491e');\n",
              "          const dataTable =\n",
              "            await google.colab.kernel.invokeFunction('convertToInteractive',\n",
              "                                                     [key], {});\n",
              "          if (!dataTable) return;\n",
              "\n",
              "          const docLinkHtml = 'Like what you see? Visit the ' +\n",
              "            '<a target=\"_blank\" href=https://colab.research.google.com/notebooks/data_table.ipynb>data table notebook</a>'\n",
              "            + ' to learn more about interactive tables.';\n",
              "          element.innerHTML = '';\n",
              "          dataTable['output_type'] = 'display_data';\n",
              "          await google.colab.output.renderOutput(dataTable, element);\n",
              "          const docLink = document.createElement('div');\n",
              "          docLink.innerHTML = docLinkHtml;\n",
              "          element.appendChild(docLink);\n",
              "        }\n",
              "      </script>\n",
              "    </div>\n",
              "  </div>\n",
              "  "
            ]
          },
          "metadata": {},
          "execution_count": 19
        }
      ]
    },
    {
      "cell_type": "code",
      "source": [
        "# vamos a ver qué información nos puede proporcionar Pandas sobre los datos\n",
        "df.info()"
      ],
      "metadata": {
        "colab": {
          "base_uri": "https://localhost:8080/"
        },
        "id": "63dsB17uiTWJ",
        "outputId": "4c93f8e4-868d-4e9a-81e0-b681f53faa56"
      },
      "execution_count": 20,
      "outputs": [
        {
          "output_type": "stream",
          "name": "stdout",
          "text": [
            "<class 'pandas.core.frame.DataFrame'>\n",
            "RangeIndex: 32562 entries, 0 to 32561\n",
            "Data columns (total 15 columns):\n",
            " #   Column          Non-Null Count  Dtype \n",
            "---  ------          --------------  ----- \n",
            " 0   age             32562 non-null  object\n",
            " 1   workclass       32561 non-null  object\n",
            " 2   fnlwgt          32561 non-null  object\n",
            " 3   education       32561 non-null  object\n",
            " 4   education-num   32561 non-null  object\n",
            " 5   marital-status  32561 non-null  object\n",
            " 6   occupation      32561 non-null  object\n",
            " 7   relationship    32561 non-null  object\n",
            " 8   race            32561 non-null  object\n",
            " 9   sex             32561 non-null  object\n",
            " 10  capital-gain    32561 non-null  object\n",
            " 11  capital-loss    32561 non-null  object\n",
            " 12  hours-per-week  32561 non-null  object\n",
            " 13  native-country  32561 non-null  object\n",
            " 14  label           32561 non-null  object\n",
            "dtypes: object(15)\n",
            "memory usage: 3.7+ MB\n"
          ]
        }
      ]
    },
    {
      "cell_type": "code",
      "source": [
        "# Podemos ver que todas las filas menos una contiene información, así que vamos a eliminar esa fila que no contiene información \n",
        "# antes de continuar con el procesado de los datos\n",
        "df = df.dropna()"
      ],
      "metadata": {
        "id": "tSTgNKhCiiUg"
      },
      "execution_count": 21,
      "outputs": []
    },
    {
      "cell_type": "markdown",
      "source": [
        "Vamos a proponer un ejercicio sencillo en el que vamos a intentar predecir si una persona en el dataset tiene unos ingresos por encima de 50K$ o no. Esto viene identificado en el dataset por la columna de label. Más adelante propondremos otros enfoques para que puedas seguir sacando partido a este set de datos y poniendo a punto tus habilidades. \n",
        "\n"
      ],
      "metadata": {
        "id": "qvocoW63kUwV"
      }
    },
    {
      "cell_type": "markdown",
      "source": [
        "¿Qúe categoría de problema de aprendizaje supervisado de los que hemos visto en la teoría es el que estamos proponiendo? "
      ],
      "metadata": {
        "id": "wWnWfsAin_L8"
      }
    },
    {
      "cell_type": "markdown",
      "source": [
        "**Un problema de clasificación binaria!**"
      ],
      "metadata": {
        "id": "68kgP61ooAFw"
      }
    },
    {
      "cell_type": "markdown",
      "source": [
        "Al ser un problema de aprendizaje supervisado, vamos a empezar por hacer una validación simple de nuestro modelo utilizando un set de entrenamiento y un set de pruebas."
      ],
      "metadata": {
        "id": "5ajmY1oVjEdZ"
      }
    },
    {
      "cell_type": "markdown",
      "source": [
        "¿Qué pasos de preprocesamiento de los datos deberíamos aplicar a los datos en tu opinión? **¡Propón tus ideas y debátelo con tus compañeros!**"
      ],
      "metadata": {
        "id": "dm4LXJvDjxy3"
      }
    },
    {
      "cell_type": "code",
      "source": [
        "# empezamos por eliminar columnas que no nos aportan información\n",
        "df = df.drop(columns=['fnlwgt','education'],axis=1)\n",
        "\n",
        "# Eliminamos education porque tenemos education_num que nos propociona la misma información y ya tenemos esa columna en un formato numérico\n",
        "# con lo que no tenemos que hacer nosotros mismos la transformación de la columna de education y podemos eliminarla directamente."
      ],
      "metadata": {
        "id": "se2e67Zzi-1j"
      },
      "execution_count": 22,
      "outputs": []
    },
    {
      "cell_type": "code",
      "source": [
        "# Tenemos otras variables que son numéricas pero el tipo de datos de las columnas es object, como si fuese un String. Tenemos que corregir el tipo de dato\n",
        "# de esas variables antes de poder decidir si tenemos que aplicar algún otro paso de preprocesamiento. \n",
        "numerical_variables = ['age','education-num', 'capital-gain','capital-loss', 'hours-per-week']\n",
        "\n",
        "for variable in numerical_variables:\n",
        "  df[variable] = df[variable].astype(int)"
      ],
      "metadata": {
        "id": "_mYZhpYLow0e"
      },
      "execution_count": 23,
      "outputs": []
    },
    {
      "cell_type": "markdown",
      "source": [
        "¿Se te ocurre alguna forma de integrar este paso en un pipeline en vez de utilizar un bucle como el que hemos definido? Echa un vistazo a [documentación FunctionTransformer](https://scikit-learn.org/stable/modules/generated/sklearn.preprocessing.FunctionTransformer.html) y piensa cómo podrías definir una función que haga lo que hace el bucle para una sola columna"
      ],
      "metadata": {
        "id": "-wV19mAyqmeW"
      }
    },
    {
      "cell_type": "code",
      "source": [
        "# vamos a transformar nuestra variable objetivo, label, para que sea numérica \n",
        "label_categories = {' <=50K':0,' >50K':1}\n",
        "# Vamos a utilizar la función map para transformar las variable del label a numérica\n",
        "df['label'] = df['label'].map(label_categories)"
      ],
      "metadata": {
        "id": "eZmRVkBYseJb"
      },
      "execution_count": 25,
      "outputs": []
    },
    {
      "cell_type": "code",
      "source": [
        "# Tenemos unas cuantas columnas categóricas, cuyo valor es texto, por lo que vamos a definir un paso en el que apliquemos un one-hot encoding en cada una\n",
        "# de ellas para poder utilizarlas con nuestro modelo clasificador más adelante. \n",
        "categorical_variables = ['workclass', 'marital-status','occupation','relationship','race','sex', 'native-country']\n",
        "\n",
        "for variable in categorical_variables:\n",
        "  one_hot_encoding = pd.get_dummies(df[variable])\n",
        "  df = pd.concat([df, one_hot_encoding], axis=1)\n",
        "  df= df.drop([variable],axis=1)"
      ],
      "metadata": {
        "id": "CZ36BC4ylDSH"
      },
      "execution_count": 27,
      "outputs": []
    },
    {
      "cell_type": "markdown",
      "source": [
        "Hemos hecho el procesamiento de estas variables categóricas utilizando un bucle igual que en el caso de las variables numéricas. **¿Cómo podríamos integrar esto en un pipeline que junte todos los pasos de preprocesamiento?**"
      ],
      "metadata": {
        "id": "v5igqv1nxvpr"
      }
    },
    {
      "cell_type": "code",
      "source": [
        "# Ya tenemos nuestros datos preparados para poder sacar resultados, así que vamos a proceder a crear los sets de \n",
        "# entrenamiento y de pruebas para realizar una validación simple\n",
        "\n",
        "y = df['label']\n",
        "X = df.loc[:, df.columns != 'label']\n",
        "\n",
        "X_train, X_test, y_train, y_test = train_test_split(X, y, test_size=0.2, random_state =123)\n"
      ],
      "metadata": {
        "id": "pp1nNqhfsIOj"
      },
      "execution_count": 39,
      "outputs": []
    },
    {
      "cell_type": "code",
      "source": [
        "# Vamos a definir un clasificador de random forest con los hiperparámetros por defecto\n",
        "rf = RandomForestClassifier()\n",
        "\n"
      ],
      "metadata": {
        "id": "3iN-_vvctyq4"
      },
      "execution_count": 40,
      "outputs": []
    },
    {
      "cell_type": "code",
      "source": [
        "# vamos a entrenar nuestro modelo con los datos del set de entrenamiento\n",
        "rf.fit(X_train, y_train)"
      ],
      "metadata": {
        "colab": {
          "base_uri": "https://localhost:8080/"
        },
        "id": "cxzspVvpyKAo",
        "outputId": "28eef276-1f5a-44f3-fea9-73f7fb52a02f"
      },
      "execution_count": 41,
      "outputs": [
        {
          "output_type": "execute_result",
          "data": {
            "text/plain": [
              "RandomForestClassifier()"
            ]
          },
          "metadata": {},
          "execution_count": 41
        }
      ]
    },
    {
      "cell_type": "code",
      "source": [
        "# Ahora vamos a generar predicciones para el set de pruebas\n",
        "predicciones = rf.predict(X_test)"
      ],
      "metadata": {
        "id": "rDPtol7myWI-"
      },
      "execution_count": 42,
      "outputs": []
    },
    {
      "cell_type": "code",
      "source": [
        "# ahora vamos a ver qué tal lo ha hecho el random forest\n",
        "pred_proba = rf.predict_proba(X_test)\n",
        "fpr, tpr, _ = roc_curve(y_test, pred_proba[:, 1])\n",
        "roc_auc = auc(fpr, tpr)\n",
        "\n",
        "roc_auc"
      ],
      "metadata": {
        "colab": {
          "base_uri": "https://localhost:8080/"
        },
        "id": "XmR_SLfuylIF",
        "outputId": "d3ec5102-efc2-4783-a49d-eb6f16fdcaca"
      },
      "execution_count": 43,
      "outputs": [
        {
          "output_type": "execute_result",
          "data": {
            "text/plain": [
              "0.894690475904063"
            ]
          },
          "metadata": {},
          "execution_count": 43
        }
      ]
    },
    {
      "cell_type": "code",
      "source": [
        "# vamos a pintar la curva del ROC / AUC\n",
        "plt.plot(fpr,tpr)\n",
        "plt.plot([0, 1], [0, 1], color='r', lw=2, linestyle='--')\n",
        "plt.xlabel('1 - Exhaustividad (recall) ')\n",
        "plt.ylabel('Precision')\n",
        "plt.title('Receiver Operator Characteristic')\n",
        "plt.show()"
      ],
      "metadata": {
        "colab": {
          "base_uri": "https://localhost:8080/",
          "height": 295
        },
        "id": "qoDtx63tyqLV",
        "outputId": "d018e551-688b-4b75-b135-da36b7e188fd"
      },
      "execution_count": 46,
      "outputs": [
        {
          "output_type": "display_data",
          "data": {
            "text/plain": [
              "<Figure size 432x288 with 1 Axes>"
            ],
            "image/png": "[encoded data removed]"
          },
          "metadata": {
            "needs_background": "light"
          }
        }
      ]
    },
    {
      "cell_type": "code",
      "source": [
        "# Otras métrica que podemos sacar son la matriz de confusión del modelo\n",
        "print(confusion_matrix(y_test, predicciones))"
      ],
      "metadata": {
        "colab": {
          "base_uri": "https://localhost:8080/"
        },
        "id": "rtBZrIiAytX9",
        "outputId": "305e3a6a-99e8-4501-f276-c607df8474c1"
      },
      "execution_count": 47,
      "outputs": [
        {
          "output_type": "stream",
          "name": "stdout",
          "text": [
            "[[4538  389]\n",
            " [ 590  996]]\n"
          ]
        }
      ]
    },
    {
      "cell_type": "code",
      "source": [
        "# Scikit-learn también nos permite calcular fácilmente otras métricas como el F1-score, \n",
        "# la precisión del modelo y el recall\n",
        "print(classification_report(y_test, predicciones))"
      ],
      "metadata": {
        "colab": {
          "base_uri": "https://localhost:8080/"
        },
        "id": "h6tc5At5y5FU",
        "outputId": "4dda8fef-1084-4884-d59d-fb342c5fb458"
      },
      "execution_count": 49,
      "outputs": [
        {
          "output_type": "stream",
          "name": "stdout",
          "text": [
            "              precision    recall  f1-score   support\n",
            "\n",
            "           0       0.88      0.92      0.90      4927\n",
            "           1       0.72      0.63      0.67      1586\n",
            "\n",
            "    accuracy                           0.85      6513\n",
            "   macro avg       0.80      0.77      0.79      6513\n",
            "weighted avg       0.84      0.85      0.85      6513\n",
            "\n"
          ]
        }
      ]
    },
    {
      "cell_type": "markdown",
      "source": [
        "## Otros enfoques\n",
        "\n",
        "Hemos completado el problema básico con el set de datos que tenemos. Pero hay muchas mejoras que podemos aplicar a la solución que hemos desarrollado: \n",
        "\n",
        "- Todos los pasos de preprocesamiento están por separado y utilizando bucles para aplicar ese preprocesamiento a las distintas columnas. Si recuerdas de lo que vimos en la teoría, la utilización de Pipelines es una buena práctica que deberías utilizar siempre. ¿Puedes transformar los pasos de preprocesamiento que hemos aplicado en este ejemplo para que se ejecuten dentro de un Pipeline? \n",
        "\n",
        "- Hemos optado por usar un modelo de bosque aleatorio (random forest) con los hiperparámetros por defecto. ¿Puedes encontrar una combinación de hiperparámetros que nos permitan conseguir un mejor resultado? Utiliza un GridSearch como vimos en la teoría y busca la mejor combinación!\n",
        "\n",
        "- Hemos utilizado el modelo de random forest, que es bastante habitual como valor de referencia a la hora de comparar con otros modelos, pero en la teoría vimos otros modelos que podíamos utilizar para problemas de clasificación. ¿Alguno de esos modelos presentan un desempeño mejor que lo que hemos conseguido con el random forest? No te olvides de optimizar los hiperparámetros de todos los modelos para conseguir los mejores resultados posibles. \n",
        "\n",
        "- En este ejemplo hemos optado por utilizar el enfoque de validación simple pero en la teoría hemos visto otros ejemplos de validación que nos permiten entrenar nuestros modelos utilizando todos los datos disponibles sin caer en el overfitting. ¿Conseguimos una mejora del desempeño de nuestros modelos utilizando un tipo diferente de validación como LOOCV o KFCV? \n",
        "\n",
        "- Este módulo del bootcamp es una introducción al data science y por lo tanto no hacemos una revisión en detalle de todos los modelos que existen para resolver estos problemas. Sin embargo, hay otro modelo que puede ser interesante en este problema que se llama Support Vector Machine (SVM) que funciona bien en problemas de clasificación binaria como el que tenemos. Esta es la documentación de scikit-learn para un clasificador basado en SVM (https://scikit-learn.org/stable/modules/generated/sklearn.svm.SVC.html#sklearn.svm.SVC) y esta una descripción de como funciona SVM (https://www.datacamp.com/tutorial/svm-classification-scikit-learn-python) ¿Puedes crear un modelo de clasificación basado en SVM y comparar los resultados con los que has obtenido con los anteriores modelos?"
      ],
      "metadata": {
        "id": "rAGIC64czFUL"
      }
    },
    {
      "cell_type": "code",
      "source": [
        ""
      ],
      "metadata": {
        "id": "xRrv4TUs2dxK"
      },
      "execution_count": null,
      "outputs": []
    }
  ]
}