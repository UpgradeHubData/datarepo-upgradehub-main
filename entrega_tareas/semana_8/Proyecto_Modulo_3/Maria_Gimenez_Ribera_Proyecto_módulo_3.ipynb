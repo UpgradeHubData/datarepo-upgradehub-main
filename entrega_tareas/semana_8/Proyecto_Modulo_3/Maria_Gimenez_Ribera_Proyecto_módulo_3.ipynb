{
  "nbformat": 4,
  "nbformat_minor": 0,
  "metadata": {
    "colab": {
      "name": "Maria_Gimenez_Ribera_Proyecto_módulo_3.ipynb",
      "provenance": [],
      "collapsed_sections": []
    },
    "kernelspec": {
      "name": "python3",
      "display_name": "Python 3"
    },
    "language_info": {
      "name": "python"
    }
  },
  "cells": [
    {
      "cell_type": "markdown",
      "source": [
        "# Proyecto módulo 3\n",
        "\n",
        "En este notebook te vamos a proponer tres sets de datos para que puedas desarrollar un pequeño proyecto asociado al módulo 3 utilizando los distintos modelos que hemos ido viendo a lo largo del módulo. \n",
        "\n",
        "Escoge alguno de los tres sets y utiliza todas las herramientas que has visto en el módulo y en los módulos previos para crear un modelo que resuelva el problema asociado a cada set de datos. "
      ],
      "metadata": {
        "id": "1Ea2wKrLJudB"
      }
    },
    {
      "cell_type": "markdown",
      "source": [
        "## Precio de los aguacates [dataset](https://www.kaggle.com/datasets/neuromusic/avocado-prices)\n",
        "\n",
        "Este set de datos nos permite ver la evolución a lo largo del tiempo del precio de los aguacates en distintos mercados de EEUU y es perfecto para la realización de un análisis de series temporales que ayuden a predecir la evolución de los precios de este alimento\n",
        "\n",
        "Source and help: [DATA SCIENCE](https://salcorpenterprise.com/time-series-analysis-with-avocados/)\n"
      ],
      "metadata": {
        "id": "T5A32zeDKlOf"
      }
    },
    {
      "cell_type": "code",
      "source": [
        "import pandas as pd\n",
        "import numpy as np\n",
        " \n",
        "from statsmodels.tsa.arima_model import ARIMA\n",
        "import statsmodels.api as sm\n",
        " \n",
        "from sklearn.metrics import mean_squared_error"
      ],
      "metadata": {
        "colab": {
          "base_uri": "https://localhost:8080/"
        },
        "id": "Yzc6M_764yP7",
        "outputId": "0b4955f2-2a64-422e-adfd-cbc6156c8d5c"
      },
      "execution_count": null,
      "outputs": [
        {
          "output_type": "stream",
          "name": "stderr",
          "text": [
            "/usr/local/lib/python3.7/dist-packages/statsmodels/tools/_testing.py:19: FutureWarning: pandas.util.testing is deprecated. Use the functions in the public API at pandas.testing instead.\n",
            "  import pandas.util.testing as tm\n"
          ]
        }
      ]
    },
    {
      "cell_type": "code",
      "source": [
        "# Mount your google drive in google colab\n",
        "from google.colab import drive\n",
        "drive.mount('/content/drive')"
      ],
      "metadata": {
        "colab": {
          "base_uri": "https://localhost:8080/"
        },
        "id": "VWzTLlsM42lV",
        "outputId": "12996b94-2019-4c9f-c71e-32c42a6deb52"
      },
      "execution_count": null,
      "outputs": [
        {
          "output_type": "stream",
          "name": "stdout",
          "text": [
            "Mounted at /content/drive\n"
          ]
        }
      ]
    },
    {
      "cell_type": "code",
      "source": [
        "df = pd.read_csv('/content/drive/MyDrive/Copia de avocado.csv', index_col=0)"
      ],
      "metadata": {
        "id": "2IvJeAOiLEKP"
      },
      "execution_count": null,
      "outputs": []
    },
    {
      "cell_type": "markdown",
      "source": [
        "Paletas de colores para el dataset"
      ],
      "metadata": {
        "id": "GSBmD6uS5o_o"
      }
    },
    {
      "cell_type": "code",
      "source": [
        "import seaborn as sns"
      ],
      "metadata": {
        "id": "TU-iOJGuDwpN"
      },
      "execution_count": null,
      "outputs": []
    },
    {
      "cell_type": "code",
      "source": [
        "# List of color\n",
        "olive_grad = ['#2A3F07', '#557F0F', '#7FBE17', '#A4E637', '#C1EE76']\n",
        "yellow_grad = ['#413D05', '#837A0B', '#C5B710', '#E8DA2E', '#F9EE6A']\n",
        "color_mix = ['#356211', '#6C8F32', '#F2E880', '#C15C37', '#AA471F']\n",
        "black_grad = ['#100C07', '#3E3B39', '#6D6A6A', '#9B9A9C', '#CAC9CD']\n",
        "\n",
        "# Color palette\n",
        "sns.palplot(olive_grad)\n",
        "sns.palplot(yellow_grad)\n",
        "sns.palplot(color_mix)\n",
        "sns.palplot(black_grad)"
      ],
      "metadata": {
        "colab": {
          "base_uri": "https://localhost:8080/",
          "height": 305
        },
        "id": "dl86n4Qn4k74",
        "outputId": "2f56b9d6-6e3b-4985-e8a8-a08f778bbbec"
      },
      "execution_count": null,
      "outputs": [
        {
          "output_type": "display_data",
          "data": {
            "text/plain": [
              "<Figure size 360x72 with 1 Axes>"
            ],
            "image/png": "[encoded data removed]"
          },
          "metadata": {
            "needs_background": "light"
          }
        },
        {
          "output_type": "display_data",
          "data": {
            "text/plain": [
              "<Figure size 360x72 with 1 Axes>"
            ],
            "image/png": "[encoded data removed]"
          },
          "metadata": {
            "needs_background": "light"
          }
        },
        {
          "output_type": "display_data",
          "data": {
            "text/plain": [
              "<Figure size 360x72 with 1 Axes>"
            ],
            "image/png": "[encoded data removed]"
          },
          "metadata": {
            "needs_background": "light"
          }
        },
        {
          "output_type": "display_data",
          "data": {
            "text/plain": [
              "<Figure size 360x72 with 1 Axes>"
            ],
            "image/png": "[encoded data removed]"
          },
          "metadata": {
            "needs_background": "light"
          }
        }
      ]
    },
    {
      "cell_type": "markdown",
      "source": [
        "## Exploratory Data Analysis\n",
        "Let's have a look at our data"
      ],
      "metadata": {
        "id": "b9xESYLn6Mrq"
      }
    },
    {
      "cell_type": "code",
      "source": [
        "df.head().style.background_gradient(cmap='Greens').set_properties(**{'font-family': 'Segoe UI'}).hide_index()"
      ],
      "metadata": {
        "id": "VNu84VmY4Zfx",
        "colab": {
          "base_uri": "https://localhost:8080/",
          "height": 310
        },
        "outputId": "586f54cc-f867-4743-803d-253d67ec12f5"
      },
      "execution_count": null,
      "outputs": [
        {
          "output_type": "execute_result",
          "data": {
            "text/plain": [
              "<pandas.io.formats.style.Styler at 0x7ff9eac93090>"
            ],
            "text/html": [
              "<style type=\"text/css\">\n",
              "#T_2dc7b_row0_col0, #T_2dc7b_row0_col10, #T_2dc7b_row0_col12, #T_2dc7b_row1_col0, #T_2dc7b_row1_col10, #T_2dc7b_row1_col12, #T_2dc7b_row2_col0, #T_2dc7b_row2_col10, #T_2dc7b_row2_col12, #T_2dc7b_row3_col0, #T_2dc7b_row3_col10, #T_2dc7b_row3_col12, #T_2dc7b_row4_col0, #T_2dc7b_row4_col10, #T_2dc7b_row4_col12 {\n",
              "  font-family: Segoe UI;\n",
              "}\n",
              "#T_2dc7b_row0_col1 {\n",
              "  background-color: #005321;\n",
              "  color: #f1f1f1;\n",
              "  font-family: Segoe UI;\n",
              "}\n",
              "#T_2dc7b_row0_col2 {\n",
              "  background-color: #d4eece;\n",
              "  color: #000000;\n",
              "  font-family: Segoe UI;\n",
              "}\n",
              "#T_2dc7b_row0_col3 {\n",
              "  background-color: #17813d;\n",
              "  color: #f1f1f1;\n",
              "  font-family: Segoe UI;\n",
              "}\n",
              "#T_2dc7b_row0_col4 {\n",
              "  background-color: #dcf2d7;\n",
              "  color: #000000;\n",
              "  font-family: Segoe UI;\n",
              "}\n",
              "#T_2dc7b_row0_col5, #T_2dc7b_row0_col8, #T_2dc7b_row0_col9, #T_2dc7b_row0_col11, #T_2dc7b_row1_col3, #T_2dc7b_row1_col9, #T_2dc7b_row1_col11, #T_2dc7b_row2_col1, #T_2dc7b_row2_col9, #T_2dc7b_row2_col11, #T_2dc7b_row3_col6, #T_2dc7b_row3_col7, #T_2dc7b_row3_col9, #T_2dc7b_row3_col11, #T_2dc7b_row4_col2, #T_2dc7b_row4_col4, #T_2dc7b_row4_col9, #T_2dc7b_row4_col11 {\n",
              "  background-color: #f7fcf5;\n",
              "  color: #000000;\n",
              "  font-family: Segoe UI;\n",
              "}\n",
              "#T_2dc7b_row0_col6 {\n",
              "  background-color: #1a843f;\n",
              "  color: #f1f1f1;\n",
              "  font-family: Segoe UI;\n",
              "}\n",
              "#T_2dc7b_row0_col7 {\n",
              "  background-color: #19833e;\n",
              "  color: #f1f1f1;\n",
              "  font-family: Segoe UI;\n",
              "}\n",
              "#T_2dc7b_row1_col1, #T_2dc7b_row1_col6, #T_2dc7b_row1_col7, #T_2dc7b_row2_col2, #T_2dc7b_row2_col4, #T_2dc7b_row2_col5, #T_2dc7b_row3_col3, #T_2dc7b_row4_col8 {\n",
              "  background-color: #00441b;\n",
              "  color: #f1f1f1;\n",
              "  font-family: Segoe UI;\n",
              "}\n",
              "#T_2dc7b_row1_col2 {\n",
              "  background-color: #eff9ec;\n",
              "  color: #000000;\n",
              "  font-family: Segoe UI;\n",
              "}\n",
              "#T_2dc7b_row1_col4 {\n",
              "  background-color: #f5fbf3;\n",
              "  color: #000000;\n",
              "  font-family: Segoe UI;\n",
              "}\n",
              "#T_2dc7b_row1_col5 {\n",
              "  background-color: #e5f5e1;\n",
              "  color: #000000;\n",
              "  font-family: Segoe UI;\n",
              "}\n",
              "#T_2dc7b_row1_col8 {\n",
              "  background-color: #f1faee;\n",
              "  color: #000000;\n",
              "  font-family: Segoe UI;\n",
              "}\n",
              "#T_2dc7b_row2_col3 {\n",
              "  background-color: #c3e7bc;\n",
              "  color: #000000;\n",
              "  font-family: Segoe UI;\n",
              "}\n",
              "#T_2dc7b_row2_col6 {\n",
              "  background-color: #3fa95c;\n",
              "  color: #f1f1f1;\n",
              "  font-family: Segoe UI;\n",
              "}\n",
              "#T_2dc7b_row2_col7 {\n",
              "  background-color: #3fa85b;\n",
              "  color: #f1f1f1;\n",
              "  font-family: Segoe UI;\n",
              "}\n",
              "#T_2dc7b_row2_col8, #T_2dc7b_row4_col6 {\n",
              "  background-color: #e9f7e5;\n",
              "  color: #000000;\n",
              "  font-family: Segoe UI;\n",
              "}\n",
              "#T_2dc7b_row3_col1 {\n",
              "  background-color: #a7dba0;\n",
              "  color: #000000;\n",
              "  font-family: Segoe UI;\n",
              "}\n",
              "#T_2dc7b_row3_col2 {\n",
              "  background-color: #92d28f;\n",
              "  color: #000000;\n",
              "  font-family: Segoe UI;\n",
              "}\n",
              "#T_2dc7b_row3_col4 {\n",
              "  background-color: #8dd08a;\n",
              "  color: #000000;\n",
              "  font-family: Segoe UI;\n",
              "}\n",
              "#T_2dc7b_row3_col5 {\n",
              "  background-color: #bae3b3;\n",
              "  color: #000000;\n",
              "  font-family: Segoe UI;\n",
              "}\n",
              "#T_2dc7b_row3_col8 {\n",
              "  background-color: #9cd797;\n",
              "  color: #000000;\n",
              "  font-family: Segoe UI;\n",
              "}\n",
              "#T_2dc7b_row4_col1 {\n",
              "  background-color: #0b7734;\n",
              "  color: #f1f1f1;\n",
              "  font-family: Segoe UI;\n",
              "}\n",
              "#T_2dc7b_row4_col3 {\n",
              "  background-color: #52b365;\n",
              "  color: #f1f1f1;\n",
              "  font-family: Segoe UI;\n",
              "}\n",
              "#T_2dc7b_row4_col5 {\n",
              "  background-color: #aedea7;\n",
              "  color: #000000;\n",
              "  font-family: Segoe UI;\n",
              "}\n",
              "#T_2dc7b_row4_col7 {\n",
              "  background-color: #ebf7e7;\n",
              "  color: #000000;\n",
              "  font-family: Segoe UI;\n",
              "}\n",
              "</style>\n",
              "<table id=\"T_2dc7b_\" class=\"dataframe\">\n",
              "  <thead>\n",
              "    <tr>\n",
              "      <th class=\"col_heading level0 col0\" >Date</th>\n",
              "      <th class=\"col_heading level0 col1\" >AveragePrice</th>\n",
              "      <th class=\"col_heading level0 col2\" >Total Volume</th>\n",
              "      <th class=\"col_heading level0 col3\" >4046</th>\n",
              "      <th class=\"col_heading level0 col4\" >4225</th>\n",
              "      <th class=\"col_heading level0 col5\" >4770</th>\n",
              "      <th class=\"col_heading level0 col6\" >Total Bags</th>\n",
              "      <th class=\"col_heading level0 col7\" >Small Bags</th>\n",
              "      <th class=\"col_heading level0 col8\" >Large Bags</th>\n",
              "      <th class=\"col_heading level0 col9\" >XLarge Bags</th>\n",
              "      <th class=\"col_heading level0 col10\" >type</th>\n",
              "      <th class=\"col_heading level0 col11\" >year</th>\n",
              "      <th class=\"col_heading level0 col12\" >region</th>\n",
              "    </tr>\n",
              "  </thead>\n",
              "  <tbody>\n",
              "    <tr>\n",
              "      <td id=\"T_2dc7b_row0_col0\" class=\"data row0 col0\" >2015-12-27</td>\n",
              "      <td id=\"T_2dc7b_row0_col1\" class=\"data row0 col1\" >1.330000</td>\n",
              "      <td id=\"T_2dc7b_row0_col2\" class=\"data row0 col2\" >64236.620000</td>\n",
              "      <td id=\"T_2dc7b_row0_col3\" class=\"data row0 col3\" >1036.740000</td>\n",
              "      <td id=\"T_2dc7b_row0_col4\" class=\"data row0 col4\" >54454.850000</td>\n",
              "      <td id=\"T_2dc7b_row0_col5\" class=\"data row0 col5\" >48.160000</td>\n",
              "      <td id=\"T_2dc7b_row0_col6\" class=\"data row0 col6\" >8696.870000</td>\n",
              "      <td id=\"T_2dc7b_row0_col7\" class=\"data row0 col7\" >8603.620000</td>\n",
              "      <td id=\"T_2dc7b_row0_col8\" class=\"data row0 col8\" >93.250000</td>\n",
              "      <td id=\"T_2dc7b_row0_col9\" class=\"data row0 col9\" >0.000000</td>\n",
              "      <td id=\"T_2dc7b_row0_col10\" class=\"data row0 col10\" >conventional</td>\n",
              "      <td id=\"T_2dc7b_row0_col11\" class=\"data row0 col11\" >2015</td>\n",
              "      <td id=\"T_2dc7b_row0_col12\" class=\"data row0 col12\" >Albany</td>\n",
              "    </tr>\n",
              "    <tr>\n",
              "      <td id=\"T_2dc7b_row1_col0\" class=\"data row1 col0\" >2015-12-20</td>\n",
              "      <td id=\"T_2dc7b_row1_col1\" class=\"data row1 col1\" >1.350000</td>\n",
              "      <td id=\"T_2dc7b_row1_col2\" class=\"data row1 col2\" >54876.980000</td>\n",
              "      <td id=\"T_2dc7b_row1_col3\" class=\"data row1 col3\" >674.280000</td>\n",
              "      <td id=\"T_2dc7b_row1_col4\" class=\"data row1 col4\" >44638.810000</td>\n",
              "      <td id=\"T_2dc7b_row1_col5\" class=\"data row1 col5\" >58.330000</td>\n",
              "      <td id=\"T_2dc7b_row1_col6\" class=\"data row1 col6\" >9505.560000</td>\n",
              "      <td id=\"T_2dc7b_row1_col7\" class=\"data row1 col7\" >9408.070000</td>\n",
              "      <td id=\"T_2dc7b_row1_col8\" class=\"data row1 col8\" >97.490000</td>\n",
              "      <td id=\"T_2dc7b_row1_col9\" class=\"data row1 col9\" >0.000000</td>\n",
              "      <td id=\"T_2dc7b_row1_col10\" class=\"data row1 col10\" >conventional</td>\n",
              "      <td id=\"T_2dc7b_row1_col11\" class=\"data row1 col11\" >2015</td>\n",
              "      <td id=\"T_2dc7b_row1_col12\" class=\"data row1 col12\" >Albany</td>\n",
              "    </tr>\n",
              "    <tr>\n",
              "      <td id=\"T_2dc7b_row2_col0\" class=\"data row2 col0\" >2015-12-13</td>\n",
              "      <td id=\"T_2dc7b_row2_col1\" class=\"data row2 col1\" >0.930000</td>\n",
              "      <td id=\"T_2dc7b_row2_col2\" class=\"data row2 col2\" >118220.220000</td>\n",
              "      <td id=\"T_2dc7b_row2_col3\" class=\"data row2 col3\" >794.700000</td>\n",
              "      <td id=\"T_2dc7b_row2_col4\" class=\"data row2 col4\" >109149.670000</td>\n",
              "      <td id=\"T_2dc7b_row2_col5\" class=\"data row2 col5\" >130.500000</td>\n",
              "      <td id=\"T_2dc7b_row2_col6\" class=\"data row2 col6\" >8145.350000</td>\n",
              "      <td id=\"T_2dc7b_row2_col7\" class=\"data row2 col7\" >8042.210000</td>\n",
              "      <td id=\"T_2dc7b_row2_col8\" class=\"data row2 col8\" >103.140000</td>\n",
              "      <td id=\"T_2dc7b_row2_col9\" class=\"data row2 col9\" >0.000000</td>\n",
              "      <td id=\"T_2dc7b_row2_col10\" class=\"data row2 col10\" >conventional</td>\n",
              "      <td id=\"T_2dc7b_row2_col11\" class=\"data row2 col11\" >2015</td>\n",
              "      <td id=\"T_2dc7b_row2_col12\" class=\"data row2 col12\" >Albany</td>\n",
              "    </tr>\n",
              "    <tr>\n",
              "      <td id=\"T_2dc7b_row3_col0\" class=\"data row3 col0\" >2015-12-06</td>\n",
              "      <td id=\"T_2dc7b_row3_col1\" class=\"data row3 col1\" >1.080000</td>\n",
              "      <td id=\"T_2dc7b_row3_col2\" class=\"data row3 col2\" >78992.150000</td>\n",
              "      <td id=\"T_2dc7b_row3_col3\" class=\"data row3 col3\" >1132.000000</td>\n",
              "      <td id=\"T_2dc7b_row3_col4\" class=\"data row3 col4\" >71976.410000</td>\n",
              "      <td id=\"T_2dc7b_row3_col5\" class=\"data row3 col5\" >72.580000</td>\n",
              "      <td id=\"T_2dc7b_row3_col6\" class=\"data row3 col6\" >5811.160000</td>\n",
              "      <td id=\"T_2dc7b_row3_col7\" class=\"data row3 col7\" >5677.400000</td>\n",
              "      <td id=\"T_2dc7b_row3_col8\" class=\"data row3 col8\" >133.760000</td>\n",
              "      <td id=\"T_2dc7b_row3_col9\" class=\"data row3 col9\" >0.000000</td>\n",
              "      <td id=\"T_2dc7b_row3_col10\" class=\"data row3 col10\" >conventional</td>\n",
              "      <td id=\"T_2dc7b_row3_col11\" class=\"data row3 col11\" >2015</td>\n",
              "      <td id=\"T_2dc7b_row3_col12\" class=\"data row3 col12\" >Albany</td>\n",
              "    </tr>\n",
              "    <tr>\n",
              "      <td id=\"T_2dc7b_row4_col0\" class=\"data row4 col0\" >2015-11-29</td>\n",
              "      <td id=\"T_2dc7b_row4_col1\" class=\"data row4 col1\" >1.280000</td>\n",
              "      <td id=\"T_2dc7b_row4_col2\" class=\"data row4 col2\" >51039.600000</td>\n",
              "      <td id=\"T_2dc7b_row4_col3\" class=\"data row4 col3\" >941.480000</td>\n",
              "      <td id=\"T_2dc7b_row4_col4\" class=\"data row4 col4\" >43838.390000</td>\n",
              "      <td id=\"T_2dc7b_row4_col5\" class=\"data row4 col5\" >75.780000</td>\n",
              "      <td id=\"T_2dc7b_row4_col6\" class=\"data row4 col6\" >6183.950000</td>\n",
              "      <td id=\"T_2dc7b_row4_col7\" class=\"data row4 col7\" >5986.260000</td>\n",
              "      <td id=\"T_2dc7b_row4_col8\" class=\"data row4 col8\" >197.690000</td>\n",
              "      <td id=\"T_2dc7b_row4_col9\" class=\"data row4 col9\" >0.000000</td>\n",
              "      <td id=\"T_2dc7b_row4_col10\" class=\"data row4 col10\" >conventional</td>\n",
              "      <td id=\"T_2dc7b_row4_col11\" class=\"data row4 col11\" >2015</td>\n",
              "      <td id=\"T_2dc7b_row4_col12\" class=\"data row4 col12\" >Albany</td>\n",
              "    </tr>\n",
              "  </tbody>\n",
              "</table>\n"
            ]
          },
          "metadata": {},
          "execution_count": 6
        }
      ]
    },
    {
      "cell_type": "code",
      "source": [
        "# Amount of information\n",
        "df.shape"
      ],
      "metadata": {
        "colab": {
          "base_uri": "https://localhost:8080/"
        },
        "id": "pB-z2VmgmwTX",
        "outputId": "31ce55a6-e0ec-4fc0-fb2e-3d701176b5c1"
      },
      "execution_count": null,
      "outputs": [
        {
          "output_type": "execute_result",
          "data": {
            "text/plain": [
              "(18249, 13)"
            ]
          },
          "metadata": {},
          "execution_count": 7
        }
      ]
    },
    {
      "cell_type": "code",
      "source": [
        "# Types of columns\n",
        "df.columns"
      ],
      "metadata": {
        "colab": {
          "base_uri": "https://localhost:8080/"
        },
        "id": "HSIQnqc8q7-A",
        "outputId": "7e47e522-990e-4d4c-b1b7-48ef05a84889"
      },
      "execution_count": null,
      "outputs": [
        {
          "output_type": "execute_result",
          "data": {
            "text/plain": [
              "Index(['Date', 'AveragePrice', 'Total Volume', '4046', '4225', '4770',\n",
              "       'Total Bags', 'Small Bags', 'Large Bags', 'XLarge Bags', 'type', 'year',\n",
              "       'region'],\n",
              "      dtype='object')"
            ]
          },
          "metadata": {},
          "execution_count": 8
        }
      ]
    },
    {
      "cell_type": "code",
      "source": [
        "# Content of columns\n",
        "display(df.dtypes)"
      ],
      "metadata": {
        "colab": {
          "base_uri": "https://localhost:8080/",
          "height": 260
        },
        "id": "3Q5NBqAAq-w_",
        "outputId": "4afe35cc-774c-4720-bd6b-52a84b7e56e1"
      },
      "execution_count": null,
      "outputs": [
        {
          "output_type": "display_data",
          "data": {
            "text/plain": [
              "Date             object\n",
              "AveragePrice    float64\n",
              "Total Volume    float64\n",
              "4046            float64\n",
              "4225            float64\n",
              "4770            float64\n",
              "Total Bags      float64\n",
              "Small Bags      float64\n",
              "Large Bags      float64\n",
              "XLarge Bags     float64\n",
              "type             object\n",
              "year              int64\n",
              "region           object\n",
              "dtype: object"
            ]
          },
          "metadata": {}
        }
      ]
    },
    {
      "cell_type": "markdown",
      "source": [
        "We observe that the variable Date is written as an object where it should be a date. Let's change this!"
      ],
      "metadata": {
        "id": "xavKs5NQ-JUy"
      }
    },
    {
      "cell_type": "code",
      "source": [
        "df['Date'] = pd.to_datetime(df['Date'])\n",
        "display(df.Date.dtypes)"
      ],
      "metadata": {
        "colab": {
          "base_uri": "https://localhost:8080/",
          "height": 34
        },
        "id": "4sh8ztTr-I7_",
        "outputId": "eb7e3ab0-cc08-4294-8a24-d14a9dc2bbec"
      },
      "execution_count": null,
      "outputs": [
        {
          "output_type": "display_data",
          "data": {
            "text/plain": [
              "dtype('<M8[ns]')"
            ]
          },
          "metadata": {}
        }
      ]
    },
    {
      "cell_type": "markdown",
      "source": [
        "We want to sort the dataset from oldest to newest. We do this by the following code:"
      ],
      "metadata": {
        "id": "WKEev22e-rVr"
      }
    },
    {
      "cell_type": "code",
      "source": [
        "df.set_index('Date', inplace=True)\n",
        "df= df.sort_index()"
      ],
      "metadata": {
        "id": "BsavOBCL-wms"
      },
      "execution_count": null,
      "outputs": []
    },
    {
      "cell_type": "code",
      "source": [
        "df.head()"
      ],
      "metadata": {
        "colab": {
          "base_uri": "https://localhost:8080/",
          "height": 386
        },
        "id": "Y921y2ToIDQ0",
        "outputId": "b00795ec-32a2-4880-a518-d3bd811da2a0"
      },
      "execution_count": null,
      "outputs": [
        {
          "output_type": "execute_result",
          "data": {
            "text/plain": [
              "            AveragePrice  Total Volume     4046      4225     4770  \\\n",
              "Date                                                                 \n",
              "2015-01-04          1.75      27365.89  9307.34   3844.81   615.28   \n",
              "2015-01-04          1.49      17723.17  1189.35  15628.27     0.00   \n",
              "2015-01-04          1.68       2896.72   161.68    206.96     0.00   \n",
              "2015-01-04          1.52      54956.80  3013.04  35456.88  1561.70   \n",
              "2015-01-04          1.64       1505.12     1.27   1129.50     0.00   \n",
              "\n",
              "            Total Bags  Small Bags  Large Bags  XLarge Bags          type  \\\n",
              "Date                                                                        \n",
              "2015-01-04    13598.46    13061.10      537.36          0.0       organic   \n",
              "2015-01-04      905.55      905.55        0.00          0.0       organic   \n",
              "2015-01-04     2528.08     2528.08        0.00          0.0       organic   \n",
              "2015-01-04    14925.18    11264.80     3660.38          0.0  conventional   \n",
              "2015-01-04      374.35      186.67      187.68          0.0       organic   \n",
              "\n",
              "            year              region  \n",
              "Date                                  \n",
              "2015-01-04  2015           Southeast  \n",
              "2015-01-04  2015             Chicago  \n",
              "2015-01-04  2015  HarrisburgScranton  \n",
              "2015-01-04  2015          Pittsburgh  \n",
              "2015-01-04  2015               Boise  "
            ],
            "text/html": [
              "\n",
              "  <div id=\"df-74fcc4f2-24c8-4566-8404-b9822f6f697e\">\n",
              "    <div class=\"colab-df-container\">\n",
              "      <div>\n",
              "<style scoped>\n",
              "    .dataframe tbody tr th:only-of-type {\n",
              "        vertical-align: middle;\n",
              "    }\n",
              "\n",
              "    .dataframe tbody tr th {\n",
              "        vertical-align: top;\n",
              "    }\n",
              "\n",
              "    .dataframe thead th {\n",
              "        text-align: right;\n",
              "    }\n",
              "</style>\n",
              "<table border=\"1\" class=\"dataframe\">\n",
              "  <thead>\n",
              "    <tr style=\"text-align: right;\">\n",
              "      <th></th>\n",
              "      <th>AveragePrice</th>\n",
              "      <th>Total Volume</th>\n",
              "      <th>4046</th>\n",
              "      <th>4225</th>\n",
              "      <th>4770</th>\n",
              "      <th>Total Bags</th>\n",
              "      <th>Small Bags</th>\n",
              "      <th>Large Bags</th>\n",
              "      <th>XLarge Bags</th>\n",
              "      <th>type</th>\n",
              "      <th>year</th>\n",
              "      <th>region</th>\n",
              "    </tr>\n",
              "    <tr>\n",
              "      <th>Date</th>\n",
              "      <th></th>\n",
              "      <th></th>\n",
              "      <th></th>\n",
              "      <th></th>\n",
              "      <th></th>\n",
              "      <th></th>\n",
              "      <th></th>\n",
              "      <th></th>\n",
              "      <th></th>\n",
              "      <th></th>\n",
              "      <th></th>\n",
              "      <th></th>\n",
              "    </tr>\n",
              "  </thead>\n",
              "  <tbody>\n",
              "    <tr>\n",
              "      <th>2015-01-04</th>\n",
              "      <td>1.75</td>\n",
              "      <td>27365.89</td>\n",
              "      <td>9307.34</td>\n",
              "      <td>3844.81</td>\n",
              "      <td>615.28</td>\n",
              "      <td>13598.46</td>\n",
              "      <td>13061.10</td>\n",
              "      <td>537.36</td>\n",
              "      <td>0.0</td>\n",
              "      <td>organic</td>\n",
              "      <td>2015</td>\n",
              "      <td>Southeast</td>\n",
              "    </tr>\n",
              "    <tr>\n",
              "      <th>2015-01-04</th>\n",
              "      <td>1.49</td>\n",
              "      <td>17723.17</td>\n",
              "      <td>1189.35</td>\n",
              "      <td>15628.27</td>\n",
              "      <td>0.00</td>\n",
              "      <td>905.55</td>\n",
              "      <td>905.55</td>\n",
              "      <td>0.00</td>\n",
              "      <td>0.0</td>\n",
              "      <td>organic</td>\n",
              "      <td>2015</td>\n",
              "      <td>Chicago</td>\n",
              "    </tr>\n",
              "    <tr>\n",
              "      <th>2015-01-04</th>\n",
              "      <td>1.68</td>\n",
              "      <td>2896.72</td>\n",
              "      <td>161.68</td>\n",
              "      <td>206.96</td>\n",
              "      <td>0.00</td>\n",
              "      <td>2528.08</td>\n",
              "      <td>2528.08</td>\n",
              "      <td>0.00</td>\n",
              "      <td>0.0</td>\n",
              "      <td>organic</td>\n",
              "      <td>2015</td>\n",
              "      <td>HarrisburgScranton</td>\n",
              "    </tr>\n",
              "    <tr>\n",
              "      <th>2015-01-04</th>\n",
              "      <td>1.52</td>\n",
              "      <td>54956.80</td>\n",
              "      <td>3013.04</td>\n",
              "      <td>35456.88</td>\n",
              "      <td>1561.70</td>\n",
              "      <td>14925.18</td>\n",
              "      <td>11264.80</td>\n",
              "      <td>3660.38</td>\n",
              "      <td>0.0</td>\n",
              "      <td>conventional</td>\n",
              "      <td>2015</td>\n",
              "      <td>Pittsburgh</td>\n",
              "    </tr>\n",
              "    <tr>\n",
              "      <th>2015-01-04</th>\n",
              "      <td>1.64</td>\n",
              "      <td>1505.12</td>\n",
              "      <td>1.27</td>\n",
              "      <td>1129.50</td>\n",
              "      <td>0.00</td>\n",
              "      <td>374.35</td>\n",
              "      <td>186.67</td>\n",
              "      <td>187.68</td>\n",
              "      <td>0.0</td>\n",
              "      <td>organic</td>\n",
              "      <td>2015</td>\n",
              "      <td>Boise</td>\n",
              "    </tr>\n",
              "  </tbody>\n",
              "</table>\n",
              "</div>\n",
              "      <button class=\"colab-df-convert\" onclick=\"convertToInteractive('df-74fcc4f2-24c8-4566-8404-b9822f6f697e')\"\n",
              "              title=\"Convert this dataframe to an interactive table.\"\n",
              "              style=\"display:none;\">\n",
              "        \n",
              "  <svg xmlns=\"http://www.w3.org/2000/svg\" height=\"24px\"viewBox=\"0 0 24 24\"\n",
              "       width=\"24px\">\n",
              "    <path d=\"M0 0h24v24H0V0z\" fill=\"none\"/>\n",
              "    <path d=\"M18.56 5.44l.94 2.06.94-2.06 2.06-.94-2.06-.94-.94-2.06-.94 2.06-2.06.94zm-11 1L8.5 8.5l.94-2.06 2.06-.94-2.06-.94L8.5 2.5l-.94 2.06-2.06.94zm10 10l.94 2.06.94-2.06 2.06-.94-2.06-.94-.94-2.06-.94 2.06-2.06.94z\"/><path d=\"M17.41 7.96l-1.37-1.37c-.4-.4-.92-.59-1.43-.59-.52 0-1.04.2-1.43.59L10.3 9.45l-7.72 7.72c-.78.78-.78 2.05 0 2.83L4 21.41c.39.39.9.59 1.41.59.51 0 1.02-.2 1.41-.59l7.78-7.78 2.81-2.81c.8-.78.8-2.07 0-2.86zM5.41 20L4 18.59l7.72-7.72 1.47 1.35L5.41 20z\"/>\n",
              "  </svg>\n",
              "      </button>\n",
              "      \n",
              "  <style>\n",
              "    .colab-df-container {\n",
              "      display:flex;\n",
              "      flex-wrap:wrap;\n",
              "      gap: 12px;\n",
              "    }\n",
              "\n",
              "    .colab-df-convert {\n",
              "      background-color: #E8F0FE;\n",
              "      border: none;\n",
              "      border-radius: 50%;\n",
              "      cursor: pointer;\n",
              "      display: none;\n",
              "      fill: #1967D2;\n",
              "      height: 32px;\n",
              "      padding: 0 0 0 0;\n",
              "      width: 32px;\n",
              "    }\n",
              "\n",
              "    .colab-df-convert:hover {\n",
              "      background-color: #E2EBFA;\n",
              "      box-shadow: 0px 1px 2px rgba(60, 64, 67, 0.3), 0px 1px 3px 1px rgba(60, 64, 67, 0.15);\n",
              "      fill: #174EA6;\n",
              "    }\n",
              "\n",
              "    [theme=dark] .colab-df-convert {\n",
              "      background-color: #3B4455;\n",
              "      fill: #D2E3FC;\n",
              "    }\n",
              "\n",
              "    [theme=dark] .colab-df-convert:hover {\n",
              "      background-color: #434B5C;\n",
              "      box-shadow: 0px 1px 3px 1px rgba(0, 0, 0, 0.15);\n",
              "      filter: drop-shadow(0px 1px 2px rgba(0, 0, 0, 0.3));\n",
              "      fill: #FFFFFF;\n",
              "    }\n",
              "  </style>\n",
              "\n",
              "      <script>\n",
              "        const buttonEl =\n",
              "          document.querySelector('#df-74fcc4f2-24c8-4566-8404-b9822f6f697e button.colab-df-convert');\n",
              "        buttonEl.style.display =\n",
              "          google.colab.kernel.accessAllowed ? 'block' : 'none';\n",
              "\n",
              "        async function convertToInteractive(key) {\n",
              "          const element = document.querySelector('#df-74fcc4f2-24c8-4566-8404-b9822f6f697e');\n",
              "          const dataTable =\n",
              "            await google.colab.kernel.invokeFunction('convertToInteractive',\n",
              "                                                     [key], {});\n",
              "          if (!dataTable) return;\n",
              "\n",
              "          const docLinkHtml = 'Like what you see? Visit the ' +\n",
              "            '<a target=\"_blank\" href=https://colab.research.google.com/notebooks/data_table.ipynb>data table notebook</a>'\n",
              "            + ' to learn more about interactive tables.';\n",
              "          element.innerHTML = '';\n",
              "          dataTable['output_type'] = 'display_data';\n",
              "          await google.colab.output.renderOutput(dataTable, element);\n",
              "          const docLink = document.createElement('div');\n",
              "          docLink.innerHTML = docLinkHtml;\n",
              "          element.appendChild(docLink);\n",
              "        }\n",
              "      </script>\n",
              "    </div>\n",
              "  </div>\n",
              "  "
            ]
          },
          "metadata": {},
          "execution_count": 12
        }
      ]
    },
    {
      "cell_type": "code",
      "source": [
        "# Let's get the amount of missing data:\n",
        "missing_data = df.isnull().sum(axis = 0)\n",
        "missing_data = missing_data[missing_data > 0]\n",
        "percentage_missing = missing_data / df.shape[0]*100\n",
        "df_missing = pd.DataFrame()\n",
        "df_missing[\"Count (n)\"] = missing_data\n",
        "df_missing[\"Percentage (%)\"] = percentage_missing\n",
        "print(df_missing.sort_values(by = \"Count (n)\", ascending = False))"
      ],
      "metadata": {
        "colab": {
          "base_uri": "https://localhost:8080/"
        },
        "id": "XxWxLubLrKD9",
        "outputId": "84ce20fe-7d77-4585-900f-353ce9994e8f"
      },
      "execution_count": null,
      "outputs": [
        {
          "output_type": "stream",
          "name": "stdout",
          "text": [
            "Empty DataFrame\n",
            "Columns: [Count (n), Percentage (%)]\n",
            "Index: []\n"
          ]
        }
      ]
    },
    {
      "cell_type": "markdown",
      "source": [
        "There is no missing data!"
      ],
      "metadata": {
        "id": "2Do1vtQu6oVW"
      }
    },
    {
      "cell_type": "markdown",
      "source": [
        "### Types of avocado"
      ],
      "metadata": {
        "id": "ebe_n6VY7Hgb"
      }
    },
    {
      "cell_type": "code",
      "source": [
        "import matplotlib.pyplot as plt"
      ],
      "metadata": {
        "id": "Fbs9P-K1E7sx"
      },
      "execution_count": null,
      "outputs": []
    },
    {
      "cell_type": "code",
      "source": [
        "# Plot elements\n",
        "colors = [color_mix[0], color_mix[2]]\n",
        "labels = df['type'].unique()\n",
        "order = df['type'].value_counts().index\n",
        "# Figure Size\n",
        "plt.figure(figsize=(7, 7))\n",
        "\n",
        "# Pie chart\n",
        "#plt.subplot(1, 2, 1)\n",
        "plt.title('Avocado Type Percentage', fontweight = 'bold', fontsize = 14, fontfamily = 'sans-serif', \n",
        "          color = black_grad[0])\n",
        "plt.pie(df['type'].value_counts(), labels = order, colors = colors, \n",
        "        wedgeprops = dict(alpha = 0.8, edgecolor = black_grad[1]), autopct = '%.2f%%')\n",
        "circle = plt.Circle( (0,0), 0.7, color='white', edgecolor = \"black\")\n",
        "p = plt.gcf()\n",
        "p.gca().add_artist(circle)\n",
        "plt.show()"
      ],
      "metadata": {
        "colab": {
          "base_uri": "https://localhost:8080/",
          "height": 483
        },
        "id": "gaQi8ESB6p_9",
        "outputId": "2366cf7b-6081-4029-c4fb-58e52b651469"
      },
      "execution_count": null,
      "outputs": [
        {
          "output_type": "stream",
          "name": "stderr",
          "text": [
            "/usr/local/lib/python3.7/dist-packages/ipykernel_launcher.py:14: UserWarning: Setting the 'color' property will override the edgecolor or facecolor properties.\n",
            "  \n"
          ]
        },
        {
          "output_type": "display_data",
          "data": {
            "text/plain": [
              "<Figure size 504x504 with 1 Axes>"
            ],
            "image/png": "[encoded data removed]"
          },
          "metadata": {}
        }
      ]
    },
    {
      "cell_type": "markdown",
      "source": [
        "## ARIMA\n",
        "We are going to use the ARIMA model in order to predict the prices of avocados. <br>\n",
        "ARIMA stands for Auto Regressive Integrated Moving Average. <br>\n",
        "It is a class of models that forecasts using own past values: lag values and lagged forecast errors.\n",
        "* AR model uses lag values to forecast\n",
        "* MA model uses lagged forecast errors to forecast\n",
        "* Two models Integrated becomes ARIMA (“I” stands for Integrated)\n",
        "* Consists of three parameters: p, q, d"
      ],
      "metadata": {
        "id": "Sa3TOq1j7coE"
      }
    },
    {
      "cell_type": "code",
      "source": [
        "# I plot the average prices for conventional avocados and for organic\n",
        "conventional = df[(df.region == 'TotalUS')&(df.type == 'conventional')]\n",
        "conventional = conventional.drop(columns = ['Total Volume', '4046', '4225', '4770', 'Total Bags',\n",
        "       'Small Bags', 'Large Bags', 'XLarge Bags', 'type', 'year', 'region'])\n",
        "organic = df[(df.region == 'TotalUS')&(df.type == 'organic')]\n",
        "organic = organic.drop(columns = ['Total Volume', '4046', '4225', '4770', 'Total Bags',\n",
        "       'Small Bags', 'Large Bags', 'XLarge Bags', 'type', 'year', 'region'])"
      ],
      "metadata": {
        "id": "JrCY9IWb8AqA"
      },
      "execution_count": null,
      "outputs": []
    },
    {
      "cell_type": "code",
      "source": [
        "fig, ax = plt.subplots(1, 1, figsize=(7, 4))\n",
        "plt.plot(conventional,color = color_mix[3], label = \"conventional\")\n",
        "plt.plot(organic, color = color_mix[0], label = \"organic\")\n",
        "#plt.title('')\n",
        "#ax.set_yticklabels(ax.get_yticklabels(), fontfamily='serif', rotation = 0, fontsize=11)\n",
        "plt.xticks(rotation = 30)\n",
        "fig.text(0.8, 1, 'Price of conventional and organic avocados in US', fontweight='bold', fontfamily='serif', fontsize=15, ha='right')    \n",
        "fig.text(0.95, 0.2, 'Dataset : Avocado\\nAuthor : Maria G. Ribera', fontweight='light', fontfamily='serif', fontsize=12, ha='right')  \n",
        "plt.legend()\n",
        "plt.tight_layout()\n",
        "\n",
        "\n"
      ],
      "metadata": {
        "colab": {
          "base_uri": "https://localhost:8080/",
          "height": 319
        },
        "id": "FCONWtfE_OrK",
        "outputId": "440a5637-4491-420c-9327-a8a9f723c6e2"
      },
      "execution_count": null,
      "outputs": [
        {
          "output_type": "display_data",
          "data": {
            "text/plain": [
              "<Figure size 504x288 with 1 Axes>"
            ],
            "image/png": "[encoded data removed]"
          },
          "metadata": {
            "needs_background": "light"
          }
        }
      ]
    },
    {
      "cell_type": "markdown",
      "source": [
        "* Trend : Upward, downward, or stationary. Can we talk about this?\n",
        "* Seaonality: Repeating pattern in certain period. Ex: difference between summer and winter. Also includes special holidays\n",
        "* Irregularity: External factors that affect time series data such as Covid, natural disasters.\n",
        "* Cyclic: repeating up and down time series data."
      ],
      "metadata": {
        "id": "CEVw-GYxKRqj"
      }
    },
    {
      "cell_type": "code",
      "source": [
        "# evaluate an ARIMA model for a given order (p,d,q)\n",
        "def evaluate_arima_model(X, arima_order):\n",
        "    # prepare training dataset\n",
        "    train_size = int(len(X) * 0.66)\n",
        "    train, test = X[0:train_size], X[train_size:]\n",
        "    history = [x for x in train]\n",
        "    # make predictions\n",
        "    predictions = list()\n",
        "    for t in range(len(test)):\n",
        "        model = ARIMA(history, order=arima_order)\n",
        "        model_fit = model.fit(disp=0)\n",
        "        yhat = model_fit.forecast()[0]\n",
        "        predictions.append(yhat)\n",
        "        history.append(test[t])\n",
        "    # calculate out of sample error\n",
        "    error = mean_squared_error(test, predictions)\n",
        "    return error"
      ],
      "metadata": {
        "id": "UFejGZFnEN22"
      },
      "execution_count": null,
      "outputs": []
    },
    {
      "cell_type": "code",
      "source": [
        "# evaluate combinations of p, d and q values for an ARIMA model\n",
        "def evaluate_models(dataset, p_values, d_values, q_values):\n",
        "    dataset = dataset.astype('float32')\n",
        "    best_score, best_cfg = float(\"inf\"), None\n",
        "    for p in p_values:\n",
        "        for d in d_values:\n",
        "            for q in q_values:\n",
        "                order = (p,d,q)\n",
        "                try:\n",
        "                    mse = evaluate_arima_model(dataset, order)\n",
        "                    if mse < best_score:\n",
        "                        best_score, best_cfg = mse, order\n",
        "                    print('ARIMA%s MSE=%.3f' % (order,mse))\n",
        "                except:\n",
        "                    continue\n",
        "    print('Best ARIMA%s MSE=%.3f' % (best_cfg, best_score))"
      ],
      "metadata": {
        "id": "zIMkUofTEVTV"
      },
      "execution_count": null,
      "outputs": []
    },
    {
      "cell_type": "code",
      "source": [
        "import warnings"
      ],
      "metadata": {
        "id": "WF2iiQLWEe0x"
      },
      "execution_count": null,
      "outputs": []
    },
    {
      "cell_type": "markdown",
      "source": [
        "## Model Evaluation"
      ],
      "metadata": {
        "id": "g0xNaCyGcOcb"
      }
    },
    {
      "cell_type": "code",
      "source": [
        "# To install the library\n",
        "!pip install pmdarima\n",
        "  \n",
        "# Import the library\n",
        "from pmdarima import auto_arima\n",
        "  \n",
        "# Ignore harmless warnings\n",
        "import warnings\n",
        "warnings.filterwarnings(\"ignore\")\n",
        "  \n",
        "# Fit auto_arima function to Avocado dataset\n",
        "stepwise_fit = auto_arima(conventional, start_p = 1, start_q = 1,\n",
        "                          max_p = 3, max_q = 3, m = 12,\n",
        "                          start_P = 0, seasonal = True,\n",
        "                          d = None, D = 1, trace = True,\n",
        "                          error_action ='ignore',   # we don't want to know if an order does not work\n",
        "                          suppress_warnings = True,  # we don't want convergence warnings\n",
        "                          stepwise = True)           # set to stepwise\n",
        "  \n",
        "# To print the summary\n",
        "stepwise_fit.summary()"
      ],
      "metadata": {
        "colab": {
          "base_uri": "https://localhost:8080/",
          "height": 1000
        },
        "id": "L8md8PKNapmG",
        "outputId": "67d3dc27-9683-4ba8-b563-3be4d6e92941"
      },
      "execution_count": null,
      "outputs": [
        {
          "output_type": "stream",
          "name": "stdout",
          "text": [
            "Looking in indexes: https://pypi.org/simple, https://us-python.pkg.dev/colab-wheels/public/simple/\n",
            "Collecting pmdarima\n",
            "  Downloading pmdarima-1.8.5-cp37-cp37m-manylinux_2_17_x86_64.manylinux2014_x86_64.manylinux_2_24_x86_64.whl (1.4 MB)\n",
            "\u001b[K     |████████████████████████████████| 1.4 MB 13.9 MB/s \n",
            "\u001b[?25hRequirement already satisfied: joblib>=0.11 in /usr/local/lib/python3.7/dist-packages (from pmdarima) (1.1.0)\n",
            "Requirement already satisfied: numpy>=1.19.3 in /usr/local/lib/python3.7/dist-packages (from pmdarima) (1.21.6)\n",
            "Collecting statsmodels!=0.12.0,>=0.11\n",
            "  Downloading statsmodels-0.13.2-cp37-cp37m-manylinux_2_17_x86_64.manylinux2014_x86_64.whl (9.8 MB)\n",
            "\u001b[K     |████████████████████████████████| 9.8 MB 56.5 MB/s \n",
            "\u001b[?25hRequirement already satisfied: setuptools!=50.0.0,>=38.6.0 in /usr/local/lib/python3.7/dist-packages (from pmdarima) (57.4.0)\n",
            "Requirement already satisfied: pandas>=0.19 in /usr/local/lib/python3.7/dist-packages (from pmdarima) (1.3.5)\n",
            "Requirement already satisfied: Cython!=0.29.18,>=0.29 in /usr/local/lib/python3.7/dist-packages (from pmdarima) (0.29.30)\n",
            "Requirement already satisfied: scipy>=1.3.2 in /usr/local/lib/python3.7/dist-packages (from pmdarima) (1.7.3)\n",
            "Requirement already satisfied: scikit-learn>=0.22 in /usr/local/lib/python3.7/dist-packages (from pmdarima) (1.0.2)\n",
            "Requirement already satisfied: urllib3 in /usr/local/lib/python3.7/dist-packages (from pmdarima) (1.24.3)\n",
            "Requirement already satisfied: python-dateutil>=2.7.3 in /usr/local/lib/python3.7/dist-packages (from pandas>=0.19->pmdarima) (2.8.2)\n",
            "Requirement already satisfied: pytz>=2017.3 in /usr/local/lib/python3.7/dist-packages (from pandas>=0.19->pmdarima) (2022.1)\n",
            "Requirement already satisfied: six>=1.5 in /usr/local/lib/python3.7/dist-packages (from python-dateutil>=2.7.3->pandas>=0.19->pmdarima) (1.15.0)\n",
            "Requirement already satisfied: threadpoolctl>=2.0.0 in /usr/local/lib/python3.7/dist-packages (from scikit-learn>=0.22->pmdarima) (3.1.0)\n",
            "Requirement already satisfied: patsy>=0.5.2 in /usr/local/lib/python3.7/dist-packages (from statsmodels!=0.12.0,>=0.11->pmdarima) (0.5.2)\n",
            "Requirement already satisfied: packaging>=21.3 in /usr/local/lib/python3.7/dist-packages (from statsmodels!=0.12.0,>=0.11->pmdarima) (21.3)\n",
            "Requirement already satisfied: pyparsing!=3.0.5,>=2.0.2 in /usr/local/lib/python3.7/dist-packages (from packaging>=21.3->statsmodels!=0.12.0,>=0.11->pmdarima) (3.0.9)\n",
            "Installing collected packages: statsmodels, pmdarima\n",
            "  Attempting uninstall: statsmodels\n",
            "    Found existing installation: statsmodels 0.10.2\n",
            "    Uninstalling statsmodels-0.10.2:\n",
            "      Successfully uninstalled statsmodels-0.10.2\n",
            "Successfully installed pmdarima-1.8.5 statsmodels-0.13.2\n"
          ]
        },
        {
          "output_type": "display_data",
          "data": {
            "application/vnd.colab-display-data+json": {
              "pip_warning": {
                "packages": [
                  "statsmodels"
                ]
              }
            }
          },
          "metadata": {}
        },
        {
          "output_type": "stream",
          "name": "stdout",
          "text": [
            "Performing stepwise search to minimize aic\n",
            " ARIMA(1,0,1)(0,1,1)[12] intercept   : AIC=inf, Time=2.57 sec\n",
            " ARIMA(0,0,0)(0,1,0)[12] intercept   : AIC=-35.006, Time=0.09 sec\n",
            " ARIMA(1,0,0)(1,1,0)[12] intercept   : AIC=-336.781, Time=1.68 sec\n",
            " ARIMA(0,0,1)(0,1,1)[12] intercept   : AIC=inf, Time=1.18 sec\n",
            " ARIMA(0,0,0)(0,1,0)[12]             : AIC=-36.926, Time=0.02 sec\n",
            " ARIMA(1,0,0)(0,1,0)[12] intercept   : AIC=-303.080, Time=0.15 sec\n",
            " ARIMA(1,0,0)(2,1,0)[12] intercept   : AIC=-346.479, Time=4.71 sec\n",
            " ARIMA(1,0,0)(2,1,1)[12] intercept   : AIC=inf, Time=5.78 sec\n",
            " ARIMA(1,0,0)(1,1,1)[12] intercept   : AIC=inf, Time=1.39 sec\n",
            " ARIMA(0,0,0)(2,1,0)[12] intercept   : AIC=-62.278, Time=1.00 sec\n",
            " ARIMA(2,0,0)(2,1,0)[12] intercept   : AIC=-344.883, Time=4.22 sec\n",
            " ARIMA(1,0,1)(2,1,0)[12] intercept   : AIC=-344.830, Time=3.40 sec\n",
            " ARIMA(0,0,1)(2,1,0)[12] intercept   : AIC=-204.460, Time=2.66 sec\n",
            " ARIMA(2,0,1)(2,1,0)[12] intercept   : AIC=-349.133, Time=6.59 sec\n",
            " ARIMA(2,0,1)(1,1,0)[12] intercept   : AIC=inf, Time=2.51 sec\n",
            " ARIMA(2,0,1)(2,1,1)[12] intercept   : AIC=inf, Time=7.12 sec\n",
            " ARIMA(2,0,1)(1,1,1)[12] intercept   : AIC=inf, Time=3.36 sec\n",
            " ARIMA(3,0,1)(2,1,0)[12] intercept   : AIC=-340.975, Time=6.35 sec\n",
            " ARIMA(2,0,2)(2,1,0)[12] intercept   : AIC=-344.758, Time=5.96 sec\n",
            " ARIMA(1,0,2)(2,1,0)[12] intercept   : AIC=-343.534, Time=5.47 sec\n",
            " ARIMA(3,0,0)(2,1,0)[12] intercept   : AIC=-343.855, Time=6.24 sec\n",
            " ARIMA(3,0,2)(2,1,0)[12] intercept   : AIC=-342.937, Time=7.40 sec\n",
            " ARIMA(2,0,1)(2,1,0)[12]             : AIC=-351.106, Time=3.45 sec\n",
            " ARIMA(2,0,1)(1,1,0)[12]             : AIC=-342.516, Time=1.35 sec\n",
            " ARIMA(2,0,1)(2,1,1)[12]             : AIC=inf, Time=5.78 sec\n",
            " ARIMA(2,0,1)(1,1,1)[12]             : AIC=inf, Time=2.42 sec\n",
            " ARIMA(1,0,1)(2,1,0)[12]             : AIC=-346.813, Time=1.60 sec\n",
            " ARIMA(2,0,0)(2,1,0)[12]             : AIC=-346.864, Time=1.68 sec\n",
            " ARIMA(3,0,1)(2,1,0)[12]             : AIC=-344.333, Time=3.26 sec\n",
            " ARIMA(2,0,2)(2,1,0)[12]             : AIC=-346.637, Time=2.85 sec\n",
            " ARIMA(1,0,0)(2,1,0)[12]             : AIC=-348.467, Time=1.05 sec\n",
            " ARIMA(1,0,2)(2,1,0)[12]             : AIC=-345.504, Time=2.07 sec\n",
            " ARIMA(3,0,0)(2,1,0)[12]             : AIC=-345.813, Time=1.91 sec\n",
            " ARIMA(3,0,2)(2,1,0)[12]             : AIC=-344.508, Time=3.99 sec\n",
            "\n",
            "Best model:  ARIMA(2,0,1)(2,1,0)[12]          \n",
            "Total fit time: 111.323 seconds\n"
          ]
        },
        {
          "output_type": "execute_result",
          "data": {
            "text/plain": [
              "<class 'statsmodels.iolib.summary.Summary'>\n",
              "\"\"\"\n",
              "                                 Statespace Model Results                                 \n",
              "==========================================================================================\n",
              "Dep. Variable:                                  y   No. Observations:                  169\n",
              "Model:             SARIMAX(2, 0, 1)x(2, 1, 0, 12)   Log Likelihood                 181.553\n",
              "Date:                            Fri, 22 Jul 2022   AIC                           -351.106\n",
              "Time:                                    15:00:45   BIC                           -332.769\n",
              "Sample:                                         0   HQIC                          -343.659\n",
              "                                            - 169                                         \n",
              "Covariance Type:                              opg                                         \n",
              "==============================================================================\n",
              "                 coef    std err          z      P>|z|      [0.025      0.975]\n",
              "------------------------------------------------------------------------------\n",
              "ar.L1          0.0470      0.066      0.711      0.477      -0.083       0.177\n",
              "ar.L2          0.7994      0.067     12.015      0.000       0.669       0.930\n",
              "ma.L1          0.9834      0.034     29.090      0.000       0.917       1.050\n",
              "ar.S.L12      -0.6078      0.091     -6.693      0.000      -0.786      -0.430\n",
              "ar.S.L24      -0.2829      0.095     -2.967      0.003      -0.470      -0.096\n",
              "sigma2         0.0055      0.001      9.347      0.000       0.004       0.007\n",
              "===================================================================================\n",
              "Ljung-Box (Q):                       42.30   Jarque-Bera (JB):                15.27\n",
              "Prob(Q):                              0.37   Prob(JB):                         0.00\n",
              "Heteroskedasticity (H):               2.68   Skew:                            -0.54\n",
              "Prob(H) (two-sided):                  0.00   Kurtosis:                         4.08\n",
              "===================================================================================\n",
              "\n",
              "Warnings:\n",
              "[1] Covariance matrix calculated using the outer product of gradients (complex-step).\n",
              "\"\"\""
            ],
            "text/html": [
              "<table class=\"simpletable\">\n",
              "<caption>Statespace Model Results</caption>\n",
              "<tr>\n",
              "  <th>Dep. Variable:</th>                  <td>y</td>               <th>  No. Observations:  </th>    <td>169</td>  \n",
              "</tr>\n",
              "<tr>\n",
              "  <th>Model:</th>           <td>SARIMAX(2, 0, 1)x(2, 1, 0, 12)</td> <th>  Log Likelihood     </th>  <td>181.553</td>\n",
              "</tr>\n",
              "<tr>\n",
              "  <th>Date:</th>                   <td>Fri, 22 Jul 2022</td>        <th>  AIC                </th> <td>-351.106</td>\n",
              "</tr>\n",
              "<tr>\n",
              "  <th>Time:</th>                       <td>15:00:45</td>            <th>  BIC                </th> <td>-332.769</td>\n",
              "</tr>\n",
              "<tr>\n",
              "  <th>Sample:</th>                         <td>0</td>               <th>  HQIC               </th> <td>-343.659</td>\n",
              "</tr>\n",
              "<tr>\n",
              "  <th></th>                             <td> - 169</td>             <th>                     </th>     <td> </td>   \n",
              "</tr>\n",
              "<tr>\n",
              "  <th>Covariance Type:</th>               <td>opg</td>              <th>                     </th>     <td> </td>   \n",
              "</tr>\n",
              "</table>\n",
              "<table class=\"simpletable\">\n",
              "<tr>\n",
              "      <td></td>        <th>coef</th>     <th>std err</th>      <th>z</th>      <th>P>|z|</th>  <th>[0.025</th>    <th>0.975]</th>  \n",
              "</tr>\n",
              "<tr>\n",
              "  <th>ar.L1</th>    <td>    0.0470</td> <td>    0.066</td> <td>    0.711</td> <td> 0.477</td> <td>   -0.083</td> <td>    0.177</td>\n",
              "</tr>\n",
              "<tr>\n",
              "  <th>ar.L2</th>    <td>    0.7994</td> <td>    0.067</td> <td>   12.015</td> <td> 0.000</td> <td>    0.669</td> <td>    0.930</td>\n",
              "</tr>\n",
              "<tr>\n",
              "  <th>ma.L1</th>    <td>    0.9834</td> <td>    0.034</td> <td>   29.090</td> <td> 0.000</td> <td>    0.917</td> <td>    1.050</td>\n",
              "</tr>\n",
              "<tr>\n",
              "  <th>ar.S.L12</th> <td>   -0.6078</td> <td>    0.091</td> <td>   -6.693</td> <td> 0.000</td> <td>   -0.786</td> <td>   -0.430</td>\n",
              "</tr>\n",
              "<tr>\n",
              "  <th>ar.S.L24</th> <td>   -0.2829</td> <td>    0.095</td> <td>   -2.967</td> <td> 0.003</td> <td>   -0.470</td> <td>   -0.096</td>\n",
              "</tr>\n",
              "<tr>\n",
              "  <th>sigma2</th>   <td>    0.0055</td> <td>    0.001</td> <td>    9.347</td> <td> 0.000</td> <td>    0.004</td> <td>    0.007</td>\n",
              "</tr>\n",
              "</table>\n",
              "<table class=\"simpletable\">\n",
              "<tr>\n",
              "  <th>Ljung-Box (Q):</th>          <td>42.30</td> <th>  Jarque-Bera (JB):  </th> <td>15.27</td>\n",
              "</tr>\n",
              "<tr>\n",
              "  <th>Prob(Q):</th>                <td>0.37</td>  <th>  Prob(JB):          </th> <td>0.00</td> \n",
              "</tr>\n",
              "<tr>\n",
              "  <th>Heteroskedasticity (H):</th> <td>2.68</td>  <th>  Skew:              </th> <td>-0.54</td>\n",
              "</tr>\n",
              "<tr>\n",
              "  <th>Prob(H) (two-sided):</th>    <td>0.00</td>  <th>  Kurtosis:          </th> <td>4.08</td> \n",
              "</tr>\n",
              "</table><br/><br/>Warnings:<br/>[1] Covariance matrix calculated using the outer product of gradients (complex-step)."
            ]
          },
          "metadata": {},
          "execution_count": 63
        }
      ]
    },
    {
      "cell_type": "markdown",
      "source": [
        "## Parameters\n",
        "* p — order of AR term\n",
        "\n",
        "Number of lags of Y to be used as predictors. In other words, If you are trying to predict June’s sale how many previous(lag) month’s data are you going to use?<br>\n",
        "* d — Minimum differencing period\n",
        "\n",
        "Minimum number of differencing needed to make time series data stationary.\n",
        "Already stationary data would have d = 0. <br>\n",
        "* q — order of MA term\n",
        "\n",
        "Number of lagged forecast errors -> how many past forecast errors will you use?<br>\n",
        "\n"
      ],
      "metadata": {
        "id": "vPHT-1vhLUeg"
      }
    },
    {
      "cell_type": "code",
      "source": [
        "# evaluate parameters\n",
        "p_values = range(0, 4)\n",
        "d_values = range(0, 4)\n",
        "q_values = range(0, 4)\n",
        "warnings.filterwarnings(\"ignore\")\n",
        "evaluate_models(conventional.values, p_values, d_values, q_values)"
      ],
      "metadata": {
        "colab": {
          "base_uri": "https://localhost:8080/"
        },
        "id": "RY7lrirREZye",
        "outputId": "7f8c7204-3104-4a28-83f8-29e6557a57c0"
      },
      "execution_count": null,
      "outputs": [
        {
          "output_type": "stream",
          "name": "stdout",
          "text": [
            "Best ARIMA(1, 0, 0) MSE=0.007\n"
          ]
        }
      ]
    },
    {
      "cell_type": "markdown",
      "source": [
        "## ARIMA"
      ],
      "metadata": {
        "id": "d6W0GuewcGZ7"
      }
    },
    {
      "cell_type": "code",
      "source": [
        "# instantiate the ARIMA model\n",
        "model = ARIMA(conventional['AveragePrice'], order = (1, 0, 0))\n",
        " \n",
        "# fit the model\n",
        "results_ARIMA = model.fit()\n",
        " \n",
        "# collect the predicted results, rounding to two to indicate dollars and cents\n",
        "predictions = round(results_ARIMA.predict(), 2)\n",
        " \n",
        "# put the predictions into a DataFrame with Date and Predicted Price columns\n",
        "preds = pd.DataFrame(list(zip(list(predictions.index),list(predictions))),columns=['Date',\n",
        "'PredictedPrice']).set_index('Date')\n",
        " \n",
        "# combine the original data set with the predicted data\n",
        "predicted_df = pd.merge(conventional[1:], preds, left_index=True, right_index=True)"
      ],
      "metadata": {
        "id": "qJgXFBtaEiA_"
      },
      "execution_count": null,
      "outputs": []
    },
    {
      "cell_type": "code",
      "source": [
        "print(\"\\tMean Squared Error:\", mean_squared_error(predicted_df['AveragePrice'], predicted_df['PredictedPrice']))\n",
        "print(\"\\tRoot Mean Squared Error:\", np.sqrt(mean_squared_error(predicted_df['AveragePrice'],\n",
        "predicted_df['PredictedPrice'])))"
      ],
      "metadata": {
        "colab": {
          "base_uri": "https://localhost:8080/"
        },
        "id": "P6y9iBDpGdIZ",
        "outputId": "b208e26c-2917-4d80-efbd-47d3e813e3d4"
      },
      "execution_count": null,
      "outputs": [
        {
          "output_type": "stream",
          "name": "stdout",
          "text": [
            "\tMean Squared Error: 0.004301785714285715\n",
            "\tRoot Mean Squared Error: 0.06558799977347773\n"
          ]
        }
      ]
    },
    {
      "cell_type": "code",
      "source": [
        "results_ARIMA.plot_predict(start='2015-01-11', end = '2018-12-30')"
      ],
      "metadata": {
        "colab": {
          "base_uri": "https://localhost:8080/",
          "height": 537
        },
        "id": "4dkIM9JMGfBF",
        "outputId": "801ba862-a168-4150-a417-75c0591a20ae"
      },
      "execution_count": null,
      "outputs": [
        {
          "output_type": "execute_result",
          "data": {
            "text/plain": [
              "<Figure size 432x288 with 1 Axes>"
            ],
            "image/png": "[encoded data removed]"
          },
          "metadata": {},
          "execution_count": 30
        },
        {
          "output_type": "display_data",
          "data": {
            "text/plain": [
              "<Figure size 432x288 with 1 Axes>"
            ],
            "image/png": "[encoded data removed]"
          },
          "metadata": {
            "needs_background": "light"
          }
        }
      ]
    },
    {
      "cell_type": "code",
      "source": [
        "# grab the forecast from the model out 40 steps to 2018-12-30, and create a Series out of the data\n",
        "ARIMA_forecast = pd.Series(results_ARIMA.forecast(steps = 40)[0])\n",
        " \n",
        "# create an index from the end of the data out to the length of the forecast on a weekly basis\n",
        "idx = pd.date_range('2018-04-01', '2018-12-30', freq='W')\n",
        " \n",
        "# create a DataFrame combining the index above and the forecast prices\n",
        "ARIMA_forecast = pd.DataFrame(list(zip(list(idx),list(ARIMA_forecast))),columns=['Date','ForecastPrice']).set_index('Date')"
      ],
      "metadata": {
        "id": "En5BQyxxG0PA"
      },
      "execution_count": null,
      "outputs": []
    },
    {
      "cell_type": "code",
      "source": [
        "fig, ax = plt.subplots(1, 1, figsize=(7, 4))\n",
        "plt.plot(ARIMA_forecast,color = color_mix[3], label = \"forecast\")\n",
        "# predicted_df['PredictedPrice']\n",
        "plt.plot(predicted_df['PredictedPrice'],color = color_mix[2], label = \"predicted\")\n",
        "plt.plot(conventional, color = color_mix[0], label = \"conventional\")\n",
        "#plt.title('')\n",
        "#ax.set_yticklabels(ax.get_yticklabels(), fontfamily='serif', rotation = 0, fontsize=11)\n",
        "plt.xticks(rotation = 30)\n",
        "fig.text(0.93, 1, 'Price of conventional avocados in US with prediction', fontweight='bold', fontfamily='serif', fontsize=15, ha='right')    \n",
        "fig.text(0.95, 0.2, 'Dataset : Avocado\\nAuthor : Maria G. Ribera', fontweight='light', fontfamily='serif', fontsize=12, ha='right')  \n",
        "plt.legend()\n",
        "plt.tight_layout()"
      ],
      "metadata": {
        "colab": {
          "base_uri": "https://localhost:8080/",
          "height": 319
        },
        "id": "wpuTXARcHFhK",
        "outputId": "f6bb8a88-fc2a-46ad-9691-efa18b647509"
      },
      "execution_count": null,
      "outputs": [
        {
          "output_type": "display_data",
          "data": {
            "text/plain": [
              "<Figure size 504x288 with 1 Axes>"
            ],
            "image/png": "[encoded data removed]"
          },
          "metadata": {
            "needs_background": "light"
          }
        }
      ]
    },
    {
      "cell_type": "markdown",
      "source": [
        "The forecast does not show any variation. This is weird."
      ],
      "metadata": {
        "id": "PC9a4NxSH6H-"
      }
    },
    {
      "cell_type": "markdown",
      "source": [
        "## SARIMAX"
      ],
      "metadata": {
        "id": "8nsmZl1_bw7j"
      }
    },
    {
      "cell_type": "code",
      "source": [
        "# instantiate the model using the ARIMA order we had earlier\n",
        "mod = sm.tsa.statespace.SARIMAX(conventional['AveragePrice'], order=(2, 0, 1), seasonal_order=(2, 1, 0, 12), enforce_stationarity=False, enforce_invertibility=False)\n",
        " \n",
        "# fit the model\n",
        "SARIMAX_results = mod.fit()\n",
        " \n",
        "# store the predictions from the model rounding to two for dollars and cents\n",
        "SARIMAX_predictions = round(SARIMAX_results.predict(), 2)\n",
        " \n",
        "# create a DataFrame with Date and Predicted Price\n",
        "SARIMAX_preds = pd.DataFrame(list(zip(list(SARIMAX_predictions.index),list(SARIMAX_predictions))), columns=['Date','PredictedPrice']).set_index('Date')\n",
        " \n",
        "# merge the original DataFrame with the predictions\n",
        "SARIMAX_predicted_df = pd.merge(conventional[1:], SARIMAX_preds, left_index=True, right_index=True)"
      ],
      "metadata": {
        "id": "IJ8adM9GH-BX"
      },
      "execution_count": null,
      "outputs": []
    },
    {
      "cell_type": "code",
      "source": [
        "print(\"\\tMean Squared Error:\", mean_squared_error(SARIMAX_predicted_df['AveragePrice'], SARIMAX_predicted_df['PredictedPrice']))\n",
        "print(\"\\tRoot Mean Squared Error:\", np.sqrt(mean_squared_error(SARIMAX_predicted_df['AveragePrice'], SARIMAX_predicted_df['PredictedPrice'])))"
      ],
      "metadata": {
        "colab": {
          "base_uri": "https://localhost:8080/"
        },
        "id": "Jp3omQWqIOAj",
        "outputId": "d2b4e99b-8831-41af-f65f-9d70ec9ade0e"
      },
      "execution_count": null,
      "outputs": [
        {
          "output_type": "stream",
          "name": "stdout",
          "text": [
            "\tMean Squared Error: 0.011085714285714289\n",
            "\tRoot Mean Squared Error: 0.1052887187010759\n"
          ]
        }
      ]
    },
    {
      "cell_type": "code",
      "source": [
        "SARIMAX_forecast = pd.DataFrame(round(SARIMAX_results.forecast(steps = 40), 2), columns = ['Forecasted Price'])"
      ],
      "metadata": {
        "id": "bdS9ZylvIUT5"
      },
      "execution_count": null,
      "outputs": []
    },
    {
      "cell_type": "code",
      "source": [
        "fig, ax = plt.subplots(1, 1, figsize=(7, 4))\n",
        "plt.plot(ARIMA_forecast,color = color_mix[3], label = \"ARIMA forecast\")\n",
        "plt.plot(SARIMAX_forecast,color = color_mix[4], label = \"SARIMAX forecast\")\n",
        "\n",
        "# predicted_df['PredictedPrice']\n",
        "plt.plot(predicted_df['PredictedPrice'],color = color_mix[2], label = \"predicted\")\n",
        "plt.plot(conventional, color = color_mix[0], label = \"conventional\")\n",
        "#plt.title('')\n",
        "#ax.set_yticklabels(ax.get_yticklabels(), fontfamily='serif', rotation = 0, fontsize=11)\n",
        "plt.xticks(rotation = 30, fontfamily= \"serif\")\n",
        "fig.text(0.93, 1, 'Price of conventional avocados in US with prediction', fontweight='bold', fontfamily='serif', fontsize=15, ha='right')    \n",
        "fig.text(0.95, 0.2, 'Dataset : Avocado\\nAuthor : Maria G. Ribera', fontweight='light', fontfamily='serif', fontsize=12, ha='right')  \n",
        "plt.legend()\n",
        "plt.tight_layout()"
      ],
      "metadata": {
        "colab": {
          "base_uri": "https://localhost:8080/",
          "height": 319
        },
        "id": "qgC2BPofIbeh",
        "outputId": "59b1d557-473c-4c44-f7ec-5591887404f3"
      },
      "execution_count": null,
      "outputs": [
        {
          "output_type": "display_data",
          "data": {
            "text/plain": [
              "<Figure size 504x288 with 1 Axes>"
            ],
            "image/png": "[encoded data removed]"
          },
          "metadata": {
            "needs_background": "light"
          }
        }
      ]
    },
    {
      "cell_type": "markdown",
      "source": [
        "## Trials"
      ],
      "metadata": {
        "id": "ZVHrsqN2DbP7"
      }
    },
    {
      "cell_type": "code",
      "source": [
        "# Vamos a comprobar si la serie temporal es estacionaria utilizando una métrica estadística llamada test de Dickey-Fuller\n",
        "# que vamos a calcular con la libreria adfuller que hemos importado\n",
        "\n",
        "def test_stationarity(timeseries):\n",
        "    # Determining rolling statistics\n",
        "    rol_mean = timeseries.rolling(window=12, center=False).mean()\n",
        "    rol_std = timeseries.rolling(window=12, center=False).std()\n",
        "    \n",
        "    # Plot rolling statistics:\n",
        "    orig = plt.plot(timeseries, color='b', label='Original')\n",
        "    mean = plt.plot(rol_mean, color='r', label='Media acumulada')\n",
        "    std = plt.plot(rol_std, color='black', label='Desviación típica acumulada')\n",
        "    plt.legend(loc='best')\n",
        "    plt.title('Media y desviación típica acumuladas')\n",
        "    plt.show(block=False)\n",
        "    \n",
        "    #Perform Dickey-Fuller test:\n",
        "    print('Resultados del test Dickey-Fuller:')\n",
        "    dftest = adfuller(timeseries, autolag='AIC')\n",
        "    dfoutput = pd.Series(dftest[0:4], index=['Test Statistic',\n",
        "                                             'p-value',\n",
        "                                             '#Lags Usados',\n",
        "                                             'Número de observaciones usadas'])\n",
        "    for key,value in dftest[4].items():\n",
        "        dfoutput['Valor crítico (%s)'%key] = value\n",
        "    print(dfoutput)"
      ],
      "metadata": {
        "id": "fzl3_aIkgBjm"
      },
      "execution_count": null,
      "outputs": []
    },
    {
      "cell_type": "code",
      "source": [
        "test_stationarity(conventional)"
      ],
      "metadata": {
        "id": "-7hGqE-IgDLN"
      },
      "execution_count": null,
      "outputs": []
    },
    {
      "cell_type": "markdown",
      "source": [
        "The stationarity test gives inconclusive results"
      ],
      "metadata": {
        "id": "Zmmrh9Blhi2o"
      }
    },
    {
      "cell_type": "code",
      "source": [
        "# El primer paso va a ser intentar eliminar la tendencia de nuestros datos\n",
        "# restando la desviación típica de los datos, que vamos a calcular utilizando la función rolling \n",
        "# de pandas\n",
        "\n",
        "desviacion_tipica = conventional.rolling(window=12,center=False).mean()\n",
        "plt.plot(conventional)\n",
        "plt.plot(desviacion_tipica, color='r')"
      ],
      "metadata": {
        "id": "Jh6lUWOUiqam"
      },
      "execution_count": null,
      "outputs": []
    },
    {
      "cell_type": "code",
      "source": [
        "# como hemos utilizado una ventana de 12 valores, no tenemos desviación típica para los\n",
        "# primeros 11 valores y al restarle la desviación típica perderemos esos valores\n",
        "diferencia = conventional - desviacion_tipica\n",
        "diferencia.dropna(inplace=True)"
      ],
      "metadata": {
        "id": "HJdFajL4jprN"
      },
      "execution_count": null,
      "outputs": []
    },
    {
      "cell_type": "code",
      "source": [
        "# Vamos a ver el resultado de nuestro test estadístico en nuestros datos transformados\n",
        "test_stationarity(diferencia)"
      ],
      "metadata": {
        "id": "sF7h-Hcej14g"
      },
      "execution_count": null,
      "outputs": []
    },
    {
      "cell_type": "code",
      "source": [
        "hiperparametros = (2,1,2)\n",
        "modelo_no_estacionario = ARIMA(diferencia, order=hiperparametros)\n",
        "resultados_no_estacionario = modelo_no_estacionario.fit()"
      ],
      "metadata": {
        "id": "OE1EtzMLkFSh"
      },
      "execution_count": null,
      "outputs": []
    },
    {
      "cell_type": "code",
      "source": [
        "# Vamos a crear un modelo ARIMA con los datos tal y como están\n",
        "# Definimos los hiperparámetros para el modelo como hemos discutido antes (p,q,d)\n",
        "hiperparametros = (2,1,2)\n",
        "modelo = ARIMA(conventional,order=hiperparametros)\n",
        "resultados = modelo.fit()"
      ],
      "metadata": {
        "id": "gOD93Hr3gsf0"
      },
      "execution_count": null,
      "outputs": []
    },
    {
      "cell_type": "code",
      "source": [
        "print(resultados)"
      ],
      "metadata": {
        "id": "nWF2twlZk7BY"
      },
      "execution_count": null,
      "outputs": []
    },
    {
      "cell_type": "code",
      "source": [
        "# Separación datos train-test\n",
        "# ==============================================================================\n",
        "steps = int(conventional.shape[0]*0.33)\n",
        "datos_train = conventional[:-steps]\n",
        "datos_test  = conventional[-steps:]\n",
        "\n",
        "print(f\"Fechas train : {datos_train.index.min()} --- {datos_train.index.max()}  (n={len(datos_train)})\")\n",
        "print(f\"Fechas test  : {datos_test.index.min()} --- {datos_test.index.max()}  (n={len(datos_test)})\")\n",
        "\n",
        "fig, ax = plt.subplots(figsize=(9, 4))\n",
        "datos_train['AveragePrice'].plot(ax=ax, label='train')\n",
        "datos_test['AveragePrice'].plot(ax=ax, label='test')\n",
        "ax.legend();"
      ],
      "metadata": {
        "id": "MD2DCYowDYzW"
      },
      "execution_count": null,
      "outputs": []
    },
    {
      "cell_type": "code",
      "source": [
        "# Crear y entrenar forecaster\n",
        "# ==============================================================================\n",
        "forecaster = ForecasterAutoreg(\n",
        "                regressor = RandomForestRegressor(random_state=123),\n",
        "                lags = 55\n",
        "             )\n",
        "\n",
        "forecaster.fit(y=datos_train['AveragePrice'])\n",
        "forecaster"
      ],
      "metadata": {
        "id": "kJfXrNAWKNYH"
      },
      "execution_count": null,
      "outputs": []
    },
    {
      "cell_type": "code",
      "source": [
        "# Predicciones\n",
        "# ==============================================================================\n",
        "steps = int(conventional.shape[0]*0.33)\n",
        "predicciones = forecaster.predict(steps=steps)\n",
        "index_values = datos_test.index.values\n",
        "predicciones = predicciones.to_frame()\n",
        "predicciones = predicciones.set_index(index_values)"
      ],
      "metadata": {
        "id": "vE_66myaKc9s"
      },
      "execution_count": null,
      "outputs": []
    },
    {
      "cell_type": "code",
      "source": [
        "# Gráfico\n",
        "# ==============================================================================\n",
        "fig, ax = plt.subplots(figsize=(9, 4))\n",
        "datos_train['AveragePrice'].plot(ax=ax, label='train') \n",
        "datos_test['AveragePrice'].plot(ax=ax, label='test')\n",
        "predicciones.plot(ax=ax, label=\"predicciones\")\n",
        "ax.legend();"
      ],
      "metadata": {
        "id": "Aj5aKSsMKiWf"
      },
      "execution_count": null,
      "outputs": []
    },
    {
      "cell_type": "code",
      "source": [
        "# evaluate an ARIMA model for a given order (p,d,q)\n",
        "def evaluate_arima_model(X, arima_order):\n",
        "    # prepare training dataset\n",
        "    train_size = int(len(X) * 0.66)\n",
        "    train, test = X[0:train_size], X[train_size:]\n",
        "    history = [x for x in train]\n",
        "    # make predictions\n",
        "    predictions = list()\n",
        "    for t in range(len(test)):\n",
        "        model = ARIMA(history, order=arima_order)\n",
        "        model_fit = model.fit(disp=0)\n",
        "        yhat = model_fit.forecast()[0]\n",
        "        predictions.append(yhat)\n",
        "        history.append(test[t])\n",
        "    # calculate out of sample error\n",
        "    error = mean_squared_error(test, predictions)\n",
        "    return error\n",
        " \n",
        "# evaluate combinations of p, d and q values for an ARIMA model\n",
        "def evaluate_models(dataset, p_values, d_values, q_values):\n",
        "    dataset = dataset.astype('float32')\n",
        "    best_score, best_cfg = float(\"inf\"), None\n",
        "    for p in p_values:\n",
        "        for d in d_values:\n",
        "            for q in q_values:\n",
        "                order = (p,d,q)\n",
        "                try:\n",
        "                    mse = evaluate_arima_model(dataset, order)\n",
        "                    if mse < best_score:\n",
        "                        best_score, best_cfg = mse, order\n",
        "                    print('ARIMA%s MSE=%.3f' % (order,mse))\n",
        "                except:\n",
        "                    continue\n",
        "    print('Best ARIMA%s MSE=%.3f' % (best_cfg, best_score))\n",
        " \n",
        "# evaluate parameters\n",
        "p_values = range(0, 4)\n",
        "d_values = range(0, 4)\n",
        "q_values = range(0, 4)\n",
        "warnings.filterwarnings(\"ignore\")\n",
        "evaluate_models(conventional.values, p_values, d_values, q_values)"
      ],
      "metadata": {
        "id": "yU5eeykSBQCs"
      },
      "execution_count": null,
      "outputs": []
    },
    {
      "cell_type": "code",
      "source": [
        "# instantiate the ARIMA model\n",
        "model = ARIMA(conventional['AveragePrice'], order = (1, 0, 0))\n",
        " \n",
        "# fit the model\n",
        "results_ARIMA = model.fit()\n",
        " \n",
        "# collect the predicted results, rounding to two to indicate dollars and cents\n",
        "predictions = round(results_ARIMA.predict(), 2)\n",
        " \n",
        "# put the predictions into a DataFrame with Date and Predicted Price columns\n",
        "preds = pd.DataFrame(list(zip(list(predictions.index),list(predictions))),columns=['Date',\n",
        "'PredictedPrice']).set_index('Date')\n",
        " \n",
        "# combine the original data set with the predicted data\n",
        "predicted_df = pd.merge(conventional[1:], preds, left_index=True, right_index=True)\n"
      ],
      "metadata": {
        "id": "TfN53rlCBXeq"
      },
      "execution_count": null,
      "outputs": []
    },
    {
      "cell_type": "code",
      "source": [
        "print(\"\\tMean Squared Error:\", mean_squared_error(predicted_df['AveragePrice'], predicted_df['PredictedPrice']))\n",
        "print(\"\\tRoot Mean Squared Error:\", np.sqrt(mean_squared_error(predicted_df['AveragePrice'],\n",
        "predicted_df['PredictedPrice'])))"
      ],
      "metadata": {
        "id": "IIXzn26RBeqH"
      },
      "execution_count": null,
      "outputs": []
    },
    {
      "cell_type": "code",
      "source": [
        "from statsmodels.graphics.tsaplots import plot_predict\n"
      ],
      "metadata": {
        "id": "M-NTLUhgCBcA"
      },
      "execution_count": null,
      "outputs": []
    }
  ]
}