{
  "nbformat": 4,
  "nbformat_minor": 0,
  "metadata": {
    "colab": {
      "name": "08_01_Maria_Gimenez_Ribera_Modelos_supervisados.ipynb",
      "provenance": [],
      "collapsed_sections": [
        "B9iw_tqYUB99"
      ]
    },
    "kernelspec": {
      "name": "python3",
      "display_name": "Python 3"
    },
    "language_info": {
      "name": "python"
    }
  },
  "cells": [
    {
      "cell_type": "markdown",
      "source": [
        "# Modelos supervisados\n"
      ],
      "metadata": {
        "id": "NHYSrABXJxOc"
      }
    },
    {
      "cell_type": "markdown",
      "source": [
        "Como vimos en la introducción al data science, hay una parte de los modelos que se categorizan como modelos de aprendizaje supervisado. \n",
        "\n",
        "En el aprendizaje supervisado, los algoritmos trabajan con datos “etiquetados” (labeled data), intentado encontrar una función que, dadas las variables de entrada (input data), les asigne la etiqueta de salida adecuada. El algoritmo se entrena con un “histórico” de datos y así “aprende” a asignar la etiqueta de salida adecuada a un nuevo valor, es decir, predice el valor de salida. \n",
        "\n",
        "Por ejemplo, un detector de spam, analiza el histórico de mensajes, viendo qué función puede representar, según los parámetros de entrada que se definan (el remitente, si el destinatario es individual o parte de una lista, si el asunto contiene determinados términos etc), la asignación de la etiqueta “spam” o “no es spam”. Una vez definida esta función, al introducir un nuevo mensaje no etiquetado, el algoritmo es capaz de asignarle la etiqueta correcta.\n",
        "\n",
        "\n"
      ],
      "metadata": {
        "id": "5id5WzZqJ1_A"
      }
    },
    {
      "cell_type": "markdown",
      "source": [
        "En los modelos supervisados, una de las principales características es que tenemos que realizar un ejercicio de etiquetado/clasificación previo para poder proporcionar al modelo los valores correctos para todo el set de datos de entrenamiento.  Dependiendo del tamaño del set de datos con el que estemos trabajando, este ejercicio puede llevar un tiempo considerable (**EDIT**: *un tiempo inconmensurable, por lo cual en tendencias de investigación más recientes se opta por emplear modelos que sepan obtener información estructural de los propios datos, sin necesidad de etiquetas*). \n"
      ],
      "metadata": {
        "id": "WrtXeAtIKpZu"
      }
    },
    {
      "cell_type": "markdown",
      "source": [
        "Los modelos de aprendizaje supervisado se dividen en dos grandes categorías: \n",
        "- Regresión\n",
        "- Clasificación"
      ],
      "metadata": {
        "id": "53R2qT1cLorq"
      }
    },
    {
      "cell_type": "markdown",
      "source": [
        "# Regresión"
      ],
      "metadata": {
        "id": "6OIvrE1cLz2d"
      }
    },
    {
      "cell_type": "markdown",
      "source": [
        "En la familia de modelos de regresión, destaca la regresión lineal. Este tipo de modelo busca predecir un valor real, que llamamos variable dependiente o variable objetivo, a partir de los valores que introducimos al modelo, que llamamos variables independientes o features. \n",
        "\n"
      ],
      "metadata": {
        "id": "xoAc-8YuL6cq"
      }
    },
    {
      "cell_type": "markdown",
      "source": [
        "## Regresión lineal\n",
        "\n",
        "Como acabamos de describir, la regresión lineal busca predecir el valor de la variable dependiente a partir de los valores de las variables independientes que le propocionamos al modelo. \n",
        "\n",
        "En la regresión lineal, se utiliza una línea para modelar la relación entre las variables independientes y la variable dependiente. \n",
        "\n",
        "En su forma más básica, la fórmula matemática que describe una regresión lineal es: $y = \\beta_0 + \\beta_1x$ , donde y es la variable dependiente que estamos prediciendo, x es la variable independiente de entrada, $\\beta_0$ es un parámetro conocido como interceptor y $\\beta_1$ es el coeficiente asociado a x.\n",
        "\n",
        "Juntos, $\\beta_0$  y $\\beta_1$ son lo que llamamos los coeficientes del modelo o hiperparámetros del modelo. Para crear el modelo de regresión lineal, debemos aprender cuales son los mejores valores para esos coeficientes para conseguir las mejores predicciones. \n",
        "\n",
        "Normalmente contamos con varias variables independientes de entrada, con lo que la fórmula se podría extender para tener en cuenta todas las variables de entrada como: $y= \\beta_0 + \\beta_1x_1 + \\beta_2x_2 + \\beta_3x_3 + .....$\n",
        "\n",
        "En la regresión lineal, los coeficientes del modelo se calculan utilizando el criterio de mínimos cuadrados, que matemáticamente nos permite encontrar la línea que minimiza la suma de la cuadrado de las distancias entre los puntos que tenemos en el set de entrenamiento y la línea que representa el modelo. "
      ],
      "metadata": {
        "id": "p5v7j5O_L6fP"
      }
    },
    {
      "cell_type": "markdown",
      "source": [
        "La regresión lineal es una forma rápida de conseguir predicciones en sets de datos que presentan correlación lineal, se ejecuta de forma muy rápida y, al ser un modelo sencillo, sirve como referencia a la hora de medir el desempeño de otros modelos "
      ],
      "metadata": {
        "id": "FNtmUZ2AL6hx"
      }
    },
    {
      "cell_type": "markdown",
      "source": [
        "Vamos a ver un ejemplo de utilización de un modelo de regresión lineal:"
      ],
      "metadata": {
        "id": "mfzIHKxQX836"
      }
    },
    {
      "cell_type": "code",
      "source": [
        "from sklearn import datasets\n",
        "from sklearn.linear_model import LinearRegression\n",
        "from sklearn.metrics import mean_squared_error\n",
        "\n",
        "import numpy as np\n",
        "import pandas as pd\n",
        "import matplotlib.pyplot as plt\n",
        "from sklearn.model_selection import train_test_split\n",
        "\n",
        "import warnings\n",
        "warnings.filterwarnings(\"ignore\")"
      ],
      "metadata": {
        "id": "bY9lT8M_ZG-J"
      },
      "execution_count": 1,
      "outputs": []
    },
    {
      "cell_type": "code",
      "source": [
        "# vamos a utilizar uno de los datasets más famosos para regresiones lineales,\n",
        "# el dataset de precios de viviendas en boston\n",
        "boston = datasets.load_boston()"
      ],
      "metadata": {
        "id": "nyrKpsY4YGyX"
      },
      "execution_count": 2,
      "outputs": []
    },
    {
      "cell_type": "code",
      "source": [
        "#Vamos a ver el número de columnas y de filas que tiene el dataset\n",
        "boston.data.shape"
      ],
      "metadata": {
        "colab": {
          "base_uri": "https://localhost:8080/"
        },
        "id": "Ew-fWPPMYjwM",
        "outputId": "b5d22b4b-0a97-4228-d2b6-e76d20c9966d"
      },
      "execution_count": 3,
      "outputs": [
        {
          "output_type": "execute_result",
          "data": {
            "text/plain": [
              "(506, 13)"
            ]
          },
          "metadata": {},
          "execution_count": 3
        }
      ]
    },
    {
      "cell_type": "code",
      "source": [
        "# Vamos a ver las variables independientes que tenemos de entrada\n",
        "boston.feature_names"
      ],
      "metadata": {
        "colab": {
          "base_uri": "https://localhost:8080/"
        },
        "id": "K_URqWMKYzbR",
        "outputId": "b6f1715a-2f03-4d26-ae99-b52c48fbea8a"
      },
      "execution_count": 4,
      "outputs": [
        {
          "output_type": "execute_result",
          "data": {
            "text/plain": [
              "array(['CRIM', 'ZN', 'INDUS', 'CHAS', 'NOX', 'RM', 'AGE', 'DIS', 'RAD',\n",
              "       'TAX', 'PTRATIO', 'B', 'LSTAT'], dtype='<U7')"
            ]
          },
          "metadata": {},
          "execution_count": 4
        }
      ]
    },
    {
      "cell_type": "code",
      "source": [
        "# Dado que es más fácil trabajar con un Dataframe de pandas, vamos a cargar los datos en uno\n",
        "df = pd.DataFrame(boston.data, columns=boston.feature_names)\n",
        "df.head()"
      ],
      "metadata": {
        "colab": {
          "base_uri": "https://localhost:8080/",
          "height": 206
        },
        "id": "EjZ2wnTgY9oz",
        "outputId": "4a504891-71d7-40ee-90ed-16ff817bfb4b"
      },
      "execution_count": 5,
      "outputs": [
        {
          "output_type": "execute_result",
          "data": {
            "text/plain": [
              "      CRIM    ZN  INDUS  CHAS    NOX     RM   AGE     DIS  RAD    TAX  \\\n",
              "0  0.00632  18.0   2.31   0.0  0.538  6.575  65.2  4.0900  1.0  296.0   \n",
              "1  0.02731   0.0   7.07   0.0  0.469  6.421  78.9  4.9671  2.0  242.0   \n",
              "2  0.02729   0.0   7.07   0.0  0.469  7.185  61.1  4.9671  2.0  242.0   \n",
              "3  0.03237   0.0   2.18   0.0  0.458  6.998  45.8  6.0622  3.0  222.0   \n",
              "4  0.06905   0.0   2.18   0.0  0.458  7.147  54.2  6.0622  3.0  222.0   \n",
              "\n",
              "   PTRATIO       B  LSTAT  \n",
              "0     15.3  396.90   4.98  \n",
              "1     17.8  396.90   9.14  \n",
              "2     17.8  392.83   4.03  \n",
              "3     18.7  394.63   2.94  \n",
              "4     18.7  396.90   5.33  "
            ],
            "text/html": [
              "\n",
              "  <div id=\"df-41d28a5e-e5e6-470d-b411-1f5a4ae52663\">\n",
              "    <div class=\"colab-df-container\">\n",
              "      <div>\n",
              "<style scoped>\n",
              "    .dataframe tbody tr th:only-of-type {\n",
              "        vertical-align: middle;\n",
              "    }\n",
              "\n",
              "    .dataframe tbody tr th {\n",
              "        vertical-align: top;\n",
              "    }\n",
              "\n",
              "    .dataframe thead th {\n",
              "        text-align: right;\n",
              "    }\n",
              "</style>\n",
              "<table border=\"1\" class=\"dataframe\">\n",
              "  <thead>\n",
              "    <tr style=\"text-align: right;\">\n",
              "      <th></th>\n",
              "      <th>CRIM</th>\n",
              "      <th>ZN</th>\n",
              "      <th>INDUS</th>\n",
              "      <th>CHAS</th>\n",
              "      <th>NOX</th>\n",
              "      <th>RM</th>\n",
              "      <th>AGE</th>\n",
              "      <th>DIS</th>\n",
              "      <th>RAD</th>\n",
              "      <th>TAX</th>\n",
              "      <th>PTRATIO</th>\n",
              "      <th>B</th>\n",
              "      <th>LSTAT</th>\n",
              "    </tr>\n",
              "  </thead>\n",
              "  <tbody>\n",
              "    <tr>\n",
              "      <th>0</th>\n",
              "      <td>0.00632</td>\n",
              "      <td>18.0</td>\n",
              "      <td>2.31</td>\n",
              "      <td>0.0</td>\n",
              "      <td>0.538</td>\n",
              "      <td>6.575</td>\n",
              "      <td>65.2</td>\n",
              "      <td>4.0900</td>\n",
              "      <td>1.0</td>\n",
              "      <td>296.0</td>\n",
              "      <td>15.3</td>\n",
              "      <td>396.90</td>\n",
              "      <td>4.98</td>\n",
              "    </tr>\n",
              "    <tr>\n",
              "      <th>1</th>\n",
              "      <td>0.02731</td>\n",
              "      <td>0.0</td>\n",
              "      <td>7.07</td>\n",
              "      <td>0.0</td>\n",
              "      <td>0.469</td>\n",
              "      <td>6.421</td>\n",
              "      <td>78.9</td>\n",
              "      <td>4.9671</td>\n",
              "      <td>2.0</td>\n",
              "      <td>242.0</td>\n",
              "      <td>17.8</td>\n",
              "      <td>396.90</td>\n",
              "      <td>9.14</td>\n",
              "    </tr>\n",
              "    <tr>\n",
              "      <th>2</th>\n",
              "      <td>0.02729</td>\n",
              "      <td>0.0</td>\n",
              "      <td>7.07</td>\n",
              "      <td>0.0</td>\n",
              "      <td>0.469</td>\n",
              "      <td>7.185</td>\n",
              "      <td>61.1</td>\n",
              "      <td>4.9671</td>\n",
              "      <td>2.0</td>\n",
              "      <td>242.0</td>\n",
              "      <td>17.8</td>\n",
              "      <td>392.83</td>\n",
              "      <td>4.03</td>\n",
              "    </tr>\n",
              "    <tr>\n",
              "      <th>3</th>\n",
              "      <td>0.03237</td>\n",
              "      <td>0.0</td>\n",
              "      <td>2.18</td>\n",
              "      <td>0.0</td>\n",
              "      <td>0.458</td>\n",
              "      <td>6.998</td>\n",
              "      <td>45.8</td>\n",
              "      <td>6.0622</td>\n",
              "      <td>3.0</td>\n",
              "      <td>222.0</td>\n",
              "      <td>18.7</td>\n",
              "      <td>394.63</td>\n",
              "      <td>2.94</td>\n",
              "    </tr>\n",
              "    <tr>\n",
              "      <th>4</th>\n",
              "      <td>0.06905</td>\n",
              "      <td>0.0</td>\n",
              "      <td>2.18</td>\n",
              "      <td>0.0</td>\n",
              "      <td>0.458</td>\n",
              "      <td>7.147</td>\n",
              "      <td>54.2</td>\n",
              "      <td>6.0622</td>\n",
              "      <td>3.0</td>\n",
              "      <td>222.0</td>\n",
              "      <td>18.7</td>\n",
              "      <td>396.90</td>\n",
              "      <td>5.33</td>\n",
              "    </tr>\n",
              "  </tbody>\n",
              "</table>\n",
              "</div>\n",
              "      <button class=\"colab-df-convert\" onclick=\"convertToInteractive('df-41d28a5e-e5e6-470d-b411-1f5a4ae52663')\"\n",
              "              title=\"Convert this dataframe to an interactive table.\"\n",
              "              style=\"display:none;\">\n",
              "        \n",
              "  <svg xmlns=\"http://www.w3.org/2000/svg\" height=\"24px\"viewBox=\"0 0 24 24\"\n",
              "       width=\"24px\">\n",
              "    <path d=\"M0 0h24v24H0V0z\" fill=\"none\"/>\n",
              "    <path d=\"M18.56 5.44l.94 2.06.94-2.06 2.06-.94-2.06-.94-.94-2.06-.94 2.06-2.06.94zm-11 1L8.5 8.5l.94-2.06 2.06-.94-2.06-.94L8.5 2.5l-.94 2.06-2.06.94zm10 10l.94 2.06.94-2.06 2.06-.94-2.06-.94-.94-2.06-.94 2.06-2.06.94z\"/><path d=\"M17.41 7.96l-1.37-1.37c-.4-.4-.92-.59-1.43-.59-.52 0-1.04.2-1.43.59L10.3 9.45l-7.72 7.72c-.78.78-.78 2.05 0 2.83L4 21.41c.39.39.9.59 1.41.59.51 0 1.02-.2 1.41-.59l7.78-7.78 2.81-2.81c.8-.78.8-2.07 0-2.86zM5.41 20L4 18.59l7.72-7.72 1.47 1.35L5.41 20z\"/>\n",
              "  </svg>\n",
              "      </button>\n",
              "      \n",
              "  <style>\n",
              "    .colab-df-container {\n",
              "      display:flex;\n",
              "      flex-wrap:wrap;\n",
              "      gap: 12px;\n",
              "    }\n",
              "\n",
              "    .colab-df-convert {\n",
              "      background-color: #E8F0FE;\n",
              "      border: none;\n",
              "      border-radius: 50%;\n",
              "      cursor: pointer;\n",
              "      display: none;\n",
              "      fill: #1967D2;\n",
              "      height: 32px;\n",
              "      padding: 0 0 0 0;\n",
              "      width: 32px;\n",
              "    }\n",
              "\n",
              "    .colab-df-convert:hover {\n",
              "      background-color: #E2EBFA;\n",
              "      box-shadow: 0px 1px 2px rgba(60, 64, 67, 0.3), 0px 1px 3px 1px rgba(60, 64, 67, 0.15);\n",
              "      fill: #174EA6;\n",
              "    }\n",
              "\n",
              "    [theme=dark] .colab-df-convert {\n",
              "      background-color: #3B4455;\n",
              "      fill: #D2E3FC;\n",
              "    }\n",
              "\n",
              "    [theme=dark] .colab-df-convert:hover {\n",
              "      background-color: #434B5C;\n",
              "      box-shadow: 0px 1px 3px 1px rgba(0, 0, 0, 0.15);\n",
              "      filter: drop-shadow(0px 1px 2px rgba(0, 0, 0, 0.3));\n",
              "      fill: #FFFFFF;\n",
              "    }\n",
              "  </style>\n",
              "\n",
              "      <script>\n",
              "        const buttonEl =\n",
              "          document.querySelector('#df-41d28a5e-e5e6-470d-b411-1f5a4ae52663 button.colab-df-convert');\n",
              "        buttonEl.style.display =\n",
              "          google.colab.kernel.accessAllowed ? 'block' : 'none';\n",
              "\n",
              "        async function convertToInteractive(key) {\n",
              "          const element = document.querySelector('#df-41d28a5e-e5e6-470d-b411-1f5a4ae52663');\n",
              "          const dataTable =\n",
              "            await google.colab.kernel.invokeFunction('convertToInteractive',\n",
              "                                                     [key], {});\n",
              "          if (!dataTable) return;\n",
              "\n",
              "          const docLinkHtml = 'Like what you see? Visit the ' +\n",
              "            '<a target=\"_blank\" href=https://colab.research.google.com/notebooks/data_table.ipynb>data table notebook</a>'\n",
              "            + ' to learn more about interactive tables.';\n",
              "          element.innerHTML = '';\n",
              "          dataTable['output_type'] = 'display_data';\n",
              "          await google.colab.output.renderOutput(dataTable, element);\n",
              "          const docLink = document.createElement('div');\n",
              "          docLink.innerHTML = docLinkHtml;\n",
              "          element.appendChild(docLink);\n",
              "        }\n",
              "      </script>\n",
              "    </div>\n",
              "  </div>\n",
              "  "
            ]
          },
          "metadata": {},
          "execution_count": 5
        }
      ]
    },
    {
      "cell_type": "code",
      "source": [
        "# Vamos a definir la variable objetivo, el precio de la casa en este caso como y\n",
        "y = boston.target"
      ],
      "metadata": {
        "id": "Rx4no7WNZXCO"
      },
      "execution_count": 6,
      "outputs": []
    },
    {
      "cell_type": "markdown",
      "source": [
        "¿Qué otras cosas podríamos mirar de nuestros datos antes de empezar con la creación del modelo? EDA"
      ],
      "metadata": {
        "id": "NXgWKCSHZm1Z"
      }
    },
    {
      "cell_type": "code",
      "source": [
        "# Vamos a crear nuestro primer modelo de regresión lineal\n",
        "lr = LinearRegression()"
      ],
      "metadata": {
        "id": "zmQd2LqsZxBn"
      },
      "execution_count": 7,
      "outputs": []
    },
    {
      "cell_type": "code",
      "source": [
        "# Para entrenar nuestro modelo solamente tenemos que llamar al método fit \n",
        "# que nos proporcionan todos los modelos de scikit-learn y pasar los datos correspondientes\n",
        "lr.fit(df, y)"
      ],
      "metadata": {
        "colab": {
          "base_uri": "https://localhost:8080/"
        },
        "id": "2usKlpwvaQui",
        "outputId": "3606e94a-86b3-4c5e-c80c-4c358886ba66"
      },
      "execution_count": 8,
      "outputs": [
        {
          "output_type": "execute_result",
          "data": {
            "text/plain": [
              "LinearRegression()"
            ]
          },
          "metadata": {},
          "execution_count": 8
        }
      ]
    },
    {
      "cell_type": "code",
      "source": [
        "# hagamos la predicción para nuestros datos\n",
        "prediction = lr.predict(df)"
      ],
      "metadata": {
        "id": "UyKZe86Yaix6"
      },
      "execution_count": 9,
      "outputs": []
    },
    {
      "cell_type": "code",
      "source": [
        "# Vamos a calcular el error que tiene nuestro modelo y a visualizar ese error \n",
        "# mostrando los valores reales del precio de las casas y los valores predichos por el modelo\n",
        "\n",
        "fig, ax = plt.subplots()\n",
        "ax.scatter(y,prediction,edgecolors=(0,0,0))\n",
        "ax.plot([y.min(),y.max()],[y.min(),y.max()],'k--',lw=4)\n",
        "ax.set_xlabel('Valor real')\n",
        "ax.set_ylabel('Predicción')\n",
        "plt.show()\n"
      ],
      "metadata": {
        "colab": {
          "base_uri": "https://localhost:8080/",
          "height": 279
        },
        "id": "JrhXcirqaxx5",
        "outputId": "38066168-78f1-48a2-e7d1-8b52e7ca3cb3"
      },
      "execution_count": 10,
      "outputs": [
        {
          "output_type": "display_data",
          "data": {
            "text/plain": [
              "<Figure size 432x288 with 1 Axes>"
            ],
            "image/png": "[encoded data removed]"
          },
          "metadata": {
            "needs_background": "light"
          }
        }
      ]
    },
    {
      "cell_type": "code",
      "source": [
        "mse = mean_squared_error(y,prediction)\n",
        "mse"
      ],
      "metadata": {
        "colab": {
          "base_uri": "https://localhost:8080/"
        },
        "id": "p5pIcg1KbeGO",
        "outputId": "a2dddb28-d987-4477-d152-1692265fcae1"
      },
      "execution_count": 11,
      "outputs": [
        {
          "output_type": "execute_result",
          "data": {
            "text/plain": [
              "21.894831181729202"
            ]
          },
          "metadata": {},
          "execution_count": 11
        }
      ]
    },
    {
      "cell_type": "markdown",
      "source": [
        "Eso tiene muy buena pinta! El MSE tiene un valor bajo como podríamos esperar viendo el gráfico que hemos creado. Sin embargo, qué está mal del método que hemos utilizado?"
      ],
      "metadata": {
        "id": "A3niBSyBbpVr"
      }
    },
    {
      "cell_type": "markdown",
      "source": [
        "Correcto, tenemos **overfitting**! (**EDIT**: *No podemos tener overfitting si no tenemos, precisamente, una muestra de validación en la que contrastar que nos ajustamos demasiado bien a los datos de entrenamiento. De hecho, seguramente el modelo sufra de underfitting dado que el dataset es complejo*.) Al haber utilizado todo el dataset para entrenar el modelo y luego pedirle que haga predicciones sobre el mismo dataset, la posibilidad de cometer errores es pequeña, pero cuando el modelo reciba datos que no ha visto nunca probablemente cometa grandes errores."
      ],
      "metadata": {
        "id": "w8RVJFS4cO9H"
      }
    },
    {
      "cell_type": "markdown",
      "source": [
        "Tenemos que separar nuestros datos para crear un set de entrenamiento y un set de pruebas. El set de entrenamiento es el que pasaremos a nuestro modelo para que aprenda a resolver el problema que tenemos y el set de pruebas lo utilizaremos para validar lo bien o lo mal que lo está haciendo el modelo al pasarle datos que no ha visto nunca y comparar sus predicciones con los valores que tenemos del set de pruebas. "
      ],
      "metadata": {
        "id": "6cxZOz3HclEN"
      }
    },
    {
      "cell_type": "code",
      "source": [
        "# vamos a crear los sets de entrenamiento y pruebas\n",
        "X_train, X_test, y_train, y_test = train_test_split(df, y, test_size=0.2, random_state=123)"
      ],
      "metadata": {
        "id": "v7ugoeDGbn4Y"
      },
      "execution_count": 12,
      "outputs": []
    },
    {
      "cell_type": "markdown",
      "source": [
        "La función train test split nos ayuda a generar los sets de entrenamiento y pruebas de forma fácil. Coge muestras aleatorias de todo el set de datos para construir nuestos sets, de modo que no tengamos dependencias de la posición de los datos para que caigan en el set de entrenamiento o el de pruebas y tener una muestra más variada de todos los datos que tenemos en nuestro set. El parámetro test_size determina cuántos datos guardamos para el set de pruebas. Tenemos que guardar algunos datos para evitar el overfitting pero a la vez queremos darle cuantos más datos mejor al modelo para que pueda aprender más. Lo habitual es guardar entre un 15% y un 20% de los datos para el set de pruebas. \n",
        "\n",
        "(**EDIT**: *No sólo es importante partir los datos, si no también hacerlo teniendo en cuenta que se respete la proporción de elementos de datos en base a la variable respuesta que hay en cada subconjunto. Para ello, se usa el parámetro 'stratify':*)\n",
        "\n",
        "```python\n",
        "X_train, X_test, y_train, y_test = train_test_split(df, y, test_size=0.2, stratify=y, random_state=123)\n",
        "```\n",
        "\n",
        "El parámetro random_state es importante porque fija la semilla para la generación de los números aleatorios que genera la función train_test_split para separar nuestros datos. Al fijar esa semilla, nos aseguramos de que todas las veces que ejecutemos esa separación de los datos vamos a tener los mismos registros en el set de entrenamiento y en el set de pruebas, de modo que podemos compartir nuestros experimentos con otras personas y esas personas podrán reproducir nuestros resultados. "
      ],
      "metadata": {
        "id": "WJMTLMJtdRjy"
      }
    },
    {
      "cell_type": "code",
      "source": [
        "# creemos una nueva instancia del modelo \n",
        "lr_new = LinearRegression()"
      ],
      "metadata": {
        "id": "rvz9hGFIdQeG"
      },
      "execution_count": 13,
      "outputs": []
    },
    {
      "cell_type": "code",
      "source": [
        "# entrenamos el modelo con el set de entrenamiento\n",
        "lr_new.fit(X_train, y_train)"
      ],
      "metadata": {
        "colab": {
          "base_uri": "https://localhost:8080/"
        },
        "id": "r0q8veU-e4Tg",
        "outputId": "118847b4-e1dd-404d-8be1-fa5dda2e8b1b"
      },
      "execution_count": 14,
      "outputs": [
        {
          "output_type": "execute_result",
          "data": {
            "text/plain": [
              "LinearRegression()"
            ]
          },
          "metadata": {},
          "execution_count": 14
        }
      ]
    },
    {
      "cell_type": "code",
      "source": [
        "# Generamos predicciones para el set de pruebas\n",
        "prediction_new = lr_new.predict(X_test)"
      ],
      "metadata": {
        "id": "rzkmSN4ce-np"
      },
      "execution_count": 15,
      "outputs": []
    },
    {
      "cell_type": "code",
      "source": [
        "# Veamos la representación de los valores reales comparados con los valores \n",
        "# predichos por el modelo y luego calculemos el MSE\n",
        "fig, ax = plt.subplots()\n",
        "ax.scatter(y_test,prediction_new,edgecolors=(0,0,0))\n",
        "ax.plot([y_test.min(),y_test.max()],[y_test.min(),y_test.max()],'k--',lw=4)\n",
        "ax.set_xlabel('Valor real')\n",
        "ax.set_ylabel('Predicción')\n",
        "plt.show()"
      ],
      "metadata": {
        "colab": {
          "base_uri": "https://localhost:8080/",
          "height": 279
        },
        "id": "qTBqpXoPfF5r",
        "outputId": "8ad9a264-d845-4594-ec26-06408da08684"
      },
      "execution_count": 16,
      "outputs": [
        {
          "output_type": "display_data",
          "data": {
            "text/plain": [
              "<Figure size 432x288 with 1 Axes>"
            ],
            "image/png": "[encoded data removed]"
          },
          "metadata": {
            "needs_background": "light"
          }
        }
      ]
    },
    {
      "cell_type": "code",
      "source": [
        "mse_new = mean_squared_error(y_test,prediction_new)\n",
        "mse_new"
      ],
      "metadata": {
        "colab": {
          "base_uri": "https://localhost:8080/"
        },
        "id": "pL5dKwIffb-N",
        "outputId": "3c103d24-93cd-4ad3-ca1f-6bba3551b8b6"
      },
      "execution_count": 17,
      "outputs": [
        {
          "output_type": "execute_result",
          "data": {
            "text/plain": [
              "28.19248575846932"
            ]
          },
          "metadata": {},
          "execution_count": 17
        }
      ]
    },
    {
      "cell_type": "markdown",
      "source": [
        "Aunque ahora tenemos un MSE mayor, el modelo funciona mejor frente a nuevas observaciones y ya no sufre de overfitting"
      ],
      "metadata": {
        "id": "K8OQsYuGRucB"
      }
    },
    {
      "cell_type": "markdown",
      "source": [
        "## Regularizaciones de Lasso y Ridge (Regularizaciones L1 y L2)"
      ],
      "metadata": {
        "id": "B9iw_tqYUB99"
      }
    },
    {
      "cell_type": "markdown",
      "source": [
        "Las regularizaciones de Lasso y Ridge que se pueden aplicar a los modelos de regresión lineal son técnicas que permiten reducir la complejidad de los modelos y prevenir la aparición de overfitting en el modelo de regresión lineal. "
      ],
      "metadata": {
        "id": "mWYPLtrXUXog"
      }
    },
    {
      "cell_type": "markdown",
      "source": [
        "Sin entrar en las definiciones matemáticas de estas regularizaciones, simplemente deberíamos quedarnos con las siguientes intuiciones: \n",
        "- **La regularización de Ridge** (también conocida como regularización L2) se debe aplicar si vemos que los coeficientes de nuestros modelos son muy altos, ya que ayuda a reducir dichos coeficientes y así reducir la variabilidad del modelo que nos lleva al overfitting\n",
        "- **La regularización de Lasso** (también conocida como regularización L1) se debe aplicar si tenemos un número alto de variables independientes que introducimos a nuestro modelo de regresión lineal, dado que esta regularización ayuda a seleccionar las variables independientes más importantes para las predicciones y reduce el valor total de los coeficientes de las variables independientes para evitar el overfitting, llegando a poner a cero los coeficientes de aquellas variables independientes menos relevantes. "
      ],
      "metadata": {
        "id": "yIHkry84VBo4"
      }
    },
    {
      "cell_type": "markdown",
      "source": [
        "Para aplicar las regularizaciones de Ridge y de Lasso, podemos utilizar las implementaciones del algoritmo de la regresión lineal con cada una de las regularizaciones que nos ofrece scikit-learn, utilizando el parámetro alpha que ofrecen ambas implementaciones para controlar el impacto de la regularización en el resultado final. "
      ],
      "metadata": {
        "id": "0PjQopSSWyv2"
      }
    },
    {
      "cell_type": "code",
      "source": [
        "from sklearn.linear_model import Ridge\n",
        "from sklearn.linear_model import Lasso"
      ],
      "metadata": {
        "id": "bgQFHNWfXYEH"
      },
      "execution_count": 18,
      "outputs": []
    },
    {
      "cell_type": "code",
      "source": [
        "# Vamos a ver el efecto de la regularización de Ridge\n",
        "boston = datasets.load_boston()\n",
        "\n",
        "# Cargamos los datos en un data frame\n",
        "boston_df = pd.DataFrame(boston.data, columns=boston.feature_names)\n",
        "\n",
        "# Dividimos los datos entre el set de entrenamiento y el de pruebas\n",
        "X_train, X_test, y_train, y_test = train_test_split(boston_df, boston.target, test_size=0.2, random_state=123)\n",
        "\n",
        "#Preparamos el modelo de regresión lineal sin regularización\n",
        "lr = LinearRegression()\n",
        "lr.fit(X_train,y_train)\n",
        "\n",
        "# Preparamos el modelo de regresión con regularización de Ridge y un parámetro alpha de 0.1\n",
        "rr = Ridge(alpha=0.1)\n",
        "rr.fit(X_train,y_train)\n",
        "\n",
        "# Vamos a montar un segundo modelo de regresión con regularización de Ridge,\n",
        "# pero esta vez con un valor de alpha mucho más grande\n",
        "rr_100 = Ridge(alpha=100)\n",
        "rr_100.fit(X_train,y_train)\n",
        "\n",
        "# Vamos a ver los errores que cometen los tres modelos para el set de entrenamiento y para el de pruebas\n",
        "train_score = lr.score(X_train, y_train)\n",
        "test_score = lr.score(X_test,y_test)\n",
        "\n",
        "ridge_train_score = rr.score(X_train, y_train)\n",
        "ridge_test_score = rr.score(X_test,y_test)\n",
        "\n",
        "ridge_100_train_score = rr_100.score(X_train, y_train)\n",
        "ridge_100_test_score = rr_100.score(X_test, y_test)\n",
        "\n",
        "# Finalmente dibujemos los coeficientes de los distintos modelos \n",
        "plt.plot(rr.coef_,alpha=0.7,linestyle='none',marker='*',markersize=5,color='red',label=r'Ridge; $\\alpha = 0.01$',zorder=7) \n",
        "plt.plot(rr_100.coef_,alpha=0.5,linestyle='none',marker='d',markersize=6,color='blue',label=r'Ridge; $\\alpha = 100$') \n",
        "plt.plot(lr.coef_,alpha=0.4,linestyle='none',marker='o',markersize=7,color='green',label='Linear Regression')\n",
        "plt.xlabel('Índice del coeficiente',fontsize=16)\n",
        "plt.ylabel('Magnitud del coeficiente',fontsize=16)\n",
        "plt.legend(fontsize=13,loc=4)\n",
        "plt.show()\n"
      ],
      "metadata": {
        "colab": {
          "base_uri": "https://localhost:8080/",
          "height": 0
        },
        "id": "V9pTeXhaXg0I",
        "outputId": "c0780bad-d4ae-44f0-b28a-aff03beea254"
      },
      "execution_count": 19,
      "outputs": [
        {
          "output_type": "display_data",
          "data": {
            "text/plain": [
              "<Figure size 432x288 with 1 Axes>"
            ],
            "image/png": "[encoded data removed]"
          },
          "metadata": {
            "needs_background": "light"
          }
        }
      ]
    },
    {
      "cell_type": "markdown",
      "source": [
        "Podemos ver que un valor pequeño para alpha en la regularización de Ridge hace que los coeficientes del modelo estén poco restringidos y el valor de los coeficientes es prácticamente igual que el de los coeficientes del modelo de regresión sin regularización. \n",
        "En cambio, para un valor alto de alpha, como puede ser 100, vemos que el valor de los coeficientes del modelo está más restringido y todos los coeficientes se encuentran en torno a cero. Ahí podemos ver el efecto de reducción de los valores de los coeficientes al aplicar la regularización de Ridge."
      ],
      "metadata": {
        "id": "0p4XtEr7asTI"
      }
    },
    {
      "cell_type": "code",
      "source": [
        "# Ahora vamos a ver un ejemplo de aplicación de la regularización de Lasso\n",
        "# Utilizamos el dataset sobre cáncer que tiene scikit-learn porque tiene un número mayor\n",
        "# de variables independientes comparadas con el dataset sobre los precios de Boston\n",
        "\n",
        "cancer = datasets.load_breast_cancer()\n",
        "cancer_df = pd.DataFrame(cancer.data, columns=cancer.feature_names)\n",
        "\n",
        "# Hacemos la división de los datos entre el set de entrenamiento y el de pruebas\n",
        "X_train, X_test, y_train, y_test = train_test_split(cancer_df, cancer.target, test_size=0.2, random_state=123)\n",
        "\n",
        "# Empezamos por un modelo de regresión sin regularización\n",
        "lr = LinearRegression()\n",
        "lr.fit(X_train, y_train)\n",
        "lr_train_score = lr.score(X_train,y_train)\n",
        "lr_test_score = lr.score(X_test,y_test)\n",
        "\n",
        "print(\"LR training score: \", lr_train_score)\n",
        "print(\"LR test score: \", lr_test_score)\n",
        "print(\"------------------------------------------------------------------------------------------------------\")\n",
        "\n",
        "# Ahora vamos a crear un modelo con regularización de Lasso con un parámetro alpha alto\n",
        "lasso = Lasso(alpha=1)\n",
        "lasso.fit(X_train, y_train)\n",
        "lasso_train_score = lasso.score(X_train, y_train)\n",
        "lasso_test_score = lasso.score(X_test, y_test)\n",
        "coeficientes = np.sum(lasso.coef_!=0)\n",
        "\n",
        "print(\"Lasso training score: \",lasso_train_score)\n",
        "print(\"Lasso test score: \", lasso_test_score)\n",
        "print(\"Número de variables utilizadas: \", coeficientes)\n",
        "print(\"------------------------------------------------------------------------------------------------------\")\n",
        "\n",
        "# ahora vamos a crear un modelo con regularización de Lasso con un parámetro alpha pequeño\n",
        "lasso001 = Lasso(alpha=0.01)\n",
        "lasso001.fit(X_train, y_train)\n",
        "\n",
        "lasso001_train_score = lasso001.score(X_train, y_train)\n",
        "lasso001_test_score = lasso001.score(X_test, y_test)\n",
        "lasso001_coeficientes = np.sum(lasso001.coef_!=0)\n",
        "\n",
        "print(\"Lasso con alpha 0.01 training score: \", lasso001_train_score)\n",
        "print(\"Lasso con alpha 0.01 test score: \", lasso001_test_score)\n",
        "print(\"Número de variables utilizadas: \", lasso001_coeficientes)\n",
        "print(\"------------------------------------------------------------------------------------------------------\")\n",
        "\n",
        "# Finalmente vamos a crear un modelo con regularización de Lasso con un valor de alpha muy pequeño\n",
        "lasso00001 = Lasso(alpha=0.0001)\n",
        "lasso00001.fit(X_train,y_train)\n",
        "train_score00001=lasso00001.score(X_train,y_train)\n",
        "test_score00001=lasso00001.score(X_test,y_test)\n",
        "coeff_used00001 = np.sum(lasso00001.coef_!=0)\n",
        "print(\"Lasso con alpha 0.0001 training score:\", train_score00001)\n",
        "print(\"Lasso con alpha 0.0001 test score: \", test_score00001)\n",
        "print(\"Número de variables utilizadas:\", coeff_used00001)\n",
        "\n",
        "\n",
        "plt.subplot(1,2,1)\n",
        "plt.plot(lasso.coef_,alpha=0.7,linestyle='none',marker='*',markersize=5,color='red',label=r'Lasso; $\\alpha = 1$',zorder=7) \n",
        "plt.plot(lasso001.coef_,alpha=0.5,linestyle='none',marker='d',markersize=6,color='blue',label=r'Lasso; $\\alpha = 0.01$') \n",
        "\n",
        "plt.xlabel('Indice del coeficiente',fontsize=16)\n",
        "plt.ylabel('Magnitud del coeficiente',fontsize=16)\n",
        "plt.legend(fontsize=13,loc=4)\n",
        "plt.subplot(1,2,2)\n",
        "plt.plot(lasso.coef_,alpha=0.7,linestyle='none',marker='*',markersize=5,color='red',label=r'Lasso; $\\alpha = 1$',zorder=7) \n",
        "plt.plot(lasso001.coef_,alpha=0.5,linestyle='none',marker='d',markersize=6,color='blue',label=r'Lasso; $\\alpha = 0.01$')\n",
        "plt.plot(lasso00001.coef_,alpha=0.8,linestyle='none',marker='v',markersize=6,color='black',label=r'Lasso; $\\alpha = 0.00001$') \n",
        "plt.plot(lr.coef_,alpha=0.7,linestyle='none',marker='o',markersize=5,color='green',label='Linear Regression',zorder=2)\n",
        "plt.xlabel('Indice del coeficiente',fontsize=16)\n",
        "plt.ylabel('Magnitud del coeficiente',fontsize=16)\n",
        "plt.legend(fontsize=13,loc=4)\n",
        "plt.tight_layout()\n",
        "plt.show()\n"
      ],
      "metadata": {
        "colab": {
          "base_uri": "https://localhost:8080/",
          "height": 0
        },
        "id": "nx_kvsM3ar-b",
        "outputId": "e9897383-4b8c-4155-8c21-26ee080aedf6"
      },
      "execution_count": 20,
      "outputs": [
        {
          "output_type": "stream",
          "name": "stdout",
          "text": [
            "LR training score:  0.7712610207978714\n",
            "LR test score:  0.7622146624106361\n",
            "------------------------------------------------------------------------------------------------------\n",
            "Lasso training score:  0.5505114275132479\n",
            "Lasso test score:  0.5496710489491345\n",
            "Número de variables utilizadas:  3\n",
            "------------------------------------------------------------------------------------------------------\n",
            "Lasso con alpha 0.01 training score:  0.682707549943812\n",
            "Lasso con alpha 0.01 test score:  0.7164421059379041\n",
            "Número de variables utilizadas:  8\n",
            "------------------------------------------------------------------------------------------------------\n",
            "Lasso con alpha 0.0001 training score: 0.7598908199493224\n",
            "Lasso con alpha 0.0001 test score:  0.7615250331156784\n",
            "Número de variables utilizadas: 21\n"
          ]
        },
        {
          "output_type": "display_data",
          "data": {
            "text/plain": [
              "<Figure size 432x288 with 2 Axes>"
            ],
            "image/png": "[encoded data removed]"
          },
          "metadata": {
            "needs_background": "light"
          }
        }
      ]
    },
    {
      "cell_type": "code",
      "source": [
        "cancer_df.shape"
      ],
      "metadata": {
        "colab": {
          "base_uri": "https://localhost:8080/"
        },
        "id": "8s-LBfPuZ7zf",
        "outputId": "c3467131-71bb-4876-981a-f5d0bfe2e8a0"
      },
      "execution_count": 21,
      "outputs": [
        {
          "output_type": "execute_result",
          "data": {
            "text/plain": [
              "(569, 30)"
            ]
          },
          "metadata": {},
          "execution_count": 21
        }
      ]
    },
    {
      "cell_type": "markdown",
      "source": [
        "Como podemos ir viendo de los resultados que nos ofrecen el ejemplo anterior, el uso de un valor alto de alpha para un modelo de regresión con regularización hace que el número de variables independientes que se tienen en cuenta en el modelo disminuya claramente frente al número de variables independientes disponibles.  Según se va disminuyendo el valor de alpha, el número de variables independientes que se utilizan aumenta, reduciendo la restricción que aplica la regularización. \n",
        "De los gráficos también podemos ver que los valores altos de alpha hacen que los coeficientes del modelo vean sus valores reducidos significativamente y se encuentren en valores cercanos a cero."
      ],
      "metadata": {
        "id": "tx3DkoqmfF2i"
      }
    },
    {
      "cell_type": "markdown",
      "source": [
        "# Clasificación"
      ],
      "metadata": {
        "id": "iBkDwFQ8L6lR"
      }
    },
    {
      "cell_type": "markdown",
      "source": [
        "Los modelos de clasificación son la otra gran familia de modelos dentro de los modelos de aprendizaje supervisado. \n",
        "\n",
        "En los modelos de clasificación buscamos asignar una etiqueta de una categoría a los datos que entregamos al modelo. \n",
        "\n",
        "Hay dos tipos de modelos de clasificación: \n",
        "- **Clasificadores binarios**: En los que solamente existen dos posibles categorías de salida. \n",
        "- **Clasificadores multiclase**: En los que existen tres o más posibles categorías de salida. \n",
        "\n",
        "Vamos a ver en más detalle tres tipos de modelos de clasificación: regresión logística, bosques aleatorios y modelos de ensamblado. \n",
        "\n",
        "\n"
      ],
      "metadata": {
        "id": "tDd_NlVcL9ho"
      }
    },
    {
      "cell_type": "markdown",
      "source": [
        "A diferencia de los modelos de regresión donde calculamos el error que tienen las predicciones del modelo comparado con el valor real de los datos, en los modelos de clasificación utilizamos otras métricas para evaluar cómo de bien está funcionando un modelo. Veámos las distintas métricas que podemos utilizar. "
      ],
      "metadata": {
        "id": "atndvs6UEv7V"
      }
    },
    {
      "cell_type": "markdown",
      "source": [
        "### Matriz de confusión\n",
        "\n",
        "La matriz de confusión nos permite visualizar fácilmente cómo de bien está funcionando nuestro modelo de clasificación. Como su propio nombre indica es una matriz donde las columnas son las categorías predichas por el modelo y las filas son las categorías reales de los datos. Los valores dentro de la matriz son el número de datos para los que se cumplen el valor real y el valor predicho por el modelo. \n",
        "\n",
        "![image.png](data:image/png;base64,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)\n",
        "\n",
        "En el ejemplo que tenemos encima, tenemos dos categorías para nuestro modelo de clasificación. Tomando como ejemplo la primera fila, la matriz de confusión nos está diciendo que para nuestro modelo hay 5 perros que han sido clasificados como perros y 2 perros que han sido clasificados como gatos. El segunda fila funciona igual. \n",
        "\n",
        "La matriz de confusión, además de darnos una idea rápida sobre el desempeño de nuestro modelo, también nos ayuda a calcular cuatro métricas importantes: \n",
        "- **verdaderos positivos**: Son aquellos datos donde la categoría positiva coincide en la predicción y en la realidad\n",
        "- **verdaderos negativos**: Son aquellos datos donde la categoría negativa coincide en la predicción y en la realidad \n",
        "- **falsos positivos**: Son aquellos datos donde el modelo predice la categoría positiva pero en realidad tienen la categoría negativa\n",
        "- **falsos negativos**: Son aquellos datos donde el modelo predice la categoría negativa pero en realidad tienen la categoría positiva\n",
        "\n",
        "Por convención, se asume que la categoría de la primera columna es la categoría positiva (en nuestro ejemplo los perros) y la categoría de la segunda columna es la categoría negativa (en nuestro ejemplo los gatos). \n",
        "\n",
        "Estos calculos se pueden expandir para los casos en los que tenemos más de dos categorías (clasificadores multiclase). "
      ],
      "metadata": {
        "id": "Q3rF0qreFNBv"
      }
    },
    {
      "cell_type": "markdown",
      "source": [
        "### F1-score, precisión y exhaustividad (recall)\n",
        "\n",
        "Estas medidas nos ayudan a evaluar también cómo de bien está funcionando nuestro clasificador. \n",
        "\n",
        "La precisión nos ayuda a evaluar cómo de efectivo es el modelo a la hora de encontrar los valores para una categoría en concreto. Se define como el porcentaje de valores correctos que has conseguido predecir sobre el total de las predicciones positivas que has hecho.  Siguiendo con los conceptos que hemos visto antes en la matriz de confusión, la precisión se define como: $$ precision = \\dfrac{positivos\\quad verdaderos}{(positivos\\quad verdaderos + falsos\\quad positivos)} $$ \n",
        "\n",
        "La exhaustividad (recall) nos ayuda a saber cómo de efectivo es el modelo a la hora de conseguir acertar las categorías de los datos. Se define como el porcentaje de valores correctos que has conseguido predecir sobre el total de valores correctos que hay en los datos. Lo podemos definir como: $$ exhaustividad = \\dfrac {positivos\\quad verdaderos}{(positivo\\quad verdaderos + falsos\\quad negativos)}$$\n",
        "\n",
        "Por último, el F1-score nos combina los valores de precisión y exhaustividad (recall), dándonos una visión global de la efectividad del modelo. Matemáticamente, se define como el la media armónica entre precisión y exhaustividad (recall): $$ F1 = 2 * \\dfrac{(precision * exhaustividad)}{(precision + exhaustividad)}$$"
      ],
      "metadata": {
        "id": "2ycVf8zdFLqU"
      }
    },
    {
      "cell_type": "markdown",
      "source": [
        "### Curva ROC / AUC\n",
        "\n",
        "La curva ROC (Receiver Operator Characteristic) es una medida que podemos calcular y pintar que nos relaciona las medidas de precision y exhaustividad (recall) que hemos definido antes. Esta relación nos proporciona una curva que podemos pintar en una gráfica y que nos permite conocer cómo de bien se está comportando nuestro modelo. \n",
        "\n",
        "Un modelo que eligiese categorías de forma aleatoria generaría una línea diagonal perfecta en el espacio de precisión y exhaustividad (recall). Para saber si nuestro modelo está siendo efectivo, la curva ROC representada debe quedar por encima de esta línea diagonal.  \n",
        "\n",
        "Aparte de tener una representación de la curva ROC y la intuición que nos dice si el modelo está siendo efectivo o no, también podemos calcular la medida del área bajo la curva (area under the curve o AUC). Esto simplemente es el área que queda por debajo de nuestra curva ROC en la representación. El valor máximo de esta medida es 1 para un clasificador perfecto y por lo tanto cuanto más nos acerquemos a ese valor de 1 en esta medida, mejor comportamiento tendrá nuestro clasificador. "
      ],
      "metadata": {
        "id": "lKATDGPcFIOT"
      }
    },
    {
      "cell_type": "markdown",
      "source": [
        "## Regresión logística\n",
        "\n",
        "La regresión logística es uno de los modelos que conforman la familia de modelos de clasificación. El objetivo de la regresión logística es predecir la probabilidad de que una combinación lineal de variables independientes sea mapeada a una variable dependiente de salida. \n",
        "\n",
        "Esta es una propiedad importante de la regresión logística en comparación con otros modelos, dado que la salida del modelo no es una categoría que asigne a los datos de entrada, si no la probabilidad de pertenecer a esa categoría. Luego debemos poner un paso extra para determinar a partir de qué valor de probabilidad asociamos una salida a una clase en concreto. \n",
        "\n",
        "La regresión logística es en cierto modo una extensión de la regresión lineal puesto que utiliza una combinación lineal de las variables independientes de entrada para llegar al valor de la variable dependiente de salida. Dado que la salida de los modelos de regresión logística es una probabilidad, sus valores deben encontrarse entre 0 y 1.  ¿Cómo conseguimos combinar el resultado de la combinación lineal de variables independientes con el hecho de que el resultado tiene que estar entre 0 y 1? La regresión logística lo consigue utilizando la función del sigmoide, que tiene la siguiente forma: \n",
        "\n",
        "![image.png](data:image/png;base64,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)\n",
        "\n",
        "De esta forma, cualquier valor que consigamos con la combinación lineal de variables independientes de entrada (que sería el valor en el eje x de la función sigmoide), puede ser transformada en un valor entre 0 y 1 (que sería el valor en el eje y de la función sigmoide) y sería el valor final que nos devolvería el modelo. \n",
        "\n",
        "La regresión logística es un modelo más sencillo que otras versiones que veremos después y por lo tanto es una buena opción para poder utilizar en problemas donde hay pocas variables independientes de entrada por la alta velocidad a la que se puede entrenar. Sin embargo, si el número de variables independiente comienza a crecer, este modelo tiene algunos problemas de rendimiento. \n",
        "\n",
        "Vamos a ver con un ejemplo cómo utilizar la regresión logística utilizando la librería de scikit-learn"
      ],
      "metadata": {
        "id": "MPfja3zuL9j2"
      }
    },
    {
      "cell_type": "code",
      "source": [
        "from sklearn.linear_model import LogisticRegression\n",
        "from sklearn.preprocessing import OneHotEncoder\n",
        "import numpy as np\n",
        "import pandas as pd\n",
        "import matplotlib.pyplot as plt\n",
        "from sklearn.model_selection import train_test_split\n",
        "\n",
        "import warnings\n",
        "warnings.filterwarnings(\"ignore\")\n",
        "\n",
        "from sklearn.metrics import roc_curve,auc, confusion_matrix, classification_report"
      ],
      "metadata": {
        "id": "HrkeNlLAObcP"
      },
      "execution_count": 22,
      "outputs": []
    },
    {
      "cell_type": "code",
      "source": [
        "from google.colab import drive\n",
        "drive.mount('/content/drive')"
      ],
      "metadata": {
        "colab": {
          "base_uri": "https://localhost:8080/"
        },
        "id": "yl5Yj7RJq4a6",
        "outputId": "2f01daec-687a-4ffb-a90f-34de275dd867"
      },
      "execution_count": 23,
      "outputs": [
        {
          "output_type": "stream",
          "name": "stdout",
          "text": [
            "Mounted at /content/drive\n"
          ]
        }
      ]
    },
    {
      "cell_type": "code",
      "source": [
        "# Cargamos los datos sobre el accidente del titanic, uno de los datasets más utilizados en problemas de clasificación\n",
        "df_train = pd.read_csv(\"/content/drive/MyDrive/Copia de train_titanic.csv\")"
      ],
      "metadata": {
        "id": "fFZqfN8EOmG2"
      },
      "execution_count": 24,
      "outputs": []
    },
    {
      "cell_type": "markdown",
      "source": [
        "Ahora que tenemos los datos, ¿qué podríamos mirar para hacernos una idea de los datos con los que vamos a trabajar? ¡EDA!"
      ],
      "metadata": {
        "id": "xqZRbrtypAVg"
      }
    },
    {
      "cell_type": "markdown",
      "source": [
        "Vamos a preparar un poco nuestros datos para poder trabajar con el modelo de random forests, dado que los datos tienen algunas variables independientes categóricas (no numéricas) que necesitamos transformar para incluir en el modelo. "
      ],
      "metadata": {
        "id": "01kOHYEP9kvb"
      }
    },
    {
      "cell_type": "code",
      "source": [
        "# Algo importante a la hora de trabajar con este set de datos y con cualquier otro es mirar si tiene \n",
        "# variables categóricas (no numéricas) porque necesitamos transformarlas a numéricas para poder proporcionárselo al modelo\n",
        "df_train['Embarked'].fillna(value='S',inplace=True)\n",
        "df_train['Fare'].fillna(value=df_train['Fare'].mean(),inplace=True) # Esto, si lo vamos a borrar, no tiene ningún sentido que lo hagamos. \n",
        "df_train['Age'].fillna(value=df_train['Age'].mean(),inplace=True) # Tampoco tiene ningún sentido matemático imputar con un 0 en una variable numérica que siempre es mayor que cero. Deberíamos haber aplicado la media o la mediana como imputación. Esto es directamente erróneo."
      ],
      "metadata": {
        "id": "PUK2o-R_Oqkm"
      },
      "execution_count": 25,
      "outputs": []
    },
    {
      "cell_type": "code",
      "source": [
        "sex_categories = {'female':0,'male':1}\n",
        "# Vamos a utilizar la función map para transformar las variable del sexo del pasajero a numérica\n",
        "df_train['Sex'] = df_train['Sex'].map(sex_categories)"
      ],
      "metadata": {
        "id": "blAqExDiO9lC"
      },
      "execution_count": 26,
      "outputs": []
    },
    {
      "cell_type": "code",
      "source": [
        "# Para el puerto de embarque,vamos a utilzar una técnica que se llama one-hot encoding\n",
        "one_hot_encoding_train = pd.get_dummies(df_train['Embarked'])\n",
        "df_train = pd.concat([df_train, one_hot_encoding_train], axis=1)\n",
        "df_train= df_train.drop(['Embarked'],axis=1)"
      ],
      "metadata": {
        "id": "XFKMRf6sPABA"
      },
      "execution_count": 27,
      "outputs": []
    },
    {
      "cell_type": "code",
      "source": [
        "# Vamos a eliminar las columnas que no nos interesan\n",
        "df_train = df_train.drop(['Name', 'Cabin', 'Ticket', 'Fare', 'PassengerId'], axis=1)"
      ],
      "metadata": {
        "id": "ZqOf5ssGPE6c"
      },
      "execution_count": 28,
      "outputs": []
    },
    {
      "cell_type": "code",
      "source": [
        "df_train.isnull().sum()"
      ],
      "metadata": {
        "colab": {
          "base_uri": "https://localhost:8080/"
        },
        "id": "1Ke4FQsZnOSb",
        "outputId": "a6fa9c98-1772-412b-c069-4f3f86b50c22"
      },
      "execution_count": 29,
      "outputs": [
        {
          "output_type": "execute_result",
          "data": {
            "text/plain": [
              "Survived    0\n",
              "Pclass      0\n",
              "Sex         0\n",
              "Age         0\n",
              "SibSp       0\n",
              "Parch       0\n",
              "C           0\n",
              "Q           0\n",
              "S           0\n",
              "dtype: int64"
            ]
          },
          "metadata": {},
          "execution_count": 29
        }
      ]
    },
    {
      "cell_type": "code",
      "source": [
        "# Antes de crear el modelo hacemos la separación del set de entrenamiento y el set de pruebas\n",
        "X_train, X_test, y_train, y_test = train_test_split(df_train.loc[:, df_train.columns != 'Survived'], df_train['Survived'], test_size=0.2, random_state=123)"
      ],
      "metadata": {
        "id": "Yqdfy5PvPIpd"
      },
      "execution_count": 30,
      "outputs": []
    },
    {
      "cell_type": "code",
      "source": [
        "# Creamos la instancia de nuestro modelo\n",
        "lr = LogisticRegression()"
      ],
      "metadata": {
        "id": "LYBK7Xk3PK2e"
      },
      "execution_count": 31,
      "outputs": []
    },
    {
      "cell_type": "code",
      "source": [
        "# entrenamos el modelo con el set de datos de entrenamiento\n",
        "lr.fit(X_train, y_train)"
      ],
      "metadata": {
        "colab": {
          "base_uri": "https://localhost:8080/"
        },
        "id": "7Q6hDQ4CPR0W",
        "outputId": "ce681fa1-f78a-44de-f061-c165055c5d73"
      },
      "execution_count": 32,
      "outputs": [
        {
          "output_type": "execute_result",
          "data": {
            "text/plain": [
              "LogisticRegression()"
            ]
          },
          "metadata": {},
          "execution_count": 32
        }
      ]
    },
    {
      "cell_type": "code",
      "source": [
        "# generamos predicciones para el set de datos de pruebas\n",
        "y_predict = lr.predict(X_test)"
      ],
      "metadata": {
        "id": "gKdZC7BDPnoP"
      },
      "execution_count": 33,
      "outputs": []
    },
    {
      "cell_type": "code",
      "source": [
        "# ahora vamos a ver qué tal lo ha hecho la regresión logística\n",
        "pred_proba = lr.predict_proba(X_test)\n",
        "fpr, tpr, _ = roc_curve(y_test, pred_proba[:, 1])\n",
        "roc_auc = auc(fpr, tpr)\n",
        "\n",
        "roc_auc"
      ],
      "metadata": {
        "colab": {
          "base_uri": "https://localhost:8080/"
        },
        "id": "6kHzCtyKPzR9",
        "outputId": "46d58f74-c2bf-4653-92e2-1875338be88a"
      },
      "execution_count": 34,
      "outputs": [
        {
          "output_type": "execute_result",
          "data": {
            "text/plain": [
              "0.8739541160593792"
            ]
          },
          "metadata": {},
          "execution_count": 34
        }
      ]
    },
    {
      "cell_type": "code",
      "source": [
        "# vamos a pintar la curva del ROC / AUC\n",
        "plt.plot(fpr,tpr)\n",
        "plt.plot([0, 1], [0, 1], color='r', lw=2, linestyle='--')\n",
        "plt.xlabel('1 - Exhaustividad (recall) ')\n",
        "plt.ylabel('Precision')\n",
        "plt.title('Receiver Operator Characteristic')\n",
        "plt.show()"
      ],
      "metadata": {
        "colab": {
          "base_uri": "https://localhost:8080/",
          "height": 295
        },
        "id": "VvyyGYWDP8-Y",
        "outputId": "91e8f526-b534-4ba8-901e-78909cc0c8a1"
      },
      "execution_count": 35,
      "outputs": [
        {
          "output_type": "display_data",
          "data": {
            "text/plain": [
              "<Figure size 432x288 with 1 Axes>"
            ],
            "image/png": "[encoded data removed]"
          },
          "metadata": {
            "needs_background": "light"
          }
        }
      ]
    },
    {
      "cell_type": "code",
      "source": [
        "# Otras métrica que podemos sacar son la matriz de confusión del modelo\n",
        "print(confusion_matrix(y_test, y_predict))"
      ],
      "metadata": {
        "colab": {
          "base_uri": "https://localhost:8080/"
        },
        "id": "e5X7cNa8QDIh",
        "outputId": "8d5809bb-9270-492e-c537-d387664116ad"
      },
      "execution_count": 36,
      "outputs": [
        {
          "output_type": "stream",
          "name": "stdout",
          "text": [
            "[[99 15]\n",
            " [16 49]]\n"
          ]
        }
      ]
    },
    {
      "cell_type": "code",
      "source": [
        "# Scikit-learn también nos permite calcular fácilmente otras métricas como el F1-score, \n",
        "# la precisión del modelo y el recall\n",
        "print(classification_report(y_test, y_predict))"
      ],
      "metadata": {
        "colab": {
          "base_uri": "https://localhost:8080/"
        },
        "id": "kY3-lGLoQHP4",
        "outputId": "c3232366-751a-4061-d63c-9108f00151f6"
      },
      "execution_count": 37,
      "outputs": [
        {
          "output_type": "stream",
          "name": "stdout",
          "text": [
            "              precision    recall  f1-score   support\n",
            "\n",
            "           0       0.86      0.87      0.86       114\n",
            "           1       0.77      0.75      0.76        65\n",
            "\n",
            "    accuracy                           0.83       179\n",
            "   macro avg       0.81      0.81      0.81       179\n",
            "weighted avg       0.83      0.83      0.83       179\n",
            "\n"
          ]
        }
      ]
    },
    {
      "cell_type": "markdown",
      "source": [
        "¿Qué nuevas variables independientes podríamos crear que nos ayuden a tener un mejor comportamiento de nuestro modelo?. Prueba a hacerlo como ejercicio."
      ],
      "metadata": {
        "id": "5crlopHRQMzr"
      }
    },
    {
      "cell_type": "markdown",
      "source": [
        "## Bosques aleatorios (Random Forest)"
      ],
      "metadata": {
        "id": "xA2bSjt8L9mJ"
      }
    },
    {
      "cell_type": "markdown",
      "source": [
        "Los bosques aleatorios (random forest en inglés) son una colección de árboles de decisión que trabajan todos juntos para llegar a decidir cuál es la categoría final que el modelo debe devolver. \n",
        "\n",
        "Los árboles de decisión son algoritmos de clasificación muy fáciles de entender en los que marcamos condiciones para separar los datos en cada nodo de decisión del árbol para ir creando ramas que cada vez vayan teniendo menos datos y así poder asignar una categoría a cada separación final de los datos. \n",
        "\n",
        "Los árboles de decisión, aunque son fáciles de entender y visualizar, tienen una gran tendencia a sufrir overfitting y por eso no se utilizan por si solos. \n",
        "\n",
        "La idea del bosque aleatorio es que al poner a trabajar un grupo de árboles de decisión en común, se puede llegar a evitar ese overfitting que sufrirían cada uno de los árboles por separado. \n",
        "\n",
        "Cada árbol de decisión del bosque toma una selección aleatoria de las variables independientes de entrada al modelo e intenta predecir la categoría que le correspondería a los datos que damos al modelo. Una vez que todos los árboles han tomado una decisión sobre la categoría que le corresponde a los datos, la categoría que haya sido seleccionada por más árboles es considerada la ganadora y por lo tanto la categoría que decide el bosque aleatorio. \n",
        "\n",
        "Este promedio entre los resultados de los distintos árboles en el bosque ayuda a reducir la variabilidad del modelo y por lo tanto ayuda a combatir el overfitting que afecta a los árboles de decisión por separado. \n",
        "\n",
        "Los bosques aleatorios son muy versátiles y por lo tanto se adaptan muy bien a muchas situaciones y son capaces de ejecutarse sobre grandes bases de datos eficientemente sin tener que excluir ninguna variable independiente de la entrada. Es por esto, que los bosques aleatorios se consideran como el modelo base que se debe aplicar en los problemas de clasificación y que sirve para marcar el valor de referencia que deben superar otros modelos más complejos a la hora de comparar su desempeño.  "
      ],
      "metadata": {
        "id": "BOPI40IJjWkv"
      }
    },
    {
      "cell_type": "markdown",
      "source": [
        "Vamos a ver un ejemplo de utilización de un bosque aleatorio:"
      ],
      "metadata": {
        "id": "dFDt_idJmSgM"
      }
    },
    {
      "cell_type": "code",
      "source": [
        "from sklearn.ensemble import RandomForestClassifier\n",
        "from sklearn.preprocessing import OneHotEncoder\n",
        "import numpy as np\n",
        "import pandas as pd\n",
        "import matplotlib.pyplot as plt\n",
        "from sklearn.model_selection import train_test_split\n",
        "\n",
        "import warnings\n",
        "warnings.filterwarnings(\"ignore\")\n",
        "\n",
        "from sklearn.metrics import roc_curve,auc, confusion_matrix, classification_report"
      ],
      "metadata": {
        "id": "76_kr0FwmXFo"
      },
      "execution_count": 38,
      "outputs": []
    },
    {
      "cell_type": "code",
      "source": [
        "# Cargamos los datos sobre el accidente del titanic, uno de los datasets más utilizados en problemas de clasificación\n",
        "df_train = pd.read_csv(\"/content/drive/MyDrive/Copia de train_titanic.csv\")"
      ],
      "metadata": {
        "id": "sD4r5HImoZOE"
      },
      "execution_count": 39,
      "outputs": []
    },
    {
      "cell_type": "markdown",
      "source": [
        "Igual que hemos visto en la sección de la regresión logística, necesitamos preparar nuestros datos para poder dárselos al modelo."
      ],
      "metadata": {
        "id": "SLccUl3YOxt2"
      }
    },
    {
      "cell_type": "code",
      "source": [
        "# Algo importante a la hora de trabajar con este set de datos y con cualquier otro es mirar si tiene \n",
        "# variables categóricas (no numéricas) porque necesitamos transformarlas a numéricas para poder proporcionárselo al modelo\n",
        "df_train['Embarked'].fillna(value='S',inplace=True)\n",
        "#df_train['Fare'].fillna(value=df_train['Fare'].mean(),inplace=True)\n",
        "df_train['Age'].fillna(value=df_train['Age'].mean(),inplace=True)"
      ],
      "metadata": {
        "id": "dywm8_-cop8a"
      },
      "execution_count": 40,
      "outputs": []
    },
    {
      "cell_type": "code",
      "source": [
        "sex_categories = {'female':0,'male':1}\n",
        "# Vamos a utilizar la función map para transformar las variable del sexo del pasajero a numérica\n",
        "df_train['Sex'] = df_train['Sex'].map(sex_categories)"
      ],
      "metadata": {
        "id": "chGbaM1b-Dwk"
      },
      "execution_count": 41,
      "outputs": []
    },
    {
      "cell_type": "code",
      "source": [
        "# Para el puerto de embarque,vamos a utilzar una técnica que se llama one-hot encoding\n",
        "one_hot_encoding_train = pd.get_dummies(df_train['Embarked'])\n",
        "df_train = pd.concat([df_train, one_hot_encoding_train], axis=1)\n",
        "df_train= df_train.drop(['Embarked'],axis=1)"
      ],
      "metadata": {
        "id": "Ojy67AZQqD-G"
      },
      "execution_count": 42,
      "outputs": []
    },
    {
      "cell_type": "code",
      "source": [
        "# Vamos a eliminar las columnas que no nos interesan\n",
        "df_train = df_train.drop(['Name', 'Cabin', 'Ticket', 'Fare','PassengerId'], axis=1)"
      ],
      "metadata": {
        "id": "l9CMINgmtNwf"
      },
      "execution_count": 43,
      "outputs": []
    },
    {
      "cell_type": "code",
      "source": [
        "# Antes de crear el modelo hacemos la separación del set de entrenamiento y el set de pruebas\n",
        "X_train, X_test, y_train, y_test = train_test_split(df_train.loc[:, df_train.columns != 'Survived'], df_train['Survived'], stratify = df_train['Survived'], test_size=0.2,  random_state=123)"
      ],
      "metadata": {
        "id": "yh4YgIMjpouR"
      },
      "execution_count": 44,
      "outputs": []
    },
    {
      "cell_type": "code",
      "source": [
        "# finalmente creamos el modelo de random forest\n",
        "rf = RandomForestClassifier()"
      ],
      "metadata": {
        "id": "pssVR5DOs_Ae"
      },
      "execution_count": 45,
      "outputs": []
    },
    {
      "cell_type": "code",
      "source": [
        "# entrenamos el modelo con el set de entrenamiento\n",
        "rf.fit(X_train, y_train)"
      ],
      "metadata": {
        "id": "IN_NFAJ6tHqJ",
        "colab": {
          "base_uri": "https://localhost:8080/"
        },
        "outputId": "3ba42a85-a24a-455f-e17a-4204ffe6d845"
      },
      "execution_count": 46,
      "outputs": [
        {
          "output_type": "execute_result",
          "data": {
            "text/plain": [
              "RandomForestClassifier()"
            ]
          },
          "metadata": {},
          "execution_count": 46
        }
      ]
    },
    {
      "cell_type": "code",
      "source": [
        "# Y finalmente generamos predicciones para el set de pruebas\n",
        "y_predict = rf.predict(X_test)"
      ],
      "metadata": {
        "id": "qW1t-Ua6uAt9"
      },
      "execution_count": 47,
      "outputs": []
    },
    {
      "cell_type": "code",
      "source": [
        "# ahora vamos a ver qué tal lo ha hecho el random forest\n",
        "pred_proba = rf.predict_proba(X_test)\n",
        "fpr, tpr, _ = roc_curve(y_test, pred_proba[:, 1])\n",
        "roc_auc = auc(fpr, tpr)\n",
        "\n",
        "roc_auc"
      ],
      "metadata": {
        "id": "1_lG49wWuWwV",
        "colab": {
          "base_uri": "https://localhost:8080/"
        },
        "outputId": "08ec2ee6-223a-4992-a4c9-3d3ae392c99f"
      },
      "execution_count": 48,
      "outputs": [
        {
          "output_type": "execute_result",
          "data": {
            "text/plain": [
              "0.8289196310935442"
            ]
          },
          "metadata": {},
          "execution_count": 48
        }
      ]
    },
    {
      "cell_type": "code",
      "source": [
        "# vamos a pintar la curva del ROC / AUC\n",
        "plt.plot(fpr,tpr)\n",
        "plt.plot([0, 1], [0, 1], color='r', lw=2, linestyle='--')\n",
        "plt.xlabel('1 - Exhaustividad (recall) ')\n",
        "plt.ylabel('Precision')\n",
        "plt.title('Receiver Operator Characteristic')\n",
        "plt.show()"
      ],
      "metadata": {
        "id": "XgSF7-RbDfzo",
        "colab": {
          "base_uri": "https://localhost:8080/",
          "height": 295
        },
        "outputId": "e4c5985f-16e0-4429-cd11-b06526083c55"
      },
      "execution_count": 49,
      "outputs": [
        {
          "output_type": "display_data",
          "data": {
            "text/plain": [
              "<Figure size 432x288 with 1 Axes>"
            ],
            "image/png": "[encoded data removed]"
          },
          "metadata": {
            "needs_background": "light"
          }
        }
      ]
    },
    {
      "cell_type": "code",
      "source": [
        "# Otras métrica que podemos sacar son la matriz de confusión del modelo\n",
        "print(confusion_matrix(y_test, y_predict))"
      ],
      "metadata": {
        "id": "_52ssDmnEJnr",
        "colab": {
          "base_uri": "https://localhost:8080/"
        },
        "outputId": "191830cc-7d0c-4d4a-8477-3068071f6954"
      },
      "execution_count": 50,
      "outputs": [
        {
          "output_type": "stream",
          "name": "stdout",
          "text": [
            "[[92 18]\n",
            " [17 52]]\n"
          ]
        }
      ]
    },
    {
      "cell_type": "code",
      "source": [
        "# Scikit-learn también nos permite calcular fácilmente otras métricas como el F1-score, \n",
        "# la precisión del modelo y el recall\n",
        "print(classification_report(y_test, y_predict))"
      ],
      "metadata": {
        "id": "CwKiXHYJEdA8",
        "colab": {
          "base_uri": "https://localhost:8080/"
        },
        "outputId": "ca254c2f-e811-4e72-ee95-10215c3bebd4"
      },
      "execution_count": 51,
      "outputs": [
        {
          "output_type": "stream",
          "name": "stdout",
          "text": [
            "              precision    recall  f1-score   support\n",
            "\n",
            "           0       0.84      0.84      0.84       110\n",
            "           1       0.74      0.75      0.75        69\n",
            "\n",
            "    accuracy                           0.80       179\n",
            "   macro avg       0.79      0.79      0.79       179\n",
            "weighted avg       0.81      0.80      0.80       179\n",
            "\n"
          ]
        }
      ]
    },
    {
      "cell_type": "markdown",
      "source": [
        "Los bosques aleatorios nos permiten ver qué variables independientes de entrada tienen una mayor influencia a la hora de decidir la categoría en la que acaban siendo clasificados los datos. Esto es muy importante a la hora de sacar conclusiones y dar recomendaciones de cara a los negocios, puesto que permite identificar en qué variables tenemos que enfocar los esfuerzos para poder modificar el rendimiento del clasificador. \n",
        "\n",
        "Esta medida se llama la importancia de la variable independiente de entrada (que también se conocen como features). Vamos a ver el resultado para nuestro modelo:"
      ],
      "metadata": {
        "id": "s1plGU7MYgY4"
      }
    },
    {
      "cell_type": "code",
      "source": [
        "features = X_train\n",
        "feature_list = X_train.columns\n",
        "\n",
        "# Guardamos los valores numéricos de la importancia de cada feature\n",
        "importances = list(rf.feature_importances_)\n",
        "\n",
        "# Vamos a crear un lista de tuplas con la variable independiente de entrada y su importancia\n",
        "feature_importances = [(feature, round(importance, 4)) for feature, importance in zip(feature_list, importances)]\n",
        "\n",
        "# Ordenamos las importancias de las variables para tener las más importantes al principio\n",
        "feature_importances = sorted(feature_importances, key = lambda x: x[1], reverse = True)\n",
        "\n",
        "# Mostramos las variables y sus importancias\n",
        "[print('Variable: {:20} Importance: {}'.format(*pair)) for pair in feature_importances];"
      ],
      "metadata": {
        "id": "FE-uLrL-Zfh4",
        "colab": {
          "base_uri": "https://localhost:8080/"
        },
        "outputId": "82caf15e-eeb8-4100-9103-5555b9d04be8"
      },
      "execution_count": 52,
      "outputs": [
        {
          "output_type": "stream",
          "name": "stdout",
          "text": [
            "Variable: Age                  Importance: 0.4053\n",
            "Variable: Sex                  Importance: 0.3049\n",
            "Variable: Pclass               Importance: 0.1227\n",
            "Variable: SibSp                Importance: 0.0726\n",
            "Variable: Parch                Importance: 0.0536\n",
            "Variable: S                    Importance: 0.0176\n",
            "Variable: C                    Importance: 0.0149\n",
            "Variable: Q                    Importance: 0.0084\n"
          ]
        }
      ]
    },
    {
      "cell_type": "code",
      "source": [
        "# También podemos tener una representación gráfica\n",
        "# creamos una lista con tantas variables como vayamos a pintar\n",
        "x_values = list(range(len(importances)))\n",
        "\n",
        "# Creamos un gráfico de barras\n",
        "plt.bar(x_values, importances, orientation = 'vertical')\n",
        "\n",
        "# Ponemos los nombres de las variables en el eje x\n",
        "plt.xticks(x_values, feature_list, rotation='vertical')\n",
        "\n",
        "# Axis labels and title\n",
        "# Ponemos los nombres de los ejes y el título\n",
        "plt.ylabel('Importancia'); plt.xlabel('Variable'); plt.title('Importancias de las variables de entrada'); "
      ],
      "metadata": {
        "id": "2VPhw8YaaTmM",
        "colab": {
          "base_uri": "https://localhost:8080/",
          "height": 316
        },
        "outputId": "8c7900d7-5cae-4e65-fd0c-a5bc81a607be"
      },
      "execution_count": 53,
      "outputs": [
        {
          "output_type": "display_data",
          "data": {
            "text/plain": [
              "<Figure size 432x288 with 1 Axes>"
            ],
            "image/png": "[encoded data removed]"
          },
          "metadata": {
            "needs_background": "light"
          }
        }
      ]
    },
    {
      "cell_type": "markdown",
      "source": [
        "¿Qué modelo tiene mejor desempeño, la regresión logística o el random forest? "
      ],
      "metadata": {
        "id": "ENrZTmIaQPbf"
      }
    },
    {
      "cell_type": "markdown",
      "source": [
        "¿Qué nuevas variables independientes podríamos crear que nos ayuden a tener un mejor comportamiento de nuestro modelo?. Prueba a hacerlo como ejercicio. "
      ],
      "metadata": {
        "id": "JcU76db5FV2W"
      }
    },
    {
      "cell_type": "markdown",
      "source": [
        "## Modelos de ensamblado\n",
        "\n",
        "Finalmente pasamos a ver los modelos de ensamblado. Conseguir que un modelo sea capaz de cubrir todas las diferentes opciones que tienen todas las variables independientes de entrada es complicado. Lo más normal es que falle en algunas situaciones con algunas variables independientes. \n",
        "\n",
        "Los modelos de ensamblado buscan corregir este problema combinando varios modelos que entre todos sean capaces de cubrir todas las posibles opciones de las variables independientes de entrada. \n",
        "En este ámbito cada modelo que está incluido dentro del modelo de ensamblado global se llama un estimador. El resultado final del modelo de ensamblado se calcula mirando el resultado individual de cada uno de los estimadores y escogiendo la categoría que ha sido seleccionada más veces. \n",
        "\n",
        "¿Te recuerda a algo? Efectivamente, los bosques aleatorios (random forest) toman la decisión final de la misma manera para reducir la variabilidad de cada uno de sus árboles de decisión y evitar caer en el overfitting. Los modelos de ensamblado utilizan la misma técnica para evitar el overfitting. \n",
        "\n",
        "¿Cúal es la diferencia entre un modelo de ensamblado y un bosque aleatorio? La principal diferencia es cómo se entrenan los estimadores en ambos tipos de modelos. \n",
        "\n",
        "En los bosques aleatorios, cada árbol de decisión recibe una selección aleatoria de las variables independientes de entrada para su entrenamiento y todos los árboles que forman parte de ese bosque aleatorio, se entrenan en paralelo. Esta técnica se llama bagging. \n",
        "\n",
        "En cambio, en los modelos de ensamblado cada estimador recibe todas las variables independientes de entrada para su entrenamiento y los estimadores se van entrenando de forma secuencial. Una vez el primer estimador ha acabado de entrenar con todos los datos, le pasa todos los datos de entrada al siguiente estimador y además le pasa información sobre qué variables independientes de entrada ha estimado peor, para que ese siguiente estimador pueda poner más énfasis en estimar bien esas variables de entrada y compensar los errores del primer estimador. Esta técnica se llama boosting.\n",
        "\n",
        "\n",
        "![image.png](data:image/png;base64,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)\n",
        "\n",
        "La forma en la que la se pasa la información de los errores que ha cometido un estimador al siguiente es la que diferencia a las distintas implementaciones de modelos de ensamblado. También podríamos crear nuestro propio modelo de ensamblado escogiendo nuestros propios estimadores y gestionando el paso de las variables independientes de entrada y los errores entre estimadores si las implementaciones ya existentes no cumplen nuestros criterios. \n",
        "\n",
        "Algunos ejemplos de implementaciones de modelos de ensamblado más famosas son: \n",
        "\n",
        "- Adaboost\n",
        "- XGBoost\n",
        "- LightGBM\n",
        "- CatBoost\n",
        "\n",
        "Vamos a ver un ejemplo de utilización del modelo de XGBoost:"
      ],
      "metadata": {
        "id": "yzw_Q8J7L9po"
      }
    },
    {
      "cell_type": "code",
      "source": [
        "from xgboost import XGBClassifier\n",
        "import xgboost\n",
        "from sklearn.preprocessing import OneHotEncoder\n",
        "import numpy as np\n",
        "import pandas as pd\n",
        "import matplotlib.pyplot as plt\n",
        "from sklearn.model_selection import train_test_split\n",
        "\n",
        "import warnings\n",
        "warnings.filterwarnings(\"ignore\")\n",
        "\n",
        "from sklearn.metrics import roc_curve,auc, confusion_matrix, classification_report"
      ],
      "metadata": {
        "id": "WGBrkljWUvPz"
      },
      "execution_count": 54,
      "outputs": []
    },
    {
      "cell_type": "code",
      "source": [
        "# Volvemos a cargar los datos sobre el accidente del titanic, uno de los datasets más utilizados en problemas de clasificación\n",
        "df_train = pd.read_csv(\"/content/drive/MyDrive/Copia de train_titanic.csv\")"
      ],
      "metadata": {
        "id": "v8lZdPh2U9_j"
      },
      "execution_count": 56,
      "outputs": []
    },
    {
      "cell_type": "markdown",
      "source": [
        "Igual que hemos visto en las secciones anteriores, necesitamos preparar nuestros datos para poder dárselos al modelo."
      ],
      "metadata": {
        "id": "lb-5h-wGVLOk"
      }
    },
    {
      "cell_type": "code",
      "source": [
        "# Algo importante a la hora de trabajar con este set de datos y con cualquier otro es mirar si tiene \n",
        "# variables categóricas (no numéricas) porque necesitamos transformarlas a numéricas para poder proporcionárselo al modelo\n",
        "df_train['Embarked'].fillna(value='S',inplace=True)\n",
        "# df_train['Fare'].fillna(value=df_train['Fare'].mean(),inplace=True)\n",
        "df_train['Age'].fillna(value=df_train['Age'].median(),inplace=True)"
      ],
      "metadata": {
        "id": "dLM6DuTLVBsO"
      },
      "execution_count": 57,
      "outputs": []
    },
    {
      "cell_type": "code",
      "source": [
        "sex_categories = {'female':0,'male':1}\n",
        "# Vamos a utilizar la función map para transformar las variable del sexo del pasajero a numérica\n",
        "df_train['Sex'] = df_train['Sex'].map(sex_categories)"
      ],
      "metadata": {
        "id": "ZnfDKMrfVRhW"
      },
      "execution_count": 58,
      "outputs": []
    },
    {
      "cell_type": "code",
      "source": [
        "# Para el puerto de embarque,vamos a utilzar una técnica que se llama one-hot encoding\n",
        "one_hot_encoding_train = pd.get_dummies(df_train['Embarked'])\n",
        "df_train = pd.concat([df_train, one_hot_encoding_train], axis=1)\n",
        "df_train= df_train.drop(['Embarked'],axis=1)"
      ],
      "metadata": {
        "id": "016RZ7yJVT6j"
      },
      "execution_count": 59,
      "outputs": []
    },
    {
      "cell_type": "code",
      "source": [
        "# Vamos a eliminar las columnas que no nos interesan\n",
        "df_train = df_train.drop(['Name', 'Cabin', 'Ticket', 'Fare', 'PassengerId'], axis=1)"
      ],
      "metadata": {
        "id": "CCbWfHkkVWyI"
      },
      "execution_count": 60,
      "outputs": []
    },
    {
      "cell_type": "code",
      "source": [
        "# Antes de crear el modelo hacemos la separación del set de entrenamiento y el set de pruebas\n",
        "X_train, X_test, y_train, y_test = train_test_split(df_train.loc[:, df_train.columns != 'Survived'], df_train['Survived'], stratify = df_train['Survived'], test_size=0.2, random_state=123)"
      ],
      "metadata": {
        "id": "6gzqnquKVZbC"
      },
      "execution_count": 61,
      "outputs": []
    },
    {
      "cell_type": "code",
      "source": [
        "# vamos a crear nuestra instancia del modelo\n",
        "xgb = XGBClassifier()"
      ],
      "metadata": {
        "id": "KgHmVdwzVchI"
      },
      "execution_count": 62,
      "outputs": []
    },
    {
      "cell_type": "code",
      "source": [
        "# Entrenamos el modelo con el set de datos de entrenamiento\n",
        "xgb.fit(X_train, y_train)"
      ],
      "metadata": {
        "id": "5Rs3QYGkVmFy",
        "colab": {
          "base_uri": "https://localhost:8080/"
        },
        "outputId": "418303f2-0317-448e-d25e-b5320ab41e68"
      },
      "execution_count": 63,
      "outputs": [
        {
          "output_type": "execute_result",
          "data": {
            "text/plain": [
              "XGBClassifier()"
            ]
          },
          "metadata": {},
          "execution_count": 63
        }
      ]
    },
    {
      "cell_type": "code",
      "source": [
        "# Podemos generar predicciones para el set de pruebas\n",
        "y_predict = xgb.predict(X_test)"
      ],
      "metadata": {
        "id": "i9Etxnu_WU9R"
      },
      "execution_count": 64,
      "outputs": []
    },
    {
      "cell_type": "code",
      "source": [
        "# ahora vamos a ver qué tal lo ha hecho el modelo XGBoost\n",
        "pred_proba = xgb.predict_proba(X_test)\n",
        "fpr, tpr, _ = roc_curve(y_test, pred_proba[:, 1])\n",
        "roc_auc = auc(fpr, tpr)\n",
        "\n",
        "roc_auc"
      ],
      "metadata": {
        "id": "VMl2idNMWbkH",
        "colab": {
          "base_uri": "https://localhost:8080/"
        },
        "outputId": "98013f3f-2b18-4345-ec1d-8e126c42cb3f"
      },
      "execution_count": 65,
      "outputs": [
        {
          "output_type": "execute_result",
          "data": {
            "text/plain": [
              "0.8630434782608696"
            ]
          },
          "metadata": {},
          "execution_count": 65
        }
      ]
    },
    {
      "cell_type": "code",
      "source": [
        "# vamos a pintar la curva del ROC / AUC\n",
        "plt.plot(fpr,tpr)\n",
        "plt.plot([0, 1], [0, 1], color='r', lw=2, linestyle='--')\n",
        "plt.xlabel('1 - Exhaustividad (recall) ')\n",
        "plt.ylabel('Precision')\n",
        "plt.title('Receiver Operator Characteristic')\n",
        "plt.show()"
      ],
      "metadata": {
        "id": "MyesWRhdWiHg",
        "colab": {
          "base_uri": "https://localhost:8080/",
          "height": 295
        },
        "outputId": "d9d78afc-7a8e-4650-a257-494de72c29b0"
      },
      "execution_count": 66,
      "outputs": [
        {
          "output_type": "display_data",
          "data": {
            "text/plain": [
              "<Figure size 432x288 with 1 Axes>"
            ],
            "image/png": "[encoded data removed]"
          },
          "metadata": {
            "needs_background": "light"
          }
        }
      ]
    },
    {
      "cell_type": "code",
      "source": [
        "# Otras métrica que podemos sacar son la matriz de confusión del modelo\n",
        "print(confusion_matrix(y_test, y_predict))"
      ],
      "metadata": {
        "id": "kwDu_NikWlxk",
        "colab": {
          "base_uri": "https://localhost:8080/"
        },
        "outputId": "c2dac870-e83d-40d3-e82a-1607d118b4c9"
      },
      "execution_count": 67,
      "outputs": [
        {
          "output_type": "stream",
          "name": "stdout",
          "text": [
            "[[102   8]\n",
            " [ 22  47]]\n"
          ]
        }
      ]
    },
    {
      "cell_type": "code",
      "source": [
        "# Scikit-learn también nos permite calcular fácilmente otras métricas como el F1-score, \n",
        "# la precisión del modelo y el recall\n",
        "print(classification_report(y_test, y_predict))"
      ],
      "metadata": {
        "id": "5LYc_QmfWo50",
        "colab": {
          "base_uri": "https://localhost:8080/"
        },
        "outputId": "81c66e9e-f8f5-456c-b360-7afc9078d299"
      },
      "execution_count": 68,
      "outputs": [
        {
          "output_type": "stream",
          "name": "stdout",
          "text": [
            "              precision    recall  f1-score   support\n",
            "\n",
            "           0       0.82      0.93      0.87       110\n",
            "           1       0.85      0.68      0.76        69\n",
            "\n",
            "    accuracy                           0.83       179\n",
            "   macro avg       0.84      0.80      0.81       179\n",
            "weighted avg       0.83      0.83      0.83       179\n",
            "\n"
          ]
        }
      ]
    },
    {
      "cell_type": "code",
      "source": [
        "# El modelo XGBoost utiliza árboles de decisión con algunas modificaciones como estimadores del modelo\n",
        "# Por lo que podemos visualizar las decisiones que ha ido tomando en cada árbol. En este ejemplo vamos a ver\n",
        "# solo el primer árbol del modelo. \n",
        "xgboost.plot_tree(xgb,num_trees=3)\n",
        "plt.show()"
      ],
      "metadata": {
        "id": "9uPmUjodWtT8",
        "colab": {
          "base_uri": "https://localhost:8080/",
          "height": 100
        },
        "outputId": "6876a813-f717-41de-9c4e-3b2f2a34240a"
      },
      "execution_count": 69,
      "outputs": [
        {
          "output_type": "display_data",
          "data": {
            "text/plain": [
              "<Figure size 432x288 with 1 Axes>"
            ],
            "image/png": "[encoded data removed]"
          },
          "metadata": {
            "needs_background": "light"
          }
        }
      ]
    },
    {
      "cell_type": "code",
      "source": [
        "# igual que hemos visto en los bosques aleatorios (random forest), podemos ver cuáles de las variables de entrada\n",
        "# tienen una mayor influencia a la hora de decidir la categoría en la que acaban siendo categorizados los datos\n",
        "xgboost.plot_importance(xgb)\n",
        "plt.show()"
      ],
      "metadata": {
        "id": "pggaV2zpXWEW",
        "colab": {
          "base_uri": "https://localhost:8080/",
          "height": 295
        },
        "outputId": "c4421892-f160-4541-901d-88d8707c5747"
      },
      "execution_count": 70,
      "outputs": [
        {
          "output_type": "display_data",
          "data": {
            "text/plain": [
              "<Figure size 432x288 with 1 Axes>"
            ],
            "image/png": "[encoded data removed]"
          },
          "metadata": {
            "needs_background": "light"
          }
        }
      ]
    },
    {
      "cell_type": "markdown",
      "source": [
        "¿Cuál de los tres clasificadores tiene un mejor rendimiento con estos datos? ¿Puedes pensar en alguna variable que podamos añadir al modelo para poder mejorar su rendimiento?"
      ],
      "metadata": {
        "id": "kr7CRb3ZYQuO"
      }
    }
  ]
}