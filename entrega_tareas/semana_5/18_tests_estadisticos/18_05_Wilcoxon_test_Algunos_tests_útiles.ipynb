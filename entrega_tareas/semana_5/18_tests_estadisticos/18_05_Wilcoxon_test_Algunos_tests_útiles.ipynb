{
  "nbformat": 4,
  "nbformat_minor": 0,
  "metadata": {
    "colab": {
      "name": "18_05_Wilcoxon_test - Algunos tests útiles.ipynb",
      "provenance": [],
      "collapsed_sections": [
        "vQUPisrfrYsj",
        "Kw96mO7GrYnW",
        "PJUJxuyXu-zo",
        "eZ-9UDvp2K9W",
        "2vRjijut4sUc",
        "tU80tTeY4eVu",
        "01325fO26Wsc",
        "j0nsWDj_SkGr",
        "bV_BaIkEUH8C",
        "AUpIyn0YVcSJ",
        "9ydO2vzhXNM5",
        "D3NklpoVXNNA",
        "9_Tpk8rbXNNC",
        "h3bvSgabbIbf",
        "DdfAKpePbIbg",
        "7TRa_AFrbIbh",
        "x1wc-49TbIbh",
        "ze9YC0gLht6u",
        "ro_AAt1Lht66",
        "rgqoz2wXisaO",
        "V107lcdvjVRe",
        "xL_bPduDj-sd"
      ]
    },
    "kernelspec": {
      "name": "python3",
      "display_name": "Python 3"
    },
    "language_info": {
      "name": "python"
    }
  },
  "cells": [
    {
      "cell_type": "markdown",
      "source": [
        "A lo largo de este notebook vamos a estar trabajando con una de las publicaciones de [Jason Brownlee en su web](https://machinelearningmastery.com/statistical-hypothesis-tests-in-python-cheat-sheet/). Os recomendamos echarle un vistazo y leer sus distintas publicaciones si os interesa el Machine Learning.\n"
      ],
      "metadata": {
        "id": "26XAFthUrYun"
      }
    },
    {
      "cell_type": "markdown",
      "source": [
        " # 18. Tests de Hipótesis Estadísticos en Python (Resumen)"
      ],
      "metadata": {
        "id": "vQUPisrfrYsj"
      }
    },
    {
      "cell_type": "markdown",
      "source": [
        "En el día de ayer vimos algunos recursos necesarios para poder realizar un buen test de hipótesis. Esta mañana vamos a revisar algunos test de hipótesis (de los literalmente cientos que hay) que creemos os serán útiles en vuestro futuro laboral. \n"
      ],
      "metadata": {
        "id": "lFAmgCsMrYqE"
      }
    },
    {
      "cell_type": "markdown",
      "source": [
        "## 18.1. Tests de Normalidad\n",
        "\n"
      ],
      "metadata": {
        "id": "Kw96mO7GrYnW"
      }
    },
    {
      "cell_type": "markdown",
      "source": [
        "Básicamente queremos comprobar si nuestros datos siguen una distribución Gaussiana (Normal)."
      ],
      "metadata": {
        "id": "IOLSx6BB3Lv4"
      }
    },
    {
      "cell_type": "markdown",
      "source": [
        "### 18.1.1. Test de Shapiro-Wilk\n"
      ],
      "metadata": {
        "id": "PJUJxuyXu-zo"
      }
    },
    {
      "cell_type": "markdown",
      "source": [
        "\n",
        "\n",
        "**¿Qué debemos asumir?**\n",
        "*   Que las observaciones de las muestras son \"Independientes e Idénticamente Distribuidas\" (iid en adelante).\n",
        "\n",
        "**¿Cuáles son nuestras hipótesis?**\n",
        "*   $H_{0}$: la muestra sigue una distribución Gaussiana. \n",
        "*   $H_{1}$: la muestra NO sigue una distribución Gaussiana. \n",
        "\n",
        "**Para más información...**\n",
        "*   https://machinelearningmastery.com/a-gentle-introduction-to-normality-tests-in-python/\n",
        "*   https://docs.scipy.org/doc/scipy/reference/generated/scipy.stats.shapiro.html\n",
        "*   https://en.wikipedia.org/wiki/Shapiro%E2%80%93Wilk_test\n"
      ],
      "metadata": {
        "id": "kPlm2GJw3Hhp"
      }
    },
    {
      "cell_type": "code",
      "execution_count": null,
      "metadata": {
        "colab": {
          "base_uri": "https://localhost:8080/"
        },
        "id": "fwrlezLlp2Am",
        "outputId": "635bf5bc-a902-4bf6-9f7b-c57547c50056"
      },
      "outputs": [
        {
          "output_type": "stream",
          "name": "stdout",
          "text": [
            "stat=0.895, p=0.193\n",
            "No podemos rechazar que siga una distribución Gaussiana\n"
          ]
        }
      ],
      "source": [
        "from scipy.stats import shapiro\n",
        "data = [0.873, 2.817, 0.121, -0.945, -0.055, -1.436, 0.360, -1.478, -1.637, -1.869]\n",
        "stat, p = shapiro(data)\n",
        "print('stat=%.3f, p=%.3f' % (stat, p))\n",
        "if p > 0.05:\n",
        "\tprint('No podemos rechazar que siga una distribución Gaussiana')\n",
        "else:\n",
        "\tprint('No sigue una distribución Gaussiana')"
      ]
    },
    {
      "cell_type": "markdown",
      "source": [
        "### 18.1.2. Test $K^2$ de D’Agostino \n",
        "\n",
        "\n"
      ],
      "metadata": {
        "id": "eZ-9UDvp2K9W"
      }
    },
    {
      "cell_type": "markdown",
      "source": [
        "\n",
        "\n",
        "**¿Qué debemos asumir?**\n",
        "*   Que las observaciones de las muestras son iid.\n",
        "\n",
        "**¿Cuáles son nuestras hipótesis?**\n",
        "*   $H_{0}$: la muestra sigue una distribución Gaussiana. \n",
        "*   $H_{1}$: la muestra NO sigue una distribución Gaussiana. \n",
        "\n",
        "**Para más información...**\n",
        "*   https://machinelearningmastery.com/a-gentle-introduction-to-normality-tests-in-python/\n",
        "*   https://docs.scipy.org/doc/scipy/reference/generated/scipy.stats.normaltest.html\n",
        "*   https://en.wikipedia.org/wiki/D%27Agostino%27s_K-squared_test"
      ],
      "metadata": {
        "id": "YEfYKXai3DSN"
      }
    },
    {
      "cell_type": "code",
      "source": [
        "from scipy.stats import normaltest\n",
        "data = [0.873, 2.817, 0.121, -0.945, -0.055, -1.436, 0.360, -1.478, -1.637, -1.869]\n",
        "stat, p = normaltest(data)\n",
        "print('stat=%.3f, p=%.3f' % (stat, p))\n",
        "if p > 0.05:\n",
        "\tprint('No podemos rechazar que siga una distribución Gaussiana')\n",
        "else:\n",
        "\tprint('No sigue una distribución Gaussiana')"
      ],
      "metadata": {
        "colab": {
          "base_uri": "https://localhost:8080/"
        },
        "id": "0U9hWsWX2pMv",
        "outputId": "c6811df9-325a-40e4-8fb3-2fefe20f4b69"
      },
      "execution_count": null,
      "outputs": [
        {
          "output_type": "stream",
          "name": "stdout",
          "text": [
            "stat=3.392, p=0.183\n",
            "No podemos rechazar que siga una distribución Gaussiana\n"
          ]
        },
        {
          "output_type": "stream",
          "name": "stderr",
          "text": [
            "/usr/local/lib/python3.7/dist-packages/scipy/stats/stats.py:1535: UserWarning: kurtosistest only valid for n>=20 ... continuing anyway, n=10\n",
            "  \"anyway, n=%i\" % int(n))\n"
          ]
        }
      ]
    },
    {
      "cell_type": "markdown",
      "source": [
        "### 18.1.3. Test de Anderson-Darling\n",
        "\n",
        "\n"
      ],
      "metadata": {
        "id": "2vRjijut4sUc"
      }
    },
    {
      "cell_type": "markdown",
      "source": [
        "\n",
        "\n",
        "**¿Qué debemos asumir?**\n",
        "*   Que las observaciones de las muestras son iid.\n",
        "\n",
        "**¿Cuáles son nuestras hipótesis?**\n",
        "*   $H_{0}$: la muestra sigue una distribución Gaussiana. \n",
        "*   $H_{1}$: la muestra NO sigue una distribución Gaussiana. \n",
        "\n",
        "**Para más información...**\n",
        "*   https://machinelearningmastery.com/a-gentle-introduction-to-normality-tests-in-python/\n",
        "*   https://docs.scipy.org/doc/scipy/reference/generated/scipy.stats.anderson.html\n",
        "*   https://en.wikipedia.org/wiki/Anderson%E2%80%93Darling_test"
      ],
      "metadata": {
        "id": "W-zyoo5e4sUd"
      }
    },
    {
      "cell_type": "code",
      "source": [
        "from scipy.stats import anderson\n",
        "data = [0.873, 2.817, 0.121, -0.945, -3, -1.436, -10, -1.478, -1.637, -1.869]\n",
        "result = anderson(data)\n",
        "print('stat=%.3f' % (result.statistic))\n",
        "for i in range(len(result.critical_values)):\n",
        "\tsl, cv = result.significance_level[i], result.critical_values[i]\n",
        "\tif result.statistic < cv:\n",
        "\t\tprint('Sigue una Gaussiana para una significancia del %.1f%%' % (sl))\n",
        "\telse:\n",
        "\t\tprint('No sigue una Gaussiana para una significancia del %.1f%%' % (sl))"
      ],
      "metadata": {
        "colab": {
          "base_uri": "https://localhost:8080/"
        },
        "outputId": "03bbfa62-eef9-425f-ac01-3a623fb85493",
        "id": "kYDMbKUQ4sUd"
      },
      "execution_count": null,
      "outputs": [
        {
          "output_type": "stream",
          "name": "stdout",
          "text": [
            "stat=0.809\n",
            "No sigue una Gaussiana para una significancia del 15.0%\n",
            "No sigue una Gaussiana para una significancia del 10.0%\n",
            "No sigue una Gaussiana para una significancia del 5.0%\n",
            "No sigue una Gaussiana para una significancia del 2.5%\n",
            "Sigue una Gaussiana para una significancia del 1.0%\n"
          ]
        }
      ]
    },
    {
      "cell_type": "markdown",
      "source": [
        "## 18.2. Tests de Correlación"
      ],
      "metadata": {
        "id": "tU80tTeY4eVu"
      }
    },
    {
      "cell_type": "markdown",
      "source": [
        "Ahora queremos comprobar si dos muestras están relacionadas entre ellas."
      ],
      "metadata": {
        "id": "SxBMlkX24jpY"
      }
    },
    {
      "cell_type": "markdown",
      "source": [
        "### 18.2.1. Coeficiente de Correlación de Pearson\n",
        "\n",
        "\n",
        "\n"
      ],
      "metadata": {
        "id": "01325fO26Wsc"
      }
    },
    {
      "cell_type": "markdown",
      "source": [
        "(Como este no os suene...)\n",
        "Sirve para comprobar la relación lineal entre dos muestras.\n",
        "\n",
        "**¿Qué debemos asumir?**\n",
        "*   Que las observaciones de las muestras son iid.\n",
        "*   Que las observaciones en cada muestra están distribuidas según una Gaussiana.\n",
        "*   Que las observaciones en cada muestra tienen la misma varianza.\n",
        "\n",
        "**¿Cuáles son nuestras hipótesis?**\n",
        "*   $H_{0}$: las muestras son independientes. \n",
        "*   $H_{1}$: existe una dependencia lineal entre las muestras. \n",
        "\n",
        "**Para más información...**\n",
        "*   https://machinelearningmastery.com/how-to-use-correlation-to-understand-the-relationship-between-variables/\n",
        "*   https://docs.scipy.org/doc/scipy/reference/generated/scipy.stats.pearsonr.html\n",
        "*   https://en.wikipedia.org/wiki/Pearson_correlation_coefficient\n",
        "*   Los notebooks donde lo hemos usado."
      ],
      "metadata": {
        "id": "cAtGaloU6Wsd"
      }
    },
    {
      "cell_type": "code",
      "source": [
        "from scipy.stats import pearsonr\n",
        "data1 = [0.873, 2.817, 0.121, -0.945, -0.055, -1.436, 0.360, -1.478, -1.637, -1.869]\n",
        "data2 = [0.353, 3.517, 0.125, -7.545, -0.555, -1.536, 3.350, -1.578, -3.537, -1.579]\n",
        "stat, p = pearsonr(data1, data2)\n",
        "print('stat=%.3f, p=%.3f' % (stat, p))\n",
        "if p > 0.05:\n",
        "\tprint('Probablemente independientes')\n",
        "else:\n",
        "\tprint('Probablemente dependientes')"
      ],
      "metadata": {
        "colab": {
          "base_uri": "https://localhost:8080/"
        },
        "outputId": "7052c7e4-abab-4663-b456-5118300866d0",
        "id": "nyc1C6lP6Wsd"
      },
      "execution_count": null,
      "outputs": [
        {
          "output_type": "stream",
          "name": "stdout",
          "text": [
            "stat=0.688, p=0.028\n",
            "Probablemente dependientes\n"
          ]
        }
      ]
    },
    {
      "cell_type": "markdown",
      "source": [
        "### 18.2.2. Coeficiente de Correlación de Spearman\n",
        "\n",
        "\n",
        "\n"
      ],
      "metadata": {
        "id": "j0nsWDj_SkGr"
      }
    },
    {
      "cell_type": "markdown",
      "source": [
        "\n",
        "Sirve para comprobar la relación monótona entre dos muestras.\n",
        "\n",
        "**¿Qué debemos asumir?**\n",
        "*   Que las observaciones de las muestras son iid.\n",
        "*   Que las observaciones de las muestras se pueden ordenar.\n",
        "\n",
        "**¿Cuáles son nuestras hipótesis?**\n",
        "*   $H_{0}$: las muestras son independientes. \n",
        "*   $H_{1}$: existe una dependencia entre las muestras. \n",
        "\n",
        "**Para más información...**\n",
        "*   https://machinelearningmastery.com/how-to-calculate-nonparametric-rank-correlation-in-python/\n",
        "*   https://docs.scipy.org/doc/scipy/reference/generated/scipy.stats.spearmanr.html\n",
        "*   https://en.wikipedia.org/wiki/Spearman%27s_rank_correlation_coefficient\n"
      ],
      "metadata": {
        "id": "zFQ1sgWASkGz"
      }
    },
    {
      "cell_type": "code",
      "source": [
        "from scipy.stats import spearmanr\n",
        "data1 = [0.873, 2.817, 0.121, -0.945, -0.055, -1.436, 0.360, -1.478, -1.637, -1.869]\n",
        "data2 = [0.353, 3.517, 0.125, -7.545, -0.555, -1.536, 3.350, -1.578, -3.537, -1.579]\n",
        "stat, p = spearmanr(data1, data2)\n",
        "print('stat=%.3f, p=%.3f' % (stat, p))\n",
        "if p > 0.05:\n",
        "\tprint('Probablemente independientes')\n",
        "else:\n",
        "\tprint('Probablemente dependientes')"
      ],
      "metadata": {
        "colab": {
          "base_uri": "https://localhost:8080/"
        },
        "outputId": "10c86846-41f4-4f7e-b2d7-266c29238e57",
        "id": "uiSiDRdwSkGz"
      },
      "execution_count": null,
      "outputs": [
        {
          "output_type": "stream",
          "name": "stdout",
          "text": [
            "stat=0.855, p=0.002\n",
            "Probablemente dependientes\n"
          ]
        }
      ]
    },
    {
      "cell_type": "markdown",
      "source": [
        "### 18.2.3. Coeficiente de Correlación de Rango de Kendall (coeficiente Τ de Kendall)\n",
        "\n",
        "\n"
      ],
      "metadata": {
        "id": "bV_BaIkEUH8C"
      }
    },
    {
      "cell_type": "markdown",
      "source": [
        "\n",
        "Sirve para comprobar la relación monótona entre dos muestras.\n",
        "\n",
        "**¿Qué debemos asumir?**\n",
        "*   Que las observaciones de las muestras son iid.\n",
        "*   Que las observaciones de las muestras se pueden ordenar.\n",
        "\n",
        "**¿Cuáles son nuestras hipótesis?**\n",
        "*   $H_{0}$: las muestras son independientes. \n",
        "*   $H_{1}$: existe una dependencia entre las muestras. \n",
        "\n",
        "**Para más información...**\n",
        "*   https://machinelearningmastery.com/how-to-calculate-nonparametric-rank-correlation-in-python/\n",
        "*   https://docs.scipy.org/doc/scipy/reference/generated/scipy.stats.kendalltau.html\n",
        "*   https://en.wikipedia.org/wiki/Kendall_rank_correlation_coefficient\n"
      ],
      "metadata": {
        "id": "ekeT06QEUH8J"
      }
    },
    {
      "cell_type": "code",
      "source": [
        "from scipy.stats import kendalltau\n",
        "data1 = [0.873, 2.817, 0.121, -0.945, -0.055, -1.436, 0.360, -1.478, -1.637, -1.869]\n",
        "data2 = [0.353, 3.517, 0.125, -7.545, -0.555, -1.536, 3.350, -1.578, -3.537, -1.579]\n",
        "stat, p = kendalltau(data1, data2)\n",
        "print('stat=%.3f, p=%.3f' % (stat, p))\n",
        "if p > 0.05:\n",
        "\tprint('Probablemente independientes')\n",
        "else:\n",
        "\tprint('Probablemente dependientes')"
      ],
      "metadata": {
        "colab": {
          "base_uri": "https://localhost:8080/"
        },
        "outputId": "eafe60af-803a-4a9d-871a-73f0cf1c585a",
        "id": "eya2Q2igUH8J"
      },
      "execution_count": null,
      "outputs": [
        {
          "output_type": "stream",
          "name": "stdout",
          "text": [
            "stat=0.733, p=0.002\n",
            "Probablemente dependientes\n"
          ]
        }
      ]
    },
    {
      "cell_type": "markdown",
      "source": [
        "### 18.2.4. Test Chi-cuadrado $(χ^2)$\n",
        "\n",
        "\n"
      ],
      "metadata": {
        "id": "AUpIyn0YVcSJ"
      }
    },
    {
      "cell_type": "markdown",
      "source": [
        "\n",
        "Sirve para comprobar la relación entre dos variables categóricas. Existen varios tipos distintos, pero nos centraremos en este.\n",
        "\n",
        "**¿Qué debemos asumir?**\n",
        "*   Que las observaciones que se usen para el cálculo de la tabla de contingencia son independientes.\n",
        "*   Que tenemos al menos 25 o más ejemplos en cada casilla de la tabla de contingencia.\n",
        "\n",
        "**¿Cuáles son nuestras hipótesis?**\n",
        "*   $H_{0}$: las muestras son independientes. \n",
        "*   $H_{1}$: existe una dependencia entre las muestras. \n",
        "\n",
        "**Para más información...**\n",
        "*   https://machinelearningmastery.com/chi-squared-test-for-machine-learning/\n",
        "*   https://docs.scipy.org/doc/scipy/reference/generated/scipy.stats.chi2_contingency.html\n",
        "*   https://en.wikipedia.org/wiki/Chi-squared_test\n"
      ],
      "metadata": {
        "id": "1EwT3SR-VcSQ"
      }
    },
    {
      "cell_type": "code",
      "source": [
        "from scipy.stats import chi2_contingency\n",
        "table = [[10, 20, 30],[6,  9,  17]]\n",
        "stat, p, dof, expected = chi2_contingency(table)\n",
        "print('stat=%.3f, p=%.3f' % (stat, p))\n",
        "if p > 0.05:\n",
        "\tprint('Probablemente independientes')\n",
        "else:\n",
        "\tprint('Probablemente dependientes')"
      ],
      "metadata": {
        "colab": {
          "base_uri": "https://localhost:8080/"
        },
        "outputId": "ecf0e1af-8868-4090-f083-73e225741895",
        "id": "a6oB4yEcVcSQ"
      },
      "execution_count": null,
      "outputs": [
        {
          "output_type": "stream",
          "name": "stdout",
          "text": [
            "stat=0.272, p=0.873\n",
            "Probablemente independientes\n"
          ]
        }
      ]
    },
    {
      "cell_type": "markdown",
      "source": [
        "## 18.3. Tests Estacionarios"
      ],
      "metadata": {
        "id": "9ydO2vzhXNM5"
      }
    },
    {
      "cell_type": "markdown",
      "source": [
        "En esta sección aprenderemos algunos tests para comprobar si una serie temporal es estacionaria o no.\n"
      ],
      "metadata": {
        "id": "UqUdUeTcXNNA"
      }
    },
    {
      "cell_type": "markdown",
      "source": [
        "### 18.3.1. Prueba de Dickey-Fuller aumentada (ADF)\n",
        "\n",
        "\n",
        "\n"
      ],
      "metadata": {
        "id": "D3NklpoVXNNA"
      }
    },
    {
      "cell_type": "markdown",
      "source": [
        "Sirve para comprobar si una serie temporal tiene una raíz unitaria, es decir, si NO muestra una regresión hacia la media (tiene una tendencia o no).\n",
        "\n",
        "**¿Qué debemos asumir?**\n",
        "*   Que las observaciones están ordenadas temporalmente.\n",
        "\n",
        "**¿Cuáles son nuestras hipótesis?**\n",
        "*   $H_{0}$: tiene una raíz unitaria (serie no estacionaria).\n",
        "*   $H_{1}$: no tiene una raíz unitaria (serie estacionaria). \n",
        "\n",
        "**Para más información...**\n",
        "*   https://machinelearningmastery.com/time-series-data-stationary-python/\n",
        "*   https://www.statsmodels.org/dev/generated/statsmodels.tsa.stattools.adfuller.html\n",
        "*   https://en.wikipedia.org/wiki/Augmented_Dickey%E2%80%93Fuller_test"
      ],
      "metadata": {
        "id": "eLBK_ueDXNNB"
      }
    },
    {
      "cell_type": "code",
      "source": [
        "from statsmodels.tsa.stattools import adfuller\n",
        "data = [0, 1, 2, 3, 4, 5, 6, 7, 8, 9]\n",
        "stat, p, lags, obs, crit, t = adfuller(data)\n",
        "print('stat=%.3f, p=%.3f' % (stat, p))\n",
        "if p > 0.05:\n",
        "\tprint('Probablemente no estacionaria')\n",
        "else:\n",
        "\tprint('Probablemente estacionaria')"
      ],
      "metadata": {
        "colab": {
          "base_uri": "https://localhost:8080/"
        },
        "outputId": "993a44d0-e9d5-448c-dafa-8c85f43b3afe",
        "id": "Y1ryOUEcXNNB"
      },
      "execution_count": null,
      "outputs": [
        {
          "output_type": "stream",
          "name": "stderr",
          "text": [
            "/usr/local/lib/python3.7/dist-packages/statsmodels/tools/_testing.py:19: FutureWarning: pandas.util.testing is deprecated. Use the functions in the public API at pandas.testing instead.\n",
            "  import pandas.util.testing as tm\n"
          ]
        },
        {
          "output_type": "stream",
          "name": "stdout",
          "text": [
            "stat=0.517, p=0.985\n",
            "Probablemente no estacionaria\n"
          ]
        }
      ]
    },
    {
      "cell_type": "markdown",
      "source": [
        "### 18.3.2. Test Kwiatkowski–Phillips–Schmidt–Shin (KPSS)\n",
        "\n",
        "\n",
        "\n"
      ],
      "metadata": {
        "id": "9_Tpk8rbXNNC"
      }
    },
    {
      "cell_type": "markdown",
      "source": [
        "\n",
        "Sirve para comprobar si una serie temporal tiene una raíz unitaria, es decir, si NO muestra una regresión hacia la media (tiene una tendencia o no).\n",
        "\n",
        "**¿Qué debemos asumir?**\n",
        "*   Que las observaciones están ordenadas temporalmente.\n",
        "\n",
        "**¿Cuáles son nuestras hipótesis?**\n",
        "*   $H_{0}$: no tiene una raíz unitaria (serie estacionaria).\n",
        "*   $H_{1}$: tiene una raíz unitaria (serie no estacionaria). \n",
        "\n",
        "**Para más información...**\n",
        "*   https://en.wikipedia.org/wiki/KPSS_test\n",
        "*   https://www.statsmodels.org/stable/generated/statsmodels.tsa.stattools.kpss.html#statsmodels.tsa.stattools.kpss\n"
      ],
      "metadata": {
        "id": "7Xfukb9fXNNC"
      }
    },
    {
      "cell_type": "code",
      "source": [
        "from statsmodels.tsa.stattools import kpss\n",
        "data = [0, 1, 2, 3, 4, 5, 6, 7, 8, 9]\n",
        "stat, p, lags, crit = kpss(data)\n",
        "print('stat=%.3f, p=%.3f' % (stat, p))\n",
        "if p > 0.05:\n",
        "\tprint('Probablemente estacionaria')\n",
        "else:\n",
        "\tprint('Probablemente no estacionaria')"
      ],
      "metadata": {
        "colab": {
          "base_uri": "https://localhost:8080/"
        },
        "outputId": "541676e9-fea1-49ad-bb5d-d99dea1af8d4",
        "id": "9oYvLKeSXNNC"
      },
      "execution_count": null,
      "outputs": [
        {
          "output_type": "stream",
          "name": "stdout",
          "text": [
            "stat=0.410, p=0.073\n",
            "Probablemente estacionaria\n"
          ]
        },
        {
          "output_type": "stream",
          "name": "stderr",
          "text": [
            "/usr/local/lib/python3.7/dist-packages/statsmodels/tsa/stattools.py:1685: FutureWarning: The behavior of using lags=None will change in the next release. Currently lags=None is the same as lags='legacy', and so a sample-size lag length is used. After the next release, the default will change to be the same as lags='auto' which uses an automatic lag length selection method. To silence this warning, either use 'auto' or 'legacy'\n",
            "  warn(msg, FutureWarning)\n"
          ]
        }
      ]
    },
    {
      "cell_type": "markdown",
      "source": [
        "## 18.4. Tests de Hipótesis Paramétricos"
      ],
      "metadata": {
        "id": "h3bvSgabbIbf"
      }
    },
    {
      "cell_type": "markdown",
      "source": [
        "Vamos a comparar datos en general para obtener algunos resultados sobre ellos."
      ],
      "metadata": {
        "id": "tDYJC_2YbIbg"
      }
    },
    {
      "cell_type": "markdown",
      "source": [
        "### 18.4.1. Prueba t de Student\n",
        "\n",
        "\n",
        "\n"
      ],
      "metadata": {
        "id": "DdfAKpePbIbg"
      }
    },
    {
      "cell_type": "markdown",
      "source": [
        "Comprueba si las medias de dos muestras independientes son significativamente distintas.\n",
        "\n",
        "**¿Qué debemos asumir?**\n",
        "*   Que las observaciones de las muestras son iid.\n",
        "*   Que las observaciones en cada muestra están distribuidas según una Gaussiana.\n",
        "*   Que las observaciones en cada muestra tienen la misma varianza.\n",
        "\n",
        "**¿Cuáles son nuestras hipótesis?**\n",
        "*   $H_{0}$: las medias de las muestras son iguales.\n",
        "*   $H_{1}$: las medias de las muestras son distintas. \n",
        "\n",
        "**Para más información...**\n",
        "*   https://machinelearningmastery.com/parametric-statistical-significance-tests-in-python/\n",
        "*   https://docs.scipy.org/doc/scipy/reference/generated/scipy.stats.ttest_ind.html\n",
        "*   https://en.wikipedia.org/wiki/Student%27s_t-test"
      ],
      "metadata": {
        "id": "7Xz5QHXAbIbg"
      }
    },
    {
      "cell_type": "code",
      "source": [
        "from scipy.stats import ttest_ind\n",
        "data1 = [0.873, 2.817, 0.121, -0.945, -0.055, -1.436, 0.360, -1.478, -1.637, -1.869]\n",
        "data2 = [1.142, -0.432, -0.938, -0.729, -0.846, -0.157, 0.500, 1.183, -1.075, -0.169]\n",
        "stat, p = ttest_ind(data1, data2)\n",
        "print('stat=%.3f, p=%.3f' % (stat, p))\n",
        "if p > 0.05:\n",
        "\tprint('Probablemente tengan la misma media')\n",
        "else:\n",
        "\tprint('Probablemente tengan distinta media')"
      ],
      "metadata": {
        "colab": {
          "base_uri": "https://localhost:8080/"
        },
        "outputId": "56080a8e-121a-4371-b050-e0e342afbd7a",
        "id": "RMsbEYtabIbg"
      },
      "execution_count": null,
      "outputs": [
        {
          "output_type": "stream",
          "name": "stdout",
          "text": [
            "stat=-0.326, p=0.748\n",
            "Probablemente tengan la misma media\n"
          ]
        }
      ]
    },
    {
      "cell_type": "markdown",
      "source": [
        "### 18.4.2. Prueba t de Student Pareada\n",
        "\n",
        "\n",
        "\n"
      ],
      "metadata": {
        "id": "7TRa_AFrbIbh"
      }
    },
    {
      "cell_type": "markdown",
      "source": [
        "\n",
        "Comprueba si las medias de dos muestras pareadas son significativamente distintas.\n",
        "\n",
        "**¿Qué debemos asumir?**\n",
        "*   Que las observaciones de las muestras son iid.\n",
        "*   Que las observaciones en cada muestra están distribuidas según una Gaussiana.\n",
        "*   Que las observaciones en cada muestra tienen la misma varianza.\n",
        "*   Que las observaciones de cada muestra están emparejadas.\n",
        "\n",
        "**¿Cuáles son nuestras hipótesis?**\n",
        "*   $H_{0}$: las medias de las muestras son iguales.\n",
        "*   $H_{1}$: las medias de las muestras son distintas. \n",
        "\n",
        "**Para más información...**\n",
        "*   https://machinelearningmastery.com/parametric-statistical-significance-tests-in-python/\n",
        "*   https://docs.scipy.org/doc/scipy/reference/generated/scipy.stats.ttest_rel.html\n",
        "*   https://en.wikipedia.org/wiki/Student%27s_t-test\n"
      ],
      "metadata": {
        "id": "HN2FEhsdbIbh"
      }
    },
    {
      "cell_type": "code",
      "source": [
        "from scipy.stats import ttest_rel\n",
        "data1 = [0.873, 2.817, 0.121, -0.945, -0.055, -1.436, 0.360, -1.478, -1.637, -1.869]\n",
        "data2 = [1.142, -0.432, -0.938, -0.729, -0.846, -0.157, 0.500, 1.183, -1.075, -0.169]\n",
        "stat, p = ttest_rel(data1, data2)\n",
        "print('stat=%.3f, p=%.3f' % (stat, p))\n",
        "if p > 0.05:\n",
        "\tprint('Probablemente tengan la misma media')\n",
        "else:\n",
        "\tprint('Probablemente tengan distinta media')"
      ],
      "metadata": {
        "colab": {
          "base_uri": "https://localhost:8080/"
        },
        "outputId": "bbc963c9-b057-414c-8320-30ca2036588c",
        "id": "K-CFXEhQbIbh"
      },
      "execution_count": null,
      "outputs": [
        {
          "output_type": "stream",
          "name": "stdout",
          "text": [
            "stat=-0.334, p=0.746\n",
            "Probablemente tengan la misma media\n"
          ]
        }
      ]
    },
    {
      "cell_type": "markdown",
      "source": [
        "### 18.4.3. Análisis de la Varianza (ANOVA)\n",
        "\n",
        "\n"
      ],
      "metadata": {
        "id": "x1wc-49TbIbh"
      }
    },
    {
      "cell_type": "markdown",
      "source": [
        "\n",
        "Comprueba si las medias de dos muestras independientes son significativamente distintas.\n",
        "\n",
        "**¿Qué debemos asumir?**\n",
        "*   Que las observaciones de las muestras son iid.\n",
        "*   Que las observaciones en cada muestra están distribuidas según una Gaussiana.\n",
        "*   Que las observaciones en cada muestra tienen la misma varianza.\n",
        "\n",
        "**¿Cuáles son nuestras hipótesis?**\n",
        "*   $H_{0}$: las medias de las muestras son iguales.\n",
        "*   $H_{1}$: una o más de las medias de las muestras son distintas. \n",
        "\n",
        "**Para más información...**\n",
        "*   https://machinelearningmastery.com/parametric-statistical-significance-tests-in-python/\n",
        "*   https://docs.scipy.org/doc/scipy/reference/generated/scipy.stats.f_oneway.html\n",
        "*   https://en.wikipedia.org/wiki/Analysis_of_variance\n",
        "\n"
      ],
      "metadata": {
        "id": "J3QtT7XKbIbh"
      }
    },
    {
      "cell_type": "code",
      "source": [
        "from scipy.stats import f_oneway\n",
        "data1 = [0.873, 2.817, 0.121, -0.945, -0.055, -1.436, 0.360, -1.478, -1.637, -1.869]\n",
        "data2 = [1.142, -0.432, -0.938, -0.729, -0.846, -0.157, 0.500, 1.183, -1.075, -0.169]\n",
        "data3 = [-0.208, 0.696, 0.928, -1.148, -0.213, 0.229, 0.137, 0.269, -0.870, -1.204]\n",
        "stat, p = f_oneway(data1, data2, data3)\n",
        "print('stat=%.3f, p=%.3f' % (stat, p))\n",
        "if p > 0.05:\n",
        "\tprint('Probablemente tengan la misma media')\n",
        "else:\n",
        "\tprint('Probablemente tengan distintas medias')"
      ],
      "metadata": {
        "colab": {
          "base_uri": "https://localhost:8080/"
        },
        "outputId": "5ea0c5ec-6c4a-446b-f023-1695a38fbb61",
        "id": "MVv3VTBCbIbi"
      },
      "execution_count": null,
      "outputs": [
        {
          "output_type": "stream",
          "name": "stdout",
          "text": [
            "stat=0.096, p=0.908\n",
            "Probablemente tengan la misma media\n"
          ]
        }
      ]
    },
    {
      "cell_type": "markdown",
      "source": [
        "## 18.5. Tests de Hipótesis no Paramétricos"
      ],
      "metadata": {
        "id": "ze9YC0gLht6u"
      }
    },
    {
      "cell_type": "markdown",
      "source": [
        "Vamos a comparar datos en general para obtener algunos resultados sobre ellos, aunque esta vez, sin conocer sus parámetros."
      ],
      "metadata": {
        "id": "OsBOSdFXht66"
      }
    },
    {
      "cell_type": "markdown",
      "source": [
        "### 18.5.1. Prueba U de Mann-Whitney\n",
        "\n",
        "\n",
        "\n"
      ],
      "metadata": {
        "id": "ro_AAt1Lht66"
      }
    },
    {
      "cell_type": "markdown",
      "source": [
        "Comprueba si las distribuciones de dos muestras independientes son la misma o no. \n",
        "\n",
        "**¿Qué debemos asumir?**\n",
        "*   Que las observaciones de las muestras son iid.\n",
        "*   Que las observaciones se pueden ordenar.\n",
        "\n",
        "**¿Cuáles son nuestras hipótesis?**\n",
        "*   $H_{0}$: las distribuciones de las muestras son la misma.\n",
        "*   $H_{1}$: las distribuciones de las muestras son distintas.\n",
        "\n",
        "**Para más información...**\n",
        "*   https://machinelearningmastery.com/nonparametric-statistical-significance-tests-in-python/\n",
        "*   https://docs.scipy.org/doc/scipy/reference/generated/scipy.stats.mannwhitneyu.html\n",
        "*   https://en.wikipedia.org/wiki/Mann%E2%80%93Whitney_U_test"
      ],
      "metadata": {
        "id": "Zl-B-212ht66"
      }
    },
    {
      "cell_type": "code",
      "source": [
        "from scipy.stats import mannwhitneyu\n",
        "data1 = [0.873, 2.817, 0.121, -0.945, -0.055, -1.436, 0.360, -1.478, -1.637, -1.869]\n",
        "data2 = [1.142, -0.432, -0.938, -0.729, -0.846, -0.157, 0.500, 1.183, -1.075, -0.169]\n",
        "stat, p = mannwhitneyu(data1, data2)\n",
        "print('stat=%.3f, p=%.3f' % (stat, p))\n",
        "if p > 0.05:\n",
        "\tprint('Probablemente tengan la misma distribución')\n",
        "else:\n",
        "\tprint('Probablemente tengan distinta distribución')"
      ],
      "metadata": {
        "colab": {
          "base_uri": "https://localhost:8080/"
        },
        "outputId": "e62a5666-edb5-423c-d69c-c452231fdcca",
        "id": "3SBYP6Fkht67"
      },
      "execution_count": null,
      "outputs": [
        {
          "output_type": "stream",
          "name": "stdout",
          "text": [
            "stat=40.000, p=0.236\n",
            "Probablemente tengan la misma distribución\n"
          ]
        }
      ]
    },
    {
      "cell_type": "markdown",
      "source": [
        "### 18.5.2. Prueba de los rangos con signo de Wilcoxon\n",
        "\n",
        "\n",
        "\n"
      ],
      "metadata": {
        "id": "rgqoz2wXisaO"
      }
    },
    {
      "cell_type": "markdown",
      "source": [
        "Comprueba si las distribuciones de dos muestras pareadas son la misma o no. \n",
        "\n",
        "**¿Qué debemos asumir?**\n",
        "*   Que las observaciones de las muestras son iid.\n",
        "*   Que las observaciones se pueden ordenar.\n",
        "*   Que las observaciones de cada muestra están pareadas.\n",
        "\n",
        "**¿Cuáles son nuestras hipótesis?**\n",
        "*   $H_{0}$: las distribuciones de ambas muestras son la misma.\n",
        "*   $H_{1}$: las distribuciones de ambas muestras son distintas.\n",
        "\n",
        "**Para más información...**\n",
        "*   https://machinelearningmastery.com/nonparametric-statistical-significance-tests-in-python/\n",
        "*   https://docs.scipy.org/doc/scipy/reference/generated/scipy.stats.wilcoxon.html\n",
        "*   https://en.wikipedia.org/wiki/Wilcoxon_signed-rank_test"
      ],
      "metadata": {
        "id": "qlntNGmhisaV"
      }
    },
    {
      "cell_type": "code",
      "source": [
        "from scipy.stats import wilcoxon\n",
        "data1 = [0.873, 2.817, 0.121, -0.945, -0.055, -1.436, 0.360, -1.478, -1.637, -1.869]\n",
        "data2 = [1.142, -0.432, -0.938, -0.729, -0.846, -0.157, 0.500, 1.183, -1.075, -0.169]\n",
        "stat, p = wilcoxon(data1, data2)\n",
        "print('stat=%.3f, p=%.3f' % (stat, p))\n",
        "if p > 0.05:\n",
        "\tprint('Probablemente tengan la misma distribución')\n",
        "else:\n",
        "\tprint('Probablemente tengan distinta distribución')"
      ],
      "metadata": {
        "colab": {
          "base_uri": "https://localhost:8080/"
        },
        "outputId": "69fe7bce-fbb6-4255-a9e1-e442991f3e28",
        "id": "qftZ8sIQisaV"
      },
      "execution_count": null,
      "outputs": [
        {
          "output_type": "stream",
          "name": "stdout",
          "text": [
            "stat=21.000, p=0.508\n",
            "Probablemente tengan la misma distribución\n"
          ]
        }
      ]
    },
    {
      "cell_type": "markdown",
      "source": [
        "[Wilcoxon example with Python](https://www.statology.org/wilcoxon-signed-rank-test-python/)"
      ],
      "metadata": {
        "id": "d_2j1yINtrIl"
      }
    },
    {
      "cell_type": "markdown",
      "source": [
        "La prueba de los rangos con signo de Wilcoxon es una prueba no paramétrica \n",
        "para comparar el rango medio de dos muestras relacionadas y determinar \n",
        "si existen diferencias entre ellas. \n",
        "Se utiliza como alternativa a la prueba t de Student cuando no se puede \n",
        "suponer la normalidad de dichas muestras. Debe su nombre a Frank Wilcoxon, que la publicó en 1945."
      ],
      "metadata": {
        "id": "zVuB4GZtCItT"
      }
    },
    {
      "cell_type": "code",
      "source": [
        "# H0: La distribución es igual para los dos grupos (provienen de la misma distribución)\n",
        "\n",
        "# HA: La distribución no es igual para los dos grupos "
      ],
      "metadata": {
        "id": "A9qB0Vi4vY0Y"
      },
      "execution_count": null,
      "outputs": []
    },
    {
      "cell_type": "code",
      "source": [
        "group1 = [20, 23, 21, 25, 18, 17, 18, 24, 20, 24, 23, 19]\n",
        "group2 = [24, 25, 21, 22, 23, 18, 17, 28, 24, 27, 21, 23]"
      ],
      "metadata": {
        "id": "N65jIgwQtdO2"
      },
      "execution_count": 2,
      "outputs": []
    },
    {
      "cell_type": "code",
      "source": [
        ""
      ],
      "metadata": {
        "id": "TuhjnvHb2wI0"
      },
      "execution_count": null,
      "outputs": []
    },
    {
      "cell_type": "code",
      "source": [
        "from scipy.stats import wilcoxon\n",
        "\n",
        "#perform the Wilcoxon-Signed Rank Test\n",
        "wilcoxon(group1, group2)\n",
        "stat, p = wilcoxon(group1, group2)\n",
        "print('stat=%.3f, p=%.3f' % (stat, p))\n",
        "if p > 0.05:\n",
        "\tprint('Probablemente tengan la misma distribución')\n",
        "else:\n",
        "\tprint('Probablemente tengan distinta distribución')\n",
        "\n"
      ],
      "metadata": {
        "id": "vL3c2uyrtfRS",
        "outputId": "7d21327e-9f16-4c04-f48b-587743c52c3b",
        "colab": {
          "base_uri": "https://localhost:8080/"
        }
      },
      "execution_count": 3,
      "outputs": [
        {
          "output_type": "stream",
          "name": "stdout",
          "text": [
            "stat=10.500, p=0.044\n",
            "Probablemente tengan distinta distribución\n"
          ]
        }
      ]
    },
    {
      "cell_type": "code",
      "source": [
        "import matplotlib.pyplot as plt\n"
      ],
      "metadata": {
        "id": "RsO3NyuU3Hf1"
      },
      "execution_count": 4,
      "outputs": []
    },
    {
      "cell_type": "code",
      "source": [
        "plt.plot(group1, color='magenta', marker='o',mfc='pink' ) #plot the data\n",
        "plt.xticks(range(0,len(group1)+1, 1)) #set the tick frequency on x-axis\n",
        "plt.plot(group2, color='blue', marker='o',mfc='blue' ) #plot the data\n",
        "plt.xticks(range(0,len(group1)+1, 1)) #set the tick frequency on x-axis\n",
        "\n",
        "plt.ylabel('Score out of 30') #set the label for y axis\n",
        "plt.xlabel('Index') #set the label for x-axis\n",
        "plt.title(\"Plotting group 1 and 2\") #set the title of the graph\n",
        "plt.show() #display the graph"
      ],
      "metadata": {
        "colab": {
          "base_uri": "https://localhost:8080/",
          "height": 295
        },
        "id": "JsH5X4nG3OAU",
        "outputId": "af3d8c5e-0bf1-48fa-dd07-9d58eaf45e5a"
      },
      "execution_count": 7,
      "outputs": [
        {
          "output_type": "display_data",
          "data": {
            "text/plain": [
              "<Figure size 432x288 with 1 Axes>"
            ],
            "image/png": "[encoded data removed]"
          },
          "metadata": {
            "needs_background": "light"
          }
        }
      ]
    },
    {
      "cell_type": "markdown",
      "source": [
        "### 18.5.3. Prueba de Kruskal-Wallis\n",
        "\n",
        "\n",
        "\n"
      ],
      "metadata": {
        "id": "V107lcdvjVRe"
      }
    },
    {
      "cell_type": "markdown",
      "source": [
        "Comprueba si las distribuciones de dos o más muestras independientes son la misma o no. \n",
        "\n",
        "**¿Qué debemos asumir?**\n",
        "*   Que las observaciones de las muestras son iid.\n",
        "*   Que las observaciones se pueden ordenar.\n",
        "\n",
        "**¿Cuáles son nuestras hipótesis?**\n",
        "*   $H_{0}$: las distribuciones de las muestras son la misma.\n",
        "*   $H_{1}$: las distribuciones de una o más muestras son distintas.\n",
        "\n",
        "**Para más información...**\n",
        "*   https://machinelearningmastery.com/nonparametric-statistical-significance-tests-in-python/\n",
        "*   https://docs.scipy.org/doc/scipy/reference/generated/scipy.stats.kruskal.html\n",
        "*   https://en.wikipedia.org/wiki/Kruskal%E2%80%93Wallis_one-way_analysis_of_variance"
      ],
      "metadata": {
        "id": "LOIoXsZVjVRl"
      }
    },
    {
      "cell_type": "code",
      "source": [
        "from scipy.stats import kruskal\n",
        "data1 = [0.873, 2.817, 0.121, -0.945, -0.055, -1.436, 0.360, -1.478, -1.637, -1.869]\n",
        "data2 = [1.142, -0.432, -0.938, -0.729, -0.846, -0.157, 0.500, 1.183, -1.075, -0.169]\n",
        "stat, p = kruskal(data1, data2)\n",
        "print('stat=%.3f, p=%.3f' % (stat, p))\n",
        "if p > 0.05:\n",
        "\tprint('Probablemente tengan la misma distribución')\n",
        "else:\n",
        "\tprint('Probablemente tengan distinta distribución')"
      ],
      "metadata": {
        "colab": {
          "base_uri": "https://localhost:8080/"
        },
        "outputId": "6b853351-3c35-4b3c-dc3f-91379802bbc3",
        "id": "NrQE2_7OjVRl"
      },
      "execution_count": null,
      "outputs": [
        {
          "output_type": "stream",
          "name": "stdout",
          "text": [
            "stat=0.571, p=0.450\n",
            "Probablemente tengan la misma distribución\n"
          ]
        }
      ]
    },
    {
      "cell_type": "markdown",
      "source": [
        "### 18.5.4. Prueba de Friedman\n",
        "\n",
        "\n",
        "\n"
      ],
      "metadata": {
        "id": "xL_bPduDj-sd"
      }
    },
    {
      "cell_type": "markdown",
      "source": [
        "Comprueba si las distribuciones de dos o más muestras pareadas son la misma o no. \n",
        "\n",
        "**¿Qué debemos asumir?**\n",
        "*   Que las observaciones de las muestras son iid.\n",
        "*   Que las observaciones se pueden ordenar.\n",
        "*   Que las observaciones de cada muestra están pareadas.\n",
        "\n",
        "**¿Cuáles son nuestras hipótesis?**\n",
        "*   $H_{0}$: las distribuciones de todas las muestras son la misma.\n",
        "*   $H_{1}$: las distribuciones de una o más muestras son distintas.\n",
        "\n",
        "**Para más información...**\n",
        "*   https://machinelearningmastery.com/nonparametric-statistical-significance-tests-in-python/\n",
        "*   https://docs.scipy.org/doc/scipy/reference/generated/scipy.stats.friedmanchisquare.html\n",
        "*   https://en.wikipedia.org/wiki/Friedman_test"
      ],
      "metadata": {
        "id": "oVetVk06j-sk"
      }
    },
    {
      "cell_type": "code",
      "source": [
        "from scipy.stats import friedmanchisquare\n",
        "data1 = [0.873, 2.817, 0.121, -0.945, -0.055, -1.436, 0.360, -1.478, -1.637, -1.869]\n",
        "data2 = [1.142, -0.432, -0.938, -0.729, -0.846, -0.157, 0.500, 1.183, -1.075, -0.169]\n",
        "data3 = [-0.208, 0.696, 0.928, -1.148, -0.213, 0.229, 0.137, 0.269, -0.870, -1.204]\n",
        "stat, p = friedmanchisquare(data1, data2, data3)\n",
        "print('stat=%.3f, p=%.3f' % (stat, p))\n",
        "if p > 0.05:\n",
        "\tprint('Probablemente tengan la misma distribución')\n",
        "else:\n",
        "\tprint('Probablemente tengan distinta distribución')"
      ],
      "metadata": {
        "colab": {
          "base_uri": "https://localhost:8080/"
        },
        "outputId": "ae0f3d70-bfb7-4a16-935f-7fcd0fdedec4",
        "id": "FV1jcg73j-sk"
      },
      "execution_count": null,
      "outputs": [
        {
          "output_type": "stream",
          "name": "stdout",
          "text": [
            "stat=0.800, p=0.670\n",
            "Probablemente tengan la misma distribución\n"
          ]
        }
      ]
    },
    {
      "cell_type": "markdown",
      "source": [
        "# Ejercicio: "
      ],
      "metadata": {
        "id": "lYaKsO0ElV6I"
      }
    },
    {
      "cell_type": "markdown",
      "source": [
        "Cada uno de vosotros tiene que tomar unos datos (lógicos) con los que testear, al menos, uno de cada uno de métodos implementados en este notebook. Por supuesto existen muchos más, pero a modo resumen nos quedaremos con estos (por supuesto quien quiera ampliar sus conocimientos sobre este tema es bienvenido a ello). "
      ],
      "metadata": {
        "id": "TYiuZ5nQlcuL"
      }
    }
  ]
}