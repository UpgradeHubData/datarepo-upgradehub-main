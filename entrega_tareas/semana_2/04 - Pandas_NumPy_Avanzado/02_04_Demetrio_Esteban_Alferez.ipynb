{
 "cells": [
  {
   "cell_type": "markdown",
   "metadata": {
    "id": "3aowSon2l2wg"
   },
   "source": [
    "#Colección de ejercicios de Pandas"
   ]
  },
  {
   "cell_type": "markdown",
   "metadata": {
    "id": "fccOfmY7hhDp"
   },
   "source": [
    "## 1 - Importa el paquete con el nombre \"pd\".\n",
    "\n",
    "`pista: import … as …`\n"
   ]
  },
  {
   "cell_type": "code",
   "execution_count": 132,
   "metadata": {},
   "outputs": [],
   "source": [
    "import pandas as pd"
   ]
  },
  {
   "cell_type": "markdown",
   "metadata": {
    "id": "kxch5852hvVp"
   },
   "source": [
    "## 2 - Imprime la versión instalada.\n",
    "\n",
    "`pista: __version__ `\n"
   ]
  },
  {
   "cell_type": "code",
   "execution_count": 133,
   "metadata": {},
   "outputs": [
    {
     "name": "stdout",
     "output_type": "stream",
     "text": [
      "1.4.2\n"
     ]
    }
   ],
   "source": [
    "print(pd.__version__)\n"
   ]
  },
  {
   "cell_type": "markdown",
   "metadata": {
    "id": "SjtrreDMl1LY"
   },
   "source": [
    "##3 - Cree una serie desde un diccionario, desde una lista y desde un `numpy` array. \n",
    "\n",
    "`pista: pd.Series(...) `"
   ]
  },
  {
   "cell_type": "code",
   "execution_count": 134,
   "metadata": {
    "colab": {
     "base_uri": "https://localhost:8080/"
    },
    "executionInfo": {
     "elapsed": 251,
     "status": "ok",
     "timestamp": 1652975898151,
     "user": {
      "displayName": "Jose Antonio Lagares Rodriguez",
      "userId": "00469018537825658051"
     },
     "user_tz": -120
    },
    "id": "f8g9H2Q5B46h",
    "outputId": "739df253-fe95-41bf-ffab-0e5ce090f367"
   },
   "outputs": [
    {
     "data": {
      "text/plain": [
       "{'a': 1,\n",
       " 'b': 2,\n",
       " 'c': 3,\n",
       " 'e': 4,\n",
       " 'd': 5,\n",
       " 'f': 6,\n",
       " 'g': 7,\n",
       " 'h': 8,\n",
       " 'i': 9,\n",
       " 'j': 10,\n",
       " 'k': 11,\n",
       " 'l': 12,\n",
       " 'm': 13,\n",
       " 'n': 14,\n",
       " 'o': 15,\n",
       " 'p': 16,\n",
       " 'q': 17,\n",
       " 'r': 18,\n",
       " 's': 19,\n",
       " 't': 20,\n",
       " 'u': 21,\n",
       " 'v': 22,\n",
       " 'w': 23,\n",
       " 'x': 24,\n",
       " 'y': 25,\n",
       " 'z': 26}"
      ]
     },
     "execution_count": 134,
     "metadata": {},
     "output_type": "execute_result"
    }
   ],
   "source": [
    "import numpy as np\n",
    "# Entrada:\n",
    "lista = list('abcedfghijklmnopqrstuvwxyz')\n",
    "numeros = len(lista)\n",
    "arr = np.arange(0,numeros)+1\n",
    "diccionario = dict(zip(lista, arr))\n",
    "diccionario"
   ]
  },
  {
   "cell_type": "markdown",
   "metadata": {
    "id": "g9OjBFDACJZJ"
   },
   "source": [
    "## 4 - Convierta el índice de una serie a una columna de un `dataframe`\n",
    "`pista:  to_frame() y reset_index()`"
   ]
  },
  {
   "cell_type": "code",
   "execution_count": 135,
   "metadata": {
    "colab": {
     "base_uri": "https://localhost:8080/"
    },
    "executionInfo": {
     "elapsed": 266,
     "status": "ok",
     "timestamp": 1652975960571,
     "user": {
      "displayName": "Jose Antonio Lagares Rodriguez",
      "userId": "00469018537825658051"
     },
     "user_tz": -120
    },
    "id": "WzoVzaS1CsqK",
    "outputId": "2d2c7ff5-f345-48ef-c876-aeac9cb459bf"
   },
   "outputs": [
    {
     "name": "stdout",
     "output_type": "stream",
     "text": [
      "1     a\n",
      "2     b\n",
      "3     c\n",
      "4     e\n",
      "5     d\n",
      "6     f\n",
      "7     g\n",
      "8     h\n",
      "9     i\n",
      "10    j\n",
      "11    k\n",
      "12    l\n",
      "13    m\n",
      "14    n\n",
      "15    o\n",
      "16    p\n",
      "17    q\n",
      "18    r\n",
      "19    s\n",
      "20    t\n",
      "21    u\n",
      "22    v\n",
      "23    w\n",
      "24    x\n",
      "25    y\n",
      "26    z\n",
      "dtype: object\n"
     ]
    }
   ],
   "source": [
    "import pandas as pd\n",
    "lista = list('abcedfghijklmnopqrstuvwxyz')\n",
    "numeros = len(lista)\n",
    "arr = np.arange(0,numeros)+1\n",
    "df = pd.Series(dict(zip(arr, lista)))\n",
    "\n",
    "\n",
    "print(df)"
   ]
  },
  {
   "cell_type": "markdown",
   "metadata": {
    "id": "vX0yqjPKDcIJ"
   },
   "source": [
    "## 5 - Combine varias series para formar un `dataframe`\n",
    "`pista:  concat(...) o Dataframe(...)`"
   ]
  },
  {
   "cell_type": "code",
   "execution_count": 136,
   "metadata": {
    "colab": {
     "base_uri": "https://localhost:8080/"
    },
    "executionInfo": {
     "elapsed": 266,
     "status": "ok",
     "timestamp": 1652976204444,
     "user": {
      "displayName": "Jose Antonio Lagares Rodriguez",
      "userId": "00469018537825658051"
     },
     "user_tz": -120
    },
    "id": "6ZTE6AERDvUZ",
    "outputId": "11fb509f-1e53-48ac-f002-aa499cc8f5b1"
   },
   "outputs": [
    {
     "data": {
      "text/html": [
       "<div>\n",
       "<style scoped>\n",
       "    .dataframe tbody tr th:only-of-type {\n",
       "        vertical-align: middle;\n",
       "    }\n",
       "\n",
       "    .dataframe tbody tr th {\n",
       "        vertical-align: top;\n",
       "    }\n",
       "\n",
       "    .dataframe thead th {\n",
       "        text-align: right;\n",
       "    }\n",
       "</style>\n",
       "<table border=\"1\" class=\"dataframe\">\n",
       "  <thead>\n",
       "    <tr style=\"text-align: right;\">\n",
       "      <th></th>\n",
       "      <th>0</th>\n",
       "    </tr>\n",
       "  </thead>\n",
       "  <tbody>\n",
       "    <tr>\n",
       "      <th>1</th>\n",
       "      <td>b</td>\n",
       "    </tr>\n",
       "    <tr>\n",
       "      <th>2</th>\n",
       "      <td>c</td>\n",
       "    </tr>\n",
       "    <tr>\n",
       "      <th>3</th>\n",
       "      <td>e</td>\n",
       "    </tr>\n",
       "    <tr>\n",
       "      <th>4</th>\n",
       "      <td>d</td>\n",
       "    </tr>\n",
       "    <tr>\n",
       "      <th>5</th>\n",
       "      <td>f</td>\n",
       "    </tr>\n",
       "    <tr>\n",
       "      <th>6</th>\n",
       "      <td>g</td>\n",
       "    </tr>\n",
       "    <tr>\n",
       "      <th>7</th>\n",
       "      <td>h</td>\n",
       "    </tr>\n",
       "    <tr>\n",
       "      <th>8</th>\n",
       "      <td>i</td>\n",
       "    </tr>\n",
       "    <tr>\n",
       "      <th>9</th>\n",
       "      <td>j</td>\n",
       "    </tr>\n",
       "    <tr>\n",
       "      <th>10</th>\n",
       "      <td>k</td>\n",
       "    </tr>\n",
       "    <tr>\n",
       "      <th>11</th>\n",
       "      <td>l</td>\n",
       "    </tr>\n",
       "    <tr>\n",
       "      <th>12</th>\n",
       "      <td>m</td>\n",
       "    </tr>\n",
       "    <tr>\n",
       "      <th>13</th>\n",
       "      <td>n</td>\n",
       "    </tr>\n",
       "    <tr>\n",
       "      <th>14</th>\n",
       "      <td>o</td>\n",
       "    </tr>\n",
       "    <tr>\n",
       "      <th>15</th>\n",
       "      <td>p</td>\n",
       "    </tr>\n",
       "    <tr>\n",
       "      <th>16</th>\n",
       "      <td>q</td>\n",
       "    </tr>\n",
       "    <tr>\n",
       "      <th>17</th>\n",
       "      <td>r</td>\n",
       "    </tr>\n",
       "    <tr>\n",
       "      <th>18</th>\n",
       "      <td>s</td>\n",
       "    </tr>\n",
       "    <tr>\n",
       "      <th>19</th>\n",
       "      <td>t</td>\n",
       "    </tr>\n",
       "    <tr>\n",
       "      <th>20</th>\n",
       "      <td>u</td>\n",
       "    </tr>\n",
       "    <tr>\n",
       "      <th>21</th>\n",
       "      <td>v</td>\n",
       "    </tr>\n",
       "    <tr>\n",
       "      <th>22</th>\n",
       "      <td>w</td>\n",
       "    </tr>\n",
       "    <tr>\n",
       "      <th>23</th>\n",
       "      <td>x</td>\n",
       "    </tr>\n",
       "    <tr>\n",
       "      <th>24</th>\n",
       "      <td>y</td>\n",
       "    </tr>\n",
       "    <tr>\n",
       "      <th>25</th>\n",
       "      <td>z</td>\n",
       "    </tr>\n",
       "    <tr>\n",
       "      <th>26</th>\n",
       "      <td>NaN</td>\n",
       "    </tr>\n",
       "  </tbody>\n",
       "</table>\n",
       "</div>"
      ],
      "text/plain": [
       "      0\n",
       "1     b\n",
       "2     c\n",
       "3     e\n",
       "4     d\n",
       "5     f\n",
       "6     g\n",
       "7     h\n",
       "8     i\n",
       "9     j\n",
       "10    k\n",
       "11    l\n",
       "12    m\n",
       "13    n\n",
       "14    o\n",
       "15    p\n",
       "16    q\n",
       "17    r\n",
       "18    s\n",
       "19    t\n",
       "20    u\n",
       "21    v\n",
       "22    w\n",
       "23    x\n",
       "24    y\n",
       "25    z\n",
       "26  NaN"
      ]
     },
     "execution_count": 136,
     "metadata": {},
     "output_type": "execute_result"
    }
   ],
   "source": [
    "\n",
    "serie1 = pd.Series(lista)\n",
    "serie2 = pd.Series(arr)\n",
    "\n",
    "df = pd.concat([serie1, serie2], axis=1 )\n",
    "\n",
    "pd.DataFrame(data=serie1, index=arr)"
   ]
  },
  {
   "cell_type": "markdown",
   "metadata": {
    "id": "JdfmN01ND6vg"
   },
   "source": [
    "## 6 - Obtenga los items de la serie A no presentes en la serie B\n",
    "`pista: ~ y isin(...)`\n"
   ]
  },
  {
   "cell_type": "code",
   "execution_count": 137,
   "metadata": {
    "colab": {
     "base_uri": "https://localhost:8080/"
    },
    "executionInfo": {
     "elapsed": 232,
     "status": "ok",
     "timestamp": 1652976299810,
     "user": {
      "displayName": "Jose Antonio Lagares Rodriguez",
      "userId": "00469018537825658051"
     },
     "user_tz": -120
    },
    "id": "8xr4xJ_GEHRx",
    "outputId": "f9cce8b9-6c68-4325-ce25-72377d83fe25"
   },
   "outputs": [],
   "source": [
    "# Entrada\n",
    "ser1 = pd.Series([1, 2, 3, 4, 5])\n",
    "ser2 = pd.Series([4, 5, 6, 7, 8])\n",
    "indice = 0\n",
    "\n",
    "for indice, (numeros1, numeros2) in enumerate(zip(ser1, ser2)):\n",
    "    if numeros1 == numeros2:\n",
    "     print(f\"{numeros1} se encuentra en ambas listas en el índice {indice}\")"
   ]
  },
  {
   "cell_type": "markdown",
   "metadata": {
    "id": "Ty5yJPsIEO8p"
   },
   "source": [
    "## 7 - Obtenga la unión e intersección de dos series A y B.\n",
    "`pista: union1d(...) y intersect1d(...) `"
   ]
  },
  {
   "cell_type": "code",
   "execution_count": 138,
   "metadata": {
    "colab": {
     "base_uri": "https://localhost:8080/"
    },
    "executionInfo": {
     "elapsed": 233,
     "status": "ok",
     "timestamp": 1652976431784,
     "user": {
      "displayName": "Jose Antonio Lagares Rodriguez",
      "userId": "00469018537825658051"
     },
     "user_tz": -120
    },
    "id": "SNCp-SYIEkYx",
    "outputId": "bf77b373-11f3-480c-cc63-c2c61bc4b699"
   },
   "outputs": [
    {
     "name": "stdout",
     "output_type": "stream",
     "text": [
      "0     True\n",
      "1     True\n",
      "2     True\n",
      "3     True\n",
      "4    False\n",
      "dtype: bool\n"
     ]
    }
   ],
   "source": [
    "# Entrada\n",
    "ser1 = pd.Series([1, 2, 3, 4, 5])\n",
    "ser2 = pd.Series([4, 5, 6, 7, 8])\n",
    "\n",
    "serie_a = pd.Series([1, 2, 3, 4, 5])\n",
    "serie_b= pd.Series([4, 5, 6, 7, 8])\n",
    "\n",
    "df = serie_a.apply(lambda x: True if (x in serie_b) else False)\n",
    "print(df)\n"
   ]
  },
  {
   "cell_type": "markdown",
   "metadata": {
    "id": "8BY76KjLEvjY"
   },
   "source": [
    "## 8 - Obtenga el valor mínimo, el percentil 25, la mediana, el percentil 75 y el máximo de una serie\n",
    "`pista: percentile(...)`"
   ]
  },
  {
   "cell_type": "code",
   "execution_count": 139,
   "metadata": {
    "colab": {
     "base_uri": "https://localhost:8080/"
    },
    "executionInfo": {
     "elapsed": 3,
     "status": "ok",
     "timestamp": 1652976598792,
     "user": {
      "displayName": "Jose Antonio Lagares Rodriguez",
      "userId": "00469018537825658051"
     },
     "user_tz": -120
    },
    "id": "BXKba2x1EvTA",
    "outputId": "6a29a1ae-f8bb-45e8-8bf0-9c69dc126cd0"
   },
   "outputs": [
    {
     "name": "stdout",
     "output_type": "stream",
     "text": [
      "El valor mínimo es:  1 // El percentil 25 8 // La mediana es:  11 // El percentil 75 13 // El máximo es:  18 /\n"
     ]
    }
   ],
   "source": [
    "# Entrada\n",
    "serie_ejemplo = np.random.RandomState(100)\n",
    "serie_ejemplo = pd.Series(serie_ejemplo.normal(10, 5, 25))\n",
    "\n",
    "print(\n",
    "\"El valor mínimo es: \", round(min(serie_ejemplo)),\n",
    "\"// El percentil 25\", round(np.percentile(serie_ejemplo, 25)), #?\n",
    "\"// La mediana es: \", round(np.median(serie_ejemplo)),\n",
    "\"// El percentil 75\", round(np.percentile(serie_ejemplo, 75)), #?\n",
    "\"// El máximo es: \", round(max(serie_ejemplo)),\"/\", \n",
    ")\n",
    "\n"
   ]
  },
  {
   "cell_type": "markdown",
   "metadata": {
    "id": "uTg0Cd-YFXgZ"
   },
   "source": [
    "## 9 - Obtenga la frecuencia de aparición de los elementos de una lista.\n",
    "\n",
    "`pista: value_counts()`"
   ]
  },
  {
   "cell_type": "code",
   "execution_count": 140,
   "metadata": {
    "colab": {
     "base_uri": "https://localhost:8080/"
    },
    "executionInfo": {
     "elapsed": 272,
     "status": "ok",
     "timestamp": 1652976834935,
     "user": {
      "displayName": "Jose Antonio Lagares Rodriguez",
      "userId": "00469018537825658051"
     },
     "user_tz": -120
    },
    "id": "KDgoEL4hGHLw",
    "outputId": "fd10aff6-31a3-4dcb-a6d0-1e12efe0745c"
   },
   "outputs": [
    {
     "name": "stdout",
     "output_type": "stream",
     "text": [
      "Únicos:     ['a' 'b' 'c' 'd' 'e' 'f' 'g' 'h']\n",
      "Frecuencia: [3 2 6 6 1 3 5 4]\n"
     ]
    }
   ],
   "source": [
    "# Entrada\n",
    "serie = pd.Series(np.take(list('abcdefghijklmnoprstuvwxyz'), np.random.randint(8, size=30)))\n",
    "\n",
    "(unico, contados) = np.unique(serie, return_counts=True)\n",
    "print(f'Únicos:     {unico}'), \n",
    "print(f'Frecuencia: {contados}')"
   ]
  },
  {
   "cell_type": "markdown",
   "metadata": {
    "id": "fSQV8Rq3GSvo"
   },
   "source": [
    "## 10 - Mantenga de una lista los 3 términos que más aparecen. Renombre el resto de elementos a \"otros\".\n",
    "`pista: isin(...)`"
   ]
  },
  {
   "cell_type": "code",
   "execution_count": 141,
   "metadata": {
    "colab": {
     "base_uri": "https://localhost:8080/"
    },
    "executionInfo": {
     "elapsed": 238,
     "status": "ok",
     "timestamp": 1652976954199,
     "user": {
      "displayName": "Jose Antonio Lagares Rodriguez",
      "userId": "00469018537825658051"
     },
     "user_tz": -120
    },
    "id": "Um-pARKeGkxI",
    "outputId": "8e9e31d0-16db-477b-e065-17c0b6238f47"
   },
   "outputs": [
    {
     "data": {
      "text/plain": [
       "[2, 3, 1]"
      ]
     },
     "execution_count": 141,
     "metadata": {},
     "output_type": "execute_result"
    }
   ],
   "source": [
    "# Entrada\n",
    "np.random.RandomState(100)\n",
    "ser = pd.Series(np.random.randint(1, 5, [12]))\n",
    "top3 = list(ser.value_counts(normalize=True)\n",
    "[:3].index)\n",
    "top3\n"
   ]
  },
  {
   "cell_type": "markdown",
   "metadata": {
    "id": "nqbwIEVlGzkQ"
   },
   "source": [
    "## 11 - Convierta una serie en un `dataframe` con 5 filas y 3 columnas.\n",
    "`pista: reshape(filas, columnas) `"
   ]
  },
  {
   "cell_type": "code",
   "execution_count": 142,
   "metadata": {
    "colab": {
     "base_uri": "https://localhost:8080/"
    },
    "executionInfo": {
     "elapsed": 214,
     "status": "ok",
     "timestamp": 1652977078917,
     "user": {
      "displayName": "Jose Antonio Lagares Rodriguez",
      "userId": "00469018537825658051"
     },
     "user_tz": -120
    },
    "id": "QEURuJS4HDz_",
    "outputId": "a6f6fc71-40f9-45a2-8ef8-ea0f9d92fe27"
   },
   "outputs": [],
   "source": [
    "# Entrada\n",
    "ser = pd.Series(np.random.randint(1, 10, 15))"
   ]
  },
  {
   "cell_type": "markdown",
   "metadata": {
    "id": "QOjpQDvrHNsA"
   },
   "source": [
    "## 12 - Extraer las de una serie dado una lista de posiciones.\n",
    "`pista: take(...)`"
   ]
  },
  {
   "cell_type": "code",
   "execution_count": 143,
   "metadata": {
    "colab": {
     "base_uri": "https://localhost:8080/"
    },
    "executionInfo": {
     "elapsed": 238,
     "status": "ok",
     "timestamp": 1652977357147,
     "user": {
      "displayName": "Jose Antonio Lagares Rodriguez",
      "userId": "00469018537825658051"
     },
     "user_tz": -120
    },
    "id": "kYOj55itHV_w",
    "outputId": "3aaa89e9-a035-411a-dc6f-40491ed31571"
   },
   "outputs": [
    {
     "data": {
      "text/plain": [
       "0     a\n",
       "1     b\n",
       "2     c\n",
       "25    z\n",
       "3     d\n",
       "dtype: object"
      ]
     },
     "execution_count": 143,
     "metadata": {},
     "output_type": "execute_result"
    }
   ],
   "source": [
    "# Entrada\n",
    "ser = pd.Series(list('abcdefghijklmnopqrstuvwxyz'))\n",
    "pos = [0, 1, 2, 25, 3]\n",
    "\n",
    "ser.take(pos)"
   ]
  },
  {
   "cell_type": "markdown",
   "metadata": {
    "id": "kYMHM1hxKIuP"
   },
   "source": [
    "## 13 - Obtener la posición de los items de la serie A en otra serie B.\n",
    "\n",
    "`pista: where(...)`"
   ]
  },
  {
   "cell_type": "code",
   "execution_count": 144,
   "metadata": {
    "colab": {
     "base_uri": "https://localhost:8080/"
    },
    "executionInfo": {
     "elapsed": 228,
     "status": "ok",
     "timestamp": 1652977980908,
     "user": {
      "displayName": "Jose Antonio Lagares Rodriguez",
      "userId": "00469018537825658051"
     },
     "user_tz": -120
    },
    "id": "8w53UEPWKiKf",
    "outputId": "2b0c9197-4036-4f78-e70e-0db53c30c7be"
   },
   "outputs": [
    {
     "name": "stdout",
     "output_type": "stream",
     "text": [
      "[False]\n",
      "   col1  col2  equal\n",
      "0   NaN   NaN  False\n"
     ]
    }
   ],
   "source": [
    "# Entrada\n",
    "ser1 = pd.Series([10, 9, 6, 5, 3, 1, 12, 8, 13])\n",
    "ser2 = pd.Series([1, 3, 10, 13])\n",
    "\n",
    "df = pd.DataFrame([ser1, ], columns = [\"col1\", \"col2\"])\n",
    "comparison_column = np.where(df[\"col1\"] == df[\"col2\"], True, False)\n",
    "print(comparison_column)\n",
    "df[\"equal\"] = comparison_column\n",
    "\n",
    "print(df)\n"
   ]
  },
  {
   "cell_type": "markdown",
   "metadata": {
    "id": "soGUeNe9K0H3"
   },
   "source": [
    "### 14 - Calcule el Error Cuadrático Medio (SME en inglés) de dadas dos series.\n",
    "`pista: mean(...)`"
   ]
  },
  {
   "cell_type": "code",
   "execution_count": 145,
   "metadata": {
    "colab": {
     "base_uri": "https://localhost:8080/"
    },
    "executionInfo": {
     "elapsed": 219,
     "status": "ok",
     "timestamp": 1652978118064,
     "user": {
      "displayName": "Jose Antonio Lagares Rodriguez",
      "userId": "00469018537825658051"
     },
     "user_tz": -120
    },
    "id": "El1Rhy9aLBb3",
    "outputId": "e0c65728-28a9-42e0-d7a2-bc9d27306c98"
   },
   "outputs": [
    {
     "data": {
      "text/plain": [
       "0.3968987635440465"
      ]
     },
     "execution_count": 145,
     "metadata": {},
     "output_type": "execute_result"
    }
   ],
   "source": [
    "# Entrada\n",
    "verdad = pd.Series(range(10))\n",
    "prediccion = pd.Series(range(10)) + np.random.random(10)\n",
    "\n",
    "def mse (verdad, prediccion):\n",
    "    verdad, prediccion = np.array (verdad), np.array (prediccion)\n",
    "    return np.square(np.subtract (verdad, prediccion)).mean () \n",
    "\n",
    "mse(verdad, prediccion)\n",
    "\n"
   ]
  },
  {
   "cell_type": "markdown",
   "metadata": {
    "id": "x399L8D3LJgX"
   },
   "source": [
    " ## 15 - Convertir el primer caracter de una serie en mayuúscula.\n",
    "\n",
    "`pista: title()`"
   ]
  },
  {
   "cell_type": "code",
   "execution_count": 167,
   "metadata": {
    "colab": {
     "base_uri": "https://localhost:8080/"
    },
    "executionInfo": {
     "elapsed": 219,
     "status": "ok",
     "timestamp": 1652978220332,
     "user": {
      "displayName": "Jose Antonio Lagares Rodriguez",
      "userId": "00469018537825658051"
     },
     "user_tz": -120
    },
    "id": "KZlQ6kF4LXfW",
    "outputId": "2bd3c000-25bd-4a44-9b27-31d7038d3327"
   },
   "outputs": [
    {
     "ename": "AttributeError",
     "evalue": "'Series' object has no attribute 'capwords'",
     "output_type": "error",
     "traceback": [
      "\u001b[0;31m---------------------------------------------------------------------------\u001b[0m",
      "\u001b[0;31mAttributeError\u001b[0m                            Traceback (most recent call last)",
      "\u001b[0;32m<ipython-input-167-674491c699cc>\u001b[0m in \u001b[0;36m<module>\u001b[0;34m\u001b[0m\n\u001b[1;32m      2\u001b[0m \u001b[0;32mimport\u001b[0m \u001b[0mstring\u001b[0m\u001b[0;34m\u001b[0m\u001b[0;34m\u001b[0m\u001b[0m\n\u001b[1;32m      3\u001b[0m \u001b[0mser\u001b[0m \u001b[0;34m=\u001b[0m \u001b[0mpd\u001b[0m\u001b[0;34m.\u001b[0m\u001b[0mSeries\u001b[0m\u001b[0;34m(\u001b[0m\u001b[0;34m[\u001b[0m\u001b[0;34m'hola'\u001b[0m\u001b[0;34m,\u001b[0m \u001b[0;34m'me'\u001b[0m\u001b[0;34m,\u001b[0m \u001b[0;34m'llamo'\u001b[0m\u001b[0;34m,\u001b[0m \u001b[0;34m'Antonio'\u001b[0m\u001b[0;34m]\u001b[0m\u001b[0;34m)\u001b[0m\u001b[0;34m\u001b[0m\u001b[0;34m\u001b[0m\u001b[0m\n\u001b[0;32m----> 4\u001b[0;31m \u001b[0mser\u001b[0m\u001b[0;34m.\u001b[0m\u001b[0mcapwords\u001b[0m\u001b[0;34m\u001b[0m\u001b[0;34m\u001b[0m\u001b[0m\n\u001b[0m\u001b[1;32m      5\u001b[0m \u001b[0;34m\u001b[0m\u001b[0m\n",
      "\u001b[0;32m~/.local/lib/python3.8/site-packages/pandas/core/generic.py\u001b[0m in \u001b[0;36m__getattr__\u001b[0;34m(self, name)\u001b[0m\n\u001b[1;32m   5573\u001b[0m         ):\n\u001b[1;32m   5574\u001b[0m             \u001b[0;32mreturn\u001b[0m \u001b[0mself\u001b[0m\u001b[0;34m[\u001b[0m\u001b[0mname\u001b[0m\u001b[0;34m]\u001b[0m\u001b[0;34m\u001b[0m\u001b[0;34m\u001b[0m\u001b[0m\n\u001b[0;32m-> 5575\u001b[0;31m         \u001b[0;32mreturn\u001b[0m \u001b[0mobject\u001b[0m\u001b[0;34m.\u001b[0m\u001b[0m__getattribute__\u001b[0m\u001b[0;34m(\u001b[0m\u001b[0mself\u001b[0m\u001b[0;34m,\u001b[0m \u001b[0mname\u001b[0m\u001b[0;34m)\u001b[0m\u001b[0;34m\u001b[0m\u001b[0;34m\u001b[0m\u001b[0m\n\u001b[0m\u001b[1;32m   5576\u001b[0m \u001b[0;34m\u001b[0m\u001b[0m\n\u001b[1;32m   5577\u001b[0m     \u001b[0;32mdef\u001b[0m \u001b[0m__setattr__\u001b[0m\u001b[0;34m(\u001b[0m\u001b[0mself\u001b[0m\u001b[0;34m,\u001b[0m \u001b[0mname\u001b[0m\u001b[0;34m:\u001b[0m \u001b[0mstr\u001b[0m\u001b[0;34m,\u001b[0m \u001b[0mvalue\u001b[0m\u001b[0;34m)\u001b[0m \u001b[0;34m->\u001b[0m \u001b[0;32mNone\u001b[0m\u001b[0;34m:\u001b[0m\u001b[0;34m\u001b[0m\u001b[0;34m\u001b[0m\u001b[0m\n",
      "\u001b[0;31mAttributeError\u001b[0m: 'Series' object has no attribute 'capwords'"
     ]
    }
   ],
   "source": [
    "# Entrada\n",
    "ser = pd.Series(['hola', 'me', 'llamo', 'Antonio'])\n",
    "ser.capwords\n",
    "\n"
   ]
  },
  {
   "cell_type": "markdown",
   "metadata": {
    "id": "EfqMb0R9Lh23"
   },
   "source": [
    "## 16 - Calcular el número de caracteres de cada palabra en una serie.\n",
    "\n",
    "`pista: map(...), lambda(...) y len(...)`"
   ]
  },
  {
   "cell_type": "code",
   "execution_count": 168,
   "metadata": {
    "colab": {
     "base_uri": "https://localhost:8080/"
    },
    "executionInfo": {
     "elapsed": 241,
     "status": "ok",
     "timestamp": 1652978309902,
     "user": {
      "displayName": "Jose Antonio Lagares Rodriguez",
      "userId": "00469018537825658051"
     },
     "user_tz": -120
    },
    "id": "nntVOjLhLyCf",
    "outputId": "7ef2a54f-4f17-4f43-e666-6288b3d78f52"
   },
   "outputs": [],
   "source": [
    "# Entrada\n",
    "ser = pd.Series(['hola', 'me', 'llamo', 'Antonio'])\n",
    "\n",
    "\n"
   ]
  },
  {
   "cell_type": "markdown",
   "metadata": {
    "id": "cha-gJwdL-TW"
   },
   "source": [
    "## 17 - Dada una serie de fechas escritas como cadenas, páselas a `timeseries`.\n",
    "\n",
    "`pista: to_datetime`\n",
    "\n",
    "`serie de ejemplo: ser = pd.Series(['01 Feb 2012', '02-03-2011', '20150503', '2016/04/04', '2018-05-05', '2018-06-06T12:20'])`"
   ]
  },
  {
   "cell_type": "code",
   "execution_count": 180,
   "metadata": {
    "colab": {
     "base_uri": "https://localhost:8080/"
    },
    "executionInfo": {
     "elapsed": 230,
     "status": "ok",
     "timestamp": 1652979913422,
     "user": {
      "displayName": "Jose Antonio Lagares Rodriguez",
      "userId": "00469018537825658051"
     },
     "user_tz": -120
    },
    "id": "oBYASTUCM_aW",
    "outputId": "b5dd01e5-0f6c-4a08-cc89-aa0260395144"
   },
   "outputs": [
    {
     "data": {
      "text/plain": [
       "0   2012-02-01 00:00:00\n",
       "1   2011-02-03 00:00:00\n",
       "2   2015-05-03 00:00:00\n",
       "3   2016-04-04 00:00:00\n",
       "4   2018-05-05 00:00:00\n",
       "5   2018-06-06 12:20:00\n",
       "dtype: datetime64[ns]"
      ]
     },
     "execution_count": 180,
     "metadata": {},
     "output_type": "execute_result"
    }
   ],
   "source": [
    "# Entrada\n",
    "ser = pd.Series(['01 Feb 2012', '02-03-2011', '20150503', '2016/04/04', '2018-05-05', '2018-06-06T12:20'])\n",
    "pd.to_datetime(ser)"
   ]
  },
  {
   "cell_type": "code",
   "execution_count": 181,
   "metadata": {},
   "outputs": [
    {
     "ename": "ValueError",
     "evalue": "'0         01 Feb 2012\n1          02-03-2011\n2            20150503\n3          2016/04/04\n4          2018-05-05\n5    2018-06-06T12:20\ndtype: object' is not compatible with origin='1960-01-01 00:00:00'; it must be numeric with a unit specified",
     "output_type": "error",
     "traceback": [
      "\u001b[0;31m---------------------------------------------------------------------------\u001b[0m",
      "\u001b[0;31mValueError\u001b[0m                                Traceback (most recent call last)",
      "\u001b[0;32m<ipython-input-181-d4949f396f8f>\u001b[0m in \u001b[0;36m<module>\u001b[0;34m\u001b[0m\n\u001b[0;32m----> 1\u001b[0;31m \u001b[0mpd\u001b[0m\u001b[0;34m.\u001b[0m\u001b[0mto_datetime\u001b[0m\u001b[0;34m(\u001b[0m\u001b[0mser\u001b[0m\u001b[0;34m,\u001b[0m \u001b[0morigin\u001b[0m\u001b[0;34m=\u001b[0m\u001b[0mpd\u001b[0m\u001b[0;34m.\u001b[0m\u001b[0mTimestamp\u001b[0m\u001b[0;34m(\u001b[0m\u001b[0;34m'01-01-1960'\u001b[0m\u001b[0;34m)\u001b[0m\u001b[0;34m)\u001b[0m\u001b[0;34m\u001b[0m\u001b[0;34m\u001b[0m\u001b[0m\n\u001b[0m",
      "\u001b[0;32m~/.local/lib/python3.8/site-packages/pandas/core/tools/datetimes.py\u001b[0m in \u001b[0;36mto_datetime\u001b[0;34m(arg, errors, dayfirst, yearfirst, utc, format, exact, unit, infer_datetime_format, origin, cache)\u001b[0m\n\u001b[1;32m   1021\u001b[0m \u001b[0;34m\u001b[0m\u001b[0m\n\u001b[1;32m   1022\u001b[0m     \u001b[0;32mif\u001b[0m \u001b[0morigin\u001b[0m \u001b[0;34m!=\u001b[0m \u001b[0;34m\"unix\"\u001b[0m\u001b[0;34m:\u001b[0m\u001b[0;34m\u001b[0m\u001b[0;34m\u001b[0m\u001b[0m\n\u001b[0;32m-> 1023\u001b[0;31m         \u001b[0marg\u001b[0m \u001b[0;34m=\u001b[0m \u001b[0m_adjust_to_origin\u001b[0m\u001b[0;34m(\u001b[0m\u001b[0marg\u001b[0m\u001b[0;34m,\u001b[0m \u001b[0morigin\u001b[0m\u001b[0;34m,\u001b[0m \u001b[0munit\u001b[0m\u001b[0;34m)\u001b[0m\u001b[0;34m\u001b[0m\u001b[0;34m\u001b[0m\u001b[0m\n\u001b[0m\u001b[1;32m   1024\u001b[0m \u001b[0;34m\u001b[0m\u001b[0m\n\u001b[1;32m   1025\u001b[0m     \u001b[0mtz\u001b[0m \u001b[0;34m=\u001b[0m \u001b[0;34m\"utc\"\u001b[0m \u001b[0;32mif\u001b[0m \u001b[0mutc\u001b[0m \u001b[0;32melse\u001b[0m \u001b[0;32mNone\u001b[0m\u001b[0;34m\u001b[0m\u001b[0;34m\u001b[0m\u001b[0m\n",
      "\u001b[0;32m~/.local/lib/python3.8/site-packages/pandas/core/tools/datetimes.py\u001b[0m in \u001b[0;36m_adjust_to_origin\u001b[0;34m(arg, origin, unit)\u001b[0m\n\u001b[1;32m    595\u001b[0m             \u001b[0;32mor\u001b[0m \u001b[0mis_numeric_dtype\u001b[0m\u001b[0;34m(\u001b[0m\u001b[0mnp\u001b[0m\u001b[0;34m.\u001b[0m\u001b[0masarray\u001b[0m\u001b[0;34m(\u001b[0m\u001b[0marg\u001b[0m\u001b[0;34m)\u001b[0m\u001b[0;34m)\u001b[0m\u001b[0;34m\u001b[0m\u001b[0;34m\u001b[0m\u001b[0m\n\u001b[1;32m    596\u001b[0m         ):\n\u001b[0;32m--> 597\u001b[0;31m             raise ValueError(\n\u001b[0m\u001b[1;32m    598\u001b[0m                 \u001b[0;34mf\"'{arg}' is not compatible with origin='{origin}'; \"\u001b[0m\u001b[0;34m\u001b[0m\u001b[0;34m\u001b[0m\u001b[0m\n\u001b[1;32m    599\u001b[0m                 \u001b[0;34m\"it must be numeric with a unit specified\"\u001b[0m\u001b[0;34m\u001b[0m\u001b[0;34m\u001b[0m\u001b[0m\n",
      "\u001b[0;31mValueError\u001b[0m: '0         01 Feb 2012\n1          02-03-2011\n2            20150503\n3          2016/04/04\n4          2018-05-05\n5    2018-06-06T12:20\ndtype: object' is not compatible with origin='1960-01-01 00:00:00'; it must be numeric with a unit specified"
     ]
    }
   ],
   "source": [
    "pd.to_datetime(ser, origin=pd.Timestamp('01-01-1960'))"
   ]
  },
  {
   "cell_type": "markdown",
   "metadata": {
    "id": "hMpVwc3lB5tw"
   },
   "source": [
    "## 18 - Obtenga el día del mes, el número de la semana y el día del año a partir de una serie de cadenas de fechas.\n",
    "`pista: day.tolist(), weekofyear.tolist() y dayofyear.tolist() `\n",
    "\n",
    "`serie de ejemplo: ser = pd.Series(['01 Feb 2012', '02-03-2011', '20150503', '2016/04/04', '2018-05-05', '2018-06-06T12:20'])`\n",
    "\n"
   ]
  },
  {
   "cell_type": "code",
   "execution_count": 208,
   "metadata": {
    "colab": {
     "base_uri": "https://localhost:8080/"
    },
    "executionInfo": {
     "elapsed": 244,
     "status": "ok",
     "timestamp": 1652980166414,
     "user": {
      "displayName": "Jose Antonio Lagares Rodriguez",
      "userId": "00469018537825658051"
     },
     "user_tz": -120
    },
    "id": "1QD83x5VSag1",
    "outputId": "ae48efac-03ea-46ca-dd92-e4943ac28504"
   },
   "outputs": [
    {
     "ename": "NameError",
     "evalue": "name 'sort' is not defined",
     "output_type": "error",
     "traceback": [
      "\u001b[0;31m---------------------------------------------------------------------------\u001b[0m",
      "\u001b[0;31mNameError\u001b[0m                                 Traceback (most recent call last)",
      "\u001b[0;32m<ipython-input-208-fbec1167a608>\u001b[0m in \u001b[0;36m<module>\u001b[0;34m\u001b[0m\n\u001b[1;32m      3\u001b[0m \u001b[0mser\u001b[0m \u001b[0;34m=\u001b[0m \u001b[0mpd\u001b[0m\u001b[0;34m.\u001b[0m\u001b[0mSeries\u001b[0m\u001b[0;34m(\u001b[0m\u001b[0;34m[\u001b[0m\u001b[0;34m'01 Feb 2012'\u001b[0m\u001b[0;34m,\u001b[0m \u001b[0;34m'02-03-2011'\u001b[0m\u001b[0;34m,\u001b[0m \u001b[0;34m'20150503'\u001b[0m\u001b[0;34m,\u001b[0m \u001b[0;34m'2016/04/04'\u001b[0m\u001b[0;34m,\u001b[0m \u001b[0;34m'2018-05-05'\u001b[0m\u001b[0;34m,\u001b[0m \u001b[0;34m'2018-06-06T12:20'\u001b[0m\u001b[0;34m]\u001b[0m\u001b[0;34m)\u001b[0m\u001b[0;34m\u001b[0m\u001b[0;34m\u001b[0m\u001b[0m\n\u001b[1;32m      4\u001b[0m \u001b[0mfechas\u001b[0m \u001b[0;34m=\u001b[0m \u001b[0mpd\u001b[0m\u001b[0;34m.\u001b[0m\u001b[0mto_datetime\u001b[0m\u001b[0;34m(\u001b[0m\u001b[0mser\u001b[0m\u001b[0;34m)\u001b[0m\u001b[0;34m\u001b[0m\u001b[0;34m\u001b[0m\u001b[0m\n\u001b[0;32m----> 5\u001b[0;31m \u001b[0msort\u001b[0m\u001b[0;34m(\u001b[0m\u001b[0mfechas\u001b[0m\u001b[0;34m)\u001b[0m\u001b[0;34m\u001b[0m\u001b[0;34m\u001b[0m\u001b[0m\n\u001b[0m\u001b[1;32m      6\u001b[0m \u001b[0;34m\u001b[0m\u001b[0m\n\u001b[1;32m      7\u001b[0m \u001b[0;34m\u001b[0m\u001b[0m\n",
      "\u001b[0;31mNameError\u001b[0m: name 'sort' is not defined"
     ]
    }
   ],
   "source": [
    "# Entrada\n",
    "import calendar\n",
    "ser = pd.Series(['01 Feb 2012', '02-03-2011', '20150503', '2016/04/04', '2018-05-05', '2018-06-06T12:20'])\n",
    "fechas = pd.to_datetime(ser)\n",
    "\n"
   ]
  },
  {
   "cell_type": "markdown",
   "metadata": {
    "id": "f5oJitufRGh0"
   },
   "source": [
    "## 19 - Dado una lista de \"mes año\", indique el día 15 de cada mes.\n",
    "`pista: parse(...) `\n",
    "\n",
    "`serie = pd.Series(['Jan 2018', 'Feb 2018', 'Nov 2018'])`"
   ]
  },
  {
   "cell_type": "code",
   "execution_count": null,
   "metadata": {
    "colab": {
     "base_uri": "https://localhost:8080/"
    },
    "executionInfo": {
     "elapsed": 3,
     "status": "ok",
     "timestamp": 1652980708025,
     "user": {
      "displayName": "Jose Antonio Lagares Rodriguez",
      "userId": "00469018537825658051"
     },
     "user_tz": -120
    },
    "id": "MImVz7VUUgok",
    "outputId": "e3eb86f1-e3fa-4269-ea20-48a34033fa94"
   },
   "outputs": [],
   "source": [
    "import pandas as pd\n",
    "import calendar\n",
    "\n",
    "serie = pd.Series(['Jan 2010', 'Feb 2011', 'Nov 2012'])\n",
    "\n"
   ]
  },
  {
   "cell_type": "markdown",
   "metadata": {
    "id": "GrJNMRWhRHdx"
   },
   "source": [
    "## 20 - Filtrar emails dada una expresión regular de una serie de emails.\n",
    "`pista: match(...) `\n",
    "\n",
    "`patron ='[A-Za-z0-9._%+-]+@[A-Za-z0-9.-]+\\\\.[A-Za-z]{2,4}'`"
   ]
  },
  {
   "cell_type": "code",
   "execution_count": 212,
   "metadata": {
    "colab": {
     "base_uri": "https://localhost:8080/"
    },
    "executionInfo": {
     "elapsed": 220,
     "status": "ok",
     "timestamp": 1652981195838,
     "user": {
      "displayName": "Jose Antonio Lagares Rodriguez",
      "userId": "00469018537825658051"
     },
     "user_tz": -120
    },
    "id": "2SipSsteWDvD",
    "outputId": "ad45e7af-df12-4273-c5ff-c85222ad7177"
   },
   "outputs": [
    {
     "name": "stdout",
     "output_type": "stream",
     "text": [
      "[]\n"
     ]
    }
   ],
   "source": [
    "# Entrada\n",
    "emails = pd.Series(['Compra libros en amazom.com', 'asdfageses@egydfpt.com', 'mad@t.co', 'ndfgfsra@gmail.com'])\n",
    "\n",
    "# # Solución\n",
    "# import re\n",
    "# patron ='[A-Za-z0-9._%+-]+@[A-Za-z0-9.-]+\\\\.[A-Za-z]{2,4}'\n",
    "# mascara = emails.map(lambda x: bool(re.match(patron, x)))\n",
    "# emails[mascara]\n",
    "\n",
    "\n",
    "mails_filtrados= []\n",
    "for i in mails_filtrados:\n",
    "    if i[i.find(\"@\") : ] not in mails_filtrados:\n",
    "        mails_filtrados.append(i[i.find(\"@\") : ])\n",
    "print(mails_filtrados)\n",
    "\n"
   ]
  },
  {
   "cell_type": "markdown",
   "metadata": {
    "id": "dk5GimeGRIhM"
   },
   "source": [
    "## 21 - Dentro de una serie, reemplace los espacios que faltan en una cadena con el carácter menos frecuente.\n",
    "`pista:  value_counts(), dropna()`\n",
    "\n",
    "`entrada: cadena = 'dsdf eeee fsdf dfs'`\n"
   ]
  },
  {
   "cell_type": "code",
   "execution_count": 216,
   "metadata": {
    "colab": {
     "base_uri": "https://localhost:8080/",
     "height": 174
    },
    "executionInfo": {
     "elapsed": 8,
     "status": "ok",
     "timestamp": 1652981432766,
     "user": {
      "displayName": "Jose Antonio Lagares Rodriguez",
      "userId": "00469018537825658051"
     },
     "user_tz": -120
    },
    "id": "IK9y00XVXmjC",
    "outputId": "cde1fdfb-5b93-48e1-e929-7a4d8c3d07d3"
   },
   "outputs": [
    {
     "ename": "AttributeError",
     "evalue": "'str' object has no attribute 'dropna'",
     "output_type": "error",
     "traceback": [
      "\u001b[0;31m---------------------------------------------------------------------------\u001b[0m",
      "\u001b[0;31mAttributeError\u001b[0m                            Traceback (most recent call last)",
      "\u001b[0;32m<ipython-input-216-856d264c797f>\u001b[0m in \u001b[0;36m<module>\u001b[0;34m\u001b[0m\n\u001b[1;32m      3\u001b[0m \u001b[0;34m\u001b[0m\u001b[0m\n\u001b[1;32m      4\u001b[0m \u001b[0mpd\u001b[0m\u001b[0;34m.\u001b[0m\u001b[0mvalue_counts\u001b[0m\u001b[0;34m(\u001b[0m\u001b[0mcadena\u001b[0m\u001b[0;34m)\u001b[0m\u001b[0;34m\u001b[0m\u001b[0;34m\u001b[0m\u001b[0m\n\u001b[0;32m----> 5\u001b[0;31m \u001b[0mcadena\u001b[0m\u001b[0;34m.\u001b[0m\u001b[0mdropna\u001b[0m\u001b[0;34m(\u001b[0m\u001b[0;34m)\u001b[0m\u001b[0;34m\u001b[0m\u001b[0;34m\u001b[0m\u001b[0m\n\u001b[0m\u001b[1;32m      6\u001b[0m \u001b[0;34m\u001b[0m\u001b[0m\n",
      "\u001b[0;31mAttributeError\u001b[0m: 'str' object has no attribute 'dropna'"
     ]
    }
   ],
   "source": [
    "# Entrada\n",
    "cadena = 'dsdf eeee fsdf dfs'\n",
    "\n",
    "pd.value_counts(cadena)\n",
    ")\n",
    "\n"
   ]
  },
  {
   "cell_type": "markdown",
   "metadata": {
    "id": "j1xkuxLXRJg0"
   },
   "source": [
    "## 22 - Lea un fichero .csv\n",
    "`pista: read_csv()`\n",
    "\n",
    "`URL: https://raw.githubusercontent.com/selva86/datasets/master/BostonHousing.csv`"
   ]
  },
  {
   "cell_type": "code",
   "execution_count": 221,
   "metadata": {},
   "outputs": [
    {
     "data": {
      "text/html": [
       "<div>\n",
       "<style scoped>\n",
       "    .dataframe tbody tr th:only-of-type {\n",
       "        vertical-align: middle;\n",
       "    }\n",
       "\n",
       "    .dataframe tbody tr th {\n",
       "        vertical-align: top;\n",
       "    }\n",
       "\n",
       "    .dataframe thead th {\n",
       "        text-align: right;\n",
       "    }\n",
       "</style>\n",
       "<table border=\"1\" class=\"dataframe\">\n",
       "  <thead>\n",
       "    <tr style=\"text-align: right;\">\n",
       "      <th></th>\n",
       "      <th>crim</th>\n",
       "      <th>zn</th>\n",
       "      <th>indus</th>\n",
       "      <th>chas</th>\n",
       "      <th>nox</th>\n",
       "      <th>rm</th>\n",
       "      <th>age</th>\n",
       "      <th>dis</th>\n",
       "      <th>rad</th>\n",
       "      <th>tax</th>\n",
       "      <th>ptratio</th>\n",
       "      <th>b</th>\n",
       "      <th>lstat</th>\n",
       "      <th>medv</th>\n",
       "    </tr>\n",
       "  </thead>\n",
       "  <tbody>\n",
       "    <tr>\n",
       "      <th>0</th>\n",
       "      <td>0.00632</td>\n",
       "      <td>18.0</td>\n",
       "      <td>2.31</td>\n",
       "      <td>0</td>\n",
       "      <td>0.538</td>\n",
       "      <td>6.575</td>\n",
       "      <td>65.2</td>\n",
       "      <td>4.0900</td>\n",
       "      <td>1</td>\n",
       "      <td>296</td>\n",
       "      <td>15.3</td>\n",
       "      <td>396.90</td>\n",
       "      <td>4.98</td>\n",
       "      <td>24.0</td>\n",
       "    </tr>\n",
       "    <tr>\n",
       "      <th>1</th>\n",
       "      <td>0.02731</td>\n",
       "      <td>0.0</td>\n",
       "      <td>7.07</td>\n",
       "      <td>0</td>\n",
       "      <td>0.469</td>\n",
       "      <td>6.421</td>\n",
       "      <td>78.9</td>\n",
       "      <td>4.9671</td>\n",
       "      <td>2</td>\n",
       "      <td>242</td>\n",
       "      <td>17.8</td>\n",
       "      <td>396.90</td>\n",
       "      <td>9.14</td>\n",
       "      <td>21.6</td>\n",
       "    </tr>\n",
       "    <tr>\n",
       "      <th>2</th>\n",
       "      <td>0.02729</td>\n",
       "      <td>0.0</td>\n",
       "      <td>7.07</td>\n",
       "      <td>0</td>\n",
       "      <td>0.469</td>\n",
       "      <td>7.185</td>\n",
       "      <td>61.1</td>\n",
       "      <td>4.9671</td>\n",
       "      <td>2</td>\n",
       "      <td>242</td>\n",
       "      <td>17.8</td>\n",
       "      <td>392.83</td>\n",
       "      <td>4.03</td>\n",
       "      <td>34.7</td>\n",
       "    </tr>\n",
       "    <tr>\n",
       "      <th>3</th>\n",
       "      <td>0.03237</td>\n",
       "      <td>0.0</td>\n",
       "      <td>2.18</td>\n",
       "      <td>0</td>\n",
       "      <td>0.458</td>\n",
       "      <td>6.998</td>\n",
       "      <td>45.8</td>\n",
       "      <td>6.0622</td>\n",
       "      <td>3</td>\n",
       "      <td>222</td>\n",
       "      <td>18.7</td>\n",
       "      <td>394.63</td>\n",
       "      <td>2.94</td>\n",
       "      <td>33.4</td>\n",
       "    </tr>\n",
       "    <tr>\n",
       "      <th>4</th>\n",
       "      <td>0.06905</td>\n",
       "      <td>0.0</td>\n",
       "      <td>2.18</td>\n",
       "      <td>0</td>\n",
       "      <td>0.458</td>\n",
       "      <td>7.147</td>\n",
       "      <td>54.2</td>\n",
       "      <td>6.0622</td>\n",
       "      <td>3</td>\n",
       "      <td>222</td>\n",
       "      <td>18.7</td>\n",
       "      <td>396.90</td>\n",
       "      <td>5.33</td>\n",
       "      <td>36.2</td>\n",
       "    </tr>\n",
       "    <tr>\n",
       "      <th>...</th>\n",
       "      <td>...</td>\n",
       "      <td>...</td>\n",
       "      <td>...</td>\n",
       "      <td>...</td>\n",
       "      <td>...</td>\n",
       "      <td>...</td>\n",
       "      <td>...</td>\n",
       "      <td>...</td>\n",
       "      <td>...</td>\n",
       "      <td>...</td>\n",
       "      <td>...</td>\n",
       "      <td>...</td>\n",
       "      <td>...</td>\n",
       "      <td>...</td>\n",
       "    </tr>\n",
       "    <tr>\n",
       "      <th>501</th>\n",
       "      <td>0.06263</td>\n",
       "      <td>0.0</td>\n",
       "      <td>11.93</td>\n",
       "      <td>0</td>\n",
       "      <td>0.573</td>\n",
       "      <td>6.593</td>\n",
       "      <td>69.1</td>\n",
       "      <td>2.4786</td>\n",
       "      <td>1</td>\n",
       "      <td>273</td>\n",
       "      <td>21.0</td>\n",
       "      <td>391.99</td>\n",
       "      <td>9.67</td>\n",
       "      <td>22.4</td>\n",
       "    </tr>\n",
       "    <tr>\n",
       "      <th>502</th>\n",
       "      <td>0.04527</td>\n",
       "      <td>0.0</td>\n",
       "      <td>11.93</td>\n",
       "      <td>0</td>\n",
       "      <td>0.573</td>\n",
       "      <td>6.120</td>\n",
       "      <td>76.7</td>\n",
       "      <td>2.2875</td>\n",
       "      <td>1</td>\n",
       "      <td>273</td>\n",
       "      <td>21.0</td>\n",
       "      <td>396.90</td>\n",
       "      <td>9.08</td>\n",
       "      <td>20.6</td>\n",
       "    </tr>\n",
       "    <tr>\n",
       "      <th>503</th>\n",
       "      <td>0.06076</td>\n",
       "      <td>0.0</td>\n",
       "      <td>11.93</td>\n",
       "      <td>0</td>\n",
       "      <td>0.573</td>\n",
       "      <td>6.976</td>\n",
       "      <td>91.0</td>\n",
       "      <td>2.1675</td>\n",
       "      <td>1</td>\n",
       "      <td>273</td>\n",
       "      <td>21.0</td>\n",
       "      <td>396.90</td>\n",
       "      <td>5.64</td>\n",
       "      <td>23.9</td>\n",
       "    </tr>\n",
       "    <tr>\n",
       "      <th>504</th>\n",
       "      <td>0.10959</td>\n",
       "      <td>0.0</td>\n",
       "      <td>11.93</td>\n",
       "      <td>0</td>\n",
       "      <td>0.573</td>\n",
       "      <td>6.794</td>\n",
       "      <td>89.3</td>\n",
       "      <td>2.3889</td>\n",
       "      <td>1</td>\n",
       "      <td>273</td>\n",
       "      <td>21.0</td>\n",
       "      <td>393.45</td>\n",
       "      <td>6.48</td>\n",
       "      <td>22.0</td>\n",
       "    </tr>\n",
       "    <tr>\n",
       "      <th>505</th>\n",
       "      <td>0.04741</td>\n",
       "      <td>0.0</td>\n",
       "      <td>11.93</td>\n",
       "      <td>0</td>\n",
       "      <td>0.573</td>\n",
       "      <td>6.030</td>\n",
       "      <td>80.8</td>\n",
       "      <td>2.5050</td>\n",
       "      <td>1</td>\n",
       "      <td>273</td>\n",
       "      <td>21.0</td>\n",
       "      <td>396.90</td>\n",
       "      <td>7.88</td>\n",
       "      <td>11.9</td>\n",
       "    </tr>\n",
       "  </tbody>\n",
       "</table>\n",
       "<p>506 rows × 14 columns</p>\n",
       "</div>"
      ],
      "text/plain": [
       "        crim    zn  indus  chas    nox     rm   age     dis  rad  tax  \\\n",
       "0    0.00632  18.0   2.31     0  0.538  6.575  65.2  4.0900    1  296   \n",
       "1    0.02731   0.0   7.07     0  0.469  6.421  78.9  4.9671    2  242   \n",
       "2    0.02729   0.0   7.07     0  0.469  7.185  61.1  4.9671    2  242   \n",
       "3    0.03237   0.0   2.18     0  0.458  6.998  45.8  6.0622    3  222   \n",
       "4    0.06905   0.0   2.18     0  0.458  7.147  54.2  6.0622    3  222   \n",
       "..       ...   ...    ...   ...    ...    ...   ...     ...  ...  ...   \n",
       "501  0.06263   0.0  11.93     0  0.573  6.593  69.1  2.4786    1  273   \n",
       "502  0.04527   0.0  11.93     0  0.573  6.120  76.7  2.2875    1  273   \n",
       "503  0.06076   0.0  11.93     0  0.573  6.976  91.0  2.1675    1  273   \n",
       "504  0.10959   0.0  11.93     0  0.573  6.794  89.3  2.3889    1  273   \n",
       "505  0.04741   0.0  11.93     0  0.573  6.030  80.8  2.5050    1  273   \n",
       "\n",
       "     ptratio       b  lstat  medv  \n",
       "0       15.3  396.90   4.98  24.0  \n",
       "1       17.8  396.90   9.14  21.6  \n",
       "2       17.8  392.83   4.03  34.7  \n",
       "3       18.7  394.63   2.94  33.4  \n",
       "4       18.7  396.90   5.33  36.2  \n",
       "..       ...     ...    ...   ...  \n",
       "501     21.0  391.99   9.67  22.4  \n",
       "502     21.0  396.90   9.08  20.6  \n",
       "503     21.0  396.90   5.64  23.9  \n",
       "504     21.0  393.45   6.48  22.0  \n",
       "505     21.0  396.90   7.88  11.9  \n",
       "\n",
       "[506 rows x 14 columns]"
      ]
     },
     "execution_count": 221,
     "metadata": {},
     "output_type": "execute_result"
    }
   ],
   "source": [
    "import pandas as pd\n",
    "url =\"https://raw.githubusercontent.com/selva86/datasets/master/BostonHousing.csv\"\n",
    "docu=pd.read_csv(url)\n",
    "docu"
   ]
  },
  {
   "cell_type": "markdown",
   "metadata": {
    "id": "H3w1Ny9PRKqU"
   },
   "source": [
    "## 23 - Lea el fichero anterior y si la columna `'medv' (median house value)` es superior a 50 colocar 'high'  y si es menor a 50 colocar 'low'.\n",
    "`pista:  reac_csv(...,converters={})`\n",
    "\n",
    "`URL: https://raw.githubusercontent.com/selva86/datasets/master/BostonHousing.csv`"
   ]
  },
  {
   "cell_type": "code",
   "execution_count": 235,
   "metadata": {},
   "outputs": [
    {
     "ename": "AttributeError",
     "evalue": "'dict' object has no attribute 'insert'",
     "output_type": "error",
     "traceback": [
      "\u001b[0;31m---------------------------------------------------------------------------\u001b[0m",
      "\u001b[0;31mAttributeError\u001b[0m                            Traceback (most recent call last)",
      "\u001b[0;32m<ipython-input-235-cac0c63a2591>\u001b[0m in \u001b[0;36m<module>\u001b[0;34m\u001b[0m\n\u001b[1;32m      3\u001b[0m     \u001b[0mdocu\u001b[0m\u001b[0;34m.\u001b[0m\u001b[0minsert\u001b[0m\u001b[0;34m(\u001b[0m\u001b[0mvalue\u001b[0m\u001b[0;34m=\u001b[0m\u001b[0;34m\"high\"\u001b[0m\u001b[0;34m)\u001b[0m\u001b[0;34m\u001b[0m\u001b[0;34m\u001b[0m\u001b[0m\n\u001b[1;32m      4\u001b[0m \u001b[0;32melse\u001b[0m\u001b[0;34m:\u001b[0m\u001b[0;34m\u001b[0m\u001b[0;34m\u001b[0m\u001b[0m\n\u001b[0;32m----> 5\u001b[0;31m     \u001b[0mdocu\u001b[0m\u001b[0;34m.\u001b[0m\u001b[0minsert\u001b[0m\u001b[0;34m(\u001b[0m\u001b[0mvalue\u001b[0m\u001b[0;34m=\u001b[0m\u001b[0;34m\"Low\"\u001b[0m\u001b[0;34m)\u001b[0m\u001b[0;34m\u001b[0m\u001b[0;34m\u001b[0m\u001b[0m\n\u001b[0m",
      "\u001b[0;31mAttributeError\u001b[0m: 'dict' object has no attribute 'insert'"
     ]
    }
   ],
   "source": [
    "filtrado_medv = docu[\"medv\"]\n",
    "if filtrado_medv in docu > 50 :\n",
    "    docu.insert(value=\"high\")\n",
    "else:\n",
    "    docu.insert(value=\"Low\")\n"
   ]
  },
  {
   "cell_type": "markdown",
   "metadata": {
    "id": "cAm2y6fORMX8"
   },
   "source": [
    "## 24 - Lea el fichero anterior pero solo cargue las columnas 'crim' y 'medv'.\n",
    "`pista: read_csv(...,usecols=[...]) `\n",
    "\n",
    "`URL: https://raw.githubusercontent.com/selva86/datasets/master/BostonHousing.csv`"
   ]
  },
  {
   "cell_type": "code",
   "execution_count": 237,
   "metadata": {},
   "outputs": [],
   "source": [
    "url =\"https://raw.githubusercontent.com/selva86/datasets/master/BostonHousing.csv\"\n",
    "docu=pd.read_csv(url)\n"
   ]
  },
  {
   "cell_type": "markdown",
   "metadata": {
    "id": "X0HpknKdRNjc"
   },
   "source": [
    "## 25 - Lea un fichero CSV y obtenga el número de filas y columnas.\n",
    "`pista:  shape`\n",
    "\n",
    "`URL: https://raw.githubusercontent.com/selva86/datasets/master/BostonHousing.csv`"
   ]
  },
  {
   "cell_type": "code",
   "execution_count": 245,
   "metadata": {},
   "outputs": [
    {
     "data": {
      "text/plain": [
       "<bound method DataFrame.info of         crim    zn  indus  chas    nox     rm   age     dis  rad  tax  \\\n",
       "0    0.00632  18.0   2.31     0  0.538  6.575  65.2  4.0900    1  296   \n",
       "1    0.02731   0.0   7.07     0  0.469  6.421  78.9  4.9671    2  242   \n",
       "2    0.02729   0.0   7.07     0  0.469  7.185  61.1  4.9671    2  242   \n",
       "3    0.03237   0.0   2.18     0  0.458  6.998  45.8  6.0622    3  222   \n",
       "4    0.06905   0.0   2.18     0  0.458  7.147  54.2  6.0622    3  222   \n",
       "..       ...   ...    ...   ...    ...    ...   ...     ...  ...  ...   \n",
       "501  0.06263   0.0  11.93     0  0.573  6.593  69.1  2.4786    1  273   \n",
       "502  0.04527   0.0  11.93     0  0.573  6.120  76.7  2.2875    1  273   \n",
       "503  0.06076   0.0  11.93     0  0.573  6.976  91.0  2.1675    1  273   \n",
       "504  0.10959   0.0  11.93     0  0.573  6.794  89.3  2.3889    1  273   \n",
       "505  0.04741   0.0  11.93     0  0.573  6.030  80.8  2.5050    1  273   \n",
       "\n",
       "     ptratio       b  lstat  medv  \n",
       "0       15.3  396.90   4.98  24.0  \n",
       "1       17.8  396.90   9.14  21.6  \n",
       "2       17.8  392.83   4.03  34.7  \n",
       "3       18.7  394.63   2.94  33.4  \n",
       "4       18.7  396.90   5.33  36.2  \n",
       "..       ...     ...    ...   ...  \n",
       "501     21.0  391.99   9.67  22.4  \n",
       "502     21.0  396.90   9.08  20.6  \n",
       "503     21.0  396.90   5.64  23.9  \n",
       "504     21.0  393.45   6.48  22.0  \n",
       "505     21.0  396.90   7.88  11.9  \n",
       "\n",
       "[506 rows x 14 columns]>"
      ]
     },
     "execution_count": 245,
     "metadata": {},
     "output_type": "execute_result"
    }
   ],
   "source": [
    "url =\"https://raw.githubusercontent.com/selva86/datasets/master/BostonHousing.csv\"\n",
    "docu=pd.read_csv(url)\n",
    "docu.info"
   ]
  },
  {
   "cell_type": "markdown",
   "metadata": {
    "id": "kttzt4-BRO-M"
   },
   "source": [
    "## 25 - Lea un fichero CSV y obtenga la información del tipo de sus columnas que tiene.\n",
    "`pista:  dtypes`\n",
    "\n",
    "`URL: https://raw.githubusercontent.com/selva86/datasets/master/BostonHousing.csv`"
   ]
  },
  {
   "cell_type": "code",
   "execution_count": 250,
   "metadata": {},
   "outputs": [
    {
     "data": {
      "text/plain": [
       "crim       False\n",
       "zn         False\n",
       "indus      False\n",
       "chas        True\n",
       "nox        False\n",
       "rm         False\n",
       "age        False\n",
       "dis        False\n",
       "rad         True\n",
       "tax         True\n",
       "ptratio    False\n",
       "b          False\n",
       "lstat      False\n",
       "medv       False\n",
       "dtype: bool"
      ]
     },
     "execution_count": 250,
     "metadata": {},
     "output_type": "execute_result"
    }
   ],
   "source": [
    "url =\"https://raw.githubusercontent.com/selva86/datasets/master/BostonHousing.csv\"\n",
    "docu=pd.read_csv(url)\n",
    "docu.dtypes ==\"int64\""
   ]
  },
  {
   "cell_type": "markdown",
   "metadata": {
    "id": "mcN3ttG3RP_T"
   },
   "source": [
    "## 27 - Describe los atributos del `dataset` cargado por el CSV.\n",
    "`pista:  describe`\n",
    "\n",
    "`URL: https://raw.githubusercontent.com/selva86/datasets/master/BostonHousing.csv`"
   ]
  },
  {
   "cell_type": "code",
   "execution_count": 247,
   "metadata": {},
   "outputs": [
    {
     "data": {
      "text/plain": [
       "<bound method NDFrame.describe of         crim    zn  indus  chas    nox     rm   age     dis  rad  tax  \\\n",
       "0    0.00632  18.0   2.31     0  0.538  6.575  65.2  4.0900    1  296   \n",
       "1    0.02731   0.0   7.07     0  0.469  6.421  78.9  4.9671    2  242   \n",
       "2    0.02729   0.0   7.07     0  0.469  7.185  61.1  4.9671    2  242   \n",
       "3    0.03237   0.0   2.18     0  0.458  6.998  45.8  6.0622    3  222   \n",
       "4    0.06905   0.0   2.18     0  0.458  7.147  54.2  6.0622    3  222   \n",
       "..       ...   ...    ...   ...    ...    ...   ...     ...  ...  ...   \n",
       "501  0.06263   0.0  11.93     0  0.573  6.593  69.1  2.4786    1  273   \n",
       "502  0.04527   0.0  11.93     0  0.573  6.120  76.7  2.2875    1  273   \n",
       "503  0.06076   0.0  11.93     0  0.573  6.976  91.0  2.1675    1  273   \n",
       "504  0.10959   0.0  11.93     0  0.573  6.794  89.3  2.3889    1  273   \n",
       "505  0.04741   0.0  11.93     0  0.573  6.030  80.8  2.5050    1  273   \n",
       "\n",
       "     ptratio       b  lstat  medv  \n",
       "0       15.3  396.90   4.98  24.0  \n",
       "1       17.8  396.90   9.14  21.6  \n",
       "2       17.8  392.83   4.03  34.7  \n",
       "3       18.7  394.63   2.94  33.4  \n",
       "4       18.7  396.90   5.33  36.2  \n",
       "..       ...     ...    ...   ...  \n",
       "501     21.0  391.99   9.67  22.4  \n",
       "502     21.0  396.90   9.08  20.6  \n",
       "503     21.0  396.90   5.64  23.9  \n",
       "504     21.0  393.45   6.48  22.0  \n",
       "505     21.0  396.90   7.88  11.9  \n",
       "\n",
       "[506 rows x 14 columns]>"
      ]
     },
     "execution_count": 247,
     "metadata": {},
     "output_type": "execute_result"
    }
   ],
   "source": [
    "url =\"https://raw.githubusercontent.com/selva86/datasets/master/BostonHousing.csv\"\n",
    "docu=pd.read_csv(url)\n",
    "docu.describe"
   ]
  },
  {
   "cell_type": "markdown",
   "metadata": {
    "id": "iAc1qMxVRRAM"
   },
   "source": [
    "## 28 - Cuente el número de valores `'missing'` en cada columna.\n",
    "`pista: .isnull()`\n",
    "\n",
    "`Cambio de dataset - URL: https://raw.githubusercontent.com/selva86/datasets/master/Cars93_miss.csv`"
   ]
  },
  {
   "cell_type": "code",
   "execution_count": 258,
   "metadata": {},
   "outputs": [
    {
     "name": "stdout",
     "output_type": "stream",
     "text": [
      "Manufacturer           4\n",
      "Model                  1\n",
      "Type                   3\n",
      "Min.Price              7\n",
      "Price                  2\n",
      "Max.Price              5\n",
      "MPG.city               9\n",
      "MPG.highway            2\n",
      "AirBags                6\n",
      "DriveTrain             7\n",
      "Cylinders              5\n",
      "EngineSize             2\n",
      "Horsepower             7\n",
      "RPM                    3\n",
      "Rev.per.mile           6\n",
      "Man.trans.avail        5\n",
      "Fuel.tank.capacity     8\n",
      "Passengers             2\n",
      "Length                 4\n",
      "Wheelbase              1\n",
      "Width                  6\n",
      "Turn.circle            5\n",
      "Rear.seat.room         4\n",
      "Luggage.room          19\n",
      "Weight                 7\n",
      "Origin                 5\n",
      "Make                   3\n",
      "dtype: int64\n"
     ]
    },
    {
     "data": {
      "text/plain": [
       "<AxesSubplot:>"
      ]
     },
     "execution_count": 258,
     "metadata": {},
     "output_type": "execute_result"
    },
    {
     "data": {
      "image/png": "[encoded data removed]",
      "text/plain": [
       "<Figure size 432x288 with 1 Axes>"
      ]
     },
     "metadata": {
      "needs_background": "light"
     },
     "output_type": "display_data"
    }
   ],
   "source": [
    "import seaborn as sns \n",
    "url =\"https://raw.githubusercontent.com/selva86/datasets/master/Cars93_miss.csv\"\n",
    "docu2=pd.read_csv(url)\n",
    "print(docu2.isnull().sum())\n",
    "sns.heatmap(docu2.isnull(), cbar=False)"
   ]
  },
  {
   "cell_type": "markdown",
   "metadata": {
    "id": "8tB5szVIRR40"
   },
   "source": [
    "## 29 - Reemplazar los valores nulos encontrados en las columnas `'Min.Price'` y `'Max.Price'` por la media de esa columna.\n",
    "`pista:  fillna(... mean())`\n",
    "\n",
    "`URL: https://raw.githubusercontent.com/selva86/datasets/master/Cars93_miss.csv`\n",
    "\n"
   ]
  },
  {
   "cell_type": "code",
   "execution_count": null,
   "metadata": {},
   "outputs": [],
   "source": [
    "df = pd.read_csv('https://raw.githubusercontent.com/selva86/datasets/master/Cars93_miss.csv')\n",
    "\n",
    "solucion = df[['Min.Price', 'Max.Price']] = df[['Min.Price', 'Max.Price']].apply(lambda x: x.fillna(x.mean()))\n",
    "print(solucion.head()) \n"
   ]
  },
  {
   "cell_type": "markdown",
   "metadata": {
    "id": "pOZKxqIyRTFM"
   },
   "source": [
    "## 30 - Obten las filas múltiplos de 5 de un fichero CSV.\n",
    "`pista:  iloc`\n",
    "\n",
    "`URL: https://raw.githubusercontent.com/selva86/datasets/master/Cars93_miss.csv`\n"
   ]
  },
  {
   "cell_type": "code",
   "execution_count": 259,
   "metadata": {},
   "outputs": [
    {
     "name": "stdout",
     "output_type": "stream",
     "text": [
      "   Manufacturer         Model     Type  Min.Price  Price  Max.Price  MPG.city  \\\n",
      "0         Acura       Integra    Small       12.9   15.9       18.8      25.0   \n",
      "5         Buick       Century  Midsize       14.2   15.7       17.3      22.0   \n",
      "10     Cadillac       Seville  Midsize       37.5   40.1       42.7      16.0   \n",
      "15    Chevrolet    Lumina_APV      Van       14.7   16.3       18.0      18.0   \n",
      "20     Chrysler       LeBaron  Compact       14.5   15.8       17.1      23.0   \n",
      "25        Dodge       Caravan      Van        NaN   19.0       24.4      17.0   \n",
      "30         Ford       Festiva    Small        6.9    7.4        7.9      31.0   \n",
      "35         Ford      Aerostar      Van       14.5   19.9       25.3      15.0   \n",
      "40        Honda       Prelude   Sporty       17.0   19.8       22.7      24.0   \n",
      "45      Hyundai        Scoupe      NaN        9.1   10.0       11.0      26.0   \n",
      "50      Lincoln   Continental  Midsize       33.3   34.3       35.3      17.0   \n",
      "55        Mazda           MPV      Van       16.6   19.1       21.7      18.0   \n",
      "60      Mercury        Cougar  Midsize       14.9   14.9       14.9      19.0   \n",
      "65       Nissan         Quest      Van       16.7   19.1       21.5      17.0   \n",
      "70   Oldsmobile  Eighty-Eight    Large       19.5   20.7       21.9       NaN   \n",
      "75      Pontiac    Grand_Prix  Midsize       15.4   18.5       21.6      19.0   \n",
      "80       Subaru        Loyale    Small       10.5   10.9       11.3      25.0   \n",
      "85       Toyota         Camry  Midsize       15.2    NaN       21.2      22.0   \n",
      "90   Volkswagen       Corrado   Sporty       22.9   23.3       23.7      18.0   \n",
      "\n",
      "    MPG.highway             AirBags DriveTrain  ... Passengers  Length  \\\n",
      "0          31.0                None      Front  ...        5.0   177.0   \n",
      "5          31.0         Driver only        NaN  ...        6.0   189.0   \n",
      "10         25.0  Driver & Passenger      Front  ...        5.0   204.0   \n",
      "15         23.0                None      Front  ...        7.0   178.0   \n",
      "20         28.0  Driver & Passenger      Front  ...        6.0   183.0   \n",
      "25         21.0         Driver only        4WD  ...        7.0   175.0   \n",
      "30         33.0                 NaN      Front  ...        4.0   141.0   \n",
      "35         20.0         Driver only        4WD  ...        7.0   176.0   \n",
      "40         31.0  Driver & Passenger      Front  ...        4.0   175.0   \n",
      "45         34.0                None      Front  ...        4.0   166.0   \n",
      "50         26.0  Driver & Passenger        NaN  ...        6.0   205.0   \n",
      "55         24.0                None        4WD  ...        7.0   190.0   \n",
      "60         26.0                None       Rear  ...        5.0   199.0   \n",
      "65         23.0                None      Front  ...        7.0   190.0   \n",
      "70         28.0         Driver only      Front  ...        6.0   201.0   \n",
      "75         27.0                None      Front  ...        5.0   195.0   \n",
      "80         30.0                None        4WD  ...        5.0   175.0   \n",
      "85         29.0         Driver only        NaN  ...        5.0   188.0   \n",
      "90         25.0                None      Front  ...        4.0   159.0   \n",
      "\n",
      "    Wheelbase  Width  Turn.circle Rear.seat.room  Luggage.room  Weight  \\\n",
      "0       102.0   68.0         37.0           26.5           NaN  2705.0   \n",
      "5       105.0   69.0         41.0           28.0          16.0     NaN   \n",
      "10      111.0   74.0         44.0           31.0           NaN  3935.0   \n",
      "15      110.0   74.0         44.0           30.5           NaN  3715.0   \n",
      "20      104.0   68.0         41.0           30.5          14.0  3085.0   \n",
      "25      112.0   72.0         42.0           26.5           NaN  3705.0   \n",
      "30       90.0   63.0         33.0           26.0          12.0  1845.0   \n",
      "35      119.0   72.0         45.0           30.0           NaN  3735.0   \n",
      "40      100.0   70.0         39.0           23.5           8.0  2865.0   \n",
      "45       94.0   64.0         34.0           23.5           9.0  2285.0   \n",
      "50      109.0   73.0         42.0           30.0          19.0  3695.0   \n",
      "55      110.0   72.0         39.0           27.5           NaN  3735.0   \n",
      "60      113.0   73.0         38.0           28.0          15.0  3610.0   \n",
      "65      112.0   74.0         41.0           27.0           NaN  4100.0   \n",
      "70      111.0   74.0         42.0           31.5          17.0  3470.0   \n",
      "75      108.0   72.0         41.0           28.5          16.0  3450.0   \n",
      "80       97.0   65.0         35.0           27.5          15.0  2490.0   \n",
      "85      103.0   70.0         38.0           28.5          15.0  3030.0   \n",
      "90       97.0   66.0         36.0           26.0          15.0  2810.0   \n",
      "\n",
      "     Origin                     Make  \n",
      "0   non-USA            Acura Integra  \n",
      "5       USA            Buick Century  \n",
      "10      USA         Cadillac Seville  \n",
      "15      USA     Chevrolet Lumina_APV  \n",
      "20      USA         Chrysler LeBaron  \n",
      "25      USA            Dodge Caravan  \n",
      "30      USA             Ford Festiva  \n",
      "35      USA            Ford Aerostar  \n",
      "40  non-USA            Honda Prelude  \n",
      "45  non-USA                      NaN  \n",
      "50      USA      Lincoln Continental  \n",
      "55  non-USA                Mazda MPV  \n",
      "60      USA           Mercury Cougar  \n",
      "65  non-USA             Nissan Quest  \n",
      "70      USA  Oldsmobile Eighty-Eight  \n",
      "75      USA       Pontiac Grand_Prix  \n",
      "80  non-USA            Subaru Loyale  \n",
      "85  non-USA             Toyota Camry  \n",
      "90  non-USA       Volkswagen Corrado  \n",
      "\n",
      "[19 rows x 27 columns]\n"
     ]
    }
   ],
   "source": [
    "# Entrada\n",
    "df = pd.read_csv('https://raw.githubusercontent.com/selva86/datasets/master/Cars93_miss.csv')\n",
    "\n",
    "# Solucion\n",
    "print(df.iloc[::5, :])"
   ]
  }
 ],
 "metadata": {
  "colab": {
   "authorship_tag": "ABX9TyOfA4ZhK9srirb4gFA1H+z8",
   "collapsed_sections": [],
   "name": "Pandas Avanzado.ipynb",
   "provenance": []
  },
  "interpreter": {
   "hash": "916dbcbb3f70747c44a77c7bcd40155683ae19c65e1c03b4aa3499c5328201f1"
  },
  "kernelspec": {
   "display_name": "Python 3.8.10 64-bit",
   "language": "python",
   "name": "python3"
  },
  "language_info": {
   "codemirror_mode": {
    "name": "ipython",
    "version": 3
   },
   "file_extension": ".py",
   "mimetype": "text/x-python",
   "name": "python",
   "nbconvert_exporter": "python",
   "pygments_lexer": "ipython3",
   "version": "3.8.10"
  },
  "toc": {
   "base_numbering": 1,
   "nav_menu": {},
   "number_sections": true,
   "sideBar": true,
   "skip_h1_title": false,
   "title_cell": "Table of Contents",
   "title_sidebar": "Contents",
   "toc_cell": false,
   "toc_position": {},
   "toc_section_display": true,
   "toc_window_display": false
  },
  "varInspector": {
   "cols": {
    "lenName": 16,
    "lenType": 16,
    "lenVar": 40
   },
   "kernels_config": {
    "python": {
     "delete_cmd_postfix": "",
     "delete_cmd_prefix": "del ",
     "library": "var_list.py",
     "varRefreshCmd": "print(var_dic_list())"
    },
    "r": {
     "delete_cmd_postfix": ") ",
     "delete_cmd_prefix": "rm(",
     "library": "var_list.r",
     "varRefreshCmd": "cat(var_dic_list()) "
    }
   },
   "types_to_exclude": [
    "module",
    "function",
    "builtin_function_or_method",
    "instance",
    "_Feature"
   ],
   "window_display": false
  }
 },
 "nbformat": 4,
 "nbformat_minor": 1
}
