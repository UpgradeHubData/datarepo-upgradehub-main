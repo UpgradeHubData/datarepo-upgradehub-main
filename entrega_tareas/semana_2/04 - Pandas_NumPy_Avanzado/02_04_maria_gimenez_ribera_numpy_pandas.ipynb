{
  "nbformat": 4,
  "nbformat_minor": 0,
  "metadata": {
    "colab": {
      "name": "220606_Numpy_Avanzado",
      "provenance": []
    },
    "kernelspec": {
      "name": "python3",
      "display_name": "Python 3"
    },
    "language_info": {
      "name": "python"
    }
  },
  "cells": [
    {
      "cell_type": "markdown",
      "source": [
        "\n",
        "#NUMPY PART ADVANCED\n"
      ],
      "metadata": {
        "id": "Ivv2r4N8HW8F"
      }
    },
    {
      "cell_type": "code",
      "source": [
        "#1 - Importa el paquete con el nombre \"np\".\n",
        "import numpy as np\n",
        "#2 - Imprime la versión instalada.\n",
        "print(np.__version__)"
      ],
      "metadata": {
        "colab": {
          "base_uri": "https://localhost:8080/"
        },
        "id": "lG36vNmJ8z1b",
        "outputId": "8d05a95a-32bf-4f5c-9a56-e0c3f37a017b"
      },
      "execution_count": 2,
      "outputs": [
        {
          "output_type": "stream",
          "name": "stdout",
          "text": [
            "1.21.6\n"
          ]
        }
      ]
    },
    {
      "cell_type": "code",
      "source": [
        "print(np.show_config())"
      ],
      "metadata": {
        "colab": {
          "base_uri": "https://localhost:8080/"
        },
        "id": "7W_Yk9dY9Gig",
        "outputId": "8698d018-ff5c-485a-c55d-16262574ef04"
      },
      "execution_count": 3,
      "outputs": [
        {
          "output_type": "stream",
          "name": "stdout",
          "text": [
            "blas_mkl_info:\n",
            "  NOT AVAILABLE\n",
            "blis_info:\n",
            "  NOT AVAILABLE\n",
            "openblas_info:\n",
            "    libraries = ['openblas', 'openblas']\n",
            "    library_dirs = ['/usr/local/lib']\n",
            "    language = c\n",
            "    define_macros = [('HAVE_CBLAS', None)]\n",
            "    runtime_library_dirs = ['/usr/local/lib']\n",
            "blas_opt_info:\n",
            "    libraries = ['openblas', 'openblas']\n",
            "    library_dirs = ['/usr/local/lib']\n",
            "    language = c\n",
            "    define_macros = [('HAVE_CBLAS', None)]\n",
            "    runtime_library_dirs = ['/usr/local/lib']\n",
            "lapack_mkl_info:\n",
            "  NOT AVAILABLE\n",
            "openblas_lapack_info:\n",
            "    libraries = ['openblas', 'openblas']\n",
            "    library_dirs = ['/usr/local/lib']\n",
            "    language = c\n",
            "    define_macros = [('HAVE_CBLAS', None)]\n",
            "    runtime_library_dirs = ['/usr/local/lib']\n",
            "lapack_opt_info:\n",
            "    libraries = ['openblas', 'openblas']\n",
            "    library_dirs = ['/usr/local/lib']\n",
            "    language = c\n",
            "    define_macros = [('HAVE_CBLAS', None)]\n",
            "    runtime_library_dirs = ['/usr/local/lib']\n",
            "Supported SIMD extensions in this NumPy install:\n",
            "    baseline = SSE,SSE2,SSE3\n",
            "    found = SSSE3,SSE41,POPCNT,SSE42,AVX,F16C,FMA3,AVX2\n",
            "    not found = AVX512F,AVX512CD,AVX512_KNL,AVX512_KNM,AVX512_SKX,AVX512_CLX,AVX512_CNL,AVX512_ICL\n",
            "None\n"
          ]
        }
      ]
    },
    {
      "cell_type": "code",
      "source": [
        "#3 - Crea un vector de nulos de tamaño 10.\n",
        "print(np.zeros(10))"
      ],
      "metadata": {
        "colab": {
          "base_uri": "https://localhost:8080/"
        },
        "id": "ckfRdJAE9UAp",
        "outputId": "f5208644-28df-46de-fd81-916d384d7338"
      },
      "execution_count": 4,
      "outputs": [
        {
          "output_type": "stream",
          "name": "stdout",
          "text": [
            "[0. 0. 0. 0. 0. 0. 0. 0. 0. 0.]\n"
          ]
        }
      ]
    },
    {
      "cell_type": "code",
      "source": [
        "#4 - Encontrar el tamaño en memoria de un array.\n",
        "matrix = np.zeros((5,5))\n",
        "print(\"El tamaño \\n de este array es \" + str(matrix.size * matrix.itemsize) + \" bytes\")"
      ],
      "metadata": {
        "colab": {
          "base_uri": "https://localhost:8080/"
        },
        "id": "eDO3OtWx9iQl",
        "outputId": "6bb01e77-58ee-4464-b690-8046d4dbe1b9"
      },
      "execution_count": 24,
      "outputs": [
        {
          "output_type": "stream",
          "name": "stdout",
          "text": [
            "El tamaño \n",
            " de este array es 200 bytes\n"
          ]
        }
      ]
    },
    {
      "cell_type": "code",
      "source": [
        "M = np.zeros(10)\n",
        "M[4] = 1\n",
        "print(np.mean(M))\n",
        "print(M)"
      ],
      "metadata": {
        "colab": {
          "base_uri": "https://localhost:8080/"
        },
        "id": "0Z2UU65Q-tAx",
        "outputId": "de512466-77bb-4759-94ea-640862d3c798"
      },
      "execution_count": 17,
      "outputs": [
        {
          "output_type": "stream",
          "name": "stdout",
          "text": [
            "0.1\n",
            "[0. 0. 0. 0. 1. 0. 0. 0. 0. 0.]\n"
          ]
        }
      ]
    },
    {
      "cell_type": "code",
      "source": [
        "#6 - Cree un vector con valores que van de 10 a 49.\n",
        "V = np.arange(10,50)\n",
        "print(V)"
      ],
      "metadata": {
        "colab": {
          "base_uri": "https://localhost:8080/"
        },
        "id": "ip8YQCSG_Gol",
        "outputId": "59ac1bbe-caf3-4b01-cbc3-dbbb11b9ceaa"
      },
      "execution_count": 16,
      "outputs": [
        {
          "output_type": "stream",
          "name": "stdout",
          "text": [
            "[10 11 12 13 14 15 16 17 18 19 20 21 22 23 24 25 26 27 28 29 30 31 32 33\n",
            " 34 35 36 37 38 39 40 41 42 43 44 45 46 47 48 49]\n"
          ]
        }
      ]
    },
    {
      "cell_type": "code",
      "source": [
        "#Generad un vector con 7 elementos equidistantes entre el 2 y el 16. Dadle la vuelta a este vector\n",
        "G = np.arange(2,17,2)\n",
        "W = np.linspace(2,14,7)[::-1] #np.linspace nos da espacios equidistantes (primer numero, segundo numero, separaciones)\n",
        "print(W)\n"
      ],
      "metadata": {
        "colab": {
          "base_uri": "https://localhost:8080/"
        },
        "id": "5l0Y9MBPElIA",
        "outputId": "87ec4490-5808-4460-e8e0-4184efdd33c5"
      },
      "execution_count": 40,
      "outputs": [
        {
          "output_type": "stream",
          "name": "stdout",
          "text": [
            "[14. 12. 10.  8.  6.  4.  2.]\n"
          ]
        }
      ]
    },
    {
      "cell_type": "code",
      "source": [
        "#7 - Invierta un vector (el primer elemento se convierte en el último).\n",
        "RV = V[::-1]\n",
        "RRV = np.flipud(V)\n",
        "print(RRV)"
      ],
      "metadata": {
        "colab": {
          "base_uri": "https://localhost:8080/"
        },
        "id": "4UEraUm8_frV",
        "outputId": "5d624e2d-70d3-4ac6-cf98-fe15af78fd30"
      },
      "execution_count": 23,
      "outputs": [
        {
          "output_type": "stream",
          "name": "stdout",
          "text": [
            "[49 48 47 46 45 44 43 42 41 40 39 38 37 36 35 34 33 32 31 30 29 28 27 26\n",
            " 25 24 23 22 21 20 19 18 17 16 15 14 13 12 11 10]\n"
          ]
        }
      ]
    },
    {
      "cell_type": "code",
      "source": [
        "#8 - Cree una matriz de 3x3 con valores que van de 0 a 8.\n",
        "N = np.arange(0,9).reshape(3,3)\n",
        "print(N)\n"
      ],
      "metadata": {
        "colab": {
          "base_uri": "https://localhost:8080/"
        },
        "id": "qolvZAHYA76M",
        "outputId": "dcc844e6-0b77-4450-db03-bc104eb7bd24"
      },
      "execution_count": 27,
      "outputs": [
        {
          "output_type": "stream",
          "name": "stdout",
          "text": [
            "[[0 1 2]\n",
            " [3 4 5]\n",
            " [6 7 8]]\n"
          ]
        }
      ]
    },
    {
      "cell_type": "code",
      "source": [
        "#9 - Encuentre los índices de elementos distintos de cero de [7,5,0,0,2,1].\n",
        "E = np.array([7,5,0,0,2,1])\n",
        "I = [x for x in enumerate(E)]\n",
        "print(I)"
      ],
      "metadata": {
        "colab": {
          "base_uri": "https://localhost:8080/"
        },
        "id": "95a6z1eHCrv7",
        "outputId": "10ce6c2d-6e38-4f07-f2a4-ddf42dbe5383"
      },
      "execution_count": 58,
      "outputs": [
        {
          "output_type": "stream",
          "name": "stdout",
          "text": [
            "[(0, 7), (1, 5), (2, 0), (3, 0), (4, 2), (5, 1)]\n"
          ]
        }
      ]
    },
    {
      "cell_type": "code",
      "source": [
        "indexes = [i for (i, x) in enumerate(E) if x > 0]\n",
        "n = E[list(np.nonzero(E))]\n",
        "print(n)"
      ],
      "metadata": {
        "colab": {
          "base_uri": "https://localhost:8080/"
        },
        "id": "9lGIMWjwGPji",
        "outputId": "2984772b-96c4-49de-e0fd-7c29fca15547"
      },
      "execution_count": 60,
      "outputs": [
        {
          "output_type": "stream",
          "name": "stdout",
          "text": [
            "[7 5 2 1]\n"
          ]
        },
        {
          "output_type": "stream",
          "name": "stderr",
          "text": [
            "/usr/local/lib/python3.7/dist-packages/ipykernel_launcher.py:2: FutureWarning: Using a non-tuple sequence for multidimensional indexing is deprecated; use `arr[tuple(seq)]` instead of `arr[seq]`. In the future this will be interpreted as an array index, `arr[np.array(seq)]`, which will result either in an error or a different result.\n",
            "  \n"
          ]
        }
      ]
    },
    {
      "cell_type": "code",
      "source": [
        "#10 - Crear una matriz de identidad de 3x3.\n",
        "id = np.eye(3,3)\n",
        "print(id)"
      ],
      "metadata": {
        "colab": {
          "base_uri": "https://localhost:8080/"
        },
        "id": "atfm5aWAHbTt",
        "outputId": "4538b001-5352-4aa0-bbca-f8cc825b9725"
      },
      "execution_count": 44,
      "outputs": [
        {
          "output_type": "stream",
          "name": "stdout",
          "text": [
            "[[1. 0. 0.]\n",
            " [0. 1. 0.]\n",
            " [0. 0. 1.]]\n"
          ]
        }
      ]
    },
    {
      "cell_type": "code",
      "source": [
        "#11 - Crear una matriz de 3x3x3 con valores aleatorios.\n",
        "hola = np.random.random((3,3,3))\n",
        "print(hola)"
      ],
      "metadata": {
        "colab": {
          "base_uri": "https://localhost:8080/"
        },
        "id": "n4PENTs5Hl-l",
        "outputId": "2cc45121-9ac0-4289-9f24-51e7f9a53a80"
      },
      "execution_count": 53,
      "outputs": [
        {
          "output_type": "stream",
          "name": "stdout",
          "text": [
            "[[[0.77007084 0.85443007 0.57523548]\n",
            "  [0.76995351 0.62679321 0.34517057]\n",
            "  [0.00727718 0.18054321 0.36103301]]\n",
            "\n",
            " [[0.76319073 0.16311289 0.54231791]\n",
            "  [0.40257723 0.990311   0.94765761]\n",
            "  [0.40945365 0.22393306 0.42649348]]\n",
            "\n",
            " [[0.25103369 0.22426818 0.27148333]\n",
            "  [0.40294569 0.0502001  0.21904501]\n",
            "  [0.1493665  0.8471669  0.19272435]]]\n"
          ]
        }
      ]
    },
    {
      "cell_type": "code",
      "source": [
        "#12 - Cree una matriz de 10x10 con valores aleatorios y encuentre el mínimo y el máximo.\n",
        "diezydiez = np.random.random((10,10))\n",
        "print(\"El mínimo de la matriz 10 x 10 es \" + str(np.min(diezydiez)) + \".\\nEl máximo es \" + str(np.max(diezydiez)))"
      ],
      "metadata": {
        "colab": {
          "base_uri": "https://localhost:8080/"
        },
        "id": "YH31Dkq8IjOT",
        "outputId": "bcde2833-bf17-439e-802c-d945a78e1e91"
      },
      "execution_count": 56,
      "outputs": [
        {
          "output_type": "stream",
          "name": "stdout",
          "text": [
            "El mínimo de la matriz 10 x 10 es 0.0027850665736888214.\n",
            "El máximo es 0.9969644547778831\n"
          ]
        }
      ]
    },
    {
      "cell_type": "code",
      "source": [
        "#13 - Cree un vector aleatorio de tamaño 50 y encuentre el valor medio.\n",
        "halvtreds = (np.random.random(50))\n",
        "print(\"El valor medio del vector halvtreds es \" + str(np.median(halvtreds)))"
      ],
      "metadata": {
        "colab": {
          "base_uri": "https://localhost:8080/"
        },
        "id": "k7wYQWQPUdmg",
        "outputId": "3680cf9f-d9b9-4a26-ca59-a9d6b76b557b"
      },
      "execution_count": 62,
      "outputs": [
        {
          "output_type": "stream",
          "name": "stdout",
          "text": [
            "El valor medio del vector halvtreds es 0.5520648794775909\n"
          ]
        }
      ]
    },
    {
      "cell_type": "code",
      "source": [
        "mat_al_2_8 = 6*np.random.random((3,3))+2\n",
        "print(mat_al_2_8)"
      ],
      "metadata": {
        "colab": {
          "base_uri": "https://localhost:8080/"
        },
        "id": "lev0RFuqV8na",
        "outputId": "d8f50475-1121-47c3-dd63-4acc23c4c225"
      },
      "execution_count": 67,
      "outputs": [
        {
          "output_type": "stream",
          "name": "stdout",
          "text": [
            "[[4.29553599 4.56109254 5.82423618]\n",
            " [3.689691   7.74834474 7.99434311]\n",
            " [3.97775574 4.98534504 4.14932278]]\n"
          ]
        }
      ]
    },
    {
      "cell_type": "code",
      "source": [
        "#Genera una función matriz llamada matriznormal a la que podamos pedirle una \n",
        "#matriz cuadrada (con dimensión a especificar) \n",
        "#y cuyos datos sigan una distribución normal (con media y desviación típica a especificar).\n",
        "#Asignad el valor 1 por defecto a la dimensión\n",
        "\n",
        "def matriznormal(dimensiones = 1, mu = 1, sigma = 1):\n",
        "  cuadro = sigma * np.random.randn(dimensiones, dimensiones) + mu \n",
        "\n",
        "  return cuadro\n",
        "\n",
        "matriznormal(3,2,2)\n"
      ],
      "metadata": {
        "colab": {
          "base_uri": "https://localhost:8080/"
        },
        "id": "giPyWOCXXKEQ",
        "outputId": "8591d96b-0fca-4ea8-f3e9-2459a44de581"
      },
      "execution_count": 92,
      "outputs": [
        {
          "output_type": "execute_result",
          "data": {
            "text/plain": [
              "array([[ 1.3507976 , -1.24366603,  4.43234966],\n",
              "       [ 1.85257813,  6.53064502,  3.00429465],\n",
              "       [ 2.613789  ,  3.7429887 ,  2.18424162]])"
            ]
          },
          "metadata": {},
          "execution_count": 92
        }
      ]
    },
    {
      "cell_type": "code",
      "source": [
        "#14 - Cree una matriz de 6x6 con valores 1,2,3,4,5 justo debajo de la diagonal.\n",
        "seisyseis = np.diag(1 + np.arange(5), k = -1)\n",
        "\n",
        "print(np.diag(1 + np.array([1,2,3])))"
      ],
      "metadata": {
        "colab": {
          "base_uri": "https://localhost:8080/"
        },
        "id": "tW8TlmBme0Oa",
        "outputId": "9245ff09-5cd7-46bb-f70f-397ab60a32d3"
      },
      "execution_count": 98,
      "outputs": [
        {
          "output_type": "stream",
          "name": "stdout",
          "text": [
            "[[2 0 0]\n",
            " [0 3 0]\n",
            " [0 0 4]]\n"
          ]
        }
      ]
    },
    {
      "cell_type": "code",
      "source": [
        "#15 - Considere una matriz de formas (4,5,6), ¿cuál es el índice (x,y,z) del elemento número 57?\n",
        "print(np.unravel_index(56,(4,5,6)))\n"
      ],
      "metadata": {
        "colab": {
          "base_uri": "https://localhost:8080/"
        },
        "id": "hYeX6oqumYIZ",
        "outputId": "a40e4d3d-3924-4498-ea1c-a3ec8cca7c30"
      },
      "execution_count": 99,
      "outputs": [
        {
          "output_type": "stream",
          "name": "stdout",
          "text": [
            "(1, 4, 2)\n"
          ]
        }
      ]
    },
    {
      "cell_type": "code",
      "source": [
        "#16 - Normalice una matriz aleatoria de 10x10.\n"
      ],
      "metadata": {
        "id": "12mJsmyEmg7I"
      },
      "execution_count": null,
      "outputs": []
    },
    {
      "cell_type": "code",
      "source": [
        "#18 - ¿Cómo encuentra valores comunes entre dos matrices?\n",
        "m1 = np.random.randint(0,10,10)\n",
        "m2 = np.random.randint(0,10,10)\n",
        "print(np.intersect1d(m1,m2))\n"
      ],
      "metadata": {
        "colab": {
          "base_uri": "https://localhost:8080/"
        },
        "id": "uXLkVcIFpCqp",
        "outputId": "2b2cf1a9-cd4a-43dd-9942-d99e412fb0e7"
      },
      "execution_count": 102,
      "outputs": [
        {
          "output_type": "stream",
          "name": "stdout",
          "text": [
            "[1 5 7 8]\n"
          ]
        }
      ]
    },
    {
      "cell_type": "code",
      "source": [
        "#19 - ¿Cómo obtener las fechas de ayer, hoy y mañana?\n",
        "ayer    = np.datetime64('today') - np.timedelta64(1)\n",
        "hoy     = np.datetime64('today')\n",
        "mañana  = np.datetime64('today') + np.timedelta64(1)\n",
        "print(ayer)\n"
      ],
      "metadata": {
        "colab": {
          "base_uri": "https://localhost:8080/"
        },
        "id": "mkKugF1ppuJT",
        "outputId": "29a7fc05-a235-46fe-f300-8e9623f7700e"
      },
      "execution_count": 105,
      "outputs": [
        {
          "output_type": "stream",
          "name": "stdout",
          "text": [
            "2022-06-05\n"
          ]
        }
      ]
    },
    {
      "cell_type": "code",
      "source": [
        "#20 - ¿Cómo obtener todas las fechas correspondientes al mes de septiembre de 2020?\n",
        "Z = np.arange('2020-09', '2020-10', dtype='datetime64[D]')\n",
        "print(Z)"
      ],
      "metadata": {
        "colab": {
          "base_uri": "https://localhost:8080/"
        },
        "id": "Sr08roXbp_tJ",
        "outputId": "2ff0693d-8227-45a8-e163-121efeec9464"
      },
      "execution_count": 106,
      "outputs": [
        {
          "output_type": "stream",
          "name": "stdout",
          "text": [
            "['2020-09-01' '2020-09-02' '2020-09-03' '2020-09-04' '2020-09-05'\n",
            " '2020-09-06' '2020-09-07' '2020-09-08' '2020-09-09' '2020-09-10'\n",
            " '2020-09-11' '2020-09-12' '2020-09-13' '2020-09-14' '2020-09-15'\n",
            " '2020-09-16' '2020-09-17' '2020-09-18' '2020-09-19' '2020-09-20'\n",
            " '2020-09-21' '2020-09-22' '2020-09-23' '2020-09-24' '2020-09-25'\n",
            " '2020-09-26' '2020-09-27' '2020-09-28' '2020-09-29' '2020-09-30']\n"
          ]
        }
      ]
    },
    {
      "cell_type": "code",
      "source": [
        "#21 - Extraiga la parte entera de una matriz aleatoria de números positivos usando 4 métodos diferentes.\n"
      ],
      "metadata": {
        "id": "ojV0HewDq4ap"
      },
      "execution_count": null,
      "outputs": []
    },
    {
      "cell_type": "code",
      "source": [
        "#24 - Cree un vector aleatorio de tamaño 25 y ordénelo.\n",
        "np.sort(np.random.random(25))\n"
      ],
      "metadata": {
        "colab": {
          "base_uri": "https://localhost:8080/"
        },
        "id": "lpekXolxvMqR",
        "outputId": "9a53ef14-1b7f-4790-c9f8-798cce340c4e"
      },
      "execution_count": 107,
      "outputs": [
        {
          "output_type": "execute_result",
          "data": {
            "text/plain": [
              "array([0.00097562, 0.00765981, 0.05535977, 0.06036471, 0.09457488,\n",
              "       0.13186128, 0.16195106, 0.21523927, 0.30163177, 0.30779361,\n",
              "       0.33878457, 0.34851706, 0.39762676, 0.45584582, 0.51920177,\n",
              "       0.5803352 , 0.64434679, 0.69386284, 0.72502592, 0.74889053,\n",
              "       0.75871941, 0.80502385, 0.9057873 , 0.91639811, 0.93933496])"
            ]
          },
          "metadata": {},
          "execution_count": 107
        }
      ]
    },
    {
      "cell_type": "markdown",
      "source": [
        "#PANDA PART ADVANCED"
      ],
      "metadata": {
        "id": "seoKiVJMHdzi"
      }
    },
    {
      "cell_type": "code",
      "source": [
        "#1 - Importa el paquete con el nombre \"pd\".\n",
        "import pandas as pd"
      ],
      "metadata": {
        "id": "aH6kgDsIHkS1"
      },
      "execution_count": 108,
      "outputs": []
    },
    {
      "cell_type": "code",
      "source": [
        "#2 - Imprime la versión instalada.\n",
        "pd.__version__\n"
      ],
      "metadata": {
        "colab": {
          "base_uri": "https://localhost:8080/",
          "height": 35
        },
        "id": "uAIG5CPwH0Ri",
        "outputId": "0fe3fdd7-faa0-4219-b3d4-94eb531fa732"
      },
      "execution_count": 110,
      "outputs": [
        {
          "output_type": "execute_result",
          "data": {
            "text/plain": [
              "'1.3.5'"
            ],
            "application/vnd.google.colaboratory.intrinsic+json": {
              "type": "string"
            }
          },
          "metadata": {},
          "execution_count": 110
        }
      ]
    },
    {
      "cell_type": "code",
      "source": [
        "#3 - Cree una serie desde un diccionario, desde una lista y desde un numpy array.\n",
        "\n",
        "lista = [x for x in \"adejfainjfsdiughajwefmew\"]\n",
        "nparray = np.arange(0,25) \n",
        "diccionario = dict(zip(lista, nparray))\n",
        "serie1 = pd.Series(lista)\n",
        "serie2 = pd.Series(nparray)\n",
        "serie3 = pd.Series(diccionario)\n",
        "serie4 = pd.Series(data = diccionario.keys(), index = diccionario.values())\n",
        "print(serie3, serie4)"
      ],
      "metadata": {
        "colab": {
          "base_uri": "https://localhost:8080/"
        },
        "id": "I6we07IqH4bh",
        "outputId": "c3894eff-bae4-4748-b97a-803ac8e57c6c"
      },
      "execution_count": 131,
      "outputs": [
        {
          "output_type": "stream",
          "name": "stdout",
          "text": [
            "a    16\n",
            "d    11\n",
            "e    22\n",
            "j    17\n",
            "f    20\n",
            "i    12\n",
            "n     7\n",
            "s    10\n",
            "u    13\n",
            "g    14\n",
            "h    15\n",
            "w    23\n",
            "m    21\n",
            "dtype: int64 16    a\n",
            "11    d\n",
            "22    e\n",
            "17    j\n",
            "20    f\n",
            "12    i\n",
            "7     n\n",
            "10    s\n",
            "13    u\n",
            "14    g\n",
            "15    h\n",
            "23    w\n",
            "21    m\n",
            "dtype: object\n"
          ]
        }
      ]
    },
    {
      "cell_type": "code",
      "source": [
        "#4 - Convierta el índice de una serie a una columna de un dataframe\n",
        "df = serie.to_frame() #afegeix index a la columna\n",
        "conindex = df.reset_index()\n"
      ],
      "metadata": {
        "id": "MuKslEdyJPyV"
      },
      "execution_count": 124,
      "outputs": []
    },
    {
      "cell_type": "code",
      "source": [
        "#5 - Combine varias series para formar un dataframe\n",
        "df12 = pd.concat([serie1, serie2], axis = 1)\n",
        "df21 = pd.DataFrame({\"columna 1\": serie1, \"columna 2\": serie2})\n",
        "print(df21)"
      ],
      "metadata": {
        "colab": {
          "base_uri": "https://localhost:8080/"
        },
        "id": "jNDqFNH1KLfb",
        "outputId": "fa3263b6-1685-433a-a869-dc2e23b2cb80"
      },
      "execution_count": 136,
      "outputs": [
        {
          "output_type": "stream",
          "name": "stdout",
          "text": [
            "   columna 1  columna 2\n",
            "0          a          0\n",
            "1          d          1\n",
            "2          e          2\n",
            "3          j          3\n",
            "4          f          4\n",
            "5          a          5\n",
            "6          i          6\n",
            "7          n          7\n",
            "8          j          8\n",
            "9          f          9\n",
            "10         s         10\n",
            "11         d         11\n",
            "12         i         12\n",
            "13         u         13\n",
            "14         g         14\n",
            "15         h         15\n",
            "16         a         16\n",
            "17         j         17\n",
            "18         w         18\n",
            "19         e         19\n",
            "20         f         20\n",
            "21         m         21\n",
            "22         e         22\n",
            "23         w         23\n",
            "24       NaN         24\n"
          ]
        }
      ]
    },
    {
      "cell_type": "code",
      "source": [
        "#6 - Obtenga los items de la serie A no presentes en la serie B\n",
        "A = pd.Series([\"a\", \"b\", \"c\"])\n",
        "B = pd.Series([1, 2, \"a\"])\n",
        "A[~A.isin(B)]\n"
      ],
      "metadata": {
        "colab": {
          "base_uri": "https://localhost:8080/"
        },
        "id": "bGbHQh_0PiYR",
        "outputId": "6ff5cadd-3ff2-475d-b6c5-9dc698ba676d"
      },
      "execution_count": 147,
      "outputs": [
        {
          "output_type": "execute_result",
          "data": {
            "text/plain": [
              "1    b\n",
              "2    c\n",
              "dtype: object"
            ]
          },
          "metadata": {},
          "execution_count": 147
        }
      ]
    },
    {
      "cell_type": "code",
      "source": [
        "#7 - Obtenga la unión e intersección de dos series A y B.\n",
        "A = pd.Series([\"s\", \"w\", \"a\"])\n",
        "B = pd.Series([\"d\", \"s\", \"a\"])\n",
        "union = pd.Series(np.union1d(A,B))\n",
        "intersection = pd.Series(np.intersect1d(A,B))\n",
        "print(\"This is the union \")\n",
        "print(union)\n",
        "print(\"This is the intersection \")\n",
        "print(intersection)"
      ],
      "metadata": {
        "colab": {
          "base_uri": "https://localhost:8080/"
        },
        "id": "M1rQdeCxSIiL",
        "outputId": "bfdb7462-e22d-43c2-cb99-0796899b13fd"
      },
      "execution_count": 158,
      "outputs": [
        {
          "output_type": "stream",
          "name": "stdout",
          "text": [
            "This is the union \n",
            "0    a\n",
            "1    d\n",
            "2    s\n",
            "3    w\n",
            "dtype: object\n",
            "This is the intersection \n",
            "0    a\n",
            "1    s\n",
            "dtype: object\n"
          ]
        }
      ]
    },
    {
      "cell_type": "code",
      "source": [
        "#8 - Obtenga el valor mínimo, el percentil 25, la mediana, el percentil 75 y el máximo de una serie\n",
        "\n",
        "S1 = pd.Series(np.random.RandomState(100).normal(10, 5, 25))\n",
        "# Solución\n",
        "percentiles = np.percentile(S1, q=[0, 25, 50, 75, 100])\n",
        "print(percentiles)\n",
        "\n",
        "(S1.describe())"
      ],
      "metadata": {
        "colab": {
          "base_uri": "https://localhost:8080/"
        },
        "id": "xui4ZD5PVBU4",
        "outputId": "b2d79875-17b2-49f2-ee99-ff9321e51c95"
      },
      "execution_count": 169,
      "outputs": [
        {
          "output_type": "stream",
          "name": "stdout",
          "text": [
            "[ 1.25117263  7.70986507 10.92259345 13.36360403 18.0949083 ]\n"
          ]
        },
        {
          "output_type": "execute_result",
          "data": {
            "text/plain": [
              "count    25.000000\n",
              "mean     10.435437\n",
              "std       4.253118\n",
              "min       1.251173\n",
              "25%       7.709865\n",
              "50%      10.922593\n",
              "75%      13.363604\n",
              "max      18.094908\n",
              "dtype: float64"
            ]
          },
          "metadata": {},
          "execution_count": 169
        }
      ]
    },
    {
      "cell_type": "code",
      "source": [
        "#9 - Obtenga la frecuencia de aparición de los elementos de una lista.\n",
        "lista = [1, 2, 3, 5, 1, 1]\n",
        "serie = pd.Series(np.take(list('abcdefghijklmnoprstuvwxyz'), np.random.randint(8, size=30)))\n",
        "sf1 = pd.Series(lista)\n",
        "print(serie.value_counts(normalize = True)*100)\n",
        "(unico, contados) = np.unique(serie, return_counts = True)\n",
        "\n",
        "print(f'Únicos: {unico}'),\n",
        "print(f'Frecuencia: {contados}')"
      ],
      "metadata": {
        "colab": {
          "base_uri": "https://localhost:8080/"
        },
        "id": "EO36gdbHaccE",
        "outputId": "0bc201a0-1d4c-482b-a9c4-9691639b51c3"
      },
      "execution_count": 180,
      "outputs": [
        {
          "output_type": "stream",
          "name": "stdout",
          "text": [
            "g    20.000000\n",
            "f    16.666667\n",
            "b    13.333333\n",
            "a    13.333333\n",
            "c    13.333333\n",
            "h    10.000000\n",
            "e     6.666667\n",
            "d     6.666667\n",
            "dtype: float64\n",
            "Únicos: ['a' 'b' 'c' 'd' 'e' 'f' 'g' 'h']\n",
            "Frecuencia: [4 4 4 2 2 5 6 3]\n"
          ]
        }
      ]
    },
    {
      "cell_type": "code",
      "source": [
        "#10 - Mantenga de una lista los 3 términos que más aparecen. Renombre el resto de elementos a \"otros\".\n",
        "np.random.RandomState(100)\n",
        "ser = pd.Series(np.random.randint(1, 9, [12]))\n",
        "print(ser)\n",
        "print(ser.value_counts()[:3])\n",
        "print(~ser[ser.isin(ser)])"
      ],
      "metadata": {
        "colab": {
          "base_uri": "https://localhost:8080/"
        },
        "id": "fHJopXRDct75",
        "outputId": "34115779-ba4c-4bb4-803b-85c427e33ec6"
      },
      "execution_count": 187,
      "outputs": [
        {
          "output_type": "stream",
          "name": "stdout",
          "text": [
            "0     2\n",
            "1     4\n",
            "2     2\n",
            "3     3\n",
            "4     8\n",
            "5     1\n",
            "6     7\n",
            "7     8\n",
            "8     6\n",
            "9     2\n",
            "10    2\n",
            "11    1\n",
            "dtype: int64\n",
            "2    4\n",
            "8    2\n",
            "1    2\n",
            "dtype: int64\n"
          ]
        }
      ]
    },
    {
      "cell_type": "code",
      "source": [
        "#11 - Convierta una serie en un dataframe con 5 filas y 3 columnas.\n",
        "s1 = pd.Series(np.random.random(15))\n",
        "df = pd.DataFrame(s1.values.reshape(5,3))\n",
        "dfsol = pd.DataFrame(s1.values.reshape(5,3))\n",
        "print(df, dfsol)"
      ],
      "metadata": {
        "colab": {
          "base_uri": "https://localhost:8080/"
        },
        "id": "eKkP6I2jdWWI",
        "outputId": "6825fa76-8035-44d6-f993-8af4968b72e9"
      },
      "execution_count": 196,
      "outputs": [
        {
          "output_type": "stream",
          "name": "stdout",
          "text": [
            "          0         1         2\n",
            "0  0.641573  0.105225  0.829598\n",
            "1  0.274952  0.822962  0.530697\n",
            "2  0.459005  0.356496  0.405797\n",
            "3  0.826247  0.211204  0.375023\n",
            "4  0.650557  0.553275  0.655868           0         1         2\n",
            "0  0.641573  0.105225  0.829598\n",
            "1  0.274952  0.822962  0.530697\n",
            "2  0.459005  0.356496  0.405797\n",
            "3  0.826247  0.211204  0.375023\n",
            "4  0.650557  0.553275  0.655868\n"
          ]
        }
      ]
    },
    {
      "cell_type": "code",
      "source": [
        "# 12 - Extraer las de una serie dado una lista de posiciones.\n",
        "# Entrada\n",
        "ser = pd.Series(list('abcdefghijklmnopqrstuvwxyz'))\n",
        "pos = [0, 1, 2, 25, 3]\n",
        "print(ser[pos])\n",
        "\n",
        "# Solution\n",
        "ser.take(pos)"
      ],
      "metadata": {
        "colab": {
          "base_uri": "https://localhost:8080/"
        },
        "id": "uuFvGMN4fLZo",
        "outputId": "8f26e766-b06d-4ee5-b993-4bdc77ef7c67"
      },
      "execution_count": 198,
      "outputs": [
        {
          "output_type": "stream",
          "name": "stdout",
          "text": [
            "0     a\n",
            "1     b\n",
            "2     c\n",
            "25    z\n",
            "3     d\n",
            "dtype: object\n"
          ]
        },
        {
          "output_type": "execute_result",
          "data": {
            "text/plain": [
              "0     a\n",
              "1     b\n",
              "2     c\n",
              "25    z\n",
              "3     d\n",
              "dtype: object"
            ]
          },
          "metadata": {},
          "execution_count": 198
        }
      ]
    },
    {
      "cell_type": "code",
      "source": [
        "#13 - Obtener la posición de los items de la serie A en otra serie B.\n",
        "# Entrada\n",
        "ser1 = pd.Series([10, 9, 6, 5, 3, 1, 12, 8, 13])\n",
        "ser2 = pd.Series([1, 3, 10, 13])\n",
        "\n",
        "# Solución 1\n",
        "[np.where(i == ser1)[0].tolist()[0] for i in ser2]\n",
        "\n",
        "# Solución 2\n",
        "[pd.Index(ser1).get_loc(i) for i in ser2]"
      ],
      "metadata": {
        "colab": {
          "base_uri": "https://localhost:8080/"
        },
        "id": "6WiXrEdFhZg0",
        "outputId": "e792e202-4d33-40f2-fdd1-bf7b54986226"
      },
      "execution_count": 199,
      "outputs": [
        {
          "output_type": "execute_result",
          "data": {
            "text/plain": [
              "[5, 4, 0, 8]"
            ]
          },
          "metadata": {},
          "execution_count": 199
        }
      ]
    },
    {
      "cell_type": "code",
      "source": [
        "lista = []\n",
        "np.where(lambda x: lista.append(x) if x == )"
      ],
      "metadata": {
        "id": "sSLGHIirhpFc"
      },
      "execution_count": null,
      "outputs": []
    },
    {
      "cell_type": "code",
      "source": [
        "print(pd.Index(ser1))\n",
        "ser1.to_frame#get_loc(10)"
      ],
      "metadata": {
        "colab": {
          "base_uri": "https://localhost:8080/",
          "height": 322
        },
        "id": "XkruydrOhs4W",
        "outputId": "3b9f45e0-cc4e-4c2b-9c38-bee8ad213233"
      },
      "execution_count": 209,
      "outputs": [
        {
          "output_type": "stream",
          "name": "stdout",
          "text": [
            "Int64Index([10, 9, 6, 5, 3, 1, 12, 8, 13], dtype='int64')\n"
          ]
        },
        {
          "output_type": "error",
          "ename": "AttributeError",
          "evalue": "ignored",
          "traceback": [
            "\u001b[0;31m---------------------------------------------------------------------------\u001b[0m",
            "\u001b[0;31mAttributeError\u001b[0m                            Traceback (most recent call last)",
            "\u001b[0;32m<ipython-input-209-0262cc7540c3>\u001b[0m in \u001b[0;36m<module>\u001b[0;34m()\u001b[0m\n\u001b[1;32m      1\u001b[0m \u001b[0mprint\u001b[0m\u001b[0;34m(\u001b[0m\u001b[0mpd\u001b[0m\u001b[0;34m.\u001b[0m\u001b[0mIndex\u001b[0m\u001b[0;34m(\u001b[0m\u001b[0mser1\u001b[0m\u001b[0;34m)\u001b[0m\u001b[0;34m)\u001b[0m\u001b[0;34m\u001b[0m\u001b[0;34m\u001b[0m\u001b[0m\n\u001b[0;32m----> 2\u001b[0;31m \u001b[0mser1\u001b[0m\u001b[0;34m.\u001b[0m\u001b[0mto_frame\u001b[0m\u001b[0;34m(\u001b[0m\u001b[0;34m)\u001b[0m\u001b[0;34m.\u001b[0m\u001b[0mget_loc\u001b[0m\u001b[0;34m(\u001b[0m\u001b[0;36m10\u001b[0m\u001b[0;34m)\u001b[0m\u001b[0;34m\u001b[0m\u001b[0;34m\u001b[0m\u001b[0m\n\u001b[0m",
            "\u001b[0;32m/usr/local/lib/python3.7/dist-packages/pandas/core/generic.py\u001b[0m in \u001b[0;36m__getattr__\u001b[0;34m(self, name)\u001b[0m\n\u001b[1;32m   5485\u001b[0m         ):\n\u001b[1;32m   5486\u001b[0m             \u001b[0;32mreturn\u001b[0m \u001b[0mself\u001b[0m\u001b[0;34m[\u001b[0m\u001b[0mname\u001b[0m\u001b[0;34m]\u001b[0m\u001b[0;34m\u001b[0m\u001b[0;34m\u001b[0m\u001b[0m\n\u001b[0;32m-> 5487\u001b[0;31m         \u001b[0;32mreturn\u001b[0m \u001b[0mobject\u001b[0m\u001b[0;34m.\u001b[0m\u001b[0m__getattribute__\u001b[0m\u001b[0;34m(\u001b[0m\u001b[0mself\u001b[0m\u001b[0;34m,\u001b[0m \u001b[0mname\u001b[0m\u001b[0;34m)\u001b[0m\u001b[0;34m\u001b[0m\u001b[0;34m\u001b[0m\u001b[0m\n\u001b[0m\u001b[1;32m   5488\u001b[0m \u001b[0;34m\u001b[0m\u001b[0m\n\u001b[1;32m   5489\u001b[0m     \u001b[0;32mdef\u001b[0m \u001b[0m__setattr__\u001b[0m\u001b[0;34m(\u001b[0m\u001b[0mself\u001b[0m\u001b[0;34m,\u001b[0m \u001b[0mname\u001b[0m\u001b[0;34m:\u001b[0m \u001b[0mstr\u001b[0m\u001b[0;34m,\u001b[0m \u001b[0mvalue\u001b[0m\u001b[0;34m)\u001b[0m \u001b[0;34m->\u001b[0m \u001b[0;32mNone\u001b[0m\u001b[0;34m:\u001b[0m\u001b[0;34m\u001b[0m\u001b[0;34m\u001b[0m\u001b[0m\n",
            "\u001b[0;31mAttributeError\u001b[0m: 'DataFrame' object has no attribute 'get_loc'"
          ]
        }
      ]
    },
    {
      "cell_type": "code",
      "source": [
        "#14 - Calcule el Error Cuadrático Medio (SME en inglés) de dadas dos series.\n",
        "# Entrada\n",
        "verdad = pd.Series(range(10))\n",
        "prediccion = pd.Series(range(10)) + np.random.random(10)\n",
        "\n",
        "#solution\n",
        "np.mean((verdad-prediccion)**2)\n"
      ],
      "metadata": {
        "colab": {
          "base_uri": "https://localhost:8080/"
        },
        "id": "s33RaWhujMzJ",
        "outputId": "bc3d397e-4dbf-4ebe-e834-13b26a6297d0"
      },
      "execution_count": 210,
      "outputs": [
        {
          "output_type": "execute_result",
          "data": {
            "text/plain": [
              "0.30512475019094965"
            ]
          },
          "metadata": {},
          "execution_count": 210
        }
      ]
    },
    {
      "cell_type": "code",
      "source": [
        "#15 - Convertir el primer caracter de una serie en mayuúscula.\n",
        "# Entrada\n",
        "ser = pd.Series(['hola', 'me', 'llamo', 'Antonio'])\n",
        "mayus = pd.Series([i.capitalize() for i in ser])\n",
        "mayus = ser.str.title()\n",
        "mayus = ser.apply([lambda x: x.capitalize()])\n",
        "print(mayus)"
      ],
      "metadata": {
        "colab": {
          "base_uri": "https://localhost:8080/"
        },
        "id": "_SwLBANImIzP",
        "outputId": "86569ca0-7fae-455c-c25c-1831e3cc3aa4"
      },
      "execution_count": 218,
      "outputs": [
        {
          "output_type": "stream",
          "name": "stdout",
          "text": [
            "0    <function <lambda> at 0x7f1a835d2170>\n",
            "dtype: object\n"
          ]
        }
      ]
    },
    {
      "cell_type": "code",
      "source": [
        "#16 - Calcular el número de caracteres de cada palabra en una serie.\n",
        "# Entrada\n",
        "ser = pd.Series(['hola', 'me', 'llamo', 'Antonio'])\n",
        "\n",
        "# Solucion\n",
        "solution1 = ser.map(lambda x: len(x))\n",
        "solution2 = ser.apply(lambda x: len(x))\n",
        "print(solution1, solution2)\n",
        "ser.map(lambda x: x.capitalize())"
      ],
      "metadata": {
        "colab": {
          "base_uri": "https://localhost:8080/"
        },
        "id": "I1VEsAngnKSm",
        "outputId": "b727f584-85e6-492d-dfb5-1d86c3ef0643"
      },
      "execution_count": 221,
      "outputs": [
        {
          "output_type": "stream",
          "name": "stdout",
          "text": [
            "0    4\n",
            "1    2\n",
            "2    5\n",
            "3    7\n",
            "dtype: int64 0    4\n",
            "1    2\n",
            "2    5\n",
            "3    7\n",
            "dtype: int64\n"
          ]
        },
        {
          "output_type": "execute_result",
          "data": {
            "text/plain": [
              "0       Hola\n",
              "1         Me\n",
              "2      Llamo\n",
              "3    Antonio\n",
              "dtype: object"
            ]
          },
          "metadata": {},
          "execution_count": 221
        }
      ]
    },
    {
      "cell_type": "code",
      "source": [
        "#17 - Dada una serie de fechas escritas como cadenas, páselas a timeseries.\n",
        "# Entrada\n",
        "ser = pd.Series(['01 Feb 2012', '02-03-2011', '20150503', '2016/04/04', '2018-05-05', '2018-06-06T12:20'])\n",
        "\n",
        "# Solución\n",
        "pd.to_datetime(ser)"
      ],
      "metadata": {
        "colab": {
          "base_uri": "https://localhost:8080/"
        },
        "id": "E22_qOiTrOKI",
        "outputId": "99595080-ed3f-49bb-b74c-cd28f43ff29b"
      },
      "execution_count": 222,
      "outputs": [
        {
          "output_type": "execute_result",
          "data": {
            "text/plain": [
              "0   2012-02-01 00:00:00\n",
              "1   2011-02-03 00:00:00\n",
              "2   2015-05-03 00:00:00\n",
              "3   2016-04-04 00:00:00\n",
              "4   2018-05-05 00:00:00\n",
              "5   2018-06-06 12:20:00\n",
              "dtype: datetime64[ns]"
            ]
          },
          "metadata": {},
          "execution_count": 222
        }
      ]
    },
    {
      "cell_type": "code",
      "source": [
        "#18 - Obtenga el día del mes, el número de la semana y el día del año a partir de una serie de cadenas de fechas.\n",
        "# Entrada\n",
        "ser = pd.Series(['01 Feb 2012', '02-03-2011', '20150503', '2016/04/04', '2018-05-05', '2018-06-06T12:20'])\n",
        "\n",
        "# Solución\n",
        "from dateutil.parser import parse\n",
        "ser_ts = ser.map(lambda x: parse(x))\n",
        "\n",
        "# Día del mes\n",
        "print(\"Fecha: \", ser_ts.dt.day.tolist())\n",
        "\n",
        "# Semana number\n",
        "print(\"Número de semana: \", ser_ts.dt.weekofyear.tolist())\n",
        "\n",
        "# Día del año\n",
        "print(\"Día del año: \", ser_ts.dt.dayofyear.tolist())"
      ],
      "metadata": {
        "colab": {
          "base_uri": "https://localhost:8080/"
        },
        "id": "AhCf4_L1swAK",
        "outputId": "37304994-73d4-487b-8d24-eae70eb6343b"
      },
      "execution_count": 223,
      "outputs": [
        {
          "output_type": "stream",
          "name": "stdout",
          "text": [
            "Fecha:  [1, 3, 3, 4, 5, 6]\n",
            "Número de semana:  [5, 5, 18, 14, 18, 23]\n",
            "Día del año:  [32, 34, 123, 95, 125, 157]\n"
          ]
        },
        {
          "output_type": "stream",
          "name": "stderr",
          "text": [
            "/usr/local/lib/python3.7/dist-packages/ipykernel_launcher.py:13: FutureWarning: Series.dt.weekofyear and Series.dt.week have been deprecated.  Please use Series.dt.isocalendar().week instead.\n",
            "  del sys.path[0]\n"
          ]
        }
      ]
    }
  ]
}