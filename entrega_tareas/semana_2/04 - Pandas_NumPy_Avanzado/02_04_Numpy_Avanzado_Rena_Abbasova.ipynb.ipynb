{
  "cells": [
    {
      "cell_type": "markdown",
      "source": [
        "# Nueva sección"
      ],
      "metadata": {
        "id": "AkfFcokYAdRZ"
      }
    },
    {
      "cell_type": "code",
      "source": [
        "import numpy as np\n"
      ],
      "metadata": {
        "id": "05SBjTsW2OFs"
      },
      "execution_count": null,
      "outputs": []
    },
    {
      "cell_type": "code",
      "source": [
        "print(np.__version__)\n",
        "np.show_config()"
      ],
      "metadata": {
        "colab": {
          "base_uri": "https://localhost:8080/"
        },
        "id": "RiM8U5o7Bbrh",
        "outputId": "46e247b6-d975-4646-9836-f41d02e93c08"
      },
      "execution_count": null,
      "outputs": [
        {
          "output_type": "stream",
          "name": "stdout",
          "text": [
            "1.21.6\n",
            "blas_mkl_info:\n",
            "  NOT AVAILABLE\n",
            "blis_info:\n",
            "  NOT AVAILABLE\n",
            "openblas_info:\n",
            "    libraries = ['openblas', 'openblas']\n",
            "    library_dirs = ['/usr/local/lib']\n",
            "    language = c\n",
            "    define_macros = [('HAVE_CBLAS', None)]\n",
            "    runtime_library_dirs = ['/usr/local/lib']\n",
            "blas_opt_info:\n",
            "    libraries = ['openblas', 'openblas']\n",
            "    library_dirs = ['/usr/local/lib']\n",
            "    language = c\n",
            "    define_macros = [('HAVE_CBLAS', None)]\n",
            "    runtime_library_dirs = ['/usr/local/lib']\n",
            "lapack_mkl_info:\n",
            "  NOT AVAILABLE\n",
            "openblas_lapack_info:\n",
            "    libraries = ['openblas', 'openblas']\n",
            "    library_dirs = ['/usr/local/lib']\n",
            "    language = c\n",
            "    define_macros = [('HAVE_CBLAS', None)]\n",
            "    runtime_library_dirs = ['/usr/local/lib']\n",
            "lapack_opt_info:\n",
            "    libraries = ['openblas', 'openblas']\n",
            "    library_dirs = ['/usr/local/lib']\n",
            "    language = c\n",
            "    define_macros = [('HAVE_CBLAS', None)]\n",
            "    runtime_library_dirs = ['/usr/local/lib']\n",
            "Supported SIMD extensions in this NumPy install:\n",
            "    baseline = SSE,SSE2,SSE3\n",
            "    found = SSSE3,SSE41,POPCNT,SSE42,AVX,F16C,FMA3,AVX2\n",
            "    not found = AVX512F,AVX512CD,AVX512_KNL,AVX512_KNM,AVX512_SKX,AVX512_CLX,AVX512_CNL,AVX512_ICL\n"
          ]
        }
      ]
    },
    {
      "cell_type": "code",
      "source": [
        "Z = np.zeros(10)\n",
        "print(Z)"
      ],
      "metadata": {
        "colab": {
          "base_uri": "https://localhost:8080/"
        },
        "id": "LgtRgXf-Bje5",
        "outputId": "42815b01-db2b-4f02-d40d-1e8b205a23a9"
      },
      "execution_count": null,
      "outputs": [
        {
          "output_type": "stream",
          "name": "stdout",
          "text": [
            "[0. 0. 0. 0. 0. 0. 0. 0. 0. 0.]\n"
          ]
        }
      ]
    },
    {
      "cell_type": "code",
      "source": [
        "z=np.zeros(10)\n",
        "Z[4]=1\n",
        "print(Z)\n",
        "print(np.std(Z))\n",
        "print('la media de este array % f'%(np.mean(z)))"
      ],
      "metadata": {
        "colab": {
          "base_uri": "https://localhost:8080/"
        },
        "id": "kz2BXjvlB-2y",
        "outputId": "891771b0-3bbb-4c75-b3c8-b02ef3abe175"
      },
      "execution_count": null,
      "outputs": [
        {
          "output_type": "stream",
          "name": "stdout",
          "text": [
            "[0. 0. 0. 0. 1. 0. 0. 0. 0. 0.]\n",
            "0.30000000000000004\n",
            "la media de este array  0.000000\n"
          ]
        }
      ]
    },
    {
      "cell_type": "code",
      "source": [
        "zmedia=np.mean(z)\n",
        "dmedia=np.std(z)\n",
        "print(\"la media de este array es\",zmedia, \"su desviación estandar es\",dmedia)\n"
      ],
      "metadata": {
        "colab": {
          "base_uri": "https://localhost:8080/"
        },
        "id": "fI4YpeZoC3yA",
        "outputId": "fb64f3bb-4d60-446d-cdf4-813c2c0981ab"
      },
      "execution_count": null,
      "outputs": [
        {
          "output_type": "stream",
          "name": "stdout",
          "text": [
            "la media de este array es 0.0 su desviación estandar es 0.0\n"
          ]
        }
      ]
    },
    {
      "cell_type": "code",
      "source": [
        "np.arange(10,50,dtype=int)"
      ],
      "metadata": {
        "colab": {
          "base_uri": "https://localhost:8080/"
        },
        "id": "YTLEQCXYDt7D",
        "outputId": "6c22e589-d9d9-4d31-8995-29ccd42a6d0b"
      },
      "execution_count": null,
      "outputs": [
        {
          "output_type": "execute_result",
          "data": {
            "text/plain": [
              "array([10, 11, 12, 13, 14, 15, 16, 17, 18, 19, 20, 21, 22, 23, 24, 25, 26,\n",
              "       27, 28, 29, 30, 31, 32, 33, 34, 35, 36, 37, 38, 39, 40, 41, 42, 43,\n",
              "       44, 45, 46, 47, 48, 49])"
            ]
          },
          "metadata": {},
          "execution_count": 7
        }
      ]
    },
    {
      "cell_type": "code",
      "source": [
        "Z = np.linspace(2,20,7)[::-1]\n",
        "Z = Z[::-1]\n",
        "print(Z)"
      ],
      "metadata": {
        "colab": {
          "base_uri": "https://localhost:8080/"
        },
        "id": "RPXTUM71ExhM",
        "outputId": "7128e17f-9832-4fc6-c7e8-a2cc813cb6b5"
      },
      "execution_count": null,
      "outputs": [
        {
          "output_type": "stream",
          "name": "stdout",
          "text": [
            "[ 2.  5.  8. 11. 14. 17. 20.]\n"
          ]
        }
      ]
    },
    {
      "cell_type": "code",
      "source": [
        "np.arange(0,9).reshape(3,3)"
      ],
      "metadata": {
        "colab": {
          "base_uri": "https://localhost:8080/"
        },
        "id": "3bYGj-JhGGuk",
        "outputId": "8368056e-6007-4da1-d7db-1281444592a1"
      },
      "execution_count": null,
      "outputs": [
        {
          "output_type": "execute_result",
          "data": {
            "text/plain": [
              "array([[0, 1, 2],\n",
              "       [3, 4, 5],\n",
              "       [6, 7, 8]])"
            ]
          },
          "metadata": {},
          "execution_count": 9
        }
      ]
    },
    {
      "cell_type": "code",
      "source": [
        "##9 - Encuentre los índices de elementos distintos de cero de `[7,5,0,0,2,1]`.\n",
        "\n",
        "nz = np.nonzero([7,5,0,0,2,1])\n",
        "print(nz)\n"
      ],
      "metadata": {
        "colab": {
          "base_uri": "https://localhost:8080/"
        },
        "id": "RwML37oZHuv6",
        "outputId": "74b8fb8d-31a5-4a97-d246-35c0d7ea78d2"
      },
      "execution_count": null,
      "outputs": [
        {
          "output_type": "stream",
          "name": "stdout",
          "text": [
            "(array([0, 1, 4, 5]),)\n"
          ]
        }
      ]
    },
    {
      "cell_type": "code",
      "source": [
        "E=[7,5,0,0,2,-1]\n",
        "e=[x for x in E if x !=0]\n",
        "print(e)\n"
      ],
      "metadata": {
        "colab": {
          "base_uri": "https://localhost:8080/"
        },
        "id": "2-eSvepkMYib",
        "outputId": "92ca5523-dfd7-4497-fa8d-9d9d7a8b0a8b"
      },
      "execution_count": null,
      "outputs": [
        {
          "output_type": "stream",
          "name": "stdout",
          "text": [
            "[7, 5, 2, -1]\n"
          ]
        }
      ]
    },
    {
      "cell_type": "code",
      "source": [
        "M = np.array(E)\n",
        "print(M[np.nonzero(M)])"
      ],
      "metadata": {
        "colab": {
          "base_uri": "https://localhost:8080/"
        },
        "id": "jqyB5y6ROF2u",
        "outputId": "bbae669e-5d7e-4c9a-d64f-08ea08ba4b27"
      },
      "execution_count": null,
      "outputs": [
        {
          "output_type": "stream",
          "name": "stdout",
          "text": [
            "[ 7  5  2 -1]\n"
          ]
        }
      ]
    },
    {
      "cell_type": "code",
      "source": [
        "Z = np.eye(3)\n",
        "print(Z)"
      ],
      "metadata": {
        "colab": {
          "base_uri": "https://localhost:8080/"
        },
        "id": "x2MTKhqMTpQ8",
        "outputId": "33262f8f-988b-42f9-cc63-adf8d1e0da84"
      },
      "execution_count": null,
      "outputs": [
        {
          "output_type": "stream",
          "name": "stdout",
          "text": [
            "[[1. 0. 0.]\n",
            " [0. 1. 0.]\n",
            " [0. 0. 1.]]\n"
          ]
        }
      ]
    },
    {
      "cell_type": "code",
      "source": [
        "Z = np.random.random((3,3,3))\n",
        "print(Z)"
      ],
      "metadata": {
        "colab": {
          "base_uri": "https://localhost:8080/"
        },
        "id": "iEOdk_-pTkjz",
        "outputId": "6e22304c-1f80-4873-e74a-d85b4f94d9be"
      },
      "execution_count": null,
      "outputs": [
        {
          "output_type": "stream",
          "name": "stdout",
          "text": [
            "[[[0.10139021 0.97733017 0.84529164]\n",
            "  [0.40608692 0.83488654 0.56415448]\n",
            "  [0.91475907 0.9815323  0.49961278]]\n",
            "\n",
            " [[0.00529453 0.77442941 0.40741211]\n",
            "  [0.32786108 0.970219   0.99481015]\n",
            "  [0.89135524 0.25464456 0.86833425]]\n",
            "\n",
            " [[0.52734745 0.96369421 0.96363862]\n",
            "  [0.7582513  0.3036282  0.29793033]\n",
            "  [0.26270362 0.17896666 0.13196774]]]\n"
          ]
        }
      ]
    },
    {
      "cell_type": "code",
      "source": [
        "##12 - Cree una matriz de 10x10 con valores aleatorios y encuentre el mínimo y el máximo.\n",
        "\n"
      ],
      "metadata": {
        "id": "YSDlMmV-UiBA"
      },
      "execution_count": null,
      "outputs": []
    },
    {
      "cell_type": "code",
      "source": [
        "l=np.random.random((10,10))\n",
        "print(l)\n"
      ],
      "metadata": {
        "colab": {
          "base_uri": "https://localhost:8080/"
        },
        "id": "iejCAdX7UjmO",
        "outputId": "fa9664d0-e84f-4b6f-c2e4-a2834c5030f0"
      },
      "execution_count": null,
      "outputs": [
        {
          "output_type": "stream",
          "name": "stdout",
          "text": [
            "[[0.05016415 0.14317098 0.13700079 0.6419785  0.52061986 0.20126188\n",
            "  0.14388312 0.96774327 0.98388991 0.33659229]\n",
            " [0.57923747 0.60593154 0.10825907 0.93389953 0.03851046 0.94461183\n",
            "  0.18133027 0.51052435 0.64603179 0.21331983]\n",
            " [0.79980887 0.59063462 0.9578861  0.44892999 0.5559534  0.13935488\n",
            "  0.85884337 0.20250762 0.84724188 0.83279965]\n",
            " [0.56209087 0.65362577 0.37239902 0.29045472 0.53045092 0.8961873\n",
            "  0.97218401 0.89534946 0.0621462  0.26537536]\n",
            " [0.0840947  0.43964287 0.62295578 0.59271678 0.66530589 0.90072262\n",
            "  0.6303112  0.12485729 0.95981537 0.00350946]\n",
            " [0.02945058 0.18647384 0.54638187 0.30620675 0.77155745 0.65112926\n",
            "  0.21527014 0.04775565 0.82444887 0.0446654 ]\n",
            " [0.44524405 0.90384514 0.43988433 0.53624213 0.86016935 0.83373156\n",
            "  0.29229122 0.67485958 0.1714855  0.60967995]\n",
            " [0.73208336 0.63835617 0.58284346 0.0450076  0.278321   0.30255149\n",
            "  0.90767796 0.23215372 0.91738812 0.0458801 ]\n",
            " [0.25146454 0.57660071 0.75690328 0.9273233  0.56205884 0.01350314\n",
            "  0.14373429 0.42155693 0.17912328 0.61567146]\n",
            " [0.51212747 0.12278234 0.68244843 0.53460648 0.92240659 0.61122425\n",
            "  0.91512702 0.84645187 0.10073767 0.75601657]]\n"
          ]
        }
      ]
    },
    {
      "cell_type": "code",
      "source": [
        "l=np.random.random((10,10))\n",
        "print(\"El Maximo de la matriz es {}\".format(l.max()))"
      ],
      "metadata": {
        "colab": {
          "base_uri": "https://localhost:8080/"
        },
        "id": "UxfhZJcOV36U",
        "outputId": "efe87ace-b3d5-46e7-966c-dbace9be879a"
      },
      "execution_count": null,
      "outputs": [
        {
          "output_type": "stream",
          "name": "stdout",
          "text": [
            "El Maximo de la matriz es 0.9974514024325645\n"
          ]
        }
      ]
    },
    {
      "cell_type": "code",
      "source": [
        "print(\"El Mínimo de la matriz es {}\".format(l.min()))"
      ],
      "metadata": {
        "colab": {
          "base_uri": "https://localhost:8080/"
        },
        "id": "aksoD1tXboeA",
        "outputId": "143d8f7d-a769-4670-bc92-ffb8c2905949"
      },
      "execution_count": null,
      "outputs": [
        {
          "output_type": "stream",
          "name": "stdout",
          "text": [
            "El Mínimo de la matriz es 0.002028925298576678\n"
          ]
        }
      ]
    },
    {
      "cell_type": "code",
      "source": [
        "#Generad una matriz llamada mat_al_2_8 que genere números aleatorios entre el 2 y el 8"
      ],
      "metadata": {
        "id": "NAecki56YsdJ"
      },
      "execution_count": null,
      "outputs": []
    },
    {
      "cell_type": "code",
      "source": [
        "\n",
        "mat_al_2_8 = 6*np.random.random((3,3))\n",
        "print(mat_al_2_8 )"
      ],
      "metadata": {
        "colab": {
          "base_uri": "https://localhost:8080/"
        },
        "id": "CH5XJxHyXEJN",
        "outputId": "a7159a7c-4c6c-4b8b-c416-8f7c7f36a7d8"
      },
      "execution_count": null,
      "outputs": [
        {
          "output_type": "stream",
          "name": "stdout",
          "text": [
            "[[4.94745726 0.52098719 3.69225858]\n",
            " [3.84147875 2.72324391 5.90440897]\n",
            " [0.75000119 2.58420666 0.15522808]]\n"
          ]
        }
      ]
    },
    {
      "cell_type": "code",
      "source": [
        "#Genera una función matriz llamada matriznormal a la que podamos pedirle una matriz cuadrada (con dimensión a especificar)\n",
        " #y cuyos datos sigan una distribución normal (con media y desviación típica a especificar).\n",
        " #Asignad el valor \"1\" por defecto a la dimensión"
      ],
      "metadata": {
        "id": "LFMyARxCXXDo"
      },
      "execution_count": null,
      "outputs": []
    },
    {
      "cell_type": "code",
      "source": [
        ""
      ],
      "metadata": {
        "id": "eKzCB8bUjBTW"
      },
      "execution_count": null,
      "outputs": []
    },
    {
      "cell_type": "code",
      "source": [
        "def matriz_normal(media, desviacion, dimension = 1):\n",
        "  numero_aleatorio = desviacion*np.random.randn(dimension**2) + media\n",
        " \n",
        "  return numero_aleatorio.reshape(dimension,dimension)"
      ],
      "metadata": {
        "id": "RVJkmIf4jTi7"
      },
      "execution_count": null,
      "outputs": []
    },
    {
      "cell_type": "code",
      "source": [
        "print(matriz_normal)(5,2,3)"
      ],
      "metadata": {
        "colab": {
          "base_uri": "https://localhost:8080/",
          "height": 182
        },
        "id": "hoZ9A7l1jZKr",
        "outputId": "4afd3b1b-3d5b-488e-d690-21c598c14bc4"
      },
      "execution_count": null,
      "outputs": [
        {
          "output_type": "stream",
          "name": "stdout",
          "text": [
            "<function matriz_normal at 0x7ff78e39ff80>\n"
          ]
        },
        {
          "output_type": "error",
          "ename": "TypeError",
          "evalue": "ignored",
          "traceback": [
            "\u001b[0;31m---------------------------------------------------------------------------\u001b[0m",
            "\u001b[0;31mTypeError\u001b[0m                                 Traceback (most recent call last)",
            "\u001b[0;32m<ipython-input-23-53b0d0efb7d0>\u001b[0m in \u001b[0;36m<module>\u001b[0;34m()\u001b[0m\n\u001b[0;32m----> 1\u001b[0;31m \u001b[0mprint\u001b[0m\u001b[0;34m(\u001b[0m\u001b[0mmatriz_normal\u001b[0m\u001b[0;34m)\u001b[0m\u001b[0;34m(\u001b[0m\u001b[0;36m5\u001b[0m\u001b[0;34m,\u001b[0m\u001b[0;36m2\u001b[0m\u001b[0;34m,\u001b[0m\u001b[0;36m3\u001b[0m\u001b[0;34m)\u001b[0m\u001b[0;34m\u001b[0m\u001b[0;34m\u001b[0m\u001b[0m\n\u001b[0m",
            "\u001b[0;31mTypeError\u001b[0m: 'NoneType' object is not callable"
          ]
        }
      ]
    },
    {
      "cell_type": "code",
      "source": [
        "##13 - Cree un vector aleatorio de tamaño 50 y encuentre el valor medio.\n",
        "\n",
        "np.random.random(50).mean()\n"
      ],
      "metadata": {
        "colab": {
          "base_uri": "https://localhost:8080/"
        },
        "id": "0trDj1qFkdW6",
        "outputId": "e5e981d1-9fe7-4c31-cace-5db5266078e0"
      },
      "execution_count": null,
      "outputs": [
        {
          "output_type": "execute_result",
          "data": {
            "text/plain": [
              "0.5405721790240127"
            ]
          },
          "metadata": {},
          "execution_count": 24
        }
      ]
    },
    {
      "cell_type": "code",
      "source": [
        "##14 - Cree una matriz de 6x6 con valores 1,2,3,4,5 justo debajo de la diagonal.\n",
        "\n",
        "\n",
        "Z = np.diag(1+np.arange(5),k=-1)\n",
        "print(Z)"
      ],
      "metadata": {
        "colab": {
          "base_uri": "https://localhost:8080/"
        },
        "id": "0ALL9gPblJCI",
        "outputId": "39be5a43-6410-4951-b236-ea5fdd0ae455"
      },
      "execution_count": null,
      "outputs": [
        {
          "output_type": "stream",
          "name": "stdout",
          "text": [
            "[[0 0 0 0 0 0]\n",
            " [1 0 0 0 0 0]\n",
            " [0 2 0 0 0 0]\n",
            " [0 0 3 0 0 0]\n",
            " [0 0 0 4 0 0]\n",
            " [0 0 0 0 5 0]]\n"
          ]
        }
      ]
    },
    {
      "cell_type": "code",
      "source": [
        "##15 - Considere una matriz de formas (4,5,6), ¿cuál es el índice (x,y,z) del elemento número 57?\n",
        "\n",
        "\n",
        "print(np.unravel_index(56,(4,5,6)))"
      ],
      "metadata": {
        "colab": {
          "base_uri": "https://localhost:8080/"
        },
        "id": "dmpFM32pmb8n",
        "outputId": "cff849b0-e907-437f-e7b8-05429a78281a"
      },
      "execution_count": null,
      "outputs": [
        {
          "output_type": "stream",
          "name": "stdout",
          "text": [
            "(1, 4, 2)\n"
          ]
        }
      ]
    },
    {
      "cell_type": "code",
      "source": [
        "##16 - Normalice una matriz aleatoria de 10x10.\n",
        "\n",
        "`pista: (x - mean) / std`"
      ],
      "metadata": {
        "id": "Lt-lXmPmmmCH",
        "colab": {
          "base_uri": "https://localhost:8080/",
          "height": 130
        },
        "outputId": "7bc9d357-6a7e-43c7-a745-abfd72d8f257"
      },
      "execution_count": null,
      "outputs": [
        {
          "output_type": "error",
          "ename": "SyntaxError",
          "evalue": "ignored",
          "traceback": [
            "\u001b[0;36m  File \u001b[0;32m\"<ipython-input-27-afb64bf0e82c>\"\u001b[0;36m, line \u001b[0;32m3\u001b[0m\n\u001b[0;31m    `pista: (x - mean) / std`\u001b[0m\n\u001b[0m    ^\u001b[0m\n\u001b[0;31mSyntaxError\u001b[0m\u001b[0;31m:\u001b[0m invalid syntax\n"
          ]
        }
      ]
    },
    {
      "cell_type": "code",
      "source": [
        "Z = np.random.random((10,10))\n",
        "Z = (Z - np.mean (Z)) / (np.std (Z))\n",
        "print(Z)"
      ],
      "metadata": {
        "colab": {
          "base_uri": "https://localhost:8080/"
        },
        "id": "1U8QRFNGmqJD",
        "outputId": "851be66b-941a-44ff-e5fc-213393069b4b"
      },
      "execution_count": null,
      "outputs": [
        {
          "output_type": "stream",
          "name": "stdout",
          "text": [
            "[[-1.02431007  1.08929475 -0.90214983  0.02949153  0.78047759  1.66106541\n",
            "   0.02589478  0.17406416 -1.11142396 -0.74927529]\n",
            " [-0.91055343  1.73898712 -0.19637678  1.52613629 -0.32344412  0.99719644\n",
            "   0.19670068 -1.59169528 -0.91252482 -0.65235448]\n",
            " [-0.55598962 -1.11435498  0.0021711   0.31011797  0.85522762  0.42958393\n",
            "   0.52482499  0.68410605 -1.17658507 -0.23972764]\n",
            " [-1.29754606  1.87280068  1.40992311  0.59384998 -1.61331258 -1.2247933\n",
            "   1.20336377 -0.10735293  0.65551377  1.2044159 ]\n",
            " [-1.3525989  -0.43824244  1.17393598 -0.02021464 -1.07034813 -0.16598574\n",
            "   1.5972735  -0.19323463 -0.06992283  0.0739573 ]\n",
            " [-0.4569646  -0.37985725 -0.4877858  -1.39141869 -0.54085762  1.46007845\n",
            "   0.88428706  1.07908228 -1.54496765  1.13205781]\n",
            " [ 1.42395678 -1.37259759  0.07481436 -1.40957067 -0.70121492 -0.70957346\n",
            "   0.06283048  1.06521594 -0.79367707 -1.73203711]\n",
            " [-0.63797429 -1.7490048   1.51899107  1.323801    1.20138233 -1.0439165\n",
            "   1.46604116  1.90928097  0.96840953  0.17570336]\n",
            " [-0.58602793  0.59220243 -1.19273673  1.12121947 -0.99802225 -0.89456558\n",
            "  -1.44723934  0.14547269  1.54141299 -0.14031458]\n",
            " [ 1.08125862 -0.01642953 -0.72001099  0.44565029  0.77274384 -0.92003808\n",
            "   0.41944375 -0.43933147 -0.25746776 -1.09779121]]\n"
          ]
        }
      ]
    },
    {
      "cell_type": "code",
      "source": [
        "##17 - Multiplique una matriz de 3x2 por una matriz de 2x5."
      ],
      "metadata": {
        "id": "7dzrMeMtoJHD"
      },
      "execution_count": null,
      "outputs": []
    },
    {
      "cell_type": "code",
      "source": [
        "Z = np.dot(np.ones((3,2)), np.ones((2,5)))\n",
        "print(Z)"
      ],
      "metadata": {
        "colab": {
          "base_uri": "https://localhost:8080/"
        },
        "id": "W8a5SLedoKbg",
        "outputId": "f48acc26-3030-4e3b-cae0-3fad66d24c2b"
      },
      "execution_count": null,
      "outputs": [
        {
          "output_type": "stream",
          "name": "stdout",
          "text": [
            "[[2. 2. 2. 2. 2.]\n",
            " [2. 2. 2. 2. 2.]\n",
            " [2. 2. 2. 2. 2.]]\n"
          ]
        }
      ]
    },
    {
      "cell_type": "code",
      "source": [
        "##18 - ¿Cómo encuentra valores comunes entre dos matrices?\n",
        "\n",
        "`pista: np.intersect1d`\n"
      ],
      "metadata": {
        "id": "m1RP-G3no7yI",
        "colab": {
          "base_uri": "https://localhost:8080/",
          "height": 130
        },
        "outputId": "eb764b12-87bb-4878-d381-b2ad7a9e912a"
      },
      "execution_count": null,
      "outputs": [
        {
          "output_type": "error",
          "ename": "SyntaxError",
          "evalue": "ignored",
          "traceback": [
            "\u001b[0;36m  File \u001b[0;32m\"<ipython-input-30-a2e7a327e7b6>\"\u001b[0;36m, line \u001b[0;32m3\u001b[0m\n\u001b[0;31m    `pista: np.intersect1d`\u001b[0m\n\u001b[0m    ^\u001b[0m\n\u001b[0;31mSyntaxError\u001b[0m\u001b[0;31m:\u001b[0m invalid syntax\n"
          ]
        }
      ]
    },
    {
      "cell_type": "code",
      "source": [
        "Z1 = np.random.randint(0,10,10)\n",
        "Z2 = np.random.randint(0,10,10)\n",
        "print(np.intersect1d(Z1,Z2))"
      ],
      "metadata": {
        "colab": {
          "base_uri": "https://localhost:8080/"
        },
        "id": "9thT1GCPo-8S",
        "outputId": "e1568224-a6a4-4601-a159-86fba4a9daa5"
      },
      "execution_count": null,
      "outputs": [
        {
          "output_type": "stream",
          "name": "stdout",
          "text": [
            "[2 5 8 9]\n"
          ]
        }
      ]
    },
    {
      "cell_type": "code",
      "source": [
        "##19 - ¿Cómo obtener las fechas de ayer, hoy y mañana?\n",
        "\n",
        "`pista: np.datetime64, np.timedelta64`\n"
      ],
      "metadata": {
        "id": "f_cRMmpPpi8T",
        "colab": {
          "base_uri": "https://localhost:8080/",
          "height": 130
        },
        "outputId": "8c42dfcf-d492-42fc-8a0a-abf8f650c48d"
      },
      "execution_count": null,
      "outputs": [
        {
          "output_type": "error",
          "ename": "SyntaxError",
          "evalue": "ignored",
          "traceback": [
            "\u001b[0;36m  File \u001b[0;32m\"<ipython-input-32-7fa7db00eb84>\"\u001b[0;36m, line \u001b[0;32m3\u001b[0m\n\u001b[0;31m    `pista: np.datetime64, np.timedelta64`\u001b[0m\n\u001b[0m    ^\u001b[0m\n\u001b[0;31mSyntaxError\u001b[0m\u001b[0;31m:\u001b[0m invalid syntax\n"
          ]
        }
      ]
    },
    {
      "cell_type": "code",
      "source": [
        "ayer    = np.datetime64('today') - np.timedelta64(1)\n",
        "hoy     = np.datetime64('today')\n",
        "mañana  = np.datetime64('today') + np.timedelta64(1)\n"
      ],
      "metadata": {
        "id": "uqwBA0UppkgY"
      },
      "execution_count": null,
      "outputs": []
    },
    {
      "cell_type": "code",
      "source": [
        "##20 - ¿Cómo obtener todas las fechas correspondientes al mes de septiembre de 2020?\n",
        "\n",
        "`pista: np.arange(dtype=datetime64['D'])`"
      ],
      "metadata": {
        "id": "KC-6vcopqEgt",
        "colab": {
          "base_uri": "https://localhost:8080/",
          "height": 130
        },
        "outputId": "18400baa-8683-4c1f-8449-50daec63f114"
      },
      "execution_count": null,
      "outputs": [
        {
          "output_type": "error",
          "ename": "SyntaxError",
          "evalue": "ignored",
          "traceback": [
            "\u001b[0;36m  File \u001b[0;32m\"<ipython-input-33-4dbaea8946b2>\"\u001b[0;36m, line \u001b[0;32m3\u001b[0m\n\u001b[0;31m    `pista: np.arange(dtype=datetime64['D'])`\u001b[0m\n\u001b[0m    ^\u001b[0m\n\u001b[0;31mSyntaxError\u001b[0m\u001b[0;31m:\u001b[0m invalid syntax\n"
          ]
        }
      ]
    },
    {
      "cell_type": "code",
      "source": [
        "Z = np.arange('2020-09', '2020-10', dtype='datetime64[D]')\n",
        "print(Z)"
      ],
      "metadata": {
        "colab": {
          "base_uri": "https://localhost:8080/"
        },
        "id": "p7AdMMBEqHv-",
        "outputId": "24ad05e6-1163-472b-fb73-0ee2e3c79429"
      },
      "execution_count": null,
      "outputs": [
        {
          "output_type": "stream",
          "name": "stdout",
          "text": [
            "['2020-09-01' '2020-09-02' '2020-09-03' '2020-09-04' '2020-09-05'\n",
            " '2020-09-06' '2020-09-07' '2020-09-08' '2020-09-09' '2020-09-10'\n",
            " '2020-09-11' '2020-09-12' '2020-09-13' '2020-09-14' '2020-09-15'\n",
            " '2020-09-16' '2020-09-17' '2020-09-18' '2020-09-19' '2020-09-20'\n",
            " '2020-09-21' '2020-09-22' '2020-09-23' '2020-09-24' '2020-09-25'\n",
            " '2020-09-26' '2020-09-27' '2020-09-28' '2020-09-29' '2020-09-30']\n"
          ]
        }
      ]
    },
    {
      "cell_type": "markdown",
      "source": [
        "##21 - Extraiga la parte entera de una matriz aleatoria de números positivos usando 4 métodos diferentes.\n",
        "\n",
        "`pista: %, np.floor, astype, np.trunc`"
      ],
      "metadata": {
        "id": "mG6CFlP4qWsJ"
      }
    },
    {
      "cell_type": "code",
      "source": [
        "Z = np.random.uniform(0,10,10)\n",
        "\n",
        "print(Z - Z%1)\n",
        "print(Z // 1)\n",
        "print(np.floor(Z))\n",
        "print(Z.astype(int))\n",
        "print(np.trunc(Z))"
      ],
      "metadata": {
        "colab": {
          "base_uri": "https://localhost:8080/"
        },
        "id": "TwiSx7GWqaW3",
        "outputId": "25f4bbf3-f770-41e4-c49d-3bc3e9584336"
      },
      "execution_count": null,
      "outputs": [
        {
          "output_type": "stream",
          "name": "stdout",
          "text": [
            "[5. 8. 3. 4. 2. 1. 0. 7. 5. 5.]\n",
            "[5. 8. 3. 4. 2. 1. 0. 7. 5. 5.]\n",
            "[5. 8. 3. 4. 2. 1. 0. 7. 5. 5.]\n",
            "[5 8 3 4 2 1 0 7 5 5]\n",
            "[5. 8. 3. 4. 2. 1. 0. 7. 5. 5.]\n"
          ]
        }
      ]
    },
    {
      "cell_type": "markdown",
      "source": [
        "##22 - Cree una matriz de 10x10 con valores de fila que van de 0 a 9.\n",
        "\n",
        "`pista: np.arange`"
      ],
      "metadata": {
        "id": "vS-b9k74r9hd"
      }
    },
    {
      "cell_type": "code",
      "source": [
        "Z = np.zeros((10,10))\n",
        "Z += np.arange(10)\n",
        "print(Z)\n"
      ],
      "metadata": {
        "colab": {
          "base_uri": "https://localhost:8080/"
        },
        "id": "LwrMR_Tcr_Dm",
        "outputId": "aa4d87b8-4b78-4989-e8ec-6e02829a30cb"
      },
      "execution_count": null,
      "outputs": [
        {
          "output_type": "stream",
          "name": "stdout",
          "text": [
            "[[0. 1. 2. 3. 4. 5. 6. 7. 8. 9.]\n",
            " [0. 1. 2. 3. 4. 5. 6. 7. 8. 9.]\n",
            " [0. 1. 2. 3. 4. 5. 6. 7. 8. 9.]\n",
            " [0. 1. 2. 3. 4. 5. 6. 7. 8. 9.]\n",
            " [0. 1. 2. 3. 4. 5. 6. 7. 8. 9.]\n",
            " [0. 1. 2. 3. 4. 5. 6. 7. 8. 9.]\n",
            " [0. 1. 2. 3. 4. 5. 6. 7. 8. 9.]\n",
            " [0. 1. 2. 3. 4. 5. 6. 7. 8. 9.]\n",
            " [0. 1. 2. 3. 4. 5. 6. 7. 8. 9.]\n",
            " [0. 1. 2. 3. 4. 5. 6. 7. 8. 9.]]\n"
          ]
        }
      ]
    },
    {
      "cell_type": "markdown",
      "source": [
        "##24 - Cree un vector aleatorio de tamaño 25 y ordénelo.\n",
        "\n",
        "`pista: sort`"
      ],
      "metadata": {
        "id": "55W4Ruo2vU-t"
      }
    },
    {
      "cell_type": "code",
      "source": [
        "Z = np.random.random(25)\n",
        "Z.sort()\n",
        "print(Z)\n",
        "print(np.sort(Z))"
      ],
      "metadata": {
        "colab": {
          "base_uri": "https://localhost:8080/"
        },
        "id": "TNKhKWHQvTZd",
        "outputId": "75144a5b-d47e-4c11-b9fa-a8b65f077ba4"
      },
      "execution_count": null,
      "outputs": [
        {
          "output_type": "stream",
          "name": "stdout",
          "text": [
            "[0.00505128 0.03125989 0.06225026 0.08105917 0.12354682 0.14223891\n",
            " 0.1765714  0.19554227 0.3269083  0.41478069 0.46939904 0.47247657\n",
            " 0.47625158 0.52165688 0.63671883 0.63875047 0.64232924 0.69947731\n",
            " 0.76403372 0.80346784 0.86566874 0.87344738 0.91567838 0.97531444\n",
            " 0.98103845]\n",
            "[0.00505128 0.03125989 0.06225026 0.08105917 0.12354682 0.14223891\n",
            " 0.1765714  0.19554227 0.3269083  0.41478069 0.46939904 0.47247657\n",
            " 0.47625158 0.52165688 0.63671883 0.63875047 0.64232924 0.69947731\n",
            " 0.76403372 0.80346784 0.86566874 0.87344738 0.91567838 0.97531444\n",
            " 0.98103845]\n"
          ]
        }
      ]
    }
  ],
  "metadata": {
    "colab": {
      "name": "02_04_Numpy_Avanzado_Rena_Abbasova.ipynb",
      "provenance": [],
      "toc_visible": true,
      "collapsed_sections": [
        "mG6CFlP4qWsJ",
        "vS-b9k74r9hd",
        "55W4Ruo2vU-t"
      ]
    },
    "kernelspec": {
      "display_name": "Python 3",
      "name": "python3"
    },
    "language_info": {
      "name": "python"
    }
  },
  "nbformat": 4,
  "nbformat_minor": 0
}