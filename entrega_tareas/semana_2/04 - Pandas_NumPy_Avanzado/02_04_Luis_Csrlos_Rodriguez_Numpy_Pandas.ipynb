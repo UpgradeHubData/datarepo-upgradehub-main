{
  "nbformat": 4,
  "nbformat_minor": 0,
  "metadata": {
    "colab": {
      "name": "Copia de Untitled",
      "provenance": [],
      "collapsed_sections": []
    },
    "kernelspec": {
      "name": "python3",
      "display_name": "Python 3"
    },
    "language_info": {
      "name": "python"
    }
  },
  "cells": [
    {
      "cell_type": "markdown",
      "source": [
        "# **Colección de ejercicios de Numpy**"
      ],
      "metadata": {
        "id": "3oHXbqUNDD2r"
      }
    },
    {
      "cell_type": "code",
      "source": [
        "# Importa el paquete con el nombre \"np\"\n",
        "import numpy as np"
      ],
      "metadata": {
        "id": "A3ErDyHD9IFs"
      },
      "execution_count": null,
      "outputs": []
    },
    {
      "cell_type": "code",
      "source": [
        "# Imprime la versión instalada\n",
        "print(np.__version__)\n",
        "np.show_config()"
      ],
      "metadata": {
        "colab": {
          "base_uri": "https://localhost:8080/"
        },
        "id": "6gvr4l_zDUd0",
        "outputId": "4b2b8d3f-0b5d-4b5a-e1d7-f1dd19c372ef"
      },
      "execution_count": null,
      "outputs": [
        {
          "output_type": "stream",
          "name": "stdout",
          "text": [
            "1.21.6\n",
            "blas_mkl_info:\n",
            "  NOT AVAILABLE\n",
            "blis_info:\n",
            "  NOT AVAILABLE\n",
            "openblas_info:\n",
            "    libraries = ['openblas', 'openblas']\n",
            "    library_dirs = ['/usr/local/lib']\n",
            "    language = c\n",
            "    define_macros = [('HAVE_CBLAS', None)]\n",
            "    runtime_library_dirs = ['/usr/local/lib']\n",
            "blas_opt_info:\n",
            "    libraries = ['openblas', 'openblas']\n",
            "    library_dirs = ['/usr/local/lib']\n",
            "    language = c\n",
            "    define_macros = [('HAVE_CBLAS', None)]\n",
            "    runtime_library_dirs = ['/usr/local/lib']\n",
            "lapack_mkl_info:\n",
            "  NOT AVAILABLE\n",
            "openblas_lapack_info:\n",
            "    libraries = ['openblas', 'openblas']\n",
            "    library_dirs = ['/usr/local/lib']\n",
            "    language = c\n",
            "    define_macros = [('HAVE_CBLAS', None)]\n",
            "    runtime_library_dirs = ['/usr/local/lib']\n",
            "lapack_opt_info:\n",
            "    libraries = ['openblas', 'openblas']\n",
            "    library_dirs = ['/usr/local/lib']\n",
            "    language = c\n",
            "    define_macros = [('HAVE_CBLAS', None)]\n",
            "    runtime_library_dirs = ['/usr/local/lib']\n",
            "Supported SIMD extensions in this NumPy install:\n",
            "    baseline = SSE,SSE2,SSE3\n",
            "    found = SSSE3,SSE41,POPCNT,SSE42,AVX,F16C,FMA3,AVX2\n",
            "    not found = AVX512F,AVX512CD,AVX512_KNL,AVX512_KNM,AVX512_SKX,AVX512_CLX,AVX512_CNL,AVX512_ICL\n"
          ]
        }
      ]
    },
    {
      "cell_type": "code",
      "source": [
        "#Cree un vector nulo de tamaño 10 pero el quinto valor tiene de valor 1\n",
        "T= np.zeros(10)\n",
        "T[4] = 1\n",
        "print(T)"
      ],
      "metadata": {
        "colab": {
          "base_uri": "https://localhost:8080/"
        },
        "id": "mV3GMV11-tET",
        "outputId": "37aa6ef2-2bec-41ba-baa8-e19116cb80e9"
      },
      "execution_count": null,
      "outputs": [
        {
          "output_type": "stream",
          "name": "stdout",
          "text": [
            "[0. 0. 0. 0. 1. 0. 0. 0. 0. 0.]\n"
          ]
        }
      ]
    },
    {
      "cell_type": "code",
      "source": [
        "# Calcular la desviación típica de T\n",
        "# Mostrar la media y desviación Típica de T\n",
        "np.std(T)\n",
        "print(\"La Media de T corresponde a : \" + str(np.mean(T)) + \" \\nLa Desviación Típica de T corresponde a : \" + str(np.std(T)))"
      ],
      "metadata": {
        "colab": {
          "base_uri": "https://localhost:8080/"
        },
        "id": "5DVnfUG4-71B",
        "outputId": "70310fdf-45c2-438e-8615-ce51ad15b999"
      },
      "execution_count": null,
      "outputs": [
        {
          "output_type": "stream",
          "name": "stdout",
          "text": [
            "La Media de T corresponde a : 0.1 \n",
            "La Desviación Típica de T corresponde a : 0.30000000000000004\n"
          ]
        }
      ]
    },
    {
      "cell_type": "code",
      "source": [
        "# Cree un vector con valores que van de 10 a 49.\n",
        "np.arange(10,50,dtype=int)"
      ],
      "metadata": {
        "colab": {
          "base_uri": "https://localhost:8080/"
        },
        "id": "6vQeQ6k3DfUo",
        "outputId": "117a4ab5-8493-4d0f-e87c-18fec22e0ea8"
      },
      "execution_count": null,
      "outputs": [
        {
          "output_type": "execute_result",
          "data": {
            "text/plain": [
              "array([10, 11, 12, 13, 14, 15, 16, 17, 18, 19, 20, 21, 22, 23, 24, 25, 26,\n",
              "       27, 28, 29, 30, 31, 32, 33, 34, 35, 36, 37, 38, 39, 40, 41, 42, 43,\n",
              "       44, 45, 46, 47, 48, 49])"
            ]
          },
          "metadata": {},
          "execution_count": 19
        }
      ]
    },
    {
      "cell_type": "code",
      "source": [
        "# Generar un vector con 7 elementos equidistantes entre el 2 y el 16. Dadle la vuelta a este vector\n",
        "Z=np.linspace(1, 16, num=7) #lisnpace sirve para generar las distancias equidistantes en una línea recta, para un plano cartesiano se puede usar Geomspace\n",
        "cZ = Z[::-1]\n",
        "print(Z)"
      ],
      "metadata": {
        "colab": {
          "base_uri": "https://localhost:8080/"
        },
        "id": "mRBCtTQ7ENnP",
        "outputId": "01bed905-c6b4-4c67-db9e-400ba2c79e2f"
      },
      "execution_count": null,
      "outputs": [
        {
          "output_type": "stream",
          "name": "stdout",
          "text": [
            "[16.  13.5 11.   8.5  6.   3.5  1. ]\n"
          ]
        }
      ]
    },
    {
      "cell_type": "code",
      "source": [
        "# Crear una matriz de 3x3 con valores que van de 0 a 8\n",
        "Mtrz= np.arange(0,9).reshape(3, 3)\n",
        "print(Mtrz)"
      ],
      "metadata": {
        "colab": {
          "base_uri": "https://localhost:8080/"
        },
        "id": "5yMmiicOHdMI",
        "outputId": "2751466e-d1d2-4705-9498-8e7652e00a12"
      },
      "execution_count": null,
      "outputs": [
        {
          "output_type": "stream",
          "name": "stdout",
          "text": [
            "[[0 1 2]\n",
            " [3 4 5]\n",
            " [6 7 8]]\n"
          ]
        }
      ]
    },
    {
      "cell_type": "code",
      "source": [
        "# Encuentre los índices de elementos distintos de cero de [7,5,0,0,2,1]\n",
        "a = np.array([7,5,0,0,2,1])\n",
        "print(np.where(a!=0)[0])\n"
      ],
      "metadata": {
        "colab": {
          "base_uri": "https://localhost:8080/"
        },
        "id": "1LuJjgTNIE_f",
        "outputId": "1a9724ac-c74a-4734-cf60-60277b72e571"
      },
      "execution_count": null,
      "outputs": [
        {
          "output_type": "stream",
          "name": "stdout",
          "text": [
            "[0 1 4 5]\n"
          ]
        }
      ]
    },
    {
      "cell_type": "code",
      "source": [
        "# Imprimir los números a los que hace referencia los índices anteriores\n",
        "e = [x for x in a if x !=0]\n",
        "print(e)"
      ],
      "metadata": {
        "colab": {
          "base_uri": "https://localhost:8080/"
        },
        "id": "evobxBtbOg1N",
        "outputId": "ae7a761f-ba97-405e-9192-ddbf108bd2b8"
      },
      "execution_count": null,
      "outputs": [
        {
          "output_type": "stream",
          "name": "stdout",
          "text": [
            "[7, 5, 2, 1]\n"
          ]
        }
      ]
    },
    {
      "cell_type": "code",
      "source": [
        "# crear una matriz de 3x3x3 de números aleatorios  \n",
        "np.random.rand(3,3,3)"
      ],
      "metadata": {
        "colab": {
          "base_uri": "https://localhost:8080/"
        },
        "id": "DERJva83Typ8",
        "outputId": "bb8001d7-18da-43c5-c226-423ec9cf6c60"
      },
      "execution_count": null,
      "outputs": [
        {
          "output_type": "execute_result",
          "data": {
            "text/plain": [
              "array([[[0.71774488, 0.82434706, 0.46351772],\n",
              "        [0.07600248, 0.52042787, 0.52663674],\n",
              "        [0.79822934, 0.51963899, 0.01704578]],\n",
              "\n",
              "       [[0.33682337, 0.8991137 , 0.11906562],\n",
              "        [0.17620498, 0.85986998, 0.22892184],\n",
              "        [0.7374658 , 0.00202712, 0.90082193]],\n",
              "\n",
              "       [[0.5041498 , 0.05217074, 0.52065317],\n",
              "        [0.28948111, 0.65560462, 0.15216891],\n",
              "        [0.72602154, 0.46860242, 0.83160652]]])"
            ]
          },
          "metadata": {},
          "execution_count": 62
        }
      ]
    },
    {
      "cell_type": "code",
      "source": [
        "# crear una matriz de 10x 10 y luego calcular el número máximo y el mínimo\n",
        "\n",
        "Mtale= np.random.rand(10,10)\n",
        "print(Mtale)\n"
      ],
      "metadata": {
        "colab": {
          "base_uri": "https://localhost:8080/"
        },
        "id": "fClmvEw_UjRm",
        "outputId": "760ef70e-be66-4390-90e5-068e34b89b62"
      },
      "execution_count": null,
      "outputs": [
        {
          "output_type": "stream",
          "name": "stdout",
          "text": [
            "[[0.84687798 0.01505968 0.17154171 0.91244338 0.48410805 0.07190603\n",
            "  0.25457919 0.93891419 0.25766586 0.84713849]\n",
            " [0.97935712 0.4255936  0.17540874 0.81610422 0.50846568 0.64096787\n",
            "  0.15806809 0.00286956 0.68184866 0.73752375]\n",
            " [0.82866833 0.11451417 0.79158757 0.24632414 0.2554697  0.54950541\n",
            "  0.239024   0.80879829 0.3774388  0.64802331]\n",
            " [0.24809862 0.49929472 0.95994007 0.6705622  0.05189944 0.74470876\n",
            "  0.6984499  0.56146051 0.32353567 0.56699982]\n",
            " [0.91806347 0.34792807 0.44082459 0.62222963 0.7623456  0.07041946\n",
            "  0.74644215 0.27810236 0.39732972 0.12285503]\n",
            " [0.78482385 0.28801941 0.71720641 0.68199927 0.3567065  0.70251863\n",
            "  0.96694332 0.63429285 0.42519466 0.63895974]\n",
            " [0.95147392 0.49652804 0.74242873 0.49641927 0.37481422 0.93928634\n",
            "  0.44674814 0.20757652 0.06965245 0.29810542]\n",
            " [0.84080658 0.9315639  0.95276405 0.1256852  0.19132758 0.47474523\n",
            "  0.3490309  0.36526917 0.58371195 0.94088179]\n",
            " [0.28966517 0.6537854  0.86476132 0.34691628 0.91140366 0.1743925\n",
            "  0.16383687 0.37972179 0.57684612 0.57123965]\n",
            " [0.26948838 0.69902597 0.15922709 0.31941293 0.53887079 0.93443479\n",
            "  0.29334227 0.85175842 0.21455166 0.45187148]]\n"
          ]
        }
      ]
    },
    {
      "cell_type": "code",
      "source": [
        "print(\"El maximo de la matriz es : \"+ str(np.max(Mtale))) \n",
        "print(\"El maximo de la matriz es : \"+ str(np.min(Mtale))) "
      ],
      "metadata": {
        "colab": {
          "base_uri": "https://localhost:8080/"
        },
        "id": "_dhRnqXsU8T_",
        "outputId": "407b57c2-6e39-42f7-ebac-cfa6dd0a6dc2"
      },
      "execution_count": null,
      "outputs": [
        {
          "output_type": "stream",
          "name": "stdout",
          "text": [
            "El maximo de la matriz es : 0.9793571228686861\n",
            "El maximo de la matriz es : 0.0028695595126385642\n"
          ]
        }
      ]
    },
    {
      "cell_type": "code",
      "source": [
        "# Generar una matriz llamada \"mat_al_2_8\" de 3 x 3 , con números aleatorios entre el 2 y el 8\n",
        "mat_al_2_8 = np.random.randint(2,8, size=(3, 3)) \n",
        "print(mat_al_2_8)"
      ],
      "metadata": {
        "colab": {
          "base_uri": "https://localhost:8080/"
        },
        "id": "b4RggqqhV-04",
        "outputId": "db5bf339-b13f-402a-b986-67a0499a4dd7"
      },
      "execution_count": null,
      "outputs": [
        {
          "output_type": "stream",
          "name": "stdout",
          "text": [
            "[[6 5 2]\n",
            " [4 2 5]\n",
            " [4 7 7]]\n"
          ]
        }
      ]
    },
    {
      "cell_type": "markdown",
      "source": [
        "* Genera una función matriz llamada matriznormal a la que podamos pedirle una matriz cuadrada (con dimensión a especificar) y cuyos datos sigan una distribución normal (con media y desviación típica a especificar)."
      ],
      "metadata": {
        "id": "O4Z8xD5sY8Dq"
      }
    },
    {
      "cell_type": "code",
      "source": [
        "def matriz_normal2 (media,desviacion,dimension=1):\n",
        "  numero_aleatorio = desviacion*np.random.rand(dimension**2) + media\n",
        "  return numero_aleatorio.reshape(dimension,dimension)\n"
      ],
      "metadata": {
        "id": "2014TZ1KglGY"
      },
      "execution_count": null,
      "outputs": []
    },
    {
      "cell_type": "code",
      "source": [
        "print(matriz_normal2(5,2,3))"
      ],
      "metadata": {
        "colab": {
          "base_uri": "https://localhost:8080/"
        },
        "id": "T52dLyXmixQO",
        "outputId": "ed2131c9-a070-4c70-bd53-ab8107427cbf"
      },
      "execution_count": null,
      "outputs": [
        {
          "output_type": "stream",
          "name": "stdout",
          "text": [
            "[[5.07231495 6.48310649 5.52293283]\n",
            " [6.65987466 6.8721194  5.33875911]\n",
            " [6.16841315 6.01711884 6.01791204]]\n"
          ]
        }
      ]
    },
    {
      "cell_type": "code",
      "source": [
        "# Cree una matriz de 6x6 con valores 1,2,3,4,5 justo debajo de la diagonal.\n",
        "Z = np.diag(np.arange(5)+(1),k=-1)\n",
        "print(Z)"
      ],
      "metadata": {
        "colab": {
          "base_uri": "https://localhost:8080/"
        },
        "id": "0XJj88RxkLu4",
        "outputId": "232be4c1-4cb7-41aa-d0a5-5d7ebcd7ebaf"
      },
      "execution_count": null,
      "outputs": [
        {
          "output_type": "stream",
          "name": "stdout",
          "text": [
            "[[0 0 0 0 0 0]\n",
            " [1 0 0 0 0 0]\n",
            " [0 2 0 0 0 0]\n",
            " [0 0 3 0 0 0]\n",
            " [0 0 0 4 0 0]\n",
            " [0 0 0 0 5 0]]\n"
          ]
        }
      ]
    },
    {
      "cell_type": "code",
      "source": [
        "# Considere una matriz de formas (4,5,6), ¿cuál es el índice (x,y,z) del elemento número 57?\n",
        "\n",
        "print(np.unravel_index(56,(4,5,6)))\n"
      ],
      "metadata": {
        "colab": {
          "base_uri": "https://localhost:8080/"
        },
        "id": "4CycMsSUpHeX",
        "outputId": "0dc059f4-801a-4ef0-aeb0-ab03320a6f42"
      },
      "execution_count": null,
      "outputs": [
        {
          "output_type": "stream",
          "name": "stdout",
          "text": [
            "(1, 4, 2)\n"
          ]
        }
      ]
    },
    {
      "cell_type": "code",
      "source": [
        "# Normalice una matriz aleatoria de 10x10\n",
        "Z = np.random.random((10,10))\n",
        "Z = (Z - np.mean (Z)) / (np.std (Z))\n",
        "print(Z)"
      ],
      "metadata": {
        "colab": {
          "base_uri": "https://localhost:8080/"
        },
        "id": "3YiXL5Igo2-Q",
        "outputId": "edcd219f-4525-400d-9e4a-2efb388c5153"
      },
      "execution_count": null,
      "outputs": [
        {
          "output_type": "stream",
          "name": "stdout",
          "text": [
            "[[ 0.81451362  0.85831135  0.95972765 -0.31550809  1.08981918  0.62738116\n",
            "   0.62922665  0.50955987 -0.56208358  1.4414846 ]\n",
            " [ 0.84145632 -0.06857573 -0.5366793   0.02834056  0.05350114  1.3036126\n",
            "  -0.18648876 -0.91611043  1.45040004  1.45618418]\n",
            " [ 0.04245318 -0.80548039  1.05327921  1.07216454  0.75710095  1.27898032\n",
            "  -1.62348333  1.50663437 -1.19305258  0.06244007]\n",
            " [ 0.03067916  0.83788209 -0.13432763  1.24225797 -1.20637107  1.28645277\n",
            "  -1.44528096  0.17025774  1.23078539  0.81207867]\n",
            " [-0.70316353  0.58145758 -1.1566975  -0.53094586  0.32314546 -1.32730175\n",
            "   0.52217454 -0.60511556 -0.67733679  1.57617655]\n",
            " [-0.49522694 -0.87358558  1.53639522 -1.4369694  -1.06351165 -1.31113183\n",
            "  -0.81292455 -1.6848501   0.92838243  0.82905471]\n",
            " [-0.53971045  0.77455301  1.19781054 -1.30886994 -1.24610164 -1.42483476\n",
            "   0.46525164 -0.78092942 -1.10194252 -1.21782223]\n",
            " [ 0.33912057 -0.41392086  0.66988179  1.12270739  0.87658537  0.04578492\n",
            "  -1.43027375 -0.33491666  1.07357851 -1.46756078]\n",
            " [-1.57589136  1.6189194  -0.71468907 -1.70168257 -1.05672484  1.31852157\n",
            "  -1.22107531  0.10820491 -0.47502826 -1.14722647]\n",
            " [ 0.98168221  0.7479662   1.54288418  0.22304665 -1.1120802  -1.33519119\n",
            "   0.58565365 -1.10723781  0.38635507  0.56365357]]\n"
          ]
        }
      ]
    },
    {
      "cell_type": "code",
      "source": [
        "#Multiplique una matriz de 3x2 por una matriz de 2x5.\n",
        "\n",
        "Z = np.dot(np.ones((3,2)), np.ones((2,5)))\n",
        "print(Z)"
      ],
      "metadata": {
        "colab": {
          "base_uri": "https://localhost:8080/"
        },
        "id": "gcXY8W47mcI5",
        "outputId": "e3ee61cd-d7dd-48cc-b00d-b40462f344c5"
      },
      "execution_count": null,
      "outputs": [
        {
          "output_type": "stream",
          "name": "stdout",
          "text": [
            "[[2. 2. 2. 2. 2.]\n",
            " [2. 2. 2. 2. 2.]\n",
            " [2. 2. 2. 2. 2.]]\n"
          ]
        }
      ]
    },
    {
      "cell_type": "code",
      "source": [
        "#  ¿Cómo obtener las fechas de ayer, hoy y mañana?\n",
        "\n",
        "ayer    = np.datetime64('today') - np.timedelta64(1)\n",
        "hoy     = np.datetime64('today')\n",
        "mañana  = np.datetime64('today') + np.timedelta64(1)\n"
      ],
      "metadata": {
        "id": "sxvzzoIkpgT8"
      },
      "execution_count": null,
      "outputs": []
    },
    {
      "cell_type": "code",
      "source": [
        "# ¿Cómo obtener todas las fechas correspondientes al mes de septiembre de 2020?\n",
        "\n",
        "Z = np.arange('2020-09', '2020-10', dtype='datetime64[D]')\n",
        "print(Z)"
      ],
      "metadata": {
        "colab": {
          "base_uri": "https://localhost:8080/"
        },
        "id": "0fSCuGWIqzms",
        "outputId": "c9003c22-5de8-4c1d-f50b-1b794d1b46ee"
      },
      "execution_count": null,
      "outputs": [
        {
          "output_type": "stream",
          "name": "stdout",
          "text": [
            "['2020-09-01' '2020-09-02' '2020-09-03' '2020-09-04' '2020-09-05'\n",
            " '2020-09-06' '2020-09-07' '2020-09-08' '2020-09-09' '2020-09-10'\n",
            " '2020-09-11' '2020-09-12' '2020-09-13' '2020-09-14' '2020-09-15'\n",
            " '2020-09-16' '2020-09-17' '2020-09-18' '2020-09-19' '2020-09-20'\n",
            " '2020-09-21' '2020-09-22' '2020-09-23' '2020-09-24' '2020-09-25'\n",
            " '2020-09-26' '2020-09-27' '2020-09-28' '2020-09-29' '2020-09-30']\n"
          ]
        }
      ]
    },
    {
      "cell_type": "code",
      "source": [
        "# Extraiga la parte entera de una matriz aleatoria de números positivos usando 4 métodos diferentes.\n",
        "\n",
        "Z = np.random.uniform(0,10,10)\n",
        "\n",
        "print(Z - Z%1)\n",
        "print(Z // 1)\n",
        "print(np.floor(Z))\n",
        "print(Z.astype(int))\n",
        "print(np.trunc(Z))\n",
        "\n"
      ],
      "metadata": {
        "colab": {
          "base_uri": "https://localhost:8080/"
        },
        "id": "b7wSwqtVq7R8",
        "outputId": "24568dab-b737-41d8-ffe6-69e0c905392f"
      },
      "execution_count": null,
      "outputs": [
        {
          "output_type": "stream",
          "name": "stdout",
          "text": [
            "[1. 9. 9. 1. 8. 3. 6. 4. 3. 4.]\n",
            "[1. 9. 9. 1. 8. 3. 6. 4. 3. 4.]\n",
            "[1. 9. 9. 1. 8. 3. 6. 4. 3. 4.]\n",
            "[1 9 9 1 8 3 6 4 3 4]\n",
            "[1. 9. 9. 1. 8. 3. 6. 4. 3. 4.]\n"
          ]
        }
      ]
    },
    {
      "cell_type": "code",
      "source": [
        "# Cree una matriz de 10x10 con valores de fila que van de 0 a 9.\n",
        "\n",
        "Z = np.zeros((10,10))\n",
        "Z += np.arange(10)\n",
        "print(Z)"
      ],
      "metadata": {
        "colab": {
          "base_uri": "https://localhost:8080/"
        },
        "id": "r-APIaWrrGJe",
        "outputId": "15f36e14-d817-4e49-b802-02d8712bb03b"
      },
      "execution_count": null,
      "outputs": [
        {
          "output_type": "stream",
          "name": "stdout",
          "text": [
            "[[0. 1. 2. 3. 4. 5. 6. 7. 8. 9.]\n",
            " [0. 1. 2. 3. 4. 5. 6. 7. 8. 9.]\n",
            " [0. 1. 2. 3. 4. 5. 6. 7. 8. 9.]\n",
            " [0. 1. 2. 3. 4. 5. 6. 7. 8. 9.]\n",
            " [0. 1. 2. 3. 4. 5. 6. 7. 8. 9.]\n",
            " [0. 1. 2. 3. 4. 5. 6. 7. 8. 9.]\n",
            " [0. 1. 2. 3. 4. 5. 6. 7. 8. 9.]\n",
            " [0. 1. 2. 3. 4. 5. 6. 7. 8. 9.]\n",
            " [0. 1. 2. 3. 4. 5. 6. 7. 8. 9.]\n",
            " [0. 1. 2. 3. 4. 5. 6. 7. 8. 9.]]\n"
          ]
        }
      ]
    },
    {
      "cell_type": "code",
      "source": [
        "# Cree un vector de tamaño 5 con valores que van de 0 a 1, ambos excluidos.\n",
        "Z = np.linspace(0,1,6,endpoint=False)[1:]\n",
        "print(Z)"
      ],
      "metadata": {
        "colab": {
          "base_uri": "https://localhost:8080/"
        },
        "id": "K-RharOguZMK",
        "outputId": "8b7f1ba8-78f0-4898-ab49-8c69d795586a"
      },
      "execution_count": null,
      "outputs": [
        {
          "output_type": "stream",
          "name": "stdout",
          "text": [
            "[0.16666667 0.33333333 0.5        0.66666667 0.83333333]\n"
          ]
        }
      ]
    },
    {
      "cell_type": "code",
      "source": [
        "# Cree un vector aleatorio de tamaño 25 y ordénelo.\n",
        "Z = np.random.random(25)\n",
        "Z.sort()\n",
        "print(Z)\n"
      ],
      "metadata": {
        "colab": {
          "base_uri": "https://localhost:8080/"
        },
        "id": "APEhhjjVugv7",
        "outputId": "16d63cf6-dc12-4c8e-bd46-49dfbf33ef02"
      },
      "execution_count": null,
      "outputs": [
        {
          "output_type": "stream",
          "name": "stdout",
          "text": [
            "[0.01721521 0.05965137 0.24065327 0.28563708 0.28939351 0.35178909\n",
            " 0.38449446 0.41312286 0.53777445 0.58682756 0.59528361 0.62223317\n",
            " 0.63698638 0.65454536 0.6625654  0.69966321 0.73600738 0.7787931\n",
            " 0.78527482 0.81660949 0.85402668 0.87017483 0.90279232 0.93889752\n",
            " 0.97844129]\n"
          ]
        }
      ]
    },
    {
      "cell_type": "code",
      "source": [
        "# Sume un vector usando np.add.reduce.\n",
        "\n",
        "Z = np.arange(20)\n",
        "np.add.reduce(Z)"
      ],
      "metadata": {
        "colab": {
          "base_uri": "https://localhost:8080/"
        },
        "id": "e_OP1uOnv9-t",
        "outputId": "689edc18-b173-4fd7-c23f-78135b8049a5"
      },
      "execution_count": null,
      "outputs": [
        {
          "output_type": "execute_result",
          "data": {
            "text/plain": [
              "190"
            ]
          },
          "metadata": {},
          "execution_count": 181
        }
      ]
    },
    {
      "cell_type": "code",
      "source": [
        "#  Considere dos matrices aleatorias A y B, verifique si son iguales.\n",
        "\n",
        "A = np.random.randint(0,2,5)\n",
        "B = np.random.randint(0,2,5)\n",
        "\n",
        "# Si son identicas en forma pero no tienen los mismos valores (hay tolerancia).\n",
        "equal = np.allclose(A,B)\n",
        "print(equal)\n",
        "\n",
        "# Si son identicas en forma y además tienen los mismos valores (no hay tolerancia).\n",
        "equal = np.array_equal(A,B)\n",
        "print(equal)"
      ],
      "metadata": {
        "colab": {
          "base_uri": "https://localhost:8080/"
        },
        "id": "m5a3hn3ixLuV",
        "outputId": "a3453ea2-3f3e-4dec-d748-330c92554ce0"
      },
      "execution_count": null,
      "outputs": [
        {
          "output_type": "stream",
          "name": "stdout",
          "text": [
            "False\n",
            "False\n"
          ]
        }
      ]
    },
    {
      "cell_type": "code",
      "source": [
        "# Cree un vector aleatorio de tamaño 25 y reemplace el valor máximo por 0.\n",
        "Z = np.random.random(25)\n",
        "Z[Z.argmax()] = 0\n",
        "print(Z)\n"
      ],
      "metadata": {
        "colab": {
          "base_uri": "https://localhost:8080/"
        },
        "id": "V1AyTudHxfXR",
        "outputId": "9952caeb-faf3-48b5-ccb9-807e7482e767"
      },
      "execution_count": null,
      "outputs": [
        {
          "output_type": "stream",
          "name": "stdout",
          "text": [
            "[0.39069593 0.95687551 0.47191724 0.19045238 0.2460326  0.07723248\n",
            " 0.0204837  0.95889858 0.06814277 0.42827407 0.43198751 0.47964495\n",
            " 0.45250611 0.00493347 0.25421768 0.46531074 0.95323717 0.56960709\n",
            " 0.17298497 0.         0.42931769 0.79529614 0.57020114 0.58765712\n",
            " 0.47598239]\n"
          ]
        }
      ]
    },
    {
      "cell_type": "code",
      "source": [
        "# ¿Cómo imprimir todos los valores de una matriz?\n",
        "np.set_printoptions(threshold=float(\"inf\"))\n",
        "Z = np.zeros((40,40))\n",
        "print(Z)"
      ],
      "metadata": {
        "id": "Xn39Dcgaxt2C"
      },
      "execution_count": null,
      "outputs": []
    },
    {
      "cell_type": "code",
      "source": [
        "# ¿Cómo encontrar el valor más cercano, a un escalar dado, en un vector?\n",
        "\n",
        "HH = np.arange(100)\n",
        "print(HH)\n",
        "\n",
        "\n"
      ],
      "metadata": {
        "colab": {
          "base_uri": "https://localhost:8080/"
        },
        "id": "K7EIaVJ9xyTu",
        "outputId": "eed8688a-8255-4d9d-ffcc-f66abea9c708"
      },
      "execution_count": null,
      "outputs": [
        {
          "output_type": "stream",
          "name": "stdout",
          "text": [
            "[ 0  1  2  3  4  5  6  7  8  9 10 11 12 13 14 15 16 17 18 19 20 21 22 23\n",
            " 24 25 26 27 28 29 30 31 32 33 34 35 36 37 38 39 40 41 42 43 44 45 46 47\n",
            " 48 49 50 51 52 53 54 55 56 57 58 59 60 61 62 63 64 65 66 67 68 69 70 71\n",
            " 72 73 74 75 76 77 78 79 80 81 82 83 84 85 86 87 88 89 90 91 92 93 94 95\n",
            " 96 97 98 99]\n"
          ]
        }
      ]
    },
    {
      "cell_type": "code",
      "source": [
        "JJ = np.random.uniform(0,100)\n",
        "print(JJ)\n",
        "\n"
      ],
      "metadata": {
        "colab": {
          "base_uri": "https://localhost:8080/"
        },
        "id": "dAn63hm1yTwa",
        "outputId": "356cfa4f-5ed2-4fca-fa09-ace0563e2f0b"
      },
      "execution_count": null,
      "outputs": [
        {
          "output_type": "stream",
          "name": "stdout",
          "text": [
            "32.61006877885077\n"
          ]
        }
      ]
    },
    {
      "cell_type": "code",
      "source": [
        "index = (np.abs(HH-JJ)).argmin()\n",
        "print(HH[index])"
      ],
      "metadata": {
        "colab": {
          "base_uri": "https://localhost:8080/"
        },
        "id": "08-P0pLEyY8w",
        "outputId": "f25a3d05-8bde-4309-8b22-0dc8d5b5153b"
      },
      "execution_count": null,
      "outputs": [
        {
          "output_type": "stream",
          "name": "stdout",
          "text": [
            "33\n"
          ]
        }
      ]
    },
    {
      "cell_type": "markdown",
      "source": [
        "# Ejercicios Pandas"
      ],
      "metadata": {
        "id": "KmG7JOLtvCKM"
      }
    },
    {
      "cell_type": "code",
      "source": [
        "# Importar Pandas\".\n",
        "import pandas as pd\n",
        "\n"
      ],
      "metadata": {
        "id": "pXwvR09bvIJr"
      },
      "execution_count": 1,
      "outputs": []
    },
    {
      "cell_type": "code",
      "source": [
        "#Imprimir la versión instalada.\n",
        "pd.__version__"
      ],
      "metadata": {
        "colab": {
          "base_uri": "https://localhost:8080/",
          "height": 35
        },
        "id": "4MmFUw7_vaEI",
        "outputId": "9d4ee6ee-b3e2-4114-be0b-172f8a37afc4"
      },
      "execution_count": 2,
      "outputs": [
        {
          "output_type": "execute_result",
          "data": {
            "text/plain": [
              "'1.3.5'"
            ],
            "application/vnd.google.colaboratory.intrinsic+json": {
              "type": "string"
            }
          },
          "metadata": {},
          "execution_count": 2
        }
      ]
    },
    {
      "cell_type": "code",
      "source": [
        "# Cree una serie desde un diccionario, desde una lista y desde un numpy array.\n",
        "import numpy as np\n",
        "# Entrada:\n",
        "mi_lista = list('abcedfghijklmnopqrstuvwxyz')\n",
        "np_array = np.arange(26)\n",
        "diccionario = dict(zip(mi_lista, np_array))\n",
        "\n",
        "# Salida:\n",
        "ser1 = pd.Series(mi_lista)\n",
        "ser2 = pd.Series(np_array)\n",
        "ser3 = pd.Series(diccionario)\n",
        "print(ser3.head())"
      ],
      "metadata": {
        "colab": {
          "base_uri": "https://localhost:8080/"
        },
        "id": "caYnTa80vgGX",
        "outputId": "30a5d89b-5ecd-47c6-c75c-3c6bcd2d791e"
      },
      "execution_count": 5,
      "outputs": [
        {
          "output_type": "stream",
          "name": "stdout",
          "text": [
            "a    0\n",
            "b    1\n",
            "c    2\n",
            "e    3\n",
            "d    4\n",
            "dtype: int64\n"
          ]
        }
      ]
    },
    {
      "cell_type": "code",
      "source": [
        "# Convierta el índice de una serie a una columna de un dataframe\n",
        "# Entrada:\n",
        "mi_lista = list('abcedfghijklmnopqrstuvwxyz')\n",
        "np_array = np.arange(26)\n",
        "diccionario = dict(zip(mi_lista, np_array))\n",
        "ser3 = pd.Series(diccionario)\n",
        "\n",
        "# Salida\n",
        "df = ser3.to_frame().reset_index()\n",
        "print(df.head())"
      ],
      "metadata": {
        "colab": {
          "base_uri": "https://localhost:8080/"
        },
        "id": "NpI3Npgswgnf",
        "outputId": "c8b6c715-d63a-4ca6-8e9e-9b3f2fdf582a"
      },
      "execution_count": 6,
      "outputs": [
        {
          "output_type": "stream",
          "name": "stdout",
          "text": [
            "  index  0\n",
            "0     a  0\n",
            "1     b  1\n",
            "2     c  2\n",
            "3     e  3\n",
            "4     d  4\n"
          ]
        }
      ]
    },
    {
      "cell_type": "code",
      "source": [
        "# Combinar varias series para formar un dataframe\n",
        "# Entrada\n",
        "import numpy as np\n",
        "ser1 = pd.Series(list('abcedfghijklmnopqrstuvwxyz'))\n",
        "ser2 = pd.Series(np.arange(26))\n",
        "\n",
        "# Solución 1\n",
        "df = pd.concat([ser1, ser2], axis=1)\n",
        "\n",
        "# Solución 2\n",
        "df = pd.DataFrame({'col1': ser1, 'col2': ser2})\n",
        "print(df.head())"
      ],
      "metadata": {
        "colab": {
          "base_uri": "https://localhost:8080/"
        },
        "id": "II0zPWTPwoa7",
        "outputId": "1f9f6d5c-dad3-445e-b6bb-bb7c78e37fbd"
      },
      "execution_count": 9,
      "outputs": [
        {
          "output_type": "stream",
          "name": "stdout",
          "text": [
            "  col1  col2\n",
            "0    a     0\n",
            "1    b     1\n",
            "2    c     2\n",
            "3    e     3\n",
            "4    d     4\n"
          ]
        }
      ]
    },
    {
      "cell_type": "code",
      "source": [
        "# Obtener los items de la serie A no presentes en la serie B\n",
        "A = pd.Series([\"a\", \"b\", \"c\"])\n",
        "B = pd.Series([1, 2, \"a\"])\n",
        "A[~A.isin(B)]\n",
        "\n"
      ],
      "metadata": {
        "colab": {
          "base_uri": "https://localhost:8080/"
        },
        "id": "wZWK6qAuw09b",
        "outputId": "56c7e945-3d35-497c-fad9-b41eabc7c07a"
      },
      "execution_count": 10,
      "outputs": [
        {
          "output_type": "execute_result",
          "data": {
            "text/plain": [
              "1    b\n",
              "2    c\n",
              "dtype: object"
            ]
          },
          "metadata": {},
          "execution_count": 10
        }
      ]
    },
    {
      "cell_type": "code",
      "source": [
        "# Obtenga la unión e intersección de dos series A y B.\n",
        "\n",
        "\n",
        "# Entrada\n",
        "ser1 = pd.Series([1, 2, 3, 4, 5])\n",
        "ser2 = pd.Series([4, 5, 6, 7, 8])\n",
        "\n",
        "# Solución\n",
        "union = pd.Series(np.union1d(ser1, ser2))  \n",
        "interseccion = pd.Series(np.intersect1d(ser1, ser2))  \n",
        "\n",
        "union\n",
        "interseccion\n",
        "\n"
      ],
      "metadata": {
        "colab": {
          "base_uri": "https://localhost:8080/"
        },
        "id": "RF2d0GrMxVkZ",
        "outputId": "5547a010-b146-4fbe-dfcc-31956562b42c"
      },
      "execution_count": 12,
      "outputs": [
        {
          "output_type": "execute_result",
          "data": {
            "text/plain": [
              "0    4\n",
              "1    5\n",
              "dtype: int64"
            ]
          },
          "metadata": {},
          "execution_count": 12
        }
      ]
    },
    {
      "cell_type": "code",
      "source": [
        "# Obtenga el valor mínimo, el percentil 25, la mediana, el percentil 75 y el máximo de una serie\n",
        "\n",
        "\n",
        "\n",
        "# Entrada\n",
        "serie_ejemplo = np.random.RandomState(100)\n",
        "serie_ejemplo = pd.Series(serie_ejemplo.normal(10, 5, 25))\n",
        "\n",
        "# Solución\n",
        "np.percentile(serie_ejemplo, q=[0, 25, 50, 75, 100])\n",
        "\n"
      ],
      "metadata": {
        "colab": {
          "base_uri": "https://localhost:8080/"
        },
        "id": "6CAekaO1xXGI",
        "outputId": "b3a52351-d17a-42e4-a852-3c9cc25652a7"
      },
      "execution_count": 13,
      "outputs": [
        {
          "output_type": "execute_result",
          "data": {
            "text/plain": [
              "array([ 1.25117263,  7.70986507, 10.92259345, 13.36360403, 18.0949083 ])"
            ]
          },
          "metadata": {},
          "execution_count": 13
        }
      ]
    },
    {
      "cell_type": "code",
      "source": [
        "# Obtenga la frecuencia de aparición de los elementos de una lista.\n",
        "\n",
        "\n",
        "\n",
        "# Entrada\n",
        "serie = pd.Series(np.take(list('abcdefghijklmnoprstuvwxyz'), np.random.randint(8, size=30)))\n",
        "\n",
        "# Solucion\n",
        "serie.value_counts()\n",
        "\n"
      ],
      "metadata": {
        "colab": {
          "base_uri": "https://localhost:8080/"
        },
        "id": "uKHxdhwpxXof",
        "outputId": "8c2de028-e12b-4cbf-e82b-3e70277e51cc"
      },
      "execution_count": 14,
      "outputs": [
        {
          "output_type": "execute_result",
          "data": {
            "text/plain": [
              "h    7\n",
              "e    4\n",
              "g    4\n",
              "d    4\n",
              "a    3\n",
              "f    3\n",
              "c    3\n",
              "b    2\n",
              "dtype: int64"
            ]
          },
          "metadata": {},
          "execution_count": 14
        }
      ]
    },
    {
      "cell_type": "code",
      "source": [
        "# Mantenga de una lista los 3 términos que más aparecen. Renombre el resto de elementos a \"otros\".\n",
        "# Entrada\n",
        "np.random.RandomState(100)\n",
        "ser = pd.Series(np.random.randint(1, 5, [12]))\n",
        "\n",
        "# Solución\n",
        "print(\"Top 3:\", ser.value_counts())\n",
        "ser[~ser.isin(ser.value_counts().index[:3])] = 'Otros'\n",
        "ser\n"
      ],
      "metadata": {
        "colab": {
          "base_uri": "https://localhost:8080/"
        },
        "id": "lMqe2X3_xYBg",
        "outputId": "a5f1152b-3302-408c-e5fc-0b656da051a9"
      },
      "execution_count": 15,
      "outputs": [
        {
          "output_type": "stream",
          "name": "stdout",
          "text": [
            "Top 3: 2    4\n",
            "1    3\n",
            "3    3\n",
            "4    2\n",
            "dtype: int64\n"
          ]
        },
        {
          "output_type": "execute_result",
          "data": {
            "text/plain": [
              "0         2\n",
              "1     Otros\n",
              "2         2\n",
              "3         1\n",
              "4         3\n",
              "5         2\n",
              "6         1\n",
              "7         3\n",
              "8         2\n",
              "9         1\n",
              "10    Otros\n",
              "11        3\n",
              "dtype: object"
            ]
          },
          "metadata": {},
          "execution_count": 15
        }
      ]
    },
    {
      "cell_type": "code",
      "source": [
        "# Convierta una serie en un dataframe con 5 filas y 3 columnas.\n",
        "\n",
        "\n",
        "\n",
        "# Entrada\n",
        "ser = pd.Series(np.random.randint(1, 10, 15))\n",
        "\n",
        "# Solucion\n",
        "df = pd.DataFrame(ser.values.reshape(5,3))\n",
        "print(df)\n",
        "\n"
      ],
      "metadata": {
        "colab": {
          "base_uri": "https://localhost:8080/"
        },
        "id": "2ceRyGZbxYeL",
        "outputId": "b42e30dc-ccaf-4620-b1f2-2c1f1a48ed0e"
      },
      "execution_count": 16,
      "outputs": [
        {
          "output_type": "stream",
          "name": "stdout",
          "text": [
            "   0  1  2\n",
            "0  6  9  2\n",
            "1  5  2  5\n",
            "2  5  9  7\n",
            "3  5  5  7\n",
            "4  3  2  1\n"
          ]
        }
      ]
    },
    {
      "cell_type": "code",
      "source": [
        "# Extraer las de una serie dado una lista de posiciones.\n",
        "\n",
        "\n",
        "# Entrada\n",
        "ser = pd.Series(list('abcdefghijklmnopqrstuvwxyz'))\n",
        "pos = [0, 1, 2, 25, 3]\n",
        "\n",
        "# Solution\n",
        "ser.take(pos)\n",
        "\n"
      ],
      "metadata": {
        "colab": {
          "base_uri": "https://localhost:8080/"
        },
        "id": "FiRPASgGxY3S",
        "outputId": "ae28db1a-822b-4881-b4bf-93b577ce2acc"
      },
      "execution_count": 17,
      "outputs": [
        {
          "output_type": "execute_result",
          "data": {
            "text/plain": [
              "0     a\n",
              "1     b\n",
              "2     c\n",
              "25    z\n",
              "3     d\n",
              "dtype: object"
            ]
          },
          "metadata": {},
          "execution_count": 17
        }
      ]
    },
    {
      "cell_type": "code",
      "source": [
        "# Obtener la posición de los items de la serie A en otra serie B.\n",
        "\n",
        "\n",
        "\n",
        "# Entrada\n",
        "ser1 = pd.Series([10, 9, 6, 5, 3, 1, 12, 8, 13])\n",
        "ser2 = pd.Series([1, 3, 10, 13])\n",
        "\n",
        "# Solución 1\n",
        "[np.where(i == ser1)[0].tolist()[0] for i in ser2]\n",
        "\n",
        "# Solución 2\n",
        "[pd.Index(ser1).get_loc(i) for i in ser2]\n",
        "\n"
      ],
      "metadata": {
        "colab": {
          "base_uri": "https://localhost:8080/"
        },
        "id": "pFHvpK11xZQE",
        "outputId": "b83306ca-ac77-4344-e5e5-a5757f5e7ccc"
      },
      "execution_count": 18,
      "outputs": [
        {
          "output_type": "execute_result",
          "data": {
            "text/plain": [
              "[5, 4, 0, 8]"
            ]
          },
          "metadata": {},
          "execution_count": 18
        }
      ]
    },
    {
      "cell_type": "code",
      "source": [
        "# Calcule el Error Cuadrático Medio (SME en inglés) de dadas dos series.\n",
        "# Entrada\n",
        "verdad = pd.Series(range(10))\n",
        "prediccion = pd.Series(range(10)) + np.random.random(10)\n",
        "\n",
        "# Solución\n",
        "np.mean((verdad-prediccion)**2)"
      ],
      "metadata": {
        "colab": {
          "base_uri": "https://localhost:8080/"
        },
        "id": "gu0KgLOSxrSr",
        "outputId": "8b047706-5c57-457d-d905-16d3757233f0"
      },
      "execution_count": 19,
      "outputs": [
        {
          "output_type": "execute_result",
          "data": {
            "text/plain": [
              "0.353683432047267"
            ]
          },
          "metadata": {},
          "execution_count": 19
        }
      ]
    },
    {
      "cell_type": "code",
      "source": [
        "# Convertir el primer caracter de una serie en mayuúscula.\n",
        "\n",
        "\n",
        "\n",
        "# Entrada\n",
        "ser = pd.Series(['hola', 'me', 'llamo', 'Luis'])\n",
        "\n",
        "#Solución\n",
        "pd.Series([i.title() for i in ser])\n",
        "\n",
        "\n"
      ],
      "metadata": {
        "colab": {
          "base_uri": "https://localhost:8080/"
        },
        "id": "rHSpvgxBxrso",
        "outputId": "68b9f6e7-6285-4774-bcad-c2411e978a00"
      },
      "execution_count": 21,
      "outputs": [
        {
          "output_type": "execute_result",
          "data": {
            "text/plain": [
              "0     Hola\n",
              "1       Me\n",
              "2    Llamo\n",
              "3     Luis\n",
              "dtype: object"
            ]
          },
          "metadata": {},
          "execution_count": 21
        }
      ]
    },
    {
      "cell_type": "code",
      "source": [
        "#  Calcular el número de caracteres de cada palabra en una serie.\n",
        "\n",
        "\n",
        "# Entrada\n",
        "ser = pd.Series(['hola', 'me', 'llamo', 'Luis'])\n",
        "\n",
        "# Solucion\n",
        "ser.map(lambda x: len(x))\n",
        "\n"
      ],
      "metadata": {
        "colab": {
          "base_uri": "https://localhost:8080/"
        },
        "id": "1uLn1PBuxsDi",
        "outputId": "bf99ffaf-1c04-4927-bf0c-0cb89e03610f"
      },
      "execution_count": 23,
      "outputs": [
        {
          "output_type": "execute_result",
          "data": {
            "text/plain": [
              "0    4\n",
              "1    2\n",
              "2    5\n",
              "3    4\n",
              "dtype: int64"
            ]
          },
          "metadata": {},
          "execution_count": 23
        }
      ]
    },
    {
      "cell_type": "code",
      "source": [
        "# Dada una serie de fechas escritas como cadenas, páselas a timeseries.\n",
        "\n",
        "\n",
        "\n",
        "# Entrada\n",
        "ser = pd.Series(['01 Feb 2012', '02-03-2011', '20150503', '2016/04/04', '2018-05-05', '2018-06-06T12:20'])\n",
        "\n",
        "# Solución\n",
        "pd.to_datetime(ser)\n",
        "\n"
      ],
      "metadata": {
        "colab": {
          "base_uri": "https://localhost:8080/"
        },
        "id": "U6bqyEh7xsQD",
        "outputId": "a8cec65d-86d6-42b1-f563-8e488d624763"
      },
      "execution_count": 24,
      "outputs": [
        {
          "output_type": "execute_result",
          "data": {
            "text/plain": [
              "0   2012-02-01 00:00:00\n",
              "1   2011-02-03 00:00:00\n",
              "2   2015-05-03 00:00:00\n",
              "3   2016-04-04 00:00:00\n",
              "4   2018-05-05 00:00:00\n",
              "5   2018-06-06 12:20:00\n",
              "dtype: datetime64[ns]"
            ]
          },
          "metadata": {},
          "execution_count": 24
        }
      ]
    },
    {
      "cell_type": "code",
      "source": [
        "# Obtenga el día del mes, el número de la semana y el día del año a partir de una serie de cadenas de fechas.\n",
        "\n",
        "# Entrada\n",
        "ser = pd.Series(['01 Feb 2012', '02-03-2011', '20150503', '2016/04/04', '2018-05-05', '2018-06-06T12:20'])\n",
        "\n",
        "# Solución\n",
        "from dateutil.parser import parse\n",
        "ser_ts = ser.map(lambda x: parse(x))\n",
        "\n",
        "# Día del mes\n",
        "print(\"Fecha: \", ser_ts.dt.day.tolist())\n",
        "\n",
        "# Semana number\n",
        "print(\"Número de semana: \", ser_ts.dt.weekofyear.tolist())\n",
        "\n",
        "# Día del año\n",
        "print(\"Día del año: \", ser_ts.dt.dayofyear.tolist())"
      ],
      "metadata": {
        "colab": {
          "base_uri": "https://localhost:8080/"
        },
        "id": "Khd0QiEbxsp2",
        "outputId": "a964df65-e26e-4473-df20-6533bf0292be"
      },
      "execution_count": 25,
      "outputs": [
        {
          "output_type": "stream",
          "name": "stdout",
          "text": [
            "Fecha:  [1, 3, 3, 4, 5, 6]\n",
            "Número de semana:  [5, 5, 18, 14, 18, 23]\n",
            "Día del año:  [32, 34, 123, 95, 125, 157]\n"
          ]
        },
        {
          "output_type": "stream",
          "name": "stderr",
          "text": [
            "/usr/local/lib/python3.7/dist-packages/ipykernel_launcher.py:14: FutureWarning: Series.dt.weekofyear and Series.dt.week have been deprecated.  Please use Series.dt.isocalendar().week instead.\n",
            "  \n"
          ]
        }
      ]
    }
  ]
}