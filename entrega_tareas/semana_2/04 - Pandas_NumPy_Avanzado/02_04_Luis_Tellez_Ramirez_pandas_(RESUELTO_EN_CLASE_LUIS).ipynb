{
 "cells": [
  {
   "cell_type": "markdown",
   "metadata": {
    "id": "3aowSon2l2wg"
   },
   "source": [
    "# Colección de ejercicios de Pandas"
   ]
  },
  {
   "cell_type": "markdown",
   "metadata": {
    "id": "fccOfmY7hhDp"
   },
   "source": [
    "## 1 - Importa el paquete con el nombre \"pd\".\n",
    "\n",
    "`pista: import … as …`\n"
   ]
  },
  {
   "cell_type": "code",
   "execution_count": 1,
   "metadata": {},
   "outputs": [],
   "source": [
    "import pandas as pd"
   ]
  },
  {
   "cell_type": "markdown",
   "metadata": {
    "id": "kxch5852hvVp"
   },
   "source": [
    "## 2 - Imprime la versión instalada.\n",
    "\n",
    "`pista: __version__ `\n"
   ]
  },
  {
   "cell_type": "code",
   "execution_count": 5,
   "metadata": {},
   "outputs": [
    {
     "name": "stdout",
     "output_type": "stream",
     "text": [
      "La versión de pandas es: 1.4.1\n"
     ]
    }
   ],
   "source": [
    "print(f'La versión de pandas es: {pd.__version__}')"
   ]
  },
  {
   "cell_type": "markdown",
   "metadata": {
    "id": "SjtrreDMl1LY"
   },
   "source": [
    "## 3 - Cree una serie desde un diccionario, desde una lista y desde un `numpy` array. \n",
    "\n",
    "`pista: pd.Series(...) `"
   ]
  },
  {
   "cell_type": "code",
   "execution_count": 7,
   "metadata": {
    "colab": {
     "base_uri": "https://localhost:8080/"
    },
    "executionInfo": {
     "elapsed": 251,
     "status": "ok",
     "timestamp": 1652975898151,
     "user": {
      "displayName": "Jose Antonio Lagares Rodriguez",
      "userId": "00469018537825658051"
     },
     "user_tz": -120
    },
    "id": "f8g9H2Q5B46h",
    "outputId": "739df253-fe95-41bf-ffab-0e5ce090f367"
   },
   "outputs": [],
   "source": [
    "import numpy as np\n",
    "\n",
    "# Entrada:\n",
    "mi_lista = list('abcedfghijklmnopqrstuvwxyz')\n",
    "np_array = np.arange(26)\n",
    "diccionario = dict(zip(mi_lista, np_array))"
   ]
  },
  {
   "cell_type": "code",
   "execution_count": 15,
   "metadata": {},
   "outputs": [
    {
     "data": {
      "text/plain": [
       "dict_keys(['a', 'b', 'c', 'e', 'd', 'f', 'g', 'h', 'i', 'j', 'k', 'l', 'm', 'n', 'o', 'p', 'q', 'r', 's', 't', 'u', 'v', 'w', 'x', 'y', 'z'])"
      ]
     },
     "execution_count": 15,
     "metadata": {},
     "output_type": "execute_result"
    }
   ],
   "source": [
    "diccionario.keys()"
   ]
  },
  {
   "cell_type": "code",
   "execution_count": 16,
   "metadata": {},
   "outputs": [
    {
     "data": {
      "text/plain": [
       "dict_values([1, 2, 3, 4, 5, 6, 7, 8, 9, 10, 11, 12, 13, 14, 15, 16, 17, 18, 19, 20, 21, 22, 23, 24, 25, 26])"
      ]
     },
     "execution_count": 16,
     "metadata": {},
     "output_type": "execute_result"
    }
   ],
   "source": [
    "diccionario.values()"
   ]
  },
  {
   "cell_type": "code",
   "execution_count": 18,
   "metadata": {},
   "outputs": [
    {
     "data": {
      "text/plain": [
       "1     a\n",
       "2     b\n",
       "3     c\n",
       "4     e\n",
       "5     d\n",
       "6     f\n",
       "7     g\n",
       "8     h\n",
       "9     i\n",
       "10    j\n",
       "11    k\n",
       "12    l\n",
       "13    m\n",
       "14    n\n",
       "15    o\n",
       "16    p\n",
       "17    q\n",
       "18    r\n",
       "19    s\n",
       "20    t\n",
       "21    u\n",
       "22    v\n",
       "23    w\n",
       "24    x\n",
       "25    y\n",
       "26    z\n",
       "dtype: object"
      ]
     },
     "execution_count": 18,
     "metadata": {},
     "output_type": "execute_result"
    }
   ],
   "source": [
    "pd.Series(\n",
    "    data = diccionario.keys(),\n",
    "    index= diccionario.values()\n",
    ")"
   ]
  },
  {
   "cell_type": "code",
   "execution_count": 19,
   "metadata": {},
   "outputs": [
    {
     "name": "stdout",
     "output_type": "stream",
     "text": [
      "1     a\n",
      "2     b\n",
      "3     c\n",
      "4     e\n",
      "5     d\n",
      "6     f\n",
      "7     g\n",
      "8     h\n",
      "9     i\n",
      "10    j\n",
      "11    k\n",
      "12    l\n",
      "13    m\n",
      "14    n\n",
      "15    o\n",
      "16    p\n",
      "17    q\n",
      "18    r\n",
      "19    s\n",
      "20    t\n",
      "21    u\n",
      "22    v\n",
      "23    w\n",
      "24    x\n",
      "25    y\n",
      "26    z\n",
      "dtype: object\n"
     ]
    }
   ],
   "source": [
    "lista = list('abcedfghijklmnopqrstuvwxyz')\n",
    "numeros = len(lista)\n",
    "arr = np.arange(0,numeros)+1\n",
    "df = pd.Series(dict(zip(arr, lista)))\n",
    "print(df)"
   ]
  },
  {
   "cell_type": "markdown",
   "metadata": {
    "id": "g9OjBFDACJZJ"
   },
   "source": [
    "## 4 - Convierta el índice de una serie a una columna de un `dataframe`\n",
    "`pista:  to_frame() y reset_index()`"
   ]
  },
  {
   "cell_type": "code",
   "execution_count": 20,
   "metadata": {
    "colab": {
     "base_uri": "https://localhost:8080/"
    },
    "executionInfo": {
     "elapsed": 266,
     "status": "ok",
     "timestamp": 1652975960571,
     "user": {
      "displayName": "Jose Antonio Lagares Rodriguez",
      "userId": "00469018537825658051"
     },
     "user_tz": -120
    },
    "id": "WzoVzaS1CsqK",
    "outputId": "2d2c7ff5-f345-48ef-c876-aeac9cb459bf"
   },
   "outputs": [],
   "source": [
    "# Entrada:\n",
    "mi_lista = list('abcedfghijklmnopqrstuvwxyz')\n",
    "np_array = np.arange(26)\n",
    "diccionario = dict(zip(mi_lista, np_array))\n",
    "ser3 = pd.Series(diccionario)"
   ]
  },
  {
   "cell_type": "code",
   "execution_count": 26,
   "metadata": {},
   "outputs": [
    {
     "data": {
      "text/html": [
       "<div>\n",
       "<style scoped>\n",
       "    .dataframe tbody tr th:only-of-type {\n",
       "        vertical-align: middle;\n",
       "    }\n",
       "\n",
       "    .dataframe tbody tr th {\n",
       "        vertical-align: top;\n",
       "    }\n",
       "\n",
       "    .dataframe thead th {\n",
       "        text-align: right;\n",
       "    }\n",
       "</style>\n",
       "<table border=\"1\" class=\"dataframe\">\n",
       "  <thead>\n",
       "    <tr style=\"text-align: right;\">\n",
       "      <th></th>\n",
       "      <th>index</th>\n",
       "      <th>0</th>\n",
       "    </tr>\n",
       "  </thead>\n",
       "  <tbody>\n",
       "    <tr>\n",
       "      <th>0</th>\n",
       "      <td>a</td>\n",
       "      <td>0</td>\n",
       "    </tr>\n",
       "    <tr>\n",
       "      <th>1</th>\n",
       "      <td>b</td>\n",
       "      <td>1</td>\n",
       "    </tr>\n",
       "    <tr>\n",
       "      <th>2</th>\n",
       "      <td>c</td>\n",
       "      <td>2</td>\n",
       "    </tr>\n",
       "    <tr>\n",
       "      <th>3</th>\n",
       "      <td>e</td>\n",
       "      <td>3</td>\n",
       "    </tr>\n",
       "    <tr>\n",
       "      <th>4</th>\n",
       "      <td>d</td>\n",
       "      <td>4</td>\n",
       "    </tr>\n",
       "    <tr>\n",
       "      <th>5</th>\n",
       "      <td>f</td>\n",
       "      <td>5</td>\n",
       "    </tr>\n",
       "    <tr>\n",
       "      <th>6</th>\n",
       "      <td>g</td>\n",
       "      <td>6</td>\n",
       "    </tr>\n",
       "    <tr>\n",
       "      <th>7</th>\n",
       "      <td>h</td>\n",
       "      <td>7</td>\n",
       "    </tr>\n",
       "    <tr>\n",
       "      <th>8</th>\n",
       "      <td>i</td>\n",
       "      <td>8</td>\n",
       "    </tr>\n",
       "    <tr>\n",
       "      <th>9</th>\n",
       "      <td>j</td>\n",
       "      <td>9</td>\n",
       "    </tr>\n",
       "    <tr>\n",
       "      <th>10</th>\n",
       "      <td>k</td>\n",
       "      <td>10</td>\n",
       "    </tr>\n",
       "    <tr>\n",
       "      <th>11</th>\n",
       "      <td>l</td>\n",
       "      <td>11</td>\n",
       "    </tr>\n",
       "    <tr>\n",
       "      <th>12</th>\n",
       "      <td>m</td>\n",
       "      <td>12</td>\n",
       "    </tr>\n",
       "    <tr>\n",
       "      <th>13</th>\n",
       "      <td>n</td>\n",
       "      <td>13</td>\n",
       "    </tr>\n",
       "    <tr>\n",
       "      <th>14</th>\n",
       "      <td>o</td>\n",
       "      <td>14</td>\n",
       "    </tr>\n",
       "    <tr>\n",
       "      <th>15</th>\n",
       "      <td>p</td>\n",
       "      <td>15</td>\n",
       "    </tr>\n",
       "    <tr>\n",
       "      <th>16</th>\n",
       "      <td>q</td>\n",
       "      <td>16</td>\n",
       "    </tr>\n",
       "    <tr>\n",
       "      <th>17</th>\n",
       "      <td>r</td>\n",
       "      <td>17</td>\n",
       "    </tr>\n",
       "    <tr>\n",
       "      <th>18</th>\n",
       "      <td>s</td>\n",
       "      <td>18</td>\n",
       "    </tr>\n",
       "    <tr>\n",
       "      <th>19</th>\n",
       "      <td>t</td>\n",
       "      <td>19</td>\n",
       "    </tr>\n",
       "    <tr>\n",
       "      <th>20</th>\n",
       "      <td>u</td>\n",
       "      <td>20</td>\n",
       "    </tr>\n",
       "    <tr>\n",
       "      <th>21</th>\n",
       "      <td>v</td>\n",
       "      <td>21</td>\n",
       "    </tr>\n",
       "    <tr>\n",
       "      <th>22</th>\n",
       "      <td>w</td>\n",
       "      <td>22</td>\n",
       "    </tr>\n",
       "    <tr>\n",
       "      <th>23</th>\n",
       "      <td>x</td>\n",
       "      <td>23</td>\n",
       "    </tr>\n",
       "    <tr>\n",
       "      <th>24</th>\n",
       "      <td>y</td>\n",
       "      <td>24</td>\n",
       "    </tr>\n",
       "    <tr>\n",
       "      <th>25</th>\n",
       "      <td>z</td>\n",
       "      <td>25</td>\n",
       "    </tr>\n",
       "  </tbody>\n",
       "</table>\n",
       "</div>"
      ],
      "text/plain": [
       "   index   0\n",
       "0      a   0\n",
       "1      b   1\n",
       "2      c   2\n",
       "3      e   3\n",
       "4      d   4\n",
       "5      f   5\n",
       "6      g   6\n",
       "7      h   7\n",
       "8      i   8\n",
       "9      j   9\n",
       "10     k  10\n",
       "11     l  11\n",
       "12     m  12\n",
       "13     n  13\n",
       "14     o  14\n",
       "15     p  15\n",
       "16     q  16\n",
       "17     r  17\n",
       "18     s  18\n",
       "19     t  19\n",
       "20     u  20\n",
       "21     v  21\n",
       "22     w  22\n",
       "23     x  23\n",
       "24     y  24\n",
       "25     z  25"
      ]
     },
     "execution_count": 26,
     "metadata": {},
     "output_type": "execute_result"
    }
   ],
   "source": [
    "ser3.to_frame().reset_index()"
   ]
  },
  {
   "cell_type": "code",
   "execution_count": 31,
   "metadata": {},
   "outputs": [
    {
     "data": {
      "text/html": [
       "<div>\n",
       "<style scoped>\n",
       "    .dataframe tbody tr th:only-of-type {\n",
       "        vertical-align: middle;\n",
       "    }\n",
       "\n",
       "    .dataframe tbody tr th {\n",
       "        vertical-align: top;\n",
       "    }\n",
       "\n",
       "    .dataframe thead th {\n",
       "        text-align: right;\n",
       "    }\n",
       "</style>\n",
       "<table border=\"1\" class=\"dataframe\">\n",
       "  <thead>\n",
       "    <tr style=\"text-align: right;\">\n",
       "      <th></th>\n",
       "      <th>index</th>\n",
       "      <th>0</th>\n",
       "    </tr>\n",
       "  </thead>\n",
       "  <tbody>\n",
       "    <tr>\n",
       "      <th>0</th>\n",
       "      <td>a</td>\n",
       "      <td>0</td>\n",
       "    </tr>\n",
       "    <tr>\n",
       "      <th>1</th>\n",
       "      <td>b</td>\n",
       "      <td>1</td>\n",
       "    </tr>\n",
       "    <tr>\n",
       "      <th>2</th>\n",
       "      <td>c</td>\n",
       "      <td>2</td>\n",
       "    </tr>\n",
       "    <tr>\n",
       "      <th>3</th>\n",
       "      <td>e</td>\n",
       "      <td>3</td>\n",
       "    </tr>\n",
       "    <tr>\n",
       "      <th>4</th>\n",
       "      <td>d</td>\n",
       "      <td>4</td>\n",
       "    </tr>\n",
       "    <tr>\n",
       "      <th>5</th>\n",
       "      <td>f</td>\n",
       "      <td>5</td>\n",
       "    </tr>\n",
       "    <tr>\n",
       "      <th>6</th>\n",
       "      <td>g</td>\n",
       "      <td>6</td>\n",
       "    </tr>\n",
       "    <tr>\n",
       "      <th>7</th>\n",
       "      <td>h</td>\n",
       "      <td>7</td>\n",
       "    </tr>\n",
       "    <tr>\n",
       "      <th>8</th>\n",
       "      <td>i</td>\n",
       "      <td>8</td>\n",
       "    </tr>\n",
       "    <tr>\n",
       "      <th>9</th>\n",
       "      <td>j</td>\n",
       "      <td>9</td>\n",
       "    </tr>\n",
       "    <tr>\n",
       "      <th>10</th>\n",
       "      <td>k</td>\n",
       "      <td>10</td>\n",
       "    </tr>\n",
       "    <tr>\n",
       "      <th>11</th>\n",
       "      <td>l</td>\n",
       "      <td>11</td>\n",
       "    </tr>\n",
       "    <tr>\n",
       "      <th>12</th>\n",
       "      <td>m</td>\n",
       "      <td>12</td>\n",
       "    </tr>\n",
       "    <tr>\n",
       "      <th>13</th>\n",
       "      <td>n</td>\n",
       "      <td>13</td>\n",
       "    </tr>\n",
       "    <tr>\n",
       "      <th>14</th>\n",
       "      <td>o</td>\n",
       "      <td>14</td>\n",
       "    </tr>\n",
       "    <tr>\n",
       "      <th>15</th>\n",
       "      <td>p</td>\n",
       "      <td>15</td>\n",
       "    </tr>\n",
       "    <tr>\n",
       "      <th>16</th>\n",
       "      <td>q</td>\n",
       "      <td>16</td>\n",
       "    </tr>\n",
       "    <tr>\n",
       "      <th>17</th>\n",
       "      <td>r</td>\n",
       "      <td>17</td>\n",
       "    </tr>\n",
       "    <tr>\n",
       "      <th>18</th>\n",
       "      <td>s</td>\n",
       "      <td>18</td>\n",
       "    </tr>\n",
       "    <tr>\n",
       "      <th>19</th>\n",
       "      <td>t</td>\n",
       "      <td>19</td>\n",
       "    </tr>\n",
       "    <tr>\n",
       "      <th>20</th>\n",
       "      <td>u</td>\n",
       "      <td>20</td>\n",
       "    </tr>\n",
       "    <tr>\n",
       "      <th>21</th>\n",
       "      <td>v</td>\n",
       "      <td>21</td>\n",
       "    </tr>\n",
       "    <tr>\n",
       "      <th>22</th>\n",
       "      <td>w</td>\n",
       "      <td>22</td>\n",
       "    </tr>\n",
       "    <tr>\n",
       "      <th>23</th>\n",
       "      <td>x</td>\n",
       "      <td>23</td>\n",
       "    </tr>\n",
       "    <tr>\n",
       "      <th>24</th>\n",
       "      <td>y</td>\n",
       "      <td>24</td>\n",
       "    </tr>\n",
       "    <tr>\n",
       "      <th>25</th>\n",
       "      <td>z</td>\n",
       "      <td>25</td>\n",
       "    </tr>\n",
       "  </tbody>\n",
       "</table>\n",
       "</div>"
      ],
      "text/plain": [
       "   index   0\n",
       "0      a   0\n",
       "1      b   1\n",
       "2      c   2\n",
       "3      e   3\n",
       "4      d   4\n",
       "5      f   5\n",
       "6      g   6\n",
       "7      h   7\n",
       "8      i   8\n",
       "9      j   9\n",
       "10     k  10\n",
       "11     l  11\n",
       "12     m  12\n",
       "13     n  13\n",
       "14     o  14\n",
       "15     p  15\n",
       "16     q  16\n",
       "17     r  17\n",
       "18     s  18\n",
       "19     t  19\n",
       "20     u  20\n",
       "21     v  21\n",
       "22     w  22\n",
       "23     x  23\n",
       "24     y  24\n",
       "25     z  25"
      ]
     },
     "execution_count": 31,
     "metadata": {},
     "output_type": "execute_result"
    }
   ],
   "source": [
    "ser3.reset_index(drop=False)"
   ]
  },
  {
   "cell_type": "markdown",
   "metadata": {
    "id": "vX0yqjPKDcIJ"
   },
   "source": [
    "## 5 - Combine varias series para formar un `dataframe`\n",
    "`pista:  concat(...) o Dataframe(...)`"
   ]
  },
  {
   "cell_type": "code",
   "execution_count": 32,
   "metadata": {
    "colab": {
     "base_uri": "https://localhost:8080/"
    },
    "executionInfo": {
     "elapsed": 266,
     "status": "ok",
     "timestamp": 1652976204444,
     "user": {
      "displayName": "Jose Antonio Lagares Rodriguez",
      "userId": "00469018537825658051"
     },
     "user_tz": -120
    },
    "id": "6ZTE6AERDvUZ",
    "outputId": "11fb509f-1e53-48ac-f002-aa499cc8f5b1"
   },
   "outputs": [],
   "source": [
    "# Entrada\n",
    "import numpy as np\n",
    "\n",
    "ser1 = pd.Series(list('abcedfghijklmnopqrstuvwxyz'))\n",
    "ser2 = pd.Series(np.arange(26))"
   ]
  },
  {
   "cell_type": "code",
   "execution_count": 36,
   "metadata": {
    "collapsed": true
   },
   "outputs": [
    {
     "data": {
      "text/html": [
       "<div>\n",
       "<style scoped>\n",
       "    .dataframe tbody tr th:only-of-type {\n",
       "        vertical-align: middle;\n",
       "    }\n",
       "\n",
       "    .dataframe tbody tr th {\n",
       "        vertical-align: top;\n",
       "    }\n",
       "\n",
       "    .dataframe thead th {\n",
       "        text-align: right;\n",
       "    }\n",
       "</style>\n",
       "<table border=\"1\" class=\"dataframe\">\n",
       "  <thead>\n",
       "    <tr style=\"text-align: right;\">\n",
       "      <th></th>\n",
       "      <th>0</th>\n",
       "      <th>1</th>\n",
       "    </tr>\n",
       "  </thead>\n",
       "  <tbody>\n",
       "    <tr>\n",
       "      <th>0</th>\n",
       "      <td>a</td>\n",
       "      <td>1</td>\n",
       "    </tr>\n",
       "    <tr>\n",
       "      <th>1</th>\n",
       "      <td>b</td>\n",
       "      <td>2</td>\n",
       "    </tr>\n",
       "    <tr>\n",
       "      <th>2</th>\n",
       "      <td>c</td>\n",
       "      <td>3</td>\n",
       "    </tr>\n",
       "    <tr>\n",
       "      <th>3</th>\n",
       "      <td>e</td>\n",
       "      <td>4</td>\n",
       "    </tr>\n",
       "    <tr>\n",
       "      <th>4</th>\n",
       "      <td>d</td>\n",
       "      <td>5</td>\n",
       "    </tr>\n",
       "    <tr>\n",
       "      <th>5</th>\n",
       "      <td>f</td>\n",
       "      <td>6</td>\n",
       "    </tr>\n",
       "    <tr>\n",
       "      <th>6</th>\n",
       "      <td>g</td>\n",
       "      <td>7</td>\n",
       "    </tr>\n",
       "    <tr>\n",
       "      <th>7</th>\n",
       "      <td>h</td>\n",
       "      <td>8</td>\n",
       "    </tr>\n",
       "    <tr>\n",
       "      <th>8</th>\n",
       "      <td>i</td>\n",
       "      <td>9</td>\n",
       "    </tr>\n",
       "    <tr>\n",
       "      <th>9</th>\n",
       "      <td>j</td>\n",
       "      <td>10</td>\n",
       "    </tr>\n",
       "    <tr>\n",
       "      <th>10</th>\n",
       "      <td>k</td>\n",
       "      <td>11</td>\n",
       "    </tr>\n",
       "    <tr>\n",
       "      <th>11</th>\n",
       "      <td>l</td>\n",
       "      <td>12</td>\n",
       "    </tr>\n",
       "    <tr>\n",
       "      <th>12</th>\n",
       "      <td>m</td>\n",
       "      <td>13</td>\n",
       "    </tr>\n",
       "    <tr>\n",
       "      <th>13</th>\n",
       "      <td>n</td>\n",
       "      <td>14</td>\n",
       "    </tr>\n",
       "    <tr>\n",
       "      <th>14</th>\n",
       "      <td>o</td>\n",
       "      <td>15</td>\n",
       "    </tr>\n",
       "    <tr>\n",
       "      <th>15</th>\n",
       "      <td>p</td>\n",
       "      <td>16</td>\n",
       "    </tr>\n",
       "    <tr>\n",
       "      <th>16</th>\n",
       "      <td>q</td>\n",
       "      <td>17</td>\n",
       "    </tr>\n",
       "    <tr>\n",
       "      <th>17</th>\n",
       "      <td>r</td>\n",
       "      <td>18</td>\n",
       "    </tr>\n",
       "    <tr>\n",
       "      <th>18</th>\n",
       "      <td>s</td>\n",
       "      <td>19</td>\n",
       "    </tr>\n",
       "    <tr>\n",
       "      <th>19</th>\n",
       "      <td>t</td>\n",
       "      <td>20</td>\n",
       "    </tr>\n",
       "    <tr>\n",
       "      <th>20</th>\n",
       "      <td>u</td>\n",
       "      <td>21</td>\n",
       "    </tr>\n",
       "    <tr>\n",
       "      <th>21</th>\n",
       "      <td>v</td>\n",
       "      <td>22</td>\n",
       "    </tr>\n",
       "    <tr>\n",
       "      <th>22</th>\n",
       "      <td>w</td>\n",
       "      <td>23</td>\n",
       "    </tr>\n",
       "    <tr>\n",
       "      <th>23</th>\n",
       "      <td>x</td>\n",
       "      <td>24</td>\n",
       "    </tr>\n",
       "    <tr>\n",
       "      <th>24</th>\n",
       "      <td>y</td>\n",
       "      <td>25</td>\n",
       "    </tr>\n",
       "    <tr>\n",
       "      <th>25</th>\n",
       "      <td>z</td>\n",
       "      <td>26</td>\n",
       "    </tr>\n",
       "  </tbody>\n",
       "</table>\n",
       "</div>"
      ],
      "text/plain": [
       "    0   1\n",
       "0   a   1\n",
       "1   b   2\n",
       "2   c   3\n",
       "3   e   4\n",
       "4   d   5\n",
       "5   f   6\n",
       "6   g   7\n",
       "7   h   8\n",
       "8   i   9\n",
       "9   j  10\n",
       "10  k  11\n",
       "11  l  12\n",
       "12  m  13\n",
       "13  n  14\n",
       "14  o  15\n",
       "15  p  16\n",
       "16  q  17\n",
       "17  r  18\n",
       "18  s  19\n",
       "19  t  20\n",
       "20  u  21\n",
       "21  v  22\n",
       "22  w  23\n",
       "23  x  24\n",
       "24  y  25\n",
       "25  z  26"
      ]
     },
     "execution_count": 36,
     "metadata": {},
     "output_type": "execute_result"
    }
   ],
   "source": [
    "serie1 = pd.Series(lista)\n",
    "serie2 = pd.Series(arr)\n",
    "\n",
    "df = pd.concat([serie1, serie2], axis=1 )\n",
    "df"
   ]
  },
  {
   "cell_type": "code",
   "execution_count": 38,
   "metadata": {
    "collapsed": true
   },
   "outputs": [
    {
     "data": {
      "text/html": [
       "<div>\n",
       "<style scoped>\n",
       "    .dataframe tbody tr th:only-of-type {\n",
       "        vertical-align: middle;\n",
       "    }\n",
       "\n",
       "    .dataframe tbody tr th {\n",
       "        vertical-align: top;\n",
       "    }\n",
       "\n",
       "    .dataframe thead th {\n",
       "        text-align: right;\n",
       "    }\n",
       "</style>\n",
       "<table border=\"1\" class=\"dataframe\">\n",
       "  <thead>\n",
       "    <tr style=\"text-align: right;\">\n",
       "      <th></th>\n",
       "      <th>serie1</th>\n",
       "      <th>serie2</th>\n",
       "    </tr>\n",
       "  </thead>\n",
       "  <tbody>\n",
       "    <tr>\n",
       "      <th>0</th>\n",
       "      <td>a</td>\n",
       "      <td>1</td>\n",
       "    </tr>\n",
       "    <tr>\n",
       "      <th>1</th>\n",
       "      <td>b</td>\n",
       "      <td>2</td>\n",
       "    </tr>\n",
       "    <tr>\n",
       "      <th>2</th>\n",
       "      <td>c</td>\n",
       "      <td>3</td>\n",
       "    </tr>\n",
       "    <tr>\n",
       "      <th>3</th>\n",
       "      <td>e</td>\n",
       "      <td>4</td>\n",
       "    </tr>\n",
       "    <tr>\n",
       "      <th>4</th>\n",
       "      <td>d</td>\n",
       "      <td>5</td>\n",
       "    </tr>\n",
       "    <tr>\n",
       "      <th>5</th>\n",
       "      <td>f</td>\n",
       "      <td>6</td>\n",
       "    </tr>\n",
       "    <tr>\n",
       "      <th>6</th>\n",
       "      <td>g</td>\n",
       "      <td>7</td>\n",
       "    </tr>\n",
       "    <tr>\n",
       "      <th>7</th>\n",
       "      <td>h</td>\n",
       "      <td>8</td>\n",
       "    </tr>\n",
       "    <tr>\n",
       "      <th>8</th>\n",
       "      <td>i</td>\n",
       "      <td>9</td>\n",
       "    </tr>\n",
       "    <tr>\n",
       "      <th>9</th>\n",
       "      <td>j</td>\n",
       "      <td>10</td>\n",
       "    </tr>\n",
       "    <tr>\n",
       "      <th>10</th>\n",
       "      <td>k</td>\n",
       "      <td>11</td>\n",
       "    </tr>\n",
       "    <tr>\n",
       "      <th>11</th>\n",
       "      <td>l</td>\n",
       "      <td>12</td>\n",
       "    </tr>\n",
       "    <tr>\n",
       "      <th>12</th>\n",
       "      <td>m</td>\n",
       "      <td>13</td>\n",
       "    </tr>\n",
       "    <tr>\n",
       "      <th>13</th>\n",
       "      <td>n</td>\n",
       "      <td>14</td>\n",
       "    </tr>\n",
       "    <tr>\n",
       "      <th>14</th>\n",
       "      <td>o</td>\n",
       "      <td>15</td>\n",
       "    </tr>\n",
       "    <tr>\n",
       "      <th>15</th>\n",
       "      <td>p</td>\n",
       "      <td>16</td>\n",
       "    </tr>\n",
       "    <tr>\n",
       "      <th>16</th>\n",
       "      <td>q</td>\n",
       "      <td>17</td>\n",
       "    </tr>\n",
       "    <tr>\n",
       "      <th>17</th>\n",
       "      <td>r</td>\n",
       "      <td>18</td>\n",
       "    </tr>\n",
       "    <tr>\n",
       "      <th>18</th>\n",
       "      <td>s</td>\n",
       "      <td>19</td>\n",
       "    </tr>\n",
       "    <tr>\n",
       "      <th>19</th>\n",
       "      <td>t</td>\n",
       "      <td>20</td>\n",
       "    </tr>\n",
       "    <tr>\n",
       "      <th>20</th>\n",
       "      <td>u</td>\n",
       "      <td>21</td>\n",
       "    </tr>\n",
       "    <tr>\n",
       "      <th>21</th>\n",
       "      <td>v</td>\n",
       "      <td>22</td>\n",
       "    </tr>\n",
       "    <tr>\n",
       "      <th>22</th>\n",
       "      <td>w</td>\n",
       "      <td>23</td>\n",
       "    </tr>\n",
       "    <tr>\n",
       "      <th>23</th>\n",
       "      <td>x</td>\n",
       "      <td>24</td>\n",
       "    </tr>\n",
       "    <tr>\n",
       "      <th>24</th>\n",
       "      <td>y</td>\n",
       "      <td>25</td>\n",
       "    </tr>\n",
       "    <tr>\n",
       "      <th>25</th>\n",
       "      <td>z</td>\n",
       "      <td>26</td>\n",
       "    </tr>\n",
       "  </tbody>\n",
       "</table>\n",
       "</div>"
      ],
      "text/plain": [
       "   serie1  serie2\n",
       "0       a       1\n",
       "1       b       2\n",
       "2       c       3\n",
       "3       e       4\n",
       "4       d       5\n",
       "5       f       6\n",
       "6       g       7\n",
       "7       h       8\n",
       "8       i       9\n",
       "9       j      10\n",
       "10      k      11\n",
       "11      l      12\n",
       "12      m      13\n",
       "13      n      14\n",
       "14      o      15\n",
       "15      p      16\n",
       "16      q      17\n",
       "17      r      18\n",
       "18      s      19\n",
       "19      t      20\n",
       "20      u      21\n",
       "21      v      22\n",
       "22      w      23\n",
       "23      x      24\n",
       "24      y      25\n",
       "25      z      26"
      ]
     },
     "execution_count": 38,
     "metadata": {},
     "output_type": "execute_result"
    }
   ],
   "source": [
    "pd.DataFrame(\n",
    "    data={\n",
    "        'serie1':serie1,\n",
    "        'serie2':serie2\n",
    "         }\n",
    ")"
   ]
  },
  {
   "cell_type": "markdown",
   "metadata": {
    "id": "JdfmN01ND6vg"
   },
   "source": [
    "## 6 - Obtenga los items de la serie A no presentes en la serie B\n",
    "`pista: ~ y isin(...)`\n"
   ]
  },
  {
   "cell_type": "code",
   "execution_count": 39,
   "metadata": {
    "colab": {
     "base_uri": "https://localhost:8080/"
    },
    "executionInfo": {
     "elapsed": 232,
     "status": "ok",
     "timestamp": 1652976299810,
     "user": {
      "displayName": "Jose Antonio Lagares Rodriguez",
      "userId": "00469018537825658051"
     },
     "user_tz": -120
    },
    "id": "8xr4xJ_GEHRx",
    "outputId": "f9cce8b9-6c68-4325-ce25-72377d83fe25"
   },
   "outputs": [],
   "source": [
    "# Entrada\n",
    "ser1 = pd.Series([1, 2, 3, 4, 5])\n",
    "ser2 = pd.Series([4, 5, 6, 7, 8])"
   ]
  },
  {
   "cell_type": "code",
   "execution_count": 47,
   "metadata": {},
   "outputs": [
    {
     "data": {
      "text/plain": [
       "0    1\n",
       "1    2\n",
       "2    3\n",
       "dtype: int64"
      ]
     },
     "execution_count": 47,
     "metadata": {},
     "output_type": "execute_result"
    }
   ],
   "source": [
    "ser1[~ser1.isin(ser2)]"
   ]
  },
  {
   "cell_type": "code",
   "execution_count": 48,
   "metadata": {},
   "outputs": [
    {
     "data": {
      "text/plain": [
       "0      lama\n",
       "1       cow\n",
       "2      lama\n",
       "3    beetle\n",
       "4      lama\n",
       "5     hippo\n",
       "Name: animal, dtype: object"
      ]
     },
     "execution_count": 48,
     "metadata": {},
     "output_type": "execute_result"
    }
   ],
   "source": [
    "s = pd.Series(['lama', 'cow', 'lama', 'beetle', 'lama',\n",
    "               'hippo'], name='animal')\n",
    "s"
   ]
  },
  {
   "cell_type": "code",
   "execution_count": 56,
   "metadata": {},
   "outputs": [
    {
     "data": {
      "text/plain": [
       "3    beetle\n",
       "5     hippo\n",
       "Name: animal, dtype: object"
      ]
     },
     "execution_count": 56,
     "metadata": {},
     "output_type": "execute_result"
    }
   ],
   "source": [
    "s[~s.isin(['cow', 'lama'])]"
   ]
  },
  {
   "cell_type": "code",
   "execution_count": 58,
   "metadata": {},
   "outputs": [
    {
     "data": {
      "text/plain": [
       "0     True\n",
       "1     True\n",
       "2     True\n",
       "3     True\n",
       "4    False\n",
       "dtype: bool"
      ]
     },
     "execution_count": 58,
     "metadata": {},
     "output_type": "execute_result"
    }
   ],
   "source": [
    "serie_a = pd.Series([1, 2, 3, 4, 5])\n",
    "serie_b= pd.Series([4, 5, 6, 7, 8])\n"
   ]
  },
  {
   "cell_type": "code",
   "execution_count": 66,
   "metadata": {},
   "outputs": [
    {
     "data": {
      "text/plain": [
       "{1, 2, 3}"
      ]
     },
     "execution_count": 66,
     "metadata": {},
     "output_type": "execute_result"
    }
   ],
   "source": [
    "set(serie_a.to_list()) - set(serie_b.to_list())"
   ]
  },
  {
   "cell_type": "markdown",
   "metadata": {
    "id": "Ty5yJPsIEO8p"
   },
   "source": [
    "## 7 - Obtenga la unión e intersección de dos series A y B.\n",
    "`pista: union1d(...) y intersect1d(...) `"
   ]
  },
  {
   "cell_type": "code",
   "execution_count": 67,
   "metadata": {
    "colab": {
     "base_uri": "https://localhost:8080/"
    },
    "executionInfo": {
     "elapsed": 233,
     "status": "ok",
     "timestamp": 1652976431784,
     "user": {
      "displayName": "Jose Antonio Lagares Rodriguez",
      "userId": "00469018537825658051"
     },
     "user_tz": -120
    },
    "id": "SNCp-SYIEkYx",
    "outputId": "bf77b373-11f3-480c-cc63-c2c61bc4b699"
   },
   "outputs": [],
   "source": [
    "# Entrada\n",
    "ser1 = pd.Series([1, 2, 3, 4, 5])\n",
    "ser2 = pd.Series([4, 5, 6, 7, 8])"
   ]
  },
  {
   "cell_type": "code",
   "execution_count": 71,
   "metadata": {},
   "outputs": [
    {
     "data": {
      "text/plain": [
       "{1, 2, 3, 4, 5, 6, 7, 8}"
      ]
     },
     "execution_count": 71,
     "metadata": {},
     "output_type": "execute_result"
    }
   ],
   "source": [
    "set(ser1.to_list()).union(ser2)"
   ]
  },
  {
   "cell_type": "code",
   "execution_count": 69,
   "metadata": {},
   "outputs": [
    {
     "data": {
      "text/plain": [
       "0    1\n",
       "1    2\n",
       "2    3\n",
       "3    4\n",
       "4    5\n",
       "5    6\n",
       "6    7\n",
       "7    8\n",
       "dtype: int64"
      ]
     },
     "execution_count": 69,
     "metadata": {},
     "output_type": "execute_result"
    }
   ],
   "source": [
    "pd.Series(np.union1d(ser1,ser2))"
   ]
  },
  {
   "cell_type": "code",
   "execution_count": 73,
   "metadata": {},
   "outputs": [
    {
     "name": "stdout",
     "output_type": "stream",
     "text": [
      "0    4\n",
      "1    5\n",
      "dtype: int64\n"
     ]
    }
   ],
   "source": [
    "interseccion = pd.Series(np.intersect1d(ser1,ser2))\n",
    "\n",
    "print(interseccion)"
   ]
  },
  {
   "cell_type": "markdown",
   "metadata": {
    "id": "8BY76KjLEvjY"
   },
   "source": [
    "## 8 - Obtenga el valor mínimo, el percentil 25, la mediana, el percentil 75 y el máximo de una serie\n",
    "`pista: percentile(...)`"
   ]
  },
  {
   "cell_type": "code",
   "execution_count": 106,
   "metadata": {
    "colab": {
     "base_uri": "https://localhost:8080/"
    },
    "executionInfo": {
     "elapsed": 3,
     "status": "ok",
     "timestamp": 1652976598792,
     "user": {
      "displayName": "Jose Antonio Lagares Rodriguez",
      "userId": "00469018537825658051"
     },
     "user_tz": -120
    },
    "id": "BXKba2x1EvTA",
    "outputId": "6a29a1ae-f8bb-45e8-8bf0-9c69dc126cd0"
   },
   "outputs": [
    {
     "data": {
      "text/plain": [
       "RandomState(MT19937) at 0x1B453ED3A40"
      ]
     },
     "execution_count": 106,
     "metadata": {},
     "output_type": "execute_result"
    }
   ],
   "source": [
    "# Entrada\n",
    "serie_ejemplo = np.random.RandomState(100)\n",
    "serie_ejemplo"
   ]
  },
  {
   "cell_type": "code",
   "execution_count": 107,
   "metadata": {
    "colab": {
     "base_uri": "https://localhost:8080/"
    },
    "executionInfo": {
     "elapsed": 3,
     "status": "ok",
     "timestamp": 1652976598792,
     "user": {
      "displayName": "Jose Antonio Lagares Rodriguez",
      "userId": "00469018537825658051"
     },
     "user_tz": -120
    },
    "id": "BXKba2x1EvTA",
    "outputId": "6a29a1ae-f8bb-45e8-8bf0-9c69dc126cd0"
   },
   "outputs": [
    {
     "data": {
      "text/plain": [
       "0      1.251173\n",
       "1     11.713402\n",
       "2     15.765179\n",
       "3      8.737820\n",
       "4     14.906604\n",
       "5     12.571094\n",
       "6     11.105898\n",
       "7      4.649783\n",
       "8      9.052521\n",
       "9     11.275007\n",
       "10     7.709865\n",
       "11    12.175817\n",
       "12     7.082025\n",
       "13    14.084235\n",
       "14    13.363604\n",
       "15     9.477944\n",
       "16     7.343598\n",
       "17    15.148663\n",
       "18     7.809322\n",
       "19     4.408409\n",
       "20    18.094908\n",
       "21    17.708026\n",
       "22     8.740604\n",
       "23     5.787821\n",
       "24    10.922593\n",
       "dtype: float64"
      ]
     },
     "execution_count": 107,
     "metadata": {},
     "output_type": "execute_result"
    }
   ],
   "source": [
    "serie_ejemplo = pd.Series(serie_ejemplo.normal(10, 5, 25))\n",
    "serie_ejemplo"
   ]
  },
  {
   "cell_type": "code",
   "execution_count": 92,
   "metadata": {},
   "outputs": [
    {
     "name": "stdout",
     "output_type": "stream",
     "text": [
      "El valor mínimo es:  1.25 \n",
      " // El percentil 25:  7.71 \n",
      " // La mediana es:  10.92 \n",
      " // El percentil 75:  13.36 \n",
      " // El máximo es:  18.09 \n",
      "\n"
     ]
    }
   ],
   "source": [
    "# Entrada\n",
    "serie_ejemplo = np.random.RandomState(100)\n",
    "serie_ejemplo = pd.Series(serie_ejemplo.normal(10, 5, 25))\n",
    "\n",
    "def describir_serie(serie:pd.Series, verbose = True) -> list:\n",
    "    \n",
    "    if verbose == True:\n",
    "        print(\n",
    "        \"El valor mínimo es: \", round(min(serie_ejemplo), 2),\"\\n\",\n",
    "        \"// El percentil 25: \", round(np.percentile(serie_ejemplo, 25), 2),\"\\n\", #?\n",
    "        \"// La mediana es: \", round(np.median(serie_ejemplo),2 ),\"\\n\",\n",
    "        \"// El percentil 75: \", round(np.percentile(serie_ejemplo, 75),2 ),\"\\n\", #?\n",
    "        \"// El máximo es: \", round(max(serie_ejemplo),2 ),\"\\n\",\n",
    "        )\n",
    "    else:\n",
    "        return\n",
    "        "
   ]
  },
  {
   "cell_type": "code",
   "execution_count": 96,
   "metadata": {},
   "outputs": [
    {
     "name": "stdout",
     "output_type": "stream",
     "text": [
      "[ 1.25117263  7.70986507 10.92259345 13.36360403 18.0949083 ]\n"
     ]
    }
   ],
   "source": [
    "serie_ejemplo = np.random.RandomState(100)\n",
    "serie_ejemplo = pd.Series(serie_ejemplo.normal(10, 5, 25))\n",
    "\n",
    "percentiles = np.percentile(serie_ejemplo, q=[0, 25, 50, 75, 100])\n",
    "\n",
    "print(percentiles)"
   ]
  },
  {
   "cell_type": "code",
   "execution_count": 111,
   "metadata": {},
   "outputs": [
    {
     "data": {
      "text/plain": [
       "count    25.000000\n",
       "mean     10.435437\n",
       "std       4.253118\n",
       "min       1.251173\n",
       "25%       7.709865\n",
       "50%      10.922593\n",
       "75%      13.363604\n",
       "max      18.094908\n",
       "dtype: float64"
      ]
     },
     "execution_count": 111,
     "metadata": {},
     "output_type": "execute_result"
    }
   ],
   "source": [
    "serie_ejemplo.describe()"
   ]
  },
  {
   "cell_type": "markdown",
   "metadata": {
    "id": "uTg0Cd-YFXgZ"
   },
   "source": [
    "## 9 - Obtenga la frecuencia de aparición de los elementos de una lista.\n",
    "\n",
    "`pista: value_counts()`"
   ]
  },
  {
   "cell_type": "code",
   "execution_count": 114,
   "metadata": {
    "colab": {
     "base_uri": "https://localhost:8080/"
    },
    "executionInfo": {
     "elapsed": 272,
     "status": "ok",
     "timestamp": 1652976834935,
     "user": {
      "displayName": "Jose Antonio Lagares Rodriguez",
      "userId": "00469018537825658051"
     },
     "user_tz": -120
    },
    "id": "KDgoEL4hGHLw",
    "outputId": "fd10aff6-31a3-4dcb-a6d0-1e12efe0745c"
   },
   "outputs": [],
   "source": [
    "# Entrada\n",
    "serie = pd.Series(np.take(list('abcdefghijklmnoprstuvwxyz'), np.random.randint(8, size=30)))"
   ]
  },
  {
   "cell_type": "code",
   "execution_count": 116,
   "metadata": {},
   "outputs": [
    {
     "data": {
      "text/plain": [
       "d    8\n",
       "f    5\n",
       "h    4\n",
       "c    4\n",
       "e    4\n",
       "g    3\n",
       "b    1\n",
       "a    1\n",
       "dtype: int64"
      ]
     },
     "execution_count": 116,
     "metadata": {},
     "output_type": "execute_result"
    }
   ],
   "source": [
    "serie.value_counts()"
   ]
  },
  {
   "cell_type": "code",
   "execution_count": 119,
   "metadata": {},
   "outputs": [
    {
     "data": {
      "text/plain": [
       "d    26.67\n",
       "f    16.67\n",
       "h    13.33\n",
       "c    13.33\n",
       "e    13.33\n",
       "g    10.00\n",
       "b     3.33\n",
       "a     3.33\n",
       "dtype: float64"
      ]
     },
     "execution_count": 119,
     "metadata": {},
     "output_type": "execute_result"
    }
   ],
   "source": [
    "round(serie.value_counts(normalize= True)*100,2)"
   ]
  },
  {
   "cell_type": "code",
   "execution_count": 120,
   "metadata": {},
   "outputs": [
    {
     "name": "stdout",
     "output_type": "stream",
     "text": [
      "Únicos: ['a' 'b' 'c' 'd' 'e' 'f' 'g' 'h']\n",
      "Frecuencia: [3 7 1 6 1 5 2 5]\n"
     ]
    }
   ],
   "source": [
    "serie = pd.Series(np.take(list('abcdefghijklmnoprstuvwxyz'), np.random.randint(8, size=30)))\n",
    "(unico, contados) = np.unique(serie, return_counts=True)\n",
    "\n",
    "print(f'Únicos: {unico}'),\n",
    "print(f'Frecuencia: {contados}')"
   ]
  },
  {
   "cell_type": "markdown",
   "metadata": {
    "id": "fSQV8Rq3GSvo"
   },
   "source": [
    "## 10 - Mantenga de una lista los 3 términos que más aparecen. Renombre el resto de elementos a \"otros\".\n",
    "`pista: isin(...)`"
   ]
  },
  {
   "cell_type": "code",
   "execution_count": 154,
   "metadata": {
    "colab": {
     "base_uri": "https://localhost:8080/"
    },
    "executionInfo": {
     "elapsed": 238,
     "status": "ok",
     "timestamp": 1652976954199,
     "user": {
      "displayName": "Jose Antonio Lagares Rodriguez",
      "userId": "00469018537825658051"
     },
     "user_tz": -120
    },
    "id": "Um-pARKeGkxI",
    "outputId": "8e9e31d0-16db-477b-e065-17c0b6238f47"
   },
   "outputs": [],
   "source": [
    "# Entrada\n",
    "# np.random.RandomState(100)\n",
    "\n",
    "ser = pd.Series(np.random.randint(1, 5, [12]))"
   ]
  },
  {
   "cell_type": "code",
   "execution_count": 162,
   "metadata": {},
   "outputs": [],
   "source": [
    "ser[~ser.isin(ser.value_counts().index[0:3])] = 'otros'"
   ]
  },
  {
   "cell_type": "code",
   "execution_count": 163,
   "metadata": {},
   "outputs": [
    {
     "data": {
      "text/plain": [
       "0         2\n",
       "1         2\n",
       "2         1\n",
       "3         1\n",
       "4         3\n",
       "5         1\n",
       "6     otros\n",
       "7         3\n",
       "8         3\n",
       "9         1\n",
       "10        1\n",
       "11        2\n",
       "dtype: object"
      ]
     },
     "execution_count": 163,
     "metadata": {},
     "output_type": "execute_result"
    }
   ],
   "source": [
    "ser"
   ]
  },
  {
   "cell_type": "code",
   "execution_count": 164,
   "metadata": {},
   "outputs": [
    {
     "data": {
      "text/plain": [
       "[1, 3, 2]"
      ]
     },
     "execution_count": 164,
     "metadata": {},
     "output_type": "execute_result"
    }
   ],
   "source": [
    "np.random.RandomState(100)\n",
    "\n",
    "ser = pd.Series(np.random.randint(1, 5, [12]))\n",
    "\n",
    "top3 = list(ser.value_counts(normalize=True)[:3].index)\n",
    "\n",
    "top3"
   ]
  },
  {
   "cell_type": "markdown",
   "metadata": {
    "id": "nqbwIEVlGzkQ"
   },
   "source": [
    "## 11 - Convierta una serie en un `dataframe` con 5 filas y 3 columnas.\n",
    "`pista: reshape(filas, columnas) `"
   ]
  },
  {
   "cell_type": "code",
   "execution_count": 166,
   "metadata": {
    "colab": {
     "base_uri": "https://localhost:8080/"
    },
    "executionInfo": {
     "elapsed": 214,
     "status": "ok",
     "timestamp": 1652977078917,
     "user": {
      "displayName": "Jose Antonio Lagares Rodriguez",
      "userId": "00469018537825658051"
     },
     "user_tz": -120
    },
    "id": "QEURuJS4HDz_",
    "outputId": "a6f6fc71-40f9-45a2-8ef8-ea0f9d92fe27"
   },
   "outputs": [],
   "source": [
    "# Entrada\n",
    "ser = pd.Series(np.random.randint(1, 10, 15))"
   ]
  },
  {
   "cell_type": "code",
   "execution_count": 173,
   "metadata": {},
   "outputs": [
    {
     "data": {
      "text/html": [
       "<div>\n",
       "<style scoped>\n",
       "    .dataframe tbody tr th:only-of-type {\n",
       "        vertical-align: middle;\n",
       "    }\n",
       "\n",
       "    .dataframe tbody tr th {\n",
       "        vertical-align: top;\n",
       "    }\n",
       "\n",
       "    .dataframe thead th {\n",
       "        text-align: right;\n",
       "    }\n",
       "</style>\n",
       "<table border=\"1\" class=\"dataframe\">\n",
       "  <thead>\n",
       "    <tr style=\"text-align: right;\">\n",
       "      <th></th>\n",
       "      <th>0</th>\n",
       "      <th>1</th>\n",
       "      <th>2</th>\n",
       "    </tr>\n",
       "  </thead>\n",
       "  <tbody>\n",
       "    <tr>\n",
       "      <th>0</th>\n",
       "      <td>4</td>\n",
       "      <td>2</td>\n",
       "      <td>2</td>\n",
       "    </tr>\n",
       "    <tr>\n",
       "      <th>1</th>\n",
       "      <td>4</td>\n",
       "      <td>1</td>\n",
       "      <td>1</td>\n",
       "    </tr>\n",
       "    <tr>\n",
       "      <th>2</th>\n",
       "      <td>8</td>\n",
       "      <td>7</td>\n",
       "      <td>3</td>\n",
       "    </tr>\n",
       "    <tr>\n",
       "      <th>3</th>\n",
       "      <td>6</td>\n",
       "      <td>2</td>\n",
       "      <td>8</td>\n",
       "    </tr>\n",
       "    <tr>\n",
       "      <th>4</th>\n",
       "      <td>6</td>\n",
       "      <td>8</td>\n",
       "      <td>4</td>\n",
       "    </tr>\n",
       "  </tbody>\n",
       "</table>\n",
       "</div>"
      ],
      "text/plain": [
       "   0  1  2\n",
       "0  4  2  2\n",
       "1  4  1  1\n",
       "2  8  7  3\n",
       "3  6  2  8\n",
       "4  6  8  4"
      ]
     },
     "execution_count": 173,
     "metadata": {},
     "output_type": "execute_result"
    }
   ],
   "source": [
    "pd.DataFrame(ser.values.reshape(5,3))"
   ]
  },
  {
   "cell_type": "markdown",
   "metadata": {
    "id": "QOjpQDvrHNsA"
   },
   "source": [
    "## 12 - Extraer los valores de una serie dado una lista de posiciones.\n",
    "`pista: take(...)`"
   ]
  },
  {
   "cell_type": "code",
   "execution_count": 174,
   "metadata": {
    "colab": {
     "base_uri": "https://localhost:8080/"
    },
    "executionInfo": {
     "elapsed": 238,
     "status": "ok",
     "timestamp": 1652977357147,
     "user": {
      "displayName": "Jose Antonio Lagares Rodriguez",
      "userId": "00469018537825658051"
     },
     "user_tz": -120
    },
    "id": "kYOj55itHV_w",
    "outputId": "3aaa89e9-a035-411a-dc6f-40491ed31571"
   },
   "outputs": [],
   "source": [
    "# Entrada\n",
    "ser = pd.Series(list('abcdefghijklmnopqrstuvwxyz'))\n",
    "pos = [0, 1, 2, 25, 3]"
   ]
  },
  {
   "cell_type": "code",
   "execution_count": 177,
   "metadata": {},
   "outputs": [
    {
     "data": {
      "text/plain": [
       "0     a\n",
       "1     b\n",
       "2     c\n",
       "25    z\n",
       "3     d\n",
       "dtype: object"
      ]
     },
     "execution_count": 177,
     "metadata": {},
     "output_type": "execute_result"
    }
   ],
   "source": [
    "ser.take(pos)"
   ]
  },
  {
   "cell_type": "code",
   "execution_count": 176,
   "metadata": {},
   "outputs": [
    {
     "data": {
      "text/plain": [
       "0     a\n",
       "1     b\n",
       "2     c\n",
       "25    z\n",
       "3     d\n",
       "dtype: object"
      ]
     },
     "execution_count": 176,
     "metadata": {},
     "output_type": "execute_result"
    }
   ],
   "source": [
    "ser[pos]"
   ]
  },
  {
   "cell_type": "markdown",
   "metadata": {
    "id": "kYMHM1hxKIuP"
   },
   "source": [
    "## 13 - Obtener la posición de los items de la serie A en otra serie B.\n",
    "\n",
    "`pista: where(...)`"
   ]
  },
  {
   "cell_type": "code",
   "execution_count": 178,
   "metadata": {
    "colab": {
     "base_uri": "https://localhost:8080/"
    },
    "executionInfo": {
     "elapsed": 228,
     "status": "ok",
     "timestamp": 1652977980908,
     "user": {
      "displayName": "Jose Antonio Lagares Rodriguez",
      "userId": "00469018537825658051"
     },
     "user_tz": -120
    },
    "id": "8w53UEPWKiKf",
    "outputId": "2b0c9197-4036-4f78-e70e-0db53c30c7be"
   },
   "outputs": [],
   "source": [
    "# Entrada\n",
    "ser1 = pd.Series([10, 9, 6, 5, 3, 1, 12, 8, 13])\n",
    "ser2 = pd.Series([1, 3, 10, 13])"
   ]
  },
  {
   "cell_type": "code",
   "execution_count": 195,
   "metadata": {},
   "outputs": [],
   "source": [
    "ser = pd.Series(np.random.randint(1, 10, 15))"
   ]
  },
  {
   "cell_type": "code",
   "execution_count": 200,
   "metadata": {},
   "outputs": [
    {
     "data": {
      "text/plain": [
       "2"
      ]
     },
     "execution_count": 200,
     "metadata": {},
     "output_type": "execute_result"
    }
   ],
   "source": [
    "i = 10\n",
    "\n",
    "np.where(i == ser2)[0].tolist()[0]"
   ]
  },
  {
   "cell_type": "code",
   "execution_count": 204,
   "metadata": {},
   "outputs": [],
   "source": [
    "hola = []\n",
    "for i in ser1:\n",
    "    \n",
    "    hola.append(np.where(i == ser2)[0].tolist())"
   ]
  },
  {
   "cell_type": "code",
   "execution_count": 206,
   "metadata": {},
   "outputs": [
    {
     "data": {
      "text/plain": [
       "[5, 4, 0, 8]"
      ]
     },
     "execution_count": 206,
     "metadata": {},
     "output_type": "execute_result"
    }
   ],
   "source": [
    "# Solución 1\n",
    "[np.where(i == ser1)[0].tolist()[0] for i in ser2]"
   ]
  },
  {
   "cell_type": "code",
   "execution_count": 207,
   "metadata": {},
   "outputs": [
    {
     "data": {
      "text/plain": [
       "[5, 4, 0, 8]"
      ]
     },
     "execution_count": 207,
     "metadata": {},
     "output_type": "execute_result"
    }
   ],
   "source": [
    "# Solución 2\n",
    "[pd.Index(ser1).get_loc(i) for i in ser2]"
   ]
  },
  {
   "cell_type": "code",
   "execution_count": 212,
   "metadata": {},
   "outputs": [],
   "source": [
    "ser1 = pd.Series([10, 9, 6, 5, 3, 1, 12, 8, 13])\n",
    "ser2 = pd.Series([1, 3, 10, 13])\n",
    "\n",
    "df = pd.DataFrame({'serie1' : ser1, 'serie2' : ser2})"
   ]
  },
  {
   "cell_type": "code",
   "execution_count": 216,
   "metadata": {},
   "outputs": [],
   "source": [
    "comparison_column = np.where(df[\"serie1\"] == df[\"serie2\"], True, False)"
   ]
  },
  {
   "cell_type": "code",
   "execution_count": 218,
   "metadata": {},
   "outputs": [],
   "source": [
    "df['compar'] = comparison_column"
   ]
  },
  {
   "cell_type": "code",
   "execution_count": 219,
   "metadata": {},
   "outputs": [
    {
     "data": {
      "text/html": [
       "<div>\n",
       "<style scoped>\n",
       "    .dataframe tbody tr th:only-of-type {\n",
       "        vertical-align: middle;\n",
       "    }\n",
       "\n",
       "    .dataframe tbody tr th {\n",
       "        vertical-align: top;\n",
       "    }\n",
       "\n",
       "    .dataframe thead th {\n",
       "        text-align: right;\n",
       "    }\n",
       "</style>\n",
       "<table border=\"1\" class=\"dataframe\">\n",
       "  <thead>\n",
       "    <tr style=\"text-align: right;\">\n",
       "      <th></th>\n",
       "      <th>serie1</th>\n",
       "      <th>serie2</th>\n",
       "      <th>compar</th>\n",
       "    </tr>\n",
       "  </thead>\n",
       "  <tbody>\n",
       "    <tr>\n",
       "      <th>0</th>\n",
       "      <td>10</td>\n",
       "      <td>1.0</td>\n",
       "      <td>False</td>\n",
       "    </tr>\n",
       "    <tr>\n",
       "      <th>1</th>\n",
       "      <td>9</td>\n",
       "      <td>3.0</td>\n",
       "      <td>False</td>\n",
       "    </tr>\n",
       "    <tr>\n",
       "      <th>2</th>\n",
       "      <td>6</td>\n",
       "      <td>10.0</td>\n",
       "      <td>False</td>\n",
       "    </tr>\n",
       "    <tr>\n",
       "      <th>3</th>\n",
       "      <td>5</td>\n",
       "      <td>13.0</td>\n",
       "      <td>False</td>\n",
       "    </tr>\n",
       "    <tr>\n",
       "      <th>4</th>\n",
       "      <td>3</td>\n",
       "      <td>NaN</td>\n",
       "      <td>False</td>\n",
       "    </tr>\n",
       "    <tr>\n",
       "      <th>5</th>\n",
       "      <td>1</td>\n",
       "      <td>NaN</td>\n",
       "      <td>False</td>\n",
       "    </tr>\n",
       "    <tr>\n",
       "      <th>6</th>\n",
       "      <td>12</td>\n",
       "      <td>NaN</td>\n",
       "      <td>False</td>\n",
       "    </tr>\n",
       "    <tr>\n",
       "      <th>7</th>\n",
       "      <td>8</td>\n",
       "      <td>NaN</td>\n",
       "      <td>False</td>\n",
       "    </tr>\n",
       "    <tr>\n",
       "      <th>8</th>\n",
       "      <td>13</td>\n",
       "      <td>NaN</td>\n",
       "      <td>False</td>\n",
       "    </tr>\n",
       "  </tbody>\n",
       "</table>\n",
       "</div>"
      ],
      "text/plain": [
       "   serie1  serie2  compar\n",
       "0      10     1.0   False\n",
       "1       9     3.0   False\n",
       "2       6    10.0   False\n",
       "3       5    13.0   False\n",
       "4       3     NaN   False\n",
       "5       1     NaN   False\n",
       "6      12     NaN   False\n",
       "7       8     NaN   False\n",
       "8      13     NaN   False"
      ]
     },
     "execution_count": 219,
     "metadata": {},
     "output_type": "execute_result"
    }
   ],
   "source": [
    "df"
   ]
  },
  {
   "cell_type": "code",
   "execution_count": null,
   "metadata": {},
   "outputs": [],
   "source": [
    "comparison_column = np.where(df[\"col1\"] == df[\"col2\"], True, False)\n",
    "print(comparison_column)\n",
    "df[\"equal\"] = comparison_column\n",
    "print(df)"
   ]
  },
  {
   "cell_type": "markdown",
   "metadata": {
    "id": "soGUeNe9K0H3"
   },
   "source": [
    "### 14 - Calcule el Error Cuadrático Medio (SME en inglés) de dadas dos series.\n",
    "`pista: mean(...)`"
   ]
  },
  {
   "cell_type": "markdown",
   "metadata": {},
   "source": [
    "$$\n",
    "\\mathrm{ECM}=\\frac{1}{n} \\sum_{i=1}^{n}\\left(\\hat{Y}_{i}-Y_{i}\\right)^{2}\n",
    "$$"
   ]
  },
  {
   "cell_type": "code",
   "execution_count": 208,
   "metadata": {
    "colab": {
     "base_uri": "https://localhost:8080/"
    },
    "executionInfo": {
     "elapsed": 219,
     "status": "ok",
     "timestamp": 1652978118064,
     "user": {
      "displayName": "Jose Antonio Lagares Rodriguez",
      "userId": "00469018537825658051"
     },
     "user_tz": -120
    },
    "id": "El1Rhy9aLBb3",
    "outputId": "e0c65728-28a9-42e0-d7a2-bc9d27306c98"
   },
   "outputs": [],
   "source": [
    "# Entrada\n",
    "verdad = pd.Series(range(10))\n",
    "prediccion = pd.Series(range(10)) + np.random.random(10)"
   ]
  },
  {
   "cell_type": "code",
   "execution_count": 223,
   "metadata": {},
   "outputs": [],
   "source": [
    "assert len(prediccion) == len(verdad)"
   ]
  },
  {
   "cell_type": "code",
   "execution_count": 222,
   "metadata": {},
   "outputs": [
    {
     "data": {
      "text/plain": [
       "0.3540893198847129"
      ]
     },
     "execution_count": 222,
     "metadata": {},
     "output_type": "execute_result"
    }
   ],
   "source": [
    "sum((prediccion - verdad)**2)/len(prediccion)"
   ]
  },
  {
   "cell_type": "code",
   "execution_count": 230,
   "metadata": {},
   "outputs": [
    {
     "data": {
      "text/plain": [
       "0.26559586793362794"
      ]
     },
     "execution_count": 230,
     "metadata": {},
     "output_type": "execute_result"
    }
   ],
   "source": [
    "# Entrada\n",
    "verdad = pd.Series(range(10))\n",
    "prediccion = pd.Series(range(10)) + np.random.random(10)\n",
    "\n",
    "def mse(verdad, prediccion):\n",
    "    \n",
    "    verdad, prediccion = np.array(verdad), np.array(prediccion)\n",
    "    \n",
    "    return np.square(np.subtract(verdad, prediccion)).mean()\n",
    "\n",
    "mse(verdad, prediccion)"
   ]
  },
  {
   "cell_type": "markdown",
   "metadata": {
    "id": "x399L8D3LJgX"
   },
   "source": [
    " ## 15 - Convertir el primer caracter de una serie en mayuúscula.\n",
    "\n",
    "`pista: title()`"
   ]
  },
  {
   "cell_type": "code",
   "execution_count": 224,
   "metadata": {
    "colab": {
     "base_uri": "https://localhost:8080/"
    },
    "executionInfo": {
     "elapsed": 219,
     "status": "ok",
     "timestamp": 1652978220332,
     "user": {
      "displayName": "Jose Antonio Lagares Rodriguez",
      "userId": "00469018537825658051"
     },
     "user_tz": -120
    },
    "id": "KZlQ6kF4LXfW",
    "outputId": "2bd3c000-25bd-4a44-9b27-31d7038d3327"
   },
   "outputs": [],
   "source": [
    "# Entrada\n",
    "ser = pd.Series(['hola', 'me', 'llamo', 'Antonio'])"
   ]
  },
  {
   "cell_type": "code",
   "execution_count": 225,
   "metadata": {},
   "outputs": [
    {
     "data": {
      "text/plain": [
       "0       Hola\n",
       "1         Me\n",
       "2      Llamo\n",
       "3    Antonio\n",
       "dtype: object"
      ]
     },
     "execution_count": 225,
     "metadata": {},
     "output_type": "execute_result"
    }
   ],
   "source": [
    "mayus = pd.Series([i.capitalize() for i in ser])\n",
    "mayus"
   ]
  },
  {
   "cell_type": "code",
   "execution_count": 227,
   "metadata": {},
   "outputs": [
    {
     "data": {
      "text/plain": [
       "0       Hola\n",
       "1         Me\n",
       "2      Llamo\n",
       "3    Antonio\n",
       "dtype: object"
      ]
     },
     "execution_count": 227,
     "metadata": {},
     "output_type": "execute_result"
    }
   ],
   "source": [
    "ser.str.title()"
   ]
  },
  {
   "cell_type": "code",
   "execution_count": 232,
   "metadata": {},
   "outputs": [
    {
     "data": {
      "text/plain": [
       "0       Hola\n",
       "1         Me\n",
       "2      Llamo\n",
       "3    Antonio\n",
       "dtype: object"
      ]
     },
     "execution_count": 232,
     "metadata": {},
     "output_type": "execute_result"
    }
   ],
   "source": [
    "ser.apply(lambda x: x.capitalize())"
   ]
  },
  {
   "cell_type": "markdown",
   "metadata": {
    "id": "EfqMb0R9Lh23"
   },
   "source": [
    "## 16 - Calcular el número de caracteres de cada palabra en una serie.\n",
    "\n",
    "`pista: map(...), lambda(...) y len(...)`"
   ]
  },
  {
   "cell_type": "code",
   "execution_count": 237,
   "metadata": {},
   "outputs": [
    {
     "data": {
      "text/plain": [
       "0    4\n",
       "1    2\n",
       "2    5\n",
       "3    7\n",
       "dtype: int64"
      ]
     },
     "execution_count": 237,
     "metadata": {},
     "output_type": "execute_result"
    }
   ],
   "source": [
    "ser.map(lambda x: len(x))"
   ]
  },
  {
   "cell_type": "code",
   "execution_count": 238,
   "metadata": {},
   "outputs": [
    {
     "data": {
      "text/plain": [
       "0    4\n",
       "1    2\n",
       "2    5\n",
       "3    7\n",
       "dtype: int64"
      ]
     },
     "execution_count": 238,
     "metadata": {},
     "output_type": "execute_result"
    }
   ],
   "source": [
    "ser.apply(lambda x: len(x))"
   ]
  },
  {
   "cell_type": "code",
   "execution_count": 235,
   "metadata": {
    "colab": {
     "base_uri": "https://localhost:8080/"
    },
    "executionInfo": {
     "elapsed": 241,
     "status": "ok",
     "timestamp": 1652978309902,
     "user": {
      "displayName": "Jose Antonio Lagares Rodriguez",
      "userId": "00469018537825658051"
     },
     "user_tz": -120
    },
    "id": "nntVOjLhLyCf",
    "outputId": "7ef2a54f-4f17-4f43-e666-6288b3d78f52"
   },
   "outputs": [],
   "source": [
    "# Entrada\n",
    "ser = pd.Series(['hola', 'me', 'llamo', 'Antonio'])"
   ]
  },
  {
   "cell_type": "code",
   "execution_count": 239,
   "metadata": {},
   "outputs": [
    {
     "data": {
      "text/plain": [
       "0       cat\n",
       "1       dog\n",
       "2       NaN\n",
       "3    rabbit\n",
       "dtype: object"
      ]
     },
     "execution_count": 239,
     "metadata": {},
     "output_type": "execute_result"
    }
   ],
   "source": [
    "s = pd.Series(['cat', 'dog', np.nan, 'rabbit'])\n",
    "s"
   ]
  },
  {
   "cell_type": "code",
   "execution_count": 243,
   "metadata": {},
   "outputs": [
    {
     "data": {
      "text/plain": [
       "0    3\n",
       "1    3\n",
       "2    4\n",
       "3    6\n",
       "dtype: int64"
      ]
     },
     "execution_count": 243,
     "metadata": {},
     "output_type": "execute_result"
    }
   ],
   "source": [
    "s.fillna('None').map(lambda x: len(x))"
   ]
  },
  {
   "cell_type": "markdown",
   "metadata": {
    "id": "cha-gJwdL-TW"
   },
   "source": [
    "## 17 - Dada una serie de fechas escritas como cadenas, páselas a `timeseries`.\n",
    "\n",
    "`pista: to_datetime`\n",
    "\n",
    "`serie de ejemplo: ser = pd.Series(['01 Feb 2012', '02-03-2011', '20150503', '2016/04/04', '2018-05-05', '2018-06-06T12:20'])`"
   ]
  },
  {
   "cell_type": "code",
   "execution_count": 244,
   "metadata": {
    "colab": {
     "base_uri": "https://localhost:8080/"
    },
    "executionInfo": {
     "elapsed": 230,
     "status": "ok",
     "timestamp": 1652979913422,
     "user": {
      "displayName": "Jose Antonio Lagares Rodriguez",
      "userId": "00469018537825658051"
     },
     "user_tz": -120
    },
    "id": "oBYASTUCM_aW",
    "outputId": "b5dd01e5-0f6c-4a08-cc89-aa0260395144"
   },
   "outputs": [],
   "source": [
    "# Entrada\n",
    "ser = pd.Series(['01 Feb 2012', '02-03-2011', '20150503', '2016/04/04', '2018-05-05', '2018-06-06T12:20'])\n"
   ]
  },
  {
   "cell_type": "code",
   "execution_count": 248,
   "metadata": {},
   "outputs": [
    {
     "data": {
      "text/plain": [
       "0   2012-02-01 00:00:00\n",
       "1   2011-02-03 00:00:00\n",
       "2   2015-05-03 00:00:00\n",
       "3   2016-04-04 00:00:00\n",
       "4   2018-05-05 00:00:00\n",
       "5   2018-06-06 12:20:00\n",
       "dtype: datetime64[ns]"
      ]
     },
     "execution_count": 248,
     "metadata": {},
     "output_type": "execute_result"
    }
   ],
   "source": [
    "pd.to_datetime(ser)"
   ]
  },
  {
   "cell_type": "markdown",
   "metadata": {
    "id": "hMpVwc3lB5tw"
   },
   "source": [
    "## 18 - Obtenga el día del mes, el número de la semana y el día del año a partir de una serie de cadenas de fechas.\n",
    "`pista: day.tolist(), weekofyear.tolist() y dayofyear.tolist() `\n",
    "\n",
    "`serie de ejemplo: ser = pd.Series(['01 Feb 2012', '02-03-2011', '20150503', '2016/04/04', '2018-05-05', '2018-06-06T12:20'])`\n",
    "\n"
   ]
  },
  {
   "cell_type": "code",
   "execution_count": 292,
   "metadata": {
    "colab": {
     "base_uri": "https://localhost:8080/"
    },
    "executionInfo": {
     "elapsed": 244,
     "status": "ok",
     "timestamp": 1652980166414,
     "user": {
      "displayName": "Jose Antonio Lagares Rodriguez",
      "userId": "00469018537825658051"
     },
     "user_tz": -120
    },
    "id": "1QD83x5VSag1",
    "outputId": "ae48efac-03ea-46ca-dd92-e4943ac28504"
   },
   "outputs": [],
   "source": [
    "# Entrada\n",
    "ser = pd.Series(['01 Feb 2012', '02-03-2011', '20150503', '2016/04/04', '2018-05-05', '2018-06-06T12:20'])\n"
   ]
  },
  {
   "cell_type": "code",
   "execution_count": 293,
   "metadata": {},
   "outputs": [],
   "source": [
    "# Solución\n",
    "from dateutil.parser import parse\n",
    "\n",
    "ser_ts = ser.map(lambda x: parse(x))"
   ]
  },
  {
   "cell_type": "code",
   "execution_count": 294,
   "metadata": {},
   "outputs": [
    {
     "data": {
      "text/plain": [
       "0   2012-02-01 00:00:00\n",
       "1   2011-02-03 00:00:00\n",
       "2   2015-05-03 00:00:00\n",
       "3   2016-04-04 00:00:00\n",
       "4   2018-05-05 00:00:00\n",
       "5   2018-06-06 12:20:00\n",
       "dtype: datetime64[ns]"
      ]
     },
     "execution_count": 294,
     "metadata": {},
     "output_type": "execute_result"
    }
   ],
   "source": [
    "ser_ts"
   ]
  },
  {
   "cell_type": "code",
   "execution_count": 295,
   "metadata": {},
   "outputs": [
    {
     "name": "stdout",
     "output_type": "stream",
     "text": [
      "Fecha:  [1, 3, 3, 4, 5, 6]\n",
      "Número de semana:  [5, 5, 18, 14, 18, 23]\n",
      "Día del año:  [32, 34, 123, 95, 125, 157]\n"
     ]
    },
    {
     "name": "stderr",
     "output_type": "stream",
     "text": [
      "C:\\Users\\luisi\\AppData\\Local\\Temp/ipykernel_19648/809802321.py:5: FutureWarning: Series.dt.weekofyear and Series.dt.week have been deprecated. Please use Series.dt.isocalendar().week instead.\n",
      "  print(\"Número de semana: \", ser_ts.dt.weekofyear.tolist())\n"
     ]
    }
   ],
   "source": [
    "# Día del mes\n",
    "print(\"Fecha: \", ser_ts.dt.day.tolist())\n",
    "\n",
    "# Semana number\n",
    "print(\"Número de semana: \", ser_ts.dt.weekofyear.tolist())\n",
    "\n",
    "# Día del año\n",
    "print(\"Día del año: \", ser_ts.dt.dayofyear.tolist())"
   ]
  },
  {
   "cell_type": "markdown",
   "metadata": {
    "id": "f5oJitufRGh0"
   },
   "source": [
    "## 19 - Dado una lista de \"mes año\", indique el día 15 de cada mes.\n",
    "`pista: parse(...) `\n",
    "\n",
    "`serie = pd.Series(['Jan 2018', 'Feb 2018', 'Nov 2018'])`"
   ]
  },
  {
   "cell_type": "code",
   "execution_count": 299,
   "metadata": {
    "colab": {
     "base_uri": "https://localhost:8080/"
    },
    "executionInfo": {
     "elapsed": 3,
     "status": "ok",
     "timestamp": 1652980708025,
     "user": {
      "displayName": "Jose Antonio Lagares Rodriguez",
      "userId": "00469018537825658051"
     },
     "user_tz": -120
    },
    "id": "MImVz7VUUgok",
    "outputId": "e3eb86f1-e3fa-4269-ea20-48a34033fa94"
   },
   "outputs": [
    {
     "data": {
      "text/plain": [
       "0   2010-01-15\n",
       "1   2011-02-15\n",
       "2   2012-11-15\n",
       "dtype: datetime64[ns]"
      ]
     },
     "execution_count": 299,
     "metadata": {},
     "output_type": "execute_result"
    }
   ],
   "source": [
    "import pandas as pd\n",
    "\n",
    "# Entrada\n",
    "serie = pd.Series(['Jan 2010', 'Feb 2011', 'Nov 2012'])\n",
    "\n",
    "serie = '15 ' + serie\n",
    "\n",
    "pd.to_datetime(serie)"
   ]
  },
  {
   "cell_type": "markdown",
   "metadata": {
    "id": "GrJNMRWhRHdx"
   },
   "source": [
    "## 20 - Filtrar emails dada una expresión regular de una serie de emails.\n",
    "`pista: match(...) `\n",
    "\n",
    "`patron ='[A-Za-z0-9._%+-]+@[A-Za-z0-9.-]+\\\\.[A-Za-z]{2,4}'`"
   ]
  },
  {
   "cell_type": "code",
   "execution_count": 306,
   "metadata": {
    "colab": {
     "base_uri": "https://localhost:8080/"
    },
    "executionInfo": {
     "elapsed": 220,
     "status": "ok",
     "timestamp": 1652981195838,
     "user": {
      "displayName": "Jose Antonio Lagares Rodriguez",
      "userId": "00469018537825658051"
     },
     "user_tz": -120
    },
    "id": "2SipSsteWDvD",
    "outputId": "ad45e7af-df12-4273-c5ff-c85222ad7177"
   },
   "outputs": [
    {
     "data": {
      "text/plain": [
       "1    asdfageses@egydfpt.com\n",
       "2                  mad@t.co\n",
       "3        ndfgfsra@gmail.com\n",
       "dtype: object"
      ]
     },
     "execution_count": 306,
     "metadata": {},
     "output_type": "execute_result"
    }
   ],
   "source": [
    "# Entrada\n",
    "emails = pd.Series(['Compra libros en amazom.com', 'asdfageses@egydfpt.com', 'mad@t.co', 'ndfgfsra@gmail.com'])\n",
    "\n",
    "# # Solución\n",
    "import re\n",
    "patron ='[A-Za-z0-9._%+-]+@[A-Za-z0-9.-]+\\\\.[A-Za-z]{2,4}'\n",
    "mascara = emails.map(lambda x: bool(re.match(patron, x)))\n",
    "emails[mascara]"
   ]
  },
  {
   "cell_type": "code",
   "execution_count": 308,
   "metadata": {},
   "outputs": [
    {
     "data": {
      "text/plain": [
       "0    Compra libros en amazom.com\n",
       "1         asdfageses@egydfpt.com\n",
       "2                       mad@t.co\n",
       "3             ndfgfsra@gmail.com\n",
       "dtype: object"
      ]
     },
     "execution_count": 308,
     "metadata": {},
     "output_type": "execute_result"
    }
   ],
   "source": [
    "emails"
   ]
  },
  {
   "cell_type": "code",
   "execution_count": 307,
   "metadata": {},
   "outputs": [
    {
     "name": "stdout",
     "output_type": "stream",
     "text": [
      "['m', '@egydfpt.com', '@t.co', '@gmail.com']\n"
     ]
    }
   ],
   "source": [
    "mails_filtrados= []\n",
    "\n",
    "for i in emails:\n",
    "    \n",
    "    if i[i.find(\"@\") : ] not in mails_filtrados:\n",
    "        \n",
    "        mails_filtrados.append(i[i.find(\"@\") : ])\n",
    "        \n",
    "print(mails_filtrados)"
   ]
  },
  {
   "cell_type": "markdown",
   "metadata": {
    "id": "dk5GimeGRIhM"
   },
   "source": [
    "## 21 - Dentro de una serie, reemplace los espacios que faltan en una cadena con el carácter menos frecuente.\n",
    "`pista:  value_counts(), dropna()`\n",
    "\n",
    "`entrada: cadena = 'dsdf eeee fsdf dfs'`\n"
   ]
  },
  {
   "cell_type": "code",
   "execution_count": 319,
   "metadata": {},
   "outputs": [],
   "source": [
    "cadena = 'dsdf eeee fsdf dfs'"
   ]
  },
  {
   "cell_type": "code",
   "execution_count": 325,
   "metadata": {},
   "outputs": [
    {
     "data": {
      "text/plain": [
       "'dsdfseeeesfsdfsdfs'"
      ]
     },
     "execution_count": 325,
     "metadata": {},
     "output_type": "execute_result"
    }
   ],
   "source": [
    "s = pd.Series(list(cadena))\n",
    "letra_reemplazadora = s[s != ' '].value_counts().index[-1]\n",
    "\n",
    "cadena.replace(' ',letra_reemplazadora)"
   ]
  },
  {
   "cell_type": "markdown",
   "metadata": {
    "id": "j1xkuxLXRJg0"
   },
   "source": [
    "## 22 - Lea un fichero .csv\n",
    "`pista: read_csv()`\n",
    "\n",
    "`URL: https://raw.githubusercontent.com/selva86/datasets/master/BostonHousing.csv`"
   ]
  },
  {
   "cell_type": "code",
   "execution_count": 345,
   "metadata": {},
   "outputs": [],
   "source": [
    "data = pd.read_csv('https://raw.githubusercontent.com/selva86/datasets/master/BostonHousing.csv')"
   ]
  },
  {
   "cell_type": "markdown",
   "metadata": {
    "id": "H3w1Ny9PRKqU"
   },
   "source": [
    "## 23 - Lea el fichero anterior y si la columna `'medv' (median house value)` es superior a 50 colocar 'high'  y si es menor a 50 colocar 'low'.\n",
    "`pista:  reac_csv(...,converters={})`\n",
    "\n",
    "`URL: https://raw.githubusercontent.com/selva86/datasets/master/BostonHousing.csv`"
   ]
  },
  {
   "cell_type": "code",
   "execution_count": 352,
   "metadata": {},
   "outputs": [
    {
     "data": {
      "text/html": [
       "<div>\n",
       "<style scoped>\n",
       "    .dataframe tbody tr th:only-of-type {\n",
       "        vertical-align: middle;\n",
       "    }\n",
       "\n",
       "    .dataframe tbody tr th {\n",
       "        vertical-align: top;\n",
       "    }\n",
       "\n",
       "    .dataframe thead th {\n",
       "        text-align: right;\n",
       "    }\n",
       "</style>\n",
       "<table border=\"1\" class=\"dataframe\">\n",
       "  <thead>\n",
       "    <tr style=\"text-align: right;\">\n",
       "      <th></th>\n",
       "      <th>crim</th>\n",
       "      <th>zn</th>\n",
       "      <th>indus</th>\n",
       "      <th>chas</th>\n",
       "      <th>nox</th>\n",
       "      <th>rm</th>\n",
       "      <th>age</th>\n",
       "      <th>dis</th>\n",
       "      <th>rad</th>\n",
       "      <th>tax</th>\n",
       "      <th>ptratio</th>\n",
       "      <th>b</th>\n",
       "      <th>lstat</th>\n",
       "      <th>medv</th>\n",
       "    </tr>\n",
       "  </thead>\n",
       "  <tbody>\n",
       "    <tr>\n",
       "      <th>0</th>\n",
       "      <td>0.00632</td>\n",
       "      <td>18.0</td>\n",
       "      <td>2.31</td>\n",
       "      <td>0</td>\n",
       "      <td>0.538</td>\n",
       "      <td>6.575</td>\n",
       "      <td>65.2</td>\n",
       "      <td>4.0900</td>\n",
       "      <td>1</td>\n",
       "      <td>296</td>\n",
       "      <td>15.3</td>\n",
       "      <td>396.90</td>\n",
       "      <td>4.98</td>\n",
       "      <td>low</td>\n",
       "    </tr>\n",
       "    <tr>\n",
       "      <th>1</th>\n",
       "      <td>0.02731</td>\n",
       "      <td>0.0</td>\n",
       "      <td>7.07</td>\n",
       "      <td>0</td>\n",
       "      <td>0.469</td>\n",
       "      <td>6.421</td>\n",
       "      <td>78.9</td>\n",
       "      <td>4.9671</td>\n",
       "      <td>2</td>\n",
       "      <td>242</td>\n",
       "      <td>17.8</td>\n",
       "      <td>396.90</td>\n",
       "      <td>9.14</td>\n",
       "      <td>low</td>\n",
       "    </tr>\n",
       "    <tr>\n",
       "      <th>2</th>\n",
       "      <td>0.02729</td>\n",
       "      <td>0.0</td>\n",
       "      <td>7.07</td>\n",
       "      <td>0</td>\n",
       "      <td>0.469</td>\n",
       "      <td>7.185</td>\n",
       "      <td>61.1</td>\n",
       "      <td>4.9671</td>\n",
       "      <td>2</td>\n",
       "      <td>242</td>\n",
       "      <td>17.8</td>\n",
       "      <td>392.83</td>\n",
       "      <td>4.03</td>\n",
       "      <td>low</td>\n",
       "    </tr>\n",
       "    <tr>\n",
       "      <th>3</th>\n",
       "      <td>0.03237</td>\n",
       "      <td>0.0</td>\n",
       "      <td>2.18</td>\n",
       "      <td>0</td>\n",
       "      <td>0.458</td>\n",
       "      <td>6.998</td>\n",
       "      <td>45.8</td>\n",
       "      <td>6.0622</td>\n",
       "      <td>3</td>\n",
       "      <td>222</td>\n",
       "      <td>18.7</td>\n",
       "      <td>394.63</td>\n",
       "      <td>2.94</td>\n",
       "      <td>low</td>\n",
       "    </tr>\n",
       "    <tr>\n",
       "      <th>4</th>\n",
       "      <td>0.06905</td>\n",
       "      <td>0.0</td>\n",
       "      <td>2.18</td>\n",
       "      <td>0</td>\n",
       "      <td>0.458</td>\n",
       "      <td>7.147</td>\n",
       "      <td>54.2</td>\n",
       "      <td>6.0622</td>\n",
       "      <td>3</td>\n",
       "      <td>222</td>\n",
       "      <td>18.7</td>\n",
       "      <td>396.90</td>\n",
       "      <td>5.33</td>\n",
       "      <td>low</td>\n",
       "    </tr>\n",
       "    <tr>\n",
       "      <th>...</th>\n",
       "      <td>...</td>\n",
       "      <td>...</td>\n",
       "      <td>...</td>\n",
       "      <td>...</td>\n",
       "      <td>...</td>\n",
       "      <td>...</td>\n",
       "      <td>...</td>\n",
       "      <td>...</td>\n",
       "      <td>...</td>\n",
       "      <td>...</td>\n",
       "      <td>...</td>\n",
       "      <td>...</td>\n",
       "      <td>...</td>\n",
       "      <td>...</td>\n",
       "    </tr>\n",
       "    <tr>\n",
       "      <th>501</th>\n",
       "      <td>0.06263</td>\n",
       "      <td>0.0</td>\n",
       "      <td>11.93</td>\n",
       "      <td>0</td>\n",
       "      <td>0.573</td>\n",
       "      <td>6.593</td>\n",
       "      <td>69.1</td>\n",
       "      <td>2.4786</td>\n",
       "      <td>1</td>\n",
       "      <td>273</td>\n",
       "      <td>21.0</td>\n",
       "      <td>391.99</td>\n",
       "      <td>9.67</td>\n",
       "      <td>low</td>\n",
       "    </tr>\n",
       "    <tr>\n",
       "      <th>502</th>\n",
       "      <td>0.04527</td>\n",
       "      <td>0.0</td>\n",
       "      <td>11.93</td>\n",
       "      <td>0</td>\n",
       "      <td>0.573</td>\n",
       "      <td>6.120</td>\n",
       "      <td>76.7</td>\n",
       "      <td>2.2875</td>\n",
       "      <td>1</td>\n",
       "      <td>273</td>\n",
       "      <td>21.0</td>\n",
       "      <td>396.90</td>\n",
       "      <td>9.08</td>\n",
       "      <td>low</td>\n",
       "    </tr>\n",
       "    <tr>\n",
       "      <th>503</th>\n",
       "      <td>0.06076</td>\n",
       "      <td>0.0</td>\n",
       "      <td>11.93</td>\n",
       "      <td>0</td>\n",
       "      <td>0.573</td>\n",
       "      <td>6.976</td>\n",
       "      <td>91.0</td>\n",
       "      <td>2.1675</td>\n",
       "      <td>1</td>\n",
       "      <td>273</td>\n",
       "      <td>21.0</td>\n",
       "      <td>396.90</td>\n",
       "      <td>5.64</td>\n",
       "      <td>low</td>\n",
       "    </tr>\n",
       "    <tr>\n",
       "      <th>504</th>\n",
       "      <td>0.10959</td>\n",
       "      <td>0.0</td>\n",
       "      <td>11.93</td>\n",
       "      <td>0</td>\n",
       "      <td>0.573</td>\n",
       "      <td>6.794</td>\n",
       "      <td>89.3</td>\n",
       "      <td>2.3889</td>\n",
       "      <td>1</td>\n",
       "      <td>273</td>\n",
       "      <td>21.0</td>\n",
       "      <td>393.45</td>\n",
       "      <td>6.48</td>\n",
       "      <td>low</td>\n",
       "    </tr>\n",
       "    <tr>\n",
       "      <th>505</th>\n",
       "      <td>0.04741</td>\n",
       "      <td>0.0</td>\n",
       "      <td>11.93</td>\n",
       "      <td>0</td>\n",
       "      <td>0.573</td>\n",
       "      <td>6.030</td>\n",
       "      <td>80.8</td>\n",
       "      <td>2.5050</td>\n",
       "      <td>1</td>\n",
       "      <td>273</td>\n",
       "      <td>21.0</td>\n",
       "      <td>396.90</td>\n",
       "      <td>7.88</td>\n",
       "      <td>low</td>\n",
       "    </tr>\n",
       "  </tbody>\n",
       "</table>\n",
       "<p>506 rows × 14 columns</p>\n",
       "</div>"
      ],
      "text/plain": [
       "        crim    zn  indus  chas    nox     rm   age     dis  rad  tax  \\\n",
       "0    0.00632  18.0   2.31     0  0.538  6.575  65.2  4.0900    1  296   \n",
       "1    0.02731   0.0   7.07     0  0.469  6.421  78.9  4.9671    2  242   \n",
       "2    0.02729   0.0   7.07     0  0.469  7.185  61.1  4.9671    2  242   \n",
       "3    0.03237   0.0   2.18     0  0.458  6.998  45.8  6.0622    3  222   \n",
       "4    0.06905   0.0   2.18     0  0.458  7.147  54.2  6.0622    3  222   \n",
       "..       ...   ...    ...   ...    ...    ...   ...     ...  ...  ...   \n",
       "501  0.06263   0.0  11.93     0  0.573  6.593  69.1  2.4786    1  273   \n",
       "502  0.04527   0.0  11.93     0  0.573  6.120  76.7  2.2875    1  273   \n",
       "503  0.06076   0.0  11.93     0  0.573  6.976  91.0  2.1675    1  273   \n",
       "504  0.10959   0.0  11.93     0  0.573  6.794  89.3  2.3889    1  273   \n",
       "505  0.04741   0.0  11.93     0  0.573  6.030  80.8  2.5050    1  273   \n",
       "\n",
       "     ptratio       b  lstat medv  \n",
       "0       15.3  396.90   4.98  low  \n",
       "1       17.8  396.90   9.14  low  \n",
       "2       17.8  392.83   4.03  low  \n",
       "3       18.7  394.63   2.94  low  \n",
       "4       18.7  396.90   5.33  low  \n",
       "..       ...     ...    ...  ...  \n",
       "501     21.0  391.99   9.67  low  \n",
       "502     21.0  396.90   9.08  low  \n",
       "503     21.0  396.90   5.64  low  \n",
       "504     21.0  393.45   6.48  low  \n",
       "505     21.0  396.90   7.88  low  \n",
       "\n",
       "[506 rows x 14 columns]"
      ]
     },
     "execution_count": 352,
     "metadata": {},
     "output_type": "execute_result"
    }
   ],
   "source": [
    "pd.read_csv(\n",
    "    'https://raw.githubusercontent.com/selva86/datasets/master/BostonHousing.csv',\n",
    "    converters={'medv': lambda x: 'high' if float(x) > 50 else 'low'}\n",
    ")"
   ]
  },
  {
   "cell_type": "markdown",
   "metadata": {
    "id": "cAm2y6fORMX8"
   },
   "source": [
    "## 24 - Lea el fichero anterior pero solo cargue las columnas 'crim' y 'medv'.\n",
    "`pista: read_csv(...,usecols=[...]) `\n",
    "\n",
    "`URL: https://raw.githubusercontent.com/selva86/datasets/master/BostonHousing.csv`"
   ]
  },
  {
   "cell_type": "code",
   "execution_count": 353,
   "metadata": {},
   "outputs": [
    {
     "data": {
      "text/html": [
       "<div>\n",
       "<style scoped>\n",
       "    .dataframe tbody tr th:only-of-type {\n",
       "        vertical-align: middle;\n",
       "    }\n",
       "\n",
       "    .dataframe tbody tr th {\n",
       "        vertical-align: top;\n",
       "    }\n",
       "\n",
       "    .dataframe thead th {\n",
       "        text-align: right;\n",
       "    }\n",
       "</style>\n",
       "<table border=\"1\" class=\"dataframe\">\n",
       "  <thead>\n",
       "    <tr style=\"text-align: right;\">\n",
       "      <th></th>\n",
       "      <th>crim</th>\n",
       "      <th>medv</th>\n",
       "    </tr>\n",
       "  </thead>\n",
       "  <tbody>\n",
       "    <tr>\n",
       "      <th>0</th>\n",
       "      <td>0.00632</td>\n",
       "      <td>24.0</td>\n",
       "    </tr>\n",
       "    <tr>\n",
       "      <th>1</th>\n",
       "      <td>0.02731</td>\n",
       "      <td>21.6</td>\n",
       "    </tr>\n",
       "    <tr>\n",
       "      <th>2</th>\n",
       "      <td>0.02729</td>\n",
       "      <td>34.7</td>\n",
       "    </tr>\n",
       "    <tr>\n",
       "      <th>3</th>\n",
       "      <td>0.03237</td>\n",
       "      <td>33.4</td>\n",
       "    </tr>\n",
       "    <tr>\n",
       "      <th>4</th>\n",
       "      <td>0.06905</td>\n",
       "      <td>36.2</td>\n",
       "    </tr>\n",
       "    <tr>\n",
       "      <th>...</th>\n",
       "      <td>...</td>\n",
       "      <td>...</td>\n",
       "    </tr>\n",
       "    <tr>\n",
       "      <th>501</th>\n",
       "      <td>0.06263</td>\n",
       "      <td>22.4</td>\n",
       "    </tr>\n",
       "    <tr>\n",
       "      <th>502</th>\n",
       "      <td>0.04527</td>\n",
       "      <td>20.6</td>\n",
       "    </tr>\n",
       "    <tr>\n",
       "      <th>503</th>\n",
       "      <td>0.06076</td>\n",
       "      <td>23.9</td>\n",
       "    </tr>\n",
       "    <tr>\n",
       "      <th>504</th>\n",
       "      <td>0.10959</td>\n",
       "      <td>22.0</td>\n",
       "    </tr>\n",
       "    <tr>\n",
       "      <th>505</th>\n",
       "      <td>0.04741</td>\n",
       "      <td>11.9</td>\n",
       "    </tr>\n",
       "  </tbody>\n",
       "</table>\n",
       "<p>506 rows × 2 columns</p>\n",
       "</div>"
      ],
      "text/plain": [
       "        crim  medv\n",
       "0    0.00632  24.0\n",
       "1    0.02731  21.6\n",
       "2    0.02729  34.7\n",
       "3    0.03237  33.4\n",
       "4    0.06905  36.2\n",
       "..       ...   ...\n",
       "501  0.06263  22.4\n",
       "502  0.04527  20.6\n",
       "503  0.06076  23.9\n",
       "504  0.10959  22.0\n",
       "505  0.04741  11.9\n",
       "\n",
       "[506 rows x 2 columns]"
      ]
     },
     "execution_count": 353,
     "metadata": {},
     "output_type": "execute_result"
    }
   ],
   "source": [
    "pd.read_csv(\n",
    "    'https://raw.githubusercontent.com/selva86/datasets/master/BostonHousing.csv',\n",
    "    usecols=['crim', 'medv']\n",
    ")"
   ]
  },
  {
   "cell_type": "markdown",
   "metadata": {
    "id": "X0HpknKdRNjc"
   },
   "source": [
    "## 25 - Lea un fichero CSV y obtenga el número de filas y columnas.\n",
    "`pista:  shape`\n",
    "\n",
    "`URL: https://raw.githubusercontent.com/selva86/datasets/master/BostonHousing.csv`"
   ]
  },
  {
   "cell_type": "code",
   "execution_count": 354,
   "metadata": {},
   "outputs": [],
   "source": [
    "data = pd.read_csv(\n",
    "    'https://raw.githubusercontent.com/selva86/datasets/master/BostonHousing.csv'\n",
    ")"
   ]
  },
  {
   "cell_type": "code",
   "execution_count": 364,
   "metadata": {},
   "outputs": [
    {
     "data": {
      "text/plain": [
       "(506, 14)"
      ]
     },
     "execution_count": 364,
     "metadata": {},
     "output_type": "execute_result"
    }
   ],
   "source": [
    "url =\"https://raw.githubusercontent.com/selva86/datasets/master/BostonHousing.csv\"\n",
    "docu = pd.read_csv(url)\n",
    "docu.shape"
   ]
  },
  {
   "cell_type": "markdown",
   "metadata": {
    "id": "kttzt4-BRO-M"
   },
   "source": [
    "## 25 - Lea un fichero CSV y obtenga la información del tipo de sus columnas que tiene.\n",
    "`pista:  dtypes`\n",
    "\n",
    "`URL: https://raw.githubusercontent.com/selva86/datasets/master/BostonHousing.csv`"
   ]
  },
  {
   "cell_type": "code",
   "execution_count": 365,
   "metadata": {},
   "outputs": [],
   "source": [
    "data = pd.read_csv(\n",
    "    'https://raw.githubusercontent.com/selva86/datasets/master/BostonHousing.csv'\n",
    ")"
   ]
  },
  {
   "cell_type": "code",
   "execution_count": 377,
   "metadata": {},
   "outputs": [
    {
     "data": {
      "text/plain": [
       "crim       float64\n",
       "zn         float64\n",
       "indus      float64\n",
       "chas         int64\n",
       "nox        float64\n",
       "rm         float64\n",
       "age        float64\n",
       "dis        float64\n",
       "rad          int64\n",
       "tax          int64\n",
       "ptratio    float64\n",
       "b          float64\n",
       "lstat      float64\n",
       "medv       float64\n",
       "dtype: object"
      ]
     },
     "execution_count": 377,
     "metadata": {},
     "output_type": "execute_result"
    }
   ],
   "source": [
    "data.dtypes"
   ]
  },
  {
   "cell_type": "markdown",
   "metadata": {
    "id": "mcN3ttG3RP_T"
   },
   "source": [
    "## 27 - Describe los atributos del `dataset` cargado por el CSV.\n",
    "`pista:  describe`\n",
    "\n",
    "`URL: https://raw.githubusercontent.com/selva86/datasets/master/BostonHousing.csv`"
   ]
  },
  {
   "cell_type": "code",
   "execution_count": 386,
   "metadata": {},
   "outputs": [
    {
     "data": {
      "text/plain": [
       "[Index(['chas', 'rad', 'tax'], dtype='object')]"
      ]
     },
     "execution_count": 386,
     "metadata": {},
     "output_type": "execute_result"
    }
   ],
   "source": [
    "[data.select_dtypes('int').columns]"
   ]
  },
  {
   "cell_type": "code",
   "execution_count": 389,
   "metadata": {},
   "outputs": [
    {
     "name": "stdout",
     "output_type": "stream",
     "text": [
      "Descripción de la variable chas: \n",
      " 0    471\n",
      "1     35\n",
      "Name: chas, dtype: int64 \n",
      "\n",
      "Descripción de la variable rad: \n",
      " 24    132\n",
      "5     115\n",
      "4     110\n",
      "3      38\n",
      "6      26\n",
      "2      24\n",
      "8      24\n",
      "1      20\n",
      "7      17\n",
      "Name: rad, dtype: int64 \n",
      "\n",
      "Descripción de la variable tax: \n",
      " 666    132\n",
      "307     40\n",
      "403     30\n",
      "437     15\n",
      "304     14\n",
      "      ... \n",
      "285      1\n",
      "198      1\n",
      "256      1\n",
      "244      1\n",
      "313      1\n",
      "Name: tax, Length: 66, dtype: int64 \n",
      "\n"
     ]
    }
   ],
   "source": [
    "for columna in data.select_dtypes('int').columns:\n",
    "    \n",
    "    print(f'Descripción de la variable {columna}: \\n {data[columna].value_counts()} \\n')\n",
    "    "
   ]
  },
  {
   "cell_type": "code",
   "execution_count": 391,
   "metadata": {},
   "outputs": [
    {
     "data": {
      "text/plain": [
       "<AxesSubplot:xlabel='tax', ylabel='Count'>"
      ]
     },
     "execution_count": 391,
     "metadata": {},
     "output_type": "execute_result"
    },
    {
     "data": {
      "image/png": "[encoded data removed]",
      "text/plain": [
       "<Figure size 432x288 with 1 Axes>"
      ]
     },
     "metadata": {
      "needs_background": "light"
     },
     "output_type": "display_data"
    }
   ],
   "source": [
    "sns.histplot(data = data,x = 'tax')"
   ]
  },
  {
   "cell_type": "code",
   "execution_count": 381,
   "metadata": {},
   "outputs": [
    {
     "data": {
      "text/html": [
       "<div>\n",
       "<style scoped>\n",
       "    .dataframe tbody tr th:only-of-type {\n",
       "        vertical-align: middle;\n",
       "    }\n",
       "\n",
       "    .dataframe tbody tr th {\n",
       "        vertical-align: top;\n",
       "    }\n",
       "\n",
       "    .dataframe thead th {\n",
       "        text-align: right;\n",
       "    }\n",
       "</style>\n",
       "<table border=\"1\" class=\"dataframe\">\n",
       "  <thead>\n",
       "    <tr style=\"text-align: right;\">\n",
       "      <th></th>\n",
       "      <th>count</th>\n",
       "      <th>mean</th>\n",
       "      <th>std</th>\n",
       "      <th>min</th>\n",
       "      <th>25%</th>\n",
       "      <th>50%</th>\n",
       "      <th>75%</th>\n",
       "      <th>max</th>\n",
       "    </tr>\n",
       "  </thead>\n",
       "  <tbody>\n",
       "    <tr>\n",
       "      <th>crim</th>\n",
       "      <td>506.0</td>\n",
       "      <td>3.613524</td>\n",
       "      <td>8.601545</td>\n",
       "      <td>0.00632</td>\n",
       "      <td>0.082045</td>\n",
       "      <td>0.25651</td>\n",
       "      <td>3.677083</td>\n",
       "      <td>88.9762</td>\n",
       "    </tr>\n",
       "    <tr>\n",
       "      <th>zn</th>\n",
       "      <td>506.0</td>\n",
       "      <td>11.363636</td>\n",
       "      <td>23.322453</td>\n",
       "      <td>0.00000</td>\n",
       "      <td>0.000000</td>\n",
       "      <td>0.00000</td>\n",
       "      <td>12.500000</td>\n",
       "      <td>100.0000</td>\n",
       "    </tr>\n",
       "    <tr>\n",
       "      <th>indus</th>\n",
       "      <td>506.0</td>\n",
       "      <td>11.136779</td>\n",
       "      <td>6.860353</td>\n",
       "      <td>0.46000</td>\n",
       "      <td>5.190000</td>\n",
       "      <td>9.69000</td>\n",
       "      <td>18.100000</td>\n",
       "      <td>27.7400</td>\n",
       "    </tr>\n",
       "    <tr>\n",
       "      <th>nox</th>\n",
       "      <td>506.0</td>\n",
       "      <td>0.554695</td>\n",
       "      <td>0.115878</td>\n",
       "      <td>0.38500</td>\n",
       "      <td>0.449000</td>\n",
       "      <td>0.53800</td>\n",
       "      <td>0.624000</td>\n",
       "      <td>0.8710</td>\n",
       "    </tr>\n",
       "    <tr>\n",
       "      <th>rm</th>\n",
       "      <td>506.0</td>\n",
       "      <td>6.284634</td>\n",
       "      <td>0.702617</td>\n",
       "      <td>3.56100</td>\n",
       "      <td>5.885500</td>\n",
       "      <td>6.20850</td>\n",
       "      <td>6.623500</td>\n",
       "      <td>8.7800</td>\n",
       "    </tr>\n",
       "    <tr>\n",
       "      <th>age</th>\n",
       "      <td>506.0</td>\n",
       "      <td>68.574901</td>\n",
       "      <td>28.148861</td>\n",
       "      <td>2.90000</td>\n",
       "      <td>45.025000</td>\n",
       "      <td>77.50000</td>\n",
       "      <td>94.075000</td>\n",
       "      <td>100.0000</td>\n",
       "    </tr>\n",
       "    <tr>\n",
       "      <th>dis</th>\n",
       "      <td>506.0</td>\n",
       "      <td>3.795043</td>\n",
       "      <td>2.105710</td>\n",
       "      <td>1.12960</td>\n",
       "      <td>2.100175</td>\n",
       "      <td>3.20745</td>\n",
       "      <td>5.188425</td>\n",
       "      <td>12.1265</td>\n",
       "    </tr>\n",
       "    <tr>\n",
       "      <th>ptratio</th>\n",
       "      <td>506.0</td>\n",
       "      <td>18.455534</td>\n",
       "      <td>2.164946</td>\n",
       "      <td>12.60000</td>\n",
       "      <td>17.400000</td>\n",
       "      <td>19.05000</td>\n",
       "      <td>20.200000</td>\n",
       "      <td>22.0000</td>\n",
       "    </tr>\n",
       "    <tr>\n",
       "      <th>b</th>\n",
       "      <td>506.0</td>\n",
       "      <td>356.674032</td>\n",
       "      <td>91.294864</td>\n",
       "      <td>0.32000</td>\n",
       "      <td>375.377500</td>\n",
       "      <td>391.44000</td>\n",
       "      <td>396.225000</td>\n",
       "      <td>396.9000</td>\n",
       "    </tr>\n",
       "    <tr>\n",
       "      <th>lstat</th>\n",
       "      <td>506.0</td>\n",
       "      <td>12.653063</td>\n",
       "      <td>7.141062</td>\n",
       "      <td>1.73000</td>\n",
       "      <td>6.950000</td>\n",
       "      <td>11.36000</td>\n",
       "      <td>16.955000</td>\n",
       "      <td>37.9700</td>\n",
       "    </tr>\n",
       "    <tr>\n",
       "      <th>medv</th>\n",
       "      <td>506.0</td>\n",
       "      <td>22.532806</td>\n",
       "      <td>9.197104</td>\n",
       "      <td>5.00000</td>\n",
       "      <td>17.025000</td>\n",
       "      <td>21.20000</td>\n",
       "      <td>25.000000</td>\n",
       "      <td>50.0000</td>\n",
       "    </tr>\n",
       "  </tbody>\n",
       "</table>\n",
       "</div>"
      ],
      "text/plain": [
       "         count        mean        std       min         25%        50%  \\\n",
       "crim     506.0    3.613524   8.601545   0.00632    0.082045    0.25651   \n",
       "zn       506.0   11.363636  23.322453   0.00000    0.000000    0.00000   \n",
       "indus    506.0   11.136779   6.860353   0.46000    5.190000    9.69000   \n",
       "nox      506.0    0.554695   0.115878   0.38500    0.449000    0.53800   \n",
       "rm       506.0    6.284634   0.702617   3.56100    5.885500    6.20850   \n",
       "age      506.0   68.574901  28.148861   2.90000   45.025000   77.50000   \n",
       "dis      506.0    3.795043   2.105710   1.12960    2.100175    3.20745   \n",
       "ptratio  506.0   18.455534   2.164946  12.60000   17.400000   19.05000   \n",
       "b        506.0  356.674032  91.294864   0.32000  375.377500  391.44000   \n",
       "lstat    506.0   12.653063   7.141062   1.73000    6.950000   11.36000   \n",
       "medv     506.0   22.532806   9.197104   5.00000   17.025000   21.20000   \n",
       "\n",
       "                75%       max  \n",
       "crim       3.677083   88.9762  \n",
       "zn        12.500000  100.0000  \n",
       "indus     18.100000   27.7400  \n",
       "nox        0.624000    0.8710  \n",
       "rm         6.623500    8.7800  \n",
       "age       94.075000  100.0000  \n",
       "dis        5.188425   12.1265  \n",
       "ptratio   20.200000   22.0000  \n",
       "b        396.225000  396.9000  \n",
       "lstat     16.955000   37.9700  \n",
       "medv      25.000000   50.0000  "
      ]
     },
     "execution_count": 381,
     "metadata": {},
     "output_type": "execute_result"
    }
   ],
   "source": [
    "data.select_dtypes('float').describe().T"
   ]
  },
  {
   "cell_type": "markdown",
   "metadata": {
    "id": "iAc1qMxVRRAM"
   },
   "source": [
    "## 28 - Cuente el número de valores `'missing'` en cada columna.\n",
    "`pista: .isnull()`\n",
    "\n",
    "`Cambio de dataset - URL: https://raw.githubusercontent.com/selva86/datasets/master/Cars93_miss.csv`"
   ]
  },
  {
   "cell_type": "code",
   "execution_count": 397,
   "metadata": {},
   "outputs": [],
   "source": [
    "data = pd.read_csv('https://raw.githubusercontent.com/selva86/datasets/master/Cars93_miss.csv')"
   ]
  },
  {
   "cell_type": "code",
   "execution_count": 399,
   "metadata": {},
   "outputs": [
    {
     "data": {
      "text/plain": [
       "Luggage.room          19\n",
       "MPG.city               9\n",
       "Fuel.tank.capacity     8\n",
       "DriveTrain             7\n",
       "Horsepower             7\n",
       "Min.Price              7\n",
       "Weight                 7\n",
       "Rev.per.mile           6\n",
       "Width                  6\n",
       "AirBags                6\n",
       "Cylinders              5\n",
       "Turn.circle            5\n",
       "Max.Price              5\n",
       "Man.trans.avail        5\n",
       "Origin                 5\n",
       "Length                 4\n",
       "Rear.seat.room         4\n",
       "Manufacturer           4\n",
       "RPM                    3\n",
       "Type                   3\n",
       "Make                   3\n",
       "Passengers             2\n",
       "EngineSize             2\n",
       "MPG.highway            2\n",
       "Price                  2\n",
       "Wheelbase              1\n",
       "Model                  1\n",
       "dtype: int64"
      ]
     },
     "execution_count": 399,
     "metadata": {},
     "output_type": "execute_result"
    }
   ],
   "source": [
    "data.isnull().sum().sort_values(ascending = False)"
   ]
  },
  {
   "cell_type": "markdown",
   "metadata": {
    "id": "8tB5szVIRR40"
   },
   "source": [
    "## 29 - Reemplazar los valores nulos encontrados en las columnas `'Min.Price'` y `'Max.Price'` por la media de esa columna.\n",
    "`pista:  fillna(... mean())`\n",
    "\n",
    "`URL: https://raw.githubusercontent.com/selva86/datasets/master/Cars93_miss.csv`\n",
    "\n"
   ]
  },
  {
   "cell_type": "code",
   "execution_count": null,
   "metadata": {},
   "outputs": [],
   "source": [
    "for column in ['Min.Price','Max.Price']:\n",
    "\n",
    "    data[col].fillna(data[col].mean())"
   ]
  },
  {
   "cell_type": "code",
   "execution_count": 402,
   "metadata": {},
   "outputs": [
    {
     "data": {
      "text/html": [
       "<div>\n",
       "<style scoped>\n",
       "    .dataframe tbody tr th:only-of-type {\n",
       "        vertical-align: middle;\n",
       "    }\n",
       "\n",
       "    .dataframe tbody tr th {\n",
       "        vertical-align: top;\n",
       "    }\n",
       "\n",
       "    .dataframe thead th {\n",
       "        text-align: right;\n",
       "    }\n",
       "</style>\n",
       "<table border=\"1\" class=\"dataframe\">\n",
       "  <thead>\n",
       "    <tr style=\"text-align: right;\">\n",
       "      <th></th>\n",
       "      <th>Min.Price</th>\n",
       "      <th>Max.Price</th>\n",
       "    </tr>\n",
       "  </thead>\n",
       "  <tbody>\n",
       "    <tr>\n",
       "      <th>0</th>\n",
       "      <td>12.900000</td>\n",
       "      <td>18.800000</td>\n",
       "    </tr>\n",
       "    <tr>\n",
       "      <th>1</th>\n",
       "      <td>29.200000</td>\n",
       "      <td>38.700000</td>\n",
       "    </tr>\n",
       "    <tr>\n",
       "      <th>2</th>\n",
       "      <td>25.900000</td>\n",
       "      <td>32.300000</td>\n",
       "    </tr>\n",
       "    <tr>\n",
       "      <th>3</th>\n",
       "      <td>17.118605</td>\n",
       "      <td>44.600000</td>\n",
       "    </tr>\n",
       "    <tr>\n",
       "      <th>4</th>\n",
       "      <td>17.118605</td>\n",
       "      <td>21.459091</td>\n",
       "    </tr>\n",
       "    <tr>\n",
       "      <th>...</th>\n",
       "      <td>...</td>\n",
       "      <td>...</td>\n",
       "    </tr>\n",
       "    <tr>\n",
       "      <th>88</th>\n",
       "      <td>16.600000</td>\n",
       "      <td>22.700000</td>\n",
       "    </tr>\n",
       "    <tr>\n",
       "      <th>89</th>\n",
       "      <td>17.600000</td>\n",
       "      <td>22.400000</td>\n",
       "    </tr>\n",
       "    <tr>\n",
       "      <th>90</th>\n",
       "      <td>22.900000</td>\n",
       "      <td>23.700000</td>\n",
       "    </tr>\n",
       "    <tr>\n",
       "      <th>91</th>\n",
       "      <td>21.800000</td>\n",
       "      <td>23.500000</td>\n",
       "    </tr>\n",
       "    <tr>\n",
       "      <th>92</th>\n",
       "      <td>24.800000</td>\n",
       "      <td>28.500000</td>\n",
       "    </tr>\n",
       "  </tbody>\n",
       "</table>\n",
       "<p>93 rows × 2 columns</p>\n",
       "</div>"
      ],
      "text/plain": [
       "    Min.Price  Max.Price\n",
       "0   12.900000  18.800000\n",
       "1   29.200000  38.700000\n",
       "2   25.900000  32.300000\n",
       "3   17.118605  44.600000\n",
       "4   17.118605  21.459091\n",
       "..        ...        ...\n",
       "88  16.600000  22.700000\n",
       "89  17.600000  22.400000\n",
       "90  22.900000  23.700000\n",
       "91  21.800000  23.500000\n",
       "92  24.800000  28.500000\n",
       "\n",
       "[93 rows x 2 columns]"
      ]
     },
     "execution_count": 402,
     "metadata": {},
     "output_type": "execute_result"
    }
   ],
   "source": [
    "data[['Min.Price','Max.Price']].apply(lambda x: x.fillna(x.mean()))"
   ]
  },
  {
   "cell_type": "markdown",
   "metadata": {
    "id": "pOZKxqIyRTFM"
   },
   "source": [
    "## 30 - Obten las filas múltiplos de 5 de un fichero CSV.\n",
    "`pista:  iloc`\n",
    "\n",
    "`URL: https://raw.githubusercontent.com/selva86/datasets/master/Cars93_miss.csv`\n"
   ]
  },
  {
   "cell_type": "code",
   "execution_count": 405,
   "metadata": {},
   "outputs": [
    {
     "data": {
      "text/html": [
       "<div>\n",
       "<style scoped>\n",
       "    .dataframe tbody tr th:only-of-type {\n",
       "        vertical-align: middle;\n",
       "    }\n",
       "\n",
       "    .dataframe tbody tr th {\n",
       "        vertical-align: top;\n",
       "    }\n",
       "\n",
       "    .dataframe thead th {\n",
       "        text-align: right;\n",
       "    }\n",
       "</style>\n",
       "<table border=\"1\" class=\"dataframe\">\n",
       "  <thead>\n",
       "    <tr style=\"text-align: right;\">\n",
       "      <th></th>\n",
       "      <th>Manufacturer</th>\n",
       "      <th>Model</th>\n",
       "      <th>Type</th>\n",
       "      <th>Min.Price</th>\n",
       "      <th>Price</th>\n",
       "      <th>Max.Price</th>\n",
       "      <th>MPG.city</th>\n",
       "      <th>MPG.highway</th>\n",
       "      <th>AirBags</th>\n",
       "      <th>DriveTrain</th>\n",
       "      <th>...</th>\n",
       "      <th>Passengers</th>\n",
       "      <th>Length</th>\n",
       "      <th>Wheelbase</th>\n",
       "      <th>Width</th>\n",
       "      <th>Turn.circle</th>\n",
       "      <th>Rear.seat.room</th>\n",
       "      <th>Luggage.room</th>\n",
       "      <th>Weight</th>\n",
       "      <th>Origin</th>\n",
       "      <th>Make</th>\n",
       "    </tr>\n",
       "  </thead>\n",
       "  <tbody>\n",
       "    <tr>\n",
       "      <th>0</th>\n",
       "      <td>Acura</td>\n",
       "      <td>Integra</td>\n",
       "      <td>Small</td>\n",
       "      <td>12.9</td>\n",
       "      <td>15.9</td>\n",
       "      <td>18.8</td>\n",
       "      <td>25.0</td>\n",
       "      <td>31.0</td>\n",
       "      <td>None</td>\n",
       "      <td>Front</td>\n",
       "      <td>...</td>\n",
       "      <td>5.0</td>\n",
       "      <td>177.0</td>\n",
       "      <td>102.0</td>\n",
       "      <td>68.0</td>\n",
       "      <td>37.0</td>\n",
       "      <td>26.5</td>\n",
       "      <td>NaN</td>\n",
       "      <td>2705.0</td>\n",
       "      <td>non-USA</td>\n",
       "      <td>Acura Integra</td>\n",
       "    </tr>\n",
       "    <tr>\n",
       "      <th>5</th>\n",
       "      <td>Buick</td>\n",
       "      <td>Century</td>\n",
       "      <td>Midsize</td>\n",
       "      <td>14.2</td>\n",
       "      <td>15.7</td>\n",
       "      <td>17.3</td>\n",
       "      <td>22.0</td>\n",
       "      <td>31.0</td>\n",
       "      <td>Driver only</td>\n",
       "      <td>NaN</td>\n",
       "      <td>...</td>\n",
       "      <td>6.0</td>\n",
       "      <td>189.0</td>\n",
       "      <td>105.0</td>\n",
       "      <td>69.0</td>\n",
       "      <td>41.0</td>\n",
       "      <td>28.0</td>\n",
       "      <td>16.0</td>\n",
       "      <td>NaN</td>\n",
       "      <td>USA</td>\n",
       "      <td>Buick Century</td>\n",
       "    </tr>\n",
       "    <tr>\n",
       "      <th>10</th>\n",
       "      <td>Cadillac</td>\n",
       "      <td>Seville</td>\n",
       "      <td>Midsize</td>\n",
       "      <td>37.5</td>\n",
       "      <td>40.1</td>\n",
       "      <td>42.7</td>\n",
       "      <td>16.0</td>\n",
       "      <td>25.0</td>\n",
       "      <td>Driver &amp; Passenger</td>\n",
       "      <td>Front</td>\n",
       "      <td>...</td>\n",
       "      <td>5.0</td>\n",
       "      <td>204.0</td>\n",
       "      <td>111.0</td>\n",
       "      <td>74.0</td>\n",
       "      <td>44.0</td>\n",
       "      <td>31.0</td>\n",
       "      <td>NaN</td>\n",
       "      <td>3935.0</td>\n",
       "      <td>USA</td>\n",
       "      <td>Cadillac Seville</td>\n",
       "    </tr>\n",
       "    <tr>\n",
       "      <th>15</th>\n",
       "      <td>Chevrolet</td>\n",
       "      <td>Lumina_APV</td>\n",
       "      <td>Van</td>\n",
       "      <td>14.7</td>\n",
       "      <td>16.3</td>\n",
       "      <td>18.0</td>\n",
       "      <td>18.0</td>\n",
       "      <td>23.0</td>\n",
       "      <td>None</td>\n",
       "      <td>Front</td>\n",
       "      <td>...</td>\n",
       "      <td>7.0</td>\n",
       "      <td>178.0</td>\n",
       "      <td>110.0</td>\n",
       "      <td>74.0</td>\n",
       "      <td>44.0</td>\n",
       "      <td>30.5</td>\n",
       "      <td>NaN</td>\n",
       "      <td>3715.0</td>\n",
       "      <td>USA</td>\n",
       "      <td>Chevrolet Lumina_APV</td>\n",
       "    </tr>\n",
       "    <tr>\n",
       "      <th>20</th>\n",
       "      <td>Chrysler</td>\n",
       "      <td>LeBaron</td>\n",
       "      <td>Compact</td>\n",
       "      <td>14.5</td>\n",
       "      <td>15.8</td>\n",
       "      <td>17.1</td>\n",
       "      <td>23.0</td>\n",
       "      <td>28.0</td>\n",
       "      <td>Driver &amp; Passenger</td>\n",
       "      <td>Front</td>\n",
       "      <td>...</td>\n",
       "      <td>6.0</td>\n",
       "      <td>183.0</td>\n",
       "      <td>104.0</td>\n",
       "      <td>68.0</td>\n",
       "      <td>41.0</td>\n",
       "      <td>30.5</td>\n",
       "      <td>14.0</td>\n",
       "      <td>3085.0</td>\n",
       "      <td>USA</td>\n",
       "      <td>Chrysler LeBaron</td>\n",
       "    </tr>\n",
       "    <tr>\n",
       "      <th>25</th>\n",
       "      <td>Dodge</td>\n",
       "      <td>Caravan</td>\n",
       "      <td>Van</td>\n",
       "      <td>NaN</td>\n",
       "      <td>19.0</td>\n",
       "      <td>24.4</td>\n",
       "      <td>17.0</td>\n",
       "      <td>21.0</td>\n",
       "      <td>Driver only</td>\n",
       "      <td>4WD</td>\n",
       "      <td>...</td>\n",
       "      <td>7.0</td>\n",
       "      <td>175.0</td>\n",
       "      <td>112.0</td>\n",
       "      <td>72.0</td>\n",
       "      <td>42.0</td>\n",
       "      <td>26.5</td>\n",
       "      <td>NaN</td>\n",
       "      <td>3705.0</td>\n",
       "      <td>USA</td>\n",
       "      <td>Dodge Caravan</td>\n",
       "    </tr>\n",
       "    <tr>\n",
       "      <th>30</th>\n",
       "      <td>Ford</td>\n",
       "      <td>Festiva</td>\n",
       "      <td>Small</td>\n",
       "      <td>6.9</td>\n",
       "      <td>7.4</td>\n",
       "      <td>7.9</td>\n",
       "      <td>31.0</td>\n",
       "      <td>33.0</td>\n",
       "      <td>NaN</td>\n",
       "      <td>Front</td>\n",
       "      <td>...</td>\n",
       "      <td>4.0</td>\n",
       "      <td>141.0</td>\n",
       "      <td>90.0</td>\n",
       "      <td>63.0</td>\n",
       "      <td>33.0</td>\n",
       "      <td>26.0</td>\n",
       "      <td>12.0</td>\n",
       "      <td>1845.0</td>\n",
       "      <td>USA</td>\n",
       "      <td>Ford Festiva</td>\n",
       "    </tr>\n",
       "    <tr>\n",
       "      <th>35</th>\n",
       "      <td>Ford</td>\n",
       "      <td>Aerostar</td>\n",
       "      <td>Van</td>\n",
       "      <td>14.5</td>\n",
       "      <td>19.9</td>\n",
       "      <td>25.3</td>\n",
       "      <td>15.0</td>\n",
       "      <td>20.0</td>\n",
       "      <td>Driver only</td>\n",
       "      <td>4WD</td>\n",
       "      <td>...</td>\n",
       "      <td>7.0</td>\n",
       "      <td>176.0</td>\n",
       "      <td>119.0</td>\n",
       "      <td>72.0</td>\n",
       "      <td>45.0</td>\n",
       "      <td>30.0</td>\n",
       "      <td>NaN</td>\n",
       "      <td>3735.0</td>\n",
       "      <td>USA</td>\n",
       "      <td>Ford Aerostar</td>\n",
       "    </tr>\n",
       "    <tr>\n",
       "      <th>40</th>\n",
       "      <td>Honda</td>\n",
       "      <td>Prelude</td>\n",
       "      <td>Sporty</td>\n",
       "      <td>17.0</td>\n",
       "      <td>19.8</td>\n",
       "      <td>22.7</td>\n",
       "      <td>24.0</td>\n",
       "      <td>31.0</td>\n",
       "      <td>Driver &amp; Passenger</td>\n",
       "      <td>Front</td>\n",
       "      <td>...</td>\n",
       "      <td>4.0</td>\n",
       "      <td>175.0</td>\n",
       "      <td>100.0</td>\n",
       "      <td>70.0</td>\n",
       "      <td>39.0</td>\n",
       "      <td>23.5</td>\n",
       "      <td>8.0</td>\n",
       "      <td>2865.0</td>\n",
       "      <td>non-USA</td>\n",
       "      <td>Honda Prelude</td>\n",
       "    </tr>\n",
       "    <tr>\n",
       "      <th>45</th>\n",
       "      <td>Hyundai</td>\n",
       "      <td>Scoupe</td>\n",
       "      <td>NaN</td>\n",
       "      <td>9.1</td>\n",
       "      <td>10.0</td>\n",
       "      <td>11.0</td>\n",
       "      <td>26.0</td>\n",
       "      <td>34.0</td>\n",
       "      <td>None</td>\n",
       "      <td>Front</td>\n",
       "      <td>...</td>\n",
       "      <td>4.0</td>\n",
       "      <td>166.0</td>\n",
       "      <td>94.0</td>\n",
       "      <td>64.0</td>\n",
       "      <td>34.0</td>\n",
       "      <td>23.5</td>\n",
       "      <td>9.0</td>\n",
       "      <td>2285.0</td>\n",
       "      <td>non-USA</td>\n",
       "      <td>NaN</td>\n",
       "    </tr>\n",
       "    <tr>\n",
       "      <th>50</th>\n",
       "      <td>Lincoln</td>\n",
       "      <td>Continental</td>\n",
       "      <td>Midsize</td>\n",
       "      <td>33.3</td>\n",
       "      <td>34.3</td>\n",
       "      <td>35.3</td>\n",
       "      <td>17.0</td>\n",
       "      <td>26.0</td>\n",
       "      <td>Driver &amp; Passenger</td>\n",
       "      <td>NaN</td>\n",
       "      <td>...</td>\n",
       "      <td>6.0</td>\n",
       "      <td>205.0</td>\n",
       "      <td>109.0</td>\n",
       "      <td>73.0</td>\n",
       "      <td>42.0</td>\n",
       "      <td>30.0</td>\n",
       "      <td>19.0</td>\n",
       "      <td>3695.0</td>\n",
       "      <td>USA</td>\n",
       "      <td>Lincoln Continental</td>\n",
       "    </tr>\n",
       "    <tr>\n",
       "      <th>55</th>\n",
       "      <td>Mazda</td>\n",
       "      <td>MPV</td>\n",
       "      <td>Van</td>\n",
       "      <td>16.6</td>\n",
       "      <td>19.1</td>\n",
       "      <td>21.7</td>\n",
       "      <td>18.0</td>\n",
       "      <td>24.0</td>\n",
       "      <td>None</td>\n",
       "      <td>4WD</td>\n",
       "      <td>...</td>\n",
       "      <td>7.0</td>\n",
       "      <td>190.0</td>\n",
       "      <td>110.0</td>\n",
       "      <td>72.0</td>\n",
       "      <td>39.0</td>\n",
       "      <td>27.5</td>\n",
       "      <td>NaN</td>\n",
       "      <td>3735.0</td>\n",
       "      <td>non-USA</td>\n",
       "      <td>Mazda MPV</td>\n",
       "    </tr>\n",
       "    <tr>\n",
       "      <th>60</th>\n",
       "      <td>Mercury</td>\n",
       "      <td>Cougar</td>\n",
       "      <td>Midsize</td>\n",
       "      <td>14.9</td>\n",
       "      <td>14.9</td>\n",
       "      <td>14.9</td>\n",
       "      <td>19.0</td>\n",
       "      <td>26.0</td>\n",
       "      <td>None</td>\n",
       "      <td>Rear</td>\n",
       "      <td>...</td>\n",
       "      <td>5.0</td>\n",
       "      <td>199.0</td>\n",
       "      <td>113.0</td>\n",
       "      <td>73.0</td>\n",
       "      <td>38.0</td>\n",
       "      <td>28.0</td>\n",
       "      <td>15.0</td>\n",
       "      <td>3610.0</td>\n",
       "      <td>USA</td>\n",
       "      <td>Mercury Cougar</td>\n",
       "    </tr>\n",
       "    <tr>\n",
       "      <th>65</th>\n",
       "      <td>Nissan</td>\n",
       "      <td>Quest</td>\n",
       "      <td>Van</td>\n",
       "      <td>16.7</td>\n",
       "      <td>19.1</td>\n",
       "      <td>21.5</td>\n",
       "      <td>17.0</td>\n",
       "      <td>23.0</td>\n",
       "      <td>None</td>\n",
       "      <td>Front</td>\n",
       "      <td>...</td>\n",
       "      <td>7.0</td>\n",
       "      <td>190.0</td>\n",
       "      <td>112.0</td>\n",
       "      <td>74.0</td>\n",
       "      <td>41.0</td>\n",
       "      <td>27.0</td>\n",
       "      <td>NaN</td>\n",
       "      <td>4100.0</td>\n",
       "      <td>non-USA</td>\n",
       "      <td>Nissan Quest</td>\n",
       "    </tr>\n",
       "    <tr>\n",
       "      <th>70</th>\n",
       "      <td>Oldsmobile</td>\n",
       "      <td>Eighty-Eight</td>\n",
       "      <td>Large</td>\n",
       "      <td>19.5</td>\n",
       "      <td>20.7</td>\n",
       "      <td>21.9</td>\n",
       "      <td>NaN</td>\n",
       "      <td>28.0</td>\n",
       "      <td>Driver only</td>\n",
       "      <td>Front</td>\n",
       "      <td>...</td>\n",
       "      <td>6.0</td>\n",
       "      <td>201.0</td>\n",
       "      <td>111.0</td>\n",
       "      <td>74.0</td>\n",
       "      <td>42.0</td>\n",
       "      <td>31.5</td>\n",
       "      <td>17.0</td>\n",
       "      <td>3470.0</td>\n",
       "      <td>USA</td>\n",
       "      <td>Oldsmobile Eighty-Eight</td>\n",
       "    </tr>\n",
       "    <tr>\n",
       "      <th>75</th>\n",
       "      <td>Pontiac</td>\n",
       "      <td>Grand_Prix</td>\n",
       "      <td>Midsize</td>\n",
       "      <td>15.4</td>\n",
       "      <td>18.5</td>\n",
       "      <td>21.6</td>\n",
       "      <td>19.0</td>\n",
       "      <td>27.0</td>\n",
       "      <td>None</td>\n",
       "      <td>Front</td>\n",
       "      <td>...</td>\n",
       "      <td>5.0</td>\n",
       "      <td>195.0</td>\n",
       "      <td>108.0</td>\n",
       "      <td>72.0</td>\n",
       "      <td>41.0</td>\n",
       "      <td>28.5</td>\n",
       "      <td>16.0</td>\n",
       "      <td>3450.0</td>\n",
       "      <td>USA</td>\n",
       "      <td>Pontiac Grand_Prix</td>\n",
       "    </tr>\n",
       "    <tr>\n",
       "      <th>80</th>\n",
       "      <td>Subaru</td>\n",
       "      <td>Loyale</td>\n",
       "      <td>Small</td>\n",
       "      <td>10.5</td>\n",
       "      <td>10.9</td>\n",
       "      <td>11.3</td>\n",
       "      <td>25.0</td>\n",
       "      <td>30.0</td>\n",
       "      <td>None</td>\n",
       "      <td>4WD</td>\n",
       "      <td>...</td>\n",
       "      <td>5.0</td>\n",
       "      <td>175.0</td>\n",
       "      <td>97.0</td>\n",
       "      <td>65.0</td>\n",
       "      <td>35.0</td>\n",
       "      <td>27.5</td>\n",
       "      <td>15.0</td>\n",
       "      <td>2490.0</td>\n",
       "      <td>non-USA</td>\n",
       "      <td>Subaru Loyale</td>\n",
       "    </tr>\n",
       "    <tr>\n",
       "      <th>85</th>\n",
       "      <td>Toyota</td>\n",
       "      <td>Camry</td>\n",
       "      <td>Midsize</td>\n",
       "      <td>15.2</td>\n",
       "      <td>NaN</td>\n",
       "      <td>21.2</td>\n",
       "      <td>22.0</td>\n",
       "      <td>29.0</td>\n",
       "      <td>Driver only</td>\n",
       "      <td>NaN</td>\n",
       "      <td>...</td>\n",
       "      <td>5.0</td>\n",
       "      <td>188.0</td>\n",
       "      <td>103.0</td>\n",
       "      <td>70.0</td>\n",
       "      <td>38.0</td>\n",
       "      <td>28.5</td>\n",
       "      <td>15.0</td>\n",
       "      <td>3030.0</td>\n",
       "      <td>non-USA</td>\n",
       "      <td>Toyota Camry</td>\n",
       "    </tr>\n",
       "    <tr>\n",
       "      <th>90</th>\n",
       "      <td>Volkswagen</td>\n",
       "      <td>Corrado</td>\n",
       "      <td>Sporty</td>\n",
       "      <td>22.9</td>\n",
       "      <td>23.3</td>\n",
       "      <td>23.7</td>\n",
       "      <td>18.0</td>\n",
       "      <td>25.0</td>\n",
       "      <td>None</td>\n",
       "      <td>Front</td>\n",
       "      <td>...</td>\n",
       "      <td>4.0</td>\n",
       "      <td>159.0</td>\n",
       "      <td>97.0</td>\n",
       "      <td>66.0</td>\n",
       "      <td>36.0</td>\n",
       "      <td>26.0</td>\n",
       "      <td>15.0</td>\n",
       "      <td>2810.0</td>\n",
       "      <td>non-USA</td>\n",
       "      <td>Volkswagen Corrado</td>\n",
       "    </tr>\n",
       "  </tbody>\n",
       "</table>\n",
       "<p>19 rows × 27 columns</p>\n",
       "</div>"
      ],
      "text/plain": [
       "   Manufacturer         Model     Type  Min.Price  Price  Max.Price  MPG.city  \\\n",
       "0         Acura       Integra    Small       12.9   15.9       18.8      25.0   \n",
       "5         Buick       Century  Midsize       14.2   15.7       17.3      22.0   \n",
       "10     Cadillac       Seville  Midsize       37.5   40.1       42.7      16.0   \n",
       "15    Chevrolet    Lumina_APV      Van       14.7   16.3       18.0      18.0   \n",
       "20     Chrysler       LeBaron  Compact       14.5   15.8       17.1      23.0   \n",
       "25        Dodge       Caravan      Van        NaN   19.0       24.4      17.0   \n",
       "30         Ford       Festiva    Small        6.9    7.4        7.9      31.0   \n",
       "35         Ford      Aerostar      Van       14.5   19.9       25.3      15.0   \n",
       "40        Honda       Prelude   Sporty       17.0   19.8       22.7      24.0   \n",
       "45      Hyundai        Scoupe      NaN        9.1   10.0       11.0      26.0   \n",
       "50      Lincoln   Continental  Midsize       33.3   34.3       35.3      17.0   \n",
       "55        Mazda           MPV      Van       16.6   19.1       21.7      18.0   \n",
       "60      Mercury        Cougar  Midsize       14.9   14.9       14.9      19.0   \n",
       "65       Nissan         Quest      Van       16.7   19.1       21.5      17.0   \n",
       "70   Oldsmobile  Eighty-Eight    Large       19.5   20.7       21.9       NaN   \n",
       "75      Pontiac    Grand_Prix  Midsize       15.4   18.5       21.6      19.0   \n",
       "80       Subaru        Loyale    Small       10.5   10.9       11.3      25.0   \n",
       "85       Toyota         Camry  Midsize       15.2    NaN       21.2      22.0   \n",
       "90   Volkswagen       Corrado   Sporty       22.9   23.3       23.7      18.0   \n",
       "\n",
       "    MPG.highway             AirBags DriveTrain  ... Passengers  Length  \\\n",
       "0          31.0                None      Front  ...        5.0   177.0   \n",
       "5          31.0         Driver only        NaN  ...        6.0   189.0   \n",
       "10         25.0  Driver & Passenger      Front  ...        5.0   204.0   \n",
       "15         23.0                None      Front  ...        7.0   178.0   \n",
       "20         28.0  Driver & Passenger      Front  ...        6.0   183.0   \n",
       "25         21.0         Driver only        4WD  ...        7.0   175.0   \n",
       "30         33.0                 NaN      Front  ...        4.0   141.0   \n",
       "35         20.0         Driver only        4WD  ...        7.0   176.0   \n",
       "40         31.0  Driver & Passenger      Front  ...        4.0   175.0   \n",
       "45         34.0                None      Front  ...        4.0   166.0   \n",
       "50         26.0  Driver & Passenger        NaN  ...        6.0   205.0   \n",
       "55         24.0                None        4WD  ...        7.0   190.0   \n",
       "60         26.0                None       Rear  ...        5.0   199.0   \n",
       "65         23.0                None      Front  ...        7.0   190.0   \n",
       "70         28.0         Driver only      Front  ...        6.0   201.0   \n",
       "75         27.0                None      Front  ...        5.0   195.0   \n",
       "80         30.0                None        4WD  ...        5.0   175.0   \n",
       "85         29.0         Driver only        NaN  ...        5.0   188.0   \n",
       "90         25.0                None      Front  ...        4.0   159.0   \n",
       "\n",
       "    Wheelbase  Width  Turn.circle Rear.seat.room  Luggage.room  Weight  \\\n",
       "0       102.0   68.0         37.0           26.5           NaN  2705.0   \n",
       "5       105.0   69.0         41.0           28.0          16.0     NaN   \n",
       "10      111.0   74.0         44.0           31.0           NaN  3935.0   \n",
       "15      110.0   74.0         44.0           30.5           NaN  3715.0   \n",
       "20      104.0   68.0         41.0           30.5          14.0  3085.0   \n",
       "25      112.0   72.0         42.0           26.5           NaN  3705.0   \n",
       "30       90.0   63.0         33.0           26.0          12.0  1845.0   \n",
       "35      119.0   72.0         45.0           30.0           NaN  3735.0   \n",
       "40      100.0   70.0         39.0           23.5           8.0  2865.0   \n",
       "45       94.0   64.0         34.0           23.5           9.0  2285.0   \n",
       "50      109.0   73.0         42.0           30.0          19.0  3695.0   \n",
       "55      110.0   72.0         39.0           27.5           NaN  3735.0   \n",
       "60      113.0   73.0         38.0           28.0          15.0  3610.0   \n",
       "65      112.0   74.0         41.0           27.0           NaN  4100.0   \n",
       "70      111.0   74.0         42.0           31.5          17.0  3470.0   \n",
       "75      108.0   72.0         41.0           28.5          16.0  3450.0   \n",
       "80       97.0   65.0         35.0           27.5          15.0  2490.0   \n",
       "85      103.0   70.0         38.0           28.5          15.0  3030.0   \n",
       "90       97.0   66.0         36.0           26.0          15.0  2810.0   \n",
       "\n",
       "     Origin                     Make  \n",
       "0   non-USA            Acura Integra  \n",
       "5       USA            Buick Century  \n",
       "10      USA         Cadillac Seville  \n",
       "15      USA     Chevrolet Lumina_APV  \n",
       "20      USA         Chrysler LeBaron  \n",
       "25      USA            Dodge Caravan  \n",
       "30      USA             Ford Festiva  \n",
       "35      USA            Ford Aerostar  \n",
       "40  non-USA            Honda Prelude  \n",
       "45  non-USA                      NaN  \n",
       "50      USA      Lincoln Continental  \n",
       "55  non-USA                Mazda MPV  \n",
       "60      USA           Mercury Cougar  \n",
       "65  non-USA             Nissan Quest  \n",
       "70      USA  Oldsmobile Eighty-Eight  \n",
       "75      USA       Pontiac Grand_Prix  \n",
       "80  non-USA            Subaru Loyale  \n",
       "85  non-USA             Toyota Camry  \n",
       "90  non-USA       Volkswagen Corrado  \n",
       "\n",
       "[19 rows x 27 columns]"
      ]
     },
     "execution_count": 405,
     "metadata": {},
     "output_type": "execute_result"
    }
   ],
   "source": [
    "data.iloc[::5, :]"
   ]
  },
  {
   "cell_type": "code",
   "execution_count": 403,
   "metadata": {},
   "outputs": [
    {
     "name": "stdout",
     "output_type": "stream",
     "text": [
      "Manufacturer           4\n",
      "Model                  1\n",
      "Type                   3\n",
      "Min.Price              7\n",
      "Price                  2\n",
      "Max.Price              5\n",
      "MPG.city               9\n",
      "MPG.highway            2\n",
      "AirBags                6\n",
      "DriveTrain             7\n",
      "Cylinders              5\n",
      "EngineSize             2\n",
      "Horsepower             7\n",
      "RPM                    3\n",
      "Rev.per.mile           6\n",
      "Man.trans.avail        5\n",
      "Fuel.tank.capacity     8\n",
      "Passengers             2\n",
      "Length                 4\n",
      "Wheelbase              1\n",
      "Width                  6\n",
      "Turn.circle            5\n",
      "Rear.seat.room         4\n",
      "Luggage.room          19\n",
      "Weight                 7\n",
      "Origin                 5\n",
      "Make                   3\n",
      "dtype: int64\n"
     ]
    },
    {
     "data": {
      "text/plain": [
       "<AxesSubplot:>"
      ]
     },
     "execution_count": 403,
     "metadata": {},
     "output_type": "execute_result"
    },
    {
     "data": {
      "image/png": "[encoded data removed]",
      "text/plain": [
       "<Figure size 432x288 with 1 Axes>"
      ]
     },
     "metadata": {
      "needs_background": "light"
     },
     "output_type": "display_data"
    }
   ],
   "source": [
    "import seaborn as sns\n",
    "\n",
    "url =\"https://raw.githubusercontent.com/selva86/datasets/master/Cars93_miss.csv\"\n",
    "docu2=pd.read_csv(url)\n",
    "\n",
    "print(docu2.isnull().sum())\n",
    "sns.heatmap(docu2.isnull(), cbar=False)"
   ]
  }
 ],
 "metadata": {
  "colab": {
   "authorship_tag": "ABX9TyOfA4ZhK9srirb4gFA1H+z8",
   "collapsed_sections": [],
   "name": "Pandas Avanzado.ipynb",
   "provenance": []
  },
  "kernelspec": {
   "display_name": "Python 3 (ipykernel)",
   "language": "python",
   "name": "python3"
  },
  "language_info": {
   "codemirror_mode": {
    "name": "ipython",
    "version": 3
   },
   "file_extension": ".py",
   "mimetype": "text/x-python",
   "name": "python",
   "nbconvert_exporter": "python",
   "pygments_lexer": "ipython3",
   "version": "3.9.7"
  },
  "toc": {
   "base_numbering": 1,
   "nav_menu": {},
   "number_sections": true,
   "sideBar": true,
   "skip_h1_title": false,
   "title_cell": "Table of Contents",
   "title_sidebar": "Contents",
   "toc_cell": false,
   "toc_position": {},
   "toc_section_display": true,
   "toc_window_display": false
  },
  "varInspector": {
   "cols": {
    "lenName": 16,
    "lenType": 16,
    "lenVar": 40
   },
   "kernels_config": {
    "python": {
     "delete_cmd_postfix": "",
     "delete_cmd_prefix": "del ",
     "library": "var_list.py",
     "varRefreshCmd": "print(var_dic_list())"
    },
    "r": {
     "delete_cmd_postfix": ") ",
     "delete_cmd_prefix": "rm(",
     "library": "var_list.r",
     "varRefreshCmd": "cat(var_dic_list()) "
    }
   },
   "types_to_exclude": [
    "module",
    "function",
    "builtin_function_or_method",
    "instance",
    "_Feature"
   ],
   "window_display": false
  }
 },
 "nbformat": 4,
 "nbformat_minor": 1
}
