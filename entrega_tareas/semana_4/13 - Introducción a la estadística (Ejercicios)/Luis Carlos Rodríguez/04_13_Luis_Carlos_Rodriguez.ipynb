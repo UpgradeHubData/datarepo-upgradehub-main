{
  "nbformat": 4,
  "nbformat_minor": 0,
  "metadata": {
    "colab": {
      "name": "13 - Introducción a la estadística.ipynb",
      "provenance": [],
      "collapsed_sections": []
    },
    "kernelspec": {
      "name": "python3",
      "display_name": "Python 3"
    },
    "language_info": {
      "name": "python"
    }
  },
  "cells": [
    {
      "cell_type": "markdown",
      "source": [
        "# 13 - Introducción a la estadística aplicada a la ciencia de datos\n",
        "\n",
        "La estadística es la disciplina de las matemáticas que estudia la variabilidad, colección, organización, análisis e interpretación de los datos, así como el proceso aleatorio que los genera siguiendo las leyes de la probabilidad.\n",
        "\n",
        "Dentro de su amplitud, podemos distinguir tres grandes áreas:\n",
        "\n",
        "* Estadística descriptiva: Estudia las propiedades y características de diversas *muestras* poblacionales.\n",
        "* Inferencia estadística: Trata de modelar el comportamiento de la población a partir de un análisis de muestras y ciertas hipótesis probabilísticas sobre la población.\n",
        "* Teoría de probabilidades: Marco teórico que permite desarrollar una serie de técnicas y procedimientos válidos para ambas.\n",
        "\n",
        "Llegados a este punto, es natural cuestionarse las fronteras entre la estadística y el *machine learning*. Fundamentalmente, la estadística se centra en el problema de la inferencia, que incluye el modelado de relaciones entre variables y estudio de significatividad estadística de parámetros, como *AB-testing*. Por otra parte, el aprendizaje automático se enfoca en realizar estimaciones certeras sin realizar un estudio *a priori* de las funcionalidades de los parámetros.\n",
        "\n",
        "En este *notebook*, haremos un breve recorrido por algunas de las nociones elementales que necesitamos conocer para afrontar convenientemente cualquier disciplina del aprendizaje automático."
      ],
      "metadata": {
        "id": "rWbuYj9XCUgj"
      }
    },
    {
      "cell_type": "markdown",
      "source": [
        "## 13.1 - Nociones de probabilidad\n",
        "\n",
        "La teoría de probabilidad (o más generalmente la teoría de la medida) es una amplia y rica rama de las matemáticas que, entre otras cuestiones, estudia las *funciones de conjunto* (también conocidas como variables aleatorias), que son las que nos permiten describir y modelar fenómenos naturales para analizar su comportamiento. En nuestro caso, nos limitaremos a revisitar algunos conceptos ampliamente conocidos para que puedan ser empleados a lo largo del curso."
      ],
      "metadata": {
        "id": "iF2EaObLAblZ"
      }
    },
    {
      "cell_type": "markdown",
      "source": [
        "### Tipos de variables\n",
        "\n",
        "En este caso, podemos hacer dos distinciones:\n",
        "* Variables discretas: Son aquellas cuyos valores están totalmente inconexos unos de otros (no confundir con que sea finito). Ejemplos de estas variables pueden ser las distribuciones binomiales, exponencial o de Poisson.\n",
        "* Variables continuas: Son aquellas que, por contra, pueden tomar valores de tal forma que, dados dos cualesquiera de ellos, exista uno en medio. El ejemplo por excelencia de esta categoría es la distribución normal, que toma valores sobre los números reales."
      ],
      "metadata": {
        "id": "cGkUIoOZB3uN"
      }
    },
    {
      "cell_type": "markdown",
      "source": [
        "### Funciones de masa y densidad\n",
        "\n",
        "Entre las múltiples formas de poder representar las variables anteriores, la más habitual suele ser proporcionar la **función de densidad**, que en el caso discreto se conoce como función de masa. Éstas son unas funciones que nos permiten obtener probabilidades para las variables en cuestión, bien integrando (caso continuo) o sumando (caso discreto). Analicemos algún ejemplo:\n",
        "\n",
        "* Distribuión de Bernoulli: Consideremos el evento asociado al lanzamiento de una moneda. En él, tenemos dos eventos posibles, cara y cruz. Si la moneda está equilibrada, es sencillo ver que la probabilidad asociada al conjunto de eventos es:\n",
        "\n",
        "$$P[X=\\text{cara}]=\\frac{1}{2},\\quad P[X=\\text{cruz}]=\\frac{1}{2}$$\n",
        "\n",
        "  Veamos ahora cómo modelar el lanzamiento de una simple moneda:"
      ],
      "metadata": {
        "id": "FObZ6byVC4-h"
      }
    },
    {
      "cell_type": "code",
      "source": [
        "# Librerías\n",
        "import numpy as np\n",
        "import seaborn as sns\n",
        "# Generamos una distribución Bernoulli\n",
        "n=1 # Binomial con n=1 es Bernoulli\n",
        "prob=.5 # Moneda balanceada\n",
        "# Escribimos la función de probabilidad asociada al evento\n",
        "# probs = lambda S: .5\n",
        "# Analizamos qué ocurre cuando iteramos el experimento\n",
        "num_reps=100\n",
        "# Generamos lanzamientos aleatorios y ensamblamos sus probabilidades\n",
        "var = [np.random.binomial(n,prob) for _ in range(num_reps)]\n",
        "# print(var)\n",
        "repeticiones = [var.count(i) for i in set(var)]\n",
        "print(repeticiones)\n",
        "var = list(set(var))\n",
        "sns.barplot(var, repeticiones)\n",
        "# experiments = [probs(s) for s in var]\n",
        "# sns.barplot(x=var, y=experiments)\n"
      ],
      "metadata": {
        "colab": {
          "base_uri": "https://localhost:8080/",
          "height": 354
        },
        "id": "D1ecbE3zEeIX",
        "outputId": "3acc427f-e3fe-45d8-ecde-e016b3a09e6a"
      },
      "execution_count": null,
      "outputs": [
        {
          "output_type": "stream",
          "name": "stdout",
          "text": [
            "[51, 49]\n"
          ]
        },
        {
          "output_type": "stream",
          "name": "stderr",
          "text": [
            "/usr/local/lib/python3.7/dist-packages/seaborn/_decorators.py:43: FutureWarning: Pass the following variables as keyword args: x, y. From version 0.12, the only valid positional argument will be `data`, and passing other arguments without an explicit keyword will result in an error or misinterpretation.\n",
            "  FutureWarning\n"
          ]
        },
        {
          "output_type": "execute_result",
          "data": {
            "text/plain": [
              "<matplotlib.axes._subplots.AxesSubplot at 0x7f82b90e0ad0>"
            ]
          },
          "metadata": {},
          "execution_count": 57
        },
        {
          "output_type": "display_data",
          "data": {
            "text/plain": [
              "<Figure size 432x288 with 1 Axes>"
            ],
            "image/png": "[encoded data removed]"
          },
          "metadata": {
            "needs_background": "light"
          }
        }
      ]
    },
    {
      "cell_type": "markdown",
      "source": [
        "* Distribución binomial: Es una distribución de probabilidad discreta que cuenta el número de éxitos en una secuencia de $n$ ensayos de Bernoulli independientes entre sí con una probabilidad fija $p$ de ocurrencia de éxito entre los ensayos. La función de masa se puede obtener como sigue\n",
        "\n",
        "$$P[X=k]=\\left(\\begin{array}{c}n\\\\k\\end{array}\\right)p^k\\cdot (1-p)^{n-k},\\quad 0\\leq k\\leq n.$$\n",
        "\n",
        "> Ejercicio: ¿Sabrías comprobar que la suma de estas probabilidades es, en efecto, uno? Es decir, la igualdad:\n",
        "$$ \\sum_{k=0}^n P[X=k]=1 $$\n",
        "\n",
        "Veamos ahora cómo modelizar el evento asociado al lanzamiento independiente de dos dados, estudiando la probabilidad de que el valor $m$ (valor entre uno y seis) del dado salga $k$ veces en $n$ lanzamientos:"
      ],
      "metadata": {
        "id": "2a8zGgRTFWf0"
      }
    },
    {
      "cell_type": "code",
      "source": [
        "# Requerimientos\n",
        "import math\n",
        "# Escribimos la función de probabilidad asociada al evento suma de los dados\n",
        "prob = lambda n,k,p: (math.factorial(n)/(math.factorial(n-k)*math.factorial(k)))*np.power(p,k)*np.power(1-p,n-k)\n",
        "# Como cada suceso es equiprobable, la probabilidad será siempre 1/6\n",
        "p = 1/60\n",
        "# Introducimos el número de lanzamientos\n",
        "n = 1000\n",
        "# Generamos dos números aleatorios equiprobables entre 1 y 6 (dist. uniforme)\n",
        "mass = [prob(n,k,p) for k in np.arange(n+1)]\n",
        "sns.barplot(x=np.arange(n+1), y=mass)"
      ],
      "metadata": {
        "colab": {
          "base_uri": "https://localhost:8080/",
          "height": 282
        },
        "id": "lwphXkHmSWep",
        "outputId": "dd448d18-be22-44d3-aaea-9d2ee7c3e6a7"
      },
      "execution_count": null,
      "outputs": [
        {
          "output_type": "execute_result",
          "data": {
            "text/plain": [
              "<matplotlib.axes._subplots.AxesSubplot at 0x7f82bdff5ad0>"
            ]
          },
          "metadata": {},
          "execution_count": 34
        },
        {
          "output_type": "display_data",
          "data": {
            "text/plain": [
              "<Figure size 432x288 with 1 Axes>"
            ],
            "image/png": "[encoded data removed]"
          },
          "metadata": {
            "needs_background": "light"
          }
        }
      ]
    },
    {
      "cell_type": "markdown",
      "source": [
        "* Distribución de Poisson: Es una distribución de probabilidad discreta que expresa, a partir de una frecuencia de ocurrencia media, la probabilidad de que ocurra un determinado número de eventos durante cierto período de tiempo. Concretamente, se especializa en la probabilidad de ocurrencia de sucesos con probabilidades muy pequeñas, o sucesos *raros*. La función de masa se puede obtener como sigue a partir de su parámetro $\\lambda$:\n",
        "\n",
        "$$P[X=k]=\\frac{e^{-\\lambda}\\lambda^{k}}{k!} ,\\quad k\\geq 0.$$\n",
        "\n",
        "> Ejemplo: Si el $2\\%$ de los libros encuadernados en cierto taller tienen encuadernación defectuosa, para obtener la probabilidad de que $5$ de $400$ libros encuadernados en este taller tengan encuadernaciones defectuosas usamos la distribución de Poisson. Se define $X$ como el número de libros que tengan encuadernación defectuosa entonces $k=5$ y $\\lambda$  (el valor esperado de libros defectuosos) es el $2\\%$ de $400$, es decir, $8$. Por lo tanto, la probabilidad buscada es:\n",
        "$$ P[X=5]\\approx 0.092 $$\n",
        "\n",
        "Veamos ahora cómo modelizar esta distribución:"
      ],
      "metadata": {
        "id": "CuNOdN-AMAAQ"
      }
    },
    {
      "cell_type": "code",
      "source": [
        "# Escribimos la función de probabilidad asociada al evento suma de los dados\n",
        "prob = lambda lam, k: (np.exp(-lam)*np.power(lam,k))/(math.factorial(k))\n",
        "# Como hemos visto, lambda es 8\n",
        "lam = 8\n",
        "# Generamos todos los valores de k\n",
        "mass = [prob(lam, k) for k in np.arange(30)]\n",
        "sns.barplot(x=np.arange(30), y=mass)\n",
        "print(prob(lam,10))"
      ],
      "metadata": {
        "colab": {
          "base_uri": "https://localhost:8080/",
          "height": 282
        },
        "id": "pD91-g7iLMp3",
        "outputId": "f012e112-7933-4b3b-a38a-1e72d25bbdf8"
      },
      "execution_count": null,
      "outputs": [
        {
          "output_type": "stream",
          "name": "stdout",
          "text": [
            "0.09926153383153559\n"
          ]
        },
        {
          "output_type": "display_data",
          "data": {
            "text/plain": [
              "<Figure size 432x288 with 1 Axes>"
            ],
            "image/png": "[encoded data removed]"
          },
          "metadata": {
            "needs_background": "light"
          }
        }
      ]
    },
    {
      "cell_type": "markdown",
      "source": [
        "* Distribución normal: Es una de las distribuciones de probabilidad de variable continua que con más frecuencia aparece en estadística y en la teoría de probabilidades. La importancia de esta distribución radica en que permite modelar numerosos fenómenos naturales, sociales y psicológicos. La función de masa se puede obtener como sigue a partir de sus parámetro $\\mu$ (que se corresponde con lo que veremos que es la media) y $\\sigma$ (que se corresponde con la desviación típica):\n",
        "\n",
        "$$\\xi_{(\\mu,\\sigma)}(x)=\\frac{1}{\\sigma\\sqrt{2\\pi}}\\exp{-\\frac{(x-\\mu)^2}{2\\sigma^2}}$$\n",
        "\n",
        "> Ejemplo: Calcule la probabilidad del intervalo $[0,0.25]$ sabiendo que el fenómeno subyacente sigue una distribución normal de media $\\mu=0.25$ y varianza $\\sigma^2=1$."
      ],
      "metadata": {
        "id": "URbVkeE2QAfd"
      }
    },
    {
      "cell_type": "code",
      "source": [
        "# Importamos el módulo necesario para aproximación integral\n",
        "from scipy.integrate import quad\n",
        "# Escribimos la función de densidad de la distribución como lambda\n",
        "normal_pdf = lambda x,mu,sigma: np.exp(-((x-mu)**2)/(2*sigma**2))/(sigma*np.sqrt(2*math.pi))\n",
        "# Parámetros\n",
        "mu = 0.25\n",
        "sigma = 1\n",
        "lower_bound = 0\n",
        "upper_bound = 0.25\n",
        "# Integramos\n",
        "quad(normal_pdf, lower_bound, upper_bound, args=(mu, sigma))[0]"
      ],
      "metadata": {
        "colab": {
          "base_uri": "https://localhost:8080/"
        },
        "id": "UFm6_XlYhBBK",
        "outputId": "8c849248-8948-41b3-c4eb-a6ab2583d266"
      },
      "execution_count": null,
      "outputs": [
        {
          "output_type": "execute_result",
          "data": {
            "text/plain": [
              "0.09870632568292374"
            ]
          },
          "metadata": {},
          "execution_count": 40
        }
      ]
    },
    {
      "cell_type": "markdown",
      "source": [
        "### Teorema de Bayes\n",
        "\n",
        "Una de las herramientas más poderosas desde el punto de vista del _machine learning_ es el teorema de Bayes, ya que se ajusta perfectamente a su naturaleza por permitirnos hacer cálculos de probabilidades sobre eventos condicionados sin conocer a priori la distribución conjunta de dos eventos. Introducimos ahora algunos preliminares:\n",
        "\n",
        "* Probabilidad conjunta: Dados dos sucesos $A$ y $B$, la probabilidad conjunta es una distribución $P$ que modela el resultado de cualquier posible valor de cada uno de estos eventos. Sobre el ejemplo del lanzamiento de dos dados, la probabilidad conjunta sería tomar de forma independiente el lanzamiento de los mismos.\n",
        "* Probabilidad condicionada: Dados dos sucesos $A$ y $B$, la probabilidad condicionada del suceso $A$ sobre el suceso $B$ es la distribución de probabilidad asociada a $A$ cuando $B$ es conocido. Tomando como referencia el ejemplo de los dados, podríamos considerar la distribución de probabilidad asociada a la suma de los dos dados, sabiendo que el primer dado ha sido un $3$.\n",
        "\n",
        "El teorema de Bayes afirma que:\n",
        "\n",
        "$$P(A|B)=\\frac{P(B|A)\\cdot P(A)}{P(B)}$$\n",
        "\n",
        "donde:\n",
        "* $P(A|B)$ es la probabilidad condicionada de que ocurra $A$ conociendo $B$, denominada como probabilidad **a posteriori** de $A$ dado $B$.\n",
        "* $P(B|A)$ es interpretada como la **probabilidad** de $A$ dado un cierto $B$.\n",
        "* $P(A)$ y $P(B)$ son las probabilidades de observar $A$ y $B$ sin ningún condicionante, conocidas como **probabilidades marginales**.\n",
        "\n",
        "Es muy habitual trabajar para el cálculo de estas probabilidades con tablas de frecuencias.\n",
        "\n",
        "> Ejemplo: Tomemos el popular dataset del repositorio UCI [*adult*](https://archive.ics.uci.edu/ml/machine-learning-databases/adult). ¿Cuál es la probabilidad de que, sabiendo que una persona está divorciada, tenga un doctorado?\n",
        "\n",
        "Vayamos paso por paso calculando lo que necesitamos: Sea primero $A$ el evento asociado al nivel de estudios de una persona, y $B$ el evento asociado a su estado civil. Para hacer la lectura de los datos, podemos usar el siguiente *snippet* de código:\n",
        "\n",
        "```python\n",
        "# Dependencias\n",
        "import os\n",
        "import re\n",
        "import pandas as pd\n",
        "# Descargamos el fichero que contiene los datos a nuestro directorio activo\n",
        "!wget https://archive.ics.uci.edu/ml/machine-learning-databases/adult/adult.data\n",
        "# Descargamos la metadata asociada al conjunto de datos\n",
        "!wget https://archive.ics.uci.edu/ml/machine-learning-databases/adult/adult.names\n",
        "# Leemos datos\n",
        "with open(os.path.join(os.getcwd(),'adult.data'),'r') as f:\n",
        "    data = f.read().splitlines() # Dividimos el texto por saltos de línea\n",
        "    data = [elem.split(', ') for elem in data] # Dividimos cada línea por las comas y removemos líneas vacías\n",
        "# Leemos metadata\n",
        "with open(os.path.join(os.getcwd(),'adult.names'),'r') as f:\n",
        "    metadata = f.read().splitlines()\n",
        "# Regex\n",
        "regex_fn = lambda text: re.findall('^[a-zA-Z-]+:{1}', text)\n",
        "reg_text_fn = lambda text : re.findall('[a-zA-Z- ]+', text)\n",
        "metadata_list = [regex_fn(elem)[0] for elem in metadata if regex_fn(elem)]\n",
        "col_names = [reg_text_fn(elem)[0] for elem in metadata_list if reg_text_fn(elem)] + ['label']\n",
        "# Construimos el objeto pd.DataFrame\n",
        "df = pd.DataFrame(data=data, columns=col_names)\n",
        "# Tabla de frecuencias\n",
        "freq_table = pd.crosstab(index=df['marital-status'], columns=df['education'])\n",
        "```\n",
        "\n",
        "\n",
        "Bajo estas condiciones, nos están preguntando por $P(A|B)$, que como sabemos depende de tres cantidades:\n",
        "\n",
        "* $P(A)$: Para obtener la probabilidad marginal de encontrar a una persona con doctorado, debemos ignorar los estados civiles en la tabla de frecuencias, y para ello lo haremos como sigue:"
      ],
      "metadata": {
        "id": "R-hOeGy-sSs8"
      }
    },
    {
      "cell_type": "code",
      "source": [
        "# Dependencias\n",
        "import os\n",
        "import re\n",
        "import pandas as pd\n",
        "# Descargamos el fichero que contiene los datos a nuestro directorio activo\n",
        "!wget https://archive.ics.uci.edu/ml/machine-learning-databases/adult/adult.data\n",
        "# Descargamos la metadata asociada al conjunto de datos\n",
        "!wget https://archive.ics.uci.edu/ml/machine-learning-databases/adult/adult.names\n",
        "# Leemos datos\n",
        "with open(os.path.join(os.getcwd(),'adult.data'),'r') as f:\n",
        "    data = f.read().splitlines() # Dividimos el texto por saltos de línea\n",
        "    data = [elem.split(', ') for elem in data] # Dividimos cada línea por las comas y removemos líneas vacías\n",
        "# Leemos metadata\n",
        "with open(os.path.join(os.getcwd(),'adult.names'),'r') as f:\n",
        "    metadata = f.read().splitlines()\n",
        "# Regex\n",
        "regex_fn = lambda text: re.findall('^[a-zA-Z-]+:{1}', text)\n",
        "reg_text_fn = lambda text : re.findall('[a-zA-Z- ]+', text)\n",
        "metadata_list = [regex_fn(elem)[0] for elem in metadata if regex_fn(elem)]\n",
        "col_names = [reg_text_fn(elem)[0] for elem in metadata_list if reg_text_fn(elem)] + ['label']\n",
        "# Construimos el objeto pd.DataFrame\n",
        "df = pd.DataFrame(data=data, columns=col_names)\n",
        "# Tabla de frecuencias\n",
        "freq_table = pd.crosstab(index=df['marital-status'], columns=df['education'])"
      ],
      "metadata": {
        "colab": {
          "base_uri": "https://localhost:8080/"
        },
        "id": "1cBbkY7G2-IK",
        "outputId": "3b4aa980-e726-4470-9369-6d099cef22b7"
      },
      "execution_count": null,
      "outputs": [
        {
          "output_type": "stream",
          "name": "stdout",
          "text": [
            "--2022-06-22 10:01:17--  https://archive.ics.uci.edu/ml/machine-learning-databases/adult/adult.data\n",
            "Resolving archive.ics.uci.edu (archive.ics.uci.edu)... 128.195.10.252\n",
            "Connecting to archive.ics.uci.edu (archive.ics.uci.edu)|128.195.10.252|:443... connected.\n",
            "HTTP request sent, awaiting response... 200 OK\n",
            "Length: 3974305 (3.8M) [application/x-httpd-php]\n",
            "Saving to: ‘adult.data’\n",
            "\n",
            "adult.data          100%[===================>]   3.79M  7.38MB/s    in 0.5s    \n",
            "\n",
            "2022-06-22 10:01:18 (7.38 MB/s) - ‘adult.data’ saved [3974305/3974305]\n",
            "\n",
            "--2022-06-22 10:01:18--  https://archive.ics.uci.edu/ml/machine-learning-databases/adult/adult.names\n",
            "Resolving archive.ics.uci.edu (archive.ics.uci.edu)... 128.195.10.252\n",
            "Connecting to archive.ics.uci.edu (archive.ics.uci.edu)|128.195.10.252|:443... connected.\n",
            "HTTP request sent, awaiting response... 200 OK\n",
            "Length: 5229 (5.1K) [application/x-httpd-php]\n",
            "Saving to: ‘adult.names’\n",
            "\n",
            "adult.names         100%[===================>]   5.11K  --.-KB/s    in 0s      \n",
            "\n",
            "2022-06-22 10:01:18 (88.2 MB/s) - ‘adult.names’ saved [5229/5229]\n",
            "\n"
          ]
        }
      ]
    },
    {
      "cell_type": "code",
      "source": [
        "freq_table.loc[:,'Doctorate']"
      ],
      "metadata": {
        "colab": {
          "base_uri": "https://localhost:8080/"
        },
        "id": "ygWqwnSx1eoG",
        "outputId": "b1de9c47-a271-462d-bafc-7983ef8fccfa"
      },
      "execution_count": null,
      "outputs": [
        {
          "output_type": "execute_result",
          "data": {
            "text/plain": [
              "marital-status\n",
              "Divorced                  33\n",
              "Married-AF-spouse          0\n",
              "Married-civ-spouse       286\n",
              "Married-spouse-absent      7\n",
              "Never-married             73\n",
              "Separated                  7\n",
              "Widowed                    7\n",
              "Name: Doctorate, dtype: int64"
            ]
          },
          "metadata": {},
          "execution_count": 42
        }
      ]
    },
    {
      "cell_type": "code",
      "source": [
        "marginal_A = df.groupby('education').count()['label']\n",
        "p_A = marginal_A.loc['Doctorate']/np.sum(marginal_A.values)\n",
        "print(p_A)"
      ],
      "metadata": {
        "id": "s1Fb5hS0x44i",
        "colab": {
          "base_uri": "https://localhost:8080/"
        },
        "outputId": "6ce4557d-ceba-46f4-d009-7135eef51bfe"
      },
      "execution_count": null,
      "outputs": [
        {
          "output_type": "stream",
          "name": "stdout",
          "text": [
            "0.012683885630048217\n"
          ]
        }
      ]
    },
    {
      "cell_type": "markdown",
      "source": [
        "* $P(B)$: Para obtener la probabilidad marginal de encontrar a una persona divorciada, debemos ignorar el nivel educativo en la tabla de frecuencias, y para ello lo haremos como sigue:"
      ],
      "metadata": {
        "id": "Y61-vRvT1Mah"
      }
    },
    {
      "cell_type": "code",
      "source": [
        "marginal_B = df.groupby('marital-status').count()['label']\n",
        "p_B = marginal_B.loc['Divorced']/np.sum(marginal_A.values)\n",
        "print(p_B)"
      ],
      "metadata": {
        "id": "rxgOBI6N1RI6",
        "colab": {
          "base_uri": "https://localhost:8080/"
        },
        "outputId": "81ac3cca-f7b7-4c31-f865-97731124e09b"
      },
      "execution_count": null,
      "outputs": [
        {
          "output_type": "stream",
          "name": "stdout",
          "text": [
            "0.1364515831823347\n"
          ]
        }
      ]
    },
    {
      "cell_type": "markdown",
      "source": [
        "* $P(B|A)$: Para obtener la probabilidad condicional de encontrar a una persona divorciada entre aquellas que tienen un doctorado, hacemos:"
      ],
      "metadata": {
        "id": "yByJe4qG1Zsv"
      }
    },
    {
      "cell_type": "code",
      "source": [
        "cond_B_A = freq_table.loc[:,'Doctorate']\n",
        "p_B_A = cond_B_A['Divorced']/np.sum(cond_B_A.values)"
      ],
      "metadata": {
        "id": "qi1Adt7p1mWc"
      },
      "execution_count": null,
      "outputs": []
    },
    {
      "cell_type": "markdown",
      "source": [
        "Ya estamos listos para obtener la probabilidad deseada:"
      ],
      "metadata": {
        "id": "eQS0RO9H16mv"
      }
    },
    {
      "cell_type": "code",
      "source": [
        "prob_A_B = (p_B_A*p_A)/p_B\n",
        "print(prob_A_B)"
      ],
      "metadata": {
        "id": "VziPN_Yh1zVo",
        "colab": {
          "base_uri": "https://localhost:8080/"
        },
        "outputId": "53b6233e-e8b2-465a-ac00-28d3bb583b5c"
      },
      "execution_count": null,
      "outputs": [
        {
          "output_type": "stream",
          "name": "stdout",
          "text": [
            "0.007427413909520595\n"
          ]
        }
      ]
    },
    {
      "cell_type": "markdown",
      "source": [
        "### Máxima verosimilitud\n",
        "\n",
        "Una de las formas más habituales de pensar en _machine learning_ es la de la máxima verosimilitud. Este concepto aparece de forma natural en el teorema de Bayes, y lo usaremos para hacer estimaciones probabilísticas de parámetros desconocidos sobre muestras aleatorias.\n",
        "\n",
        "Supongamos que tenemos un modelo con parámetros $\\pmb{\\theta}$ y una colección de datos $X$. Puesto que los datos son provistos de antemano, si queremos encontrar los valores esperados de nuestros parámetros dados esos datos, nos piden simplemente encontrar\n",
        "\n",
        "$$\\text{argmax}\\,P(\\pmb{\\theta}|X)$$\n",
        "\n",
        "Por la regla de Bayes, esto se traduce a\n",
        "\n",
        "$$\\text{argmax}\\,\\frac{P(X|\\pmb{\\theta})\\cdot P(\\pmb{\\theta})}{P(X)}$$\n",
        "\n",
        "Puesto que la probabilidad $P(X)$ de generar unos determinados datos $X$ no depende de los parámetros $\\pmb{\\theta}$, y además no tenemos asunciones *a priori* sobre los parámetros $\\pmb{\\theta}$, la probabilidad $P(\\pmb{\\theta})$ tampoco depende de $\\pmb{\\theta}$, la expresión anterior se puede reducir a\n",
        "\n",
        "$$\\hat{\\pmb{\\theta}}=\\text{argmax}\\,P(X|\\pmb{\\theta})$$\n",
        "\n",
        "Por convención, a la probabilidad anterior se la conoce como verosimilitud (*likelihood*). Como veremos a continuación, una práctica muy habitual al trabajar con éstas probabilidades en experimentos repetidos es que, al ser experimentos independientes, la probabilidad conjunta se pueda expresar como producto de las probabilidades de cada experimento.\n",
        "\n",
        "> Ejemplo: Supongamos que tenemos un experimento en el cual $0<\\theta<1$ representa la probabilidad de que, dado un determinado lanzamiento de una moneda, resulte cara (y por tanto $1-\\theta$ es la probabilidad de obtener cruz). Supongamos que $X$ es un conjunto de datos donde se registran $n$ lanzamientos independientes de una moneda, donde $n_H>0$ han sido cara y $n_T>0$ han sido cruz (evidentemente $n=n_H+n_T$). Puesto que cada lanzamiento de moneda es independiente, la probabilidad conjunta la podemos expresar como:\n",
        "\n",
        "$$P(X|\\theta)=\\prod_{k=1}^nP(X_i|\\theta)=\\theta^{n_H}\\cdot (1-\\theta)^{n_T}$$\n",
        "\n",
        "> Para encontrar el máximo de esta función con respecto de $\\hat{\\theta}$, un *truco* habitual es usar logaritmos antes de derivar e igualar a cero, ya que ésta es una función estrictamente creciente (y por tanto respeta los máximos y mínimos de una función) y descompone productos en sumas, que son más fáciles de derivar:\n",
        "\n",
        "$$\\frac{\\partial}{\\partial \\theta}\\log{P(X|\\theta)}=\\frac{\\partial}{\\partial \\theta}\\left[n_h\\cdot\\log{\\theta}+n_T\\cdot\\log{(1-\\theta)}\\right]=\\frac{n_H\\cdot(1-\\theta)-n_T\\cdot\\theta}{\\theta\\cdot(1-\\theta)}$$\n",
        "\n",
        "> Para que esta última expresión sea igual a cero, es preciso que el numerador sea cero, de donde se obtendría que\n",
        "\n",
        "$$\\hat{\\theta}=\\frac{n_H}{n_H+n_T}$$\n",
        "\n",
        "> Nótese que, por tanto, el resultado más verosímil para el siguiente lanzamiento es simplemente la regla de Laplace, casos observados entre casos posibles. ¿Qué habría pasado a $\\hat{\\theta}$ si $\\theta$ representa la probabilidad de obtener cruz, en lugar de cara?\n",
        "\n",
        "Todos estos cálculos previos a la resolución de un problema predictivo son cruciales para poder sacar el máximo partido a los modelos de *machine learning* y *deep learning* y acelerar al convergencia de los mismos. Veamos cómo modelizar el ejemplo anterior:"
      ],
      "metadata": {
        "id": "BcTN02zoaaRJ"
      }
    },
    {
      "cell_type": "code",
      "source": [
        "# Introducimos el número de lanzamientos\n",
        "n = int(input(\"Introduzca el número de repeticiones del lanzamiento de la moneda: \"))\n",
        "# Simulamos una serie de lanzamientos de monedas\n",
        "coin_flips = np.random.randint(0,2,n)\n",
        "# Asumimos que 0 es cara y 1 es cruz\n",
        "heads_flips = len(coin_flips[coin_flips==0])\n",
        "tails_flips = len(coin_flips[coin_flips==1])\n",
        "# Definimos el EMV\n",
        "hat_theta = lambda heads, tails: heads/(heads+tails)\n",
        "# EMV\n",
        "print(f\"El estimador máximo verosímil de la probabilidad de lanzar cara es:  {hat_theta(heads_flips, tails_flips)}\")"
      ],
      "metadata": {
        "colab": {
          "base_uri": "https://localhost:8080/"
        },
        "id": "dWRKeIQQyFw0",
        "outputId": "8fd5af24-3770-4f04-8ebc-2b28cdc8ea30"
      },
      "execution_count": null,
      "outputs": [
        {
          "output_type": "stream",
          "name": "stdout",
          "text": [
            "Introduzca el número de repeticiones del lanzamiento de la moneda: 40\n",
            "El estimador máximo verosímil de la probabilidad de lanzar cara es:  0.375\n"
          ]
        }
      ]
    },
    {
      "cell_type": "markdown",
      "source": [
        "> Ejercicio: Obtenga para un cierto rango de valores de $n$ los estimadores máximo verosímiles, y grafique su tendencia."
      ],
      "metadata": {
        "id": "NLUBtY3LzpI7"
      }
    },
    {
      "cell_type": "code",
      "source": [
        "# Lista de almacenaje\n",
        "theta_list = []\n",
        "# Simulamos lanzamientos y guardamos el EMV\n",
        "for n in range(2,1000):\n",
        "    # Simulamos una serie de lanzamientos de monedas\n",
        "    coin_flips = np.random.randint(0,2,n)\n",
        "    # Asumimos que 0 es cara y 1 es cruz\n",
        "    heads_flips = len(coin_flips[coin_flips==0])\n",
        "    tails_flips = len(coin_flips[coin_flips==1])\n",
        "    # EMV\n",
        "    theta_list.append(hat_theta(heads_flips, tails_flips))\n",
        "# Gráfica\n",
        "sns.lineplot(x=np.arange(2,1000), y=theta_list)"
      ],
      "metadata": {
        "colab": {
          "base_uri": "https://localhost:8080/",
          "height": 282
        },
        "id": "Tp-v9AWBzwwN",
        "outputId": "def3f2fd-b4a3-4568-a517-30d5f6768019"
      },
      "execution_count": null,
      "outputs": [
        {
          "output_type": "execute_result",
          "data": {
            "text/plain": [
              "<matplotlib.axes._subplots.AxesSubplot at 0x7f82b8422210>"
            ]
          },
          "metadata": {},
          "execution_count": 73
        },
        {
          "output_type": "display_data",
          "data": {
            "text/plain": [
              "<Figure size 432x288 with 1 Axes>"
            ],
            "image/png": "[encoded data removed]"
          },
          "metadata": {
            "needs_background": "light"
          }
        }
      ]
    },
    {
      "cell_type": "markdown",
      "source": [
        "## 13.2 - Nociones de estadística"
      ],
      "metadata": {
        "id": "CUyh8VAuqy4f"
      }
    },
    {
      "cell_type": "markdown",
      "source": [
        "### Estadística descriptiva\n",
        "\n",
        "En esta sección, estudiaremos determinados parámetros que nos permitirán estudiar muestras de valores. Concretamente, los dividiremos en dos secciones:\n",
        "\n",
        "* Parámetros de centralización.\n",
        "* Parámetros de dispersión.\n",
        "\n",
        "En el primer grupo encontramos elementos como la media, la mediana, la moda o los percentiles, mientras que en el segundo están la varianza o el coeficiente de kurtosis, entre otros."
      ],
      "metadata": {
        "id": "HkdKPzgSq2BS"
      }
    },
    {
      "cell_type": "code",
      "source": [
        "from sklearn.datasets import load_wine\n",
        "X, _ = load_wine(return_X_y=True, as_frame=True)"
      ],
      "metadata": {
        "id": "9cxAhhYOrLFU"
      },
      "execution_count": null,
      "outputs": []
    },
    {
      "cell_type": "markdown",
      "source": [
        "Con el método `describe` de `pandas`, se puede obtener esta información de forma muy cómoda:"
      ],
      "metadata": {
        "id": "_Hnfq-jbHGmX"
      }
    },
    {
      "cell_type": "code",
      "source": [
        "X.describe()"
      ],
      "metadata": {
        "id": "Ie2bQ30L3RlT",
        "colab": {
          "base_uri": "https://localhost:8080/",
          "height": 364
        },
        "outputId": "99f2c966-e95a-4eed-c283-0cc4368147e9"
      },
      "execution_count": null,
      "outputs": [
        {
          "output_type": "execute_result",
          "data": {
            "text/plain": [
              "          alcohol  malic_acid         ash  alcalinity_of_ash   magnesium  \\\n",
              "count  178.000000  178.000000  178.000000         178.000000  178.000000   \n",
              "mean    13.000618    2.336348    2.366517          19.494944   99.741573   \n",
              "std      0.811827    1.117146    0.274344           3.339564   14.282484   \n",
              "min     11.030000    0.740000    1.360000          10.600000   70.000000   \n",
              "25%     12.362500    1.602500    2.210000          17.200000   88.000000   \n",
              "50%     13.050000    1.865000    2.360000          19.500000   98.000000   \n",
              "75%     13.677500    3.082500    2.557500          21.500000  107.000000   \n",
              "max     14.830000    5.800000    3.230000          30.000000  162.000000   \n",
              "\n",
              "       total_phenols  flavanoids  nonflavanoid_phenols  proanthocyanins  \\\n",
              "count     178.000000  178.000000            178.000000       178.000000   \n",
              "mean        2.295112    2.029270              0.361854         1.590899   \n",
              "std         0.625851    0.998859              0.124453         0.572359   \n",
              "min         0.980000    0.340000              0.130000         0.410000   \n",
              "25%         1.742500    1.205000              0.270000         1.250000   \n",
              "50%         2.355000    2.135000              0.340000         1.555000   \n",
              "75%         2.800000    2.875000              0.437500         1.950000   \n",
              "max         3.880000    5.080000              0.660000         3.580000   \n",
              "\n",
              "       color_intensity         hue  od280/od315_of_diluted_wines      proline  \n",
              "count       178.000000  178.000000                    178.000000   178.000000  \n",
              "mean          5.058090    0.957449                      2.611685   746.893258  \n",
              "std           2.318286    0.228572                      0.709990   314.907474  \n",
              "min           1.280000    0.480000                      1.270000   278.000000  \n",
              "25%           3.220000    0.782500                      1.937500   500.500000  \n",
              "50%           4.690000    0.965000                      2.780000   673.500000  \n",
              "75%           6.200000    1.120000                      3.170000   985.000000  \n",
              "max          13.000000    1.710000                      4.000000  1680.000000  "
            ],
            "text/html": [
              "\n",
              "  <div id=\"df-ec13a6a8-a243-4777-9b30-cde3da411164\">\n",
              "    <div class=\"colab-df-container\">\n",
              "      <div>\n",
              "<style scoped>\n",
              "    .dataframe tbody tr th:only-of-type {\n",
              "        vertical-align: middle;\n",
              "    }\n",
              "\n",
              "    .dataframe tbody tr th {\n",
              "        vertical-align: top;\n",
              "    }\n",
              "\n",
              "    .dataframe thead th {\n",
              "        text-align: right;\n",
              "    }\n",
              "</style>\n",
              "<table border=\"1\" class=\"dataframe\">\n",
              "  <thead>\n",
              "    <tr style=\"text-align: right;\">\n",
              "      <th></th>\n",
              "      <th>alcohol</th>\n",
              "      <th>malic_acid</th>\n",
              "      <th>ash</th>\n",
              "      <th>alcalinity_of_ash</th>\n",
              "      <th>magnesium</th>\n",
              "      <th>total_phenols</th>\n",
              "      <th>flavanoids</th>\n",
              "      <th>nonflavanoid_phenols</th>\n",
              "      <th>proanthocyanins</th>\n",
              "      <th>color_intensity</th>\n",
              "      <th>hue</th>\n",
              "      <th>od280/od315_of_diluted_wines</th>\n",
              "      <th>proline</th>\n",
              "    </tr>\n",
              "  </thead>\n",
              "  <tbody>\n",
              "    <tr>\n",
              "      <th>count</th>\n",
              "      <td>178.000000</td>\n",
              "      <td>178.000000</td>\n",
              "      <td>178.000000</td>\n",
              "      <td>178.000000</td>\n",
              "      <td>178.000000</td>\n",
              "      <td>178.000000</td>\n",
              "      <td>178.000000</td>\n",
              "      <td>178.000000</td>\n",
              "      <td>178.000000</td>\n",
              "      <td>178.000000</td>\n",
              "      <td>178.000000</td>\n",
              "      <td>178.000000</td>\n",
              "      <td>178.000000</td>\n",
              "    </tr>\n",
              "    <tr>\n",
              "      <th>mean</th>\n",
              "      <td>13.000618</td>\n",
              "      <td>2.336348</td>\n",
              "      <td>2.366517</td>\n",
              "      <td>19.494944</td>\n",
              "      <td>99.741573</td>\n",
              "      <td>2.295112</td>\n",
              "      <td>2.029270</td>\n",
              "      <td>0.361854</td>\n",
              "      <td>1.590899</td>\n",
              "      <td>5.058090</td>\n",
              "      <td>0.957449</td>\n",
              "      <td>2.611685</td>\n",
              "      <td>746.893258</td>\n",
              "    </tr>\n",
              "    <tr>\n",
              "      <th>std</th>\n",
              "      <td>0.811827</td>\n",
              "      <td>1.117146</td>\n",
              "      <td>0.274344</td>\n",
              "      <td>3.339564</td>\n",
              "      <td>14.282484</td>\n",
              "      <td>0.625851</td>\n",
              "      <td>0.998859</td>\n",
              "      <td>0.124453</td>\n",
              "      <td>0.572359</td>\n",
              "      <td>2.318286</td>\n",
              "      <td>0.228572</td>\n",
              "      <td>0.709990</td>\n",
              "      <td>314.907474</td>\n",
              "    </tr>\n",
              "    <tr>\n",
              "      <th>min</th>\n",
              "      <td>11.030000</td>\n",
              "      <td>0.740000</td>\n",
              "      <td>1.360000</td>\n",
              "      <td>10.600000</td>\n",
              "      <td>70.000000</td>\n",
              "      <td>0.980000</td>\n",
              "      <td>0.340000</td>\n",
              "      <td>0.130000</td>\n",
              "      <td>0.410000</td>\n",
              "      <td>1.280000</td>\n",
              "      <td>0.480000</td>\n",
              "      <td>1.270000</td>\n",
              "      <td>278.000000</td>\n",
              "    </tr>\n",
              "    <tr>\n",
              "      <th>25%</th>\n",
              "      <td>12.362500</td>\n",
              "      <td>1.602500</td>\n",
              "      <td>2.210000</td>\n",
              "      <td>17.200000</td>\n",
              "      <td>88.000000</td>\n",
              "      <td>1.742500</td>\n",
              "      <td>1.205000</td>\n",
              "      <td>0.270000</td>\n",
              "      <td>1.250000</td>\n",
              "      <td>3.220000</td>\n",
              "      <td>0.782500</td>\n",
              "      <td>1.937500</td>\n",
              "      <td>500.500000</td>\n",
              "    </tr>\n",
              "    <tr>\n",
              "      <th>50%</th>\n",
              "      <td>13.050000</td>\n",
              "      <td>1.865000</td>\n",
              "      <td>2.360000</td>\n",
              "      <td>19.500000</td>\n",
              "      <td>98.000000</td>\n",
              "      <td>2.355000</td>\n",
              "      <td>2.135000</td>\n",
              "      <td>0.340000</td>\n",
              "      <td>1.555000</td>\n",
              "      <td>4.690000</td>\n",
              "      <td>0.965000</td>\n",
              "      <td>2.780000</td>\n",
              "      <td>673.500000</td>\n",
              "    </tr>\n",
              "    <tr>\n",
              "      <th>75%</th>\n",
              "      <td>13.677500</td>\n",
              "      <td>3.082500</td>\n",
              "      <td>2.557500</td>\n",
              "      <td>21.500000</td>\n",
              "      <td>107.000000</td>\n",
              "      <td>2.800000</td>\n",
              "      <td>2.875000</td>\n",
              "      <td>0.437500</td>\n",
              "      <td>1.950000</td>\n",
              "      <td>6.200000</td>\n",
              "      <td>1.120000</td>\n",
              "      <td>3.170000</td>\n",
              "      <td>985.000000</td>\n",
              "    </tr>\n",
              "    <tr>\n",
              "      <th>max</th>\n",
              "      <td>14.830000</td>\n",
              "      <td>5.800000</td>\n",
              "      <td>3.230000</td>\n",
              "      <td>30.000000</td>\n",
              "      <td>162.000000</td>\n",
              "      <td>3.880000</td>\n",
              "      <td>5.080000</td>\n",
              "      <td>0.660000</td>\n",
              "      <td>3.580000</td>\n",
              "      <td>13.000000</td>\n",
              "      <td>1.710000</td>\n",
              "      <td>4.000000</td>\n",
              "      <td>1680.000000</td>\n",
              "    </tr>\n",
              "  </tbody>\n",
              "</table>\n",
              "</div>\n",
              "      <button class=\"colab-df-convert\" onclick=\"convertToInteractive('df-ec13a6a8-a243-4777-9b30-cde3da411164')\"\n",
              "              title=\"Convert this dataframe to an interactive table.\"\n",
              "              style=\"display:none;\">\n",
              "        \n",
              "  <svg xmlns=\"http://www.w3.org/2000/svg\" height=\"24px\"viewBox=\"0 0 24 24\"\n",
              "       width=\"24px\">\n",
              "    <path d=\"M0 0h24v24H0V0z\" fill=\"none\"/>\n",
              "    <path d=\"M18.56 5.44l.94 2.06.94-2.06 2.06-.94-2.06-.94-.94-2.06-.94 2.06-2.06.94zm-11 1L8.5 8.5l.94-2.06 2.06-.94-2.06-.94L8.5 2.5l-.94 2.06-2.06.94zm10 10l.94 2.06.94-2.06 2.06-.94-2.06-.94-.94-2.06-.94 2.06-2.06.94z\"/><path d=\"M17.41 7.96l-1.37-1.37c-.4-.4-.92-.59-1.43-.59-.52 0-1.04.2-1.43.59L10.3 9.45l-7.72 7.72c-.78.78-.78 2.05 0 2.83L4 21.41c.39.39.9.59 1.41.59.51 0 1.02-.2 1.41-.59l7.78-7.78 2.81-2.81c.8-.78.8-2.07 0-2.86zM5.41 20L4 18.59l7.72-7.72 1.47 1.35L5.41 20z\"/>\n",
              "  </svg>\n",
              "      </button>\n",
              "      \n",
              "  <style>\n",
              "    .colab-df-container {\n",
              "      display:flex;\n",
              "      flex-wrap:wrap;\n",
              "      gap: 12px;\n",
              "    }\n",
              "\n",
              "    .colab-df-convert {\n",
              "      background-color: #E8F0FE;\n",
              "      border: none;\n",
              "      border-radius: 50%;\n",
              "      cursor: pointer;\n",
              "      display: none;\n",
              "      fill: #1967D2;\n",
              "      height: 32px;\n",
              "      padding: 0 0 0 0;\n",
              "      width: 32px;\n",
              "    }\n",
              "\n",
              "    .colab-df-convert:hover {\n",
              "      background-color: #E2EBFA;\n",
              "      box-shadow: 0px 1px 2px rgba(60, 64, 67, 0.3), 0px 1px 3px 1px rgba(60, 64, 67, 0.15);\n",
              "      fill: #174EA6;\n",
              "    }\n",
              "\n",
              "    [theme=dark] .colab-df-convert {\n",
              "      background-color: #3B4455;\n",
              "      fill: #D2E3FC;\n",
              "    }\n",
              "\n",
              "    [theme=dark] .colab-df-convert:hover {\n",
              "      background-color: #434B5C;\n",
              "      box-shadow: 0px 1px 3px 1px rgba(0, 0, 0, 0.15);\n",
              "      filter: drop-shadow(0px 1px 2px rgba(0, 0, 0, 0.3));\n",
              "      fill: #FFFFFF;\n",
              "    }\n",
              "  </style>\n",
              "\n",
              "      <script>\n",
              "        const buttonEl =\n",
              "          document.querySelector('#df-ec13a6a8-a243-4777-9b30-cde3da411164 button.colab-df-convert');\n",
              "        buttonEl.style.display =\n",
              "          google.colab.kernel.accessAllowed ? 'block' : 'none';\n",
              "\n",
              "        async function convertToInteractive(key) {\n",
              "          const element = document.querySelector('#df-ec13a6a8-a243-4777-9b30-cde3da411164');\n",
              "          const dataTable =\n",
              "            await google.colab.kernel.invokeFunction('convertToInteractive',\n",
              "                                                     [key], {});\n",
              "          if (!dataTable) return;\n",
              "\n",
              "          const docLinkHtml = 'Like what you see? Visit the ' +\n",
              "            '<a target=\"_blank\" href=https://colab.research.google.com/notebooks/data_table.ipynb>data table notebook</a>'\n",
              "            + ' to learn more about interactive tables.';\n",
              "          element.innerHTML = '';\n",
              "          dataTable['output_type'] = 'display_data';\n",
              "          await google.colab.output.renderOutput(dataTable, element);\n",
              "          const docLink = document.createElement('div');\n",
              "          docLink.innerHTML = docLinkHtml;\n",
              "          element.appendChild(docLink);\n",
              "        }\n",
              "      </script>\n",
              "    </div>\n",
              "  </div>\n",
              "  "
            ]
          },
          "metadata": {},
          "execution_count": 75
        }
      ]
    },
    {
      "cell_type": "markdown",
      "source": [
        "En caso de que tengamos una lista o un array de `numpy`, podríamos proceder como sigue:"
      ],
      "metadata": {
        "id": "gMA_FCJfMgUs"
      }
    },
    {
      "cell_type": "code",
      "source": [
        "# Generamos lista aleatoria\n",
        "sample_list = [np.random.normal() for _ in range(1000)]\n",
        "# Calculamos media\n",
        "mean = np.mean(sample_list)\n",
        "# Calculamos desviación típica\n",
        "std = np.std(sample_list)\n",
        "# Calculamos cuantiles\n",
        "quant = np.quantile(sample_list, [.1,.25,.5,.75,.9])\n",
        "# Calculamos máximo y mínimo\n",
        "min, max = np.min(sample_list), np.max(sample_list)\n",
        "print(\n",
        "    mean,\n",
        "    std,\n",
        "    quant,\n",
        "    min,\n",
        "    max\n",
        ")"
      ],
      "metadata": {
        "id": "g6EJGSyYNCii",
        "colab": {
          "base_uri": "https://localhost:8080/"
        },
        "outputId": "152b7a9b-000e-4e6b-d5aa-38120a09ea5d"
      },
      "execution_count": null,
      "outputs": [
        {
          "output_type": "stream",
          "name": "stdout",
          "text": [
            "0.05666932575676418 1.031552074397093 [-1.27918537 -0.57535112  0.05605149  0.73435597  1.36210761] -2.921347957326367 3.370820723528559\n"
          ]
        }
      ]
    },
    {
      "cell_type": "markdown",
      "source": [
        "Una de las aplicaciones más interesantes de estos parámetros descriptivos es la construcción de los conocidos como **rangos intercuartílicos** y el estudio de **valores atípicos** (*outliers*). Vayamos paso a paso:\n",
        "\n",
        "* Rango intercuartílico: Se define como la distancia existente entre el percentil 75 (frecuentemente denotado como $Q_3$) y el percentil 25 (frecuentemente denotado como $Q_1$) de la distribución: $\\text{IQR}=Q_3-Q_1$.\n",
        "* Valores atípicos: Son aquellos elementos que no se corresponden con la distribución esperada por tener valores excesivamente altos o bajos. Esta definición es muy ambigüa, y para ello consideraremos que un valor atípico aquel que se salga del intervalo:\n",
        "\n",
        "$$ \\left[Q_1-1.5\\cdot\\text{IQR}, Q_3+1.5\\cdot\\text{IQR}\\right] $$\n",
        "\n",
        "Con estos valores atípicos, existen dos operaciones que podemos realizar:\n",
        "\n",
        "* Eliminar los registros con valores atípicos en una determinada variable.\n",
        "* Reemplazar los valores atípicos de esa variable por el valor límite del intervalo correspondiente. Es decir, si por ejemplo el valor está fuera del intervalo por ser superior a $Q_3+1.5\\cdot\\text{IQR}$, lo reemplazamos por $Q_3+1.5\\cdot\\text{IQR}$, y respectivamente con el límite inferior.\n",
        "\n",
        "Es muy habitual hacer un análisis de valores atípicos tomando como referencia algunas variables que sabemos que están altamente correlacionadas con la variable respuesta que queremos estudiar, agrupando por las mismas. Exploraremos este punto más en detalle en la sección de ejercicios."
      ],
      "metadata": {
        "id": "UdSD8ZWUpAwl"
      }
    },
    {
      "cell_type": "markdown",
      "source": [
        "### Correlación. Ajuste de normalidad\n",
        "\n",
        "Cuando se trabaja con múltiples variables para analizar el comportamiento de un fenómeno natural, es importante asegurarnos de que no estemos introduciendo información irrelevante, y tener en cuénta qué variables pueden ser potencialmente más valiosas. Para ello, se hace uso de la **correlación lineal**, que precisamente lo que mide es, dado un cierto incremento en una variable, cómo varía el resto. Con ello, para cada pareja de variables, se construye un índice de $-1$ a $1$, en el cual:\n",
        "\n",
        "* La proximidad a $-1$ se identifica con una fuerte correlación negativa.\n",
        "* La proximidad a cero se identifica con una baja o nula correlación.\n",
        "* La proximidad a $1$ se identifica con una fuerte correlación positiva.\n",
        "\n",
        "Veámoslo con un ejemplo:"
      ],
      "metadata": {
        "id": "LCHcHuHb-HzF"
      }
    },
    {
      "cell_type": "code",
      "source": [
        ""
      ],
      "metadata": {
        "id": "bVJ6y1oNFkem"
      },
      "execution_count": null,
      "outputs": []
    },
    {
      "cell_type": "markdown",
      "source": [
        "Veremos en los ejercicios cómo eliminar de forma automatizada variables altamente correlacionadas.\n",
        "\n",
        "Otra cuestión a tener en cuenta es que, debido a la naturaleza de multitud de modelos de *machine learning*, es conveniente que la variable a predecir tenga una distribución que se ajuste a la normal en cierto modo. Para ello, un indicador relevante es cómo evolucionan los percentiles de la distribución con respecto a una distribución normal \"ideal\" en base a su media y varianza; es lo que se conoce como **QQ-plot**."
      ],
      "metadata": {
        "id": "4QzCRKP1Dv58"
      }
    },
    {
      "cell_type": "code",
      "source": [
        "# Dependencias\n",
        "import re\n",
        "import numpy as np\n",
        "import pandas as pd\n",
        "import matplotlib.pyplot as plt\n",
        "import seaborn as sns\n",
        "from scipy import stats\n",
        "## Descargamos el fichero que contiene los datos a nuestro directorio activo\n",
        "!wget https://archive.ics.uci.edu/ml/machine-learning-databases/00374/energydata_complete.csv\n",
        "# Leemos fichero\n",
        "df = pd.read_csv('energydata_complete.csv')\n",
        "\n",
        "sns.distplot(df['Press_mm_hg'], fit=stats.norm)\n",
        "\n",
        "# Get the fitted parameters used by the function\n",
        "(mu, sigma) = stats.norm.fit(df['Press_mm_hg'])\n",
        "print( '\\n mu = {:.2f} and sigma = {:.2f}\\n'.format(mu, sigma))\n",
        "\n",
        "#Now plot the distribution\n",
        "plt.legend(['Distribución normal ($\\mu=$ {:.2f} and $\\sigma=$ {:.2f} )'.format(mu, sigma)],loc='best')\n",
        "plt.ylabel('Densidad')\n",
        "plt.show()"
      ],
      "metadata": {
        "colab": {
          "base_uri": "https://localhost:8080/",
          "height": 578
        },
        "id": "LcQsgFYu_Tkh",
        "outputId": "53d9cf07-c703-4c95-aae0-58bab0996bf6"
      },
      "execution_count": null,
      "outputs": [
        {
          "output_type": "stream",
          "name": "stdout",
          "text": [
            "--2022-06-22 11:24:12--  https://archive.ics.uci.edu/ml/machine-learning-databases/00374/energydata_complete.csv\n",
            "Resolving archive.ics.uci.edu (archive.ics.uci.edu)... 128.195.10.252\n",
            "Connecting to archive.ics.uci.edu (archive.ics.uci.edu)|128.195.10.252|:443... connected.\n",
            "HTTP request sent, awaiting response... 200 OK\n",
            "Length: 11979363 (11M) [application/x-httpd-php]\n",
            "Saving to: ‘energydata_complete.csv’\n",
            "\n",
            "energydata_complete 100%[===================>]  11.42M  17.2MB/s    in 0.7s    \n",
            "\n",
            "2022-06-22 11:24:13 (17.2 MB/s) - ‘energydata_complete.csv’ saved [11979363/11979363]\n",
            "\n"
          ]
        },
        {
          "output_type": "stream",
          "name": "stderr",
          "text": [
            "/usr/local/lib/python3.7/dist-packages/seaborn/distributions.py:2619: FutureWarning: `distplot` is a deprecated function and will be removed in a future version. Please adapt your code to use either `displot` (a figure-level function with similar flexibility) or `histplot` (an axes-level function for histograms).\n",
            "  warnings.warn(msg, FutureWarning)\n"
          ]
        },
        {
          "output_type": "stream",
          "name": "stdout",
          "text": [
            "\n",
            " mu = 755.52 and sigma = 7.40\n",
            "\n"
          ]
        },
        {
          "output_type": "display_data",
          "data": {
            "text/plain": [
              "<Figure size 432x288 with 1 Axes>"
            ],
            "image/png": "[encoded data removed]"
          },
          "metadata": {
            "needs_background": "light"
          }
        }
      ]
    },
    {
      "cell_type": "code",
      "source": [
        "#Mostramos QQ-plot\n",
        "fig = plt.figure()\n",
        "res = stats.probplot(df['Press_mm_hg'], plot=plt)\n",
        "plt.show()"
      ],
      "metadata": {
        "colab": {
          "base_uri": "https://localhost:8080/",
          "height": 295
        },
        "id": "K2mJYq_3_qOc",
        "outputId": "4ae03447-9f67-4abd-bcaa-4fbb037bc582"
      },
      "execution_count": null,
      "outputs": [
        {
          "output_type": "display_data",
          "data": {
            "text/plain": [
              "<Figure size 432x288 with 1 Axes>"
            ],
            "image/png": "[encoded data removed]"
          },
          "metadata": {
            "needs_background": "light"
          }
        }
      ]
    },
    {
      "cell_type": "markdown",
      "source": [
        "En caso de que no sea así, existen procedimientos como la **transformación de Box-Cox**."
      ],
      "metadata": {
        "id": "JB4v17UPFlc2"
      }
    },
    {
      "cell_type": "code",
      "source": [
        "# Requerimientos\n",
        "from scipy.stats import boxcox\n",
        "#Transformamos variable\n",
        "df['Press_mm_hg_bc'] = boxcox(df['Press_mm_hg'])[0]\n",
        "# Parámetros normales\n",
        "(mu, sigma) = stats.norm.fit(df['Press_mm_hg_bc'])\n",
        "# Estandarizamos valores\n",
        "df['Press_mm_hg_bc'] = (df['Press_mm_hg_bc']-mu)/sigma\n",
        "#QQ-plot\n",
        "fig = plt.figure()\n",
        "res = stats.probplot(df['Press_mm_hg_bc'], plot=plt)\n",
        "plt.show()"
      ],
      "metadata": {
        "colab": {
          "base_uri": "https://localhost:8080/",
          "height": 295
        },
        "id": "lg_woNx9FmTq",
        "outputId": "1c666e5d-6351-429d-bd0d-5609b31f0268"
      },
      "execution_count": null,
      "outputs": [
        {
          "output_type": "display_data",
          "data": {
            "text/plain": [
              "<Figure size 432x288 with 1 Axes>"
            ],
            "image/png": "[encoded data removed]"
          },
          "metadata": {
            "needs_background": "light"
          }
        }
      ]
    },
    {
      "cell_type": "markdown",
      "source": [
        "### Teorema Central del Límite (TCL)\n",
        "\n",
        "Uno de los resultados fundamentales de la estadística es el TCL, en el que se afirma que si un experimento es repetido bajo las mismas características y condiciones (esto es, dispongamos de una sucesión finita de variables aleatorias independientes e idénticamente distribuídas $\\{X_k\\}_{k=0}^n$ con media $\\mu$ y varianza finita $\\sigma^2<\\infty$), la distribución asociada a las medias muestrales converge a una distribución normal de media $\\mu$ y desviación típica $\\frac{\\sigma}{\\sqrt{n}}$.\n",
        "\n",
        "La cuestión es, ¿cómo podemos interpretar este resultado desde la perspectiva del _machine learning_? Recordemos que, desde nuestro punto de vista, no tenemos conocimiento _a priori_ de las variables, con lo cual este resultado es extremadamente útil para poder aproximar nuestras muestras de variables mediante la distribución normal.\n",
        "\n",
        "Tomemos como ejemplo este conjunto de datos sobre información relativa a temperatura y humedad de distintas dependencias de un hogar (para más información, consultar [este enlace](https://archive.ics.uci.edu/ml/datasets/Appliances+energy+prediction)):"
      ],
      "metadata": {
        "id": "fYKnt8UOqmHM"
      }
    },
    {
      "cell_type": "code",
      "source": [
        "# Dependencias\n",
        "import re\n",
        "import pandas as pd\n",
        "## Descargamos el fichero que contiene los datos a nuestro directorio activo\n",
        "!wget https://archive.ics.uci.edu/ml/machine-learning-databases/00374/energydata_complete.csv\n",
        "# Leemos fichero\n",
        "df = pd.read_csv('energydata_complete.csv')"
      ],
      "metadata": {
        "id": "qKZLmLlbOmr_",
        "colab": {
          "base_uri": "https://localhost:8080/"
        },
        "outputId": "ec8e4c5e-616f-4ea3-a150-60ffbbc994a9"
      },
      "execution_count": null,
      "outputs": [
        {
          "output_type": "stream",
          "name": "stdout",
          "text": [
            "--2022-06-22 11:29:53--  https://archive.ics.uci.edu/ml/machine-learning-databases/00374/energydata_complete.csv\n",
            "Resolving archive.ics.uci.edu (archive.ics.uci.edu)... 128.195.10.252\n",
            "Connecting to archive.ics.uci.edu (archive.ics.uci.edu)|128.195.10.252|:443... connected.\n",
            "HTTP request sent, awaiting response... 200 OK\n",
            "Length: 11979363 (11M) [application/x-httpd-php]\n",
            "Saving to: ‘energydata_complete.csv.1’\n",
            "\n",
            "energydata_complete 100%[===================>]  11.42M  17.3MB/s    in 0.7s    \n",
            "\n",
            "2022-06-22 11:29:54 (17.3 MB/s) - ‘energydata_complete.csv.1’ saved [11979363/11979363]\n",
            "\n"
          ]
        }
      ]
    },
    {
      "cell_type": "markdown",
      "source": [
        "Trabajaremos ahora con *batches* de información a partir de esta gran muestra de datos, tomando como referencia la variable `T1` (temperatura de la cocina en Celsius), de forma que tomaremos grupos de muestras de 32 elementos, resultando así 616 muestras. Traduciendo esto al TCL, disponemos de 616 variables aleatorias con distribución desconocida, pero que son independientes e idénticamente distribuídas al tratarse del mismo lugar. Realizaremos los siguientes pasos:\n",
        "\n",
        "* Tomamos cada una de las 616 posibles muestras distintas de tamaño 32.\n",
        "* Para cada una de ellas, tomamos el valor medio de los valores.\n",
        "* Vemos qué distribución tiene el aglomerado de todas esas medias.\n",
        "\n",
        "En virtual del TCL, debería aproximarse a una distribución normal. Veamos si así es:"
      ],
      "metadata": {
        "id": "8_ouv4CkmJWj"
      }
    },
    {
      "cell_type": "code",
      "source": [
        "# Dependencias\n",
        "import seaborn as sns\n",
        "# Parámetros\n",
        "variable = 'T1'\n",
        "batch_size = 32\n",
        "num_batches = len(df)//batch_size\n",
        "means = []\n",
        "# Barajamos la información\n",
        "df = df.sample(frac=1)\n",
        "# Iteramos sobre los batches\n",
        "for idx in range(num_batches):\n",
        "    means.append(np.mean(df.loc[batch_size*idx:batch_size*(idx+1),variable]))\n",
        "# Dibujamos\n",
        "sns.displot(means)"
      ],
      "metadata": {
        "id": "rc881tGCooY_",
        "colab": {
          "base_uri": "https://localhost:8080/",
          "height": 386
        },
        "outputId": "355ee1f9-87ad-4b42-a563-537b973091ab"
      },
      "execution_count": null,
      "outputs": [
        {
          "output_type": "execute_result",
          "data": {
            "text/plain": [
              "<seaborn.axisgrid.FacetGrid at 0x7f82b2ed9bd0>"
            ]
          },
          "metadata": {},
          "execution_count": 82
        },
        {
          "output_type": "display_data",
          "data": {
            "text/plain": [
              "<Figure size 360x360 with 1 Axes>"
            ],
            "image/png": "[encoded data removed]"
          },
          "metadata": {
            "needs_background": "light"
          }
        }
      ]
    },
    {
      "cell_type": "markdown",
      "source": [
        "En efecto, el TCL nos sirve para poder modelizar nuestros experimentos de _machine learning_, tratando nuestras variables continuas en términos promedios como distribuciones normales."
      ],
      "metadata": {
        "id": "_I0dR9ILqON0"
      }
    }
  ]
}