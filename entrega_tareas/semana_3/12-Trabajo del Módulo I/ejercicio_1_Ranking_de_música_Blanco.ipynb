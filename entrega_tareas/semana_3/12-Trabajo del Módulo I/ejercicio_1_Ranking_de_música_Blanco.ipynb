{
  "nbformat": 4,
  "nbformat_minor": 0,
  "metadata": {
    "colab": {
      "name": "ejercicio 1. Ranking de música - Blanco.ipynb",
      "provenance": [],
      "collapsed_sections": []
    },
    "kernelspec": {
      "name": "python3",
      "display_name": "Python 3"
    },
    "language_info": {
      "name": "python"
    }
  },
  "cells": [
    {
      "cell_type": "markdown",
      "source": [
        "# Introducción\n",
        "\n",
        "Vamos a analizar un conjunto de datos de canciones y sus estadísticas por semanas: `listas_musica.csv`\n",
        "\n",
        "Es un conjunto de datos que nos permite trabajar los conceptos de `pandas` y `numpy`.\n",
        "\n",
        "El ejercicio será guiado aunque se permite no ver las soluciones para realizar las tareas.\n",
        "\n",
        "Las columnas del `dataset` son:\n",
        "\n",
        "* `date`:\tTipo `date` - Fecha de la lista.\n",
        "* `rank`:\tTipo `int`\t- Posición del ranking de la canción en esa fecha.\n",
        "* `song`:\tTipo `str`\t- Nombre de la canción.\n",
        "* `artist`:\tTipo `str` - Artista.\n",
        "* `last-week`:\tTipo `int` -\tPosición en el ranking de la semana anterior.\n",
        "* `peak-rank`: Tipo `int`\t- La mejor posición de la canción en el ranking.\n",
        "* `weeks-on-board`: Tipo `int` -\tNúmero de semanas que la canción lleva en la lista.\n",
        "\n",
        "\n",
        "\n"
      ],
      "metadata": {
        "id": "KQ6GCzuX2tCx"
      }
    },
    {
      "cell_type": "markdown",
      "source": [
        "# Carga de librerías\n",
        "\n",
        "Cargue las librerías `numpy`, `pandas` y `os`.\n"
      ],
      "metadata": {
        "id": "zUW-6NIM4gpy"
      }
    },
    {
      "cell_type": "markdown",
      "source": [
        "### Solución"
      ],
      "metadata": {
        "id": "h-cs0hLw4rqS"
      }
    },
    {
      "cell_type": "code",
      "execution_count": 6,
      "metadata": {
        "id": "ssX1f3qK0SR0"
      },
      "outputs": [],
      "source": [
        "import numpy as np\n",
        "import pandas as pd \n",
        "import os "
      ]
    },
    {
      "cell_type": "markdown",
      "source": [
        "# Carga del dataset\n",
        "\n",
        "Lea el dataset y conviértalo en un `dataframe`.\n",
        "\n",
        "Imprima el dataset una vez lo tenga."
      ],
      "metadata": {
        "id": "TeNAWI0-49xh"
      }
    },
    {
      "cell_type": "code",
      "source": [
        "musica = pd.read_csv(\"/content/drive/MyDrive/0617/datos/listas_musica.csv\")"
      ],
      "metadata": {
        "id": "eTzxPfV6xoZn"
      },
      "execution_count": 9,
      "outputs": []
    },
    {
      "cell_type": "markdown",
      "source": [
        "### Solución"
      ],
      "metadata": {
        "id": "YLf2hgSZ5JSq"
      }
    },
    {
      "cell_type": "code",
      "source": [
        "from google.colab import drive\n",
        "drive.mount('/content/drive')"
      ],
      "metadata": {
        "colab": {
          "base_uri": "https://localhost:8080/"
        },
        "id": "q2iXdtm757Ty",
        "outputId": "b677d5b9-aa43-4ea5-b86b-13834610af13"
      },
      "execution_count": 3,
      "outputs": [
        {
          "output_type": "stream",
          "name": "stdout",
          "text": [
            "Mounted at /content/drive\n"
          ]
        }
      ]
    },
    {
      "cell_type": "markdown",
      "source": [
        "#Limpieza de datos\n",
        "\n",
        "Rellene con `0` usando `fillna()`."
      ],
      "metadata": {
        "id": "LAVNhscV5b06"
      }
    },
    {
      "cell_type": "markdown",
      "source": [
        "### Solución"
      ],
      "metadata": {
        "id": "AfEExnCD5qEP"
      }
    },
    {
      "cell_type": "code",
      "source": [
        "musica = musica.fillna(0)"
      ],
      "metadata": {
        "id": "j9OjcYrG6zVR"
      },
      "execution_count": 12,
      "outputs": []
    },
    {
      "cell_type": "markdown",
      "source": [
        "# Imprima algunos valores de ejemplos\n",
        "\n",
        "Use `tail()` para imprimir algunos valores.\n",
        "\n",
        "Fíjese en las columnas del dataset."
      ],
      "metadata": {
        "id": "4YyrHo1A5lCK"
      }
    },
    {
      "cell_type": "markdown",
      "source": [
        "### Solución"
      ],
      "metadata": {
        "id": "fh4WS8yx50s4"
      }
    },
    {
      "cell_type": "code",
      "source": [
        "musica.tail()"
      ],
      "metadata": {
        "id": "ONRHXJiT2H3p",
        "colab": {
          "base_uri": "https://localhost:8080/",
          "height": 228
        },
        "outputId": "f2cd0641-88f0-48fd-fbe3-534070b574aa"
      },
      "execution_count": 13,
      "outputs": [
        {
          "output_type": "execute_result",
          "data": {
            "text/plain": [
              "              date  rank                                 song  \\\n",
              "330082  1958-08-04    96                        Over And Over   \n",
              "330083  1958-08-04    97                     I Believe In You   \n",
              "330084  1958-08-04    98                      Little Serenade   \n",
              "330085  1958-08-04    99  I'll Get By (As Long As I Have You)   \n",
              "330086  1958-08-04   100                                 Judy   \n",
              "\n",
              "                   artist  last-week  peak-rank  weeks-on-board  \n",
              "330082    Thurston Harris        0.0         96               1  \n",
              "330083    Robert & Johnny        0.0         97               1  \n",
              "330084  The Ames Brothers        0.0         98               1  \n",
              "330085     Billy Williams        0.0         99               1  \n",
              "330086    Frankie Vaughan        0.0        100               1  "
            ],
            "text/html": [
              "\n",
              "  <div id=\"df-f65fe11e-48e9-4912-b14f-99e547bcd656\">\n",
              "    <div class=\"colab-df-container\">\n",
              "      <div>\n",
              "<style scoped>\n",
              "    .dataframe tbody tr th:only-of-type {\n",
              "        vertical-align: middle;\n",
              "    }\n",
              "\n",
              "    .dataframe tbody tr th {\n",
              "        vertical-align: top;\n",
              "    }\n",
              "\n",
              "    .dataframe thead th {\n",
              "        text-align: right;\n",
              "    }\n",
              "</style>\n",
              "<table border=\"1\" class=\"dataframe\">\n",
              "  <thead>\n",
              "    <tr style=\"text-align: right;\">\n",
              "      <th></th>\n",
              "      <th>date</th>\n",
              "      <th>rank</th>\n",
              "      <th>song</th>\n",
              "      <th>artist</th>\n",
              "      <th>last-week</th>\n",
              "      <th>peak-rank</th>\n",
              "      <th>weeks-on-board</th>\n",
              "    </tr>\n",
              "  </thead>\n",
              "  <tbody>\n",
              "    <tr>\n",
              "      <th>330082</th>\n",
              "      <td>1958-08-04</td>\n",
              "      <td>96</td>\n",
              "      <td>Over And Over</td>\n",
              "      <td>Thurston Harris</td>\n",
              "      <td>0.0</td>\n",
              "      <td>96</td>\n",
              "      <td>1</td>\n",
              "    </tr>\n",
              "    <tr>\n",
              "      <th>330083</th>\n",
              "      <td>1958-08-04</td>\n",
              "      <td>97</td>\n",
              "      <td>I Believe In You</td>\n",
              "      <td>Robert &amp; Johnny</td>\n",
              "      <td>0.0</td>\n",
              "      <td>97</td>\n",
              "      <td>1</td>\n",
              "    </tr>\n",
              "    <tr>\n",
              "      <th>330084</th>\n",
              "      <td>1958-08-04</td>\n",
              "      <td>98</td>\n",
              "      <td>Little Serenade</td>\n",
              "      <td>The Ames Brothers</td>\n",
              "      <td>0.0</td>\n",
              "      <td>98</td>\n",
              "      <td>1</td>\n",
              "    </tr>\n",
              "    <tr>\n",
              "      <th>330085</th>\n",
              "      <td>1958-08-04</td>\n",
              "      <td>99</td>\n",
              "      <td>I'll Get By (As Long As I Have You)</td>\n",
              "      <td>Billy Williams</td>\n",
              "      <td>0.0</td>\n",
              "      <td>99</td>\n",
              "      <td>1</td>\n",
              "    </tr>\n",
              "    <tr>\n",
              "      <th>330086</th>\n",
              "      <td>1958-08-04</td>\n",
              "      <td>100</td>\n",
              "      <td>Judy</td>\n",
              "      <td>Frankie Vaughan</td>\n",
              "      <td>0.0</td>\n",
              "      <td>100</td>\n",
              "      <td>1</td>\n",
              "    </tr>\n",
              "  </tbody>\n",
              "</table>\n",
              "</div>\n",
              "      <button class=\"colab-df-convert\" onclick=\"convertToInteractive('df-f65fe11e-48e9-4912-b14f-99e547bcd656')\"\n",
              "              title=\"Convert this dataframe to an interactive table.\"\n",
              "              style=\"display:none;\">\n",
              "        \n",
              "  <svg xmlns=\"http://www.w3.org/2000/svg\" height=\"24px\"viewBox=\"0 0 24 24\"\n",
              "       width=\"24px\">\n",
              "    <path d=\"M0 0h24v24H0V0z\" fill=\"none\"/>\n",
              "    <path d=\"M18.56 5.44l.94 2.06.94-2.06 2.06-.94-2.06-.94-.94-2.06-.94 2.06-2.06.94zm-11 1L8.5 8.5l.94-2.06 2.06-.94-2.06-.94L8.5 2.5l-.94 2.06-2.06.94zm10 10l.94 2.06.94-2.06 2.06-.94-2.06-.94-.94-2.06-.94 2.06-2.06.94z\"/><path d=\"M17.41 7.96l-1.37-1.37c-.4-.4-.92-.59-1.43-.59-.52 0-1.04.2-1.43.59L10.3 9.45l-7.72 7.72c-.78.78-.78 2.05 0 2.83L4 21.41c.39.39.9.59 1.41.59.51 0 1.02-.2 1.41-.59l7.78-7.78 2.81-2.81c.8-.78.8-2.07 0-2.86zM5.41 20L4 18.59l7.72-7.72 1.47 1.35L5.41 20z\"/>\n",
              "  </svg>\n",
              "      </button>\n",
              "      \n",
              "  <style>\n",
              "    .colab-df-container {\n",
              "      display:flex;\n",
              "      flex-wrap:wrap;\n",
              "      gap: 12px;\n",
              "    }\n",
              "\n",
              "    .colab-df-convert {\n",
              "      background-color: #E8F0FE;\n",
              "      border: none;\n",
              "      border-radius: 50%;\n",
              "      cursor: pointer;\n",
              "      display: none;\n",
              "      fill: #1967D2;\n",
              "      height: 32px;\n",
              "      padding: 0 0 0 0;\n",
              "      width: 32px;\n",
              "    }\n",
              "\n",
              "    .colab-df-convert:hover {\n",
              "      background-color: #E2EBFA;\n",
              "      box-shadow: 0px 1px 2px rgba(60, 64, 67, 0.3), 0px 1px 3px 1px rgba(60, 64, 67, 0.15);\n",
              "      fill: #174EA6;\n",
              "    }\n",
              "\n",
              "    [theme=dark] .colab-df-convert {\n",
              "      background-color: #3B4455;\n",
              "      fill: #D2E3FC;\n",
              "    }\n",
              "\n",
              "    [theme=dark] .colab-df-convert:hover {\n",
              "      background-color: #434B5C;\n",
              "      box-shadow: 0px 1px 3px 1px rgba(0, 0, 0, 0.15);\n",
              "      filter: drop-shadow(0px 1px 2px rgba(0, 0, 0, 0.3));\n",
              "      fill: #FFFFFF;\n",
              "    }\n",
              "  </style>\n",
              "\n",
              "      <script>\n",
              "        const buttonEl =\n",
              "          document.querySelector('#df-f65fe11e-48e9-4912-b14f-99e547bcd656 button.colab-df-convert');\n",
              "        buttonEl.style.display =\n",
              "          google.colab.kernel.accessAllowed ? 'block' : 'none';\n",
              "\n",
              "        async function convertToInteractive(key) {\n",
              "          const element = document.querySelector('#df-f65fe11e-48e9-4912-b14f-99e547bcd656');\n",
              "          const dataTable =\n",
              "            await google.colab.kernel.invokeFunction('convertToInteractive',\n",
              "                                                     [key], {});\n",
              "          if (!dataTable) return;\n",
              "\n",
              "          const docLinkHtml = 'Like what you see? Visit the ' +\n",
              "            '<a target=\"_blank\" href=https://colab.research.google.com/notebooks/data_table.ipynb>data table notebook</a>'\n",
              "            + ' to learn more about interactive tables.';\n",
              "          element.innerHTML = '';\n",
              "          dataTable['output_type'] = 'display_data';\n",
              "          await google.colab.output.renderOutput(dataTable, element);\n",
              "          const docLink = document.createElement('div');\n",
              "          docLink.innerHTML = docLinkHtml;\n",
              "          element.appendChild(docLink);\n",
              "        }\n",
              "      </script>\n",
              "    </div>\n",
              "  </div>\n",
              "  "
            ]
          },
          "metadata": {},
          "execution_count": 13
        }
      ]
    },
    {
      "cell_type": "markdown",
      "source": [
        "# Calcule los top 30 artistas\n",
        "\n",
        "Puede usar la función `value_counts()` y `head(...)`.\n",
        "\n",
        "Fíjese en usar la columna correspondiente."
      ],
      "metadata": {
        "id": "G7NVJXqd6Law"
      }
    },
    {
      "cell_type": "markdown",
      "source": [
        "### Solución"
      ],
      "metadata": {
        "id": "Xqw6PZFl5_Kw"
      }
    },
    {
      "cell_type": "code",
      "source": [
        "top_30_artistas = musica['artist'].head()\n",
        "print (top_30_artistas)"
      ],
      "metadata": {
        "id": "X0nU2tOr2Kwg",
        "colab": {
          "base_uri": "https://localhost:8080/"
        },
        "outputId": "f9bc5e6b-a657-4b8b-c079-749c10f3f8e4"
      },
      "execution_count": 14,
      "outputs": [
        {
          "output_type": "stream",
          "name": "stdout",
          "text": [
            "0                            Adele\n",
            "1    The Kid LAROI & Justin Bieber\n",
            "2          Lil Nas X & Jack Harlow\n",
            "3                     Walker Hayes\n",
            "4                       Ed Sheeran\n",
            "Name: artist, dtype: object\n"
          ]
        }
      ]
    },
    {
      "cell_type": "code",
      "source": [
        "top_30_artistas = musica['artist'].value_counts \n",
        "print (top_30_artistas)"
      ],
      "metadata": {
        "colab": {
          "base_uri": "https://localhost:8080/"
        },
        "id": "ZV3iTqbN3sCZ",
        "outputId": "d655e6a3-76f8-448f-f175-005ab4d235cd"
      },
      "execution_count": 15,
      "outputs": [
        {
          "output_type": "stream",
          "name": "stdout",
          "text": [
            "<bound method IndexOpsMixin.value_counts of 0                                 Adele\n",
            "1         The Kid LAROI & Justin Bieber\n",
            "2               Lil Nas X & Jack Harlow\n",
            "3                          Walker Hayes\n",
            "4                            Ed Sheeran\n",
            "                      ...              \n",
            "330082                  Thurston Harris\n",
            "330083                  Robert & Johnny\n",
            "330084                The Ames Brothers\n",
            "330085                   Billy Williams\n",
            "330086                  Frankie Vaughan\n",
            "Name: artist, Length: 330087, dtype: object>\n"
          ]
        }
      ]
    },
    {
      "cell_type": "code",
      "source": [
        "top_30_artistas = musica['artist'].value_counts().head (30)\n",
        "print(top_30_artistas)"
      ],
      "metadata": {
        "colab": {
          "base_uri": "https://localhost:8080/"
        },
        "id": "0NMQSZwC355_",
        "outputId": "82255782-23e1-403e-dd52-9e26e8e7df10"
      },
      "execution_count": 16,
      "outputs": [
        {
          "output_type": "stream",
          "name": "stdout",
          "text": [
            "Taylor Swift             1023\n",
            "Elton John                889\n",
            "Madonna                   857\n",
            "Drake                     787\n",
            "Kenny Chesney             769\n",
            "Tim McGraw                731\n",
            "Keith Urban               673\n",
            "Stevie Wonder             659\n",
            "Rod Stewart               657\n",
            "Mariah Carey              621\n",
            "Michael Jackson           611\n",
            "Chicago                   607\n",
            "Rascal Flatts             604\n",
            "Billy Joel                588\n",
            "The Rolling Stones        585\n",
            "The Beatles               585\n",
            "Jason Aldean              572\n",
            "Aretha Franklin           569\n",
            "Rihanna                   566\n",
            "P!nk                      564\n",
            "Whitney Houston           561\n",
            "Brad Paisley              559\n",
            "Neil Diamond              553\n",
            "George Strait             553\n",
            "Luke Bryan                543\n",
            "Carrie Underwood          541\n",
            "Daryl Hall John Oates     540\n",
            "The Beach Boys            531\n",
            "Toby Keith                526\n",
            "Bee Gees                  516\n",
            "Name: artist, dtype: int64\n"
          ]
        }
      ]
    },
    {
      "cell_type": "markdown",
      "source": [
        "# Muestre el top 15 de canciones junto con su cantante"
      ],
      "metadata": {
        "id": "bhOxZGyxEz24"
      }
    },
    {
      "cell_type": "markdown",
      "source": [
        "### Solución"
      ],
      "metadata": {
        "id": "Vx3hbPo06AIc"
      }
    },
    {
      "cell_type": "code",
      "source": [
        "top_15_canciones = musica[['artist','song']].value_counts().head (15)\n",
        "print (top_15_canciones)"
      ],
      "metadata": {
        "id": "K4SYarj52NB4",
        "colab": {
          "base_uri": "https://localhost:8080/"
        },
        "outputId": "b9e85e4d-372d-4daa-ecdb-df9f45c6d509"
      },
      "execution_count": 17,
      "outputs": [
        {
          "output_type": "stream",
          "name": "stdout",
          "text": [
            "artist                                     song                               \n",
            "The Weeknd                                 Blinding Lights                        90\n",
            "Imagine Dragons                            Radioactive                            87\n",
            "AWOLNATION                                 Sail                                   79\n",
            "Jason Mraz                                 I'm Yours                              76\n",
            "LeAnn Rimes                                How Do I Live                          69\n",
            "LMFAO Featuring Lauren Bennett & GoonRock  Party Rock Anthem                      68\n",
            "OneRepublic                                Counting Stars                         68\n",
            "Jewel                                      Foolish Games/You Were Meant For Me    65\n",
            "Adele                                      Rolling In The Deep                    65\n",
            "Carrie Underwood                           Before He Cheats                       64\n",
            "The Lumineers                              Ho Hey                                 62\n",
            "Lifehouse                                  You And Me                             62\n",
            "Gabby Barrett Featuring Charlie Puth       I Hope                                 62\n",
            "Post Malone                                Circles                                61\n",
            "Imagine Dragons                            Demons                                 61\n",
            "dtype: int64\n"
          ]
        }
      ]
    },
    {
      "cell_type": "markdown",
      "source": [
        "#Muestre el top 10 de los artistas, canciones y su mejor posición"
      ],
      "metadata": {
        "id": "-oAbLlC6GECY"
      }
    },
    {
      "cell_type": "markdown",
      "source": [
        "### Solución"
      ],
      "metadata": {
        "id": "J4THpiAz6BeQ"
      }
    },
    {
      "cell_type": "code",
      "source": [
        "top_10_artistas = musica[['artist','song','rank']].value_counts().head(10)\n",
        "print(top_10_artistas)"
      ],
      "metadata": {
        "colab": {
          "base_uri": "https://localhost:8080/"
        },
        "id": "GI3f06Uw6GHA",
        "outputId": "b4584e87-f699-4f34-9c10-9c8cf1b8b645"
      },
      "execution_count": 18,
      "outputs": [
        {
          "output_type": "stream",
          "name": "stdout",
          "text": [
            "artist                                             song                                                              rank\n",
            "Lil Nas X Featuring Billy Ray Cyrus                Old Town Road                                                     1       19\n",
            "Mariah Carey & Boyz II Men                         One Sweet Day                                                     1       16\n",
            "Luis Fonsi & Daddy Yankee Featuring Justin Bieber  Despacito                                                         1       16\n",
            "The Black Eyed Peas                                I Gotta Feeling                                                   1       14\n",
            "Whitney Houston                                    I Will Always Love You                                            1       14\n",
            "Boyz II Men                                        I'll Make Love To You                                             1       14\n",
            "Elton John                                         Candle In The Wind 1997/Something About The Way You Look Tonight  1       14\n",
            "Mariah Carey                                       We Belong Together                                                1       14\n",
            "Mark Ronson Featuring Bruno Mars                   Uptown Funk!                                                      1       14\n",
            "Los Del Rio                                        Macarena (Bayside Boys Mix)                                       1       14\n",
            "dtype: int64\n"
          ]
        }
      ]
    },
    {
      "cell_type": "markdown",
      "source": [
        "# Artistas más reproducidos por semanas\n",
        "\n",
        "Transforme la columna `date` en `datetime`.\n",
        "\n",
        "Use  `set_index` para crear un índice en la columna `date`.\n",
        "\n",
        "Imprima el dataframe con el nuevo índice."
      ],
      "metadata": {
        "id": "m3qFQIbDGrpx"
      }
    },
    {
      "cell_type": "code",
      "source": [
        "musica['date'] = musica['date'].apply(pd.to_datetime)\n",
        "musica.set_index('date', inplace=True)\n",
        "musica.head"
      ],
      "metadata": {
        "colab": {
          "base_uri": "https://localhost:8080/"
        },
        "id": "JKG-qdEI9pdg",
        "outputId": "105eb50d-2104-4d32-e5f4-a2ac2c32ce45"
      },
      "execution_count": 19,
      "outputs": [
        {
          "output_type": "execute_result",
          "data": {
            "text/plain": [
              "<bound method NDFrame.head of             rank                                 song  \\\n",
              "date                                                    \n",
              "2021-11-06     1                           Easy On Me   \n",
              "2021-11-06     2                                 Stay   \n",
              "2021-11-06     3                        Industry Baby   \n",
              "2021-11-06     4                           Fancy Like   \n",
              "2021-11-06     5                           Bad Habits   \n",
              "...          ...                                  ...   \n",
              "1958-08-04    96                        Over And Over   \n",
              "1958-08-04    97                     I Believe In You   \n",
              "1958-08-04    98                      Little Serenade   \n",
              "1958-08-04    99  I'll Get By (As Long As I Have You)   \n",
              "1958-08-04   100                                 Judy   \n",
              "\n",
              "                                   artist  last-week  peak-rank  \\\n",
              "date                                                              \n",
              "2021-11-06                          Adele        1.0          1   \n",
              "2021-11-06  The Kid LAROI & Justin Bieber        2.0          1   \n",
              "2021-11-06        Lil Nas X & Jack Harlow        3.0          1   \n",
              "2021-11-06                   Walker Hayes        4.0          3   \n",
              "2021-11-06                     Ed Sheeran        5.0          2   \n",
              "...                                   ...        ...        ...   \n",
              "1958-08-04                Thurston Harris        0.0         96   \n",
              "1958-08-04                Robert & Johnny        0.0         97   \n",
              "1958-08-04              The Ames Brothers        0.0         98   \n",
              "1958-08-04                 Billy Williams        0.0         99   \n",
              "1958-08-04                Frankie Vaughan        0.0        100   \n",
              "\n",
              "            weeks-on-board  \n",
              "date                        \n",
              "2021-11-06               3  \n",
              "2021-11-06              16  \n",
              "2021-11-06              14  \n",
              "2021-11-06              19  \n",
              "2021-11-06              18  \n",
              "...                    ...  \n",
              "1958-08-04               1  \n",
              "1958-08-04               1  \n",
              "1958-08-04               1  \n",
              "1958-08-04               1  \n",
              "1958-08-04               1  \n",
              "\n",
              "[330087 rows x 6 columns]>"
            ]
          },
          "metadata": {},
          "execution_count": 19
        }
      ]
    },
    {
      "cell_type": "markdown",
      "source": [
        "### Solución"
      ],
      "metadata": {
        "id": "Xd9km70s6Cow"
      }
    },
    {
      "cell_type": "markdown",
      "source": [
        "# Encuentre los más y menos escuchados según un intervalo de tiempo\n",
        "\n",
        "Puede usar `resample(frecuencia)[columna]`. \n",
        "\n",
        "Las frecuencias que puede usar son:\n",
        "* H - Horaria\n",
        "* D - Diaria\n",
        "* W - Semanal\n",
        "* M - Mensual\n",
        "* A - Anual\n",
        "\n",
        "Puede usar `.agg([columnas])` para agregar los datos"
      ],
      "metadata": {
        "id": "StJF_khaHMPx"
      }
    },
    {
      "cell_type": "markdown",
      "source": [
        "### Solución"
      ],
      "metadata": {
        "id": "wC4nmd346DxX"
      }
    },
    {
      "cell_type": "code",
      "source": [
        "musica.resample('M')['artist'].agg(['first','last'])"
      ],
      "metadata": {
        "id": "xHroPADM2Xio",
        "colab": {
          "base_uri": "https://localhost:8080/",
          "height": 479
        },
        "outputId": "5a22ef25-beef-490b-9aa3-c975b263491d"
      },
      "execution_count": 23,
      "outputs": [
        {
          "output_type": "execute_result",
          "data": {
            "text/plain": [
              "                                    first  \\\n",
              "date                                        \n",
              "1958-08-31                   Ricky Nelson   \n",
              "1958-09-30               Domenico Modugno   \n",
              "1958-10-31                  Tommy Edwards   \n",
              "1958-11-30                  Tommy Edwards   \n",
              "1958-12-31                The Teddy Bears   \n",
              "...                                   ...   \n",
              "2021-07-31                            BTS   \n",
              "2021-08-31                            BTS   \n",
              "2021-09-30  The Kid LAROI & Justin Bieber   \n",
              "2021-10-31  The Kid LAROI & Justin Bieber   \n",
              "2021-11-30                          Adele   \n",
              "\n",
              "                                                         last  \n",
              "date                                                           \n",
              "1958-08-31                                     Eileen Rodgers  \n",
              "1958-09-30                                        Kalin Twins  \n",
              "1958-10-31                                   The Tune Rockers  \n",
              "1958-11-30                                          Peggy Lee  \n",
              "1958-12-31                                  The Ames Brothers  \n",
              "...                                                       ...  \n",
              "2021-07-31               Jameson Rodgers Featuring Luke Combs  \n",
              "2021-08-31  EST Gee Featuring Lil Baby, 42 Dugg & Rylo Rod...  \n",
              "2021-09-30                                      Kenny Chesney  \n",
              "2021-10-31                                    Priscilla Block  \n",
              "2021-11-30                         YoungBoy Never Broke Again  \n",
              "\n",
              "[760 rows x 2 columns]"
            ],
            "text/html": [
              "\n",
              "  <div id=\"df-4f61b71e-9219-4b18-8229-5c82568d1493\">\n",
              "    <div class=\"colab-df-container\">\n",
              "      <div>\n",
              "<style scoped>\n",
              "    .dataframe tbody tr th:only-of-type {\n",
              "        vertical-align: middle;\n",
              "    }\n",
              "\n",
              "    .dataframe tbody tr th {\n",
              "        vertical-align: top;\n",
              "    }\n",
              "\n",
              "    .dataframe thead th {\n",
              "        text-align: right;\n",
              "    }\n",
              "</style>\n",
              "<table border=\"1\" class=\"dataframe\">\n",
              "  <thead>\n",
              "    <tr style=\"text-align: right;\">\n",
              "      <th></th>\n",
              "      <th>first</th>\n",
              "      <th>last</th>\n",
              "    </tr>\n",
              "    <tr>\n",
              "      <th>date</th>\n",
              "      <th></th>\n",
              "      <th></th>\n",
              "    </tr>\n",
              "  </thead>\n",
              "  <tbody>\n",
              "    <tr>\n",
              "      <th>1958-08-31</th>\n",
              "      <td>Ricky Nelson</td>\n",
              "      <td>Eileen Rodgers</td>\n",
              "    </tr>\n",
              "    <tr>\n",
              "      <th>1958-09-30</th>\n",
              "      <td>Domenico Modugno</td>\n",
              "      <td>Kalin Twins</td>\n",
              "    </tr>\n",
              "    <tr>\n",
              "      <th>1958-10-31</th>\n",
              "      <td>Tommy Edwards</td>\n",
              "      <td>The Tune Rockers</td>\n",
              "    </tr>\n",
              "    <tr>\n",
              "      <th>1958-11-30</th>\n",
              "      <td>Tommy Edwards</td>\n",
              "      <td>Peggy Lee</td>\n",
              "    </tr>\n",
              "    <tr>\n",
              "      <th>1958-12-31</th>\n",
              "      <td>The Teddy Bears</td>\n",
              "      <td>The Ames Brothers</td>\n",
              "    </tr>\n",
              "    <tr>\n",
              "      <th>...</th>\n",
              "      <td>...</td>\n",
              "      <td>...</td>\n",
              "    </tr>\n",
              "    <tr>\n",
              "      <th>2021-07-31</th>\n",
              "      <td>BTS</td>\n",
              "      <td>Jameson Rodgers Featuring Luke Combs</td>\n",
              "    </tr>\n",
              "    <tr>\n",
              "      <th>2021-08-31</th>\n",
              "      <td>BTS</td>\n",
              "      <td>EST Gee Featuring Lil Baby, 42 Dugg &amp; Rylo Rod...</td>\n",
              "    </tr>\n",
              "    <tr>\n",
              "      <th>2021-09-30</th>\n",
              "      <td>The Kid LAROI &amp; Justin Bieber</td>\n",
              "      <td>Kenny Chesney</td>\n",
              "    </tr>\n",
              "    <tr>\n",
              "      <th>2021-10-31</th>\n",
              "      <td>The Kid LAROI &amp; Justin Bieber</td>\n",
              "      <td>Priscilla Block</td>\n",
              "    </tr>\n",
              "    <tr>\n",
              "      <th>2021-11-30</th>\n",
              "      <td>Adele</td>\n",
              "      <td>YoungBoy Never Broke Again</td>\n",
              "    </tr>\n",
              "  </tbody>\n",
              "</table>\n",
              "<p>760 rows × 2 columns</p>\n",
              "</div>\n",
              "      <button class=\"colab-df-convert\" onclick=\"convertToInteractive('df-4f61b71e-9219-4b18-8229-5c82568d1493')\"\n",
              "              title=\"Convert this dataframe to an interactive table.\"\n",
              "              style=\"display:none;\">\n",
              "        \n",
              "  <svg xmlns=\"http://www.w3.org/2000/svg\" height=\"24px\"viewBox=\"0 0 24 24\"\n",
              "       width=\"24px\">\n",
              "    <path d=\"M0 0h24v24H0V0z\" fill=\"none\"/>\n",
              "    <path d=\"M18.56 5.44l.94 2.06.94-2.06 2.06-.94-2.06-.94-.94-2.06-.94 2.06-2.06.94zm-11 1L8.5 8.5l.94-2.06 2.06-.94-2.06-.94L8.5 2.5l-.94 2.06-2.06.94zm10 10l.94 2.06.94-2.06 2.06-.94-2.06-.94-.94-2.06-.94 2.06-2.06.94z\"/><path d=\"M17.41 7.96l-1.37-1.37c-.4-.4-.92-.59-1.43-.59-.52 0-1.04.2-1.43.59L10.3 9.45l-7.72 7.72c-.78.78-.78 2.05 0 2.83L4 21.41c.39.39.9.59 1.41.59.51 0 1.02-.2 1.41-.59l7.78-7.78 2.81-2.81c.8-.78.8-2.07 0-2.86zM5.41 20L4 18.59l7.72-7.72 1.47 1.35L5.41 20z\"/>\n",
              "  </svg>\n",
              "      </button>\n",
              "      \n",
              "  <style>\n",
              "    .colab-df-container {\n",
              "      display:flex;\n",
              "      flex-wrap:wrap;\n",
              "      gap: 12px;\n",
              "    }\n",
              "\n",
              "    .colab-df-convert {\n",
              "      background-color: #E8F0FE;\n",
              "      border: none;\n",
              "      border-radius: 50%;\n",
              "      cursor: pointer;\n",
              "      display: none;\n",
              "      fill: #1967D2;\n",
              "      height: 32px;\n",
              "      padding: 0 0 0 0;\n",
              "      width: 32px;\n",
              "    }\n",
              "\n",
              "    .colab-df-convert:hover {\n",
              "      background-color: #E2EBFA;\n",
              "      box-shadow: 0px 1px 2px rgba(60, 64, 67, 0.3), 0px 1px 3px 1px rgba(60, 64, 67, 0.15);\n",
              "      fill: #174EA6;\n",
              "    }\n",
              "\n",
              "    [theme=dark] .colab-df-convert {\n",
              "      background-color: #3B4455;\n",
              "      fill: #D2E3FC;\n",
              "    }\n",
              "\n",
              "    [theme=dark] .colab-df-convert:hover {\n",
              "      background-color: #434B5C;\n",
              "      box-shadow: 0px 1px 3px 1px rgba(0, 0, 0, 0.15);\n",
              "      filter: drop-shadow(0px 1px 2px rgba(0, 0, 0, 0.3));\n",
              "      fill: #FFFFFF;\n",
              "    }\n",
              "  </style>\n",
              "\n",
              "      <script>\n",
              "        const buttonEl =\n",
              "          document.querySelector('#df-4f61b71e-9219-4b18-8229-5c82568d1493 button.colab-df-convert');\n",
              "        buttonEl.style.display =\n",
              "          google.colab.kernel.accessAllowed ? 'block' : 'none';\n",
              "\n",
              "        async function convertToInteractive(key) {\n",
              "          const element = document.querySelector('#df-4f61b71e-9219-4b18-8229-5c82568d1493');\n",
              "          const dataTable =\n",
              "            await google.colab.kernel.invokeFunction('convertToInteractive',\n",
              "                                                     [key], {});\n",
              "          if (!dataTable) return;\n",
              "\n",
              "          const docLinkHtml = 'Like what you see? Visit the ' +\n",
              "            '<a target=\"_blank\" href=https://colab.research.google.com/notebooks/data_table.ipynb>data table notebook</a>'\n",
              "            + ' to learn more about interactive tables.';\n",
              "          element.innerHTML = '';\n",
              "          dataTable['output_type'] = 'display_data';\n",
              "          await google.colab.output.renderOutput(dataTable, element);\n",
              "          const docLink = document.createElement('div');\n",
              "          docLink.innerHTML = docLinkHtml;\n",
              "          element.appendChild(docLink);\n",
              "        }\n",
              "      </script>\n",
              "    </div>\n",
              "  </div>\n",
              "  "
            ]
          },
          "metadata": {},
          "execution_count": 23
        }
      ]
    },
    {
      "cell_type": "code",
      "source": [
        "musica.resample('A')['artist'].agg(['first','last'])"
      ],
      "metadata": {
        "colab": {
          "base_uri": "https://localhost:8080/",
          "height": 479
        },
        "id": "0WtuR9hK8mF5",
        "outputId": "3359bea1-c3bb-446b-e603-a9086dfca1b9"
      },
      "execution_count": 24,
      "outputs": [
        {
          "output_type": "execute_result",
          "data": {
            "text/plain": [
              "                                         first  \\\n",
              "date                                             \n",
              "1958-12-31                        Ricky Nelson   \n",
              "1959-12-31    The Chipmunks With David Seville   \n",
              "1960-12-31                       Marty Robbins   \n",
              "1961-12-31  Elvis Presley With The Jordanaires   \n",
              "1962-12-31                          The Tokens   \n",
              "...                                        ...   \n",
              "2017-12-31      The Weeknd Featuring Daft Punk   \n",
              "2018-12-31                          Ed Sheeran   \n",
              "2019-12-31                       Ariana Grande   \n",
              "2020-12-31                        Mariah Carey   \n",
              "2021-12-31                        Mariah Carey   \n",
              "\n",
              "                                                     last  \n",
              "date                                                       \n",
              "1958-12-31                              The Ames Brothers  \n",
              "1959-12-31                                  The Knockouts  \n",
              "1960-12-31                                  Etta & Harvey  \n",
              "1961-12-31                                Jimmie Beaumont  \n",
              "1962-12-31                                      Don Covay  \n",
              "...                                                   ...  \n",
              "2017-12-31   Calvin Harris Featuring Kehlani & Lil Yachty  \n",
              "2018-12-31     6ix9ine Featuring Nicki Minaj & Kanye West  \n",
              "2019-12-31  Trippie Redd Featuring Juice WRLD & YNW Melly  \n",
              "2020-12-31                                       Kid Cudi  \n",
              "2021-12-31                     YoungBoy Never Broke Again  \n",
              "\n",
              "[64 rows x 2 columns]"
            ],
            "text/html": [
              "\n",
              "  <div id=\"df-2633becb-2e32-4235-9514-aab1ea08bc17\">\n",
              "    <div class=\"colab-df-container\">\n",
              "      <div>\n",
              "<style scoped>\n",
              "    .dataframe tbody tr th:only-of-type {\n",
              "        vertical-align: middle;\n",
              "    }\n",
              "\n",
              "    .dataframe tbody tr th {\n",
              "        vertical-align: top;\n",
              "    }\n",
              "\n",
              "    .dataframe thead th {\n",
              "        text-align: right;\n",
              "    }\n",
              "</style>\n",
              "<table border=\"1\" class=\"dataframe\">\n",
              "  <thead>\n",
              "    <tr style=\"text-align: right;\">\n",
              "      <th></th>\n",
              "      <th>first</th>\n",
              "      <th>last</th>\n",
              "    </tr>\n",
              "    <tr>\n",
              "      <th>date</th>\n",
              "      <th></th>\n",
              "      <th></th>\n",
              "    </tr>\n",
              "  </thead>\n",
              "  <tbody>\n",
              "    <tr>\n",
              "      <th>1958-12-31</th>\n",
              "      <td>Ricky Nelson</td>\n",
              "      <td>The Ames Brothers</td>\n",
              "    </tr>\n",
              "    <tr>\n",
              "      <th>1959-12-31</th>\n",
              "      <td>The Chipmunks With David Seville</td>\n",
              "      <td>The Knockouts</td>\n",
              "    </tr>\n",
              "    <tr>\n",
              "      <th>1960-12-31</th>\n",
              "      <td>Marty Robbins</td>\n",
              "      <td>Etta &amp; Harvey</td>\n",
              "    </tr>\n",
              "    <tr>\n",
              "      <th>1961-12-31</th>\n",
              "      <td>Elvis Presley With The Jordanaires</td>\n",
              "      <td>Jimmie Beaumont</td>\n",
              "    </tr>\n",
              "    <tr>\n",
              "      <th>1962-12-31</th>\n",
              "      <td>The Tokens</td>\n",
              "      <td>Don Covay</td>\n",
              "    </tr>\n",
              "    <tr>\n",
              "      <th>...</th>\n",
              "      <td>...</td>\n",
              "      <td>...</td>\n",
              "    </tr>\n",
              "    <tr>\n",
              "      <th>2017-12-31</th>\n",
              "      <td>The Weeknd Featuring Daft Punk</td>\n",
              "      <td>Calvin Harris Featuring Kehlani &amp; Lil Yachty</td>\n",
              "    </tr>\n",
              "    <tr>\n",
              "      <th>2018-12-31</th>\n",
              "      <td>Ed Sheeran</td>\n",
              "      <td>6ix9ine Featuring Nicki Minaj &amp; Kanye West</td>\n",
              "    </tr>\n",
              "    <tr>\n",
              "      <th>2019-12-31</th>\n",
              "      <td>Ariana Grande</td>\n",
              "      <td>Trippie Redd Featuring Juice WRLD &amp; YNW Melly</td>\n",
              "    </tr>\n",
              "    <tr>\n",
              "      <th>2020-12-31</th>\n",
              "      <td>Mariah Carey</td>\n",
              "      <td>Kid Cudi</td>\n",
              "    </tr>\n",
              "    <tr>\n",
              "      <th>2021-12-31</th>\n",
              "      <td>Mariah Carey</td>\n",
              "      <td>YoungBoy Never Broke Again</td>\n",
              "    </tr>\n",
              "  </tbody>\n",
              "</table>\n",
              "<p>64 rows × 2 columns</p>\n",
              "</div>\n",
              "      <button class=\"colab-df-convert\" onclick=\"convertToInteractive('df-2633becb-2e32-4235-9514-aab1ea08bc17')\"\n",
              "              title=\"Convert this dataframe to an interactive table.\"\n",
              "              style=\"display:none;\">\n",
              "        \n",
              "  <svg xmlns=\"http://www.w3.org/2000/svg\" height=\"24px\"viewBox=\"0 0 24 24\"\n",
              "       width=\"24px\">\n",
              "    <path d=\"M0 0h24v24H0V0z\" fill=\"none\"/>\n",
              "    <path d=\"M18.56 5.44l.94 2.06.94-2.06 2.06-.94-2.06-.94-.94-2.06-.94 2.06-2.06.94zm-11 1L8.5 8.5l.94-2.06 2.06-.94-2.06-.94L8.5 2.5l-.94 2.06-2.06.94zm10 10l.94 2.06.94-2.06 2.06-.94-2.06-.94-.94-2.06-.94 2.06-2.06.94z\"/><path d=\"M17.41 7.96l-1.37-1.37c-.4-.4-.92-.59-1.43-.59-.52 0-1.04.2-1.43.59L10.3 9.45l-7.72 7.72c-.78.78-.78 2.05 0 2.83L4 21.41c.39.39.9.59 1.41.59.51 0 1.02-.2 1.41-.59l7.78-7.78 2.81-2.81c.8-.78.8-2.07 0-2.86zM5.41 20L4 18.59l7.72-7.72 1.47 1.35L5.41 20z\"/>\n",
              "  </svg>\n",
              "      </button>\n",
              "      \n",
              "  <style>\n",
              "    .colab-df-container {\n",
              "      display:flex;\n",
              "      flex-wrap:wrap;\n",
              "      gap: 12px;\n",
              "    }\n",
              "\n",
              "    .colab-df-convert {\n",
              "      background-color: #E8F0FE;\n",
              "      border: none;\n",
              "      border-radius: 50%;\n",
              "      cursor: pointer;\n",
              "      display: none;\n",
              "      fill: #1967D2;\n",
              "      height: 32px;\n",
              "      padding: 0 0 0 0;\n",
              "      width: 32px;\n",
              "    }\n",
              "\n",
              "    .colab-df-convert:hover {\n",
              "      background-color: #E2EBFA;\n",
              "      box-shadow: 0px 1px 2px rgba(60, 64, 67, 0.3), 0px 1px 3px 1px rgba(60, 64, 67, 0.15);\n",
              "      fill: #174EA6;\n",
              "    }\n",
              "\n",
              "    [theme=dark] .colab-df-convert {\n",
              "      background-color: #3B4455;\n",
              "      fill: #D2E3FC;\n",
              "    }\n",
              "\n",
              "    [theme=dark] .colab-df-convert:hover {\n",
              "      background-color: #434B5C;\n",
              "      box-shadow: 0px 1px 3px 1px rgba(0, 0, 0, 0.15);\n",
              "      filter: drop-shadow(0px 1px 2px rgba(0, 0, 0, 0.3));\n",
              "      fill: #FFFFFF;\n",
              "    }\n",
              "  </style>\n",
              "\n",
              "      <script>\n",
              "        const buttonEl =\n",
              "          document.querySelector('#df-2633becb-2e32-4235-9514-aab1ea08bc17 button.colab-df-convert');\n",
              "        buttonEl.style.display =\n",
              "          google.colab.kernel.accessAllowed ? 'block' : 'none';\n",
              "\n",
              "        async function convertToInteractive(key) {\n",
              "          const element = document.querySelector('#df-2633becb-2e32-4235-9514-aab1ea08bc17');\n",
              "          const dataTable =\n",
              "            await google.colab.kernel.invokeFunction('convertToInteractive',\n",
              "                                                     [key], {});\n",
              "          if (!dataTable) return;\n",
              "\n",
              "          const docLinkHtml = 'Like what you see? Visit the ' +\n",
              "            '<a target=\"_blank\" href=https://colab.research.google.com/notebooks/data_table.ipynb>data table notebook</a>'\n",
              "            + ' to learn more about interactive tables.';\n",
              "          element.innerHTML = '';\n",
              "          dataTable['output_type'] = 'display_data';\n",
              "          await google.colab.output.renderOutput(dataTable, element);\n",
              "          const docLink = document.createElement('div');\n",
              "          docLink.innerHTML = docLinkHtml;\n",
              "          element.appendChild(docLink);\n",
              "        }\n",
              "      </script>\n",
              "    </div>\n",
              "  </div>\n",
              "  "
            ]
          },
          "metadata": {},
          "execution_count": 24
        }
      ]
    }
  ]
}