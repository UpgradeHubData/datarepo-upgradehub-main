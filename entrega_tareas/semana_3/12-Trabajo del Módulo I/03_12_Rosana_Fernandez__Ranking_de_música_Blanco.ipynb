{
  "nbformat": 4,
  "nbformat_minor": 0,
  "metadata": {
    "colab": {
      "name": "03_12_Rosana_Fernandez_ Ranking de música - Blanco.ipynb",
      "provenance": [],
      "collapsed_sections": []
    },
    "kernelspec": {
      "name": "python3",
      "display_name": "Python 3"
    },
    "language_info": {
      "name": "python"
    }
  },
  "cells": [
    {
      "cell_type": "markdown",
      "source": [
        "# Introducción\n",
        "\n",
        "Vamos a analizar un conjunto de datos de canciones y sus estadísticas por semanas: `listas_musica.csv`\n",
        "\n",
        "Es un conjunto de datos que nos permite trabajar los conceptos de `pandas` y `numpy`.\n",
        "\n",
        "El ejercicio será guiado aunque se permite no ver las soluciones para realizar las tareas.\n",
        "\n",
        "Las columnas del `dataset` son:\n",
        "\n",
        "* `date`:\tTipo `date` - Fecha de la lista.\n",
        "* `rank`:\tTipo `int`\t- Posición del ranking de la canción en esa fecha.\n",
        "* `song`:\tTipo `str`\t- Nombre de la canción.\n",
        "* `artist`:\tTipo `str` - Artista.\n",
        "* `last-week`:\tTipo `int` -\tPosición en el ranking de la semana anterior.\n",
        "* `peak-rank`: Tipo `int`\t- La mejor posición de la canción en el ranking.\n",
        "* `weeks-on-board`: Tipo `int` -\tNúmero de semanas que la canción lleva en la lista.\n",
        "\n",
        "\n",
        "\n"
      ],
      "metadata": {
        "id": "KQ6GCzuX2tCx"
      }
    },
    {
      "cell_type": "markdown",
      "source": [
        "# Carga de librerías\n",
        "\n",
        "Cargue las librerías `numpy`, `pandas` y `os`.\n"
      ],
      "metadata": {
        "id": "zUW-6NIM4gpy"
      }
    },
    {
      "cell_type": "markdown",
      "source": [
        "### Solución"
      ],
      "metadata": {
        "id": "h-cs0hLw4rqS"
      }
    },
    {
      "cell_type": "code",
      "execution_count": 64,
      "metadata": {
        "id": "ssX1f3qK0SR0"
      },
      "outputs": [],
      "source": [
        "import numpy as np\n",
        "import pandas as pd\n",
        "import os"
      ]
    },
    {
      "cell_type": "markdown",
      "source": [
        "# Carga del dataset\n",
        "\n",
        "Lea el dataset y conviértalo en un `dataframe`.\n",
        "\n",
        "Imprima el dataset una vez lo tenga."
      ],
      "metadata": {
        "id": "TeNAWI0-49xh"
      }
    },
    {
      "cell_type": "code",
      "source": [
        "#aqui voy a enlazar mi carpeta de datos con el notebook \n",
        "from google.colab import drive\n",
        "drive.mount('/content/drive/')"
      ],
      "metadata": {
        "colab": {
          "base_uri": "https://localhost:8080/"
        },
        "id": "iibDxkGxudmR",
        "outputId": "134d74e6-86a7-446a-d3bf-2539a69b94da"
      },
      "execution_count": 65,
      "outputs": [
        {
          "output_type": "stream",
          "name": "stdout",
          "text": [
            "Drive already mounted at /content/drive/; to attempt to forcibly remount, call drive.mount(\"/content/drive/\", force_remount=True).\n"
          ]
        }
      ]
    },
    {
      "cell_type": "markdown",
      "source": [
        "### Solución"
      ],
      "metadata": {
        "id": "YLf2hgSZ5JSq"
      }
    },
    {
      "cell_type": "code",
      "source": [
        "data_music = pd.read_csv('/content/drive/MyDrive/ranking de músicas/listas_musica.csv')"
      ],
      "metadata": {
        "id": "G5ZpCay6yijS"
      },
      "execution_count": 66,
      "outputs": []
    },
    {
      "cell_type": "markdown",
      "source": [
        "#Limpieza de datos\n",
        "\n",
        "Rellene con `0` usando `fillna()`."
      ],
      "metadata": {
        "id": "LAVNhscV5b06"
      }
    },
    {
      "cell_type": "code",
      "source": [
        "#voy a ver un poco por encima mi dataframe, y tengo un cholón de filas y 7 columnas!!\n",
        "data_music.info"
      ],
      "metadata": {
        "colab": {
          "base_uri": "https://localhost:8080/"
        },
        "id": "vqHBtDUP1hsY",
        "outputId": "daa59193-1787-414a-ff29-6565b6fc8f7d"
      },
      "execution_count": 67,
      "outputs": [
        {
          "output_type": "execute_result",
          "data": {
            "text/plain": [
              "<bound method DataFrame.info of               date  rank                                 song  \\\n",
              "0       2021-11-06     1                           Easy On Me   \n",
              "1       2021-11-06     2                                 Stay   \n",
              "2       2021-11-06     3                        Industry Baby   \n",
              "3       2021-11-06     4                           Fancy Like   \n",
              "4       2021-11-06     5                           Bad Habits   \n",
              "...            ...   ...                                  ...   \n",
              "330082  1958-08-04    96                        Over And Over   \n",
              "330083  1958-08-04    97                     I Believe In You   \n",
              "330084  1958-08-04    98                      Little Serenade   \n",
              "330085  1958-08-04    99  I'll Get By (As Long As I Have You)   \n",
              "330086  1958-08-04   100                                 Judy   \n",
              "\n",
              "                               artist  last-week  peak-rank  weeks-on-board  \n",
              "0                               Adele        1.0          1               3  \n",
              "1       The Kid LAROI & Justin Bieber        2.0          1              16  \n",
              "2             Lil Nas X & Jack Harlow        3.0          1              14  \n",
              "3                        Walker Hayes        4.0          3              19  \n",
              "4                          Ed Sheeran        5.0          2              18  \n",
              "...                               ...        ...        ...             ...  \n",
              "330082                Thurston Harris        NaN         96               1  \n",
              "330083                Robert & Johnny        NaN         97               1  \n",
              "330084              The Ames Brothers        NaN         98               1  \n",
              "330085                 Billy Williams        NaN         99               1  \n",
              "330086                Frankie Vaughan        NaN        100               1  \n",
              "\n",
              "[330087 rows x 7 columns]>"
            ]
          },
          "metadata": {},
          "execution_count": 67
        }
      ]
    },
    {
      "cell_type": "markdown",
      "source": [
        "### Solución"
      ],
      "metadata": {
        "id": "AfEExnCD5qEP"
      }
    },
    {
      "cell_type": "code",
      "source": [
        "data_music.fillna(0)\n"
      ],
      "metadata": {
        "id": "LxunGbqn2GxA",
        "colab": {
          "base_uri": "https://localhost:8080/",
          "height": 467
        },
        "outputId": "a22f99ed-6e34-443f-ff8e-054dcfea7b38"
      },
      "execution_count": 68,
      "outputs": [
        {
          "output_type": "execute_result",
          "data": {
            "text/plain": [
              "              date  rank                                 song  \\\n",
              "0       2021-11-06     1                           Easy On Me   \n",
              "1       2021-11-06     2                                 Stay   \n",
              "2       2021-11-06     3                        Industry Baby   \n",
              "3       2021-11-06     4                           Fancy Like   \n",
              "4       2021-11-06     5                           Bad Habits   \n",
              "...            ...   ...                                  ...   \n",
              "330082  1958-08-04    96                        Over And Over   \n",
              "330083  1958-08-04    97                     I Believe In You   \n",
              "330084  1958-08-04    98                      Little Serenade   \n",
              "330085  1958-08-04    99  I'll Get By (As Long As I Have You)   \n",
              "330086  1958-08-04   100                                 Judy   \n",
              "\n",
              "                               artist  last-week  peak-rank  weeks-on-board  \n",
              "0                               Adele        1.0          1               3  \n",
              "1       The Kid LAROI & Justin Bieber        2.0          1              16  \n",
              "2             Lil Nas X & Jack Harlow        3.0          1              14  \n",
              "3                        Walker Hayes        4.0          3              19  \n",
              "4                          Ed Sheeran        5.0          2              18  \n",
              "...                               ...        ...        ...             ...  \n",
              "330082                Thurston Harris        0.0         96               1  \n",
              "330083                Robert & Johnny        0.0         97               1  \n",
              "330084              The Ames Brothers        0.0         98               1  \n",
              "330085                 Billy Williams        0.0         99               1  \n",
              "330086                Frankie Vaughan        0.0        100               1  \n",
              "\n",
              "[330087 rows x 7 columns]"
            ],
            "text/html": [
              "\n",
              "  <div id=\"df-dfee55b4-73a8-4851-88f6-b2d8a6ea2715\">\n",
              "    <div class=\"colab-df-container\">\n",
              "      <div>\n",
              "<style scoped>\n",
              "    .dataframe tbody tr th:only-of-type {\n",
              "        vertical-align: middle;\n",
              "    }\n",
              "\n",
              "    .dataframe tbody tr th {\n",
              "        vertical-align: top;\n",
              "    }\n",
              "\n",
              "    .dataframe thead th {\n",
              "        text-align: right;\n",
              "    }\n",
              "</style>\n",
              "<table border=\"1\" class=\"dataframe\">\n",
              "  <thead>\n",
              "    <tr style=\"text-align: right;\">\n",
              "      <th></th>\n",
              "      <th>date</th>\n",
              "      <th>rank</th>\n",
              "      <th>song</th>\n",
              "      <th>artist</th>\n",
              "      <th>last-week</th>\n",
              "      <th>peak-rank</th>\n",
              "      <th>weeks-on-board</th>\n",
              "    </tr>\n",
              "  </thead>\n",
              "  <tbody>\n",
              "    <tr>\n",
              "      <th>0</th>\n",
              "      <td>2021-11-06</td>\n",
              "      <td>1</td>\n",
              "      <td>Easy On Me</td>\n",
              "      <td>Adele</td>\n",
              "      <td>1.0</td>\n",
              "      <td>1</td>\n",
              "      <td>3</td>\n",
              "    </tr>\n",
              "    <tr>\n",
              "      <th>1</th>\n",
              "      <td>2021-11-06</td>\n",
              "      <td>2</td>\n",
              "      <td>Stay</td>\n",
              "      <td>The Kid LAROI &amp; Justin Bieber</td>\n",
              "      <td>2.0</td>\n",
              "      <td>1</td>\n",
              "      <td>16</td>\n",
              "    </tr>\n",
              "    <tr>\n",
              "      <th>2</th>\n",
              "      <td>2021-11-06</td>\n",
              "      <td>3</td>\n",
              "      <td>Industry Baby</td>\n",
              "      <td>Lil Nas X &amp; Jack Harlow</td>\n",
              "      <td>3.0</td>\n",
              "      <td>1</td>\n",
              "      <td>14</td>\n",
              "    </tr>\n",
              "    <tr>\n",
              "      <th>3</th>\n",
              "      <td>2021-11-06</td>\n",
              "      <td>4</td>\n",
              "      <td>Fancy Like</td>\n",
              "      <td>Walker Hayes</td>\n",
              "      <td>4.0</td>\n",
              "      <td>3</td>\n",
              "      <td>19</td>\n",
              "    </tr>\n",
              "    <tr>\n",
              "      <th>4</th>\n",
              "      <td>2021-11-06</td>\n",
              "      <td>5</td>\n",
              "      <td>Bad Habits</td>\n",
              "      <td>Ed Sheeran</td>\n",
              "      <td>5.0</td>\n",
              "      <td>2</td>\n",
              "      <td>18</td>\n",
              "    </tr>\n",
              "    <tr>\n",
              "      <th>...</th>\n",
              "      <td>...</td>\n",
              "      <td>...</td>\n",
              "      <td>...</td>\n",
              "      <td>...</td>\n",
              "      <td>...</td>\n",
              "      <td>...</td>\n",
              "      <td>...</td>\n",
              "    </tr>\n",
              "    <tr>\n",
              "      <th>330082</th>\n",
              "      <td>1958-08-04</td>\n",
              "      <td>96</td>\n",
              "      <td>Over And Over</td>\n",
              "      <td>Thurston Harris</td>\n",
              "      <td>0.0</td>\n",
              "      <td>96</td>\n",
              "      <td>1</td>\n",
              "    </tr>\n",
              "    <tr>\n",
              "      <th>330083</th>\n",
              "      <td>1958-08-04</td>\n",
              "      <td>97</td>\n",
              "      <td>I Believe In You</td>\n",
              "      <td>Robert &amp; Johnny</td>\n",
              "      <td>0.0</td>\n",
              "      <td>97</td>\n",
              "      <td>1</td>\n",
              "    </tr>\n",
              "    <tr>\n",
              "      <th>330084</th>\n",
              "      <td>1958-08-04</td>\n",
              "      <td>98</td>\n",
              "      <td>Little Serenade</td>\n",
              "      <td>The Ames Brothers</td>\n",
              "      <td>0.0</td>\n",
              "      <td>98</td>\n",
              "      <td>1</td>\n",
              "    </tr>\n",
              "    <tr>\n",
              "      <th>330085</th>\n",
              "      <td>1958-08-04</td>\n",
              "      <td>99</td>\n",
              "      <td>I'll Get By (As Long As I Have You)</td>\n",
              "      <td>Billy Williams</td>\n",
              "      <td>0.0</td>\n",
              "      <td>99</td>\n",
              "      <td>1</td>\n",
              "    </tr>\n",
              "    <tr>\n",
              "      <th>330086</th>\n",
              "      <td>1958-08-04</td>\n",
              "      <td>100</td>\n",
              "      <td>Judy</td>\n",
              "      <td>Frankie Vaughan</td>\n",
              "      <td>0.0</td>\n",
              "      <td>100</td>\n",
              "      <td>1</td>\n",
              "    </tr>\n",
              "  </tbody>\n",
              "</table>\n",
              "<p>330087 rows × 7 columns</p>\n",
              "</div>\n",
              "      <button class=\"colab-df-convert\" onclick=\"convertToInteractive('df-dfee55b4-73a8-4851-88f6-b2d8a6ea2715')\"\n",
              "              title=\"Convert this dataframe to an interactive table.\"\n",
              "              style=\"display:none;\">\n",
              "        \n",
              "  <svg xmlns=\"http://www.w3.org/2000/svg\" height=\"24px\"viewBox=\"0 0 24 24\"\n",
              "       width=\"24px\">\n",
              "    <path d=\"M0 0h24v24H0V0z\" fill=\"none\"/>\n",
              "    <path d=\"M18.56 5.44l.94 2.06.94-2.06 2.06-.94-2.06-.94-.94-2.06-.94 2.06-2.06.94zm-11 1L8.5 8.5l.94-2.06 2.06-.94-2.06-.94L8.5 2.5l-.94 2.06-2.06.94zm10 10l.94 2.06.94-2.06 2.06-.94-2.06-.94-.94-2.06-.94 2.06-2.06.94z\"/><path d=\"M17.41 7.96l-1.37-1.37c-.4-.4-.92-.59-1.43-.59-.52 0-1.04.2-1.43.59L10.3 9.45l-7.72 7.72c-.78.78-.78 2.05 0 2.83L4 21.41c.39.39.9.59 1.41.59.51 0 1.02-.2 1.41-.59l7.78-7.78 2.81-2.81c.8-.78.8-2.07 0-2.86zM5.41 20L4 18.59l7.72-7.72 1.47 1.35L5.41 20z\"/>\n",
              "  </svg>\n",
              "      </button>\n",
              "      \n",
              "  <style>\n",
              "    .colab-df-container {\n",
              "      display:flex;\n",
              "      flex-wrap:wrap;\n",
              "      gap: 12px;\n",
              "    }\n",
              "\n",
              "    .colab-df-convert {\n",
              "      background-color: #E8F0FE;\n",
              "      border: none;\n",
              "      border-radius: 50%;\n",
              "      cursor: pointer;\n",
              "      display: none;\n",
              "      fill: #1967D2;\n",
              "      height: 32px;\n",
              "      padding: 0 0 0 0;\n",
              "      width: 32px;\n",
              "    }\n",
              "\n",
              "    .colab-df-convert:hover {\n",
              "      background-color: #E2EBFA;\n",
              "      box-shadow: 0px 1px 2px rgba(60, 64, 67, 0.3), 0px 1px 3px 1px rgba(60, 64, 67, 0.15);\n",
              "      fill: #174EA6;\n",
              "    }\n",
              "\n",
              "    [theme=dark] .colab-df-convert {\n",
              "      background-color: #3B4455;\n",
              "      fill: #D2E3FC;\n",
              "    }\n",
              "\n",
              "    [theme=dark] .colab-df-convert:hover {\n",
              "      background-color: #434B5C;\n",
              "      box-shadow: 0px 1px 3px 1px rgba(0, 0, 0, 0.15);\n",
              "      filter: drop-shadow(0px 1px 2px rgba(0, 0, 0, 0.3));\n",
              "      fill: #FFFFFF;\n",
              "    }\n",
              "  </style>\n",
              "\n",
              "      <script>\n",
              "        const buttonEl =\n",
              "          document.querySelector('#df-dfee55b4-73a8-4851-88f6-b2d8a6ea2715 button.colab-df-convert');\n",
              "        buttonEl.style.display =\n",
              "          google.colab.kernel.accessAllowed ? 'block' : 'none';\n",
              "\n",
              "        async function convertToInteractive(key) {\n",
              "          const element = document.querySelector('#df-dfee55b4-73a8-4851-88f6-b2d8a6ea2715');\n",
              "          const dataTable =\n",
              "            await google.colab.kernel.invokeFunction('convertToInteractive',\n",
              "                                                     [key], {});\n",
              "          if (!dataTable) return;\n",
              "\n",
              "          const docLinkHtml = 'Like what you see? Visit the ' +\n",
              "            '<a target=\"_blank\" href=https://colab.research.google.com/notebooks/data_table.ipynb>data table notebook</a>'\n",
              "            + ' to learn more about interactive tables.';\n",
              "          element.innerHTML = '';\n",
              "          dataTable['output_type'] = 'display_data';\n",
              "          await google.colab.output.renderOutput(dataTable, element);\n",
              "          const docLink = document.createElement('div');\n",
              "          docLink.innerHTML = docLinkHtml;\n",
              "          element.appendChild(docLink);\n",
              "        }\n",
              "      </script>\n",
              "    </div>\n",
              "  </div>\n",
              "  "
            ]
          },
          "metadata": {},
          "execution_count": 68
        }
      ]
    },
    {
      "cell_type": "markdown",
      "source": [
        "# Imprima algunos valores de ejemplos\n",
        "\n",
        "Use `tail()` para imprimir algunos valores.\n",
        "\n",
        "Fíjese en las columnas del dataset."
      ],
      "metadata": {
        "id": "4YyrHo1A5lCK"
      }
    },
    {
      "cell_type": "markdown",
      "source": [
        "### Solución"
      ],
      "metadata": {
        "id": "fh4WS8yx50s4"
      }
    },
    {
      "cell_type": "code",
      "source": [
        "data_music.tail()"
      ],
      "metadata": {
        "id": "ONRHXJiT2H3p",
        "colab": {
          "base_uri": "https://localhost:8080/",
          "height": 206
        },
        "outputId": "bf94ee4c-f15f-4a3a-9de3-9f2cda8929a3"
      },
      "execution_count": 69,
      "outputs": [
        {
          "output_type": "execute_result",
          "data": {
            "text/plain": [
              "              date  rank                                 song  \\\n",
              "330082  1958-08-04    96                        Over And Over   \n",
              "330083  1958-08-04    97                     I Believe In You   \n",
              "330084  1958-08-04    98                      Little Serenade   \n",
              "330085  1958-08-04    99  I'll Get By (As Long As I Have You)   \n",
              "330086  1958-08-04   100                                 Judy   \n",
              "\n",
              "                   artist  last-week  peak-rank  weeks-on-board  \n",
              "330082    Thurston Harris        NaN         96               1  \n",
              "330083    Robert & Johnny        NaN         97               1  \n",
              "330084  The Ames Brothers        NaN         98               1  \n",
              "330085     Billy Williams        NaN         99               1  \n",
              "330086    Frankie Vaughan        NaN        100               1  "
            ],
            "text/html": [
              "\n",
              "  <div id=\"df-b6c84fca-0404-4168-a747-65c27866543e\">\n",
              "    <div class=\"colab-df-container\">\n",
              "      <div>\n",
              "<style scoped>\n",
              "    .dataframe tbody tr th:only-of-type {\n",
              "        vertical-align: middle;\n",
              "    }\n",
              "\n",
              "    .dataframe tbody tr th {\n",
              "        vertical-align: top;\n",
              "    }\n",
              "\n",
              "    .dataframe thead th {\n",
              "        text-align: right;\n",
              "    }\n",
              "</style>\n",
              "<table border=\"1\" class=\"dataframe\">\n",
              "  <thead>\n",
              "    <tr style=\"text-align: right;\">\n",
              "      <th></th>\n",
              "      <th>date</th>\n",
              "      <th>rank</th>\n",
              "      <th>song</th>\n",
              "      <th>artist</th>\n",
              "      <th>last-week</th>\n",
              "      <th>peak-rank</th>\n",
              "      <th>weeks-on-board</th>\n",
              "    </tr>\n",
              "  </thead>\n",
              "  <tbody>\n",
              "    <tr>\n",
              "      <th>330082</th>\n",
              "      <td>1958-08-04</td>\n",
              "      <td>96</td>\n",
              "      <td>Over And Over</td>\n",
              "      <td>Thurston Harris</td>\n",
              "      <td>NaN</td>\n",
              "      <td>96</td>\n",
              "      <td>1</td>\n",
              "    </tr>\n",
              "    <tr>\n",
              "      <th>330083</th>\n",
              "      <td>1958-08-04</td>\n",
              "      <td>97</td>\n",
              "      <td>I Believe In You</td>\n",
              "      <td>Robert &amp; Johnny</td>\n",
              "      <td>NaN</td>\n",
              "      <td>97</td>\n",
              "      <td>1</td>\n",
              "    </tr>\n",
              "    <tr>\n",
              "      <th>330084</th>\n",
              "      <td>1958-08-04</td>\n",
              "      <td>98</td>\n",
              "      <td>Little Serenade</td>\n",
              "      <td>The Ames Brothers</td>\n",
              "      <td>NaN</td>\n",
              "      <td>98</td>\n",
              "      <td>1</td>\n",
              "    </tr>\n",
              "    <tr>\n",
              "      <th>330085</th>\n",
              "      <td>1958-08-04</td>\n",
              "      <td>99</td>\n",
              "      <td>I'll Get By (As Long As I Have You)</td>\n",
              "      <td>Billy Williams</td>\n",
              "      <td>NaN</td>\n",
              "      <td>99</td>\n",
              "      <td>1</td>\n",
              "    </tr>\n",
              "    <tr>\n",
              "      <th>330086</th>\n",
              "      <td>1958-08-04</td>\n",
              "      <td>100</td>\n",
              "      <td>Judy</td>\n",
              "      <td>Frankie Vaughan</td>\n",
              "      <td>NaN</td>\n",
              "      <td>100</td>\n",
              "      <td>1</td>\n",
              "    </tr>\n",
              "  </tbody>\n",
              "</table>\n",
              "</div>\n",
              "      <button class=\"colab-df-convert\" onclick=\"convertToInteractive('df-b6c84fca-0404-4168-a747-65c27866543e')\"\n",
              "              title=\"Convert this dataframe to an interactive table.\"\n",
              "              style=\"display:none;\">\n",
              "        \n",
              "  <svg xmlns=\"http://www.w3.org/2000/svg\" height=\"24px\"viewBox=\"0 0 24 24\"\n",
              "       width=\"24px\">\n",
              "    <path d=\"M0 0h24v24H0V0z\" fill=\"none\"/>\n",
              "    <path d=\"M18.56 5.44l.94 2.06.94-2.06 2.06-.94-2.06-.94-.94-2.06-.94 2.06-2.06.94zm-11 1L8.5 8.5l.94-2.06 2.06-.94-2.06-.94L8.5 2.5l-.94 2.06-2.06.94zm10 10l.94 2.06.94-2.06 2.06-.94-2.06-.94-.94-2.06-.94 2.06-2.06.94z\"/><path d=\"M17.41 7.96l-1.37-1.37c-.4-.4-.92-.59-1.43-.59-.52 0-1.04.2-1.43.59L10.3 9.45l-7.72 7.72c-.78.78-.78 2.05 0 2.83L4 21.41c.39.39.9.59 1.41.59.51 0 1.02-.2 1.41-.59l7.78-7.78 2.81-2.81c.8-.78.8-2.07 0-2.86zM5.41 20L4 18.59l7.72-7.72 1.47 1.35L5.41 20z\"/>\n",
              "  </svg>\n",
              "      </button>\n",
              "      \n",
              "  <style>\n",
              "    .colab-df-container {\n",
              "      display:flex;\n",
              "      flex-wrap:wrap;\n",
              "      gap: 12px;\n",
              "    }\n",
              "\n",
              "    .colab-df-convert {\n",
              "      background-color: #E8F0FE;\n",
              "      border: none;\n",
              "      border-radius: 50%;\n",
              "      cursor: pointer;\n",
              "      display: none;\n",
              "      fill: #1967D2;\n",
              "      height: 32px;\n",
              "      padding: 0 0 0 0;\n",
              "      width: 32px;\n",
              "    }\n",
              "\n",
              "    .colab-df-convert:hover {\n",
              "      background-color: #E2EBFA;\n",
              "      box-shadow: 0px 1px 2px rgba(60, 64, 67, 0.3), 0px 1px 3px 1px rgba(60, 64, 67, 0.15);\n",
              "      fill: #174EA6;\n",
              "    }\n",
              "\n",
              "    [theme=dark] .colab-df-convert {\n",
              "      background-color: #3B4455;\n",
              "      fill: #D2E3FC;\n",
              "    }\n",
              "\n",
              "    [theme=dark] .colab-df-convert:hover {\n",
              "      background-color: #434B5C;\n",
              "      box-shadow: 0px 1px 3px 1px rgba(0, 0, 0, 0.15);\n",
              "      filter: drop-shadow(0px 1px 2px rgba(0, 0, 0, 0.3));\n",
              "      fill: #FFFFFF;\n",
              "    }\n",
              "  </style>\n",
              "\n",
              "      <script>\n",
              "        const buttonEl =\n",
              "          document.querySelector('#df-b6c84fca-0404-4168-a747-65c27866543e button.colab-df-convert');\n",
              "        buttonEl.style.display =\n",
              "          google.colab.kernel.accessAllowed ? 'block' : 'none';\n",
              "\n",
              "        async function convertToInteractive(key) {\n",
              "          const element = document.querySelector('#df-b6c84fca-0404-4168-a747-65c27866543e');\n",
              "          const dataTable =\n",
              "            await google.colab.kernel.invokeFunction('convertToInteractive',\n",
              "                                                     [key], {});\n",
              "          if (!dataTable) return;\n",
              "\n",
              "          const docLinkHtml = 'Like what you see? Visit the ' +\n",
              "            '<a target=\"_blank\" href=https://colab.research.google.com/notebooks/data_table.ipynb>data table notebook</a>'\n",
              "            + ' to learn more about interactive tables.';\n",
              "          element.innerHTML = '';\n",
              "          dataTable['output_type'] = 'display_data';\n",
              "          await google.colab.output.renderOutput(dataTable, element);\n",
              "          const docLink = document.createElement('div');\n",
              "          docLink.innerHTML = docLinkHtml;\n",
              "          element.appendChild(docLink);\n",
              "        }\n",
              "      </script>\n",
              "    </div>\n",
              "  </div>\n",
              "  "
            ]
          },
          "metadata": {},
          "execution_count": 69
        }
      ]
    },
    {
      "cell_type": "code",
      "source": [
        "#también puedo ver la cabeza de mi dataframe\n",
        "data_music.head()"
      ],
      "metadata": {
        "colab": {
          "base_uri": "https://localhost:8080/",
          "height": 206
        },
        "id": "L1C0JPRe7BG2",
        "outputId": "a96663d6-a7e7-4a06-950d-3555bf6a9a79"
      },
      "execution_count": 70,
      "outputs": [
        {
          "output_type": "execute_result",
          "data": {
            "text/plain": [
              "         date  rank           song                         artist  last-week  \\\n",
              "0  2021-11-06     1     Easy On Me                          Adele        1.0   \n",
              "1  2021-11-06     2           Stay  The Kid LAROI & Justin Bieber        2.0   \n",
              "2  2021-11-06     3  Industry Baby        Lil Nas X & Jack Harlow        3.0   \n",
              "3  2021-11-06     4     Fancy Like                   Walker Hayes        4.0   \n",
              "4  2021-11-06     5     Bad Habits                     Ed Sheeran        5.0   \n",
              "\n",
              "   peak-rank  weeks-on-board  \n",
              "0          1               3  \n",
              "1          1              16  \n",
              "2          1              14  \n",
              "3          3              19  \n",
              "4          2              18  "
            ],
            "text/html": [
              "\n",
              "  <div id=\"df-46599e3d-a64d-4804-8992-75f6ce8db993\">\n",
              "    <div class=\"colab-df-container\">\n",
              "      <div>\n",
              "<style scoped>\n",
              "    .dataframe tbody tr th:only-of-type {\n",
              "        vertical-align: middle;\n",
              "    }\n",
              "\n",
              "    .dataframe tbody tr th {\n",
              "        vertical-align: top;\n",
              "    }\n",
              "\n",
              "    .dataframe thead th {\n",
              "        text-align: right;\n",
              "    }\n",
              "</style>\n",
              "<table border=\"1\" class=\"dataframe\">\n",
              "  <thead>\n",
              "    <tr style=\"text-align: right;\">\n",
              "      <th></th>\n",
              "      <th>date</th>\n",
              "      <th>rank</th>\n",
              "      <th>song</th>\n",
              "      <th>artist</th>\n",
              "      <th>last-week</th>\n",
              "      <th>peak-rank</th>\n",
              "      <th>weeks-on-board</th>\n",
              "    </tr>\n",
              "  </thead>\n",
              "  <tbody>\n",
              "    <tr>\n",
              "      <th>0</th>\n",
              "      <td>2021-11-06</td>\n",
              "      <td>1</td>\n",
              "      <td>Easy On Me</td>\n",
              "      <td>Adele</td>\n",
              "      <td>1.0</td>\n",
              "      <td>1</td>\n",
              "      <td>3</td>\n",
              "    </tr>\n",
              "    <tr>\n",
              "      <th>1</th>\n",
              "      <td>2021-11-06</td>\n",
              "      <td>2</td>\n",
              "      <td>Stay</td>\n",
              "      <td>The Kid LAROI &amp; Justin Bieber</td>\n",
              "      <td>2.0</td>\n",
              "      <td>1</td>\n",
              "      <td>16</td>\n",
              "    </tr>\n",
              "    <tr>\n",
              "      <th>2</th>\n",
              "      <td>2021-11-06</td>\n",
              "      <td>3</td>\n",
              "      <td>Industry Baby</td>\n",
              "      <td>Lil Nas X &amp; Jack Harlow</td>\n",
              "      <td>3.0</td>\n",
              "      <td>1</td>\n",
              "      <td>14</td>\n",
              "    </tr>\n",
              "    <tr>\n",
              "      <th>3</th>\n",
              "      <td>2021-11-06</td>\n",
              "      <td>4</td>\n",
              "      <td>Fancy Like</td>\n",
              "      <td>Walker Hayes</td>\n",
              "      <td>4.0</td>\n",
              "      <td>3</td>\n",
              "      <td>19</td>\n",
              "    </tr>\n",
              "    <tr>\n",
              "      <th>4</th>\n",
              "      <td>2021-11-06</td>\n",
              "      <td>5</td>\n",
              "      <td>Bad Habits</td>\n",
              "      <td>Ed Sheeran</td>\n",
              "      <td>5.0</td>\n",
              "      <td>2</td>\n",
              "      <td>18</td>\n",
              "    </tr>\n",
              "  </tbody>\n",
              "</table>\n",
              "</div>\n",
              "      <button class=\"colab-df-convert\" onclick=\"convertToInteractive('df-46599e3d-a64d-4804-8992-75f6ce8db993')\"\n",
              "              title=\"Convert this dataframe to an interactive table.\"\n",
              "              style=\"display:none;\">\n",
              "        \n",
              "  <svg xmlns=\"http://www.w3.org/2000/svg\" height=\"24px\"viewBox=\"0 0 24 24\"\n",
              "       width=\"24px\">\n",
              "    <path d=\"M0 0h24v24H0V0z\" fill=\"none\"/>\n",
              "    <path d=\"M18.56 5.44l.94 2.06.94-2.06 2.06-.94-2.06-.94-.94-2.06-.94 2.06-2.06.94zm-11 1L8.5 8.5l.94-2.06 2.06-.94-2.06-.94L8.5 2.5l-.94 2.06-2.06.94zm10 10l.94 2.06.94-2.06 2.06-.94-2.06-.94-.94-2.06-.94 2.06-2.06.94z\"/><path d=\"M17.41 7.96l-1.37-1.37c-.4-.4-.92-.59-1.43-.59-.52 0-1.04.2-1.43.59L10.3 9.45l-7.72 7.72c-.78.78-.78 2.05 0 2.83L4 21.41c.39.39.9.59 1.41.59.51 0 1.02-.2 1.41-.59l7.78-7.78 2.81-2.81c.8-.78.8-2.07 0-2.86zM5.41 20L4 18.59l7.72-7.72 1.47 1.35L5.41 20z\"/>\n",
              "  </svg>\n",
              "      </button>\n",
              "      \n",
              "  <style>\n",
              "    .colab-df-container {\n",
              "      display:flex;\n",
              "      flex-wrap:wrap;\n",
              "      gap: 12px;\n",
              "    }\n",
              "\n",
              "    .colab-df-convert {\n",
              "      background-color: #E8F0FE;\n",
              "      border: none;\n",
              "      border-radius: 50%;\n",
              "      cursor: pointer;\n",
              "      display: none;\n",
              "      fill: #1967D2;\n",
              "      height: 32px;\n",
              "      padding: 0 0 0 0;\n",
              "      width: 32px;\n",
              "    }\n",
              "\n",
              "    .colab-df-convert:hover {\n",
              "      background-color: #E2EBFA;\n",
              "      box-shadow: 0px 1px 2px rgba(60, 64, 67, 0.3), 0px 1px 3px 1px rgba(60, 64, 67, 0.15);\n",
              "      fill: #174EA6;\n",
              "    }\n",
              "\n",
              "    [theme=dark] .colab-df-convert {\n",
              "      background-color: #3B4455;\n",
              "      fill: #D2E3FC;\n",
              "    }\n",
              "\n",
              "    [theme=dark] .colab-df-convert:hover {\n",
              "      background-color: #434B5C;\n",
              "      box-shadow: 0px 1px 3px 1px rgba(0, 0, 0, 0.15);\n",
              "      filter: drop-shadow(0px 1px 2px rgba(0, 0, 0, 0.3));\n",
              "      fill: #FFFFFF;\n",
              "    }\n",
              "  </style>\n",
              "\n",
              "      <script>\n",
              "        const buttonEl =\n",
              "          document.querySelector('#df-46599e3d-a64d-4804-8992-75f6ce8db993 button.colab-df-convert');\n",
              "        buttonEl.style.display =\n",
              "          google.colab.kernel.accessAllowed ? 'block' : 'none';\n",
              "\n",
              "        async function convertToInteractive(key) {\n",
              "          const element = document.querySelector('#df-46599e3d-a64d-4804-8992-75f6ce8db993');\n",
              "          const dataTable =\n",
              "            await google.colab.kernel.invokeFunction('convertToInteractive',\n",
              "                                                     [key], {});\n",
              "          if (!dataTable) return;\n",
              "\n",
              "          const docLinkHtml = 'Like what you see? Visit the ' +\n",
              "            '<a target=\"_blank\" href=https://colab.research.google.com/notebooks/data_table.ipynb>data table notebook</a>'\n",
              "            + ' to learn more about interactive tables.';\n",
              "          element.innerHTML = '';\n",
              "          dataTable['output_type'] = 'display_data';\n",
              "          await google.colab.output.renderOutput(dataTable, element);\n",
              "          const docLink = document.createElement('div');\n",
              "          docLink.innerHTML = docLinkHtml;\n",
              "          element.appendChild(docLink);\n",
              "        }\n",
              "      </script>\n",
              "    </div>\n",
              "  </div>\n",
              "  "
            ]
          },
          "metadata": {},
          "execution_count": 70
        }
      ]
    },
    {
      "cell_type": "markdown",
      "source": [
        "# Calcule los top 30 artistas\n",
        "\n",
        "Puede usar la función `value_counts()` y `head(...)`.\n",
        "\n",
        "Fíjese en usar la columna correspondiente."
      ],
      "metadata": {
        "id": "G7NVJXqd6Law"
      }
    },
    {
      "cell_type": "markdown",
      "source": [
        "### Solución"
      ],
      "metadata": {
        "id": "Xqw6PZFl5_Kw"
      }
    },
    {
      "cell_type": "code",
      "source": [
        "#cuento el número de veces que aparece el artista y pido que me muestre el encabezado pero hasta 30,\n",
        "#obteniendo un listado de los 30 artistas que más canciones han salido en el ranking\n",
        "data_music.value_counts(['artist']).head(30)\n",
        "\n"
      ],
      "metadata": {
        "id": "X0nU2tOr2Kwg",
        "colab": {
          "base_uri": "https://localhost:8080/"
        },
        "outputId": "5d0285cb-9b57-4b51-9026-397078e6733f"
      },
      "execution_count": 71,
      "outputs": [
        {
          "output_type": "execute_result",
          "data": {
            "text/plain": [
              "artist               \n",
              "Taylor Swift             1023\n",
              "Elton John                889\n",
              "Madonna                   857\n",
              "Drake                     787\n",
              "Kenny Chesney             769\n",
              "Tim McGraw                731\n",
              "Keith Urban               673\n",
              "Stevie Wonder             659\n",
              "Rod Stewart               657\n",
              "Mariah Carey              621\n",
              "Michael Jackson           611\n",
              "Chicago                   607\n",
              "Rascal Flatts             604\n",
              "Billy Joel                588\n",
              "The Rolling Stones        585\n",
              "The Beatles               585\n",
              "Jason Aldean              572\n",
              "Aretha Franklin           569\n",
              "Rihanna                   566\n",
              "P!nk                      564\n",
              "Whitney Houston           561\n",
              "Brad Paisley              559\n",
              "Neil Diamond              553\n",
              "George Strait             553\n",
              "Luke Bryan                543\n",
              "Carrie Underwood          541\n",
              "Daryl Hall John Oates     540\n",
              "The Beach Boys            531\n",
              "Toby Keith                526\n",
              "Bee Gees                  516\n",
              "dtype: int64"
            ]
          },
          "metadata": {},
          "execution_count": 71
        }
      ]
    },
    {
      "cell_type": "markdown",
      "source": [
        "# Muestre el top 15 de canciones junto con su cantante"
      ],
      "metadata": {
        "id": "bhOxZGyxEz24"
      }
    },
    {
      "cell_type": "markdown",
      "source": [
        "### Solución"
      ],
      "metadata": {
        "id": "Vx3hbPo06AIc"
      }
    },
    {
      "cell_type": "code",
      "source": [
        "# miro a ver cuantas veces sale la canción\n",
        "#ojito que una misma canción la pueden cantar varios artistas diferentes y un mismo artista puede \n",
        "#cantar varias canciones que estén dentro de este ranking\n",
        "\n",
        "data_music.value_counts('song').head(15)"
      ],
      "metadata": {
        "colab": {
          "base_uri": "https://localhost:8080/"
        },
        "id": "Zy1QNG0DMAmL",
        "outputId": "9a19ad3f-2615-43d7-fba2-94a452095905"
      },
      "execution_count": 72,
      "outputs": [
        {
          "output_type": "execute_result",
          "data": {
            "text/plain": [
              "song\n",
              "Stay               224\n",
              "Angel              205\n",
              "Hold On            202\n",
              "You                195\n",
              "Heaven             194\n",
              "I Like It          188\n",
              "Crazy              176\n",
              "Without You        174\n",
              "Forever            164\n",
              "Happy              157\n",
              "Home               152\n",
              "Please Don't Go    152\n",
              "Someday            149\n",
              "Lady               146\n",
              "Smile              142\n",
              "dtype: int64"
            ]
          },
          "metadata": {},
          "execution_count": 72
        }
      ]
    },
    {
      "cell_type": "markdown",
      "source": [
        "#revisar el notebook de ascii"
      ],
      "metadata": {
        "id": "-JqN2HTePa6G"
      }
    },
    {
      "cell_type": "code",
      "source": [
        "# ## como se puede enlazar un count a otra columna!! \n",
        "#  valor_asociado = tabla_ASCII[tabla_ASCII[\"Decimal\"] == str(valor)][\"Caracter\"].tolist()[0]\n",
        "#  ##otra manera distinta de hacerlo!!\n",
        "#  valor_asociado = tabla_ASCII[tabla_ASCII[\"Decimal\"] == str(valor)].loc[0,\"Caracter\"]"
      ],
      "metadata": {
        "id": "JU8AzIcMO9vi"
      },
      "execution_count": 73,
      "outputs": []
    },
    {
      "cell_type": "code",
      "source": [
        "data_music[['artist', 'song']].value_counts().head(15)"
      ],
      "metadata": {
        "id": "K4SYarj52NB4",
        "colab": {
          "base_uri": "https://localhost:8080/"
        },
        "outputId": "732b85d2-d36a-41ea-b82a-7f995e5a2ed9"
      },
      "execution_count": 74,
      "outputs": [
        {
          "output_type": "execute_result",
          "data": {
            "text/plain": [
              "artist                                     song                               \n",
              "The Weeknd                                 Blinding Lights                        90\n",
              "Imagine Dragons                            Radioactive                            87\n",
              "AWOLNATION                                 Sail                                   79\n",
              "Jason Mraz                                 I'm Yours                              76\n",
              "LeAnn Rimes                                How Do I Live                          69\n",
              "LMFAO Featuring Lauren Bennett & GoonRock  Party Rock Anthem                      68\n",
              "OneRepublic                                Counting Stars                         68\n",
              "Jewel                                      Foolish Games/You Were Meant For Me    65\n",
              "Adele                                      Rolling In The Deep                    65\n",
              "Carrie Underwood                           Before He Cheats                       64\n",
              "The Lumineers                              Ho Hey                                 62\n",
              "Lifehouse                                  You And Me                             62\n",
              "Gabby Barrett Featuring Charlie Puth       I Hope                                 62\n",
              "Post Malone                                Circles                                61\n",
              "Imagine Dragons                            Demons                                 61\n",
              "dtype: int64"
            ]
          },
          "metadata": {},
          "execution_count": 74
        }
      ]
    },
    {
      "cell_type": "markdown",
      "source": [
        "#Muestre el top 10 de los artistas, canciones y su mejor posición"
      ],
      "metadata": {
        "id": "-oAbLlC6GECY"
      }
    },
    {
      "cell_type": "markdown",
      "source": [
        "### Solución"
      ],
      "metadata": {
        "id": "J4THpiAz6BeQ"
      }
    },
    {
      "cell_type": "code",
      "source": [
        "data_music[['artist', 'song', 'peak-rank']].value_counts().head(10)"
      ],
      "metadata": {
        "id": "f7PNQkxY2OvQ",
        "colab": {
          "base_uri": "https://localhost:8080/"
        },
        "outputId": "7431f054-23df-40ad-e62d-114623ee8db2"
      },
      "execution_count": 86,
      "outputs": [
        {
          "output_type": "execute_result",
          "data": {
            "text/plain": [
              "artist                                     song                     peak-rank\n",
              "The Weeknd                                 Blinding Lights          1            74\n",
              "Ed Sheeran                                 Shape Of You             1            58\n",
              "Jason Mraz                                 I'm Yours                6            56\n",
              "LMFAO Featuring Lauren Bennett & GoonRock  Party Rock Anthem        1            54\n",
              "The Black Eyed Peas                        I Gotta Feeling          1            54\n",
              "Justin Timberlake                          Can't Stop The Feeling!  1            52\n",
              "Taylor Swift                               Shake It Off             1            50\n",
              "The Chainsmokers Featuring Halsey          Closer                   1            50\n",
              "Post Malone                                Circles                  1            50\n",
              "Mark Ronson Featuring Bruno Mars           Uptown Funk!             1            49\n",
              "dtype: int64"
            ]
          },
          "metadata": {},
          "execution_count": 86
        }
      ]
    },
    {
      "cell_type": "markdown",
      "source": [
        "# Artistas más reproducidos por semanas\n",
        "\n",
        "Transforme la columna `date` en `datetime`.\n",
        "\n",
        "Use  `set_index` para crear un índice en la columna `date`.\n",
        "\n",
        "Imprima el dataframe con el nuevo índice."
      ],
      "metadata": {
        "id": "m3qFQIbDGrpx"
      }
    },
    {
      "cell_type": "markdown",
      "source": [
        "### Solución"
      ],
      "metadata": {
        "id": "Xd9km70s6Cow"
      }
    },
    {
      "cell_type": "code",
      "source": [
        "#me creo un dataFrame unicamente con artista, fecha y semanas en listas, y de ahí ordeno por fechas--NO ESTÁ BIEN\n",
        "## solución: los artistas que más aparezcan en la misma date son los más reproducidos!!\n",
        "data_music[['artist', 'date', 'weeks-on-board']].sort_values('weeks-on-board')"
      ],
      "metadata": {
        "id": "si1myOFC2QpY",
        "colab": {
          "base_uri": "https://localhost:8080/",
          "height": 423
        },
        "outputId": "3b75f465-60fb-4d65-dbba-6b483886e88f"
      },
      "execution_count": 92,
      "outputs": [
        {
          "output_type": "execute_result",
          "data": {
            "text/plain": [
              "                                artist        date  weeks-on-board\n",
              "330086                 Frankie Vaughan  1958-08-04               1\n",
              "39799   Disclosure Featuring Sam Smith  2014-03-29               1\n",
              "233197                        Charlene  1977-03-05               1\n",
              "233195                           Exile  1977-03-05               1\n",
              "233193                    The Rubinoos  1977-03-05               1\n",
              "...                                ...         ...             ...\n",
              "1215                        The Weeknd  2021-08-14              87\n",
              "39148                  Imagine Dragons  2014-05-10              87\n",
              "1117                        The Weeknd  2021-08-21              88\n",
              "1020                        The Weeknd  2021-08-28              89\n",
              "919                         The Weeknd  2021-09-04              90\n",
              "\n",
              "[330087 rows x 3 columns]"
            ],
            "text/html": [
              "\n",
              "  <div id=\"df-ffde9c2a-3a4f-4c58-92db-3fa7d2e17567\">\n",
              "    <div class=\"colab-df-container\">\n",
              "      <div>\n",
              "<style scoped>\n",
              "    .dataframe tbody tr th:only-of-type {\n",
              "        vertical-align: middle;\n",
              "    }\n",
              "\n",
              "    .dataframe tbody tr th {\n",
              "        vertical-align: top;\n",
              "    }\n",
              "\n",
              "    .dataframe thead th {\n",
              "        text-align: right;\n",
              "    }\n",
              "</style>\n",
              "<table border=\"1\" class=\"dataframe\">\n",
              "  <thead>\n",
              "    <tr style=\"text-align: right;\">\n",
              "      <th></th>\n",
              "      <th>artist</th>\n",
              "      <th>date</th>\n",
              "      <th>weeks-on-board</th>\n",
              "    </tr>\n",
              "  </thead>\n",
              "  <tbody>\n",
              "    <tr>\n",
              "      <th>330086</th>\n",
              "      <td>Frankie Vaughan</td>\n",
              "      <td>1958-08-04</td>\n",
              "      <td>1</td>\n",
              "    </tr>\n",
              "    <tr>\n",
              "      <th>39799</th>\n",
              "      <td>Disclosure Featuring Sam Smith</td>\n",
              "      <td>2014-03-29</td>\n",
              "      <td>1</td>\n",
              "    </tr>\n",
              "    <tr>\n",
              "      <th>233197</th>\n",
              "      <td>Charlene</td>\n",
              "      <td>1977-03-05</td>\n",
              "      <td>1</td>\n",
              "    </tr>\n",
              "    <tr>\n",
              "      <th>233195</th>\n",
              "      <td>Exile</td>\n",
              "      <td>1977-03-05</td>\n",
              "      <td>1</td>\n",
              "    </tr>\n",
              "    <tr>\n",
              "      <th>233193</th>\n",
              "      <td>The Rubinoos</td>\n",
              "      <td>1977-03-05</td>\n",
              "      <td>1</td>\n",
              "    </tr>\n",
              "    <tr>\n",
              "      <th>...</th>\n",
              "      <td>...</td>\n",
              "      <td>...</td>\n",
              "      <td>...</td>\n",
              "    </tr>\n",
              "    <tr>\n",
              "      <th>1215</th>\n",
              "      <td>The Weeknd</td>\n",
              "      <td>2021-08-14</td>\n",
              "      <td>87</td>\n",
              "    </tr>\n",
              "    <tr>\n",
              "      <th>39148</th>\n",
              "      <td>Imagine Dragons</td>\n",
              "      <td>2014-05-10</td>\n",
              "      <td>87</td>\n",
              "    </tr>\n",
              "    <tr>\n",
              "      <th>1117</th>\n",
              "      <td>The Weeknd</td>\n",
              "      <td>2021-08-21</td>\n",
              "      <td>88</td>\n",
              "    </tr>\n",
              "    <tr>\n",
              "      <th>1020</th>\n",
              "      <td>The Weeknd</td>\n",
              "      <td>2021-08-28</td>\n",
              "      <td>89</td>\n",
              "    </tr>\n",
              "    <tr>\n",
              "      <th>919</th>\n",
              "      <td>The Weeknd</td>\n",
              "      <td>2021-09-04</td>\n",
              "      <td>90</td>\n",
              "    </tr>\n",
              "  </tbody>\n",
              "</table>\n",
              "<p>330087 rows × 3 columns</p>\n",
              "</div>\n",
              "      <button class=\"colab-df-convert\" onclick=\"convertToInteractive('df-ffde9c2a-3a4f-4c58-92db-3fa7d2e17567')\"\n",
              "              title=\"Convert this dataframe to an interactive table.\"\n",
              "              style=\"display:none;\">\n",
              "        \n",
              "  <svg xmlns=\"http://www.w3.org/2000/svg\" height=\"24px\"viewBox=\"0 0 24 24\"\n",
              "       width=\"24px\">\n",
              "    <path d=\"M0 0h24v24H0V0z\" fill=\"none\"/>\n",
              "    <path d=\"M18.56 5.44l.94 2.06.94-2.06 2.06-.94-2.06-.94-.94-2.06-.94 2.06-2.06.94zm-11 1L8.5 8.5l.94-2.06 2.06-.94-2.06-.94L8.5 2.5l-.94 2.06-2.06.94zm10 10l.94 2.06.94-2.06 2.06-.94-2.06-.94-.94-2.06-.94 2.06-2.06.94z\"/><path d=\"M17.41 7.96l-1.37-1.37c-.4-.4-.92-.59-1.43-.59-.52 0-1.04.2-1.43.59L10.3 9.45l-7.72 7.72c-.78.78-.78 2.05 0 2.83L4 21.41c.39.39.9.59 1.41.59.51 0 1.02-.2 1.41-.59l7.78-7.78 2.81-2.81c.8-.78.8-2.07 0-2.86zM5.41 20L4 18.59l7.72-7.72 1.47 1.35L5.41 20z\"/>\n",
              "  </svg>\n",
              "      </button>\n",
              "      \n",
              "  <style>\n",
              "    .colab-df-container {\n",
              "      display:flex;\n",
              "      flex-wrap:wrap;\n",
              "      gap: 12px;\n",
              "    }\n",
              "\n",
              "    .colab-df-convert {\n",
              "      background-color: #E8F0FE;\n",
              "      border: none;\n",
              "      border-radius: 50%;\n",
              "      cursor: pointer;\n",
              "      display: none;\n",
              "      fill: #1967D2;\n",
              "      height: 32px;\n",
              "      padding: 0 0 0 0;\n",
              "      width: 32px;\n",
              "    }\n",
              "\n",
              "    .colab-df-convert:hover {\n",
              "      background-color: #E2EBFA;\n",
              "      box-shadow: 0px 1px 2px rgba(60, 64, 67, 0.3), 0px 1px 3px 1px rgba(60, 64, 67, 0.15);\n",
              "      fill: #174EA6;\n",
              "    }\n",
              "\n",
              "    [theme=dark] .colab-df-convert {\n",
              "      background-color: #3B4455;\n",
              "      fill: #D2E3FC;\n",
              "    }\n",
              "\n",
              "    [theme=dark] .colab-df-convert:hover {\n",
              "      background-color: #434B5C;\n",
              "      box-shadow: 0px 1px 3px 1px rgba(0, 0, 0, 0.15);\n",
              "      filter: drop-shadow(0px 1px 2px rgba(0, 0, 0, 0.3));\n",
              "      fill: #FFFFFF;\n",
              "    }\n",
              "  </style>\n",
              "\n",
              "      <script>\n",
              "        const buttonEl =\n",
              "          document.querySelector('#df-ffde9c2a-3a4f-4c58-92db-3fa7d2e17567 button.colab-df-convert');\n",
              "        buttonEl.style.display =\n",
              "          google.colab.kernel.accessAllowed ? 'block' : 'none';\n",
              "\n",
              "        async function convertToInteractive(key) {\n",
              "          const element = document.querySelector('#df-ffde9c2a-3a4f-4c58-92db-3fa7d2e17567');\n",
              "          const dataTable =\n",
              "            await google.colab.kernel.invokeFunction('convertToInteractive',\n",
              "                                                     [key], {});\n",
              "          if (!dataTable) return;\n",
              "\n",
              "          const docLinkHtml = 'Like what you see? Visit the ' +\n",
              "            '<a target=\"_blank\" href=https://colab.research.google.com/notebooks/data_table.ipynb>data table notebook</a>'\n",
              "            + ' to learn more about interactive tables.';\n",
              "          element.innerHTML = '';\n",
              "          dataTable['output_type'] = 'display_data';\n",
              "          await google.colab.output.renderOutput(dataTable, element);\n",
              "          const docLink = document.createElement('div');\n",
              "          docLink.innerHTML = docLinkHtml;\n",
              "          element.appendChild(docLink);\n",
              "        }\n",
              "      </script>\n",
              "    </div>\n",
              "  </div>\n",
              "  "
            ]
          },
          "metadata": {},
          "execution_count": 92
        }
      ]
    },
    {
      "cell_type": "markdown",
      "source": [
        "# Encuentre los más y menos escuchados según un intervalo de tiempo\n",
        "\n",
        "Puede usar `resample(frecuencia)[columna]`. \n",
        "\n",
        "Las frecuencias que puede usar son:\n",
        "* H - Horaria\n",
        "* D - Diaria\n",
        "* W - Semanal\n",
        "* M - Mensual\n",
        "* A - Anual\n",
        "\n",
        "Puede usar `.agg([columnas])` para agregar los datos"
      ],
      "metadata": {
        "id": "StJF_khaHMPx"
      }
    },
    {
      "cell_type": "markdown",
      "source": [
        "### Solución"
      ],
      "metadata": {
        "id": "wC4nmd346DxX"
      }
    },
    {
      "cell_type": "code",
      "source": [
        ""
      ],
      "metadata": {
        "id": "xHroPADM2Xio"
      },
      "execution_count": null,
      "outputs": []
    }
  ]
}