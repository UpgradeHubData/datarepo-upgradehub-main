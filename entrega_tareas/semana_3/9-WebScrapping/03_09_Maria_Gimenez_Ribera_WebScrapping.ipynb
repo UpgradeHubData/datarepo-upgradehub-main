{
  "nbformat": 4,
  "nbformat_minor": 0,
  "metadata": {
    "colab": {
      "name": "03_09_Maria_Gimenez_Ribera_WebScrapping.ipynb",
      "provenance": []
    },
    "kernelspec": {
      "name": "python3",
      "display_name": "Python 3"
    },
    "language_info": {
      "name": "python"
    }
  },
  "cells": [
    {
      "cell_type": "code",
      "source": [
        "#Si se usa Colab: \n",
        "!pip install beautifulsoup4\n",
        "!pip install lxml"
      ],
      "metadata": {
        "id": "2xudfnGsD4D_",
        "colab": {
          "base_uri": "https://localhost:8080/"
        },
        "outputId": "f58873f9-70f3-4a08-a717-966056422427"
      },
      "execution_count": 1,
      "outputs": [
        {
          "output_type": "stream",
          "name": "stdout",
          "text": [
            "Looking in indexes: https://pypi.org/simple, https://us-python.pkg.dev/colab-wheels/public/simple/\n",
            "Requirement already satisfied: beautifulsoup4 in /usr/local/lib/python3.7/dist-packages (4.6.3)\n",
            "Looking in indexes: https://pypi.org/simple, https://us-python.pkg.dev/colab-wheels/public/simple/\n",
            "Requirement already satisfied: lxml in /usr/local/lib/python3.7/dist-packages (4.2.6)\n"
          ]
        }
      ]
    },
    {
      "cell_type": "code",
      "source": [
        "# Importamos la librería request para manejar las peticiones de acceso a la web\n",
        "# y descarga de contenido.\n",
        "import requests\n",
        "# Especificamos la web\n",
        "enlace = \"https://en.wikipedia.org/wiki/Forbes%27_list_of_the_world%27s_highest-paid_athletes\"\n",
        "\n",
        "# Convertimos la web en texto\n",
        "texto_web = requests.get(enlace).text\n"
      ],
      "metadata": {
        "id": "xdFUlr4PFFDQ"
      },
      "execution_count": 30,
      "outputs": []
    },
    {
      "cell_type": "code",
      "source": [
        "from bs4 import BeautifulSoup\n",
        "sopa = BeautifulSoup(texto_web, 'lxml')\n"
      ],
      "metadata": {
        "id": "b3n2q9aAHuSG"
      },
      "execution_count": 31,
      "outputs": []
    },
    {
      "cell_type": "code",
      "source": [
        "# Ahora vamos a ir trabajando con los distintos elementos de acceso a los datos.\n",
        "# Título de la web:\n",
        "print(sopa.title)\n",
        "print(sopa.title.string)\n"
      ],
      "metadata": {
        "colab": {
          "base_uri": "https://localhost:8080/"
        },
        "id": "NZ1ZZWu2ICGp",
        "outputId": "0b8801f2-eb4e-4b94-f841-2efee1d2bc1a"
      },
      "execution_count": 5,
      "outputs": [
        {
          "output_type": "stream",
          "name": "stdout",
          "text": [
            "<title>Forbes' list of the world's highest-paid athletes - Wikipedia</title>\n",
            "Forbes' list of the world's highest-paid athletes - Wikipedia\n"
          ]
        }
      ]
    },
    {
      "cell_type": "code",
      "source": [
        "print(sopa.href)"
      ],
      "metadata": {
        "colab": {
          "base_uri": "https://localhost:8080/"
        },
        "id": "e60Tya_AInz0",
        "outputId": "fab52301-8de0-4067-8b06-f7b4c793e402"
      },
      "execution_count": 6,
      "outputs": [
        {
          "output_type": "stream",
          "name": "stdout",
          "text": [
            "None\n"
          ]
        }
      ]
    },
    {
      "cell_type": "code",
      "source": [
        "sopa.find_all(\"table\")\n",
        "hola = \"\""
      ],
      "metadata": {
        "id": "cBV6aqRyIrFq"
      },
      "execution_count": 32,
      "outputs": []
    },
    {
      "cell_type": "code",
      "source": [
        "# Si queremos quitar las etiquetas de HTML usamos la siguiente función:\n",
        "print(sopa.title.string)"
      ],
      "metadata": {
        "colab": {
          "base_uri": "https://localhost:8080/"
        },
        "id": "hCJ94LxUJNrV",
        "outputId": "bfe7ac62-7619-484a-b7d9-1bddae330eae"
      },
      "execution_count": 11,
      "outputs": [
        {
          "output_type": "stream",
          "name": "stdout",
          "text": [
            "Forbes' list of the world's highest-paid athletes - Wikipedia\n"
          ]
        }
      ]
    },
    {
      "cell_type": "code",
      "source": [
        "# Podemos ver los enlaces de la web a través del comando \"sopa.a\"\n",
        "sopa.a\n",
        "\n",
        "#Esto nos devuelve un único enlace, pero en la web podemos encontrar muchos..."
      ],
      "metadata": {
        "colab": {
          "base_uri": "https://localhost:8080/"
        },
        "id": "roTNzQmlPUMi",
        "outputId": "b42580c0-09a2-44e3-ee0d-832a780e9352"
      },
      "execution_count": 12,
      "outputs": [
        {
          "output_type": "execute_result",
          "data": {
            "text/plain": [
              "<a id=\"top\"></a>"
            ]
          },
          "metadata": {},
          "execution_count": 12
        }
      ]
    },
    {
      "cell_type": "code",
      "source": [
        "# Para listar todos los enlaces usamos \"sopa.find_all()\"\n",
        "sopa.find_all('a')\n",
        "hola = \"\""
      ],
      "metadata": {
        "id": "65Z_zOzzPbu0"
      },
      "execution_count": 35,
      "outputs": []
    },
    {
      "cell_type": "code",
      "source": [
        "# La información que queremos se encuentra en las tablas, vamos a recuperarlas\n",
        "tablas = sopa.find_all('table')\n"
      ],
      "metadata": {
        "id": "J2myGQIVPfa5"
      },
      "execution_count": 33,
      "outputs": []
    },
    {
      "cell_type": "code",
      "source": [
        "# Al existir varias tablas, tenemos que localizarlas.\n",
        "# Para ello tenemos 2 opciones, ver todo el código o localizar manualmente \n",
        "# inspeccionando la página web.\n",
        "\n",
        "# No todas las webs tienen la misma estructura siempre, por lo que para localizar \n",
        "# la información concreta, buscaremos inspeccionando en la web con F12.\n",
        "\n",
        "# La clase de CSS de las tablas es \"wikitable sortable\"\n",
        "\n",
        "tablas_listados_todos_anios = sopa.find_all('table', class_= 'wikitable sortable')\n"
      ],
      "metadata": {
        "id": "AB_1BVs5QcPy"
      },
      "execution_count": 34,
      "outputs": []
    },
    {
      "cell_type": "code",
      "source": [
        "# Vamos a seleccionar la primera tabla, la de 2022\n",
        "tabla_2022 = tablas_listados_todos_anios[0]\n"
      ],
      "metadata": {
        "id": "ljtusB94QI-t"
      },
      "execution_count": 29,
      "outputs": []
    },
    {
      "cell_type": "code",
      "source": [
        "# Para localizar a los deportistas, \n",
        "# vamos a transformar la tabla a una estructura dataframe de pantas\n",
        "\n",
        "import pandas as pd\n",
        "dataframe_informacion_2022 = pd.read_html(str(tabla_2022))[0]\n",
        "(dataframe_informacion_2022)\n",
        "dataframe_informacion_total = pd.read_html(str(tablas_listados_todos_anios))\n"
      ],
      "metadata": {
        "id": "9hjV_wTAQalK"
      },
      "execution_count": 28,
      "outputs": []
    },
    {
      "cell_type": "code",
      "source": [
        "!pip install XlsxWriter\n",
        "\n"
      ],
      "metadata": {
        "colab": {
          "base_uri": "https://localhost:8080/"
        },
        "id": "Wgmgi315QyEr",
        "outputId": "759f9dea-eb95-4296-add4-7d641c71208f"
      },
      "execution_count": 25,
      "outputs": [
        {
          "output_type": "stream",
          "name": "stdout",
          "text": [
            "Looking in indexes: https://pypi.org/simple, https://us-python.pkg.dev/colab-wheels/public/simple/\n",
            "Collecting XlsxWriter\n",
            "  Downloading XlsxWriter-3.0.3-py3-none-any.whl (149 kB)\n",
            "\u001b[K     |████████████████████████████████| 149 kB 29.2 MB/s \n",
            "\u001b[?25hInstalling collected packages: XlsxWriter\n",
            "Successfully installed XlsxWriter-3.0.3\n"
          ]
        }
      ]
    },
    {
      "cell_type": "code",
      "source": [
        "# Guardamos la información en el archivo:\n",
        "archivo_informacion_22 = pd.ExcelWriter('deportistas_mejor_pagados_2022.xlsx', engine='xlsxwriter')\n",
        "dataframe_informacion_2022.to_excel(archivo_informacion_22, sheet_name='List')\n",
        "archivo_informacion_22.save()"
      ],
      "metadata": {
        "id": "yMhlgnS0S6wh"
      },
      "execution_count": 26,
      "outputs": []
    },
    {
      "cell_type": "code",
      "source": [
        "#World's Billionaires\n",
        "link = \"https://en.wikipedia.org/wiki/The_World%27s_Billionaires\"\n",
        "web_text = requests.get(link).text\n"
      ],
      "metadata": {
        "id": "lgLAmLMxUVys"
      },
      "execution_count": 38,
      "outputs": []
    },
    {
      "cell_type": "code",
      "source": [
        "soup = BeautifulSoup(web_text, 'lxml')\n"
      ],
      "metadata": {
        "id": "fzXBHr32U2NE"
      },
      "execution_count": 40,
      "outputs": []
    },
    {
      "cell_type": "code",
      "source": [
        "link = \"https://en.wikipedia.org/wiki/The_World%27s_Billionaires\"\n",
        "web_text = requests.get(link).text\n",
        "soup = BeautifulSoup(web_text, 'lxml')\n",
        "\n",
        "soup.find_all(\"table\")\n",
        "import numpy as np\n",
        "tables_allyears = soup.find_all('table', class_= 'wikitable sortable')\n",
        "table_2022_richest = tables_allyears[0]\n",
        "table_2020_richest = tables_allyears[2]\n",
        "dataframe_richest_2022 = pd.read_html(str(table_2022_richest))[0]\n",
        "dataframe_richest_2020 = pd.read_html(str(table_2020_richest))[0]\n",
        "dataframe_richest_2022.describe()\n",
        "print(\"The mean age of the top 10 billionaires is \"+ str(np.mean(dataframe_richest_2020[\"Age\"]))+ \" years old in 2020 according to Forbes.\")\n",
        "\n"
      ],
      "metadata": {
        "colab": {
          "base_uri": "https://localhost:8080/"
        },
        "id": "yFxxdVoEVB5v",
        "outputId": "8a338132-6d6c-4820-f399-b8aad640cb0e"
      },
      "execution_count": 57,
      "outputs": [
        {
          "output_type": "stream",
          "name": "stdout",
          "text": [
            "The mean age of the top 10 billionaires is 69.2 years old in 2020 according to Forbes.\n"
          ]
        }
      ]
    },
    {
      "cell_type": "code",
      "source": [
        "#A qué se corresponde el número binario 01011001 en ASCII?\n",
        "binario = \"01011001\"\n",
        "int(\"010\",2)\n",
        "chr(87)\n"
      ],
      "metadata": {
        "colab": {
          "base_uri": "https://localhost:8080/",
          "height": 35
        },
        "id": "D9zmb_J2hhC0",
        "outputId": "5f86029d-b092-4181-bf9a-aa11e48763a9"
      },
      "execution_count": 69,
      "outputs": [
        {
          "output_type": "execute_result",
          "data": {
            "text/plain": [
              "'W'"
            ],
            "application/vnd.google.colaboratory.intrinsic+json": {
              "type": "string"
            }
          },
          "metadata": {},
          "execution_count": 69
        }
      ]
    },
    {
      "cell_type": "code",
      "source": [
        "def binary_to_ASCII():\n",
        "  loops = 1\n",
        "  while loops >= 1:\n",
        "    loops = 0\n",
        "    bini = input(\"What number would you like to convert? \\n\")\n",
        "    number = int(bini, 2)\n",
        "    ASCII = chr(number)\n",
        "    print(\"The character you selected is \" + str(ASCII))\n",
        "    tryagain = input(\"Would you like to try again? \\n Yes or no \\n\")\n",
        "    if tryagain == \"yes\":\n",
        "      loops += 1\n",
        "    else:\n",
        "      print(\"See you again soon!\")\n",
        "      break\n",
        "\n",
        "binary_to_ASCII()"
      ],
      "metadata": {
        "colab": {
          "base_uri": "https://localhost:8080/"
        },
        "id": "c4SMqDA1huou",
        "outputId": "592cda60-4295-4ca5-8fc4-e1c63f8f6c99"
      },
      "execution_count": 138,
      "outputs": [
        {
          "output_type": "stream",
          "name": "stdout",
          "text": [
            "What number would you like to convert? \n",
            "111111\n",
            "The character you selected is ?\n",
            "Would you like to try again? \n",
            " Yes or no \n",
            "no\n",
            "See you again soon!\n"
          ]
        }
      ]
    },
    {
      "cell_type": "code",
      "source": [
        "import numpy as np\n",
        "\n",
        "\n",
        "\n",
        "link = \"https://proyectoa.com/tabla-de-correspondencias-ascii-y-iso-8859-1/\"\n",
        "web_text = requests.get(link).text\n",
        "soup = BeautifulSoup(web_text, 'lxml')\n",
        "tables_ascii = soup.find_all('table')\n",
        "\n",
        "table_ascii1 = tables_ascii[0]\n",
        "dataframe_ascii = pd.read_html(str(table_ascii1))[0]\n",
        "hola = dataframe_ascii.describe()\n",
        "print(type(dataframe_ascii))\n",
        "tabla_ASCII = pd.read_html(link)[0]\n",
        "\n",
        "\n",
        "\n",
        "print(tabla_ASCII[3].iloc[89+2])\n",
        "#dataframe_richest_2022 = pd.read_html(str(table_2022_richest))[0]\n",
        "#dataframe_richest_2022.describe()\n",
        "#(\"The mean age of the top 10 billionaires is \"+ str(np.mean(dataframe_richest_2020[\"Age\"]))+ \" years old in 2020 according to Forbes.\")"
      ],
      "metadata": {
        "colab": {
          "base_uri": "https://localhost:8080/"
        },
        "id": "4JXHtzEfmB68",
        "outputId": "878c872e-d22f-4934-d58d-8ccd76a01865"
      },
      "execution_count": 165,
      "outputs": [
        {
          "output_type": "stream",
          "name": "stdout",
          "text": [
            "<class 'pandas.core.frame.DataFrame'>\n",
            "Y\n"
          ]
        }
      ]
    },
    {
      "cell_type": "code",
      "source": [
        "def binary_to_ASCII():\n",
        "  loops = 1\n",
        "  while loops >= 1:\n",
        "    loops = 0\n",
        "    bini = input(\"What number would you like to convert? \\n\")\n",
        "    number = int(bini, 2)\n",
        "    ASCII = tabla_ASCII[3].iloc[number + 2]\n",
        "    print(\"The character you selected is \" + str(ASCII))\n",
        "    tryagain = input(\"Would you like to try again? \\n Yes or no \\n\")\n",
        "    if tryagain == \"yes\":\n",
        "      loops += 1\n",
        "    else:\n",
        "      print(\"See you again soon!\")\n",
        "      break\n",
        "\n",
        "binary_to_ASCII()"
      ],
      "metadata": {
        "colab": {
          "base_uri": "https://localhost:8080/"
        },
        "id": "zcxreSeHpRV9",
        "outputId": "f9cac1f7-9931-4fdc-c067-a073488f4fe6"
      },
      "execution_count": 143,
      "outputs": [
        {
          "output_type": "stream",
          "name": "stdout",
          "text": [
            "What number would you like to convert? \n",
            "1111\n",
            "The character you selected is DLE\n",
            "Would you like to try again? \n",
            " Yes or no \n",
            "yes\n",
            "What number would you like to convert? \n",
            "01011001\n",
            "The character you selected is Y\n",
            "Would you like to try again? \n",
            " Yes or no \n",
            "no\n",
            "See you again soon!\n"
          ]
        }
      ]
    },
    {
      "cell_type": "code",
      "source": [
        "link = \"https://vandal.elespanol.com/guias/guia-league-of-legends-trucos-consejos-y-secretos/objetos\"\n",
        "webtext = requests.get(link).text\n",
        "data_lol = pd.read_html(link)[0]\n",
        "sopa = BeautifulSoup(webtext, \"lxml\")\n",
        "tablas_lol = sopa.find_all(\"table\", class_= \"table t08\")\n",
        "tabla_oro = tablas_lol[1]\n",
        "data_oro = pd.read_html(str(tabla_oro))[0]\n",
        "nuevo_oro = data_oro.replace(300,3000)\n",
        "print(data_oro.describe())\n",
        "#import numpy as np\n",
        "#tables_allyears = soup.find_all('table', class_= 'wikitable sortable')\n",
        "#table_2022_richest = tables_allyears[0]\n",
        "#table_2020_richest = tables_allyears[2]\n",
        "#dataframe_richest_2022 = pd.read_html(str(table_2022_richest))[0]\n",
        "#dataframe_richest_2020 = pd.read_html(str(table_2020_richest))[0]\n",
        "#dataframe_richest_2022.describe()"
      ],
      "metadata": {
        "colab": {
          "base_uri": "https://localhost:8080/"
        },
        "id": "ZHwCgB3lyWYw",
        "outputId": "c4734a8b-6e52-406a-e3ae-4d98052ba38a"
      },
      "execution_count": 168,
      "outputs": [
        {
          "output_type": "stream",
          "name": "stdout",
          "text": [
            "       Coste de oro\n",
            "count     17.000000\n",
            "mean     580.000000\n",
            "std      333.405721\n",
            "min      150.000000\n",
            "25%      350.000000\n",
            "50%      450.000000\n",
            "75%      700.000000\n",
            "max     1300.000000\n"
          ]
        }
      ]
    },
    {
      "cell_type": "code",
      "source": [
        "link = \"https://vandal.elespanol.com/guias/guia-league-of-legends-trucos-consejos-y-secretos/objetos\"\n",
        "webtext = requests.get(link).text\n",
        "data_lol = pd.read_html(link)[0]\n",
        "sopa = BeautifulSoup(webtext, \"lxml\")\n",
        "tablas_lol = sopa.find_all(\"table\", class_= \"table t08\")\n",
        "tabla_oro = tablas_lol[4]\n",
        "data_oro = pd.read_html(str(tabla_oro))[0]\n",
        "nuevos = data_oro.replace(to_replace = 300, value = 3000)\n",
        "# print(data_oro)\n",
        "print(nuevos.describe())"
      ],
      "metadata": {
        "colab": {
          "base_uri": "https://localhost:8080/"
        },
        "id": "1aLPj4o4zpi5",
        "outputId": "fe8b6b30-39e1-4ed8-86a9-eeef02ad6623"
      },
      "execution_count": 180,
      "outputs": [
        {
          "output_type": "stream",
          "name": "stdout",
          "text": [
            "       Coste de oro\n",
            "count     25.000000\n",
            "mean    3045.320000\n",
            "std      305.473774\n",
            "min     2500.000000\n",
            "25%     2800.000000\n",
            "50%     3200.000000\n",
            "75%     3300.000000\n",
            "max     3400.000000\n"
          ]
        }
      ]
    },
    {
      "cell_type": "code",
      "source": [
        "link = \"https://leagueoflegends.fandom.com/es/wiki/Lista_del_da%C3%B1o_de_ataque_de_todos_los_campeones\"\n",
        "webtext = requests.get(link).text\n",
        "data_lol = pd.read_html(link)[0]\n",
        "sopa = BeautifulSoup(webtext, \"lxml\")\n",
        "tablas_lol = sopa.find_all(\"table\", class_= \"wikitable sortable\")\n",
        "tabla_oro = tablas_lol\n",
        "data_oro = pd.read_html(str(tabla_oro))[0]\n",
        "#nuevos = data_oro.replace(to_replace = 300, value = 3000)\n",
        "print(max(data_oro[\"Valor a nivel 18\"]))\n",
        "print(data_oro.loc[data_oro[\"Valor a nivel 18\"] == 158])\n",
        "#print(nuevos.describe())"
      ],
      "metadata": {
        "colab": {
          "base_uri": "https://localhost:8080/"
        },
        "id": "bnLvaCq6RNLV",
        "outputId": "bfcf9411-e8c3-4b09-a075-901d03fb4be2"
      },
      "execution_count": 200,
      "outputs": [
        {
          "output_type": "stream",
          "name": "stdout",
          "text": [
            "158.0\n",
            "   Campeón  Base  Aumento por nivel  Valor a nivel 1  Valor a nivel 18\n",
            "39  Illaoi  68.0                5.0             73.0             158.0\n"
          ]
        }
      ]
    },
    {
      "cell_type": "code",
      "source": [
        "!pip install texttable\n",
        "import requests\n",
        "from bs4 import BeautifulSoup\n",
        "import texttable as texttable"
      ],
      "metadata": {
        "colab": {
          "base_uri": "https://localhost:8080/"
        },
        "id": "2vZTSXO9SHIJ",
        "outputId": "41375883-6c98-4ccf-ced3-4158d05c8e3c"
      },
      "execution_count": 202,
      "outputs": [
        {
          "output_type": "stream",
          "name": "stdout",
          "text": [
            "Looking in indexes: https://pypi.org/simple, https://us-python.pkg.dev/colab-wheels/public/simple/\n",
            "Collecting texttable\n",
            "  Downloading texttable-1.6.4-py2.py3-none-any.whl (10 kB)\n",
            "Installing collected packages: texttable\n",
            "Successfully installed texttable-1.6.4\n"
          ]
        }
      ]
    },
    {
      "cell_type": "code",
      "source": [
        "url = \"https://www.worldometers.info/coronavirus/countries-where-coronavirus-has-spread/\"\n",
        "webtext = requests.get(url).text\n",
        "sopa = BeautifulSoup(webtext, \"lxml\")\n",
        "tablas_covid = sopa.find_all(\"table\", class_= \"table-striped\")\n",
        "data_covid = pd.read_html(str(tablas_covid))[0]\n",
        "print(data_covid)"
      ],
      "metadata": {
        "colab": {
          "base_uri": "https://localhost:8080/"
        },
        "id": "6ut564jeVH-v",
        "outputId": "e060057d-c302-45ec-a132-9f036fe98884"
      },
      "execution_count": 211,
      "outputs": [
        {
          "output_type": "stream",
          "name": "stdout",
          "text": [
            "            Country     Cases   Deaths             Region\n",
            "0     United States  87321703  1035847      North America\n",
            "1             India  43232004   524771               Asia\n",
            "2            Brazil  31456865   668177      South America\n",
            "3            France  29849919   148749             Europe\n",
            "4           Germany  26847783   140183             Europe\n",
            "..              ...       ...      ...                ...\n",
            "224  Western Sahara        10        1             Africa\n",
            "225      MS Zaandam         9        2                NaN\n",
            "226            Niue         9        0  Australia/Oceania\n",
            "227          Tuvalu         3        0  Australia/Oceania\n",
            "228    Saint Helena         2        0             Africa\n",
            "\n",
            "[229 rows x 4 columns]\n"
          ]
        }
      ]
    },
    {
      "cell_type": "code",
      "source": [
        "max(data_covid[\"Deaths\"])\n",
        "data_covid[data_covid[\"Deaths\"] == 1035847]\n"
      ],
      "metadata": {
        "colab": {
          "base_uri": "https://localhost:8080/",
          "height": 81
        },
        "id": "VRu-cA6XXDfB",
        "outputId": "0ed19699-2d77-47c0-cfc5-4bad55cd319f"
      },
      "execution_count": 214,
      "outputs": [
        {
          "output_type": "execute_result",
          "data": {
            "text/plain": [
              "         Country     Cases   Deaths         Region\n",
              "0  United States  87321703  1035847  North America"
            ],
            "text/html": [
              "\n",
              "  <div id=\"df-5f165230-b9cb-4d51-954d-971430024b33\">\n",
              "    <div class=\"colab-df-container\">\n",
              "      <div>\n",
              "<style scoped>\n",
              "    .dataframe tbody tr th:only-of-type {\n",
              "        vertical-align: middle;\n",
              "    }\n",
              "\n",
              "    .dataframe tbody tr th {\n",
              "        vertical-align: top;\n",
              "    }\n",
              "\n",
              "    .dataframe thead th {\n",
              "        text-align: right;\n",
              "    }\n",
              "</style>\n",
              "<table border=\"1\" class=\"dataframe\">\n",
              "  <thead>\n",
              "    <tr style=\"text-align: right;\">\n",
              "      <th></th>\n",
              "      <th>Country</th>\n",
              "      <th>Cases</th>\n",
              "      <th>Deaths</th>\n",
              "      <th>Region</th>\n",
              "    </tr>\n",
              "  </thead>\n",
              "  <tbody>\n",
              "    <tr>\n",
              "      <th>0</th>\n",
              "      <td>United States</td>\n",
              "      <td>87321703</td>\n",
              "      <td>1035847</td>\n",
              "      <td>North America</td>\n",
              "    </tr>\n",
              "  </tbody>\n",
              "</table>\n",
              "</div>\n",
              "      <button class=\"colab-df-convert\" onclick=\"convertToInteractive('df-5f165230-b9cb-4d51-954d-971430024b33')\"\n",
              "              title=\"Convert this dataframe to an interactive table.\"\n",
              "              style=\"display:none;\">\n",
              "        \n",
              "  <svg xmlns=\"http://www.w3.org/2000/svg\" height=\"24px\"viewBox=\"0 0 24 24\"\n",
              "       width=\"24px\">\n",
              "    <path d=\"M0 0h24v24H0V0z\" fill=\"none\"/>\n",
              "    <path d=\"M18.56 5.44l.94 2.06.94-2.06 2.06-.94-2.06-.94-.94-2.06-.94 2.06-2.06.94zm-11 1L8.5 8.5l.94-2.06 2.06-.94-2.06-.94L8.5 2.5l-.94 2.06-2.06.94zm10 10l.94 2.06.94-2.06 2.06-.94-2.06-.94-.94-2.06-.94 2.06-2.06.94z\"/><path d=\"M17.41 7.96l-1.37-1.37c-.4-.4-.92-.59-1.43-.59-.52 0-1.04.2-1.43.59L10.3 9.45l-7.72 7.72c-.78.78-.78 2.05 0 2.83L4 21.41c.39.39.9.59 1.41.59.51 0 1.02-.2 1.41-.59l7.78-7.78 2.81-2.81c.8-.78.8-2.07 0-2.86zM5.41 20L4 18.59l7.72-7.72 1.47 1.35L5.41 20z\"/>\n",
              "  </svg>\n",
              "      </button>\n",
              "      \n",
              "  <style>\n",
              "    .colab-df-container {\n",
              "      display:flex;\n",
              "      flex-wrap:wrap;\n",
              "      gap: 12px;\n",
              "    }\n",
              "\n",
              "    .colab-df-convert {\n",
              "      background-color: #E8F0FE;\n",
              "      border: none;\n",
              "      border-radius: 50%;\n",
              "      cursor: pointer;\n",
              "      display: none;\n",
              "      fill: #1967D2;\n",
              "      height: 32px;\n",
              "      padding: 0 0 0 0;\n",
              "      width: 32px;\n",
              "    }\n",
              "\n",
              "    .colab-df-convert:hover {\n",
              "      background-color: #E2EBFA;\n",
              "      box-shadow: 0px 1px 2px rgba(60, 64, 67, 0.3), 0px 1px 3px 1px rgba(60, 64, 67, 0.15);\n",
              "      fill: #174EA6;\n",
              "    }\n",
              "\n",
              "    [theme=dark] .colab-df-convert {\n",
              "      background-color: #3B4455;\n",
              "      fill: #D2E3FC;\n",
              "    }\n",
              "\n",
              "    [theme=dark] .colab-df-convert:hover {\n",
              "      background-color: #434B5C;\n",
              "      box-shadow: 0px 1px 3px 1px rgba(0, 0, 0, 0.15);\n",
              "      filter: drop-shadow(0px 1px 2px rgba(0, 0, 0, 0.3));\n",
              "      fill: #FFFFFF;\n",
              "    }\n",
              "  </style>\n",
              "\n",
              "      <script>\n",
              "        const buttonEl =\n",
              "          document.querySelector('#df-5f165230-b9cb-4d51-954d-971430024b33 button.colab-df-convert');\n",
              "        buttonEl.style.display =\n",
              "          google.colab.kernel.accessAllowed ? 'block' : 'none';\n",
              "\n",
              "        async function convertToInteractive(key) {\n",
              "          const element = document.querySelector('#df-5f165230-b9cb-4d51-954d-971430024b33');\n",
              "          const dataTable =\n",
              "            await google.colab.kernel.invokeFunction('convertToInteractive',\n",
              "                                                     [key], {});\n",
              "          if (!dataTable) return;\n",
              "\n",
              "          const docLinkHtml = 'Like what you see? Visit the ' +\n",
              "            '<a target=\"_blank\" href=https://colab.research.google.com/notebooks/data_table.ipynb>data table notebook</a>'\n",
              "            + ' to learn more about interactive tables.';\n",
              "          element.innerHTML = '';\n",
              "          dataTable['output_type'] = 'display_data';\n",
              "          await google.colab.output.renderOutput(dataTable, element);\n",
              "          const docLink = document.createElement('div');\n",
              "          docLink.innerHTML = docLinkHtml;\n",
              "          element.appendChild(docLink);\n",
              "        }\n",
              "      </script>\n",
              "    </div>\n",
              "  </div>\n",
              "  "
            ]
          },
          "metadata": {},
          "execution_count": 214
        }
      ]
    },
    {
      "cell_type": "code",
      "source": [
        "from tabulate import tabulate\n",
        "bonito = tabulate(data_covid.head(), tablefmt = \"pipe\", headers = \"keys\" )\n",
        "print(bonito)"
      ],
      "metadata": {
        "colab": {
          "base_uri": "https://localhost:8080/"
        },
        "id": "TT9oE9IEZFru",
        "outputId": "dfd75e2b-c030-4b9b-ab51-e67ad3b95a32"
      },
      "execution_count": 220,
      "outputs": [
        {
          "output_type": "stream",
          "name": "stdout",
          "text": [
            "|    | Country       |    Cases |   Deaths | Region        |\n",
            "|---:|:--------------|---------:|---------:|:--------------|\n",
            "|  0 | United States | 87321703 |  1035847 | North America |\n",
            "|  1 | India         | 43232004 |   524771 | Asia          |\n",
            "|  2 | Brazil        | 31456865 |   668177 | South America |\n",
            "|  3 | France        | 29849919 |   148749 | Europe        |\n",
            "|  4 | Germany       | 26847783 |   140183 | Europe        |\n"
          ]
        }
      ]
    },
    {
      "cell_type": "markdown",
      "source": [
        "|    | Country       |    Cases |   Deaths | Region        |\n",
        "|---:|:--------------|---------:|---------:|:--------------|\n",
        "|  0 | United States | 87321703 |  1035847 | North America |\n",
        "|  1 | India         | 43232004 |   524771 | Asia          |\n",
        "|  2 | Brazil        | 31456865 |   668177 | South America |\n",
        "|  3 | France        | 29849919 |   148749 | Europe        |\n",
        "|  4 | Germany       | 26847783 |   140183 | Europe        |\n"
      ],
      "metadata": {
        "id": "-28UCrRpaFzl"
      }
    },
    {
      "cell_type": "code",
      "source": [
        ""
      ],
      "metadata": {
        "id": "EJ2lrZKBaFD5"
      },
      "execution_count": null,
      "outputs": []
    },
    {
      "cell_type": "code",
      "source": [
        "# Importamos la web\n",
        "pagina_covid = requests.get(url)\n",
        "sopa = BeautifulSoup(pagina_covid.text, 'html.parser')\n",
        "# Creamos la variable para guardar los datos\n",
        "datos_covid = []\n",
        "# Ahora usemos iter().\n",
        "# La función iter() crea un objeto que se puede iterar, recorrer.\n",
        "# Estos objetos son útiles cuando se combinan con bucles como for loop, while loop.\n",
        "\n",
        "# sopa.find_all('td') atrapará todos los enlaces de la tabla\n",
        "datos_iterados = iter(sopa.findAll('td')) \n",
        "# iter recorrerá lña tabla de manera automática\n",
        "# Este bucle seguirá repitiéndose hasta que haya datos disponibles en el iterador\n",
        "while True:\n",
        "    try:\n",
        "        pais = next(datos_iterados).text\n",
        "        num_casos_confirmados = next(datos_iterados).text\n",
        "        num_muertes = next(datos_iterados).text\n",
        "        continentes = next(datos_iterados).text\n",
        " \n",
        "        # Para 'num_casos_confirmados' and 'num_muertes', \n",
        "        # nos aseguramos de eliminar las comas y luego las convertiremos a int\n",
        "        datos_covid.append((\n",
        "            pais,\n",
        "            int(num_casos_confirmados.replace(',', '')),\n",
        "            int(num_muertes.replace(',', '')),\n",
        "            continentes\n",
        "        ))\n",
        " \n",
        "    # StopIteration: se genera un error cuando no quedan más elementos para iterar\n",
        "    except StopIteration:\n",
        "        break"
      ],
      "metadata": {
        "id": "70kqPSpDY2tS"
      },
      "execution_count": 215,
      "outputs": []
    },
    {
      "cell_type": "code",
      "source": [
        "url = \"https://www.imdb.com/search/name/?birth_place=Spain&adult=include&count=100&start=1&ref_=rlm\"\n",
        "webtext = requests.get(url).text\n",
        "sopa = BeautifulSoup(webtext, \"lxml\")\n",
        "div_oscar = sopa.find_all(\"div\", class_= \"lister-item mode-detail\")\n",
        "(div_oscar[0])\n",
        "nombres = []\n",
        "nombre = div_oscar[0].find_all(\"a\")[1].text\n",
        "\n",
        "#data_oscar = pd.read_html(str(tabla_oscar))\n",
        "#print(data_oscar)\n",
        "#data_covid = pd.read_html(str(tablas_covid))[0]\n",
        "#print(data_covid)"
      ],
      "metadata": {
        "colab": {
          "base_uri": "https://localhost:8080/"
        },
        "id": "Pr6HZQh8Y5Ai",
        "outputId": "e9ac10db-d9ce-4ff3-a180-6e18fe411bb6"
      },
      "execution_count": 246,
      "outputs": [
        {
          "output_type": "stream",
          "name": "stdout",
          "text": [
            " Millie Bobby Brown\n",
            "\n"
          ]
        }
      ]
    },
    {
      "cell_type": "code",
      "source": [
        "from IPython.core.display import HTML\n",
        "\n",
        "# Convertir una URL en una iamgen\n",
        "def path_to_image_html(path):\n",
        "    return '<img src=\"'+ path + '\" width=\"60\" >'\n",
        "\n",
        "pd.set_option('display.max_colwidth', -1)\n",
        "\n",
        "# informacion_actores: Dataframe con la información\n",
        "# Imagen: Columna con la URL de las imánes de los actores y actrices\n",
        "HTML(informacion_actores.to_html(escape=False ,formatters=dict(Imagen=path_to_image_html)))"
      ],
      "metadata": {
        "colab": {
          "base_uri": "https://localhost:8080/",
          "height": 256
        },
        "id": "cMUxSqS6f1wF",
        "outputId": "fad1f847-d44b-4460-bb75-9f00fbb7bbf2"
      },
      "execution_count": 247,
      "outputs": [
        {
          "output_type": "stream",
          "name": "stderr",
          "text": [
            "/usr/local/lib/python3.7/dist-packages/ipykernel_launcher.py:7: FutureWarning: Passing a negative integer is deprecated in version 1.0 and will not be supported in future version. Instead, use None to not limit the column width.\n",
            "  import sys\n"
          ]
        },
        {
          "output_type": "error",
          "ename": "NameError",
          "evalue": "ignored",
          "traceback": [
            "\u001b[0;31m---------------------------------------------------------------------------\u001b[0m",
            "\u001b[0;31mNameError\u001b[0m                                 Traceback (most recent call last)",
            "\u001b[0;32m<ipython-input-247-1d2d1d3edf4c>\u001b[0m in \u001b[0;36m<module>\u001b[0;34m()\u001b[0m\n\u001b[1;32m      9\u001b[0m \u001b[0;31m# informacion_actores: Dataframe con la información\u001b[0m\u001b[0;34m\u001b[0m\u001b[0;34m\u001b[0m\u001b[0;34m\u001b[0m\u001b[0m\n\u001b[1;32m     10\u001b[0m \u001b[0;31m# Imagen: Columna con la URL de las imánes de los actores y actrices\u001b[0m\u001b[0;34m\u001b[0m\u001b[0;34m\u001b[0m\u001b[0;34m\u001b[0m\u001b[0m\n\u001b[0;32m---> 11\u001b[0;31m \u001b[0mHTML\u001b[0m\u001b[0;34m(\u001b[0m\u001b[0minformacion_actores\u001b[0m\u001b[0;34m.\u001b[0m\u001b[0mto_html\u001b[0m\u001b[0;34m(\u001b[0m\u001b[0mescape\u001b[0m\u001b[0;34m=\u001b[0m\u001b[0;32mFalse\u001b[0m \u001b[0;34m,\u001b[0m\u001b[0mformatters\u001b[0m\u001b[0;34m=\u001b[0m\u001b[0mdict\u001b[0m\u001b[0;34m(\u001b[0m\u001b[0mImagen\u001b[0m\u001b[0;34m=\u001b[0m\u001b[0mpath_to_image_html\u001b[0m\u001b[0;34m)\u001b[0m\u001b[0;34m)\u001b[0m\u001b[0;34m)\u001b[0m\u001b[0;34m\u001b[0m\u001b[0;34m\u001b[0m\u001b[0m\n\u001b[0m",
            "\u001b[0;31mNameError\u001b[0m: name 'informacion_actores' is not defined"
          ]
        }
      ]
    },
    {
      "cell_type": "code",
      "source": [
        "str(div_oscar[0].find_all('a')[0]).partition(\"src=\")[2].partition(\" \")\n",
        "\n",
        "\n",
        "\n"
      ],
      "metadata": {
        "colab": {
          "base_uri": "https://localhost:8080/"
        },
        "id": "bUnX77kzr_jF",
        "outputId": "b31d0b7a-68fa-44e5-f5ed-fdc085d8b28c"
      },
      "execution_count": 264,
      "outputs": [
        {
          "output_type": "execute_result",
          "data": {
            "text/plain": [
              "('\"https://m.media-amazon.com/images/M/MV5BMjA5NzA0NzQzMF5BMl5BanBnXkFtZTgwMTQxNjUzNjM@._V1_UX140_CR0,0,140,209_AL_.jpg\"',\n",
              " ' ',\n",
              " 'width=\"140\"/>\\n</a>')"
            ]
          },
          "metadata": {},
          "execution_count": 264
        }
      ]
    },
    {
      "cell_type": "code",
      "source": [
        ""
      ],
      "metadata": {
        "id": "tnF6HdY5t_A9"
      },
      "execution_count": null,
      "outputs": []
    }
  ]
}