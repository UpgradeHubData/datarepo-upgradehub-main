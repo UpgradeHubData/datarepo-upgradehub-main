{
  "cells": [
    {
      "cell_type": "markdown",
      "metadata": {
        "id": "8DyaFFS1RIh-"
      },
      "source": [
        "# NumPy Ejercicios"
      ]
    },
    {
      "cell_type": "markdown",
      "metadata": {
        "id": "HDJY41tIRIh-"
      },
      "source": [
        "#### Importar librería\n",
        "\n"
      ]
    },
    {
      "cell_type": "code",
      "execution_count": 1,
      "metadata": {
        "collapsed": true,
        "id": "zCDI1PfIRIh_"
      },
      "outputs": [],
      "source": [
        "import numpy as np"
      ]
    },
    {
      "cell_type": "code",
      "source": [
        "!pip install numpy"
      ],
      "metadata": {
        "colab": {
          "base_uri": "https://localhost:8080/"
        },
        "id": "TCDAgpsZtSSL",
        "outputId": "22a901fd-e310-4ac6-c8e8-5eb09a44395a"
      },
      "execution_count": 2,
      "outputs": [
        {
          "output_type": "stream",
          "name": "stdout",
          "text": [
            "Looking in indexes: https://pypi.org/simple, https://us-python.pkg.dev/colab-wheels/public/simple/\n",
            "Requirement already satisfied: numpy in /usr/local/lib/python3.7/dist-packages (1.21.6)\n"
          ]
        }
      ]
    },
    {
      "cell_type": "markdown",
      "metadata": {
        "id": "cnrLAN_aRIh_"
      },
      "source": [
        "#### Crear una array (unidimensional) con 10 ceros"
      ]
    },
    {
      "cell_type": "code",
      "source": [
        "np.zeros(shape = (2,10), dtype = int)"
      ],
      "metadata": {
        "colab": {
          "base_uri": "https://localhost:8080/"
        },
        "id": "u7KrP3CWuQWD",
        "outputId": "79b2c84e-825a-40e5-d04f-226c9b1320c7"
      },
      "execution_count": 8,
      "outputs": [
        {
          "output_type": "execute_result",
          "data": {
            "text/plain": [
              "array([[0, 0, 0, 0, 0, 0, 0, 0, 0, 0],\n",
              "       [0, 0, 0, 0, 0, 0, 0, 0, 0, 0]])"
            ]
          },
          "metadata": {},
          "execution_count": 8
        }
      ]
    },
    {
      "cell_type": "code",
      "execution_count": 6,
      "metadata": {
        "id": "eRAbtT0_RIh_",
        "colab": {
          "base_uri": "https://localhost:8080/"
        },
        "outputId": "69e90778-6006-447e-e8e9-cd541d671e07"
      },
      "outputs": [
        {
          "output_type": "execute_result",
          "data": {
            "text/plain": [
              "array([0., 0., 0., 0., 0., 0., 0., 0., 0., 0.])"
            ]
          },
          "metadata": {},
          "execution_count": 6
        }
      ],
      "source": [
        "np.zeros(10)"
      ]
    },
    {
      "cell_type": "markdown",
      "metadata": {
        "id": "vnzEwpzSRUq-"
      },
      "source": [
        "Resultado esperado:\n",
        "```python\n",
        "array([ 0.,  0.,  0.,  0.,  0.,  0.,  0.,  0.,  0.,  0.])\n",
        "```"
      ]
    },
    {
      "cell_type": "markdown",
      "metadata": {
        "id": "gCZ5H8o9RIiA"
      },
      "source": [
        "#### Crear un array (unidimensional) con 10 unos"
      ]
    },
    {
      "cell_type": "code",
      "execution_count": 9,
      "metadata": {
        "id": "3QJCA3UKRIiB",
        "colab": {
          "base_uri": "https://localhost:8080/"
        },
        "outputId": "d6785e37-98d4-484d-b8c5-e14c04429f7a"
      },
      "outputs": [
        {
          "output_type": "execute_result",
          "data": {
            "text/plain": [
              "array([1., 1., 1., 1., 1., 1., 1., 1., 1., 1.])"
            ]
          },
          "metadata": {},
          "execution_count": 9
        }
      ],
      "source": [
        "np.ones(10)"
      ]
    },
    {
      "cell_type": "markdown",
      "metadata": {
        "id": "bxclsne9RfT5"
      },
      "source": [
        "Resultado esperado:\n",
        "```python\n",
        "array([1., 1., 1., 1., 1., 1., 1., 1., 1., 1.])\n",
        "```"
      ]
    },
    {
      "cell_type": "markdown",
      "metadata": {
        "id": "WlALOSGpRIiB"
      },
      "source": [
        "#### Crear un array con 10 cincos"
      ]
    },
    {
      "cell_type": "code",
      "execution_count": 10,
      "metadata": {
        "id": "S2OLDrgkRIiB",
        "colab": {
          "base_uri": "https://localhost:8080/"
        },
        "outputId": "fabc49f5-baf1-4f0c-aa14-69cf4c240226"
      },
      "outputs": [
        {
          "output_type": "execute_result",
          "data": {
            "text/plain": [
              "array([5., 5., 5., 5., 5., 5., 5., 5., 5., 5.])"
            ]
          },
          "metadata": {},
          "execution_count": 10
        }
      ],
      "source": [
        "np.ones(10)*5"
      ]
    },
    {
      "cell_type": "code",
      "source": [
        "np.full(10, 5, dtype=float)"
      ],
      "metadata": {
        "colab": {
          "base_uri": "https://localhost:8080/"
        },
        "id": "1of5cYsbvGTl",
        "outputId": "40d1ef9a-d15b-495a-d56a-d143c99a825e"
      },
      "execution_count": 20,
      "outputs": [
        {
          "output_type": "execute_result",
          "data": {
            "text/plain": [
              "array([5., 5., 5., 5., 5., 5., 5., 5., 5., 5.])"
            ]
          },
          "metadata": {},
          "execution_count": 20
        }
      ]
    },
    {
      "cell_type": "markdown",
      "metadata": {
        "id": "aWKBLLXZRp4c"
      },
      "source": [
        "Resultado esperado:\n",
        "```python\n",
        "array([ 5.,  5.,  5.,  5.,  5.,  5.,  5.,  5.,  5.,  5.])\n",
        "```"
      ]
    },
    {
      "cell_type": "markdown",
      "metadata": {
        "id": "U1PWnGnbRIiB"
      },
      "source": [
        "#### Crear un array (unidimensional) con los números enteros desde 10 hasta 50"
      ]
    },
    {
      "cell_type": "code",
      "execution_count": 23,
      "metadata": {
        "id": "6jahPAe6RIiC",
        "colab": {
          "base_uri": "https://localhost:8080/"
        },
        "outputId": "96dbacd2-24c6-48b2-e6cc-df04eaa76fb5"
      },
      "outputs": [
        {
          "output_type": "execute_result",
          "data": {
            "text/plain": [
              "array([10, 11, 12, 13, 14, 15, 16, 17, 18, 19, 20, 21, 22, 23, 24, 25, 26,\n",
              "       27, 28, 29, 30, 31, 32, 33, 34, 35, 36, 37, 38, 39, 40, 41, 42, 43,\n",
              "       44, 45, 46, 47, 48, 49, 50])"
            ]
          },
          "metadata": {},
          "execution_count": 23
        }
      ],
      "source": [
        "np.arange(10, 51, dtype=int)"
      ]
    },
    {
      "cell_type": "code",
      "source": [
        "np.arange(10,50)"
      ],
      "metadata": {
        "colab": {
          "base_uri": "https://localhost:8080/"
        },
        "id": "Ly24DUxnwuHj",
        "outputId": "ed14062b-af1e-4532-fd25-9bd615b0ddc4"
      },
      "execution_count": 24,
      "outputs": [
        {
          "output_type": "execute_result",
          "data": {
            "text/plain": [
              "array([10, 11, 12, 13, 14, 15, 16, 17, 18, 19, 20, 21, 22, 23, 24, 25, 26,\n",
              "       27, 28, 29, 30, 31, 32, 33, 34, 35, 36, 37, 38, 39, 40, 41, 42, 43,\n",
              "       44, 45, 46, 47, 48, 49])"
            ]
          },
          "metadata": {},
          "execution_count": 24
        }
      ]
    },
    {
      "cell_type": "code",
      "source": [
        "arr = np.arange(10,51)\n",
        "\n",
        "arr"
      ],
      "metadata": {
        "colab": {
          "base_uri": "https://localhost:8080/"
        },
        "id": "8Dde86e3w244",
        "outputId": "94207701-7a70-453a-b533-cb0df0bfb107"
      },
      "execution_count": 27,
      "outputs": [
        {
          "output_type": "execute_result",
          "data": {
            "text/plain": [
              "array([10, 11, 12, 13, 14, 15, 16, 17, 18, 19, 20, 21, 22, 23, 24, 25, 26,\n",
              "       27, 28, 29, 30, 31, 32, 33, 34, 35, 36, 37, 38, 39, 40, 41, 42, 43,\n",
              "       44, 45, 46, 47, 48, 49, 50])"
            ]
          },
          "metadata": {},
          "execution_count": 27
        }
      ]
    },
    {
      "cell_type": "markdown",
      "metadata": {
        "id": "Zoz-V_N2Ru3_"
      },
      "source": [
        "Resultado esperado:\n",
        "```python\n",
        "array([10, 11, 12, 13, 14, 15, 16, 17, 18, 19, 20, 21, 22, 23, 24, 25, 26,\n",
        "       27, 28, 29, 30, 31, 32, 33, 34, 35, 36, 37, 38, 39, 40, 41, 42, 43,\n",
        "       44, 45, 46, 47, 48, 49, 50])\n",
        "```"
      ]
    },
    {
      "cell_type": "markdown",
      "metadata": {
        "id": "UBVLz1paRIiC"
      },
      "source": [
        "#### Crear un array (unidimensional) con los enteros pares comprendidos entre 10 y 50"
      ]
    },
    {
      "cell_type": "code",
      "execution_count": 28,
      "metadata": {
        "id": "Zc4gBQF5RIiC"
      },
      "outputs": [],
      "source": [
        "?np.arange"
      ]
    },
    {
      "cell_type": "code",
      "source": [
        "np.arange(start = 10, stop = 51, step = 2)"
      ],
      "metadata": {
        "colab": {
          "base_uri": "https://localhost:8080/"
        },
        "id": "WWz5bonJxVXv",
        "outputId": "e55eed26-7137-455b-bb87-165f536c7423"
      },
      "execution_count": 29,
      "outputs": [
        {
          "output_type": "execute_result",
          "data": {
            "text/plain": [
              "array([10, 12, 14, 16, 18, 20, 22, 24, 26, 28, 30, 32, 34, 36, 38, 40, 42,\n",
              "       44, 46, 48, 50])"
            ]
          },
          "metadata": {},
          "execution_count": 29
        }
      ]
    },
    {
      "cell_type": "code",
      "source": [
        "np.arange(10,52,2)"
      ],
      "metadata": {
        "colab": {
          "base_uri": "https://localhost:8080/"
        },
        "id": "FwYKi-a6xg7S",
        "outputId": "49daa4bd-f05a-4fe2-cf84-8a16cfe37eaf"
      },
      "execution_count": 30,
      "outputs": [
        {
          "output_type": "execute_result",
          "data": {
            "text/plain": [
              "array([10, 12, 14, 16, 18, 20, 22, 24, 26, 28, 30, 32, 34, 36, 38, 40, 42,\n",
              "       44, 46, 48, 50])"
            ]
          },
          "metadata": {},
          "execution_count": 30
        }
      ]
    },
    {
      "cell_type": "markdown",
      "metadata": {
        "id": "gyEYukVgRvp3"
      },
      "source": [
        "Resultado esperado:\n",
        "```python\n",
        "array([10, 12, 14, 16, 18, 20, 22, 24, 26, 28, 30, 32, 34, 36, 38, 40, 42,\n",
        "       44, 46, 48, 50])\n",
        "```"
      ]
    },
    {
      "cell_type": "markdown",
      "metadata": {
        "id": "s2xpTrxVRIiC"
      },
      "source": [
        "#### Crear una matriz 3x3 con los enteros comprendidos entre 0 y 8"
      ]
    },
    {
      "cell_type": "code",
      "execution_count": 40,
      "metadata": {
        "id": "DiDIDecyRIiC",
        "colab": {
          "base_uri": "https://localhost:8080/"
        },
        "outputId": "2be94e8f-b1c5-48cf-85e5-5933d6e39697"
      },
      "outputs": [
        {
          "output_type": "execute_result",
          "data": {
            "text/plain": [
              "array([[0, 1, 2],\n",
              "       [3, 4, 5],\n",
              "       [6, 7, 8]])"
            ]
          },
          "metadata": {},
          "execution_count": 40
        }
      ],
      "source": [
        "np.arange(start = 0, stop = 9, step = 1).reshape((3,3))"
      ]
    },
    {
      "cell_type": "code",
      "source": [
        "arr = np.arange(0,9,)\n",
        "arr\n",
        "arr.reshape(3,3)\n",
        "\n",
        "# np.arange(0,9,).reshape(3,3)"
      ],
      "metadata": {
        "colab": {
          "base_uri": "https://localhost:8080/"
        },
        "id": "FhyfRJc4ziun",
        "outputId": "6150b498-d32b-466e-8276-f77bf224748b"
      },
      "execution_count": 36,
      "outputs": [
        {
          "output_type": "execute_result",
          "data": {
            "text/plain": [
              "array([[0, 1, 2],\n",
              "       [3, 4, 5],\n",
              "       [6, 7, 8]])"
            ]
          },
          "metadata": {},
          "execution_count": 36
        }
      ]
    },
    {
      "cell_type": "markdown",
      "metadata": {
        "id": "NbzRTVZrRxJR"
      },
      "source": [
        "Resultado esperado:\n",
        "```python\n",
        "array([[0, 1, 2],\n",
        "       [3, 4, 5],\n",
        "       [6, 7, 8]])\n",
        "```"
      ]
    },
    {
      "cell_type": "markdown",
      "source": [
        "# Ejercicio Extra\n",
        "----\n",
        "\n",
        "Cree una función que nos diga si la lista o matriz que estamos metiendo a la función es transformable en una matriz cuadrada de un determinado orden.\n",
        "\n",
        "* Comprueba si se cumple cumple la condición, y en dicho caso, devuelve la matriz cuadrada.\n",
        "\n",
        "* En caso contrario, devuelve un error. `raise ValueError()`"
      ],
      "metadata": {
        "id": "3j61-sB-7Ca7"
      }
    },
    {
      "cell_type": "code",
      "source": [
        "type(16 ** 0.5)"
      ],
      "metadata": {
        "colab": {
          "base_uri": "https://localhost:8080/"
        },
        "id": "1mn-ZVKyHDt8",
        "outputId": "c691eac8-f9c9-4ac3-8797-320e1db7b587"
      },
      "execution_count": 143,
      "outputs": [
        {
          "output_type": "execute_result",
          "data": {
            "text/plain": [
              "float"
            ]
          },
          "metadata": {},
          "execution_count": 143
        }
      ]
    },
    {
      "cell_type": "code",
      "source": [
        "type(17 ** 0.5)"
      ],
      "metadata": {
        "colab": {
          "base_uri": "https://localhost:8080/"
        },
        "id": "koqpOZH_HMTP",
        "outputId": "6eb1f758-118e-438c-add1-38bca2c71154"
      },
      "execution_count": 144,
      "outputs": [
        {
          "output_type": "execute_result",
          "data": {
            "text/plain": [
              "float"
            ]
          },
          "metadata": {},
          "execution_count": 144
        }
      ]
    },
    {
      "cell_type": "code",
      "source": [
        "def transformar_lista_array(lista_o_matriz):\n",
        "\n",
        "    if type(lista_o_matriz) == list:\n",
        "\n",
        "        matrix = np.array(lista_o_matriz)\n",
        "\n",
        "    n = np.sqrt(len(matrix))\n",
        "    \n",
        "    if n % 1 == 0: # si la raiz de la longitud de matrix es entero\n",
        "        \n",
        "        return matrix.reshape((int(n), int(n))) # devuelve matrix transformada\n",
        "    \n",
        "    else:\n",
        "        \n",
        "        raise ValueError('La matriz no puede ser transformada.')"
      ],
      "metadata": {
        "id": "X50AXLXgGGyC"
      },
      "execution_count": 132,
      "outputs": []
    },
    {
      "cell_type": "code",
      "source": [
        "transformar_lista_array([x for x in range(49)])"
      ],
      "metadata": {
        "colab": {
          "base_uri": "https://localhost:8080/"
        },
        "id": "M1cIy5w9G0Dd",
        "outputId": "07cb8e52-f0be-4daa-eb42-535bb61b43cc"
      },
      "execution_count": 137,
      "outputs": [
        {
          "output_type": "execute_result",
          "data": {
            "text/plain": [
              "array([[ 0,  1,  2,  3,  4,  5,  6],\n",
              "       [ 7,  8,  9, 10, 11, 12, 13],\n",
              "       [14, 15, 16, 17, 18, 19, 20],\n",
              "       [21, 22, 23, 24, 25, 26, 27],\n",
              "       [28, 29, 30, 31, 32, 33, 34],\n",
              "       [35, 36, 37, 38, 39, 40, 41],\n",
              "       [42, 43, 44, 45, 46, 47, 48]])"
            ]
          },
          "metadata": {},
          "execution_count": 137
        }
      ]
    },
    {
      "cell_type": "code",
      "source": [
        "transformar_lista_array([x for x in range(46)])"
      ],
      "metadata": {
        "colab": {
          "base_uri": "https://localhost:8080/",
          "height": 259
        },
        "id": "mFBVlqFVGYTD",
        "outputId": "0816ed69-0ccb-4691-d2cb-4364f0b2878f"
      },
      "execution_count": 136,
      "outputs": [
        {
          "output_type": "error",
          "ename": "ValueError",
          "evalue": "ignored",
          "traceback": [
            "\u001b[0;31m---------------------------------------------------------------------------\u001b[0m",
            "\u001b[0;31mValueError\u001b[0m                                Traceback (most recent call last)",
            "\u001b[0;32m<ipython-input-136-f5364dbf3a8f>\u001b[0m in \u001b[0;36m<module>\u001b[0;34m()\u001b[0m\n\u001b[0;32m----> 1\u001b[0;31m \u001b[0mtransformar_lista_array\u001b[0m\u001b[0;34m(\u001b[0m\u001b[0;34m[\u001b[0m\u001b[0mx\u001b[0m \u001b[0;32mfor\u001b[0m \u001b[0mx\u001b[0m \u001b[0;32min\u001b[0m \u001b[0mrange\u001b[0m\u001b[0;34m(\u001b[0m\u001b[0;36m46\u001b[0m\u001b[0;34m)\u001b[0m\u001b[0;34m]\u001b[0m\u001b[0;34m)\u001b[0m\u001b[0;34m\u001b[0m\u001b[0;34m\u001b[0m\u001b[0m\n\u001b[0m",
            "\u001b[0;32m<ipython-input-132-250279cfbcf5>\u001b[0m in \u001b[0;36mtransformar_lista_array\u001b[0;34m(lista_o_matriz)\u001b[0m\n\u001b[1;32m     13\u001b[0m     \u001b[0;32melse\u001b[0m\u001b[0;34m:\u001b[0m\u001b[0;34m\u001b[0m\u001b[0;34m\u001b[0m\u001b[0m\n\u001b[1;32m     14\u001b[0m \u001b[0;34m\u001b[0m\u001b[0m\n\u001b[0;32m---> 15\u001b[0;31m         \u001b[0;32mraise\u001b[0m \u001b[0mValueError\u001b[0m\u001b[0;34m(\u001b[0m\u001b[0;34m'La matriz no puede ser transformada.'\u001b[0m\u001b[0;34m)\u001b[0m\u001b[0;34m\u001b[0m\u001b[0;34m\u001b[0m\u001b[0m\n\u001b[0m",
            "\u001b[0;31mValueError\u001b[0m: La matriz no puede ser transformada."
          ]
        }
      ]
    },
    {
      "cell_type": "markdown",
      "metadata": {
        "id": "lyZEQo_CRIiD"
      },
      "source": [
        "#### Crear una matriz identidad de orden 3"
      ]
    },
    {
      "cell_type": "code",
      "source": [
        "np.identity(n = 3)"
      ],
      "metadata": {
        "colab": {
          "base_uri": "https://localhost:8080/"
        },
        "id": "pgd3Gf5V0alm",
        "outputId": "e8252daf-ee36-4861-91d6-ab926b12233b"
      },
      "execution_count": 48,
      "outputs": [
        {
          "output_type": "execute_result",
          "data": {
            "text/plain": [
              "array([[1., 0., 0.],\n",
              "       [0., 1., 0.],\n",
              "       [0., 0., 1.]])"
            ]
          },
          "metadata": {},
          "execution_count": 48
        }
      ]
    },
    {
      "cell_type": "code",
      "execution_count": 49,
      "metadata": {
        "id": "0DXaEMYjRIiD",
        "outputId": "32d6b31c-e739-4333-8db6-172d5e2f3d36",
        "colab": {
          "base_uri": "https://localhost:8080/"
        }
      },
      "outputs": [
        {
          "output_type": "execute_result",
          "data": {
            "text/plain": [
              "array([[1., 0., 0.],\n",
              "       [0., 1., 0.],\n",
              "       [0., 0., 1.]])"
            ]
          },
          "metadata": {},
          "execution_count": 49
        }
      ],
      "source": [
        "np.eye(N=3)"
      ]
    },
    {
      "cell_type": "code",
      "source": [
        "np.diag([1, 1, 1])"
      ],
      "metadata": {
        "colab": {
          "base_uri": "https://localhost:8080/"
        },
        "id": "TTkSfRL31TMt",
        "outputId": "19cbec2d-71a7-4339-cb4f-ba1ca89ba479"
      },
      "execution_count": 57,
      "outputs": [
        {
          "output_type": "execute_result",
          "data": {
            "text/plain": [
              "array([[1, 0, 0],\n",
              "       [0, 1, 0],\n",
              "       [0, 0, 1]])"
            ]
          },
          "metadata": {},
          "execution_count": 57
        }
      ]
    },
    {
      "cell_type": "code",
      "source": [
        "def coin_flip_experiment(size):\n",
        "    '''\n",
        "    Dado un número entero, realiza un número de simulaciones de lanzamiento de dados igual a dicho número, y devuelve la media y varianza de dicho fenómeno\n",
        "    '''\n",
        "    #Un poco de control sobre la entrada...\n",
        "    if (type(size)!=int):\n",
        "        raise ValueError('El valor introducido no es un número natural.')\n",
        "    #Simulamos\n",
        "    results = 2*np.random.binomial(n = 1, p = .5, size = size)-1\n",
        "    return np.mean(results), np.std(results)"
      ],
      "metadata": {
        "id": "yyHYBNt14Z8N"
      },
      "execution_count": 68,
      "outputs": []
    },
    {
      "cell_type": "code",
      "source": [
        "#Fijamos iteraciones\n",
        "iter = 200\n",
        "lag = 3\n",
        "\n",
        "#Definimos variables\n",
        "x = range(lag,iter+lag)\n",
        "\n",
        "mu = np.zeros(iter)\n",
        "sigma = np.zeros(iter)\n",
        "\n",
        "#Iteramos para obtener resultados\n",
        "for i in x:\n",
        "    mu[i-lag], sigma[i-lag] = coin_flip_experiment(i)"
      ],
      "metadata": {
        "id": "a4-oeq_y4a7e"
      },
      "execution_count": 69,
      "outputs": []
    },
    {
      "cell_type": "code",
      "source": [
        "import matplotlib.pyplot as plt"
      ],
      "metadata": {
        "id": "YOrB35Qk46Nz"
      },
      "execution_count": 58,
      "outputs": []
    },
    {
      "cell_type": "code",
      "source": [
        "#Dibujamos media\n",
        "plt.plot(x,mu,x,[0]*iter)\n",
        "plt.ylim([-1,1])\n",
        "plt.title('Evolución de la media')\n",
        "plt.show()"
      ],
      "metadata": {
        "colab": {
          "base_uri": "https://localhost:8080/",
          "height": 281
        },
        "id": "YL1_9XgR4kwk",
        "outputId": "76ed34c6-825a-4c7f-ae26-35f2c576f688"
      },
      "execution_count": 70,
      "outputs": [
        {
          "output_type": "display_data",
          "data": {
            "text/plain": [
              "<Figure size 432x288 with 1 Axes>"
            ],
            "image/png": "[encoded data removed]"
          },
          "metadata": {
            "needs_background": "light"
          }
        }
      ]
    },
    {
      "cell_type": "code",
      "source": [
        "#Dibujamos varianza\n",
        "plt.plot(x,sigma,x,[1]*iter)\n",
        "plt.ylim([0.7,1.05])\n",
        "plt.title('Evolución de la varianza')\n",
        "plt.show()"
      ],
      "metadata": {
        "colab": {
          "base_uri": "https://localhost:8080/",
          "height": 281
        },
        "id": "PP_cWSO04miE",
        "outputId": "aa5775e2-c37d-4819-a64a-eb0b2e2489d3"
      },
      "execution_count": 71,
      "outputs": [
        {
          "output_type": "display_data",
          "data": {
            "text/plain": [
              "<Figure size 432x288 with 1 Axes>"
            ],
            "image/png": "[encoded data removed]"
          },
          "metadata": {
            "needs_background": "light"
          }
        }
      ]
    },
    {
      "cell_type": "code",
      "source": [
        "import seaborn as sns\n",
        "\n",
        "x = np.random.randn(1000)\n",
        "\n",
        "sns.histplot(x)"
      ],
      "metadata": {
        "colab": {
          "base_uri": "https://localhost:8080/",
          "height": 283
        },
        "id": "t2AKKSqi1YA_",
        "outputId": "e48d4d63-387c-4392-9884-c377dc0a563a"
      },
      "execution_count": 53,
      "outputs": [
        {
          "output_type": "execute_result",
          "data": {
            "text/plain": [
              "<matplotlib.axes._subplots.AxesSubplot at 0x7f7e74bf2490>"
            ]
          },
          "metadata": {},
          "execution_count": 53
        },
        {
          "output_type": "display_data",
          "data": {
            "text/plain": [
              "<Figure size 432x288 with 1 Axes>"
            ],
            "image/png": "[encoded data removed]"
          },
          "metadata": {
            "needs_background": "light"
          }
        }
      ]
    },
    {
      "cell_type": "code",
      "source": [
        "x = np.random.rand(10000)\n",
        "\n",
        "sns.histplot(x)"
      ],
      "metadata": {
        "colab": {
          "base_uri": "https://localhost:8080/",
          "height": 283
        },
        "id": "EehRdIJ21fMB",
        "outputId": "b155a940-e2b5-48fd-c092-799ae44cd8ab"
      },
      "execution_count": 55,
      "outputs": [
        {
          "output_type": "execute_result",
          "data": {
            "text/plain": [
              "<matplotlib.axes._subplots.AxesSubplot at 0x7f7e7115b450>"
            ]
          },
          "metadata": {},
          "execution_count": 55
        },
        {
          "output_type": "display_data",
          "data": {
            "text/plain": [
              "<Figure size 432x288 with 1 Axes>"
            ],
            "image/png": "[encoded data removed]"
          },
          "metadata": {
            "needs_background": "light"
          }
        }
      ]
    },
    {
      "cell_type": "code",
      "source": [
        "import random\n",
        "\n",
        "def tirada(numero_tiradas:int) -> list: \n",
        "\n",
        "    resultados = []\n",
        "    \n",
        "    for i in range(numero_tiradas):\n",
        "        resultados.append(random.choice(range(1,7))) \n",
        "    \n",
        "    return resultados\n",
        "\n"
      ],
      "metadata": {
        "id": "BFxlrxeT6SZt"
      },
      "execution_count": 74,
      "outputs": []
    },
    {
      "cell_type": "code",
      "source": [
        "x = tirada(numero_tiradas = 1000)"
      ],
      "metadata": {
        "id": "fgXU8zYd6iKj"
      },
      "execution_count": 76,
      "outputs": []
    },
    {
      "cell_type": "code",
      "source": [
        "sns.histplot(x)"
      ],
      "metadata": {
        "colab": {
          "base_uri": "https://localhost:8080/",
          "height": 283
        },
        "id": "yW534bse6woi",
        "outputId": "c7ac4932-b1d8-4a4b-8b32-7abce5a0b320"
      },
      "execution_count": 77,
      "outputs": [
        {
          "output_type": "execute_result",
          "data": {
            "text/plain": [
              "<matplotlib.axes._subplots.AxesSubplot at 0x7f7e70eba650>"
            ]
          },
          "metadata": {},
          "execution_count": 77
        },
        {
          "output_type": "display_data",
          "data": {
            "text/plain": [
              "<Figure size 432x288 with 1 Axes>"
            ],
            "image/png": "[encoded data removed]"
          },
          "metadata": {
            "needs_background": "light"
          }
        }
      ]
    },
    {
      "cell_type": "markdown",
      "metadata": {
        "id": "EupAIGsYRxvf"
      },
      "source": [
        "Resultado esperado:\n",
        "```python\n",
        "array([[ 1.,  0.,  0.],\n",
        "       [ 0.,  1.,  0.],\n",
        "       [ 0.,  0.,  1.]])\n",
        "```"
      ]
    },
    {
      "cell_type": "markdown",
      "metadata": {
        "id": "L3sCquPXRIiD"
      },
      "source": [
        "#### Generar un número aleatorio proveniente de una distribución uniforme, entre 0 y 1"
      ]
    },
    {
      "cell_type": "code",
      "source": [
        "np.random.rand(1,1)"
      ],
      "metadata": {
        "colab": {
          "base_uri": "https://localhost:8080/"
        },
        "id": "Yf500aeg_1r6",
        "outputId": "156d9a2f-cd61-476c-da4f-6d54651ac906"
      },
      "execution_count": 92,
      "outputs": [
        {
          "output_type": "execute_result",
          "data": {
            "text/plain": [
              "array([[0.76521281]])"
            ]
          },
          "metadata": {},
          "execution_count": 92
        }
      ]
    },
    {
      "cell_type": "code",
      "execution_count": 93,
      "metadata": {
        "id": "LlsR9pb8RIiD",
        "outputId": "67f4dbab-4b16-4163-b684-2fa3abfa8587",
        "colab": {
          "base_uri": "https://localhost:8080/"
        }
      },
      "outputs": [
        {
          "output_type": "execute_result",
          "data": {
            "text/plain": [
              "0.07628731957690171"
            ]
          },
          "metadata": {},
          "execution_count": 93
        }
      ],
      "source": [
        "np.random.rand()"
      ]
    },
    {
      "cell_type": "code",
      "source": [
        "from numpy.random import default_rng # aportado por Demetrio\n",
        "\n",
        "# es un generador de números, que permite poner una semilla\n",
        "\n",
        "default_rng(seed=44).random((1))"
      ],
      "metadata": {
        "colab": {
          "base_uri": "https://localhost:8080/"
        },
        "id": "SPW-XJ_kAE8V",
        "outputId": "80a46d1b-77b1-4248-eaad-cd4e96849fed"
      },
      "execution_count": 107,
      "outputs": [
        {
          "output_type": "execute_result",
          "data": {
            "text/plain": [
              "array([0.12256551])"
            ]
          },
          "metadata": {},
          "execution_count": 107
        }
      ]
    },
    {
      "cell_type": "markdown",
      "metadata": {
        "id": "t7wgXNknRIiE"
      },
      "source": [
        "#### Obtener 25 números aleatorios procedentes de una distribución normal estandar"
      ]
    },
    {
      "cell_type": "code",
      "source": [
        "np.random.randn(25)"
      ],
      "metadata": {
        "colab": {
          "base_uri": "https://localhost:8080/"
        },
        "id": "fgWReAw9BmYx",
        "outputId": "425f8266-0231-4e46-d3eb-2a2fbc49c3d0"
      },
      "execution_count": 108,
      "outputs": [
        {
          "output_type": "execute_result",
          "data": {
            "text/plain": [
              "array([-1.43200755,  1.51732533, -0.88517955, -1.32517313, -1.08871969,\n",
              "       -1.21746594,  1.74824942,  1.34624772, -0.74654665,  0.38761174,\n",
              "       -1.12430126,  0.86501398,  1.00484041,  0.90137568, -1.05797418,\n",
              "       -1.33838559, -2.25193368, -0.09804499, -0.19151522,  0.26911993,\n",
              "        0.35523203,  1.09337073, -2.07045312,  0.08573904, -1.77159576])"
            ]
          },
          "metadata": {},
          "execution_count": 108
        }
      ]
    },
    {
      "cell_type": "code",
      "execution_count": 116,
      "metadata": {
        "id": "o1vCyZy5RIiE",
        "outputId": "bc6d1e22-b7e5-43a0-fd64-24e65ca04450",
        "colab": {
          "base_uri": "https://localhost:8080/",
          "height": 283
        }
      },
      "outputs": [
        {
          "output_type": "execute_result",
          "data": {
            "text/plain": [
              "<matplotlib.axes._subplots.AxesSubplot at 0x7f7e6ecfcd50>"
            ]
          },
          "metadata": {},
          "execution_count": 116
        },
        {
          "output_type": "display_data",
          "data": {
            "text/plain": [
              "<Figure size 432x288 with 1 Axes>"
            ],
            "image/png": "[encoded data removed]"
          },
          "metadata": {
            "needs_background": "light"
          }
        }
      ],
      "source": [
        "x = default_rng(seed = 44).random((1000))\n",
        "\n",
        "import seaborn as sns\n",
        "\n",
        "sns.histplot(x)"
      ]
    },
    {
      "cell_type": "code",
      "source": [
        "x = np.random.randn(25000)\n",
        "\n",
        "import seaborn as sns\n",
        "\n",
        "sns.histplot(x)"
      ],
      "metadata": {
        "colab": {
          "base_uri": "https://localhost:8080/",
          "height": 286
        },
        "id": "y5UsG-lEC_11",
        "outputId": "d933ca9d-5c38-4977-f37f-0c80247e0867"
      },
      "execution_count": 118,
      "outputs": [
        {
          "output_type": "execute_result",
          "data": {
            "text/plain": [
              "<matplotlib.axes._subplots.AxesSubplot at 0x7f7e6ebf8fd0>"
            ]
          },
          "metadata": {},
          "execution_count": 118
        },
        {
          "output_type": "display_data",
          "data": {
            "text/plain": [
              "<Figure size 432x288 with 1 Axes>"
            ],
            "image/png": "[encoded data removed]"
          },
          "metadata": {
            "needs_background": "light"
          }
        }
      ]
    },
    {
      "cell_type": "markdown",
      "metadata": {
        "id": "vP-8vGxgRIiE"
      },
      "source": [
        "#### Genera la siguiente matriz:\n",
        "```python\n",
        "array([[ 0.01,  0.02,  0.03,  0.04,  0.05,  0.06,  0.07,  0.08,  0.09,  0.1 ],\n",
        "       [ 0.11,  0.12,  0.13,  0.14,  0.15,  0.16,  0.17,  0.18,  0.19,  0.2 ],\n",
        "       [ 0.21,  0.22,  0.23,  0.24,  0.25,  0.26,  0.27,  0.28,  0.29,  0.3 ],\n",
        "       [ 0.31,  0.32,  0.33,  0.34,  0.35,  0.36,  0.37,  0.38,  0.39,  0.4 ],\n",
        "       [ 0.41,  0.42,  0.43,  0.44,  0.45,  0.46,  0.47,  0.48,  0.49,  0.5 ],\n",
        "       [ 0.51,  0.52,  0.53,  0.54,  0.55,  0.56,  0.57,  0.58,  0.59,  0.6 ],\n",
        "       [ 0.61,  0.62,  0.63,  0.64,  0.65,  0.66,  0.67,  0.68,  0.69,  0.7 ],\n",
        "       [ 0.71,  0.72,  0.73,  0.74,  0.75,  0.76,  0.77,  0.78,  0.79,  0.8 ],\n",
        "       [ 0.81,  0.82,  0.83,  0.84,  0.85,  0.86,  0.87,  0.88,  0.89,  0.9 ],\n",
        "       [ 0.91,  0.92,  0.93,  0.94,  0.95,  0.96,  0.97,  0.98,  0.99,  1.  ]])\n",
        "```"
      ]
    },
    {
      "cell_type": "code",
      "source": [
        "np.arange(start=0.01, stop=1.01, step=0.01).reshape(10,10)"
      ],
      "metadata": {
        "colab": {
          "base_uri": "https://localhost:8080/"
        },
        "id": "mJEhpCuuDcCI",
        "outputId": "83720a6f-c111-43ed-9b36-f69d6de1e3d6"
      },
      "execution_count": 121,
      "outputs": [
        {
          "output_type": "execute_result",
          "data": {
            "text/plain": [
              "array([[0.01, 0.02, 0.03, 0.04, 0.05, 0.06, 0.07, 0.08, 0.09, 0.1 ],\n",
              "       [0.11, 0.12, 0.13, 0.14, 0.15, 0.16, 0.17, 0.18, 0.19, 0.2 ],\n",
              "       [0.21, 0.22, 0.23, 0.24, 0.25, 0.26, 0.27, 0.28, 0.29, 0.3 ],\n",
              "       [0.31, 0.32, 0.33, 0.34, 0.35, 0.36, 0.37, 0.38, 0.39, 0.4 ],\n",
              "       [0.41, 0.42, 0.43, 0.44, 0.45, 0.46, 0.47, 0.48, 0.49, 0.5 ],\n",
              "       [0.51, 0.52, 0.53, 0.54, 0.55, 0.56, 0.57, 0.58, 0.59, 0.6 ],\n",
              "       [0.61, 0.62, 0.63, 0.64, 0.65, 0.66, 0.67, 0.68, 0.69, 0.7 ],\n",
              "       [0.71, 0.72, 0.73, 0.74, 0.75, 0.76, 0.77, 0.78, 0.79, 0.8 ],\n",
              "       [0.81, 0.82, 0.83, 0.84, 0.85, 0.86, 0.87, 0.88, 0.89, 0.9 ],\n",
              "       [0.91, 0.92, 0.93, 0.94, 0.95, 0.96, 0.97, 0.98, 0.99, 1.  ]])"
            ]
          },
          "metadata": {},
          "execution_count": 121
        }
      ]
    },
    {
      "cell_type": "code",
      "execution_count": 119,
      "metadata": {
        "id": "EW_jWq2ZRIiE",
        "colab": {
          "base_uri": "https://localhost:8080/"
        },
        "outputId": "bc2fca33-bd5d-452f-80da-60cac3158301"
      },
      "outputs": [
        {
          "output_type": "execute_result",
          "data": {
            "text/plain": [
              "array([[0.01, 0.02, 0.03, 0.04, 0.05, 0.06, 0.07, 0.08, 0.09, 0.1 ],\n",
              "       [0.11, 0.12, 0.13, 0.14, 0.15, 0.16, 0.17, 0.18, 0.19, 0.2 ],\n",
              "       [0.21, 0.22, 0.23, 0.24, 0.25, 0.26, 0.27, 0.28, 0.29, 0.3 ],\n",
              "       [0.31, 0.32, 0.33, 0.34, 0.35, 0.36, 0.37, 0.38, 0.39, 0.4 ],\n",
              "       [0.41, 0.42, 0.43, 0.44, 0.45, 0.46, 0.47, 0.48, 0.49, 0.5 ],\n",
              "       [0.51, 0.52, 0.53, 0.54, 0.55, 0.56, 0.57, 0.58, 0.59, 0.6 ],\n",
              "       [0.61, 0.62, 0.63, 0.64, 0.65, 0.66, 0.67, 0.68, 0.69, 0.7 ],\n",
              "       [0.71, 0.72, 0.73, 0.74, 0.75, 0.76, 0.77, 0.78, 0.79, 0.8 ],\n",
              "       [0.81, 0.82, 0.83, 0.84, 0.85, 0.86, 0.87, 0.88, 0.89, 0.9 ],\n",
              "       [0.91, 0.92, 0.93, 0.94, 0.95, 0.96, 0.97, 0.98, 0.99, 1.  ]])"
            ]
          },
          "metadata": {},
          "execution_count": 119
        }
      ],
      "source": [
        "np.arange(100).reshape(10,10)*0.01+0.01"
      ]
    },
    {
      "cell_type": "code",
      "source": [
        "np.linspace(start=0.01, stop=1, num=100).reshape(10,10)"
      ],
      "metadata": {
        "colab": {
          "base_uri": "https://localhost:8080/"
        },
        "id": "DLWwJx6jD7F9",
        "outputId": "71e2817c-2d92-42df-b588-bfaafd0b9689"
      },
      "execution_count": 125,
      "outputs": [
        {
          "output_type": "execute_result",
          "data": {
            "text/plain": [
              "array([[0.01, 0.02, 0.03, 0.04, 0.05, 0.06, 0.07, 0.08, 0.09, 0.1 ],\n",
              "       [0.11, 0.12, 0.13, 0.14, 0.15, 0.16, 0.17, 0.18, 0.19, 0.2 ],\n",
              "       [0.21, 0.22, 0.23, 0.24, 0.25, 0.26, 0.27, 0.28, 0.29, 0.3 ],\n",
              "       [0.31, 0.32, 0.33, 0.34, 0.35, 0.36, 0.37, 0.38, 0.39, 0.4 ],\n",
              "       [0.41, 0.42, 0.43, 0.44, 0.45, 0.46, 0.47, 0.48, 0.49, 0.5 ],\n",
              "       [0.51, 0.52, 0.53, 0.54, 0.55, 0.56, 0.57, 0.58, 0.59, 0.6 ],\n",
              "       [0.61, 0.62, 0.63, 0.64, 0.65, 0.66, 0.67, 0.68, 0.69, 0.7 ],\n",
              "       [0.71, 0.72, 0.73, 0.74, 0.75, 0.76, 0.77, 0.78, 0.79, 0.8 ],\n",
              "       [0.81, 0.82, 0.83, 0.84, 0.85, 0.86, 0.87, 0.88, 0.89, 0.9 ],\n",
              "       [0.91, 0.92, 0.93, 0.94, 0.95, 0.96, 0.97, 0.98, 0.99, 1.  ]])"
            ]
          },
          "metadata": {},
          "execution_count": 125
        }
      ]
    },
    {
      "cell_type": "markdown",
      "metadata": {
        "id": "qFJ4-NKoRIiE"
      },
      "source": [
        "#### Crear un vector de 20 valores equidistantes entre 0 y 1"
      ]
    },
    {
      "cell_type": "code",
      "execution_count": 126,
      "metadata": {
        "id": "2F_v18AQRIiE",
        "colab": {
          "base_uri": "https://localhost:8080/"
        },
        "outputId": "feba9c1f-0c20-49ec-a9e8-bfcb04406329"
      },
      "outputs": [
        {
          "output_type": "execute_result",
          "data": {
            "text/plain": [
              "array([0.        , 0.05263158, 0.10526316, 0.15789474, 0.21052632,\n",
              "       0.26315789, 0.31578947, 0.36842105, 0.42105263, 0.47368421,\n",
              "       0.52631579, 0.57894737, 0.63157895, 0.68421053, 0.73684211,\n",
              "       0.78947368, 0.84210526, 0.89473684, 0.94736842, 1.        ])"
            ]
          },
          "metadata": {},
          "execution_count": 126
        }
      ],
      "source": [
        "np.linspace(0,1,20)"
      ]
    },
    {
      "cell_type": "markdown",
      "metadata": {
        "id": "QwuoZOcXR1dD"
      },
      "source": [
        "Resultado esperado:\n",
        "```python\n",
        "array([ 0.        ,  0.05263158,  0.10526316,  0.15789474,  0.21052632,\n",
        "        0.26315789,  0.31578947,  0.36842105,  0.42105263,  0.47368421,\n",
        "        0.52631579,  0.57894737,  0.63157895,  0.68421053,  0.73684211,\n",
        "        0.78947368,  0.84210526,  0.89473684,  0.94736842,  1.        ])\n",
        "```"
      ]
    },
    {
      "cell_type": "markdown",
      "metadata": {
        "id": "OP15n-XwRIiF"
      },
      "source": [
        "## Numpy Indexado y filtrado\n",
        "\n",
        "Dada la siguiente matriz, realice las operaciones pertinentes para obtener la salida que se pide:"
      ]
    },
    {
      "cell_type": "code",
      "execution_count": 146,
      "metadata": {
        "colab": {
          "base_uri": "https://localhost:8080/"
        },
        "id": "g2r2QKD2RIiF",
        "outputId": "bb29921d-9e26-4b8c-a5db-da6212862290"
      },
      "outputs": [
        {
          "output_type": "execute_result",
          "data": {
            "text/plain": [
              "array([[ 1,  2,  3,  4,  5],\n",
              "       [ 6,  7,  8,  9, 10],\n",
              "       [11, 12, 13, 14, 15],\n",
              "       [16, 17, 18, 19, 20],\n",
              "       [21, 22, 23, 24, 25]])"
            ]
          },
          "metadata": {},
          "execution_count": 146
        }
      ],
      "source": [
        "mat = np.arange(1,26).reshape(5,5)\n",
        "mat"
      ]
    },
    {
      "cell_type": "markdown",
      "metadata": {
        "id": "NTzJ8PDjRePZ"
      },
      "source": [
        "**Primer ejercicio**"
      ]
    },
    {
      "cell_type": "code",
      "source": [
        "mat[2:,1:]"
      ],
      "metadata": {
        "colab": {
          "base_uri": "https://localhost:8080/"
        },
        "id": "PGo2DAj3HTB_",
        "outputId": "27a94d37-99cf-48fd-99a9-e72977d04c61"
      },
      "execution_count": 147,
      "outputs": [
        {
          "output_type": "execute_result",
          "data": {
            "text/plain": [
              "array([[12, 13, 14, 15],\n",
              "       [17, 18, 19, 20],\n",
              "       [22, 23, 24, 25]])"
            ]
          },
          "metadata": {},
          "execution_count": 147
        }
      ]
    },
    {
      "cell_type": "markdown",
      "metadata": {
        "id": "m5Trpn7qRPB7"
      },
      "source": [
        "*Resultado esperado:*\n",
        "\n",
        "\n",
        "```\n",
        "array([[12, 13, 14, 15],\n",
        "       [17, 18, 19, 20],\n",
        "       [22, 23, 24, 25]])\n",
        "```\n",
        "\n"
      ]
    },
    {
      "cell_type": "markdown",
      "metadata": {
        "id": "m8OoFNHCRjz5"
      },
      "source": [
        "**Segundo ejercicio**"
      ]
    },
    {
      "cell_type": "code",
      "execution_count": 149,
      "metadata": {
        "id": "vWIH1YBpRIiG",
        "colab": {
          "base_uri": "https://localhost:8080/"
        },
        "outputId": "5ec06985-a53a-4f2c-9d1d-b652a911acc4"
      },
      "outputs": [
        {
          "output_type": "execute_result",
          "data": {
            "text/plain": [
              "20"
            ]
          },
          "metadata": {},
          "execution_count": 149
        }
      ],
      "source": [
        "mat[3,4]"
      ]
    },
    {
      "cell_type": "markdown",
      "metadata": {
        "id": "oBEamwM1RlVI"
      },
      "source": [
        "*Resultado esperado:*\n",
        "\n",
        "```\n",
        "20\n",
        "```\n",
        "\n"
      ]
    },
    {
      "cell_type": "markdown",
      "metadata": {
        "id": "8NWvS9L7RvWQ"
      },
      "source": [
        "**Tercer ejercicio**"
      ]
    },
    {
      "cell_type": "code",
      "source": [
        "mat[:3,1:2]"
      ],
      "metadata": {
        "colab": {
          "base_uri": "https://localhost:8080/"
        },
        "id": "nFYzm5CnI5nf",
        "outputId": "14117109-9c31-46b3-ff59-66e3a07da78c"
      },
      "execution_count": 157,
      "outputs": [
        {
          "output_type": "execute_result",
          "data": {
            "text/plain": [
              "array([[ 2],\n",
              "       [ 7],\n",
              "       [12]])"
            ]
          },
          "metadata": {},
          "execution_count": 157
        }
      ]
    },
    {
      "cell_type": "code",
      "execution_count": 158,
      "metadata": {
        "id": "6kUHBQL4RIiG",
        "colab": {
          "base_uri": "https://localhost:8080/"
        },
        "outputId": "dcf228c6-240d-4320-c6ad-a71df1da1e3f"
      },
      "outputs": [
        {
          "output_type": "execute_result",
          "data": {
            "text/plain": [
              "array([ 2,  7, 12])"
            ]
          },
          "metadata": {},
          "execution_count": 158
        }
      ],
      "source": [
        "mat[0:3,1].reshape(3,1) # este no es el buscado"
      ]
    },
    {
      "cell_type": "markdown",
      "metadata": {
        "id": "gk1mKf1zRp6b"
      },
      "source": [
        "*Resultado esperado:*\n",
        "\n",
        "```\n",
        "array([[ 2],\n",
        "       [ 7],\n",
        "       [12]])\n",
        "```\n",
        "\n"
      ]
    },
    {
      "cell_type": "markdown",
      "metadata": {
        "id": "EkMHkz5YR0Nc"
      },
      "source": [
        "**Cuarto ejercicio**"
      ]
    },
    {
      "cell_type": "code",
      "execution_count": 163,
      "metadata": {
        "id": "z26vre6oRIiG",
        "colab": {
          "base_uri": "https://localhost:8080/"
        },
        "outputId": "55b5e6ab-b0f3-4c22-bfe8-721c1b713e9b"
      },
      "outputs": [
        {
          "output_type": "execute_result",
          "data": {
            "text/plain": [
              "array([21, 22, 23, 24, 25])"
            ]
          },
          "metadata": {},
          "execution_count": 163
        }
      ],
      "source": [
        "mat[4,:]"
      ]
    },
    {
      "cell_type": "markdown",
      "metadata": {
        "id": "lIXjmbuTR2Vt"
      },
      "source": [
        "*Resultado esperado:*\n",
        "\n",
        "\n",
        "```\n",
        "array([21, 22, 23, 24, 25])\n",
        "```\n",
        "\n"
      ]
    },
    {
      "cell_type": "markdown",
      "metadata": {
        "id": "vipI0k6lSDIu"
      },
      "source": [
        "**Quinto ejercicio**"
      ]
    },
    {
      "cell_type": "code",
      "execution_count": 166,
      "metadata": {
        "id": "KJ-Cl1HhRIiH",
        "colab": {
          "base_uri": "https://localhost:8080/"
        },
        "outputId": "0cf59881-52d2-4868-8a3b-d8d676c94abc"
      },
      "outputs": [
        {
          "output_type": "execute_result",
          "data": {
            "text/plain": [
              "array([[16, 17, 18, 19, 20],\n",
              "       [21, 22, 23, 24, 25]])"
            ]
          },
          "metadata": {},
          "execution_count": 166
        }
      ],
      "source": [
        "mat[3:,:]"
      ]
    },
    {
      "cell_type": "markdown",
      "metadata": {
        "id": "V80uC3l1SE0C"
      },
      "source": [
        "*Resultado esperado:*\n",
        "\n",
        "\n",
        "```python\n",
        "array([[16, 17, 18, 19, 20],\n",
        "       [21, 22, 23, 24, 25]])\n",
        "```\n",
        "\n"
      ]
    },
    {
      "cell_type": "markdown",
      "metadata": {
        "id": "KcTRfLX9RIiH"
      },
      "source": [
        "### Realice los siguiente cálculos:"
      ]
    },
    {
      "cell_type": "markdown",
      "metadata": {
        "id": "PFRXKYn7RIiH"
      },
      "source": [
        "#### Obtenga la suma de todos los valores de la matriz"
      ]
    },
    {
      "cell_type": "code",
      "source": [
        "np.sum(mat, axis = 1)"
      ],
      "metadata": {
        "colab": {
          "base_uri": "https://localhost:8080/"
        },
        "id": "rrli7wmBO81i",
        "outputId": "36667827-d8e6-4ba3-c853-1c44644c3ff0"
      },
      "execution_count": 180,
      "outputs": [
        {
          "output_type": "execute_result",
          "data": {
            "text/plain": [
              "array([ 15,  40,  65,  90, 115])"
            ]
          },
          "metadata": {},
          "execution_count": 180
        }
      ]
    },
    {
      "cell_type": "code",
      "source": [
        "np.sum(mat, axis = 0)"
      ],
      "metadata": {
        "colab": {
          "base_uri": "https://localhost:8080/"
        },
        "id": "OSrSMJvDPpJm",
        "outputId": "e7929f2b-b128-47b2-af5e-c1bba606ee0c"
      },
      "execution_count": 184,
      "outputs": [
        {
          "output_type": "execute_result",
          "data": {
            "text/plain": [
              "array([55, 60, 65, 70, 75])"
            ]
          },
          "metadata": {},
          "execution_count": 184
        }
      ]
    },
    {
      "cell_type": "code",
      "source": [
        "np.sum(mat)"
      ],
      "metadata": {
        "colab": {
          "base_uri": "https://localhost:8080/"
        },
        "id": "kBgiwMtdPkpE",
        "outputId": "b64140c0-dd79-49a7-d675-43b52cbf1416"
      },
      "execution_count": 182,
      "outputs": [
        {
          "output_type": "execute_result",
          "data": {
            "text/plain": [
              "325"
            ]
          },
          "metadata": {},
          "execution_count": 182
        }
      ]
    },
    {
      "cell_type": "markdown",
      "metadata": {
        "id": "4prCk6RrWde5"
      },
      "source": [
        "*Resultado esperado:*\n",
        "\n",
        "\n",
        "```python\n",
        "325\n",
        "```"
      ]
    },
    {
      "cell_type": "markdown",
      "metadata": {
        "id": "kPhqT_t2RIiI"
      },
      "source": [
        "#### Calcule la desviación típica de los valores de la matriz"
      ]
    },
    {
      "cell_type": "code",
      "execution_count": 185,
      "metadata": {
        "id": "AkbRHGPHRIiI",
        "colab": {
          "base_uri": "https://localhost:8080/"
        },
        "outputId": "fdb9784b-9fd5-4fb3-8cc4-2680ed5a132b"
      },
      "outputs": [
        {
          "output_type": "execute_result",
          "data": {
            "text/plain": [
              "7.211102550927978"
            ]
          },
          "metadata": {},
          "execution_count": 185
        }
      ],
      "source": [
        "np.std(mat)"
      ]
    },
    {
      "cell_type": "markdown",
      "metadata": {
        "id": "R6IX88B2WlYI"
      },
      "source": [
        "*Resultado esperado:*\n",
        "\n",
        "\n",
        "```python\n",
        "7.211102550927978\n",
        "```"
      ]
    },
    {
      "cell_type": "markdown",
      "metadata": {
        "id": "45k7vltPRIiI"
      },
      "source": [
        "#### Sume los valores por columnas\n",
        "\n"
      ]
    },
    {
      "cell_type": "code",
      "execution_count": 189,
      "metadata": {
        "id": "20oUnU_oRIiI",
        "colab": {
          "base_uri": "https://localhost:8080/"
        },
        "outputId": "c595511d-ea9e-4e27-815c-2cf405bb6c32"
      },
      "outputs": [
        {
          "output_type": "execute_result",
          "data": {
            "text/plain": [
              "array([55, 60, 65, 70, 75])"
            ]
          },
          "metadata": {},
          "execution_count": 189
        }
      ],
      "source": [
        "sum(mat)"
      ]
    },
    {
      "cell_type": "code",
      "source": [
        "np.sum(mat, axis = 0)"
      ],
      "metadata": {
        "colab": {
          "base_uri": "https://localhost:8080/"
        },
        "id": "qZFfAe_cQa02",
        "outputId": "3d059aef-9a8e-4cc0-a9bc-958106c3f2ce"
      },
      "execution_count": 195,
      "outputs": [
        {
          "output_type": "execute_result",
          "data": {
            "text/plain": [
              "array([55, 60, 65, 70, 75])"
            ]
          },
          "metadata": {},
          "execution_count": 195
        }
      ]
    },
    {
      "cell_type": "markdown",
      "metadata": {
        "id": "7Kpw2rYTWy06"
      },
      "source": [
        "*Resultado esperado:*\n",
        "\n",
        "\n",
        "```python\n",
        "array([55, 60, 65, 70, 75])\n",
        "```"
      ]
    },
    {
      "cell_type": "markdown",
      "metadata": {
        "id": "cPZ71YAcW9Fk"
      },
      "source": [
        "## Avanzado"
      ]
    },
    {
      "cell_type": "markdown",
      "metadata": {
        "id": "vB6yDnKCXR9i"
      },
      "source": [
        "### Obtenga el rango de la siguiente matriz cuadrada:\n",
        "\n",
        "```python\n",
        "Z = np.random.uniform(0,1,(10,10))\n",
        "```\n",
        "\n",
        "*(Indicaciones: Al ser cuadrada, podemos analizar sus autovalores)*"
      ]
    },
    {
      "cell_type": "markdown",
      "source": [
        "$$\n",
        "2*(1,2,3) = (2,4,6)\n",
        "$$"
      ],
      "metadata": {
        "id": "ZxA5jyBoRSdO"
      }
    },
    {
      "cell_type": "code",
      "source": [
        ""
      ],
      "metadata": {
        "id": "j-ESsbb1RQXH"
      },
      "execution_count": null,
      "outputs": []
    },
    {
      "cell_type": "code",
      "execution_count": 196,
      "metadata": {
        "id": "67ro7ATzW-JH",
        "colab": {
          "base_uri": "https://localhost:8080/"
        },
        "outputId": "67a8f10c-64c7-4d71-bcda-7000c9d5a276"
      },
      "outputs": [
        {
          "output_type": "stream",
          "name": "stdout",
          "text": [
            "10\n"
          ]
        }
      ],
      "source": [
        "Z = np.random.uniform(0,1,(10,10))\n",
        "U, S, V = np.linalg.svd(Z) # Singular Value Decomposition\n",
        "rank = np.sum(S > 1e-10)\n",
        "print(rank)"
      ]
    },
    {
      "cell_type": "markdown",
      "metadata": {
        "id": "JHoNtHdbXuIt"
      },
      "source": [
        "### Implemente el algoritmo k-NN (*k Nearest Neighbours*)\n",
        "\n",
        "*Indicaciones: Este algoritmo de aprendizaje supervisado consiste en asignar, a cada elemento, la media de las labels de los k vecinos más cercanos que tenga dicho elemento.*\n",
        "\n",
        "\n",
        "*Veámoslo sobre un ejemplo: Supongamos que tenemos una serie de variables comportamentales de estudiantes (visualizaciones, ediciones, creaciones y descargas):*\n",
        "\n",
        "```python\n",
        "array([[19,  7, 12,  4],\n",
        "       [19,  0,  7,  9],\n",
        "       [17, 12, 17,  6],\n",
        "       [ 8, 10,  1, 12],\n",
        "       [ 9,  6,  0, 15],\n",
        "       [11, 18,  1, 14],\n",
        "       [16,  8, 12,  1],\n",
        "       [ 2, 13,  6, 17],\n",
        "       [ 0,  7, 13,  8],\n",
        "       [15,  9, 10, 15]])\n",
        "```\n",
        "\n",
        "*Asociado a estos datos, tenemos además una calificación del estudiante a final de curso:*\n",
        "\n",
        "```python\n",
        "array([[6],\n",
        "       [4],\n",
        "       [7],\n",
        "       [4],\n",
        "       [3],\n",
        "       [9],\n",
        "       [9],\n",
        "       [5],\n",
        "       [3],\n",
        "       [4]])\n",
        "```\n",
        "\n",
        "*A los datos que usamos para tratar de estimar las calificaciones los llamaremos features, y a la nota en sí la label del problema. Cada fila es el registro de un alumno, por lo que entendemos que la información de los estudiantes la podemos representar en un espacio 4-dimensional.*\n",
        "\n",
        "*Bajo estas circunstancias, el algoritmo sigue estos pasos:*\n",
        "\n",
        "1.  *Para un cierto estudiante sin calificación, calculamos la distancia (en el mencionado espacio 4-dimensional) del estudiante sin calificar a cada uno de los calificados.*\n",
        "\n",
        "2.  *Habiendo prefijado el parámetro k, escogemos las notas de los k estudiantes más cercanos.*\n",
        "\n",
        "3.  *Hacemos la media (moda en caso discreto) de estos datos, y esa será la estimación que tengamos del alumno.*\n"
      ]
    },
    {
      "cell_type": "code",
      "source": [
        "A = np.array([1,3,4])\n",
        "B = np.array([7,8,9])"
      ],
      "metadata": {
        "id": "rbuadj91Vbwh"
      },
      "execution_count": 197,
      "outputs": []
    },
    {
      "cell_type": "code",
      "source": [
        "np.sqrt(np.sum((B-A)**2))"
      ],
      "metadata": {
        "colab": {
          "base_uri": "https://localhost:8080/"
        },
        "id": "sCQOAi1sVmHW",
        "outputId": "f6bd54a0-74e8-4b3a-adb2-7d4b07b35767"
      },
      "execution_count": 201,
      "outputs": [
        {
          "output_type": "execute_result",
          "data": {
            "text/plain": [
              "9.273618495495704"
            ]
          },
          "metadata": {},
          "execution_count": 201
        }
      ]
    },
    {
      "cell_type": "code",
      "execution_count": 231,
      "metadata": {
        "id": "T4oWMD5eX_et"
      },
      "outputs": [],
      "source": [
        "#Creamos función que, dados dos arrays 1D, nos devuelva la distancia euclídea de los mismos\n",
        "def euclidean_distance(vec1, vec2):\n",
        "  #Algunas comprobaciones para mejorar la búsqueda de errores en código son:\n",
        "  #if (type(vec1)!=np.ndarray) | (type(vec2)!=np.ndarray):\n",
        "  # raise ValueError('El formato de alguno de los vectores de entrada no es np.array.')\n",
        "  #if vec1.shape!=vec2.shape:\n",
        "  # raise ValueError('Los arrays de entrada no tienen la misma forma.')\n",
        "  return np.sqrt(np.sum((vec1-vec2)**2, axis = -1))"
      ]
    },
    {
      "cell_type": "code",
      "source": [
        "#Fijamos número de \"vecinos\" en los que basar la nota\n",
        "k = 2\n",
        "\n",
        "#Obtenemos features\n",
        "features = np.array([[19,  7, 12,  4],\n",
        "                     [19,  0,  7,  9],\n",
        "                     [17, 12, 17,  6],\n",
        "                     [ 8, 10,  1, 12],\n",
        "                     [ 9,  6,  0, 15],\n",
        "                     [11, 18,  1, 14],\n",
        "                     [16,  8, 12,  1],\n",
        "                     [ 2, 13,  6, 17],\n",
        "                     [ 0,  7, 13,  8],\n",
        "                     [15,  9, 10, 15]])\n",
        "\n",
        "#Obtenemos label\n",
        "label = np.array([[6],[4],[7],[4],[3],[9],[9],[5],[3],[4]])\n",
        "\n",
        "#Fijamos un alumno nuevo\n",
        "new_student = np.array([15, 6, 5, 2])"
      ],
      "metadata": {
        "id": "1NimVumCWnv5"
      },
      "execution_count": 232,
      "outputs": []
    },
    {
      "cell_type": "code",
      "source": [
        "#Calculamos distancias\n",
        "distances = np.zeros(label.shape) #Inicializamos un array para contener las distancias\n",
        "distances"
      ],
      "metadata": {
        "colab": {
          "base_uri": "https://localhost:8080/"
        },
        "id": "YH2fkokAXLKI",
        "outputId": "3482d73e-4625-4e49-ddd7-e6fd5e648e95"
      },
      "execution_count": 234,
      "outputs": [
        {
          "output_type": "execute_result",
          "data": {
            "text/plain": [
              "array([[0.],\n",
              "       [0.],\n",
              "       [0.],\n",
              "       [0.],\n",
              "       [0.],\n",
              "       [0.],\n",
              "       [0.],\n",
              "       [0.],\n",
              "       [0.],\n",
              "       [0.]])"
            ]
          },
          "metadata": {},
          "execution_count": 234
        }
      ]
    },
    {
      "cell_type": "code",
      "source": [
        "np.arange(label.shape[0])"
      ],
      "metadata": {
        "colab": {
          "base_uri": "https://localhost:8080/"
        },
        "id": "5PHWjnzkXP8H",
        "outputId": "7744176c-1bd1-4d58-f291-e0329acc0167"
      },
      "execution_count": 227,
      "outputs": [
        {
          "output_type": "execute_result",
          "data": {
            "text/plain": [
              "array([0, 1, 2, 3, 4, 5, 6, 7, 8, 9])"
            ]
          },
          "metadata": {},
          "execution_count": 227
        }
      ]
    },
    {
      "cell_type": "code",
      "source": [
        "for i in np.arange(label.shape[0]):\n",
        "    distances[i] = euclidean_distance(features[i,:], new_student)"
      ],
      "metadata": {
        "id": "FJ3PxMjIXLDf"
      },
      "execution_count": 235,
      "outputs": []
    },
    {
      "cell_type": "code",
      "source": [
        "distances"
      ],
      "metadata": {
        "colab": {
          "base_uri": "https://localhost:8080/"
        },
        "id": "tVQxYuUwXK5U",
        "outputId": "c06b9d3b-1dae-41c7-ab3c-9006a1f94ddb"
      },
      "execution_count": 236,
      "outputs": [
        {
          "output_type": "execute_result",
          "data": {
            "text/plain": [
              "array([[ 8.36660027],\n",
              "       [10.24695077],\n",
              "       [14.14213562],\n",
              "       [13.45362405],\n",
              "       [15.16575089],\n",
              "       [17.88854382],\n",
              "       [ 7.41619849],\n",
              "       [21.07130751],\n",
              "       [18.05547009],\n",
              "       [14.24780685]])"
            ]
          },
          "metadata": {},
          "execution_count": 236
        }
      ]
    },
    {
      "cell_type": "code",
      "source": [
        "matriz_distancia_aplanada = distances.reshape(-1)\n",
        "matriz_distancia_aplanada"
      ],
      "metadata": {
        "colab": {
          "base_uri": "https://localhost:8080/"
        },
        "id": "r40zCqSkbrGr",
        "outputId": "cddb7627-88dc-40a6-ded1-29197dff7a4d"
      },
      "execution_count": 239,
      "outputs": [
        {
          "output_type": "execute_result",
          "data": {
            "text/plain": [
              "array([ 8.36660027, 10.24695077, 14.14213562, 13.45362405, 15.16575089,\n",
              "       17.88854382,  7.41619849, 21.07130751, 18.05547009, 14.24780685])"
            ]
          },
          "metadata": {},
          "execution_count": 239
        }
      ]
    },
    {
      "cell_type": "code",
      "source": [
        "np.argpartition(matriz_distancia_aplanada, k)\n"
      ],
      "metadata": {
        "colab": {
          "base_uri": "https://localhost:8080/"
        },
        "id": "n6Rav3hWcSPD",
        "outputId": "8abcc4f6-ea18-4409-a5bc-98ba3218477c"
      },
      "execution_count": 248,
      "outputs": [
        {
          "output_type": "execute_result",
          "data": {
            "text/plain": [
              "array([6, 0, 1, 3, 4, 5, 2, 7, 8, 9])"
            ]
          },
          "metadata": {},
          "execution_count": 248
        }
      ]
    },
    {
      "cell_type": "code",
      "source": [
        "np.argpartition(matriz_distancia_aplanada, k)[:k]"
      ],
      "metadata": {
        "colab": {
          "base_uri": "https://localhost:8080/"
        },
        "id": "j2sqrjoucUcP",
        "outputId": "a60aef14-abbb-4356-c3c0-84d9f1507466"
      },
      "execution_count": 249,
      "outputs": [
        {
          "output_type": "execute_result",
          "data": {
            "text/plain": [
              "array([6, 0])"
            ]
          },
          "metadata": {},
          "execution_count": 249
        }
      ]
    },
    {
      "cell_type": "code",
      "source": [
        "optimal_idx = np.argpartition(matriz_distancia_aplanada, k)[:k]\n",
        "optimal_idx"
      ],
      "metadata": {
        "colab": {
          "base_uri": "https://localhost:8080/"
        },
        "id": "AIId7qDLbpJL",
        "outputId": "83d0caa1-ace1-4aa8-b9b4-c69e0b43ab19"
      },
      "execution_count": 242,
      "outputs": [
        {
          "output_type": "execute_result",
          "data": {
            "text/plain": [
              "array([6, 0])"
            ]
          },
          "metadata": {},
          "execution_count": 242
        }
      ]
    },
    {
      "cell_type": "code",
      "source": [
        "np.mean(label[optimal_idx])"
      ],
      "metadata": {
        "colab": {
          "base_uri": "https://localhost:8080/"
        },
        "id": "NY_5m7F2cEgl",
        "outputId": "d3d0958b-34d9-496e-a16d-f4bd15c97524"
      },
      "execution_count": 246,
      "outputs": [
        {
          "output_type": "execute_result",
          "data": {
            "text/plain": [
              "7.5"
            ]
          },
          "metadata": {},
          "execution_count": 246
        }
      ]
    },
    {
      "cell_type": "code",
      "execution_count": 230,
      "metadata": {
        "colab": {
          "base_uri": "https://localhost:8080/"
        },
        "id": "lNyRzo4NtjW1",
        "outputId": "f109a67e-db1b-4398-fc56-62efedf8a7e4"
      },
      "outputs": [
        {
          "output_type": "stream",
          "name": "stdout",
          "text": [
            "La predicción para el nuevo estudiante es: 7.5\n"
          ]
        }
      ],
      "source": [
        "#Obtenemos los índices de los k vecinos más próximos\n",
        "optimal_idx = np.argpartition(distances.reshape(-1), k)[:k]\n",
        "\n",
        "#Mostramos resultado\n",
        "label_new_student = np.round(np.mean(label[optimal_idx]),2)\n",
        "print('La predicción para el nuevo estudiante es: {}'.format(label_new_student))"
      ]
    },
    {
      "cell_type": "code",
      "source": [
        "import numpy as np\n",
        "from sklearn.impute import KNNImputer\n",
        "\n"
      ],
      "metadata": {
        "id": "ChFTUDiBc8rW"
      },
      "execution_count": 250,
      "outputs": []
    },
    {
      "cell_type": "code",
      "source": [
        "X = [[1, 2, np.nan], [3, 4, 3], [np.nan, 6, 5], [8, 8, 7]]\n",
        "X"
      ],
      "metadata": {
        "colab": {
          "base_uri": "https://localhost:8080/"
        },
        "id": "lUK3MJpYdCzM",
        "outputId": "2075015e-7de8-4e0d-c178-387cf45e6b81"
      },
      "execution_count": 251,
      "outputs": [
        {
          "output_type": "execute_result",
          "data": {
            "text/plain": [
              "[[1, 2, nan], [3, 4, 3], [nan, 6, 5], [8, 8, 7]]"
            ]
          },
          "metadata": {},
          "execution_count": 251
        }
      ]
    },
    {
      "cell_type": "code",
      "source": [
        "imputer = KNNImputer(n_neighbors=2)\n",
        "imputer"
      ],
      "metadata": {
        "colab": {
          "base_uri": "https://localhost:8080/"
        },
        "id": "YF7PR-KcdB18",
        "outputId": "c372cb17-f656-4094-f925-6a6a86c1f1fd"
      },
      "execution_count": 252,
      "outputs": [
        {
          "output_type": "execute_result",
          "data": {
            "text/plain": [
              "KNNImputer(n_neighbors=2)"
            ]
          },
          "metadata": {},
          "execution_count": 252
        }
      ]
    },
    {
      "cell_type": "code",
      "source": [
        "imputer.fit_transform(X)\n"
      ],
      "metadata": {
        "colab": {
          "base_uri": "https://localhost:8080/"
        },
        "id": "M2FbMtNWdJEe",
        "outputId": "2426a8b8-3b35-4129-8f3b-93577a7c0e37"
      },
      "execution_count": 253,
      "outputs": [
        {
          "output_type": "execute_result",
          "data": {
            "text/plain": [
              "array([[1. , 2. , 4. ],\n",
              "       [3. , 4. , 3. ],\n",
              "       [5.5, 6. , 5. ],\n",
              "       [8. , 8. , 7. ]])"
            ]
          },
          "metadata": {},
          "execution_count": 253
        }
      ]
    }
  ],
  "metadata": {
    "colab": {
      "collapsed_sections": [],
      "name": "03 - NumPy (Ejercicios).ipynb",
      "provenance": []
    },
    "kernelspec": {
      "display_name": "Python 3",
      "language": "python",
      "name": "python3"
    },
    "language_info": {
      "codemirror_mode": {
        "name": "ipython",
        "version": 3
      },
      "file_extension": ".py",
      "mimetype": "text/x-python",
      "name": "python",
      "nbconvert_exporter": "python",
      "pygments_lexer": "ipython3",
      "version": "3.7.3"
    }
  },
  "nbformat": 4,
  "nbformat_minor": 0
}